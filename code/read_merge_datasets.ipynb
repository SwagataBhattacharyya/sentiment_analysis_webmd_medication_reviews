{
 "cells": [
  {
   "cell_type": "code",
   "execution_count": 1,
   "metadata": {},
   "outputs": [
    {
     "name": "stdout",
     "output_type": "stream",
     "text": [
      "c:\\Users\\Public\\Data\\Projects\\webmdreviews\\code\n",
      "['../data/datasets\\\\conjunctivitis_reviews.csv', '../data/datasets\\\\dermatitis_reviews.csv', '../data/datasets\\\\gcancer_reviews.csv', '../data/datasets\\\\hypertension_drug_webmd_reviews.csv', '../data/datasets\\\\psychiatric_drug_webmd_reviews.csv', '../data/datasets\\\\t1diabetes_reviews.csv', '../data/datasets\\\\t2diabetes_reviews.csv']\n",
      "../data/datasets\\conjunctivitis_reviews.csv\n",
      "../data/datasets\\dermatitis_reviews.csv\n",
      "../data/datasets\\gcancer_reviews.csv\n",
      "../data/datasets\\hypertension_drug_webmd_reviews.csv\n",
      "../data/datasets\\psychiatric_drug_webmd_reviews.csv\n",
      "../data/datasets\\t1diabetes_reviews.csv\n",
      "../data/datasets\\t2diabetes_reviews.csv\n"
     ]
    },
    {
     "data": {
      "text/plain": [
       "(116979, 13)"
      ]
     },
     "execution_count": 1,
     "metadata": {},
     "output_type": "execute_result"
    }
   ],
   "source": [
    "import pandas as pd\n",
    "import glob\n",
    "import os\n",
    "\n",
    "\n",
    "print(os.getcwd())\n",
    "os.chdir(os.getcwd())\n",
    "# Get a list of all CSV files in a directory\n",
    "csv_files = glob.glob('../data/datasets/*.csv')\n",
    "print(csv_files)\n",
    "\n",
    "# Create an empty dataframe to store the combined data\n",
    "combined_df = pd.DataFrame()\n",
    "\n",
    "# Loop through each CSV file and append its contents to the combined dataframe\n",
    "for csv_file in csv_files:\n",
    "    print(csv_file)\n",
    "    df = pd.read_csv(csv_file)\n",
    "    combined_df = pd.concat([combined_df,df])\n",
    "\n",
    "combined_df.shape"
   ]
  },
  {
   "cell_type": "code",
   "execution_count": 4,
   "metadata": {},
   "outputs": [
    {
     "name": "stdout",
     "output_type": "stream",
     "text": [
      "(8011, 14)\n",
      "(8011, 12)\n"
     ]
    }
   ],
   "source": [
    "import numpy as np\n",
    "#remove duplicate rows\n",
    "deduplicated_data = combined_df.drop_duplicates(subset=['drug_name',  'age', 'gender', 'time_on_drug',\n",
    "       'reviewer_type', 'condition', 'rating_overall', 'rating_effectiveness',\n",
    "       'rating_ease_of_use', 'rating_satisfaction', 'text'])\n",
    "deduplicated_data = deduplicated_data.reset_index() #removes grouping\n",
    "deduplicated_data.to_csv('../data/multiple_deduplicated.csv')\n",
    "\n",
    "dat=deduplicated_data\n",
    "print(dat.shape)\n",
    "\n",
    "# Replace Blank values with DataFrame.replace() methods.\n",
    "#dat = dat.replace(r'^\\s*$', np.nan, regex=True)\n",
    "dat.fillna('',inplace=True)\n",
    "dat = dat.drop(['index', 'Unnamed: 0'], axis= 1) \n",
    "print(dat.shape)\n",
    "dat = dat.reset_index(drop=True) \n",
    "\n",
    "dat.to_csv('../data/data_reviews.csv')"
   ]
  }
 ],
 "metadata": {
  "kernelspec": {
   "display_name": "rioxarray_env",
   "language": "python",
   "name": "python3"
  },
  "language_info": {
   "codemirror_mode": {
    "name": "ipython",
    "version": 3
   },
   "file_extension": ".py",
   "mimetype": "text/x-python",
   "name": "python",
   "nbconvert_exporter": "python",
   "pygments_lexer": "ipython3",
   "version": "3.9.18"
  }
 },
 "nbformat": 4,
 "nbformat_minor": 2
}
