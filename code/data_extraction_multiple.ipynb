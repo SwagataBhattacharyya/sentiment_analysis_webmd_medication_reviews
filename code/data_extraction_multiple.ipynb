{
 "cells": [
  {
   "cell_type": "markdown",
   "metadata": {},
   "source": [
    "Medication reviews extracted from webmd for diabetes type 2 mellitus.\n",
    "\n",
    "Source code applied to extract reviews from web.MD: 'https://github.com/sepidehparhami/scraping-webmd-drug-reviews/tree/main'. "
   ]
  },
  {
   "cell_type": "code",
   "execution_count": 15,
   "metadata": {},
   "outputs": [
    {
     "data": {
      "text/plain": [
       "array(['https://reviews.webmd.com/drugs/drugreview-10094-glipizide',\n",
       "       'https://reviews.webmd.com/drugs/drugreview-10094-glipizide-er',\n",
       "       'https://reviews.webmd.com/drugs/drugreview-10095-glucotrol-xl',\n",
       "       'https://reviews.webmd.com/drugs/drugreview-10326-triamterene',\n",
       "       'https://reviews.webmd.com/drugs/drugreview-10404-propranolol-capsule-24-hr-capsule-er-hr',\n",
       "       'https://reviews.webmd.com/drugs/drugreview-10404-propranolol-hcl',\n",
       "       'https://reviews.webmd.com/drugs/drugreview-10404-propranolol-hcl-er',\n",
       "       'https://reviews.webmd.com/drugs/drugreview-10404-propranolol-solution',\n",
       "       'https://reviews.webmd.com/drugs/drugreview-10461-pronol-tablet',\n",
       "       'https://reviews.webmd.com/drugs/drugreview-10482-calan-tablet',\n",
       "       'https://reviews.webmd.com/drugs/drugreview-10671-guanethidine-tablet',\n",
       "       'https://reviews.webmd.com/drugs/drugreview-11035-atenolol',\n",
       "       'https://reviews.webmd.com/drugs/drugreview-11063-methyldopate-hcl-vial',\n",
       "       'https://reviews.webmd.com/drugs/drugreview-11086-ismelin-tablet',\n",
       "       'https://reviews.webmd.com/drugs/drugreview-11125-procardia-xl',\n",
       "       'https://reviews.webmd.com/drugs/drugreview-11207-metoprolol-tartrate',\n",
       "       'https://reviews.webmd.com/drugs/drugreview-11247-perindopril-erbumine',\n",
       "       'https://reviews.webmd.com/drugs/drugreview-11285-metformin-hcl',\n",
       "       'https://reviews.webmd.com/drugs/drugreview-11285-metformin-hcl-er',\n",
       "       'https://reviews.webmd.com/drugs/drugreview-11285-metformin-hcl-solution',\n",
       "       'https://reviews.webmd.com/drugs/drugreview-11285-metformin-suspension-er-reconstituted-suspension-reconstituted',\n",
       "       'https://reviews.webmd.com/drugs/drugreview-11294-glucophage-tablet',\n",
       "       'https://reviews.webmd.com/drugs/drugreview-11441-univasc-tablet',\n",
       "       'https://reviews.webmd.com/drugs/drugreview-11442-moexipril-hcl',\n",
       "       'https://reviews.webmd.com/drugs/drugreview-11481-amiloride-hcl',\n",
       "       'https://reviews.webmd.com/drugs/drugreview-11524-amlodipine-besylate-benazepril',\n",
       "       'https://reviews.webmd.com/drugs/drugreview-11528-cozaar',\n",
       "       'https://reviews.webmd.com/drugs/drugreview-11578-propranolol-hcl-cr-capsule-er',\n",
       "       'https://reviews.webmd.com/drugs/drugreview-11668-dymelor-tablet',\n",
       "       'https://reviews.webmd.com/drugs/drugreview-11754-clonidine-hcl',\n",
       "       'https://reviews.webmd.com/drugs/drugreview-11754-clonidine-hcl-er',\n",
       "       'https://reviews.webmd.com/drugs/drugreview-11754-clonidine-hcl-er-tablet-24-hr',\n",
       "       'https://reviews.webmd.com/drugs/drugreview-11755-nadolol',\n",
       "       'https://reviews.webmd.com/drugs/drugreview-11773-glucotrol',\n",
       "       'https://reviews.webmd.com/drugs/drugreview-11926-insulin-reg-human-buffered-solution',\n",
       "       'https://reviews.webmd.com/drugs/drugreview-11965-insulin-regular-beef-pork-solution',\n",
       "       'https://reviews.webmd.com/drugs/drugreview-11967-insulin-zinc-beef-pork-suspension',\n",
       "       'https://reviews.webmd.com/drugs/drugreview-11968-iletin-i-lente-suspension',\n",
       "       'https://reviews.webmd.com/drugs/drugreview-11969-iletin-i-regular-solution',\n",
       "       'https://reviews.webmd.com/drugs/drugreview-11970-iletin-ii-lente-pork-suspension',\n",
       "       'https://reviews.webmd.com/drugs/drugreview-11971-insulin-purified-nph-pork-suspension',\n",
       "       'https://reviews.webmd.com/drugs/drugreview-11981-insulin-regular-pork-solution',\n",
       "       'https://reviews.webmd.com/drugs/drugreview-11982-iletin-ii-regular-pork-solution',\n",
       "       'https://reviews.webmd.com/drugs/drugreview-12067-nisoldipine',\n",
       "       'https://reviews.webmd.com/drugs/drugreview-12067-nisoldipine-tablet-er-24-hr',\n",
       "       'https://reviews.webmd.com/drugs/drugreview-12134-sular',\n",
       "       'https://reviews.webmd.com/drugs/drugreview-12134-sular-tablet-er-24-hr',\n",
       "       'https://reviews.webmd.com/drugs/drugreview-12271-glimepiride',\n",
       "       'https://reviews.webmd.com/drugs/drugreview-12297-amaryl',\n",
       "       'https://reviews.webmd.com/drugs/drugreview-12360-indapamide',\n",
       "       'https://reviews.webmd.com/drugs/drugreview-12430-trandolapril',\n",
       "       'https://reviews.webmd.com/drugs/drugreview-12566-mavik-tablet',\n",
       "       'https://reviews.webmd.com/drugs/drugreview-1284-miglitol',\n",
       "       'https://reviews.webmd.com/drugs/drugreview-134-senormin-tablet',\n",
       "       'https://reviews.webmd.com/drugs/drugreview-13774-covera-hs-tablet-er-24-hr',\n",
       "       'https://reviews.webmd.com/drugs/drugreview-13818-humalog-cartridge',\n",
       "       'https://reviews.webmd.com/drugs/drugreview-14061-cardene-capsule',\n",
       "       'https://reviews.webmd.com/drugs/drugreview-14206-bisoprolol-fumarate',\n",
       "       'https://reviews.webmd.com/drugs/drugreview-14207-torsemide-solution',\n",
       "       'https://reviews.webmd.com/drugs/drugreview-14219-thsc-hydrochlorothiazide-tablet',\n",
       "       'https://reviews.webmd.com/drugs/drugreview-14222-thsc-atenolol-tablet',\n",
       "       'https://reviews.webmd.com/drugs/drugreview-14225-thsc-propranolol-hcl-tablet',\n",
       "       'https://reviews.webmd.com/drugs/drugreview-14228-thsc-glyburide-tablet',\n",
       "       'https://reviews.webmd.com/drugs/drugreview-14230-thsc-nifedipine-cr-tablet-er',\n",
       "       'https://reviews.webmd.com/drugs/drugreview-14233-thsc-furosemide-tablet',\n",
       "       'https://reviews.webmd.com/drugs/drugreview-14239-thsc-verapamil-hcl-cr-tablet-er',\n",
       "       'https://reviews.webmd.com/drugs/drugreview-14240-thsc-lisinopril-tablet',\n",
       "       'https://reviews.webmd.com/drugs/drugreview-14244-thsc-captopril-tablet',\n",
       "       'https://reviews.webmd.com/drugs/drugreview-14251-thsc-metoprolol-tartrate-tablet',\n",
       "       'https://reviews.webmd.com/drugs/drugreview-14338-trandolapril-verapamil-er',\n",
       "       'https://reviews.webmd.com/drugs/drugreview-14352-acetohexamide-tablet',\n",
       "       'https://reviews.webmd.com/drugs/drugreview-14386-pindolol',\n",
       "       'https://reviews.webmd.com/drugs/drugreview-144565-insulin-combo-pack-combination-package',\n",
       "       'https://reviews.webmd.com/drugs/drugreview-144567-insulin-kit-inhaler',\n",
       "       'https://reviews.webmd.com/drugs/drugreview-144581-exubera-kit-inhaler',\n",
       "       'https://reviews.webmd.com/drugs/drugreview-144582-exubera-combination-pack-15-package',\n",
       "       'https://reviews.webmd.com/drugs/drugreview-144583-exubera-combination-pack-12-package',\n",
       "       'https://reviews.webmd.com/drugs/drugreview-14461-humulin-l-suspension',\n",
       "       'https://reviews.webmd.com/drugs/drugreview-144868-glumetza',\n",
       "       'https://reviews.webmd.com/drugs/drugreview-144978-pioglitazone-glimepiride',\n",
       "       'https://reviews.webmd.com/drugs/drugreview-144983-duetact',\n",
       "       'https://reviews.webmd.com/drugs/drugreview-14536-insulin-regular-human-pen',\n",
       "       'https://reviews.webmd.com/drugs/drugreview-145697-sitagliptin-phosphate-tablet',\n",
       "       'https://reviews.webmd.com/drugs/drugreview-145704-januvia',\n",
       "       'https://reviews.webmd.com/drugs/drugreview-14575-bumetanide',\n",
       "       'https://reviews.webmd.com/drugs/drugreview-14592-propranolol-hcl-intensol-drops',\n",
       "       'https://reviews.webmd.com/drugs/drugreview-14634-microzide-capsule',\n",
       "       'https://reviews.webmd.com/drugs/drugreview-1468-novolin-70-30-vial',\n",
       "       'https://reviews.webmd.com/drugs/drugreview-1469-novolin-l-semi-synthetic-suspension',\n",
       "       'https://reviews.webmd.com/drugs/drugreview-1470-novolin-n-semi-synthetic-suspension',\n",
       "       'https://reviews.webmd.com/drugs/drugreview-1471-novolin-r-vial',\n",
       "       'https://reviews.webmd.com/drugs/drugreview-14750-enalapril-maleate-felodipine-tablet-er',\n",
       "       'https://reviews.webmd.com/drugs/drugreview-147671-aliskiren',\n",
       "       'https://reviews.webmd.com/drugs/drugreview-147683-tekturna',\n",
       "       'https://reviews.webmd.com/drugs/drugreview-147838-exubera-patient-pack-combination-package',\n",
       "       'https://reviews.webmd.com/drugs/drugreview-14797-cam-ap-es-tablet',\n",
       "       'https://reviews.webmd.com/drugs/drugreview-148063-sitagliptin-phos-metformin-tablet',\n",
       "       'https://reviews.webmd.com/drugs/drugreview-148063-sitagliptin-phos-metformin-tablet-multiphase-24-hr-tablet-er-hr',\n",
       "       'https://reviews.webmd.com/drugs/drugreview-148074-janumet',\n",
       "       'https://reviews.webmd.com/drugs/drugreview-14850-humulin-50-50-suspension',\n",
       "       'https://reviews.webmd.com/drugs/drugreview-14851-hydrap-es-tablet',\n",
       "       'https://reviews.webmd.com/drugs/drugreview-148561-amlodipine-valsartan',\n",
       "       'https://reviews.webmd.com/drugs/drugreview-148564-exforge',\n",
       "       'https://reviews.webmd.com/drugs/drugreview-148652-lantus-solostar-insulin-pen',\n",
       "       'https://reviews.webmd.com/drugs/drugreview-148915-naldol-tablet',\n",
       "       'https://reviews.webmd.com/drugs/drugreview-14916-serpazide-tablet',\n",
       "       'https://reviews.webmd.com/drugs/drugreview-149214-amlodipine-olmesartan',\n",
       "       'https://reviews.webmd.com/drugs/drugreview-149217-azor',\n",
       "       'https://reviews.webmd.com/drugs/drugreview-1494-cardizem-cd',\n",
       "       'https://reviews.webmd.com/drugs/drugreview-14942-uni-serp-tablet',\n",
       "       'https://reviews.webmd.com/drugs/drugreview-1495-dilacor-xr-capsule-er',\n",
       "       'https://reviews.webmd.com/drugs/drugreview-14968-3h-w-r-tablet',\n",
       "       'https://reviews.webmd.com/drugs/drugreview-14977-hyserp-tablet',\n",
       "       'https://reviews.webmd.com/drugs/drugreview-149828-humalog-kwikpen-u-100-insulin-pen',\n",
       "       'https://reviews.webmd.com/drugs/drugreview-149829-humalog-mix-75-25-kwikpen-insulin-pen',\n",
       "       'https://reviews.webmd.com/drugs/drugreview-149830-humalog-mix-50-50-kwikpen-insulin-pen',\n",
       "       'https://reviews.webmd.com/drugs/drugreview-149866-nebivolol-hcl',\n",
       "       'https://reviews.webmd.com/drugs/drugreview-149883-bystolic',\n",
       "       'https://reviews.webmd.com/drugs/drugreview-149962-aliskiren-hydrochlorothiazide-tablet',\n",
       "       'https://reviews.webmd.com/drugs/drugreview-149976-tekturna-hct',\n",
       "       'https://reviews.webmd.com/drugs/drugreview-1504-tiazac',\n",
       "       'https://reviews.webmd.com/drugs/drugreview-151192-cleviprex-vial',\n",
       "       'https://reviews.webmd.com/drugs/drugreview-151643-repaglinide-metformin-tablet',\n",
       "       'https://reviews.webmd.com/drugs/drugreview-151644-prandimet-tablet',\n",
       "       'https://reviews.webmd.com/drugs/drugreview-152040-apidra-solostar-insulin-pen',\n",
       "       'https://reviews.webmd.com/drugs/drugreview-152357-amlodipine-valsartan-hctz',\n",
       "       'https://reviews.webmd.com/drugs/drugreview-152359-exforge-hct',\n",
       "       'https://reviews.webmd.com/drugs/drugreview-152751-saxagliptin-hcl',\n",
       "       'https://reviews.webmd.com/drugs/drugreview-152753-onglyza',\n",
       "       'https://reviews.webmd.com/drugs/drugreview-153008-aliskiren-valsartan-tablet',\n",
       "       'https://reviews.webmd.com/drugs/drugreview-153012-valturna-tablet',\n",
       "       'https://reviews.webmd.com/drugs/drugreview-153181-telmisartan-amlodipine',\n",
       "       'https://reviews.webmd.com/drugs/drugreview-153194-twynsta-tablet',\n",
       "       'https://reviews.webmd.com/drugs/drugreview-153566-liraglutide-pen-injector',\n",
       "       'https://reviews.webmd.com/drugs/drugreview-153568-victoza-pen-injector',\n",
       "       'https://reviews.webmd.com/drugs/drugreview-154175-actoplus-met-xr-tablet-multiphase-24-hr-tablet-er-hr',\n",
       "       'https://reviews.webmd.com/drugs/drugreview-154436-olmesartan-amlodipine-hctz',\n",
       "       'https://reviews.webmd.com/drugs/drugreview-154439-tribenzor',\n",
       "       'https://reviews.webmd.com/drugs/drugreview-154589-aliskiren-amlodipine-tablet',\n",
       "       'https://reviews.webmd.com/drugs/drugreview-154590-tekamlo-tablet',\n",
       "       'https://reviews.webmd.com/drugs/drugreview-154914-saxagliptin-metformin-er',\n",
       "       'https://reviews.webmd.com/drugs/drugreview-154922-kombiglyze-xr',\n",
       "       'https://reviews.webmd.com/drugs/drugreview-155005-novolog-penfill-cartridge',\n",
       "       'https://reviews.webmd.com/drugs/drugreview-155068-matzim-la-tablet-er-24-hr',\n",
       "       'https://reviews.webmd.com/drugs/drugreview-155086-kapvay',\n",
       "       'https://reviews.webmd.com/drugs/drugreview-155114-nexiclon-xr',\n",
       "       'https://reviews.webmd.com/drugs/drugreview-155198-aliskiren-amlodipin-hcthiazide-tablet',\n",
       "       'https://reviews.webmd.com/drugs/drugreview-155202-amturnide-tablet',\n",
       "       'https://reviews.webmd.com/drugs/drugreview-155740-matzim-la',\n",
       "       'https://reviews.webmd.com/drugs/drugreview-155816-linagliptin-tablet',\n",
       "       'https://reviews.webmd.com/drugs/drugreview-155820-tradjenta',\n",
       "       'https://reviews.webmd.com/drugs/drugreview-15620-ser-a-gen-tablet',\n",
       "       'https://reviews.webmd.com/drugs/drugreview-15632-tri-hydroserpine-tablet',\n",
       "       'https://reviews.webmd.com/drugs/drugreview-15636-hyzaar',\n",
       "       'https://reviews.webmd.com/drugs/drugreview-15679-aldoril-d30-tablet',\n",
       "       'https://reviews.webmd.com/drugs/drugreview-15680-combipres-2-tablet',\n",
       "       'https://reviews.webmd.com/drugs/drugreview-15681-combipres-3-tablet',\n",
       "       'https://reviews.webmd.com/drugs/drugreview-15682-aldoril-d50-tablet',\n",
       "       'https://reviews.webmd.com/drugs/drugreview-15764-aldoril-25-tablet',\n",
       "       'https://reviews.webmd.com/drugs/drugreview-157670-sitagliptin-phos-simvastatin-tablet',\n",
       "       'https://reviews.webmd.com/drugs/drugreview-157671-juvisync-tablet',\n",
       "       'https://reviews.webmd.com/drugs/drugreview-157991-perindopril-arginin-amlodipine-tablet',\n",
       "       'https://reviews.webmd.com/drugs/drugreview-159107-metoprolol-su-hydrochlorothiaz-tablet-er-24-hr',\n",
       "       'https://reviews.webmd.com/drugs/drugreview-159118-dutoprol',\n",
       "       'https://reviews.webmd.com/drugs/drugreview-159143-azilsartan-med-chlorthalidone-tablet',\n",
       "       'https://reviews.webmd.com/drugs/drugreview-159144-edarbyclor',\n",
       "       'https://reviews.webmd.com/drugs/drugreview-159402-exenatide-microspheres-suspension-er-reconstituted-suspension-reconstituted',\n",
       "       'https://reviews.webmd.com/drugs/drugreview-159405-bydureon-pen-injector',\n",
       "       'https://reviews.webmd.com/drugs/drugreview-159426-linagliptin-metformin-tablet',\n",
       "       'https://reviews.webmd.com/drugs/drugreview-159426-linagliptin-metformin-tablet-immediate-release-and-er-biphasic-24hr-tablet-immed-ext-release-biphasic-24hr',\n",
       "       'https://reviews.webmd.com/drugs/drugreview-159449-jentadueto',\n",
       "       'https://reviews.webmd.com/drugs/drugreview-159466-janumet-xr',\n",
       "       'https://reviews.webmd.com/drugs/drugreview-16047-maxzide-25-mg',\n",
       "       'https://reviews.webmd.com/drugs/drugreview-16147-lexxel-tablet-er',\n",
       "       'https://reviews.webmd.com/drugs/drugreview-161550-nicardipine-in-5-dextrose-solution',\n",
       "       'https://reviews.webmd.com/drugs/drugreview-16164-aldoclor-tablet',\n",
       "       'https://reviews.webmd.com/drugs/drugreview-16165-prinzide-tablet',\n",
       "       'https://reviews.webmd.com/drugs/drugreview-16167-l-dopres-hydrochlorothiazide-tablet',\n",
       "       'https://reviews.webmd.com/drugs/drugreview-16168-minizide-capsule',\n",
       "       'https://reviews.webmd.com/drugs/drugreview-16169-lotensin-hct',\n",
       "       'https://reviews.webmd.com/drugs/drugreview-16188-lotrel',\n",
       "       'https://reviews.webmd.com/drugs/drugreview-16200-ziac',\n",
       "       'https://reviews.webmd.com/drugs/drugreview-162073-kapvay-dose-pack-tablet-er-tablet-pack',\n",
       "       'https://reviews.webmd.com/drugs/drugreview-16209-tarka',\n",
       "       'https://reviews.webmd.com/drugs/drugreview-16214-tenoretic-50',\n",
       "       'https://reviews.webmd.com/drugs/drugreview-163054-victoza-2-pak-pen-injector',\n",
       "       'https://reviews.webmd.com/drugs/drugreview-163392-alogliptin',\n",
       "       'https://reviews.webmd.com/drugs/drugreview-163393-alogliptin-pioglitazone',\n",
       "       'https://reviews.webmd.com/drugs/drugreview-163394-alogliptin-metformin',\n",
       "       'https://reviews.webmd.com/drugs/drugreview-163396-kazano',\n",
       "       'https://reviews.webmd.com/drugs/drugreview-163399-nesina',\n",
       "       'https://reviews.webmd.com/drugs/drugreview-1634-coreg',\n",
       "       'https://reviews.webmd.com/drugs/drugreview-163400-oseni',\n",
       "       'https://reviews.webmd.com/drugs/drugreview-163872-canagliflozin-tablet',\n",
       "       'https://reviews.webmd.com/drugs/drugreview-163874-invokana',\n",
       "       'https://reviews.webmd.com/drugs/drugreview-164098-vecamyl',\n",
       "       'https://reviews.webmd.com/drugs/drugreview-164535-victoza-3-pak-pen-injector',\n",
       "       'https://reviews.webmd.com/drugs/drugreview-164719-novolin-r-penfill-semi-synth-cartridge',\n",
       "       'https://reviews.webmd.com/drugs/drugreview-164927-epaned',\n",
       "       'https://reviews.webmd.com/drugs/drugreview-165589-insulin-degludec-pen-u-200',\n",
       "       'https://reviews.webmd.com/drugs/drugreview-165640-dapagliflozin',\n",
       "       'https://reviews.webmd.com/drugs/drugreview-165641-farxiga',\n",
       "       'https://reviews.webmd.com/drugs/drugreview-165658-humulin-70-30-kwikpen-insulin-pen',\n",
       "       'https://reviews.webmd.com/drugs/drugreview-165659-humulin-n-kwikpen-insulin-pen',\n",
       "       'https://reviews.webmd.com/drugs/drugreview-165673-cardene-i-v-solution-piggyback',\n",
       "       'https://reviews.webmd.com/drugs/drugreview-165806-inderal-xl',\n",
       "       'https://reviews.webmd.com/drugs/drugreview-16595-atacand',\n",
       "       'https://reviews.webmd.com/drugs/drugreview-165976-lixisenatide-pen-injector',\n",
       "       'https://reviews.webmd.com/drugs/drugreview-166327-levemir-flextouch-insulin-pen',\n",
       "       'https://reviews.webmd.com/drugs/drugreview-166372-albiglutide-pen-injector',\n",
       "       'https://reviews.webmd.com/drugs/drugreview-166388-tanzeum-pen-injector',\n",
       "       'https://reviews.webmd.com/drugs/drugreview-166761-empagliflozin-tablet',\n",
       "       'https://reviews.webmd.com/drugs/drugreview-166762-jardiance',\n",
       "       'https://reviews.webmd.com/drugs/drugreview-166778-canagliflozin-metformin-tablet',\n",
       "       'https://reviews.webmd.com/drugs/drugreview-166778-canagliflozin-metformin-tablet-immediate-release-and-er-biphasic-24hr-tablet-immed-ext-release-biphasic-24hr',\n",
       "       'https://reviews.webmd.com/drugs/drugreview-166783-invokamet',\n",
       "       'https://reviews.webmd.com/drugs/drugreview-167024-dulaglutide-pen-injector',\n",
       "       'https://reviews.webmd.com/drugs/drugreview-167025-trulicity-pen-injector',\n",
       "       'https://reviews.webmd.com/drugs/drugreview-167198-dapagliflozin-metformin-er',\n",
       "       'https://reviews.webmd.com/drugs/drugreview-167199-xigduo-xr',\n",
       "       'https://reviews.webmd.com/drugs/drugreview-167500-afrezza-cartridge-with-inhaler',\n",
       "       'https://reviews.webmd.com/drugs/drugreview-167707-empagliflozin-linagliptin-tablet',\n",
       "       'https://reviews.webmd.com/drugs/drugreview-167715-glyxambi',\n",
       "       'https://reviews.webmd.com/drugs/drugreview-167874-toujeo-solostar-insulin-pen',\n",
       "       'https://reviews.webmd.com/drugs/drugreview-168-verapamil-hcl-cr-capsule-24-hr-capsule-er-hr',\n",
       "       'https://reviews.webmd.com/drugs/drugreview-168-verapamil-hcl-cr-tablet-er',\n",
       "       'https://reviews.webmd.com/drugs/drugreview-16800-telmisartan',\n",
       "       'https://reviews.webmd.com/drugs/drugreview-16806-micardis',\n",
       "       'https://reviews.webmd.com/drugs/drugreview-16866-glyset-tablet',\n",
       "       'https://reviews.webmd.com/drugs/drugreview-16873-humulin-70-30-insulin-pen-syringe',\n",
       "       'https://reviews.webmd.com/drugs/drugreview-16874-humulin-n-pen-syringe',\n",
       "       'https://reviews.webmd.com/drugs/drugreview-16875-humalog-pen-insulin',\n",
       "       'https://reviews.webmd.com/drugs/drugreview-16875-humalog-pen-syringe',\n",
       "       'https://reviews.webmd.com/drugs/drugreview-169332-prestalia',\n",
       "       'https://reviews.webmd.com/drugs/drugreview-169671-empagliflozin-metformin-tablet',\n",
       "       'https://reviews.webmd.com/drugs/drugreview-169671-empagliflozin-metformin-tablet-immediate-release-and-er-biphasic-24hr-tablet-immed-ext-release-biphasic-24hr',\n",
       "       'https://reviews.webmd.com/drugs/drugreview-169678-synjardy',\n",
       "       'https://reviews.webmd.com/drugs/drugreview-16976-verelan-pm',\n",
       "       'https://reviews.webmd.com/drugs/drugreview-170029-tresiba-flextouch-u-100-insulin-pen',\n",
       "       'https://reviews.webmd.com/drugs/drugreview-170030-tresiba-flextouch-u-200-insulin-pen',\n",
       "       'https://reviews.webmd.com/drugs/drugreview-170716-basaglar-kwikpen-u-100-insulin-pen',\n",
       "       'https://reviews.webmd.com/drugs/drugreview-171994-nebivolol-valsartan-tablet',\n",
       "       'https://reviews.webmd.com/drugs/drugreview-17200-irbesartan-hydrochlorothiazide',\n",
       "       'https://reviews.webmd.com/drugs/drugreview-172005-jentadueto-xr',\n",
       "       'https://reviews.webmd.com/drugs/drugreview-17211-avalide',\n",
       "       'https://reviews.webmd.com/drugs/drugreview-172271-byvalson-tablet',\n",
       "       'https://reviews.webmd.com/drugs/drugreview-172307-qbrelis',\n",
       "       'https://reviews.webmd.com/drugs/drugreview-172573-invokamet-xr',\n",
       "       'https://reviews.webmd.com/drugs/drugreview-172910-insulin-degludec-liraglutide-pen',\n",
       "       'https://reviews.webmd.com/drugs/drugreview-172911-xultophy-100-3-6-insulin-pen',\n",
       "       'https://reviews.webmd.com/drugs/drugreview-172916-insulin-glargine-lixisenatide-pen',\n",
       "       'https://reviews.webmd.com/drugs/drugreview-17298-rosiglitazone-tablet',\n",
       "       'https://reviews.webmd.com/drugs/drugreview-172984-adlyxin-pen-injector',\n",
       "       'https://reviews.webmd.com/drugs/drugreview-172986-soliqua-100-33-insulin-pen',\n",
       "       'https://reviews.webmd.com/drugs/drugreview-17300-avandia',\n",
       "       'https://reviews.webmd.com/drugs/drugreview-17319-cartia-xt',\n",
       "       'https://reviews.webmd.com/drugs/drugreview-173266-insulin-aspart-niacinamide-cartridge',\n",
       "       'https://reviews.webmd.com/drugs/drugreview-173268-fiasp-vial',\n",
       "       'https://reviews.webmd.com/drugs/drugreview-173286-fiasp-flextouch-insulin-pen',\n",
       "       'https://reviews.webmd.com/drugs/drugreview-173287-fiasp-penfill-cartridge',\n",
       "       'https://reviews.webmd.com/drugs/drugreview-173353-dapagliflozin-saxagliptin-tablet',\n",
       "       'https://reviews.webmd.com/drugs/drugreview-17339-aceon-tablet',\n",
       "       'https://reviews.webmd.com/drugs/drugreview-173445-synjardy-xr',\n",
       "       'https://reviews.webmd.com/drugs/drugreview-17385-glycron-tablet',\n",
       "       'https://reviews.webmd.com/drugs/drugreview-174012-humalog-junior-kwikpen-insulin-pen-half-unit',\n",
       "       'https://reviews.webmd.com/drugs/drugreview-174059-carospir',\n",
       "       'https://reviews.webmd.com/drugs/drugreview-17406-pioglitazone-hcl',\n",
       "       'https://reviews.webmd.com/drugs/drugreview-17410-actos',\n",
       "       'https://reviews.webmd.com/drugs/drugreview-17424-insulin-lispro-protamine-mix-pen',\n",
       "       'https://reviews.webmd.com/drugs/drugreview-174355-qtern',\n",
       "       'https://reviews.webmd.com/drugs/drugreview-174375-bydureon-bcise-auto-injector',\n",
       "       'https://reviews.webmd.com/drugs/drugreview-174490-semaglutide-pen-injector',\n",
       "       'https://reviews.webmd.com/drugs/drugreview-174491-ozempic-pen-injector',\n",
       "       'https://reviews.webmd.com/drugs/drugreview-174564-ertugliflozin-sitagliptin-phos-tablet',\n",
       "       'https://reviews.webmd.com/drugs/drugreview-174571-ertugliflozin-tablet',\n",
       "       'https://reviews.webmd.com/drugs/drugreview-174575-admelog-vial',\n",
       "       'https://reviews.webmd.com/drugs/drugreview-174576-admelog-solostar-insulin-pen',\n",
       "       'https://reviews.webmd.com/drugs/drugreview-174582-ertugliflozin-metformin-tablet',\n",
       "       'https://reviews.webmd.com/drugs/drugreview-174602-steglatro',\n",
       "       'https://reviews.webmd.com/drugs/drugreview-174662-steglujan',\n",
       "       'https://reviews.webmd.com/drugs/drugreview-174733-segluromet',\n",
       "       'https://reviews.webmd.com/drugs/drugreview-175027-toujeo-max-solostar-insulin-pen',\n",
       "       'https://reviews.webmd.com/drugs/drugreview-17555-eprosartan-mesylate',\n",
       "       'https://reviews.webmd.com/drugs/drugreview-175675-kapspargo-sprinkle',\n",
       "       'https://reviews.webmd.com/drugs/drugreview-17572-teveten-tablet',\n",
       "       'https://reviews.webmd.com/drugs/drugreview-175773-insulin-glargine-solostar-pen',\n",
       "       'https://reviews.webmd.com/drugs/drugreview-176248-novolin-70-30-flexpen-insulin-pen',\n",
       "       'https://reviews.webmd.com/drugs/drugreview-176683-tresiba-vial',\n",
       "       'https://reviews.webmd.com/drugs/drugreview-17744-velosulin-br-solution',\n",
       "       'https://reviews.webmd.com/drugs/drugreview-17746-velosulin-br-rdna-solution',\n",
       "       'https://reviews.webmd.com/drugs/drugreview-177465-insulin-regular-in-0-9-nacl-solution',\n",
       "       'https://reviews.webmd.com/drugs/drugreview-177547-amlodipine-benzoate-suspension',\n",
       "       'https://reviews.webmd.com/drugs/drugreview-177569-katerzia',\n",
       "       'https://reviews.webmd.com/drugs/drugreview-177940-myxredlin-plastic-bag-injection',\n",
       "       'https://reviews.webmd.com/drugs/drugreview-178018-semaglutide-tablet',\n",
       "       'https://reviews.webmd.com/drugs/drugreview-178019-rybelsus',\n",
       "       'https://reviews.webmd.com/drugs/drugreview-178341-tiadylt-er',\n",
       "       'https://reviews.webmd.com/drugs/drugreview-178494-novolin-n-flexpen-insulin-pen',\n",
       "       'https://reviews.webmd.com/drugs/drugreview-1785-corgard',\n",
       "       'https://reviews.webmd.com/drugs/drugreview-178502-novolin-r-flexpen-insulin-pen',\n",
       "       'https://reviews.webmd.com/drugs/drugreview-178575-levamlodipine-maleate',\n",
       "       'https://reviews.webmd.com/drugs/drugreview-178652-riomet-er',\n",
       "       'https://reviews.webmd.com/drugs/drugreview-178777-empaglifloz-linaglip-metformin-tablet-immediate-release-and-er-biphasic-24hr-tablet-immed-ext-release-biphasic-24hr',\n",
       "       'https://reviews.webmd.com/drugs/drugreview-178887-semglee-vial',\n",
       "       'https://reviews.webmd.com/drugs/drugreview-1789-diabinese-tablet',\n",
       "       'https://reviews.webmd.com/drugs/drugreview-178950-trijardy-xr',\n",
       "       'https://reviews.webmd.com/drugs/drugreview-179541-insulin-lispro-aabc-solution',\n",
       "       'https://reviews.webmd.com/drugs/drugreview-179553-lyumjev-vial',\n",
       "       'https://reviews.webmd.com/drugs/drugreview-179554-lyumjev-kwikpen-u-100-insulin-pen',\n",
       "       'https://reviews.webmd.com/drugs/drugreview-179555-lyumjev-kwikpen-u-200-insulin-pen',\n",
       "       'https://reviews.webmd.com/drugs/drugreview-180007-semglee-pen-insulin',\n",
       "       'https://reviews.webmd.com/drugs/drugreview-180121-conjupri',\n",
       "       'https://reviews.webmd.com/drugs/drugreview-180390-labetalol-hcl-nacl-plastic-bag-injection',\n",
       "       'https://reviews.webmd.com/drugs/drugreview-180397-labetalol-hcl-dextrose-plastic-bag-injection',\n",
       "       'https://reviews.webmd.com/drugs/drugreview-1806-dynacirc-capsule',\n",
       "       'https://reviews.webmd.com/drugs/drugreview-1813-minipress',\n",
       "       'https://reviews.webmd.com/drugs/drugreview-181317-basaglar-tempo-pen-u-100-insulin-pen-sensor',\n",
       "       'https://reviews.webmd.com/drugs/drugreview-181342-humalog-tempo-pen-u-100-insulin-pen-sensor',\n",
       "       'https://reviews.webmd.com/drugs/drugreview-18136-monopril-hct-tablet',\n",
       "       'https://reviews.webmd.com/drugs/drugreview-1814-moduretic-tablet',\n",
       "       'https://reviews.webmd.com/drugs/drugreview-18141-accuretic',\n",
       "       'https://reviews.webmd.com/drugs/drugreview-18179-novolin-70-30-penfill-cartridge',\n",
       "       'https://reviews.webmd.com/drugs/drugreview-18180-novolin-n-penfill-cartridge',\n",
       "       'https://reviews.webmd.com/drugs/drugreview-18181-novolin-r-penfill-cartridge',\n",
       "       'https://reviews.webmd.com/drugs/drugreview-182013-insulin-glargine-yfgn-vial',\n",
       "       'https://reviews.webmd.com/drugs/drugreview-182372-semglee-yfgn-pen-insulin',\n",
       "       'https://reviews.webmd.com/drugs/drugreview-182373-semglee-yfgn-vial',\n",
       "       'https://reviews.webmd.com/drugs/drugreview-183194-insulin-glargine-aglr-pen',\n",
       "       'https://reviews.webmd.com/drugs/drugreview-183996-norliqva',\n",
       "       'https://reviews.webmd.com/drugs/drugreview-184157-tirzepatide-pen-injector',\n",
       "       'https://reviews.webmd.com/drugs/drugreview-184168-mounjaro-pen-injector',\n",
       "       'https://reviews.webmd.com/drugs/drugreview-185382-lyumjev-tempo-pen-u-100-insulin-pen-sensor',\n",
       "       'https://reviews.webmd.com/drugs/drugreview-185857-bexagliflozin',\n",
       "       'https://reviews.webmd.com/drugs/drugreview-186157-rezvoglar-kwikpen-insulin-pen',\n",
       "       'https://reviews.webmd.com/drugs/drugreview-187104-donislecel-jujn-suspension',\n",
       "       'https://reviews.webmd.com/drugs/drugreview-187319-brenzavvy',\n",
       "       'https://reviews.webmd.com/drugs/drugreview-187400-insulin-aspart-b3-pump-cart-cartridge',\n",
       "       'https://reviews.webmd.com/drugs/drugreview-187431-fiasp-pumpcart-cartridge',\n",
       "       'https://reviews.webmd.com/drugs/drugreview-187492-lantidra-plastic-bag',\n",
       "       'https://reviews.webmd.com/drugs/drugreview-187692-sitagliptin-tablet',\n",
       "       'https://reviews.webmd.com/drugs/drugreview-187793-tirzepatide-weight-loss-pen-injector',\n",
       "       'https://reviews.webmd.com/drugs/drugreview-187794-zepbound-pen-injector',\n",
       "       'https://reviews.webmd.com/drugs/drugreview-187968-zituvio',\n",
       "       'https://reviews.webmd.com/drugs/drugreview-19007-hydralazine-plus-50-50-capsule',\n",
       "       'https://reviews.webmd.com/drugs/drugreview-19036-hhr-tablet',\n",
       "       'https://reviews.webmd.com/drugs/drugreview-1909-amiloride-hydrochlorothiazide',\n",
       "       'https://reviews.webmd.com/drugs/drugreview-19158-ser-ap-es-tablet',\n",
       "       'https://reviews.webmd.com/drugs/drugreview-19345-diuretic-ap-es-tablet',\n",
       "       'https://reviews.webmd.com/drugs/drugreview-19479-inversine-tablet',\n",
       "       'https://reviews.webmd.com/drugs/drugreview-19480-mecamylamine-tablet',\n",
       "       'https://reviews.webmd.com/drugs/drugreview-1955-atenolol-chlorthalidone',\n",
       "       'https://reviews.webmd.com/drugs/drugreview-19751-nifedipine-cr-osmotic-tablet-push-tablet-er-push',\n",
       "       'https://reviews.webmd.com/drugs/drugreview-19784-diltiazem-cd-capsule-er',\n",
       "       'https://reviews.webmd.com/drugs/drugreview-19822-glucovance-tablet',\n",
       "       'https://reviews.webmd.com/drugs/drugreview-19823-glyburide-metformin-hcl',\n",
       "       'https://reviews.webmd.com/drugs/drugreview-19895-relion-n-innolet-suspension',\n",
       "       'https://reviews.webmd.com/drugs/drugreview-19896-relion-r-solution',\n",
       "       'https://reviews.webmd.com/drugs/drugreview-19897-insulin-70-30-suspension',\n",
       "       'https://reviews.webmd.com/drugs/drugreview-19953-candesartan-hydrochlorothiazid',\n",
       "       'https://reviews.webmd.com/drugs/drugreview-19955-bisoprolol-fumarate-hctz-tablet',\n",
       "       'https://reviews.webmd.com/drugs/drugreview-19957-atacand-hct',\n",
       "       'https://reviews.webmd.com/drugs/drugreview-20009-glucophage-xr-tablet-er-24-hr',\n",
       "       'https://reviews.webmd.com/drugs/drugreview-20224-humalog-mix-75-25-vial',\n",
       "       'https://reviews.webmd.com/drugs/drugreview-20226-nifedical-xl-tablet-er-24-hr',\n",
       "       'https://reviews.webmd.com/drugs/drugreview-20312-starlix',\n",
       "       'https://reviews.webmd.com/drugs/drugreview-20313-nateglinide',\n",
       "       'https://reviews.webmd.com/drugs/drugreview-20317-telmisartan-hydrochlorothiazid',\n",
       "       'https://reviews.webmd.com/drugs/drugreview-20318-micardis-hct',\n",
       "       'https://reviews.webmd.com/drugs/drugreview-2069-benazepril-hydrochlorothiazide',\n",
       "       'https://reviews.webmd.com/drugs/drugreview-2077-bisoprolol-hydrochlorothiazide',\n",
       "       'https://reviews.webmd.com/drugs/drugreview-20805-insulin-glargine-solostar-pen',\n",
       "       'https://reviews.webmd.com/drugs/drugreview-20815-lantus-vial',\n",
       "       'https://reviews.webmd.com/drugs/drugreview-20938-diltiazem-hcl-er-capsule-12-hr-capsule-hr',\n",
       "       'https://reviews.webmd.com/drugs/drugreview-21133-dilt-xr-capsule-degradable-capsule-er-degradable',\n",
       "       'https://reviews.webmd.com/drugs/drugreview-2119-captopril-hctz-tablet',\n",
       "       'https://reviews.webmd.com/drugs/drugreview-2123-cardene-i-v-ampul',\n",
       "       'https://reviews.webmd.com/drugs/drugreview-21422-spironolactone-hctz-tablet',\n",
       "       'https://reviews.webmd.com/drugs/drugreview-21774-insulin-aspart-penfill-cartridge',\n",
       "       'https://reviews.webmd.com/drugs/drugreview-21781-novolog-vial',\n",
       "       'https://reviews.webmd.com/drugs/drugreview-2228-clonidine-chlorthalidone-tablet',\n",
       "       'https://reviews.webmd.com/drugs/drugreview-2329-sodium-diuril-vial',\n",
       "       'https://reviews.webmd.com/drugs/drugreview-2352-dynacirc-cr-tablet-er-24-hr',\n",
       "       'https://reviews.webmd.com/drugs/drugreview-2359-enalapril-hydrochlorothiazide',\n",
       "       'https://reviews.webmd.com/drugs/drugreview-2447-fosinopril-hydrochlorothiazide',\n",
       "       'https://reviews.webmd.com/drugs/drugreview-2471-guanethidine-hydrochlorothiazd-tablet',\n",
       "       'https://reviews.webmd.com/drugs/drugreview-2519-hydralazine-hydrochlorothiazid-capsule',\n",
       "       'https://reviews.webmd.com/drugs/drugreview-2520-hydralazine-reserpin-hcthiazid-tablet',\n",
       "       'https://reviews.webmd.com/drugs/drugreview-2521-hydro-par-tablet',\n",
       "       'https://reviews.webmd.com/drugs/drugreview-2622-lisinopril-hydrochlorothiazide',\n",
       "       'https://reviews.webmd.com/drugs/drugreview-2626-losartan-hydrochlorothiazide',\n",
       "       'https://reviews.webmd.com/drugs/drugreview-2674-methyldopa-chlorothiazide-tablet',\n",
       "       'https://reviews.webmd.com/drugs/drugreview-2675-methyldopa-hydrochlorothiazide',\n",
       "       'https://reviews.webmd.com/drugs/drugreview-2676-metoprolol-hydrochlorothiazide',\n",
       "       'https://reviews.webmd.com/drugs/drugreview-2728-nadolol-bendroflumethiazide-tablet',\n",
       "       'https://reviews.webmd.com/drugs/drugreview-2906-prazosin-polythiazide-capsule',\n",
       "       'https://reviews.webmd.com/drugs/drugreview-2930-propranolol-hydrochlorothiazid',\n",
       "       'https://reviews.webmd.com/drugs/drugreview-3043-spironolactone-hctz',\n",
       "       'https://reviews.webmd.com/drugs/drugreview-3132-timolol-hydrochlorothiazide-tablet',\n",
       "       'https://reviews.webmd.com/drugs/drugreview-3154-triamterene-hydrochlorothiazid',\n",
       "       'https://reviews.webmd.com/drugs/drugreview-3340-vasotec',\n",
       "       'https://reviews.webmd.com/drugs/drugreview-3365-insulin-purified-regularpork-solution',\n",
       "       'https://reviews.webmd.com/drugs/drugreview-3448-humulin-70-30-vial',\n",
       "       'https://reviews.webmd.com/drugs/drugreview-3486-insulin-lispro-kwikpen-u-100-pen',\n",
       "       'https://reviews.webmd.com/drugs/drugreview-3517-quinapril-hydrochlorothiazide',\n",
       "       'https://reviews.webmd.com/drugs/drugreview-3710-cardura',\n",
       "       'https://reviews.webmd.com/drugs/drugreview-3750-doxazosin-mesylate',\n",
       "       'https://reviews.webmd.com/drugs/drugreview-3750-doxazosin-tablet-er-2-hr',\n",
       "       'https://reviews.webmd.com/drugs/drugreview-3773-diabeta-tablet',\n",
       "       'https://reviews.webmd.com/drugs/drugreview-3776-lasix',\n",
       "       'https://reviews.webmd.com/drugs/drugreview-3776-lasix-solution',\n",
       "       'https://reviews.webmd.com/drugs/drugreview-3783-diltiazem-12hr-er',\n",
       "       'https://reviews.webmd.com/drugs/drugreview-3783-diltiazem-24hr-er',\n",
       "       'https://reviews.webmd.com/drugs/drugreview-3783-diltiazem-24hr-er-cd',\n",
       "       'https://reviews.webmd.com/drugs/drugreview-3783-diltiazem-24hr-er-la',\n",
       "       'https://reviews.webmd.com/drugs/drugreview-3783-diltiazem-24hr-er-xr',\n",
       "       'https://reviews.webmd.com/drugs/drugreview-3783-diltiazem-hcl',\n",
       "       'https://reviews.webmd.com/drugs/drugreview-3917-glyburide',\n",
       "       'https://reviews.webmd.com/drugs/drugreview-3924-cardizem-sr-capsule-12-hr-capsule-er-hr',\n",
       "       'https://reviews.webmd.com/drugs/drugreview-3926-diltiazem-hcl-cr-capsule-12-hr-capsule-er-hr',\n",
       "       'https://reviews.webmd.com/drugs/drugreview-3926-diltiazem-hcl-cr-capsule-er',\n",
       "       'https://reviews.webmd.com/drugs/drugreview-3948-tolbutamide-tablet',\n",
       "       'https://reviews.webmd.com/drugs/drugreview-3951-chlorthalidone',\n",
       "       'https://reviews.webmd.com/drugs/drugreview-3971-accupril',\n",
       "       'https://reviews.webmd.com/drugs/drugreview-4030-moexipril-hydrochlorothiazide-tablet',\n",
       "       'https://reviews.webmd.com/drugs/drugreview-4365-acebutolol-hcl',\n",
       "       'https://reviews.webmd.com/drugs/drugreview-4477-uniretic-tablet',\n",
       "       'https://reviews.webmd.com/drugs/drugreview-4479-esimil-tablet',\n",
       "       'https://reviews.webmd.com/drugs/drugreview-4682-benazepril-hcl',\n",
       "       'https://reviews.webmd.com/drugs/drugreview-4760-diltia-xt-capsule-er',\n",
       "       'https://reviews.webmd.com/drugs/drugreview-4826-capoten-tablet',\n",
       "       'https://reviews.webmd.com/drugs/drugreview-4889-lopressor-hct-tablet',\n",
       "       'https://reviews.webmd.com/drugs/drugreview-494-inderal-la',\n",
       "       'https://reviews.webmd.com/drugs/drugreview-5029-bumex-tablet',\n",
       "       'https://reviews.webmd.com/drugs/drugreview-518-calan-sr',\n",
       "       'https://reviews.webmd.com/drugs/drugreview-520-isoptin-sr-tablet-er',\n",
       "       'https://reviews.webmd.com/drugs/drugreview-5205-glyburide-micronized',\n",
       "       'https://reviews.webmd.com/drugs/drugreview-5207-acarbose',\n",
       "       'https://reviews.webmd.com/drugs/drugreview-5218-humulin-r-vial',\n",
       "       'https://reviews.webmd.com/drugs/drugreview-5233-insulin-regular-human-solution',\n",
       "       'https://reviews.webmd.com/drugs/drugreview-5235-glynase',\n",
       "       'https://reviews.webmd.com/drugs/drugreview-5250-precose',\n",
       "       'https://reviews.webmd.com/drugs/drugreview-53435-velosulin-r-solution',\n",
       "       'https://reviews.webmd.com/drugs/drugreview-53436-insulin-r-purified-pork-solution',\n",
       "       'https://reviews.webmd.com/drugs/drugreview-53437-purified-pork-insulin-solution',\n",
       "       'https://reviews.webmd.com/drugs/drugreview-53438-insulin-regular-purified-pork-solution',\n",
       "       'https://reviews.webmd.com/drugs/drugreview-53439-iletin-ii-regularpork-solution',\n",
       "       'https://reviews.webmd.com/drugs/drugreview-53440-insulatard-n-suspension',\n",
       "       'https://reviews.webmd.com/drugs/drugreview-53441-insulin-n-purified-pork-suspension',\n",
       "       'https://reviews.webmd.com/drugs/drugreview-53442-insulin-nph-purified-pork-suspension',\n",
       "       'https://reviews.webmd.com/drugs/drugreview-53443-iletin-ii-regularpork-suspension',\n",
       "       'https://reviews.webmd.com/drugs/drugreview-53444-insulin-l-pork-purified-suspension',\n",
       "       'https://reviews.webmd.com/drugs/drugreview-53445-insulin-r-pork-purified-suspension',\n",
       "       'https://reviews.webmd.com/drugs/drugreview-53446-iletin-ii-nphpork-suspension',\n",
       "       'https://reviews.webmd.com/drugs/drugreview-53447-insulin-l-purified-pork-suspension',\n",
       "       'https://reviews.webmd.com/drugs/drugreview-53448-insulin-lente-purified-pork-suspension',\n",
       "       'https://reviews.webmd.com/drugs/drugreview-53449-velosulin-human-r-solution',\n",
       "       'https://reviews.webmd.com/drugs/drugreview-53450-velosulin-human-br-solution',\n",
       "       'https://reviews.webmd.com/drugs/drugreview-53451-velosulin-human-solution',\n",
       "       'https://reviews.webmd.com/drugs/drugreview-53452-humulin-br-solution',\n",
       "       'https://reviews.webmd.com/drugs/drugreview-53453-glucamide-tablet',\n",
       "       'https://reviews.webmd.com/drugs/drugreview-53454-dibatrol-tablet',\n",
       "       'https://reviews.webmd.com/drugs/drugreview-53455-chlorabetic-tablet',\n",
       "       'https://reviews.webmd.com/drugs/drugreview-53456-ronase-tablet',\n",
       "       'https://reviews.webmd.com/drugs/drugreview-53457-tolamide-tablet',\n",
       "       'https://reviews.webmd.com/drugs/drugreview-53458-sk-tolbutamide-tablet',\n",
       "       'https://reviews.webmd.com/drugs/drugreview-53459-icn-tolam-tablet',\n",
       "       'https://reviews.webmd.com/drugs/drugreview-53460-oribetic-tablet',\n",
       "       'https://reviews.webmd.com/drugs/drugreview-53558-procard-tablet',\n",
       "       'https://reviews.webmd.com/drugs/drugreview-53559-lorol-tablet',\n",
       "       'https://reviews.webmd.com/drugs/drugreview-53560-tenormin-calendar-pak-tablet',\n",
       "       'https://reviews.webmd.com/drugs/drugreview-53561-isoptin-s-r-tablet-er',\n",
       "       'https://reviews.webmd.com/drugs/drugreview-53587-catapres-tts-2-patch-weekly',\n",
       "       'https://reviews.webmd.com/drugs/drugreview-53588-catapres-tts-3-patch-weekly',\n",
       "       'https://reviews.webmd.com/drugs/drugreview-53589-aldomet-solution',\n",
       "       'https://reviews.webmd.com/drugs/drugreview-53590-aldomet-ester-hcl-injection-solution',\n",
       "       'https://reviews.webmd.com/drugs/drugreview-53591-ingadine-tablet',\n",
       "       'https://reviews.webmd.com/drugs/drugreview-53592-sandril-tablet',\n",
       "       'https://reviews.webmd.com/drugs/drugreview-53593-serpasil-tablet',\n",
       "       'https://reviews.webmd.com/drugs/drugreview-53594-serpate-tablet',\n",
       "       'https://reviews.webmd.com/drugs/drugreview-53595-serpalan-tablet',\n",
       "       'https://reviews.webmd.com/drugs/drugreview-53596-sk-reserpine-tablet',\n",
       "       'https://reviews.webmd.com/drugs/drugreview-53597-reserpoid-tablet',\n",
       "       'https://reviews.webmd.com/drugs/drugreview-53598-serpatab-tablet',\n",
       "       'https://reviews.webmd.com/drugs/drugreview-53599-resa-tablet',\n",
       "       'https://reviews.webmd.com/drugs/drugreview-53600-sertina-tablet',\n",
       "       'https://reviews.webmd.com/drugs/drugreview-53601-serpanray-tablet',\n",
       "       'https://reviews.webmd.com/drugs/drugreview-53602-zepine-tablet',\n",
       "       'https://reviews.webmd.com/drugs/drugreview-53603-adrolazine-tablet',\n",
       "       'https://reviews.webmd.com/drugs/drugreview-53604-apresrex-tablet',\n",
       "       'https://reviews.webmd.com/drugs/drugreview-53605-hydralyn-tablet',\n",
       "       'https://reviews.webmd.com/drugs/drugreview-53606-aprex-tablet',\n",
       "       'https://reviews.webmd.com/drugs/drugreview-53607-hydralyn-tablet',\n",
       "       'https://reviews.webmd.com/drugs/drugreview-53608-aprex-tablet',\n",
       "       'https://reviews.webmd.com/drugs/drugreview-53609-minodyl-tablet',\n",
       "       'https://reviews.webmd.com/drugs/drugreview-53672-hctz-reserpine-hydralazine-tablet',\n",
       "       'https://reviews.webmd.com/drugs/drugreview-53673-unipres-tablet',\n",
       "       'https://reviews.webmd.com/drugs/drugreview-53674-sae-tablet',\n",
       "       'https://reviews.webmd.com/drugs/drugreview-53675-serpex-tablet',\n",
       "       'https://reviews.webmd.com/drugs/drugreview-53676-seragen-tablet',\n",
       "       'https://reviews.webmd.com/drugs/drugreview-53677-hydroserpazine-tablet',\n",
       "       'https://reviews.webmd.com/drugs/drugreview-53678-cherapas-tablet',\n",
       "       'https://reviews.webmd.com/drugs/drugreview-53679-panpres-tablet',\n",
       "       'https://reviews.webmd.com/drugs/drugreview-53680-seralazide-tablet',\n",
       "       'https://reviews.webmd.com/drugs/drugreview-53681-serapine-tablet',\n",
       "       'https://reviews.webmd.com/drugs/drugreview-53682-marpres-tablet',\n",
       "       'https://reviews.webmd.com/drugs/drugreview-53683-serathide-tablet',\n",
       "       'https://reviews.webmd.com/drugs/drugreview-53684-d-pres-tablet',\n",
       "       'https://reviews.webmd.com/drugs/drugreview-53685-hrh-tablet',\n",
       "       'https://reviews.webmd.com/drugs/drugreview-53686-serge-tablet',\n",
       "       'https://reviews.webmd.com/drugs/drugreview-53687-hydroap-es-tablet',\n",
       "       'https://reviews.webmd.com/drugs/drugreview-53688-hydroserpine-plus-tablet',\n",
       "       'https://reviews.webmd.com/drugs/drugreview-53689-atenolol-w-chlorthalidone-tablet',\n",
       "       'https://reviews.webmd.com/drugs/drugreview-53690-propranolol-hcl-w-hctz-tablet',\n",
       "       'https://reviews.webmd.com/drugs/drugreview-53691-inderide-40-25-tablet',\n",
       "       'https://reviews.webmd.com/drugs/drugreview-53692-inderide-80-25-tablet',\n",
       "       'https://reviews.webmd.com/drugs/drugreview-53693-clonidine-hcl-w-chlorthalidone-tablet',\n",
       "       'https://reviews.webmd.com/drugs/drugreview-53694-clonidine-w-chlorthalidone-tablet',\n",
       "       'https://reviews.webmd.com/drugs/drugreview-53695-combipres-tablet',\n",
       "       'https://reviews.webmd.com/drugs/drugreview-53696-methyldopa-w-chlorothiazide-tablet',\n",
       "       'https://reviews.webmd.com/drugs/drugreview-53697-minizide-2-capsule',\n",
       "       'https://reviews.webmd.com/drugs/drugreview-53698-hydralazine-w-hctz-capsule',\n",
       "       'https://reviews.webmd.com/drugs/drugreview-53699-hydrazide-capsule',\n",
       "       'https://reviews.webmd.com/drugs/drugreview-53700-hy-zide-capsule',\n",
       "       'https://reviews.webmd.com/drugs/drugreview-53701-hydra-zide-capsule',\n",
       "       'https://reviews.webmd.com/drugs/drugreview-53705-lasimide-tablet',\n",
       "       'https://reviews.webmd.com/drugs/drugreview-53706-fumide-tablet',\n",
       "       'https://reviews.webmd.com/drugs/drugreview-53707-delone-tablet',\n",
       "       'https://reviews.webmd.com/drugs/drugreview-53708-lo-aqua-tablet',\n",
       "       'https://reviews.webmd.com/drugs/drugreview-53709-furoben-tablet',\n",
       "       'https://reviews.webmd.com/drugs/drugreview-53710-detue-tablet',\n",
       "       'https://reviews.webmd.com/drugs/drugreview-53717-altex-tablet',\n",
       "       'https://reviews.webmd.com/drugs/drugreview-53718-spirazone-tablet',\n",
       "       'https://reviews.webmd.com/drugs/drugreview-53719-naturetin-tablet',\n",
       "       'https://reviews.webmd.com/drugs/drugreview-53720-sk-chlorothiazide-tablet',\n",
       "       'https://reviews.webmd.com/drugs/drugreview-53721-dithirex-tablet',\n",
       "       'https://reviews.webmd.com/drugs/drugreview-53722-diurigen-tablet',\n",
       "       'https://reviews.webmd.com/drugs/drugreview-53723-chlorulan-tablet',\n",
       "       'https://reviews.webmd.com/drugs/drugreview-53724-kenuril-tablet',\n",
       "       'https://reviews.webmd.com/drugs/drugreview-53725-kenuril-tablet',\n",
       "       'https://reviews.webmd.com/drugs/drugreview-53726-biogroton-tablet',\n",
       "       'https://reviews.webmd.com/drugs/drugreview-53727-hylidone-tablet',\n",
       "       'https://reviews.webmd.com/drugs/drugreview-53728-sk-hydrochlorothiazide-tablet',\n",
       "       'https://reviews.webmd.com/drugs/drugreview-53729-hydrorex-tablet',\n",
       "       'https://reviews.webmd.com/drugs/drugreview-53730-icn-hythide-tablet',\n",
       "       'https://reviews.webmd.com/drugs/drugreview-53731-hydrochlorulan-tablet',\n",
       "       'https://reviews.webmd.com/drugs/drugreview-53732-hydoril-tablet',\n",
       "       'https://reviews.webmd.com/drugs/drugreview-53733-hyazide-tablet',\n",
       "       'https://reviews.webmd.com/drugs/drugreview-53734-hydro-d-tablet',\n",
       "       'https://reviews.webmd.com/drugs/drugreview-53735-loqua-tablet',\n",
       "       'https://reviews.webmd.com/drugs/drugreview-53736-kenazide-h-tablet',\n",
       "       'https://reviews.webmd.com/drugs/drugreview-53737-m-zide-tablet',\n",
       "       'https://reviews.webmd.com/drugs/drugreview-53738-hydroaca-tablet',\n",
       "       'https://reviews.webmd.com/drugs/drugreview-53739-hyclar-tablet',\n",
       "       'https://reviews.webmd.com/drugs/drugreview-53740-tri-zide-tablet',\n",
       "       'https://reviews.webmd.com/drugs/drugreview-53741-hydromal-tablet',\n",
       "       'https://reviews.webmd.com/drugs/drugreview-53742-hydro-z-tablet',\n",
       "       'https://reviews.webmd.com/drugs/drugreview-53743-hydro-chlor-tablet',\n",
       "       'https://reviews.webmd.com/drugs/drugreview-53744-hydrozide-tablet',\n",
       "       'https://reviews.webmd.com/drugs/drugreview-53745-tenzide-tablet',\n",
       "       'https://reviews.webmd.com/drugs/drugreview-53746-aqua-cen-tablet',\n",
       "       'https://reviews.webmd.com/drugs/drugreview-53747-hydro-t-tablet',\n",
       "       'https://reviews.webmd.com/drugs/drugreview-53748-j-zide-tablet',\n",
       "       'https://reviews.webmd.com/drugs/drugreview-53749-loqua-tablet',\n",
       "       'https://reviews.webmd.com/drugs/drugreview-53750-diurazide-tablet',\n",
       "       'https://reviews.webmd.com/drugs/drugreview-53751-kenazide-h-tablet',\n",
       "       'https://reviews.webmd.com/drugs/drugreview-53752-kenazide-e-tablet',\n",
       "       'https://reviews.webmd.com/drugs/drugreview-53753-diaqua-tablet',\n",
       "       'https://reviews.webmd.com/drugs/drugreview-53754-aquamet-tablet',\n",
       "       'https://reviews.webmd.com/drugs/drugreview-53755-hyclar-tablet',\n",
       "       'https://reviews.webmd.com/drugs/drugreview-53756-hychlor-tablet',\n",
       "       'https://reviews.webmd.com/drugs/drugreview-53757-hydrozide-tablet',\n",
       "       'https://reviews.webmd.com/drugs/drugreview-53758-aquazide-h-tablet',\n",
       "       'https://reviews.webmd.com/drugs/drugreview-53759-hydroben-tablet',\n",
       "       'https://reviews.webmd.com/drugs/drugreview-53760-sonazide-tablet',\n",
       "       'https://reviews.webmd.com/drugs/drugreview-53761-diulo-tablet',\n",
       "       'https://reviews.webmd.com/drugs/drugreview-53768-aquazide-tablet',\n",
       "       'https://reviews.webmd.com/drugs/drugreview-53772-amiloride-hcl-w-hctz-tablet',\n",
       "       'https://reviews.webmd.com/drugs/drugreview-53773-spironolactone-w-hctz-tablet',\n",
       "       'https://reviews.webmd.com/drugs/drugreview-53774-aldarex-plus-tablet',\n",
       "       'https://reviews.webmd.com/drugs/drugreview-53775-spironazide-tablet',\n",
       "       'https://reviews.webmd.com/drugs/drugreview-53776-altexide-tablet',\n",
       "       'https://reviews.webmd.com/drugs/drugreview-53777-spirozide-tablet',\n",
       "       'https://reviews.webmd.com/drugs/drugreview-53778-decozide-tablet',\n",
       "       'https://reviews.webmd.com/drugs/drugreview-53779-spirochlor-tablet',\n",
       "       'https://reviews.webmd.com/drugs/drugreview-53780-hydrotone-tablet',\n",
       "       'https://reviews.webmd.com/drugs/drugreview-53781-triamterene-w-hctz-capsule',\n",
       "       'https://reviews.webmd.com/drugs/drugreview-53782-triamtazide-capsule',\n",
       "       'https://reviews.webmd.com/drugs/drugreview-53783-maxzide-25-tablet',\n",
       "       'https://reviews.webmd.com/drugs/drugreview-53784-trimax-tablet',\n",
       "       'https://reviews.webmd.com/drugs/drugreview-5574-carvedilol',\n",
       "       'https://reviews.webmd.com/drugs/drugreview-5588-apresazide-capsule',\n",
       "       'https://reviews.webmd.com/drugs/drugreview-5591-zestoretic',\n",
       "       'https://reviews.webmd.com/drugs/drugreview-5734-saluron-tablet',\n",
       "       'https://reviews.webmd.com/drugs/drugreview-5891-amlodipine-besylate',\n",
       "       'https://reviews.webmd.com/drugs/drugreview-5942-norvasc',\n",
       "       'https://reviews.webmd.com/drugs/drugreview-5943-oretic-tablet',\n",
       "       'https://reviews.webmd.com/drugs/drugreview-5953-humulin-n-vial',\n",
       "       'https://reviews.webmd.com/drugs/drugreview-6010-adalat-cc-tablet-er',\n",
       "       'https://reviews.webmd.com/drugs/drugreview-6021-insulin-zinc-human-recomb-suspension',\n",
       "       'https://reviews.webmd.com/drugs/drugreview-6070-aquatensen-tablet',\n",
       "       'https://reviews.webmd.com/drugs/drugreview-6140-isradipine',\n",
       "       'https://reviews.webmd.com/drugs/drugreview-6154-tolinase-tablet',\n",
       "       'https://reviews.webmd.com/drugs/drugreview-6158-insulin-nph-isoph-u-human-suspension',\n",
       "       'https://reviews.webmd.com/drugs/drugreview-6159-insulin-nph-and-regular-human-suspension',\n",
       "       'https://reviews.webmd.com/drugs/drugreview-6236-hydroflumethiazide-tablet',\n",
       "       'https://reviews.webmd.com/drugs/drugreview-6237-orinase-tablet',\n",
       "       'https://reviews.webmd.com/drugs/drugreview-6254-quinapril-hcl',\n",
       "       'https://reviews.webmd.com/drugs/drugreview-6288-spironolactone',\n",
       "       'https://reviews.webmd.com/drugs/drugreview-6301-enalapril-maleate',\n",
       "       'https://reviews.webmd.com/drugs/drugreview-6301-enalapril-maleate-solution',\n",
       "       'https://reviews.webmd.com/drugs/drugreview-6305-chlorothiazide-suspension',\n",
       "       'https://reviews.webmd.com/drugs/drugreview-6314-diovan',\n",
       "       'https://reviews.webmd.com/drugs/drugreview-63172-olmesartan-medoxomil',\n",
       "       'https://reviews.webmd.com/drugs/drugreview-63173-benicar',\n",
       "       'https://reviews.webmd.com/drugs/drugreview-63178-humulin-suspension',\n",
       "       'https://reviews.webmd.com/drugs/drugreview-63549-insulin-beef-solution',\n",
       "       'https://reviews.webmd.com/drugs/drugreview-63550-insulin-regular-human-semi-syn-cartridge',\n",
       "       'https://reviews.webmd.com/drugs/drugreview-63552-insulin-pork-solution',\n",
       "       'https://reviews.webmd.com/drugs/drugreview-63742-insulin-70-30-innolet-suspension',\n",
       "       'https://reviews.webmd.com/drugs/drugreview-63953-diltiazem-er-capsule-degradable-capsule-degradable',\n",
       "       'https://reviews.webmd.com/drugs/drugreview-64014-terazosin-capsule',\n",
       "       'https://reviews.webmd.com/drugs/drugreview-64070-insulin-aspart-prot-mix-70-30-pen',\n",
       "       'https://reviews.webmd.com/drugs/drugreview-64071-novolog-mix-70-30-vial',\n",
       "       'https://reviews.webmd.com/drugs/drugreview-64218-eplerenone',\n",
       "       'https://reviews.webmd.com/drugs/drugreview-64227-insulin-regular-pork-conc-solution',\n",
       "       'https://reviews.webmd.com/drugs/drugreview-64253-rosiglitazone-metformin-tablet',\n",
       "       'https://reviews.webmd.com/drugs/drugreview-64261-avandamet-tablet',\n",
       "       'https://reviews.webmd.com/drugs/drugreview-64318-glipizide-metformin',\n",
       "       'https://reviews.webmd.com/drugs/drugreview-64323-metaglip-tablet',\n",
       "       'https://reviews.webmd.com/drugs/drugreview-64443-nifedipine-er-tablet',\n",
       "       'https://reviews.webmd.com/drugs/drugreview-64443-nifedipine-er-tablet-osmotic-push-tablet-push',\n",
       "       'https://reviews.webmd.com/drugs/drugreview-64639-eprosartan-hydrochlorothiazide-tablet',\n",
       "       'https://reviews.webmd.com/drugs/drugreview-64640-teveten-hct-tablet',\n",
       "       'https://reviews.webmd.com/drugs/drugreview-64670-insulin-nph-regular-hum-s-syn-cartridge',\n",
       "       'https://reviews.webmd.com/drugs/drugreview-64671-insulin-nph-regular-pork-pure-solution',\n",
       "       'https://reviews.webmd.com/drugs/drugreview-64672-insulin-protamine-zinc-beef-suspension',\n",
       "       'https://reviews.webmd.com/drugs/drugreview-64673-insulin-protamine-zn-beef-pure-suspension',\n",
       "       'https://reviews.webmd.com/drugs/drugreview-64674-insulin-protamine-zn-pork-pure-suspension',\n",
       "       'https://reviews.webmd.com/drugs/drugreview-64675-insulin-protamine-zn-beef-pork-suspension',\n",
       "       'https://reviews.webmd.com/drugs/drugreview-64676-insulin-isophane-beef-suspension',\n",
       "       'https://reviews.webmd.com/drugs/drugreview-64677-insulin-isophane-beef-pure-suspension',\n",
       "       'https://reviews.webmd.com/drugs/drugreview-64678-insulin-nph-human-semi-syn-suspension',\n",
       "       'https://reviews.webmd.com/drugs/drugreview-64679-ins-zn-bf-pure-ins-pk-pure-suspension',\n",
       "       'https://reviews.webmd.com/drugs/drugreview-6468-ezide-tablet',\n",
       "       'https://reviews.webmd.com/drugs/drugreview-64680-insulin-zinc-beef-suspension',\n",
       "       'https://reviews.webmd.com/drugs/drugreview-64681-insulin-zinc-beef-purified-suspension',\n",
       "       'https://reviews.webmd.com/drugs/drugreview-64682-insulin-zinc-human-semi-syn-suspension',\n",
       "       'https://reviews.webmd.com/drugs/drugreview-64683-insulin-zinc-extended-beef-suspension',\n",
       "       'https://reviews.webmd.com/drugs/drugreview-64684-insulin-zinc-ext-beef-pure-suspension',\n",
       "       'https://reviews.webmd.com/drugs/drugreview-64685-insulin-zinc-ext-beef-pork-suspension',\n",
       "       'https://reviews.webmd.com/drugs/drugreview-64686-insulin-zinc-prompt-beef-suspension',\n",
       "       'https://reviews.webmd.com/drugs/drugreview-64687-insulin-zinc-prompt-pork-pure-suspension',\n",
       "       'https://reviews.webmd.com/drugs/drugreview-64688-insulin-zinc-prompt-beef-pork-suspension',\n",
       "       'https://reviews.webmd.com/drugs/drugreview-64858-novolog-flexpen-insulin-pen',\n",
       "       'https://reviews.webmd.com/drugs/drugreview-6559-edecrin',\n",
       "       'https://reviews.webmd.com/drugs/drugreview-6614-repaglinide',\n",
       "       'https://reviews.webmd.com/drugs/drugreview-6616-losartan-potassium',\n",
       "       'https://reviews.webmd.com/drugs/drugreview-6639-prandin-tablet',\n",
       "       'https://reviews.webmd.com/drugs/drugreview-6670-aldactazide',\n",
       "       'https://reviews.webmd.com/drugs/drugreview-6671-aldactone',\n",
       "       'https://reviews.webmd.com/drugs/drugreview-6672-aldomet-tablet',\n",
       "       'https://reviews.webmd.com/drugs/drugreview-6673-aldoril-15-tablet',\n",
       "       'https://reviews.webmd.com/drugs/drugreview-6680-apresoline-tablet',\n",
       "       'https://reviews.webmd.com/drugs/drugreview-6709-cardizem',\n",
       "       'https://reviews.webmd.com/drugs/drugreview-6712-cartrol-tablet',\n",
       "       'https://reviews.webmd.com/drugs/drugreview-6713-carteolol-tablet',\n",
       "       'https://reviews.webmd.com/drugs/drugreview-6714-catapres-tablet',\n",
       "       'https://reviews.webmd.com/drugs/drugreview-6715-catapres-tts-3-patch-weekly',\n",
       "       'https://reviews.webmd.com/drugs/drugreview-6716-clonidine-patch-weekly',\n",
       "       'https://reviews.webmd.com/drugs/drugreview-6729-combipres-1-tablet',\n",
       "       'https://reviews.webmd.com/drugs/drugreview-6762-diuril',\n",
       "       'https://reviews.webmd.com/drugs/drugreview-6831-hygroton-tablet',\n",
       "       'https://reviews.webmd.com/drugs/drugreview-6834-terazosin-hcl',\n",
       "       'https://reviews.webmd.com/drugs/drugreview-6835-hytrin-tablet',\n",
       "       'https://reviews.webmd.com/drugs/drugreview-6836-iletin-ii-nph-pork-suspension',\n",
       "       'https://reviews.webmd.com/drugs/drugreview-6837-insulin-isophane-pork-pure-suspension',\n",
       "       'https://reviews.webmd.com/drugs/drugreview-6840-inderal-tablet',\n",
       "       'https://reviews.webmd.com/drugs/drugreview-6841-inderide-tablet',\n",
       "       'https://reviews.webmd.com/drugs/drugreview-6842-insulin-purified-lente-pork-suspension',\n",
       "       'https://reviews.webmd.com/drugs/drugreview-6843-insulin-zinc-pork-purified-suspension',\n",
       "       'https://reviews.webmd.com/drugs/drugreview-6860-kerlone-tablet',\n",
       "       'https://reviews.webmd.com/drugs/drugreview-6861-betaxolol-hcl',\n",
       "       'https://reviews.webmd.com/drugs/drugreview-6873-lisinopril',\n",
       "       'https://reviews.webmd.com/drugs/drugreview-6873-lisinopril-solution',\n",
       "       'https://reviews.webmd.com/drugs/drugreview-6877-loniten-tablet',\n",
       "       'https://reviews.webmd.com/drugs/drugreview-6879-lopressor',\n",
       "       'https://reviews.webmd.com/drugs/drugreview-6883-lotensin',\n",
       "       'https://reviews.webmd.com/drugs/drugreview-6884-lozol-tablet',\n",
       "       'https://reviews.webmd.com/drugs/drugreview-6904-midamor-tablet',\n",
       "       'https://reviews.webmd.com/drugs/drugreview-6921-naturetin-tablet',\n",
       "       'https://reviews.webmd.com/drugs/drugreview-6922-bendroflumethiazide-tablet',\n",
       "       'https://reviews.webmd.com/drugs/drugreview-6993-prinivil',\n",
       "       'https://reviews.webmd.com/drugs/drugreview-7023-sectral-capsule',\n",
       "       'https://reviews.webmd.com/drugs/drugreview-7037-tenex-tablet',\n",
       "       'https://reviews.webmd.com/drugs/drugreview-7085-verelan',\n",
       "       'https://reviews.webmd.com/drugs/drugreview-7086-verapamil-er',\n",
       "       'https://reviews.webmd.com/drugs/drugreview-7086-verapamil-hcl',\n",
       "       'https://reviews.webmd.com/drugs/drugreview-7086-verapamil-sr',\n",
       "       'https://reviews.webmd.com/drugs/drugreview-7091-visken-tablet',\n",
       "       'https://reviews.webmd.com/drugs/drugreview-7094-wytensin-tablet',\n",
       "       'https://reviews.webmd.com/drugs/drugreview-7101-zestril',\n",
       "       'https://reviews.webmd.com/drugs/drugreview-7113-h-h-r-tablet',\n",
       "       'https://reviews.webmd.com/drugs/drugreview-7115-catapres-tts-2-patch-weekly',\n",
       "       'https://reviews.webmd.com/drugs/drugreview-7117-dyazide-capsule',\n",
       "       'https://reviews.webmd.com/drugs/drugreview-7119-tenoretic-100',\n",
       "       'https://reviews.webmd.com/drugs/drugreview-7120-vaseretic',\n",
       "       'https://reviews.webmd.com/drugs/drugreview-7123-corzide-tablet',\n",
       "       'https://reviews.webmd.com/drugs/drugreview-7124-inderide-la-capsule-er',\n",
       "       'https://reviews.webmd.com/drugs/drugreview-7144-hydrodiuril-tablet',\n",
       "       'https://reviews.webmd.com/drugs/drugreview-7194-diovan-hct',\n",
       "       'https://reviews.webmd.com/drugs/drugreview-7195-valsartan-hydrochlorothiazide',\n",
       "       'https://reviews.webmd.com/drugs/drugreview-7211-normodyne-tablet',\n",
       "       'https://reviews.webmd.com/drugs/drugreview-7212-labetalol-hcl',\n",
       "       'https://reviews.webmd.com/drugs/drugreview-7214-trandate-tablet',\n",
       "       'https://reviews.webmd.com/drugs/drugreview-7235-tiamate-tablet-er-24-hr',\n",
       "       'https://reviews.webmd.com/drugs/drugreview-7236-diltiazem-malate-tablet-er',\n",
       "       'https://reviews.webmd.com/drugs/drugreview-7243-plendil-tablet-er-24-hr',\n",
       "       'https://reviews.webmd.com/drugs/drugreview-7244-felodipine-er',\n",
       "       'https://reviews.webmd.com/drugs/drugreview-7359-humulin-u-insulin-suspension',\n",
       "       'https://reviews.webmd.com/drugs/drugreview-7360-insulin-zinc-extended-human-suspension',\n",
       "       'https://reviews.webmd.com/drugs/drugreview-7376-maxzide',\n",
       "       'https://reviews.webmd.com/drugs/drugreview-7456-catapres-tts-1-patch-weekly',\n",
       "       'https://reviews.webmd.com/drugs/drugreview-74894-cardizem-la',\n",
       "       'https://reviews.webmd.com/drugs/drugreview-74923-amiloride-hcl-hctz-tablet',\n",
       "       'https://reviews.webmd.com/drugs/drugreview-74943-isoptin-s-r-tablet-er',\n",
       "       'https://reviews.webmd.com/drugs/drugreview-75025-innopran-xl',\n",
       "       'https://reviews.webmd.com/drugs/drugreview-75092-taztia-xt',\n",
       "       'https://reviews.webmd.com/drugs/drugreview-75213-afeditab-cr-tablet-er',\n",
       "       'https://reviews.webmd.com/drugs/drugreview-75511-triamterene-hctz-capsule',\n",
       "       'https://reviews.webmd.com/drugs/drugreview-7599-iletin-i-nph-suspension',\n",
       "       'https://reviews.webmd.com/drugs/drugreview-7600-insulin-nph-beef-pork-suspension',\n",
       "       'https://reviews.webmd.com/drugs/drugreview-76307-novolin-l-suspension',\n",
       "       'https://reviews.webmd.com/drugs/drugreview-76308-novolin-n-vial',\n",
       "       'https://reviews.webmd.com/drugs/drugreview-7637-sodium-edecrin-vial',\n",
       "       'https://reviews.webmd.com/drugs/drugreview-7638-ethacrynate-sodium-vial',\n",
       "       'https://reviews.webmd.com/drugs/drugreview-76390-olmesartan-hydrochlorothiazide',\n",
       "       'https://reviews.webmd.com/drugs/drugreview-76391-benicar-hct',\n",
       "       'https://reviews.webmd.com/drugs/drugreview-77327-betachron-capsule-24-hr-capsule-er-hr',\n",
       "       'https://reviews.webmd.com/drugs/drugreview-7764-blocadren-tablet',\n",
       "       'https://reviews.webmd.com/drugs/drugreview-77809-inspra',\n",
       "       'https://reviews.webmd.com/drugs/drugreview-77963-riomet',\n",
       "       'https://reviews.webmd.com/drugs/drugreview-78112-insulin-nph-innolet-pen',\n",
       "       'https://reviews.webmd.com/drugs/drugreview-78113-insulin-nph-reg-innolet-pen',\n",
       "       'https://reviews.webmd.com/drugs/drugreview-78139-nifediac-cc-tablet-er',\n",
       "       'https://reviews.webmd.com/drugs/drugreview-78636-amlodipine-atorvastatin',\n",
       "       'https://reviews.webmd.com/drugs/drugreview-7985-guanabenz-tablet',\n",
       "       'https://reviews.webmd.com/drugs/drugreview-8043-cardene-sr-capsule-er',\n",
       "       'https://reviews.webmd.com/drugs/drugreview-8044-nicardipine-hcl',\n",
       "       'https://reviews.webmd.com/drugs/drugreview-8068-micronase-tablet',\n",
       "       'https://reviews.webmd.com/drugs/drugreview-8070-timolide-tablet',\n",
       "       'https://reviews.webmd.com/drugs/drugreview-8148-rose-tablet',\n",
       "       'https://reviews.webmd.com/drugs/drugreview-8183-candesartan-cilexetil',\n",
       "       'https://reviews.webmd.com/drugs/drugreview-8340-methyclothiazide-tablet',\n",
       "       'https://reviews.webmd.com/drugs/drugreview-8427-hylorel-tablet',\n",
       "       'https://reviews.webmd.com/drugs/drugreview-8428-guanadrel-tablet',\n",
       "       'https://reviews.webmd.com/drugs/drugreview-8430-mykrox-tablet',\n",
       "       'https://reviews.webmd.com/drugs/drugreview-8431-metolazone',\n",
       "       'https://reviews.webmd.com/drugs/drugreview-8434-zaroxolyn-tablet',\n",
       "       'https://reviews.webmd.com/drugs/drugreview-849-valsartan',\n",
       "       'https://reviews.webmd.com/drugs/drugreview-8635-chlorpropamide-tablet',\n",
       "       'https://reviews.webmd.com/drugs/drugreview-8662-hydralazine-hcl',\n",
       "       'https://reviews.webmd.com/drugs/drugreview-8678-methyldopa',\n",
       "       'https://reviews.webmd.com/drugs/drugreview-8680-minoxidil',\n",
       "       'https://reviews.webmd.com/drugs/drugreview-8681-nifedipine',\n",
       "       'https://reviews.webmd.com/drugs/drugreview-8681-nifedipine-er',\n",
       "       'https://reviews.webmd.com/drugs/drugreview-8681-nifedipine-er-tablet',\n",
       "       'https://reviews.webmd.com/drugs/drugreview-8695-prazosin-hcl',\n",
       "       'https://reviews.webmd.com/drugs/drugreview-8703-reserpine-tablet',\n",
       "       'https://reviews.webmd.com/drugs/drugreview-8719-tolazamide-tablet',\n",
       "       'https://reviews.webmd.com/drugs/drugreview-8752-chlorothiazide-sodium-vial',\n",
       "       'https://reviews.webmd.com/drugs/drugreview-8778-ethacrynic-acid',\n",
       "       'https://reviews.webmd.com/drugs/drugreview-8798-labetalol-hcl-vial',\n",
       "       'https://reviews.webmd.com/drugs/drugreview-8814-metoprolol-succinate',\n",
       "       'https://reviews.webmd.com/drugs/drugreview-8814-metoprolol-succinate-capsule-sprinkle-er-24-hr-dose-pack-capsule-sprinkle-ext-rel-24hr-pack',\n",
       "       'https://reviews.webmd.com/drugs/drugreview-8843-ramipril',\n",
       "       'https://reviews.webmd.com/drugs/drugreview-8865-enalaprilat-vial',\n",
       "       'https://reviews.webmd.com/drugs/drugreview-88964-caduet',\n",
       "       'https://reviews.webmd.com/drugs/drugreview-88973-novolin-70-30-innolet-insulin-pen',\n",
       "       'https://reviews.webmd.com/drugs/drugreview-89227-fortamet',\n",
       "       'https://reviews.webmd.com/drugs/drugreview-89348-quinaretic-tablet',\n",
       "       'https://reviews.webmd.com/drugs/drugreview-8941-hydralazine-hcl-vial',\n",
       "       'https://reviews.webmd.com/drugs/drugreview-8982-altace',\n",
       "       'https://reviews.webmd.com/drugs/drugreview-90540-glipizide-xl-tablet-osmotic-push-tablet-er-push',\n",
       "       'https://reviews.webmd.com/drugs/drugreview-9062-carozide-tablet',\n",
       "       'https://reviews.webmd.com/drugs/drugreview-90872-insulin-lente-beef-suspension',\n",
       "       'https://reviews.webmd.com/drugs/drugreview-90873-insulin-nph-beef-suspension',\n",
       "       'https://reviews.webmd.com/drugs/drugreview-9140-diucardin-tablet',\n",
       "       'https://reviews.webmd.com/drugs/drugreview-91429-dilt-xr',\n",
       "       'https://reviews.webmd.com/drugs/drugreview-9152-dyrenium',\n",
       "       'https://reviews.webmd.com/drugs/drugreview-9160-enduron-tablet',\n",
       "       'https://reviews.webmd.com/drugs/drugreview-9169-esidrix-tablet',\n",
       "       'https://reviews.webmd.com/drugs/drugreview-91890-iletin-i-protamine-zinc-suspension',\n",
       "       'https://reviews.webmd.com/drugs/drugreview-91891-iletin-ii-protamine-zincpork-suspension',\n",
       "       'https://reviews.webmd.com/drugs/drugreview-91892-iletin-ii-protamine-zincbeef-suspension',\n",
       "       'https://reviews.webmd.com/drugs/drugreview-91893-iletin-ii-regularbeef-solution',\n",
       "       'https://reviews.webmd.com/drugs/drugreview-91895-iletin-ii-lentebeef-suspension',\n",
       "       'https://reviews.webmd.com/drugs/drugreview-91896-iletin-ii-regularporkconc-solution',\n",
       "       'https://reviews.webmd.com/drugs/drugreview-91897-iletin-i-semilente-suspension',\n",
       "       'https://reviews.webmd.com/drugs/drugreview-91898-iletin-i-ultralente-suspension',\n",
       "       'https://reviews.webmd.com/drugs/drugreview-91900-insulatard-human-n-suspension',\n",
       "       'https://reviews.webmd.com/drugs/drugreview-91915-mixtard-70-30-solution',\n",
       "       'https://reviews.webmd.com/drugs/drugreview-91917-mixtard-human-70-30-solution',\n",
       "       'https://reviews.webmd.com/drugs/drugreview-91932-monotard-human-lente-suspension',\n",
       "       'https://reviews.webmd.com/drugs/drugreview-91935-lentard-insulin-purified-suspension',\n",
       "       'https://reviews.webmd.com/drugs/drugreview-9242-hydone-tablet',\n",
       "       'https://reviews.webmd.com/drugs/drugreview-9281-l-dopres-tablet',\n",
       "       'https://reviews.webmd.com/drugs/drugreview-93223-exenatide-pen-injector',\n",
       "       'https://reviews.webmd.com/drugs/drugreview-93242-byetta-pen-injector',\n",
       "       'https://reviews.webmd.com/drugs/drugreview-93248-novolin-r-innolet-insulin-pen',\n",
       "       'https://reviews.webmd.com/drugs/drugreview-9375-normodyne-solution',\n",
       "       'https://reviews.webmd.com/drugs/drugreview-94011-insulin-detemir-u-solution',\n",
       "       'https://reviews.webmd.com/drugs/drugreview-94092-novolog-mix-70-30-flexpen-insulin-pen',\n",
       "       'https://reviews.webmd.com/drugs/drugreview-94097-pioglitazone-metformin',\n",
       "       'https://reviews.webmd.com/drugs/drugreview-94140-actoplus-met',\n",
       "       'https://reviews.webmd.com/drugs/drugreview-94376-novolin-n-innolet-insulin-pen',\n",
       "       'https://reviews.webmd.com/drugs/drugreview-94692-rosiglitazone-glimepiride-tablet',\n",
       "       'https://reviews.webmd.com/drugs/drugreview-94833-avandaryl-tablet',\n",
       "       'https://reviews.webmd.com/drugs/drugreview-94838-insulin-glulisine-u-solution',\n",
       "       'https://reviews.webmd.com/drugs/drugreview-94890-apidra-vial',\n",
       "       'https://reviews.webmd.com/drugs/drugreview-94930-humalog-mix-50-50-vial',\n",
       "       'https://reviews.webmd.com/drugs/drugreview-94948-novolin-70-30-semi-synthetic-cartridge',\n",
       "       'https://reviews.webmd.com/drugs/drugreview-95012-insulin-regular-human-cartridge-with-inhaler',\n",
       "       'https://reviews.webmd.com/drugs/drugreview-95095-levemir-vial',\n",
       "       'https://reviews.webmd.com/drugs/drugreview-95096-levemir-flexpen-insulin-pen',\n",
       "       'https://reviews.webmd.com/drugs/drugreview-9533-tenormin',\n",
       "       'https://reviews.webmd.com/drugs/drugreview-9548-toprol-xl',\n",
       "       'https://reviews.webmd.com/drugs/drugreview-9554-trandate-solution',\n",
       "       'https://reviews.webmd.com/drugs/drugreview-9613-zide-tablet',\n",
       "       'https://reviews.webmd.com/drugs/drugreview-964-captopril',\n",
       "       'https://reviews.webmd.com/drugs/drugreview-9683-vasotec-solution',\n",
       "       'https://reviews.webmd.com/drugs/drugreview-9724-insulase-tablet',\n",
       "       'https://reviews.webmd.com/drugs/drugreview-9798-zebeta-tablet',\n",
       "       'https://reviews.webmd.com/drugs/drugreview-9850-demadex-solution',\n",
       "       'https://reviews.webmd.com/drugs/drugreview-9997-nicardipine-hcl-vial'],\n",
       "      dtype='<U165')"
      ]
     },
     "execution_count": 15,
     "metadata": {},
     "output_type": "execute_result"
    }
   ],
   "source": [
    "# imports\n",
    "import requests\n",
    "import numpy as np\n",
    "import pandas as pd\n",
    "import regex as re\n",
    "#Functions\n",
    "# regular expressions for parsing data from a single review\n",
    "# elements found in review-details div\n",
    "def regex_date(review):\n",
    "    '''Parses the date of the review in format dd/mm/yyyy'''\n",
    "    return re.findall(r'\\d+/\\d+/\\d+', review.find('div', class_='date').text)[0]\n",
    "\n",
    "def regex_condition(review):\n",
    "    '''Parses the condition for which the medication is used'''\n",
    "    condition_element = review.find('strong', class_='condition')\n",
    "    condition_listed = condition_element is not None\n",
    "    if condition_listed:\n",
    "        # TODO: be able to match ''\"Change of Life\" Signs' condition\n",
    "        condition_match = re.findall(r'(?<=Condition:\\s)\\w+(?:\\s\\w+)*', condition_element.text)\n",
    "    return condition_match[0] if (condition_listed and len(condition_match) > 0) else np.nan\n",
    "\n",
    "def regex_rating_overall(review):\n",
    "    '''Parses the overall rating, the average of 3 categories'''\n",
    "    rating_overall_line = review.find('div', class_='overall-rating').strong.text\n",
    "    return re.findall(r'\\d+.\\d+', rating_overall_line)\n",
    "\n",
    "def regex_rating_category(review, ind_cat):\n",
    "    '''Parses the rating for the category at index ind_cat in ['effectiveness', 'ease_of_use', 'satisfaction']'''\n",
    "    rating_categories = review.find('div', class_='categories').find_all('section')\n",
    "    div = rating_categories[ind_cat].find('div', class_='webmd-rate on-mobile')\n",
    "    return int(div.get('aria-valuenow'))\n",
    "\n",
    "def regex_text(review):\n",
    "    '''Parses the free response text review for the drug'''\n",
    "    text_line = review.find('p', class_='description-text')\n",
    "    return text_line.text if text_line is not None else np.nan\n",
    "# regular expressions for parsing data from a single review\n",
    "# elements found in details div\n",
    "def regex_age(details):\n",
    "    '''Parses the age of the medication user'''\n",
    "    age_match = re.findall(r'(?<=\\|\\s+)\\d+-\\d+', details)\n",
    "    return age_match[0] if len(age_match) > 0 else np.nan\n",
    "\n",
    "def regex_gender(details):\n",
    "    '''Parses the gender of the medication user'''\n",
    "    gender_match = re.findall(r'(?<=\\|\\s+)Male|Female', details)\n",
    "    return gender_match[0] if len(gender_match) > 0 else np.nan\n",
    "\n",
    "def regex_time(details):\n",
    "    '''Parses the duration of time on drug'''\n",
    "    time_match = re.findall(r'(?<=On\\smedication\\sfor\\s)\\w+(?:\\s\\w+)*', details)\n",
    "    return time_match[0] if len(time_match) > 0 else np.nan\n",
    "\n",
    "def regex_reviewer(details):\n",
    "    '''Parses the type of reviewer'''\n",
    "    reviewer_match = re.findall(r'(?<=\\|\\s+)\\w+(?:\\s\\w+)*(?=\\s*$)', details)\n",
    "    return reviewer_match[0] if len(reviewer_match) > 0 else np.nan\n",
    "# parse the reviews on a single webpage\n",
    "def parse_reviews_page(soup, reviews_df):\n",
    "    '''Populates reviews_df data frame with records from 1 page's reviews\n",
    "    \n",
    "    Parameters:\n",
    "    reviews_html (str): HTML for the webpage extracted using BeautifulSoup\n",
    "    drug_name (str): the name of the drug being reviewed\n",
    "    reviews_df (pd.DataFrame): dataframe with one row per review\n",
    "    \n",
    "    Returns:\n",
    "    pd.DataFrame: reviews_df dataframe with new records appended\n",
    "    \n",
    "    '''\n",
    "    reviews_html = soup.find_all('div', class_='review-details') # get elements that hold each review\n",
    "    drug_name = re.findall(r'(.*)(?=\\sReviews)', soup.title.text)[0] # page title is drug name\n",
    "    \n",
    "    # loop over reviews from a single page\n",
    "    for i, review in enumerate(reviews_html):\n",
    "        to_append = pd.DataFrame([pd.Series([None]*len(cols), index=cols)])\n",
    "        \n",
    "        details = review.find('div', class_='details').text\n",
    "\n",
    "        to_append['drug_name'] = drug_name\n",
    "        to_append['date'] = regex_date(review)\n",
    "        to_append['age'] = regex_age(details)\n",
    "        to_append['gender'] = regex_gender(details)\n",
    "        to_append['time_on_drug'] = regex_time(details)\n",
    "        to_append['reviewer_type'] = regex_reviewer(details)\n",
    "        to_append['condition'] = regex_condition(review)\n",
    "        to_append['rating_overall'] = regex_rating_overall(review)\n",
    "        \n",
    "        for ind_cat, cat in enumerate(['effectiveness', 'ease_of_use', 'satisfaction']):\n",
    "            to_append[f'rating_{cat}'] = regex_rating_category(review, ind_cat)\n",
    "    \n",
    "        to_append['text'] = regex_text(review)\n",
    "        reviews_df = pd.concat([reviews_df, to_append], ignore_index=True)\n",
    "        \n",
    "    return reviews_df\n",
    "def get_soup(review_url, page):\n",
    "    curr_url = review_url + f'&page={page}'\n",
    "    response = requests.get(curr_url, headers=headers).content\n",
    "    return BeautifulSoup(response, 'lxml')\n",
    "# crawl over the review pages for one drug\n",
    "from tqdm import tqdm # progress bar\n",
    "\n",
    "def crawl_reviews_pages(review_url, reviews_df):\n",
    "    '''Crawls a drug's reviews page-by-page, saving each page's reviews into reviews_df\n",
    "    \n",
    "    Parameters:\n",
    "    reviews_df (pd.DataFrame): dataframe with one row per review\n",
    "    \n",
    "    Returns:\n",
    "    pd.DataFrame: reviews_df dataframe with new records appended\n",
    "    \n",
    "    '''\n",
    "    # find how many review pages there are total for the drug by parsing it from the first page\n",
    "    soup = get_soup(review_url, 1)\n",
    "    pages = soup.find('ul', class_='pagination')\n",
    "    \n",
    "    # proceed only if there is at least 1 review\n",
    "    if pages is not None:\n",
    "        last_page = int(pages.find_all('li', class_='page-item')[-1].text.strip())\n",
    "\n",
    "        for i in tqdm(range(1, last_page+1)):\n",
    "            soup = get_soup(review_url, 1)\n",
    "            reviews_df = parse_reviews_page(soup, reviews_df)\n",
    "\n",
    "    return reviews_df\n",
    "#Scrape Drugs by Condition from WebMD Search\n",
    "# need to spoof a browser in order to not get blocked when making request\n",
    "# https://bar.rady.ucsd.edu/Web_Scraping.html\n",
    "from bs4 import BeautifulSoup\n",
    "\n",
    "headers = requests.utils.default_headers()\n",
    "agent = 'Mozilla/5.0 (X11; Ubuntu; Linux x86_64; rv:52.0) Gecko/20100101 Firefox/52.0'\n",
    "headers.update({\n",
    "    'User-Agent': agent,\n",
    "})\n",
    "# make empty data frame to contain values and full text from each review\n",
    "cols = ['drug_name',\n",
    "       'date',\n",
    "       'age',\n",
    "       'gender',\n",
    "       'time_on_drug',\n",
    "       'reviewer_type',\n",
    "       'condition',\n",
    "       'rating_overall',\n",
    "       'rating_effectiveness',\n",
    "       'rating_ease_of_use',\n",
    "       'rating_satisfaction',\n",
    "       'text']\n",
    "\n",
    "reviews_df = pd.DataFrame(columns=cols, index=[])\n",
    "# # list of depression drugs from WebMD\n",
    "# url = 'https://www.webmd.com/depression/depression-medications-antidepressants'\n",
    "# response = requests.get(url, headers=headers).content\n",
    "# soup = BeautifulSoup(response, 'lxml')\n",
    "# drugs_section = soup.find('div', class_='article-page active-page')\n",
    "# use WebMD's search to find drugs by illness\n",
    "review_urls = []\n",
    "\n",
    "conditions = {'type2diabetesmellitus': 'https://www.webmd.com/drugs/2/condition-594/type-2-diabetes-mellitus',\n",
    "              'type1diabetesmellitus':'https://www.webmd.com/drugs/2/condition-595/type-1-diabetes-mellitus',\n",
    "              'hypertension':'https://www.webmd.com/drugs/2/condition-1432/hypertension'\n",
    "              }\n",
    "\n",
    "for url in conditions.values():\n",
    "    response = requests.get(url, headers=headers).content\n",
    "    soup = BeautifulSoup(response, 'lxml')\n",
    "    drugs_section = soup.find('div', class_='medication-results-list')\n",
    "\n",
    "    for drug_review_element in drugs_section.find_all('span', class_='reviews-url'):\n",
    "        review_urls.append(drug_review_element.a.get('href'))\n",
    "\n",
    "# because there is a lot of overlap in medications between conditions, get unique values\n",
    "review_urls = np.unique(review_urls)\n",
    "review_urls"
   ]
  },
  {
   "cell_type": "code",
   "execution_count": 16,
   "metadata": {},
   "outputs": [],
   "source": [
    "#only 1 drug- glipizide reviews\n",
    "#response = requests.get('https://reviews.webmd.com/drugs/drugreview-10094-glipizide', headers=headers)  \n",
    "#reviews_df = crawl_reviews_pages('https://reviews.webmd.com/drugs/drugreview-10094-glipizide', reviews_df)\n",
    "#reviews_df.to_csv('C:/Users/Public/Data/Projects/webmdreviews/t2diabetesmellitus_glipizide_reviews.csv')"
   ]
  },
  {
   "cell_type": "code",
   "execution_count": 17,
   "metadata": {},
   "outputs": [
    {
     "name": "stderr",
     "output_type": "stream",
     "text": [
      "  0%|          | 0/834 [00:00<?, ?it/s]"
     ]
    },
    {
     "name": "stdout",
     "output_type": "stream",
     "text": [
      "https://reviews.webmd.com/drugs/drugreview-10094-glipizide\n"
     ]
    },
    {
     "name": "stderr",
     "output_type": "stream",
     "text": [
      "100%|██████████| 11/11 [00:23<00:00,  2.17s/it]\n",
      "  0%|          | 1/834 [00:28<6:29:00, 28.02s/it]"
     ]
    },
    {
     "name": "stdout",
     "output_type": "stream",
     "text": [
      "https://reviews.webmd.com/drugs/drugreview-10094-glipizide-er\n"
     ]
    },
    {
     "name": "stderr",
     "output_type": "stream",
     "text": [
      "100%|██████████| 11/11 [00:20<00:00,  1.89s/it]\n",
      "  0%|          | 2/834 [00:51<5:53:16, 25.48s/it]"
     ]
    },
    {
     "name": "stdout",
     "output_type": "stream",
     "text": [
      "https://reviews.webmd.com/drugs/drugreview-10095-glucotrol-xl\n"
     ]
    },
    {
     "name": "stderr",
     "output_type": "stream",
     "text": [
      "100%|██████████| 1/1 [00:02<00:00,  2.04s/it]\n",
      "  0%|          | 3/834 [00:57<3:46:35, 16.36s/it]"
     ]
    },
    {
     "name": "stdout",
     "output_type": "stream",
     "text": [
      "https://reviews.webmd.com/drugs/drugreview-10326-triamterene\n"
     ]
    },
    {
     "name": "stderr",
     "output_type": "stream",
     "text": [
      "100%|██████████| 6/6 [00:15<00:00,  2.60s/it]\n",
      "  0%|          | 4/834 [01:16<4:01:18, 17.44s/it]"
     ]
    },
    {
     "name": "stdout",
     "output_type": "stream",
     "text": [
      "https://reviews.webmd.com/drugs/drugreview-10404-propranolol-capsule-24-hr-capsule-er-hr\n"
     ]
    },
    {
     "name": "stderr",
     "output_type": "stream",
     "text": [
      "100%|██████████| 21/21 [00:48<00:00,  2.33s/it]\n",
      "  1%|          | 5/834 [02:08<6:56:03, 30.11s/it]"
     ]
    },
    {
     "name": "stdout",
     "output_type": "stream",
     "text": [
      "https://reviews.webmd.com/drugs/drugreview-10404-propranolol-hcl\n"
     ]
    },
    {
     "name": "stderr",
     "output_type": "stream",
     "text": [
      "100%|██████████| 21/21 [00:54<00:00,  2.57s/it]\n",
      "  1%|          | 6/834 [03:08<9:14:18, 40.17s/it]"
     ]
    },
    {
     "name": "stdout",
     "output_type": "stream",
     "text": [
      "https://reviews.webmd.com/drugs/drugreview-10404-propranolol-hcl-er\n"
     ]
    },
    {
     "name": "stderr",
     "output_type": "stream",
     "text": [
      "100%|██████████| 21/21 [00:48<00:00,  2.33s/it]\n",
      "  1%|          | 7/834 [04:00<10:07:59, 44.11s/it]"
     ]
    },
    {
     "name": "stdout",
     "output_type": "stream",
     "text": [
      "https://reviews.webmd.com/drugs/drugreview-10404-propranolol-solution\n"
     ]
    },
    {
     "name": "stderr",
     "output_type": "stream",
     "text": [
      "100%|██████████| 21/21 [00:47<00:00,  2.26s/it]\n",
      "  1%|          | 8/834 [04:53<10:45:34, 46.89s/it]"
     ]
    },
    {
     "name": "stdout",
     "output_type": "stream",
     "text": [
      "https://reviews.webmd.com/drugs/drugreview-10461-pronol-tablet\n"
     ]
    },
    {
     "name": "stderr",
     "output_type": "stream",
     "text": [
      "  1%|          | 9/834 [04:56<7:37:08, 33.25s/it] "
     ]
    },
    {
     "name": "stdout",
     "output_type": "stream",
     "text": [
      "https://reviews.webmd.com/drugs/drugreview-10482-calan-tablet\n"
     ]
    },
    {
     "name": "stderr",
     "output_type": "stream",
     "text": [
      "100%|██████████| 1/1 [00:02<00:00,  2.32s/it]\n",
      "  1%|▏         | 11/834 [05:12<4:35:48, 20.11s/it]"
     ]
    },
    {
     "name": "stdout",
     "output_type": "stream",
     "text": [
      "skipping https://reviews.webmd.com/drugs/drugreview-10671-guanethidine-tablet: page not found\n",
      "https://reviews.webmd.com/drugs/drugreview-11035-atenolol\n"
     ]
    },
    {
     "name": "stderr",
     "output_type": "stream",
     "text": [
      "100%|██████████| 64/64 [02:49<00:00,  2.65s/it]\n",
      "  2%|▏         | 13/834 [08:09<10:50:51, 47.57s/it]"
     ]
    },
    {
     "name": "stdout",
     "output_type": "stream",
     "text": [
      "skipping https://reviews.webmd.com/drugs/drugreview-11063-methyldopate-hcl-vial: page not found\n"
     ]
    },
    {
     "name": "stderr",
     "output_type": "stream",
     "text": [
      "  2%|▏         | 14/834 [08:11<7:41:51, 33.80s/it] "
     ]
    },
    {
     "name": "stdout",
     "output_type": "stream",
     "text": [
      "skipping https://reviews.webmd.com/drugs/drugreview-11086-ismelin-tablet: page not found\n",
      "https://reviews.webmd.com/drugs/drugreview-11125-procardia-xl\n"
     ]
    },
    {
     "name": "stderr",
     "output_type": "stream",
     "text": [
      "100%|██████████| 3/3 [00:07<00:00,  2.54s/it]\n",
      "  2%|▏         | 15/834 [08:23<6:09:47, 27.09s/it]"
     ]
    },
    {
     "name": "stdout",
     "output_type": "stream",
     "text": [
      "https://reviews.webmd.com/drugs/drugreview-11207-metoprolol-tartrate\n"
     ]
    },
    {
     "name": "stderr",
     "output_type": "stream",
     "text": [
      "100%|██████████| 31/31 [01:12<00:00,  2.34s/it]\n",
      "  2%|▏         | 16/834 [09:40<9:34:55, 42.17s/it]"
     ]
    },
    {
     "name": "stdout",
     "output_type": "stream",
     "text": [
      "https://reviews.webmd.com/drugs/drugreview-11247-perindopril-erbumine\n"
     ]
    },
    {
     "name": "stderr",
     "output_type": "stream",
     "text": [
      "100%|██████████| 2/2 [00:05<00:00,  2.68s/it]\n",
      "  2%|▏         | 17/834 [09:49<7:18:57, 32.24s/it]"
     ]
    },
    {
     "name": "stdout",
     "output_type": "stream",
     "text": [
      "https://reviews.webmd.com/drugs/drugreview-11285-metformin-hcl\n"
     ]
    },
    {
     "name": "stderr",
     "output_type": "stream",
     "text": [
      "100%|██████████| 87/87 [03:43<00:00,  2.57s/it]\n",
      "  2%|▏         | 18/834 [13:36<20:34:56, 90.80s/it]"
     ]
    },
    {
     "name": "stdout",
     "output_type": "stream",
     "text": [
      "https://reviews.webmd.com/drugs/drugreview-11285-metformin-hcl-er\n"
     ]
    },
    {
     "name": "stderr",
     "output_type": "stream",
     "text": [
      "100%|██████████| 87/87 [03:22<00:00,  2.33s/it]\n",
      "  2%|▏         | 19/834 [17:04<28:31:56, 126.03s/it]"
     ]
    },
    {
     "name": "stdout",
     "output_type": "stream",
     "text": [
      "https://reviews.webmd.com/drugs/drugreview-11285-metformin-hcl-solution\n"
     ]
    },
    {
     "name": "stderr",
     "output_type": "stream",
     "text": [
      "100%|██████████| 87/87 [03:05<00:00,  2.13s/it]\n",
      "  2%|▏         | 20/834 [20:13<32:47:04, 144.99s/it]"
     ]
    },
    {
     "name": "stdout",
     "output_type": "stream",
     "text": [
      "https://reviews.webmd.com/drugs/drugreview-11285-metformin-suspension-er-reconstituted-suspension-reconstituted\n"
     ]
    },
    {
     "name": "stderr",
     "output_type": "stream",
     "text": [
      "100%|██████████| 87/87 [03:06<00:00,  2.14s/it]\n",
      "  3%|▎         | 21/834 [23:25<35:53:16, 158.91s/it]"
     ]
    },
    {
     "name": "stdout",
     "output_type": "stream",
     "text": [
      "https://reviews.webmd.com/drugs/drugreview-11294-glucophage-tablet\n"
     ]
    },
    {
     "name": "stderr",
     "output_type": "stream",
     "text": [
      "100%|██████████| 8/8 [00:16<00:00,  2.10s/it]\n",
      "  3%|▎         | 22/834 [23:45<26:28:06, 117.35s/it]"
     ]
    },
    {
     "name": "stdout",
     "output_type": "stream",
     "text": [
      "https://reviews.webmd.com/drugs/drugreview-11441-univasc-tablet\n"
     ]
    },
    {
     "name": "stderr",
     "output_type": "stream",
     "text": [
      "100%|██████████| 1/1 [00:01<00:00,  1.96s/it]\n",
      "  3%|▎         | 23/834 [23:52<18:59:37, 84.31s/it] "
     ]
    },
    {
     "name": "stdout",
     "output_type": "stream",
     "text": [
      "https://reviews.webmd.com/drugs/drugreview-11442-moexipril-hcl\n"
     ]
    },
    {
     "name": "stderr",
     "output_type": "stream",
     "text": [
      "100%|██████████| 1/1 [00:01<00:00,  1.91s/it]\n",
      "  3%|▎         | 24/834 [23:58<13:38:22, 60.62s/it]"
     ]
    },
    {
     "name": "stdout",
     "output_type": "stream",
     "text": [
      "https://reviews.webmd.com/drugs/drugreview-11481-amiloride-hcl\n"
     ]
    },
    {
     "name": "stderr",
     "output_type": "stream",
     "text": [
      "100%|██████████| 1/1 [00:02<00:00,  2.02s/it]\n",
      "  3%|▎         | 25/834 [24:04<9:58:32, 44.39s/it] "
     ]
    },
    {
     "name": "stdout",
     "output_type": "stream",
     "text": [
      "https://reviews.webmd.com/drugs/drugreview-11524-amlodipine-besylate-benazepril\n"
     ]
    },
    {
     "name": "stderr",
     "output_type": "stream",
     "text": [
      "100%|██████████| 8/8 [00:23<00:00,  2.92s/it]\n",
      "  3%|▎         | 26/834 [24:32<8:49:50, 39.34s/it]"
     ]
    },
    {
     "name": "stdout",
     "output_type": "stream",
     "text": [
      "https://reviews.webmd.com/drugs/drugreview-11528-cozaar\n"
     ]
    },
    {
     "name": "stderr",
     "output_type": "stream",
     "text": [
      "100%|██████████| 21/21 [00:58<00:00,  2.80s/it]\n",
      "  3%|▎         | 27/834 [25:35<10:24:01, 46.40s/it]"
     ]
    },
    {
     "name": "stdout",
     "output_type": "stream",
     "text": [
      "https://reviews.webmd.com/drugs/drugreview-11578-propranolol-hcl-cr-capsule-er\n"
     ]
    },
    {
     "name": "stderr",
     "output_type": "stream",
     "text": [
      "  3%|▎         | 29/834 [25:40<5:24:24, 24.18s/it] "
     ]
    },
    {
     "name": "stdout",
     "output_type": "stream",
     "text": [
      "skipping https://reviews.webmd.com/drugs/drugreview-11668-dymelor-tablet: page not found\n",
      "https://reviews.webmd.com/drugs/drugreview-11754-clonidine-hcl\n"
     ]
    },
    {
     "name": "stderr",
     "output_type": "stream",
     "text": [
      "100%|██████████| 23/23 [00:52<00:00,  2.30s/it]\n",
      "  4%|▎         | 30/834 [26:37<7:34:05, 33.89s/it]"
     ]
    },
    {
     "name": "stdout",
     "output_type": "stream",
     "text": [
      "https://reviews.webmd.com/drugs/drugreview-11754-clonidine-hcl-er\n"
     ]
    },
    {
     "name": "stderr",
     "output_type": "stream",
     "text": [
      "100%|██████████| 23/23 [00:56<00:00,  2.47s/it]\n",
      "  4%|▎         | 31/834 [27:38<9:21:42, 41.97s/it]"
     ]
    },
    {
     "name": "stdout",
     "output_type": "stream",
     "text": [
      "https://reviews.webmd.com/drugs/drugreview-11754-clonidine-hcl-er-tablet-24-hr\n"
     ]
    },
    {
     "name": "stderr",
     "output_type": "stream",
     "text": [
      "100%|██████████| 23/23 [00:55<00:00,  2.43s/it]\n",
      "  4%|▍         | 32/834 [28:40<10:40:31, 47.92s/it]"
     ]
    },
    {
     "name": "stdout",
     "output_type": "stream",
     "text": [
      "https://reviews.webmd.com/drugs/drugreview-11755-nadolol\n"
     ]
    },
    {
     "name": "stderr",
     "output_type": "stream",
     "text": [
      "100%|██████████| 3/3 [00:06<00:00,  2.22s/it]\n",
      "  4%|▍         | 33/834 [28:50<8:07:26, 36.51s/it] "
     ]
    },
    {
     "name": "stdout",
     "output_type": "stream",
     "text": [
      "https://reviews.webmd.com/drugs/drugreview-11773-glucotrol\n"
     ]
    },
    {
     "name": "stderr",
     "output_type": "stream",
     "text": [
      "100%|██████████| 1/1 [00:02<00:00,  2.93s/it]\n",
      "  4%|▍         | 35/834 [28:59<4:26:31, 20.01s/it]"
     ]
    },
    {
     "name": "stdout",
     "output_type": "stream",
     "text": [
      "skipping https://reviews.webmd.com/drugs/drugreview-11926-insulin-reg-human-buffered-solution: page not found\n"
     ]
    },
    {
     "name": "stderr",
     "output_type": "stream",
     "text": [
      "  4%|▍         | 36/834 [29:01<3:14:36, 14.63s/it]"
     ]
    },
    {
     "name": "stdout",
     "output_type": "stream",
     "text": [
      "skipping https://reviews.webmd.com/drugs/drugreview-11965-insulin-regular-beef-pork-solution: page not found\n"
     ]
    },
    {
     "name": "stderr",
     "output_type": "stream",
     "text": [
      "  4%|▍         | 37/834 [29:03<2:24:03, 10.84s/it]"
     ]
    },
    {
     "name": "stdout",
     "output_type": "stream",
     "text": [
      "skipping https://reviews.webmd.com/drugs/drugreview-11967-insulin-zinc-beef-pork-suspension: page not found\n"
     ]
    },
    {
     "name": "stderr",
     "output_type": "stream",
     "text": [
      "  5%|▍         | 38/834 [29:04<1:47:17,  8.09s/it]"
     ]
    },
    {
     "name": "stdout",
     "output_type": "stream",
     "text": [
      "skipping https://reviews.webmd.com/drugs/drugreview-11968-iletin-i-lente-suspension: page not found\n"
     ]
    },
    {
     "name": "stderr",
     "output_type": "stream",
     "text": [
      "  5%|▍         | 39/834 [29:06<1:21:48,  6.17s/it]"
     ]
    },
    {
     "name": "stdout",
     "output_type": "stream",
     "text": [
      "skipping https://reviews.webmd.com/drugs/drugreview-11969-iletin-i-regular-solution: page not found\n"
     ]
    },
    {
     "name": "stderr",
     "output_type": "stream",
     "text": [
      "  5%|▍         | 40/834 [29:08<1:03:52,  4.83s/it]"
     ]
    },
    {
     "name": "stdout",
     "output_type": "stream",
     "text": [
      "skipping https://reviews.webmd.com/drugs/drugreview-11970-iletin-ii-lente-pork-suspension: page not found\n",
      "https://reviews.webmd.com/drugs/drugreview-11971-insulin-purified-nph-pork-suspension\n"
     ]
    },
    {
     "name": "stderr",
     "output_type": "stream",
     "text": [
      "  5%|▍         | 41/834 [29:10<54:53,  4.15s/it]  "
     ]
    },
    {
     "name": "stdout",
     "output_type": "stream",
     "text": [
      "https://reviews.webmd.com/drugs/drugreview-11981-insulin-regular-pork-solution\n"
     ]
    },
    {
     "name": "stderr",
     "output_type": "stream",
     "text": [
      "  5%|▌         | 42/834 [29:13<50:16,  3.81s/it]"
     ]
    },
    {
     "name": "stdout",
     "output_type": "stream",
     "text": [
      "https://reviews.webmd.com/drugs/drugreview-11982-iletin-ii-regular-pork-solution\n"
     ]
    },
    {
     "name": "stderr",
     "output_type": "stream",
     "text": [
      "  5%|▌         | 43/834 [29:16<45:42,  3.47s/it]"
     ]
    },
    {
     "name": "stdout",
     "output_type": "stream",
     "text": [
      "https://reviews.webmd.com/drugs/drugreview-12067-nisoldipine\n"
     ]
    },
    {
     "name": "stderr",
     "output_type": "stream",
     "text": [
      "100%|██████████| 1/1 [00:01<00:00,  1.83s/it]\n",
      "  5%|▌         | 44/834 [29:21<50:15,  3.82s/it]"
     ]
    },
    {
     "name": "stdout",
     "output_type": "stream",
     "text": [
      "https://reviews.webmd.com/drugs/drugreview-12067-nisoldipine-tablet-er-24-hr\n"
     ]
    },
    {
     "name": "stderr",
     "output_type": "stream",
     "text": [
      "100%|██████████| 1/1 [00:01<00:00,  1.54s/it]\n",
      "  5%|▌         | 45/834 [29:25<52:43,  4.01s/it]"
     ]
    },
    {
     "name": "stdout",
     "output_type": "stream",
     "text": [
      "https://reviews.webmd.com/drugs/drugreview-12134-sular\n"
     ]
    },
    {
     "name": "stderr",
     "output_type": "stream",
     "text": [
      "100%|██████████| 2/2 [00:03<00:00,  1.65s/it]\n",
      "  6%|▌         | 46/834 [29:32<1:02:35,  4.77s/it]"
     ]
    },
    {
     "name": "stdout",
     "output_type": "stream",
     "text": [
      "https://reviews.webmd.com/drugs/drugreview-12134-sular-tablet-er-24-hr\n"
     ]
    },
    {
     "name": "stderr",
     "output_type": "stream",
     "text": [
      "100%|██████████| 2/2 [00:04<00:00,  2.18s/it]\n",
      "  6%|▌         | 47/834 [29:39<1:13:10,  5.58s/it]"
     ]
    },
    {
     "name": "stdout",
     "output_type": "stream",
     "text": [
      "https://reviews.webmd.com/drugs/drugreview-12271-glimepiride\n"
     ]
    },
    {
     "name": "stderr",
     "output_type": "stream",
     "text": [
      "100%|██████████| 9/9 [00:16<00:00,  1.83s/it]\n",
      "  6%|▌         | 48/834 [29:59<2:08:14,  9.79s/it]"
     ]
    },
    {
     "name": "stdout",
     "output_type": "stream",
     "text": [
      "https://reviews.webmd.com/drugs/drugreview-12297-amaryl\n"
     ]
    },
    {
     "name": "stderr",
     "output_type": "stream",
     "text": [
      "100%|██████████| 5/5 [00:11<00:00,  2.36s/it]\n",
      "  6%|▌         | 49/834 [30:13<2:27:27, 11.27s/it]"
     ]
    },
    {
     "name": "stdout",
     "output_type": "stream",
     "text": [
      "https://reviews.webmd.com/drugs/drugreview-12360-indapamide\n"
     ]
    },
    {
     "name": "stderr",
     "output_type": "stream",
     "text": [
      "100%|██████████| 2/2 [00:04<00:00,  2.22s/it]\n",
      "  6%|▌         | 50/834 [30:21<2:14:11, 10.27s/it]"
     ]
    },
    {
     "name": "stdout",
     "output_type": "stream",
     "text": [
      "https://reviews.webmd.com/drugs/drugreview-12430-trandolapril\n"
     ]
    },
    {
     "name": "stderr",
     "output_type": "stream",
     "text": [
      "100%|██████████| 1/1 [00:01<00:00,  1.62s/it]\n",
      "  6%|▌         | 51/834 [30:26<1:50:48,  8.49s/it]"
     ]
    },
    {
     "name": "stdout",
     "output_type": "stream",
     "text": [
      "https://reviews.webmd.com/drugs/drugreview-12566-mavik-tablet\n"
     ]
    },
    {
     "name": "stderr",
     "output_type": "stream",
     "text": [
      "100%|██████████| 2/2 [00:04<00:00,  2.37s/it]\n",
      "  6%|▌         | 52/834 [30:36<1:55:49,  8.89s/it]"
     ]
    },
    {
     "name": "stdout",
     "output_type": "stream",
     "text": [
      "https://reviews.webmd.com/drugs/drugreview-1284-miglitol\n"
     ]
    },
    {
     "name": "stderr",
     "output_type": "stream",
     "text": [
      "100%|██████████| 1/1 [00:01<00:00,  1.41s/it]\n",
      "  6%|▋         | 53/834 [30:40<1:36:41,  7.43s/it]"
     ]
    },
    {
     "name": "stdout",
     "output_type": "stream",
     "text": [
      "https://reviews.webmd.com/drugs/drugreview-134-senormin-tablet\n"
     ]
    },
    {
     "name": "stderr",
     "output_type": "stream",
     "text": [
      "  7%|▋         | 55/834 [30:45<1:05:22,  5.04s/it]"
     ]
    },
    {
     "name": "stdout",
     "output_type": "stream",
     "text": [
      "skipping https://reviews.webmd.com/drugs/drugreview-13774-covera-hs-tablet-er-24-hr: page not found\n",
      "https://reviews.webmd.com/drugs/drugreview-13818-humalog-cartridge\n"
     ]
    },
    {
     "name": "stderr",
     "output_type": "stream",
     "text": [
      "100%|██████████| 2/2 [00:04<00:00,  2.24s/it]\n",
      "  7%|▋         | 56/834 [30:53<1:17:04,  5.94s/it]"
     ]
    },
    {
     "name": "stdout",
     "output_type": "stream",
     "text": [
      "https://reviews.webmd.com/drugs/drugreview-14061-cardene-capsule\n"
     ]
    },
    {
     "name": "stderr",
     "output_type": "stream",
     "text": [
      "  7%|▋         | 57/834 [30:56<1:06:24,  5.13s/it]"
     ]
    },
    {
     "name": "stdout",
     "output_type": "stream",
     "text": [
      "https://reviews.webmd.com/drugs/drugreview-14206-bisoprolol-fumarate\n"
     ]
    },
    {
     "name": "stderr",
     "output_type": "stream",
     "text": [
      "100%|██████████| 5/5 [00:11<00:00,  2.38s/it]\n",
      "  7%|▋         | 59/834 [31:16<1:26:46,  6.72s/it]"
     ]
    },
    {
     "name": "stdout",
     "output_type": "stream",
     "text": [
      "skipping https://reviews.webmd.com/drugs/drugreview-14207-torsemide-solution: page not found\n",
      "https://reviews.webmd.com/drugs/drugreview-14219-thsc-hydrochlorothiazide-tablet\n"
     ]
    },
    {
     "name": "stderr",
     "output_type": "stream",
     "text": [
      "  7%|▋         | 60/834 [31:19<1:13:09,  5.67s/it]"
     ]
    },
    {
     "name": "stdout",
     "output_type": "stream",
     "text": [
      "https://reviews.webmd.com/drugs/drugreview-14222-thsc-atenolol-tablet\n"
     ]
    },
    {
     "name": "stderr",
     "output_type": "stream",
     "text": [
      "  7%|▋         | 61/834 [31:22<1:05:14,  5.06s/it]"
     ]
    },
    {
     "name": "stdout",
     "output_type": "stream",
     "text": [
      "https://reviews.webmd.com/drugs/drugreview-14225-thsc-propranolol-hcl-tablet\n"
     ]
    },
    {
     "name": "stderr",
     "output_type": "stream",
     "text": [
      "  7%|▋         | 62/834 [31:27<1:02:55,  4.89s/it]"
     ]
    },
    {
     "name": "stdout",
     "output_type": "stream",
     "text": [
      "https://reviews.webmd.com/drugs/drugreview-14228-thsc-glyburide-tablet\n"
     ]
    },
    {
     "name": "stderr",
     "output_type": "stream",
     "text": [
      "  8%|▊         | 63/834 [31:30<54:12,  4.22s/it]  "
     ]
    },
    {
     "name": "stdout",
     "output_type": "stream",
     "text": [
      "https://reviews.webmd.com/drugs/drugreview-14230-thsc-nifedipine-cr-tablet-er\n"
     ]
    },
    {
     "name": "stderr",
     "output_type": "stream",
     "text": [
      "  8%|▊         | 64/834 [31:33<49:30,  3.86s/it]"
     ]
    },
    {
     "name": "stdout",
     "output_type": "stream",
     "text": [
      "https://reviews.webmd.com/drugs/drugreview-14233-thsc-furosemide-tablet\n"
     ]
    },
    {
     "name": "stderr",
     "output_type": "stream",
     "text": [
      "  8%|▊         | 65/834 [31:36<49:43,  3.88s/it]"
     ]
    },
    {
     "name": "stdout",
     "output_type": "stream",
     "text": [
      "https://reviews.webmd.com/drugs/drugreview-14239-thsc-verapamil-hcl-cr-tablet-er\n"
     ]
    },
    {
     "name": "stderr",
     "output_type": "stream",
     "text": [
      "  8%|▊         | 66/834 [31:40<46:49,  3.66s/it]"
     ]
    },
    {
     "name": "stdout",
     "output_type": "stream",
     "text": [
      "https://reviews.webmd.com/drugs/drugreview-14240-thsc-lisinopril-tablet\n"
     ]
    },
    {
     "name": "stderr",
     "output_type": "stream",
     "text": [
      "  8%|▊         | 67/834 [31:45<53:13,  4.16s/it]"
     ]
    },
    {
     "name": "stdout",
     "output_type": "stream",
     "text": [
      "https://reviews.webmd.com/drugs/drugreview-14244-thsc-captopril-tablet\n"
     ]
    },
    {
     "name": "stderr",
     "output_type": "stream",
     "text": [
      "  8%|▊         | 68/834 [31:49<50:41,  3.97s/it]"
     ]
    },
    {
     "name": "stdout",
     "output_type": "stream",
     "text": [
      "https://reviews.webmd.com/drugs/drugreview-14251-thsc-metoprolol-tartrate-tablet\n"
     ]
    },
    {
     "name": "stderr",
     "output_type": "stream",
     "text": [
      "  8%|▊         | 69/834 [31:52<47:58,  3.76s/it]"
     ]
    },
    {
     "name": "stdout",
     "output_type": "stream",
     "text": [
      "https://reviews.webmd.com/drugs/drugreview-14338-trandolapril-verapamil-er\n"
     ]
    },
    {
     "name": "stderr",
     "output_type": "stream",
     "text": [
      "100%|██████████| 1/1 [00:01<00:00,  1.69s/it]\n",
      "  9%|▊         | 71/834 [32:00<48:41,  3.83s/it]"
     ]
    },
    {
     "name": "stdout",
     "output_type": "stream",
     "text": [
      "skipping https://reviews.webmd.com/drugs/drugreview-14352-acetohexamide-tablet: page not found\n",
      "https://reviews.webmd.com/drugs/drugreview-14386-pindolol\n"
     ]
    },
    {
     "name": "stderr",
     "output_type": "stream",
     "text": [
      "100%|██████████| 1/1 [00:01<00:00,  1.66s/it]\n",
      "  9%|▉         | 73/834 [32:07<44:42,  3.53s/it]"
     ]
    },
    {
     "name": "stdout",
     "output_type": "stream",
     "text": [
      "skipping https://reviews.webmd.com/drugs/drugreview-144565-insulin-combo-pack-combination-package: page not found\n"
     ]
    },
    {
     "name": "stderr",
     "output_type": "stream",
     "text": [
      "  9%|▉         | 74/834 [32:09<37:38,  2.97s/it]"
     ]
    },
    {
     "name": "stdout",
     "output_type": "stream",
     "text": [
      "skipping https://reviews.webmd.com/drugs/drugreview-144567-insulin-kit-inhaler: page not found\n"
     ]
    },
    {
     "name": "stderr",
     "output_type": "stream",
     "text": [
      "  9%|▉         | 75/834 [32:10<32:20,  2.56s/it]"
     ]
    },
    {
     "name": "stdout",
     "output_type": "stream",
     "text": [
      "skipping https://reviews.webmd.com/drugs/drugreview-144581-exubera-kit-inhaler: page not found\n"
     ]
    },
    {
     "name": "stderr",
     "output_type": "stream",
     "text": [
      "  9%|▉         | 76/834 [32:12<28:40,  2.27s/it]"
     ]
    },
    {
     "name": "stdout",
     "output_type": "stream",
     "text": [
      "skipping https://reviews.webmd.com/drugs/drugreview-144582-exubera-combination-pack-15-package: page not found\n"
     ]
    },
    {
     "name": "stderr",
     "output_type": "stream",
     "text": [
      "  9%|▉         | 77/834 [32:14<25:51,  2.05s/it]"
     ]
    },
    {
     "name": "stdout",
     "output_type": "stream",
     "text": [
      "skipping https://reviews.webmd.com/drugs/drugreview-144583-exubera-combination-pack-12-package: page not found\n"
     ]
    },
    {
     "name": "stderr",
     "output_type": "stream",
     "text": [
      "  9%|▉         | 78/834 [32:16<25:23,  2.01s/it]"
     ]
    },
    {
     "name": "stdout",
     "output_type": "stream",
     "text": [
      "skipping https://reviews.webmd.com/drugs/drugreview-14461-humulin-l-suspension: page not found\n",
      "https://reviews.webmd.com/drugs/drugreview-144868-glumetza\n"
     ]
    },
    {
     "name": "stderr",
     "output_type": "stream",
     "text": [
      "100%|██████████| 4/4 [00:07<00:00,  1.92s/it]\n",
      "  9%|▉         | 79/834 [32:27<59:42,  4.75s/it]"
     ]
    },
    {
     "name": "stdout",
     "output_type": "stream",
     "text": [
      "https://reviews.webmd.com/drugs/drugreview-144978-pioglitazone-glimepiride\n"
     ]
    },
    {
     "name": "stderr",
     "output_type": "stream",
     "text": [
      " 10%|▉         | 80/834 [32:29<51:31,  4.10s/it]"
     ]
    },
    {
     "name": "stdout",
     "output_type": "stream",
     "text": [
      "https://reviews.webmd.com/drugs/drugreview-144983-duetact\n"
     ]
    },
    {
     "name": "stderr",
     "output_type": "stream",
     "text": [
      "100%|██████████| 1/1 [00:01<00:00,  1.88s/it]\n",
      " 10%|▉         | 81/834 [32:34<53:56,  4.30s/it]"
     ]
    },
    {
     "name": "stdout",
     "output_type": "stream",
     "text": [
      "https://reviews.webmd.com/drugs/drugreview-14536-insulin-regular-human-pen\n"
     ]
    },
    {
     "name": "stderr",
     "output_type": "stream",
     "text": [
      " 10%|▉         | 82/834 [32:38<52:24,  4.18s/it]"
     ]
    },
    {
     "name": "stdout",
     "output_type": "stream",
     "text": [
      "https://reviews.webmd.com/drugs/drugreview-145697-sitagliptin-phosphate-tablet\n"
     ]
    },
    {
     "name": "stderr",
     "output_type": "stream",
     "text": [
      "100%|██████████| 1/1 [00:01<00:00,  1.71s/it]\n",
      " 10%|▉         | 83/834 [32:43<54:15,  4.34s/it]"
     ]
    },
    {
     "name": "stdout",
     "output_type": "stream",
     "text": [
      "https://reviews.webmd.com/drugs/drugreview-145704-januvia\n"
     ]
    },
    {
     "name": "stderr",
     "output_type": "stream",
     "text": [
      "100%|██████████| 24/24 [00:50<00:00,  2.11s/it]\n",
      " 10%|█         | 84/834 [33:37<4:01:25, 19.31s/it]"
     ]
    },
    {
     "name": "stdout",
     "output_type": "stream",
     "text": [
      "https://reviews.webmd.com/drugs/drugreview-14575-bumetanide\n"
     ]
    },
    {
     "name": "stderr",
     "output_type": "stream",
     "text": [
      "100%|██████████| 2/2 [00:03<00:00,  1.84s/it]\n",
      " 10%|█         | 85/834 [33:45<3:19:02, 15.94s/it]"
     ]
    },
    {
     "name": "stdout",
     "output_type": "stream",
     "text": [
      "https://reviews.webmd.com/drugs/drugreview-14592-propranolol-hcl-intensol-drops\n"
     ]
    },
    {
     "name": "stderr",
     "output_type": "stream",
     "text": [
      " 10%|█         | 86/834 [33:48<2:31:02, 12.12s/it]"
     ]
    },
    {
     "name": "stdout",
     "output_type": "stream",
     "text": [
      "https://reviews.webmd.com/drugs/drugreview-14634-microzide-capsule\n"
     ]
    },
    {
     "name": "stderr",
     "output_type": "stream",
     "text": [
      "100%|██████████| 2/2 [00:04<00:00,  2.13s/it]\n",
      " 10%|█         | 87/834 [33:56<2:13:11, 10.70s/it]"
     ]
    },
    {
     "name": "stdout",
     "output_type": "stream",
     "text": [
      "https://reviews.webmd.com/drugs/drugreview-1468-novolin-70-30-vial\n"
     ]
    },
    {
     "name": "stderr",
     "output_type": "stream",
     "text": [
      "100%|██████████| 1/1 [00:01<00:00,  1.85s/it]\n",
      " 11%|█         | 89/834 [34:04<1:28:58,  7.17s/it]"
     ]
    },
    {
     "name": "stdout",
     "output_type": "stream",
     "text": [
      "skipping https://reviews.webmd.com/drugs/drugreview-1469-novolin-l-semi-synthetic-suspension: page not found\n",
      "https://reviews.webmd.com/drugs/drugreview-1470-novolin-n-semi-synthetic-suspension\n"
     ]
    },
    {
     "name": "stderr",
     "output_type": "stream",
     "text": [
      "100%|██████████| 1/1 [00:01<00:00,  1.79s/it]\n",
      " 11%|█         | 90/834 [34:09<1:21:09,  6.55s/it]"
     ]
    },
    {
     "name": "stdout",
     "output_type": "stream",
     "text": [
      "https://reviews.webmd.com/drugs/drugreview-1471-novolin-r-vial\n"
     ]
    },
    {
     "name": "stderr",
     "output_type": "stream",
     "text": [
      "100%|██████████| 1/1 [00:02<00:00,  2.22s/it]\n",
      " 11%|█         | 92/834 [34:18<1:05:29,  5.30s/it]"
     ]
    },
    {
     "name": "stdout",
     "output_type": "stream",
     "text": [
      "skipping https://reviews.webmd.com/drugs/drugreview-14750-enalapril-maleate-felodipine-tablet-er: page not found\n",
      "https://reviews.webmd.com/drugs/drugreview-147671-aliskiren\n"
     ]
    },
    {
     "name": "stderr",
     "output_type": "stream",
     "text": [
      "100%|██████████| 1/1 [00:01<00:00,  1.82s/it]\n",
      " 11%|█         | 93/834 [34:24<1:10:17,  5.69s/it]"
     ]
    },
    {
     "name": "stdout",
     "output_type": "stream",
     "text": [
      "https://reviews.webmd.com/drugs/drugreview-147683-tekturna\n"
     ]
    },
    {
     "name": "stderr",
     "output_type": "stream",
     "text": [
      "100%|██████████| 9/9 [00:22<00:00,  2.50s/it]\n",
      " 11%|█▏        | 95/834 [34:52<1:48:25,  8.80s/it]"
     ]
    },
    {
     "name": "stdout",
     "output_type": "stream",
     "text": [
      "skipping https://reviews.webmd.com/drugs/drugreview-147838-exubera-patient-pack-combination-package: page not found\n"
     ]
    },
    {
     "name": "stderr",
     "output_type": "stream",
     "text": [
      " 12%|█▏        | 96/834 [34:54<1:22:16,  6.69s/it]"
     ]
    },
    {
     "name": "stdout",
     "output_type": "stream",
     "text": [
      "skipping https://reviews.webmd.com/drugs/drugreview-14797-cam-ap-es-tablet: page not found\n",
      "https://reviews.webmd.com/drugs/drugreview-148063-sitagliptin-phos-metformin-tablet\n"
     ]
    },
    {
     "name": "stderr",
     "output_type": "stream",
     "text": [
      "100%|██████████| 1/1 [00:01<00:00,  1.55s/it]\n",
      " 12%|█▏        | 97/834 [34:58<1:14:25,  6.06s/it]"
     ]
    },
    {
     "name": "stdout",
     "output_type": "stream",
     "text": [
      "https://reviews.webmd.com/drugs/drugreview-148063-sitagliptin-phos-metformin-tablet-multiphase-24-hr-tablet-er-hr\n"
     ]
    },
    {
     "name": "stderr",
     "output_type": "stream",
     "text": [
      "100%|██████████| 1/1 [00:01<00:00,  1.44s/it]\n",
      " 12%|█▏        | 98/834 [35:03<1:09:57,  5.70s/it]"
     ]
    },
    {
     "name": "stdout",
     "output_type": "stream",
     "text": [
      "https://reviews.webmd.com/drugs/drugreview-148074-janumet\n"
     ]
    },
    {
     "name": "stderr",
     "output_type": "stream",
     "text": [
      "100%|██████████| 11/11 [00:22<00:00,  2.08s/it]\n",
      " 12%|█▏        | 99/834 [35:29<2:24:03, 11.76s/it]"
     ]
    },
    {
     "name": "stdout",
     "output_type": "stream",
     "text": [
      "https://reviews.webmd.com/drugs/drugreview-14850-humulin-50-50-suspension\n"
     ]
    },
    {
     "name": "stderr",
     "output_type": "stream",
     "text": [
      "100%|██████████| 1/1 [00:01<00:00,  1.53s/it]\n",
      " 12%|█▏        | 101/834 [35:36<1:29:27,  7.32s/it]"
     ]
    },
    {
     "name": "stdout",
     "output_type": "stream",
     "text": [
      "skipping https://reviews.webmd.com/drugs/drugreview-14851-hydrap-es-tablet: page not found\n",
      "https://reviews.webmd.com/drugs/drugreview-148561-amlodipine-valsartan\n"
     ]
    },
    {
     "name": "stderr",
     "output_type": "stream",
     "text": [
      "100%|██████████| 1/1 [00:01<00:00,  1.93s/it]\n",
      " 12%|█▏        | 102/834 [35:42<1:25:07,  6.98s/it]"
     ]
    },
    {
     "name": "stdout",
     "output_type": "stream",
     "text": [
      "https://reviews.webmd.com/drugs/drugreview-148564-exforge\n"
     ]
    },
    {
     "name": "stderr",
     "output_type": "stream",
     "text": [
      "100%|██████████| 13/13 [00:26<00:00,  2.00s/it]\n",
      " 12%|█▏        | 103/834 [36:11<2:45:00, 13.54s/it]"
     ]
    },
    {
     "name": "stdout",
     "output_type": "stream",
     "text": [
      "https://reviews.webmd.com/drugs/drugreview-148652-lantus-solostar-insulin-pen\n"
     ]
    },
    {
     "name": "stderr",
     "output_type": "stream",
     "text": [
      "100%|██████████| 6/6 [00:11<00:00,  1.85s/it]\n",
      " 12%|█▏        | 104/834 [36:25<2:46:40, 13.70s/it]"
     ]
    },
    {
     "name": "stdout",
     "output_type": "stream",
     "text": [
      "https://reviews.webmd.com/drugs/drugreview-148915-naldol-tablet\n"
     ]
    },
    {
     "name": "stderr",
     "output_type": "stream",
     "text": [
      "100%|██████████| 1/1 [00:02<00:00,  2.72s/it]\n",
      " 13%|█▎        | 106/834 [36:32<1:42:22,  8.44s/it]"
     ]
    },
    {
     "name": "stdout",
     "output_type": "stream",
     "text": [
      "skipping https://reviews.webmd.com/drugs/drugreview-14916-serpazide-tablet: page not found\n",
      "https://reviews.webmd.com/drugs/drugreview-149214-amlodipine-olmesartan\n"
     ]
    },
    {
     "name": "stderr",
     "output_type": "stream",
     "text": [
      "100%|██████████| 1/1 [00:01<00:00,  1.50s/it]\n",
      " 13%|█▎        | 107/834 [36:37<1:27:22,  7.21s/it]"
     ]
    },
    {
     "name": "stdout",
     "output_type": "stream",
     "text": [
      "https://reviews.webmd.com/drugs/drugreview-149217-azor\n"
     ]
    },
    {
     "name": "stderr",
     "output_type": "stream",
     "text": [
      "100%|██████████| 16/16 [00:30<00:00,  1.88s/it]\n",
      " 13%|█▎        | 108/834 [37:10<3:01:11, 14.97s/it]"
     ]
    },
    {
     "name": "stdout",
     "output_type": "stream",
     "text": [
      "https://reviews.webmd.com/drugs/drugreview-1494-cardizem-cd\n"
     ]
    },
    {
     "name": "stderr",
     "output_type": "stream",
     "text": [
      "100%|██████████| 4/4 [00:07<00:00,  1.98s/it]\n",
      " 13%|█▎        | 110/834 [37:23<2:05:31, 10.40s/it]"
     ]
    },
    {
     "name": "stdout",
     "output_type": "stream",
     "text": [
      "skipping https://reviews.webmd.com/drugs/drugreview-14942-uni-serp-tablet: page not found\n",
      "https://reviews.webmd.com/drugs/drugreview-1495-dilacor-xr-capsule-er\n"
     ]
    },
    {
     "name": "stderr",
     "output_type": "stream",
     "text": [
      "100%|██████████| 1/1 [00:02<00:00,  2.01s/it]\n",
      " 13%|█▎        | 112/834 [37:32<1:25:30,  7.11s/it]"
     ]
    },
    {
     "name": "stdout",
     "output_type": "stream",
     "text": [
      "skipping https://reviews.webmd.com/drugs/drugreview-14968-3h-w-r-tablet: page not found\n"
     ]
    },
    {
     "name": "stderr",
     "output_type": "stream",
     "text": [
      " 14%|█▎        | 113/834 [37:35<1:10:00,  5.83s/it]"
     ]
    },
    {
     "name": "stdout",
     "output_type": "stream",
     "text": [
      "skipping https://reviews.webmd.com/drugs/drugreview-14977-hyserp-tablet: page not found\n",
      "https://reviews.webmd.com/drugs/drugreview-149828-humalog-kwikpen-u-100-insulin-pen\n"
     ]
    },
    {
     "name": "stderr",
     "output_type": "stream",
     "text": [
      "100%|██████████| 2/2 [00:04<00:00,  2.17s/it]\n",
      " 14%|█▎        | 114/834 [37:43<1:18:14,  6.52s/it]"
     ]
    },
    {
     "name": "stdout",
     "output_type": "stream",
     "text": [
      "https://reviews.webmd.com/drugs/drugreview-149829-humalog-mix-75-25-kwikpen-insulin-pen\n"
     ]
    },
    {
     "name": "stderr",
     "output_type": "stream",
     "text": [
      "100%|██████████| 1/1 [00:02<00:00,  2.21s/it]\n",
      " 14%|█▍        | 115/834 [37:49<1:14:28,  6.21s/it]"
     ]
    },
    {
     "name": "stdout",
     "output_type": "stream",
     "text": [
      "https://reviews.webmd.com/drugs/drugreview-149830-humalog-mix-50-50-kwikpen-insulin-pen\n"
     ]
    },
    {
     "name": "stderr",
     "output_type": "stream",
     "text": [
      "100%|██████████| 1/1 [00:01<00:00,  1.75s/it]\n",
      " 14%|█▍        | 116/834 [37:54<1:10:18,  5.88s/it]"
     ]
    },
    {
     "name": "stdout",
     "output_type": "stream",
     "text": [
      "https://reviews.webmd.com/drugs/drugreview-149866-nebivolol-hcl\n"
     ]
    },
    {
     "name": "stderr",
     "output_type": "stream",
     "text": [
      "100%|██████████| 2/2 [00:04<00:00,  2.13s/it]\n",
      " 14%|█▍        | 117/834 [38:02<1:18:29,  6.57s/it]"
     ]
    },
    {
     "name": "stdout",
     "output_type": "stream",
     "text": [
      "https://reviews.webmd.com/drugs/drugreview-149883-bystolic\n"
     ]
    },
    {
     "name": "stderr",
     "output_type": "stream",
     "text": [
      "100%|██████████| 45/45 [01:44<00:00,  2.31s/it]\n",
      " 14%|█▍        | 118/834 [39:50<7:21:30, 37.00s/it]"
     ]
    },
    {
     "name": "stdout",
     "output_type": "stream",
     "text": [
      "https://reviews.webmd.com/drugs/drugreview-149962-aliskiren-hydrochlorothiazide-tablet\n"
     ]
    },
    {
     "name": "stderr",
     "output_type": "stream",
     "text": [
      " 14%|█▍        | 119/834 [39:52<5:17:59, 26.69s/it]"
     ]
    },
    {
     "name": "stdout",
     "output_type": "stream",
     "text": [
      "https://reviews.webmd.com/drugs/drugreview-149976-tekturna-hct\n"
     ]
    },
    {
     "name": "stderr",
     "output_type": "stream",
     "text": [
      "100%|██████████| 3/3 [00:05<00:00,  1.80s/it]\n",
      " 14%|█▍        | 120/834 [40:01<4:12:01, 21.18s/it]"
     ]
    },
    {
     "name": "stdout",
     "output_type": "stream",
     "text": [
      "https://reviews.webmd.com/drugs/drugreview-1504-tiazac\n"
     ]
    },
    {
     "name": "stderr",
     "output_type": "stream",
     "text": [
      "100%|██████████| 2/2 [00:03<00:00,  1.88s/it]\n",
      " 15%|█▍        | 122/834 [40:11<2:29:36, 12.61s/it]"
     ]
    },
    {
     "name": "stdout",
     "output_type": "stream",
     "text": [
      "skipping https://reviews.webmd.com/drugs/drugreview-151192-cleviprex-vial: page not found\n"
     ]
    },
    {
     "name": "stderr",
     "output_type": "stream",
     "text": [
      " 15%|█▍        | 123/834 [40:12<1:50:54,  9.36s/it]"
     ]
    },
    {
     "name": "stdout",
     "output_type": "stream",
     "text": [
      "skipping https://reviews.webmd.com/drugs/drugreview-151643-repaglinide-metformin-tablet: page not found\n"
     ]
    },
    {
     "name": "stderr",
     "output_type": "stream",
     "text": [
      " 15%|█▍        | 124/834 [40:15<1:26:19,  7.29s/it]"
     ]
    },
    {
     "name": "stdout",
     "output_type": "stream",
     "text": [
      "skipping https://reviews.webmd.com/drugs/drugreview-151644-prandimet-tablet: page not found\n",
      "https://reviews.webmd.com/drugs/drugreview-152040-apidra-solostar-insulin-pen\n"
     ]
    },
    {
     "name": "stderr",
     "output_type": "stream",
     "text": [
      "100%|██████████| 1/1 [00:02<00:00,  2.25s/it]\n",
      " 15%|█▍        | 125/834 [40:21<1:20:49,  6.84s/it]"
     ]
    },
    {
     "name": "stdout",
     "output_type": "stream",
     "text": [
      "https://reviews.webmd.com/drugs/drugreview-152357-amlodipine-valsartan-hctz\n"
     ]
    },
    {
     "name": "stderr",
     "output_type": "stream",
     "text": [
      "100%|██████████| 1/1 [00:01<00:00,  1.49s/it]\n",
      " 15%|█▌        | 126/834 [40:27<1:17:47,  6.59s/it]"
     ]
    },
    {
     "name": "stdout",
     "output_type": "stream",
     "text": [
      "https://reviews.webmd.com/drugs/drugreview-152359-exforge-hct\n"
     ]
    },
    {
     "name": "stderr",
     "output_type": "stream",
     "text": [
      "100%|██████████| 3/3 [00:05<00:00,  1.81s/it]\n",
      " 15%|█▌        | 127/834 [40:35<1:24:23,  7.16s/it]"
     ]
    },
    {
     "name": "stdout",
     "output_type": "stream",
     "text": [
      "https://reviews.webmd.com/drugs/drugreview-152751-saxagliptin-hcl\n"
     ]
    },
    {
     "name": "stderr",
     "output_type": "stream",
     "text": [
      "100%|██████████| 1/1 [00:01<00:00,  1.48s/it]\n",
      " 15%|█▌        | 128/834 [40:39<1:14:08,  6.30s/it]"
     ]
    },
    {
     "name": "stdout",
     "output_type": "stream",
     "text": [
      "https://reviews.webmd.com/drugs/drugreview-152753-onglyza\n"
     ]
    },
    {
     "name": "stderr",
     "output_type": "stream",
     "text": [
      "100%|██████████| 6/6 [00:10<00:00,  1.75s/it]\n",
      " 16%|█▌        | 130/834 [40:56<1:18:22,  6.68s/it]"
     ]
    },
    {
     "name": "stdout",
     "output_type": "stream",
     "text": [
      "skipping https://reviews.webmd.com/drugs/drugreview-153008-aliskiren-valsartan-tablet: page not found\n"
     ]
    },
    {
     "name": "stderr",
     "output_type": "stream",
     "text": [
      " 16%|█▌        | 131/834 [40:57<1:00:17,  5.15s/it]"
     ]
    },
    {
     "name": "stdout",
     "output_type": "stream",
     "text": [
      "skipping https://reviews.webmd.com/drugs/drugreview-153012-valturna-tablet: page not found\n",
      "https://reviews.webmd.com/drugs/drugreview-153181-telmisartan-amlodipine\n"
     ]
    },
    {
     "name": "stderr",
     "output_type": "stream",
     "text": [
      "100%|██████████| 1/1 [00:01<00:00,  1.71s/it]\n",
      " 16%|█▌        | 132/834 [41:03<1:02:37,  5.35s/it]"
     ]
    },
    {
     "name": "stdout",
     "output_type": "stream",
     "text": [
      "https://reviews.webmd.com/drugs/drugreview-153194-twynsta-tablet\n"
     ]
    },
    {
     "name": "stderr",
     "output_type": "stream",
     "text": [
      "100%|██████████| 2/2 [00:04<00:00,  2.29s/it]\n",
      " 16%|█▌        | 133/834 [41:11<1:12:00,  6.16s/it]"
     ]
    },
    {
     "name": "stdout",
     "output_type": "stream",
     "text": [
      "https://reviews.webmd.com/drugs/drugreview-153566-liraglutide-pen-injector\n"
     ]
    },
    {
     "name": "stderr",
     "output_type": "stream",
     "text": [
      "100%|██████████| 1/1 [00:01<00:00,  1.52s/it]\n",
      " 16%|█▌        | 134/834 [41:16<1:05:57,  5.65s/it]"
     ]
    },
    {
     "name": "stdout",
     "output_type": "stream",
     "text": [
      "https://reviews.webmd.com/drugs/drugreview-153568-victoza-pen-injector\n"
     ]
    },
    {
     "name": "stderr",
     "output_type": "stream",
     "text": [
      "100%|██████████| 18/18 [00:35<00:00,  1.96s/it]\n",
      " 16%|█▋        | 136/834 [41:56<2:12:05, 11.35s/it]"
     ]
    },
    {
     "name": "stdout",
     "output_type": "stream",
     "text": [
      "skipping https://reviews.webmd.com/drugs/drugreview-154175-actoplus-met-xr-tablet-multiphase-24-hr-tablet-er-hr: page not found\n",
      "https://reviews.webmd.com/drugs/drugreview-154436-olmesartan-amlodipine-hctz\n"
     ]
    },
    {
     "name": "stderr",
     "output_type": "stream",
     "text": [
      "100%|██████████| 1/1 [00:01<00:00,  1.75s/it]\n",
      " 16%|█▋        | 137/834 [42:01<1:51:22,  9.59s/it]"
     ]
    },
    {
     "name": "stdout",
     "output_type": "stream",
     "text": [
      "https://reviews.webmd.com/drugs/drugreview-154439-tribenzor\n"
     ]
    },
    {
     "name": "stderr",
     "output_type": "stream",
     "text": [
      "100%|██████████| 6/6 [00:11<00:00,  1.91s/it]\n",
      " 17%|█▋        | 139/834 [42:17<1:35:15,  8.22s/it]"
     ]
    },
    {
     "name": "stdout",
     "output_type": "stream",
     "text": [
      "skipping https://reviews.webmd.com/drugs/drugreview-154589-aliskiren-amlodipine-tablet: page not found\n"
     ]
    },
    {
     "name": "stderr",
     "output_type": "stream",
     "text": [
      " 17%|█▋        | 140/834 [42:19<1:12:39,  6.28s/it]"
     ]
    },
    {
     "name": "stdout",
     "output_type": "stream",
     "text": [
      "skipping https://reviews.webmd.com/drugs/drugreview-154590-tekamlo-tablet: page not found\n",
      "https://reviews.webmd.com/drugs/drugreview-154914-saxagliptin-metformin-er\n"
     ]
    },
    {
     "name": "stderr",
     "output_type": "stream",
     "text": [
      "100%|██████████| 1/1 [00:01<00:00,  1.52s/it]\n",
      " 17%|█▋        | 141/834 [42:23<1:05:09,  5.64s/it]"
     ]
    },
    {
     "name": "stdout",
     "output_type": "stream",
     "text": [
      "https://reviews.webmd.com/drugs/drugreview-154922-kombiglyze-xr\n"
     ]
    },
    {
     "name": "stderr",
     "output_type": "stream",
     "text": [
      "100%|██████████| 3/3 [00:07<00:00,  2.64s/it]\n",
      " 17%|█▋        | 142/834 [42:34<1:23:30,  7.24s/it]"
     ]
    },
    {
     "name": "stdout",
     "output_type": "stream",
     "text": [
      "https://reviews.webmd.com/drugs/drugreview-155005-novolog-penfill-cartridge\n"
     ]
    },
    {
     "name": "stderr",
     "output_type": "stream",
     "text": [
      "100%|██████████| 1/1 [00:01<00:00,  1.94s/it]\n",
      " 17%|█▋        | 143/834 [42:39<1:16:01,  6.60s/it]"
     ]
    },
    {
     "name": "stdout",
     "output_type": "stream",
     "text": [
      "https://reviews.webmd.com/drugs/drugreview-155068-matzim-la-tablet-er-24-hr\n"
     ]
    },
    {
     "name": "stderr",
     "output_type": "stream",
     "text": [
      "100%|██████████| 1/1 [00:01<00:00,  1.85s/it]\n",
      " 17%|█▋        | 144/834 [42:45<1:13:33,  6.40s/it]"
     ]
    },
    {
     "name": "stdout",
     "output_type": "stream",
     "text": [
      "https://reviews.webmd.com/drugs/drugreview-155086-kapvay\n"
     ]
    },
    {
     "name": "stderr",
     "output_type": "stream",
     "text": [
      "100%|██████████| 1/1 [00:01<00:00,  1.61s/it]\n",
      " 17%|█▋        | 145/834 [42:50<1:09:13,  6.03s/it]"
     ]
    },
    {
     "name": "stdout",
     "output_type": "stream",
     "text": [
      "https://reviews.webmd.com/drugs/drugreview-155114-nexiclon-xr\n"
     ]
    },
    {
     "name": "stderr",
     "output_type": "stream",
     "text": [
      "100%|██████████| 1/1 [00:01<00:00,  1.38s/it]\n",
      " 18%|█▊        | 147/834 [42:57<53:01,  4.63s/it]  "
     ]
    },
    {
     "name": "stdout",
     "output_type": "stream",
     "text": [
      "skipping https://reviews.webmd.com/drugs/drugreview-155198-aliskiren-amlodipin-hcthiazide-tablet: page not found\n"
     ]
    },
    {
     "name": "stderr",
     "output_type": "stream",
     "text": [
      " 18%|█▊        | 148/834 [42:59<43:48,  3.83s/it]"
     ]
    },
    {
     "name": "stdout",
     "output_type": "stream",
     "text": [
      "skipping https://reviews.webmd.com/drugs/drugreview-155202-amturnide-tablet: page not found\n",
      "https://reviews.webmd.com/drugs/drugreview-155740-matzim-la\n"
     ]
    },
    {
     "name": "stderr",
     "output_type": "stream",
     "text": [
      "100%|██████████| 1/1 [00:01<00:00,  1.58s/it]\n",
      " 18%|█▊        | 149/834 [43:04<45:29,  3.98s/it]"
     ]
    },
    {
     "name": "stdout",
     "output_type": "stream",
     "text": [
      "https://reviews.webmd.com/drugs/drugreview-155816-linagliptin-tablet\n"
     ]
    },
    {
     "name": "stderr",
     "output_type": "stream",
     "text": [
      "100%|██████████| 1/1 [00:02<00:00,  2.64s/it]\n",
      " 18%|█▊        | 150/834 [43:09<50:32,  4.43s/it]"
     ]
    },
    {
     "name": "stdout",
     "output_type": "stream",
     "text": [
      "https://reviews.webmd.com/drugs/drugreview-155820-tradjenta\n"
     ]
    },
    {
     "name": "stderr",
     "output_type": "stream",
     "text": [
      "100%|██████████| 5/5 [00:09<00:00,  1.82s/it]\n",
      " 18%|█▊        | 152/834 [43:23<59:00,  5.19s/it]  "
     ]
    },
    {
     "name": "stdout",
     "output_type": "stream",
     "text": [
      "skipping https://reviews.webmd.com/drugs/drugreview-15620-ser-a-gen-tablet: page not found\n"
     ]
    },
    {
     "name": "stderr",
     "output_type": "stream",
     "text": [
      " 18%|█▊        | 153/834 [43:25<46:55,  4.13s/it]"
     ]
    },
    {
     "name": "stdout",
     "output_type": "stream",
     "text": [
      "skipping https://reviews.webmd.com/drugs/drugreview-15632-tri-hydroserpine-tablet: page not found\n",
      "https://reviews.webmd.com/drugs/drugreview-15636-hyzaar\n"
     ]
    },
    {
     "name": "stderr",
     "output_type": "stream",
     "text": [
      "100%|██████████| 10/10 [00:19<00:00,  1.90s/it]\n",
      " 18%|█▊        | 154/834 [43:47<1:49:08,  9.63s/it]"
     ]
    },
    {
     "name": "stdout",
     "output_type": "stream",
     "text": [
      "https://reviews.webmd.com/drugs/drugreview-15679-aldoril-d30-tablet\n"
     ]
    },
    {
     "name": "stderr",
     "output_type": "stream",
     "text": [
      "100%|██████████| 1/1 [00:01<00:00,  1.63s/it]\n",
      " 19%|█▊        | 156/834 [43:53<1:09:13,  6.13s/it]"
     ]
    },
    {
     "name": "stdout",
     "output_type": "stream",
     "text": [
      "skipping https://reviews.webmd.com/drugs/drugreview-15680-combipres-2-tablet: page not found\n"
     ]
    },
    {
     "name": "stderr",
     "output_type": "stream",
     "text": [
      " 19%|█▉        | 157/834 [43:55<54:05,  4.79s/it]  "
     ]
    },
    {
     "name": "stdout",
     "output_type": "stream",
     "text": [
      "skipping https://reviews.webmd.com/drugs/drugreview-15681-combipres-3-tablet: page not found\n",
      "https://reviews.webmd.com/drugs/drugreview-15682-aldoril-d50-tablet\n"
     ]
    },
    {
     "name": "stderr",
     "output_type": "stream",
     "text": [
      "100%|██████████| 1/1 [00:01<00:00,  1.40s/it]\n",
      " 19%|█▉        | 158/834 [44:00<55:30,  4.93s/it]"
     ]
    },
    {
     "name": "stdout",
     "output_type": "stream",
     "text": [
      "https://reviews.webmd.com/drugs/drugreview-15764-aldoril-25-tablet\n"
     ]
    },
    {
     "name": "stderr",
     "output_type": "stream",
     "text": [
      " 19%|█▉        | 160/834 [44:05<41:43,  3.71s/it]"
     ]
    },
    {
     "name": "stdout",
     "output_type": "stream",
     "text": [
      "skipping https://reviews.webmd.com/drugs/drugreview-157670-sitagliptin-phos-simvastatin-tablet: page not found\n"
     ]
    },
    {
     "name": "stderr",
     "output_type": "stream",
     "text": [
      " 19%|█▉        | 161/834 [44:07<34:31,  3.08s/it]"
     ]
    },
    {
     "name": "stdout",
     "output_type": "stream",
     "text": [
      "skipping https://reviews.webmd.com/drugs/drugreview-157671-juvisync-tablet: page not found\n",
      "https://reviews.webmd.com/drugs/drugreview-157991-perindopril-arginin-amlodipine-tablet\n"
     ]
    },
    {
     "name": "stderr",
     "output_type": "stream",
     "text": [
      "100%|██████████| 1/1 [00:01<00:00,  1.44s/it]\n",
      " 20%|█▉        | 163/834 [44:13<33:16,  2.98s/it]"
     ]
    },
    {
     "name": "stdout",
     "output_type": "stream",
     "text": [
      "skipping https://reviews.webmd.com/drugs/drugreview-159107-metoprolol-su-hydrochlorothiaz-tablet-er-24-hr: page not found\n"
     ]
    },
    {
     "name": "stderr",
     "output_type": "stream",
     "text": [
      " 20%|█▉        | 164/834 [44:15<29:27,  2.64s/it]"
     ]
    },
    {
     "name": "stdout",
     "output_type": "stream",
     "text": [
      "skipping https://reviews.webmd.com/drugs/drugreview-159118-dutoprol: page not found\n",
      "https://reviews.webmd.com/drugs/drugreview-159143-azilsartan-med-chlorthalidone-tablet\n"
     ]
    },
    {
     "name": "stderr",
     "output_type": "stream",
     "text": [
      "100%|██████████| 1/1 [00:01<00:00,  1.48s/it]\n",
      " 20%|█▉        | 165/834 [44:19<34:26,  3.09s/it]"
     ]
    },
    {
     "name": "stdout",
     "output_type": "stream",
     "text": [
      "https://reviews.webmd.com/drugs/drugreview-159144-edarbyclor\n"
     ]
    },
    {
     "name": "stderr",
     "output_type": "stream",
     "text": [
      "100%|██████████| 4/4 [00:07<00:00,  1.97s/it]\n",
      " 20%|█▉        | 166/834 [44:30<1:00:30,  5.43s/it]"
     ]
    },
    {
     "name": "stdout",
     "output_type": "stream",
     "text": [
      "https://reviews.webmd.com/drugs/drugreview-159402-exenatide-microspheres-suspension-er-reconstituted-suspension-reconstituted\n"
     ]
    },
    {
     "name": "stderr",
     "output_type": "stream",
     "text": [
      "100%|██████████| 1/1 [00:01<00:00,  1.49s/it]\n",
      " 20%|██        | 167/834 [44:34<56:33,  5.09s/it]  "
     ]
    },
    {
     "name": "stdout",
     "output_type": "stream",
     "text": [
      "https://reviews.webmd.com/drugs/drugreview-159405-bydureon-pen-injector\n"
     ]
    },
    {
     "name": "stderr",
     "output_type": "stream",
     "text": [
      "100%|██████████| 8/8 [00:14<00:00,  1.86s/it]\n",
      " 20%|██        | 168/834 [44:53<1:41:17,  9.12s/it]"
     ]
    },
    {
     "name": "stdout",
     "output_type": "stream",
     "text": [
      "https://reviews.webmd.com/drugs/drugreview-159426-linagliptin-metformin-tablet\n"
     ]
    },
    {
     "name": "stderr",
     "output_type": "stream",
     "text": [
      "100%|██████████| 1/1 [00:01<00:00,  1.46s/it]\n",
      " 20%|██        | 169/834 [44:57<1:24:20,  7.61s/it]"
     ]
    },
    {
     "name": "stdout",
     "output_type": "stream",
     "text": [
      "https://reviews.webmd.com/drugs/drugreview-159426-linagliptin-metformin-tablet-immediate-release-and-er-biphasic-24hr-tablet-immed-ext-release-biphasic-24hr\n"
     ]
    },
    {
     "name": "stderr",
     "output_type": "stream",
     "text": [
      "100%|██████████| 1/1 [00:01<00:00,  1.49s/it]\n",
      " 20%|██        | 170/834 [45:02<1:15:37,  6.83s/it]"
     ]
    },
    {
     "name": "stdout",
     "output_type": "stream",
     "text": [
      "https://reviews.webmd.com/drugs/drugreview-159449-jentadueto\n"
     ]
    },
    {
     "name": "stderr",
     "output_type": "stream",
     "text": [
      "100%|██████████| 1/1 [00:03<00:00,  3.02s/it]\n",
      " 21%|██        | 171/834 [45:08<1:12:19,  6.54s/it]"
     ]
    },
    {
     "name": "stdout",
     "output_type": "stream",
     "text": [
      "https://reviews.webmd.com/drugs/drugreview-159466-janumet-xr\n"
     ]
    },
    {
     "name": "stderr",
     "output_type": "stream",
     "text": [
      "100%|██████████| 2/2 [00:04<00:00,  2.36s/it]\n",
      " 21%|██        | 172/834 [45:16<1:17:00,  6.98s/it]"
     ]
    },
    {
     "name": "stdout",
     "output_type": "stream",
     "text": [
      "https://reviews.webmd.com/drugs/drugreview-16047-maxzide-25-mg\n"
     ]
    },
    {
     "name": "stderr",
     "output_type": "stream",
     "text": [
      "100%|██████████| 2/2 [00:03<00:00,  1.85s/it]\n",
      " 21%|██        | 174/834 [45:25<1:01:29,  5.59s/it]"
     ]
    },
    {
     "name": "stdout",
     "output_type": "stream",
     "text": [
      "skipping https://reviews.webmd.com/drugs/drugreview-16147-lexxel-tablet-er: page not found\n"
     ]
    },
    {
     "name": "stderr",
     "output_type": "stream",
     "text": [
      " 21%|██        | 175/834 [45:27<48:28,  4.41s/it]  "
     ]
    },
    {
     "name": "stdout",
     "output_type": "stream",
     "text": [
      "skipping https://reviews.webmd.com/drugs/drugreview-161550-nicardipine-in-5-dextrose-solution: page not found\n"
     ]
    },
    {
     "name": "stderr",
     "output_type": "stream",
     "text": [
      " 21%|██        | 176/834 [45:29<39:47,  3.63s/it]"
     ]
    },
    {
     "name": "stdout",
     "output_type": "stream",
     "text": [
      "skipping https://reviews.webmd.com/drugs/drugreview-16164-aldoclor-tablet: page not found\n",
      "https://reviews.webmd.com/drugs/drugreview-16165-prinzide-tablet\n"
     ]
    },
    {
     "name": "stderr",
     "output_type": "stream",
     "text": [
      "100%|██████████| 2/2 [00:04<00:00,  2.21s/it]\n",
      " 21%|██        | 177/834 [45:38<57:46,  5.28s/it]"
     ]
    },
    {
     "name": "stdout",
     "output_type": "stream",
     "text": [
      "https://reviews.webmd.com/drugs/drugreview-16167-l-dopres-hydrochlorothiazide-tablet\n"
     ]
    },
    {
     "name": "stderr",
     "output_type": "stream",
     "text": [
      " 21%|██▏       | 179/834 [45:42<39:13,  3.59s/it]"
     ]
    },
    {
     "name": "stdout",
     "output_type": "stream",
     "text": [
      "skipping https://reviews.webmd.com/drugs/drugreview-16168-minizide-capsule: page not found\n",
      "https://reviews.webmd.com/drugs/drugreview-16169-lotensin-hct\n"
     ]
    },
    {
     "name": "stderr",
     "output_type": "stream",
     "text": [
      "100%|██████████| 2/2 [00:03<00:00,  1.76s/it]\n",
      " 22%|██▏       | 180/834 [45:49<50:13,  4.61s/it]"
     ]
    },
    {
     "name": "stdout",
     "output_type": "stream",
     "text": [
      "https://reviews.webmd.com/drugs/drugreview-16188-lotrel\n"
     ]
    },
    {
     "name": "stderr",
     "output_type": "stream",
     "text": [
      "100%|██████████| 12/12 [00:21<00:00,  1.78s/it]\n",
      " 22%|██▏       | 181/834 [46:15<1:59:45, 11.00s/it]"
     ]
    },
    {
     "name": "stdout",
     "output_type": "stream",
     "text": [
      "https://reviews.webmd.com/drugs/drugreview-16200-ziac\n"
     ]
    },
    {
     "name": "stderr",
     "output_type": "stream",
     "text": [
      "100%|██████████| 4/4 [00:08<00:00,  2.17s/it]\n",
      " 22%|██▏       | 182/834 [46:27<2:03:46, 11.39s/it]"
     ]
    },
    {
     "name": "stdout",
     "output_type": "stream",
     "text": [
      "https://reviews.webmd.com/drugs/drugreview-162073-kapvay-dose-pack-tablet-er-tablet-pack\n"
     ]
    },
    {
     "name": "stderr",
     "output_type": "stream",
     "text": [
      " 22%|██▏       | 183/834 [46:30<1:35:00,  8.76s/it]"
     ]
    },
    {
     "name": "stdout",
     "output_type": "stream",
     "text": [
      "https://reviews.webmd.com/drugs/drugreview-16209-tarka\n"
     ]
    },
    {
     "name": "stderr",
     "output_type": "stream",
     "text": [
      "100%|██████████| 2/2 [00:03<00:00,  1.80s/it]\n",
      " 22%|██▏       | 184/834 [46:37<1:29:21,  8.25s/it]"
     ]
    },
    {
     "name": "stdout",
     "output_type": "stream",
     "text": [
      "https://reviews.webmd.com/drugs/drugreview-16214-tenoretic-50\n"
     ]
    },
    {
     "name": "stderr",
     "output_type": "stream",
     "text": [
      "100%|██████████| 1/1 [00:02<00:00,  2.20s/it]\n",
      " 22%|██▏       | 185/834 [46:42<1:18:43,  7.28s/it]"
     ]
    },
    {
     "name": "stdout",
     "output_type": "stream",
     "text": [
      "https://reviews.webmd.com/drugs/drugreview-163054-victoza-2-pak-pen-injector\n"
     ]
    },
    {
     "name": "stderr",
     "output_type": "stream",
     "text": [
      "100%|██████████| 3/3 [00:05<00:00,  1.73s/it]\n",
      " 22%|██▏       | 186/834 [46:51<1:23:55,  7.77s/it]"
     ]
    },
    {
     "name": "stdout",
     "output_type": "stream",
     "text": [
      "https://reviews.webmd.com/drugs/drugreview-163392-alogliptin\n"
     ]
    },
    {
     "name": "stderr",
     "output_type": "stream",
     "text": [
      "100%|██████████| 1/1 [00:01<00:00,  1.38s/it]\n",
      " 22%|██▏       | 187/834 [46:56<1:15:50,  7.03s/it]"
     ]
    },
    {
     "name": "stdout",
     "output_type": "stream",
     "text": [
      "https://reviews.webmd.com/drugs/drugreview-163393-alogliptin-pioglitazone\n"
     ]
    },
    {
     "name": "stderr",
     "output_type": "stream",
     "text": [
      "100%|██████████| 1/1 [00:01<00:00,  1.50s/it]\n",
      " 23%|██▎       | 188/834 [47:01<1:07:17,  6.25s/it]"
     ]
    },
    {
     "name": "stdout",
     "output_type": "stream",
     "text": [
      "https://reviews.webmd.com/drugs/drugreview-163394-alogliptin-metformin\n"
     ]
    },
    {
     "name": "stderr",
     "output_type": "stream",
     "text": [
      " 23%|██▎       | 189/834 [47:03<55:22,  5.15s/it]  "
     ]
    },
    {
     "name": "stdout",
     "output_type": "stream",
     "text": [
      "https://reviews.webmd.com/drugs/drugreview-163396-kazano\n"
     ]
    },
    {
     "name": "stderr",
     "output_type": "stream",
     "text": [
      "100%|██████████| 1/1 [00:01<00:00,  1.46s/it]\n",
      " 23%|██▎       | 190/834 [47:07<52:32,  4.89s/it]"
     ]
    },
    {
     "name": "stdout",
     "output_type": "stream",
     "text": [
      "https://reviews.webmd.com/drugs/drugreview-163399-nesina\n"
     ]
    },
    {
     "name": "stderr",
     "output_type": "stream",
     "text": [
      "100%|██████████| 1/1 [00:01<00:00,  1.75s/it]\n",
      " 23%|██▎       | 191/834 [47:12<51:22,  4.79s/it]"
     ]
    },
    {
     "name": "stdout",
     "output_type": "stream",
     "text": [
      "https://reviews.webmd.com/drugs/drugreview-1634-coreg\n"
     ]
    },
    {
     "name": "stderr",
     "output_type": "stream",
     "text": [
      "100%|██████████| 17/17 [00:41<00:00,  2.42s/it]\n",
      " 23%|██▎       | 192/834 [47:56<2:58:37, 16.69s/it]"
     ]
    },
    {
     "name": "stdout",
     "output_type": "stream",
     "text": [
      "https://reviews.webmd.com/drugs/drugreview-163400-oseni\n"
     ]
    },
    {
     "name": "stderr",
     "output_type": "stream",
     "text": [
      "100%|██████████| 1/1 [00:02<00:00,  2.04s/it]\n",
      " 23%|██▎       | 193/834 [48:02<2:22:03, 13.30s/it]"
     ]
    },
    {
     "name": "stdout",
     "output_type": "stream",
     "text": [
      "https://reviews.webmd.com/drugs/drugreview-163872-canagliflozin-tablet\n"
     ]
    },
    {
     "name": "stderr",
     "output_type": "stream",
     "text": [
      "100%|██████████| 1/1 [00:01<00:00,  1.45s/it]\n",
      " 23%|██▎       | 194/834 [48:06<1:53:43, 10.66s/it]"
     ]
    },
    {
     "name": "stdout",
     "output_type": "stream",
     "text": [
      "https://reviews.webmd.com/drugs/drugreview-163874-invokana\n"
     ]
    },
    {
     "name": "stderr",
     "output_type": "stream",
     "text": [
      "100%|██████████| 11/11 [00:25<00:00,  2.31s/it]\n",
      " 23%|██▎       | 195/834 [48:35<2:52:38, 16.21s/it]"
     ]
    },
    {
     "name": "stdout",
     "output_type": "stream",
     "text": [
      "https://reviews.webmd.com/drugs/drugreview-164098-vecamyl\n"
     ]
    },
    {
     "name": "stderr",
     "output_type": "stream",
     "text": [
      "100%|██████████| 1/1 [00:01<00:00,  1.43s/it]\n",
      " 24%|██▎       | 196/834 [48:40<2:15:10, 12.71s/it]"
     ]
    },
    {
     "name": "stdout",
     "output_type": "stream",
     "text": [
      "https://reviews.webmd.com/drugs/drugreview-164535-victoza-3-pak-pen-injector\n"
     ]
    },
    {
     "name": "stderr",
     "output_type": "stream",
     "text": [
      "100%|██████████| 2/2 [00:04<00:00,  2.37s/it]\n",
      " 24%|██▎       | 198/834 [48:51<1:31:48,  8.66s/it]"
     ]
    },
    {
     "name": "stdout",
     "output_type": "stream",
     "text": [
      "skipping https://reviews.webmd.com/drugs/drugreview-164719-novolin-r-penfill-semi-synth-cartridge: page not found\n",
      "https://reviews.webmd.com/drugs/drugreview-164927-epaned\n"
     ]
    },
    {
     "name": "stderr",
     "output_type": "stream",
     "text": [
      " 24%|██▍       | 199/834 [48:53<1:13:10,  6.91s/it]"
     ]
    },
    {
     "name": "stdout",
     "output_type": "stream",
     "text": [
      "https://reviews.webmd.com/drugs/drugreview-165589-insulin-degludec-pen-u-200\n"
     ]
    },
    {
     "name": "stderr",
     "output_type": "stream",
     "text": [
      " 24%|██▍       | 200/834 [48:56<59:10,  5.60s/it]  "
     ]
    },
    {
     "name": "stdout",
     "output_type": "stream",
     "text": [
      "https://reviews.webmd.com/drugs/drugreview-165640-dapagliflozin\n"
     ]
    },
    {
     "name": "stderr",
     "output_type": "stream",
     "text": [
      "100%|██████████| 1/1 [00:01<00:00,  1.73s/it]\n",
      " 24%|██▍       | 201/834 [49:01<56:23,  5.34s/it]"
     ]
    },
    {
     "name": "stdout",
     "output_type": "stream",
     "text": [
      "https://reviews.webmd.com/drugs/drugreview-165641-farxiga\n"
     ]
    },
    {
     "name": "stderr",
     "output_type": "stream",
     "text": [
      "100%|██████████| 5/5 [00:11<00:00,  2.32s/it]\n",
      " 24%|██▍       | 202/834 [49:16<1:26:58,  8.26s/it]"
     ]
    },
    {
     "name": "stdout",
     "output_type": "stream",
     "text": [
      "https://reviews.webmd.com/drugs/drugreview-165658-humulin-70-30-kwikpen-insulin-pen\n"
     ]
    },
    {
     "name": "stderr",
     "output_type": "stream",
     "text": [
      "100%|██████████| 1/1 [00:01<00:00,  1.76s/it]\n",
      " 24%|██▍       | 203/834 [49:20<1:14:52,  7.12s/it]"
     ]
    },
    {
     "name": "stdout",
     "output_type": "stream",
     "text": [
      "https://reviews.webmd.com/drugs/drugreview-165659-humulin-n-kwikpen-insulin-pen\n"
     ]
    },
    {
     "name": "stderr",
     "output_type": "stream",
     "text": [
      "100%|██████████| 1/1 [00:02<00:00,  2.31s/it]\n",
      " 25%|██▍       | 205/834 [49:27<53:23,  5.09s/it]  "
     ]
    },
    {
     "name": "stdout",
     "output_type": "stream",
     "text": [
      "skipping https://reviews.webmd.com/drugs/drugreview-165673-cardene-i-v-solution-piggyback: page not found\n",
      "https://reviews.webmd.com/drugs/drugreview-165806-inderal-xl\n"
     ]
    },
    {
     "name": "stderr",
     "output_type": "stream",
     "text": [
      "100%|██████████| 1/1 [00:01<00:00,  1.68s/it]\n",
      " 25%|██▍       | 206/834 [49:32<53:25,  5.10s/it]"
     ]
    },
    {
     "name": "stdout",
     "output_type": "stream",
     "text": [
      "https://reviews.webmd.com/drugs/drugreview-16595-atacand\n"
     ]
    },
    {
     "name": "stderr",
     "output_type": "stream",
     "text": [
      "100%|██████████| 6/6 [00:12<00:00,  2.06s/it]\n",
      " 25%|██▍       | 207/834 [49:48<1:25:13,  8.16s/it]"
     ]
    },
    {
     "name": "stdout",
     "output_type": "stream",
     "text": [
      "https://reviews.webmd.com/drugs/drugreview-165976-lixisenatide-pen-injector\n"
     ]
    },
    {
     "name": "stderr",
     "output_type": "stream",
     "text": [
      " 25%|██▍       | 208/834 [49:51<1:10:40,  6.77s/it]"
     ]
    },
    {
     "name": "stdout",
     "output_type": "stream",
     "text": [
      "https://reviews.webmd.com/drugs/drugreview-166327-levemir-flextouch-insulin-pen\n"
     ]
    },
    {
     "name": "stderr",
     "output_type": "stream",
     "text": [
      "100%|██████████| 3/3 [00:05<00:00,  1.76s/it]\n",
      " 25%|██▌       | 210/834 [50:02<1:00:43,  5.84s/it]"
     ]
    },
    {
     "name": "stdout",
     "output_type": "stream",
     "text": [
      "skipping https://reviews.webmd.com/drugs/drugreview-166372-albiglutide-pen-injector: page not found\n"
     ]
    },
    {
     "name": "stderr",
     "output_type": "stream",
     "text": [
      " 25%|██▌       | 211/834 [50:04<49:50,  4.80s/it]  "
     ]
    },
    {
     "name": "stdout",
     "output_type": "stream",
     "text": [
      "skipping https://reviews.webmd.com/drugs/drugreview-166388-tanzeum-pen-injector: page not found\n",
      "https://reviews.webmd.com/drugs/drugreview-166761-empagliflozin-tablet\n"
     ]
    },
    {
     "name": "stderr",
     "output_type": "stream",
     "text": [
      "100%|██████████| 1/1 [00:01<00:00,  1.57s/it]\n",
      " 25%|██▌       | 212/834 [50:09<47:53,  4.62s/it]"
     ]
    },
    {
     "name": "stdout",
     "output_type": "stream",
     "text": [
      "https://reviews.webmd.com/drugs/drugreview-166762-jardiance\n"
     ]
    },
    {
     "name": "stderr",
     "output_type": "stream",
     "text": [
      "100%|██████████| 7/7 [00:15<00:00,  2.22s/it]\n",
      " 26%|██▌       | 213/834 [50:27<1:30:42,  8.76s/it]"
     ]
    },
    {
     "name": "stdout",
     "output_type": "stream",
     "text": [
      "https://reviews.webmd.com/drugs/drugreview-166778-canagliflozin-metformin-tablet\n"
     ]
    },
    {
     "name": "stderr",
     "output_type": "stream",
     "text": [
      " 26%|██▌       | 214/834 [50:30<1:13:30,  7.11s/it]"
     ]
    },
    {
     "name": "stdout",
     "output_type": "stream",
     "text": [
      "https://reviews.webmd.com/drugs/drugreview-166778-canagliflozin-metformin-tablet-immediate-release-and-er-biphasic-24hr-tablet-immed-ext-release-biphasic-24hr\n"
     ]
    },
    {
     "name": "stderr",
     "output_type": "stream",
     "text": [
      " 26%|██▌       | 215/834 [50:34<1:03:11,  6.12s/it]"
     ]
    },
    {
     "name": "stdout",
     "output_type": "stream",
     "text": [
      "https://reviews.webmd.com/drugs/drugreview-166783-invokamet\n"
     ]
    },
    {
     "name": "stderr",
     "output_type": "stream",
     "text": [
      "100%|██████████| 1/1 [00:02<00:00,  2.08s/it]\n",
      " 26%|██▌       | 216/834 [50:40<1:01:50,  6.00s/it]"
     ]
    },
    {
     "name": "stdout",
     "output_type": "stream",
     "text": [
      "https://reviews.webmd.com/drugs/drugreview-167024-dulaglutide-pen-injector\n"
     ]
    },
    {
     "name": "stderr",
     "output_type": "stream",
     "text": [
      " 26%|██▌       | 217/834 [50:43<53:42,  5.22s/it]  "
     ]
    },
    {
     "name": "stdout",
     "output_type": "stream",
     "text": [
      "https://reviews.webmd.com/drugs/drugreview-167025-trulicity-pen-injector\n"
     ]
    },
    {
     "name": "stderr",
     "output_type": "stream",
     "text": [
      "100%|██████████| 14/14 [00:33<00:00,  2.40s/it]\n",
      " 26%|██▌       | 218/834 [51:20<2:32:09, 14.82s/it]"
     ]
    },
    {
     "name": "stdout",
     "output_type": "stream",
     "text": [
      "https://reviews.webmd.com/drugs/drugreview-167198-dapagliflozin-metformin-er\n"
     ]
    },
    {
     "name": "stderr",
     "output_type": "stream",
     "text": [
      "100%|██████████| 1/1 [00:01<00:00,  1.74s/it]\n",
      " 26%|██▋       | 219/834 [51:27<2:05:28, 12.24s/it]"
     ]
    },
    {
     "name": "stdout",
     "output_type": "stream",
     "text": [
      "https://reviews.webmd.com/drugs/drugreview-167199-xigduo-xr\n"
     ]
    },
    {
     "name": "stderr",
     "output_type": "stream",
     "text": [
      "100%|██████████| 1/1 [00:02<00:00,  2.52s/it]\n",
      " 26%|██▋       | 220/834 [51:33<1:47:07, 10.47s/it]"
     ]
    },
    {
     "name": "stdout",
     "output_type": "stream",
     "text": [
      "https://reviews.webmd.com/drugs/drugreview-167500-afrezza-cartridge-with-inhaler\n"
     ]
    },
    {
     "name": "stderr",
     "output_type": "stream",
     "text": [
      "100%|██████████| 4/4 [00:07<00:00,  1.88s/it]\n",
      " 26%|██▋       | 221/834 [51:43<1:46:53, 10.46s/it]"
     ]
    },
    {
     "name": "stdout",
     "output_type": "stream",
     "text": [
      "https://reviews.webmd.com/drugs/drugreview-167707-empagliflozin-linagliptin-tablet\n"
     ]
    },
    {
     "name": "stderr",
     "output_type": "stream",
     "text": [
      "100%|██████████| 1/1 [00:01<00:00,  1.81s/it]\n",
      " 27%|██▋       | 222/834 [51:49<1:32:15,  9.04s/it]"
     ]
    },
    {
     "name": "stdout",
     "output_type": "stream",
     "text": [
      "https://reviews.webmd.com/drugs/drugreview-167715-glyxambi\n"
     ]
    },
    {
     "name": "stderr",
     "output_type": "stream",
     "text": [
      "100%|██████████| 1/1 [00:02<00:00,  2.50s/it]\n",
      " 27%|██▋       | 223/834 [51:55<1:22:23,  8.09s/it]"
     ]
    },
    {
     "name": "stdout",
     "output_type": "stream",
     "text": [
      "https://reviews.webmd.com/drugs/drugreview-167874-toujeo-solostar-insulin-pen\n"
     ]
    },
    {
     "name": "stderr",
     "output_type": "stream",
     "text": [
      "100%|██████████| 2/2 [00:05<00:00,  2.89s/it]\n",
      " 27%|██▋       | 224/834 [52:05<1:26:44,  8.53s/it]"
     ]
    },
    {
     "name": "stdout",
     "output_type": "stream",
     "text": [
      "https://reviews.webmd.com/drugs/drugreview-168-verapamil-hcl-cr-capsule-24-hr-capsule-er-hr\n"
     ]
    },
    {
     "name": "stderr",
     "output_type": "stream",
     "text": [
      " 27%|██▋       | 225/834 [52:08<1:10:52,  6.98s/it]"
     ]
    },
    {
     "name": "stdout",
     "output_type": "stream",
     "text": [
      "https://reviews.webmd.com/drugs/drugreview-168-verapamil-hcl-cr-tablet-er\n"
     ]
    },
    {
     "name": "stderr",
     "output_type": "stream",
     "text": [
      " 27%|██▋       | 226/834 [52:11<1:00:01,  5.92s/it]"
     ]
    },
    {
     "name": "stdout",
     "output_type": "stream",
     "text": [
      "https://reviews.webmd.com/drugs/drugreview-16800-telmisartan\n"
     ]
    },
    {
     "name": "stderr",
     "output_type": "stream",
     "text": [
      "100%|██████████| 3/3 [00:07<00:00,  2.34s/it]\n",
      " 27%|██▋       | 227/834 [52:22<1:14:17,  7.34s/it]"
     ]
    },
    {
     "name": "stdout",
     "output_type": "stream",
     "text": [
      "https://reviews.webmd.com/drugs/drugreview-16806-micardis\n"
     ]
    },
    {
     "name": "stderr",
     "output_type": "stream",
     "text": [
      "100%|██████████| 9/9 [00:17<00:00,  1.97s/it]\n",
      " 27%|██▋       | 228/834 [52:44<1:56:57, 11.58s/it]"
     ]
    },
    {
     "name": "stdout",
     "output_type": "stream",
     "text": [
      "https://reviews.webmd.com/drugs/drugreview-16866-glyset-tablet\n"
     ]
    },
    {
     "name": "stderr",
     "output_type": "stream",
     "text": [
      "100%|██████████| 1/1 [00:01<00:00,  1.48s/it]\n",
      " 27%|██▋       | 229/834 [52:48<1:34:25,  9.36s/it]"
     ]
    },
    {
     "name": "stdout",
     "output_type": "stream",
     "text": [
      "https://reviews.webmd.com/drugs/drugreview-16873-humulin-70-30-insulin-pen-syringe\n"
     ]
    },
    {
     "name": "stderr",
     "output_type": "stream",
     "text": [
      "100%|██████████| 1/1 [00:02<00:00,  2.62s/it]\n",
      " 28%|██▊       | 230/834 [52:54<1:25:40,  8.51s/it]"
     ]
    },
    {
     "name": "stdout",
     "output_type": "stream",
     "text": [
      "https://reviews.webmd.com/drugs/drugreview-16874-humulin-n-pen-syringe\n"
     ]
    },
    {
     "name": "stderr",
     "output_type": "stream",
     "text": [
      "100%|██████████| 1/1 [00:01<00:00,  1.41s/it]\n",
      " 28%|██▊       | 231/834 [52:59<1:13:19,  7.30s/it]"
     ]
    },
    {
     "name": "stdout",
     "output_type": "stream",
     "text": [
      "https://reviews.webmd.com/drugs/drugreview-16875-humalog-pen-insulin\n"
     ]
    },
    {
     "name": "stderr",
     "output_type": "stream",
     "text": [
      "100%|██████████| 1/1 [00:01<00:00,  1.50s/it]\n",
      " 28%|██▊       | 232/834 [53:03<1:03:54,  6.37s/it]"
     ]
    },
    {
     "name": "stdout",
     "output_type": "stream",
     "text": [
      "https://reviews.webmd.com/drugs/drugreview-16875-humalog-pen-syringe\n"
     ]
    },
    {
     "name": "stderr",
     "output_type": "stream",
     "text": [
      "100%|██████████| 1/1 [00:01<00:00,  1.78s/it]\n",
      " 28%|██▊       | 233/834 [53:08<59:16,  5.92s/it]  "
     ]
    },
    {
     "name": "stdout",
     "output_type": "stream",
     "text": [
      "https://reviews.webmd.com/drugs/drugreview-169332-prestalia\n"
     ]
    },
    {
     "name": "stderr",
     "output_type": "stream",
     "text": [
      " 28%|██▊       | 234/834 [53:11<49:26,  4.94s/it]"
     ]
    },
    {
     "name": "stdout",
     "output_type": "stream",
     "text": [
      "https://reviews.webmd.com/drugs/drugreview-169671-empagliflozin-metformin-tablet\n"
     ]
    },
    {
     "name": "stderr",
     "output_type": "stream",
     "text": [
      " 28%|██▊       | 235/834 [53:13<42:06,  4.22s/it]"
     ]
    },
    {
     "name": "stdout",
     "output_type": "stream",
     "text": [
      "https://reviews.webmd.com/drugs/drugreview-169671-empagliflozin-metformin-tablet-immediate-release-and-er-biphasic-24hr-tablet-immed-ext-release-biphasic-24hr\n"
     ]
    },
    {
     "name": "stderr",
     "output_type": "stream",
     "text": [
      " 28%|██▊       | 236/834 [53:17<40:32,  4.07s/it]"
     ]
    },
    {
     "name": "stdout",
     "output_type": "stream",
     "text": [
      "https://reviews.webmd.com/drugs/drugreview-169678-synjardy\n"
     ]
    },
    {
     "name": "stderr",
     "output_type": "stream",
     "text": [
      "100%|██████████| 1/1 [00:01<00:00,  1.63s/it]\n",
      " 28%|██▊       | 237/834 [53:21<41:04,  4.13s/it]"
     ]
    },
    {
     "name": "stdout",
     "output_type": "stream",
     "text": [
      "https://reviews.webmd.com/drugs/drugreview-16976-verelan-pm\n"
     ]
    },
    {
     "name": "stderr",
     "output_type": "stream",
     "text": [
      "100%|██████████| 1/1 [00:01<00:00,  1.81s/it]\n",
      " 29%|██▊       | 238/834 [53:27<45:05,  4.54s/it]"
     ]
    },
    {
     "name": "stdout",
     "output_type": "stream",
     "text": [
      "https://reviews.webmd.com/drugs/drugreview-170029-tresiba-flextouch-u-100-insulin-pen\n"
     ]
    },
    {
     "name": "stderr",
     "output_type": "stream",
     "text": [
      "100%|██████████| 1/1 [00:01<00:00,  1.50s/it]\n",
      " 29%|██▊       | 239/834 [53:31<44:11,  4.46s/it]"
     ]
    },
    {
     "name": "stdout",
     "output_type": "stream",
     "text": [
      "https://reviews.webmd.com/drugs/drugreview-170030-tresiba-flextouch-u-200-insulin-pen\n"
     ]
    },
    {
     "name": "stderr",
     "output_type": "stream",
     "text": [
      "100%|██████████| 1/1 [00:01<00:00,  1.38s/it]\n",
      " 29%|██▉       | 240/834 [53:36<47:33,  4.80s/it]"
     ]
    },
    {
     "name": "stdout",
     "output_type": "stream",
     "text": [
      "https://reviews.webmd.com/drugs/drugreview-170716-basaglar-kwikpen-u-100-insulin-pen\n"
     ]
    },
    {
     "name": "stderr",
     "output_type": "stream",
     "text": [
      "100%|██████████| 1/1 [00:02<00:00,  2.16s/it]\n",
      " 29%|██▉       | 242/834 [53:44<41:06,  4.17s/it]"
     ]
    },
    {
     "name": "stdout",
     "output_type": "stream",
     "text": [
      "skipping https://reviews.webmd.com/drugs/drugreview-171994-nebivolol-valsartan-tablet: page not found\n",
      "https://reviews.webmd.com/drugs/drugreview-17200-irbesartan-hydrochlorothiazide\n"
     ]
    },
    {
     "name": "stderr",
     "output_type": "stream",
     "text": [
      "100%|██████████| 2/2 [00:03<00:00,  1.76s/it]\n",
      " 29%|██▉       | 243/834 [53:51<50:16,  5.10s/it]"
     ]
    },
    {
     "name": "stdout",
     "output_type": "stream",
     "text": [
      "https://reviews.webmd.com/drugs/drugreview-172005-jentadueto-xr\n"
     ]
    },
    {
     "name": "stderr",
     "output_type": "stream",
     "text": [
      "100%|██████████| 1/1 [00:01<00:00,  1.50s/it]\n",
      " 29%|██▉       | 244/834 [53:55<47:22,  4.82s/it]"
     ]
    },
    {
     "name": "stdout",
     "output_type": "stream",
     "text": [
      "https://reviews.webmd.com/drugs/drugreview-17211-avalide\n"
     ]
    },
    {
     "name": "stderr",
     "output_type": "stream",
     "text": [
      "100%|██████████| 8/8 [00:17<00:00,  2.17s/it]\n",
      " 29%|██▉       | 246/834 [54:18<1:11:30,  7.30s/it]"
     ]
    },
    {
     "name": "stdout",
     "output_type": "stream",
     "text": [
      "skipping https://reviews.webmd.com/drugs/drugreview-172271-byvalson-tablet: page not found\n",
      "https://reviews.webmd.com/drugs/drugreview-172307-qbrelis\n"
     ]
    },
    {
     "name": "stderr",
     "output_type": "stream",
     "text": [
      " 30%|██▉       | 247/834 [54:21<58:43,  6.00s/it]  "
     ]
    },
    {
     "name": "stdout",
     "output_type": "stream",
     "text": [
      "https://reviews.webmd.com/drugs/drugreview-172573-invokamet-xr\n"
     ]
    },
    {
     "name": "stderr",
     "output_type": "stream",
     "text": [
      " 30%|██▉       | 248/834 [54:24<50:05,  5.13s/it]"
     ]
    },
    {
     "name": "stdout",
     "output_type": "stream",
     "text": [
      "https://reviews.webmd.com/drugs/drugreview-172910-insulin-degludec-liraglutide-pen\n"
     ]
    },
    {
     "name": "stderr",
     "output_type": "stream",
     "text": [
      " 30%|██▉       | 249/834 [54:27<42:33,  4.37s/it]"
     ]
    },
    {
     "name": "stdout",
     "output_type": "stream",
     "text": [
      "https://reviews.webmd.com/drugs/drugreview-172911-xultophy-100-3-6-insulin-pen\n"
     ]
    },
    {
     "name": "stderr",
     "output_type": "stream",
     "text": [
      " 30%|██▉       | 250/834 [54:31<40:57,  4.21s/it]"
     ]
    },
    {
     "name": "stdout",
     "output_type": "stream",
     "text": [
      "https://reviews.webmd.com/drugs/drugreview-172916-insulin-glargine-lixisenatide-pen\n"
     ]
    },
    {
     "name": "stderr",
     "output_type": "stream",
     "text": [
      " 30%|███       | 251/834 [54:33<35:37,  3.67s/it]"
     ]
    },
    {
     "name": "stdout",
     "output_type": "stream",
     "text": [
      "https://reviews.webmd.com/drugs/drugreview-17298-rosiglitazone-tablet\n"
     ]
    },
    {
     "name": "stderr",
     "output_type": "stream",
     "text": [
      "100%|██████████| 1/1 [00:01<00:00,  1.70s/it]\n",
      " 30%|███       | 252/834 [54:38<39:38,  4.09s/it]"
     ]
    },
    {
     "name": "stdout",
     "output_type": "stream",
     "text": [
      "https://reviews.webmd.com/drugs/drugreview-172984-adlyxin-pen-injector\n"
     ]
    },
    {
     "name": "stderr",
     "output_type": "stream",
     "text": [
      "100%|██████████| 1/1 [00:01<00:00,  1.51s/it]\n",
      " 30%|███       | 253/834 [54:42<39:38,  4.09s/it]"
     ]
    },
    {
     "name": "stdout",
     "output_type": "stream",
     "text": [
      "https://reviews.webmd.com/drugs/drugreview-172986-soliqua-100-33-insulin-pen\n"
     ]
    },
    {
     "name": "stderr",
     "output_type": "stream",
     "text": [
      "100%|██████████| 1/1 [00:01<00:00,  1.53s/it]\n",
      " 30%|███       | 254/834 [54:48<42:59,  4.45s/it]"
     ]
    },
    {
     "name": "stdout",
     "output_type": "stream",
     "text": [
      "https://reviews.webmd.com/drugs/drugreview-17300-avandia\n"
     ]
    },
    {
     "name": "stderr",
     "output_type": "stream",
     "text": [
      "100%|██████████| 5/5 [00:09<00:00,  1.85s/it]\n",
      " 31%|███       | 255/834 [55:01<1:08:02,  7.05s/it]"
     ]
    },
    {
     "name": "stdout",
     "output_type": "stream",
     "text": [
      "https://reviews.webmd.com/drugs/drugreview-17319-cartia-xt\n"
     ]
    },
    {
     "name": "stderr",
     "output_type": "stream",
     "text": [
      "100%|██████████| 5/5 [00:12<00:00,  2.45s/it]\n",
      " 31%|███       | 256/834 [55:17<1:35:14,  9.89s/it]"
     ]
    },
    {
     "name": "stdout",
     "output_type": "stream",
     "text": [
      "https://reviews.webmd.com/drugs/drugreview-173266-insulin-aspart-niacinamide-cartridge\n"
     ]
    },
    {
     "name": "stderr",
     "output_type": "stream",
     "text": [
      " 31%|███       | 257/834 [55:21<1:16:20,  7.94s/it]"
     ]
    },
    {
     "name": "stdout",
     "output_type": "stream",
     "text": [
      "https://reviews.webmd.com/drugs/drugreview-173268-fiasp-vial\n"
     ]
    },
    {
     "name": "stderr",
     "output_type": "stream",
     "text": [
      "100%|██████████| 1/1 [00:01<00:00,  1.76s/it]\n",
      " 31%|███       | 258/834 [55:26<1:08:24,  7.13s/it]"
     ]
    },
    {
     "name": "stdout",
     "output_type": "stream",
     "text": [
      "https://reviews.webmd.com/drugs/drugreview-173286-fiasp-flextouch-insulin-pen\n"
     ]
    },
    {
     "name": "stderr",
     "output_type": "stream",
     "text": [
      " 31%|███       | 259/834 [55:30<59:15,  6.18s/it]  "
     ]
    },
    {
     "name": "stdout",
     "output_type": "stream",
     "text": [
      "https://reviews.webmd.com/drugs/drugreview-173287-fiasp-penfill-cartridge\n"
     ]
    },
    {
     "name": "stderr",
     "output_type": "stream",
     "text": [
      " 31%|███       | 260/834 [55:33<49:45,  5.20s/it]"
     ]
    },
    {
     "name": "stdout",
     "output_type": "stream",
     "text": [
      "https://reviews.webmd.com/drugs/drugreview-173353-dapagliflozin-saxagliptin-tablet\n"
     ]
    },
    {
     "name": "stderr",
     "output_type": "stream",
     "text": [
      " 31%|███▏      | 261/834 [55:35<42:43,  4.47s/it]"
     ]
    },
    {
     "name": "stdout",
     "output_type": "stream",
     "text": [
      "https://reviews.webmd.com/drugs/drugreview-17339-aceon-tablet\n"
     ]
    },
    {
     "name": "stderr",
     "output_type": "stream",
     "text": [
      "100%|██████████| 1/1 [00:01<00:00,  1.53s/it]\n",
      " 31%|███▏      | 262/834 [55:40<42:53,  4.50s/it]"
     ]
    },
    {
     "name": "stdout",
     "output_type": "stream",
     "text": [
      "https://reviews.webmd.com/drugs/drugreview-173445-synjardy-xr\n"
     ]
    },
    {
     "name": "stderr",
     "output_type": "stream",
     "text": [
      "100%|██████████| 1/1 [00:01<00:00,  1.58s/it]\n",
      " 32%|███▏      | 263/834 [55:45<43:44,  4.60s/it]"
     ]
    },
    {
     "name": "stdout",
     "output_type": "stream",
     "text": [
      "https://reviews.webmd.com/drugs/drugreview-17385-glycron-tablet\n"
     ]
    },
    {
     "name": "stderr",
     "output_type": "stream",
     "text": [
      " 32%|███▏      | 264/834 [55:48<38:23,  4.04s/it]"
     ]
    },
    {
     "name": "stdout",
     "output_type": "stream",
     "text": [
      "https://reviews.webmd.com/drugs/drugreview-174012-humalog-junior-kwikpen-insulin-pen-half-unit\n"
     ]
    },
    {
     "name": "stderr",
     "output_type": "stream",
     "text": [
      " 32%|███▏      | 265/834 [55:50<35:03,  3.70s/it]"
     ]
    },
    {
     "name": "stdout",
     "output_type": "stream",
     "text": [
      "https://reviews.webmd.com/drugs/drugreview-174059-carospir\n"
     ]
    },
    {
     "name": "stderr",
     "output_type": "stream",
     "text": [
      " 32%|███▏      | 266/834 [55:53<32:49,  3.47s/it]"
     ]
    },
    {
     "name": "stdout",
     "output_type": "stream",
     "text": [
      "https://reviews.webmd.com/drugs/drugreview-17406-pioglitazone-hcl\n"
     ]
    },
    {
     "name": "stderr",
     "output_type": "stream",
     "text": [
      "100%|██████████| 3/3 [00:07<00:00,  2.39s/it]\n",
      " 32%|███▏      | 267/834 [56:04<53:06,  5.62s/it]"
     ]
    },
    {
     "name": "stdout",
     "output_type": "stream",
     "text": [
      "https://reviews.webmd.com/drugs/drugreview-17410-actos\n"
     ]
    },
    {
     "name": "stderr",
     "output_type": "stream",
     "text": [
      "100%|██████████| 26/26 [00:52<00:00,  2.04s/it]\n",
      " 32%|███▏      | 268/834 [57:00<3:16:29, 20.83s/it]"
     ]
    },
    {
     "name": "stdout",
     "output_type": "stream",
     "text": [
      "https://reviews.webmd.com/drugs/drugreview-17424-insulin-lispro-protamine-mix-pen\n"
     ]
    },
    {
     "name": "stderr",
     "output_type": "stream",
     "text": [
      "100%|██████████| 1/1 [00:01<00:00,  1.73s/it]\n",
      " 32%|███▏      | 269/834 [57:06<2:33:53, 16.34s/it]"
     ]
    },
    {
     "name": "stdout",
     "output_type": "stream",
     "text": [
      "https://reviews.webmd.com/drugs/drugreview-174355-qtern\n"
     ]
    },
    {
     "name": "stderr",
     "output_type": "stream",
     "text": [
      " 32%|███▏      | 270/834 [57:10<1:56:44, 12.42s/it]"
     ]
    },
    {
     "name": "stdout",
     "output_type": "stream",
     "text": [
      "https://reviews.webmd.com/drugs/drugreview-174375-bydureon-bcise-auto-injector\n"
     ]
    },
    {
     "name": "stderr",
     "output_type": "stream",
     "text": [
      "100%|██████████| 1/1 [00:02<00:00,  2.31s/it]\n",
      " 32%|███▏      | 271/834 [57:16<1:38:33, 10.50s/it]"
     ]
    },
    {
     "name": "stdout",
     "output_type": "stream",
     "text": [
      "https://reviews.webmd.com/drugs/drugreview-174490-semaglutide-pen-injector\n"
     ]
    },
    {
     "name": "stderr",
     "output_type": "stream",
     "text": [
      "100%|██████████| 1/1 [00:02<00:00,  2.04s/it]\n",
      " 33%|███▎      | 272/834 [57:21<1:24:35,  9.03s/it]"
     ]
    },
    {
     "name": "stdout",
     "output_type": "stream",
     "text": [
      "https://reviews.webmd.com/drugs/drugreview-174491-ozempic-pen-injector\n"
     ]
    },
    {
     "name": "stderr",
     "output_type": "stream",
     "text": [
      "100%|██████████| 23/23 [00:58<00:00,  2.55s/it]\n",
      " 33%|███▎      | 273/834 [58:23<3:53:32, 24.98s/it]"
     ]
    },
    {
     "name": "stdout",
     "output_type": "stream",
     "text": [
      "https://reviews.webmd.com/drugs/drugreview-174564-ertugliflozin-sitagliptin-phos-tablet\n"
     ]
    },
    {
     "name": "stderr",
     "output_type": "stream",
     "text": [
      " 33%|███▎      | 274/834 [58:26<2:51:55, 18.42s/it]"
     ]
    },
    {
     "name": "stdout",
     "output_type": "stream",
     "text": [
      "https://reviews.webmd.com/drugs/drugreview-174571-ertugliflozin-tablet\n"
     ]
    },
    {
     "name": "stderr",
     "output_type": "stream",
     "text": [
      " 33%|███▎      | 275/834 [58:30<2:08:43, 13.82s/it]"
     ]
    },
    {
     "name": "stdout",
     "output_type": "stream",
     "text": [
      "https://reviews.webmd.com/drugs/drugreview-174575-admelog-vial\n"
     ]
    },
    {
     "name": "stderr",
     "output_type": "stream",
     "text": [
      "100%|██████████| 3/3 [00:07<00:00,  2.34s/it]\n",
      " 33%|███▎      | 276/834 [58:40<2:00:19, 12.94s/it]"
     ]
    },
    {
     "name": "stdout",
     "output_type": "stream",
     "text": [
      "https://reviews.webmd.com/drugs/drugreview-174576-admelog-solostar-insulin-pen\n"
     ]
    },
    {
     "name": "stderr",
     "output_type": "stream",
     "text": [
      "100%|██████████| 1/1 [00:01<00:00,  1.86s/it]\n",
      " 33%|███▎      | 277/834 [58:46<1:38:27, 10.61s/it]"
     ]
    },
    {
     "name": "stdout",
     "output_type": "stream",
     "text": [
      "https://reviews.webmd.com/drugs/drugreview-174582-ertugliflozin-metformin-tablet\n"
     ]
    },
    {
     "name": "stderr",
     "output_type": "stream",
     "text": [
      " 33%|███▎      | 278/834 [58:49<1:17:24,  8.35s/it]"
     ]
    },
    {
     "name": "stdout",
     "output_type": "stream",
     "text": [
      "https://reviews.webmd.com/drugs/drugreview-174602-steglatro\n"
     ]
    },
    {
     "name": "stderr",
     "output_type": "stream",
     "text": [
      "100%|██████████| 1/1 [00:02<00:00,  2.09s/it]\n",
      " 33%|███▎      | 279/834 [58:54<1:10:09,  7.58s/it]"
     ]
    },
    {
     "name": "stdout",
     "output_type": "stream",
     "text": [
      "https://reviews.webmd.com/drugs/drugreview-174662-steglujan\n"
     ]
    },
    {
     "name": "stderr",
     "output_type": "stream",
     "text": [
      " 34%|███▎      | 280/834 [58:59<1:00:25,  6.54s/it]"
     ]
    },
    {
     "name": "stdout",
     "output_type": "stream",
     "text": [
      "https://reviews.webmd.com/drugs/drugreview-174733-segluromet\n"
     ]
    },
    {
     "name": "stderr",
     "output_type": "stream",
     "text": [
      "100%|██████████| 1/1 [00:01<00:00,  1.85s/it]\n",
      " 34%|███▎      | 281/834 [59:05<1:00:04,  6.52s/it]"
     ]
    },
    {
     "name": "stdout",
     "output_type": "stream",
     "text": [
      "https://reviews.webmd.com/drugs/drugreview-175027-toujeo-max-solostar-insulin-pen\n"
     ]
    },
    {
     "name": "stderr",
     "output_type": "stream",
     "text": [
      " 34%|███▍      | 282/834 [59:08<51:21,  5.58s/it]  "
     ]
    },
    {
     "name": "stdout",
     "output_type": "stream",
     "text": [
      "https://reviews.webmd.com/drugs/drugreview-17555-eprosartan-mesylate\n"
     ]
    },
    {
     "name": "stderr",
     "output_type": "stream",
     "text": [
      "100%|██████████| 1/1 [00:01<00:00,  1.84s/it]\n",
      " 34%|███▍      | 283/834 [59:13<49:33,  5.40s/it]"
     ]
    },
    {
     "name": "stdout",
     "output_type": "stream",
     "text": [
      "https://reviews.webmd.com/drugs/drugreview-175675-kapspargo-sprinkle\n"
     ]
    },
    {
     "name": "stderr",
     "output_type": "stream",
     "text": [
      " 34%|███▍      | 284/834 [59:17<45:46,  4.99s/it]"
     ]
    },
    {
     "name": "stdout",
     "output_type": "stream",
     "text": [
      "https://reviews.webmd.com/drugs/drugreview-17572-teveten-tablet\n"
     ]
    },
    {
     "name": "stderr",
     "output_type": "stream",
     "text": [
      "100%|██████████| 2/2 [00:04<00:00,  2.19s/it]\n",
      " 34%|███▍      | 285/834 [59:27<57:42,  6.31s/it]"
     ]
    },
    {
     "name": "stdout",
     "output_type": "stream",
     "text": [
      "https://reviews.webmd.com/drugs/drugreview-175773-insulin-glargine-solostar-pen\n"
     ]
    },
    {
     "name": "stderr",
     "output_type": "stream",
     "text": [
      " 34%|███▍      | 286/834 [59:31<50:39,  5.55s/it]"
     ]
    },
    {
     "name": "stdout",
     "output_type": "stream",
     "text": [
      "https://reviews.webmd.com/drugs/drugreview-176248-novolin-70-30-flexpen-insulin-pen\n"
     ]
    },
    {
     "name": "stderr",
     "output_type": "stream",
     "text": [
      " 34%|███▍      | 287/834 [59:35<47:52,  5.25s/it]"
     ]
    },
    {
     "name": "stdout",
     "output_type": "stream",
     "text": [
      "https://reviews.webmd.com/drugs/drugreview-176683-tresiba-vial\n"
     ]
    },
    {
     "name": "stderr",
     "output_type": "stream",
     "text": [
      " 35%|███▍      | 289/834 [59:40<34:26,  3.79s/it]"
     ]
    },
    {
     "name": "stdout",
     "output_type": "stream",
     "text": [
      "skipping https://reviews.webmd.com/drugs/drugreview-17744-velosulin-br-solution: page not found\n"
     ]
    },
    {
     "name": "stderr",
     "output_type": "stream",
     "text": [
      " 35%|███▍      | 290/834 [59:42<28:27,  3.14s/it]"
     ]
    },
    {
     "name": "stdout",
     "output_type": "stream",
     "text": [
      "skipping https://reviews.webmd.com/drugs/drugreview-17746-velosulin-br-rdna-solution: page not found\n"
     ]
    },
    {
     "name": "stderr",
     "output_type": "stream",
     "text": [
      " 35%|███▍      | 291/834 [59:44<24:21,  2.69s/it]"
     ]
    },
    {
     "name": "stdout",
     "output_type": "stream",
     "text": [
      "skipping https://reviews.webmd.com/drugs/drugreview-177465-insulin-regular-in-0-9-nacl-solution: page not found\n",
      "https://reviews.webmd.com/drugs/drugreview-177547-amlodipine-benzoate-suspension\n"
     ]
    },
    {
     "name": "stderr",
     "output_type": "stream",
     "text": [
      " 35%|███▌      | 292/834 [59:47<26:08,  2.89s/it]"
     ]
    },
    {
     "name": "stdout",
     "output_type": "stream",
     "text": [
      "https://reviews.webmd.com/drugs/drugreview-177569-katerzia\n"
     ]
    },
    {
     "name": "stderr",
     "output_type": "stream",
     "text": [
      " 35%|███▌      | 294/834 [59:51<22:52,  2.54s/it]"
     ]
    },
    {
     "name": "stdout",
     "output_type": "stream",
     "text": [
      "skipping https://reviews.webmd.com/drugs/drugreview-177940-myxredlin-plastic-bag-injection: page not found\n",
      "https://reviews.webmd.com/drugs/drugreview-178018-semaglutide-tablet\n"
     ]
    },
    {
     "name": "stderr",
     "output_type": "stream",
     "text": [
      "100%|██████████| 1/1 [00:01<00:00,  1.51s/it]\n",
      " 35%|███▌      | 295/834 [59:56<28:49,  3.21s/it]"
     ]
    },
    {
     "name": "stdout",
     "output_type": "stream",
     "text": [
      "https://reviews.webmd.com/drugs/drugreview-178019-rybelsus\n"
     ]
    },
    {
     "name": "stderr",
     "output_type": "stream",
     "text": [
      "100%|██████████| 4/4 [00:06<00:00,  1.68s/it]\n",
      " 35%|███▌      | 296/834 [1:00:06<47:15,  5.27s/it]"
     ]
    },
    {
     "name": "stdout",
     "output_type": "stream",
     "text": [
      "https://reviews.webmd.com/drugs/drugreview-178341-tiadylt-er\n"
     ]
    },
    {
     "name": "stderr",
     "output_type": "stream",
     "text": [
      " 36%|███▌      | 297/834 [1:00:09<41:14,  4.61s/it]"
     ]
    },
    {
     "name": "stdout",
     "output_type": "stream",
     "text": [
      "https://reviews.webmd.com/drugs/drugreview-178494-novolin-n-flexpen-insulin-pen\n"
     ]
    },
    {
     "name": "stderr",
     "output_type": "stream",
     "text": [
      " 36%|███▌      | 298/834 [1:00:12<35:39,  3.99s/it]"
     ]
    },
    {
     "name": "stdout",
     "output_type": "stream",
     "text": [
      "https://reviews.webmd.com/drugs/drugreview-1785-corgard\n"
     ]
    },
    {
     "name": "stderr",
     "output_type": "stream",
     "text": [
      "100%|██████████| 1/1 [00:02<00:00,  2.04s/it]\n",
      " 36%|███▌      | 299/834 [1:00:17<38:36,  4.33s/it]"
     ]
    },
    {
     "name": "stdout",
     "output_type": "stream",
     "text": [
      "https://reviews.webmd.com/drugs/drugreview-178502-novolin-r-flexpen-insulin-pen\n"
     ]
    },
    {
     "name": "stderr",
     "output_type": "stream",
     "text": [
      " 36%|███▌      | 300/834 [1:00:21<36:21,  4.08s/it]"
     ]
    },
    {
     "name": "stdout",
     "output_type": "stream",
     "text": [
      "https://reviews.webmd.com/drugs/drugreview-178575-levamlodipine-maleate\n"
     ]
    },
    {
     "name": "stderr",
     "output_type": "stream",
     "text": [
      " 36%|███▌      | 301/834 [1:00:23<32:21,  3.64s/it]"
     ]
    },
    {
     "name": "stdout",
     "output_type": "stream",
     "text": [
      "https://reviews.webmd.com/drugs/drugreview-178652-riomet-er\n"
     ]
    },
    {
     "name": "stderr",
     "output_type": "stream",
     "text": [
      " 36%|███▌      | 302/834 [1:00:26<30:29,  3.44s/it]"
     ]
    },
    {
     "name": "stdout",
     "output_type": "stream",
     "text": [
      "https://reviews.webmd.com/drugs/drugreview-178777-empaglifloz-linaglip-metformin-tablet-immediate-release-and-er-biphasic-24hr-tablet-immed-ext-release-biphasic-24hr\n"
     ]
    },
    {
     "name": "stderr",
     "output_type": "stream",
     "text": [
      " 36%|███▋      | 303/834 [1:00:29<28:57,  3.27s/it]"
     ]
    },
    {
     "name": "stdout",
     "output_type": "stream",
     "text": [
      "https://reviews.webmd.com/drugs/drugreview-178887-semglee-vial\n"
     ]
    },
    {
     "name": "stderr",
     "output_type": "stream",
     "text": [
      "100%|██████████| 1/1 [00:02<00:00,  2.55s/it]\n",
      " 37%|███▋      | 305/834 [1:00:36<28:31,  3.23s/it]"
     ]
    },
    {
     "name": "stdout",
     "output_type": "stream",
     "text": [
      "skipping https://reviews.webmd.com/drugs/drugreview-1789-diabinese-tablet: page not found\n",
      "https://reviews.webmd.com/drugs/drugreview-178950-trijardy-xr\n"
     ]
    },
    {
     "name": "stderr",
     "output_type": "stream",
     "text": [
      "100%|██████████| 1/1 [00:03<00:00,  3.39s/it]\n",
      " 37%|███▋      | 306/834 [1:00:42<35:41,  4.06s/it]"
     ]
    },
    {
     "name": "stdout",
     "output_type": "stream",
     "text": [
      "https://reviews.webmd.com/drugs/drugreview-179541-insulin-lispro-aabc-solution\n"
     ]
    },
    {
     "name": "stderr",
     "output_type": "stream",
     "text": [
      " 37%|███▋      | 307/834 [1:00:45<32:40,  3.72s/it]"
     ]
    },
    {
     "name": "stdout",
     "output_type": "stream",
     "text": [
      "https://reviews.webmd.com/drugs/drugreview-179553-lyumjev-vial\n"
     ]
    },
    {
     "name": "stderr",
     "output_type": "stream",
     "text": [
      " 37%|███▋      | 308/834 [1:00:48<29:51,  3.41s/it]"
     ]
    },
    {
     "name": "stdout",
     "output_type": "stream",
     "text": [
      "https://reviews.webmd.com/drugs/drugreview-179554-lyumjev-kwikpen-u-100-insulin-pen\n"
     ]
    },
    {
     "name": "stderr",
     "output_type": "stream",
     "text": [
      " 37%|███▋      | 309/834 [1:00:50<27:26,  3.14s/it]"
     ]
    },
    {
     "name": "stdout",
     "output_type": "stream",
     "text": [
      "https://reviews.webmd.com/drugs/drugreview-179555-lyumjev-kwikpen-u-200-insulin-pen\n"
     ]
    },
    {
     "name": "stderr",
     "output_type": "stream",
     "text": [
      " 37%|███▋      | 310/834 [1:00:53<25:48,  2.96s/it]"
     ]
    },
    {
     "name": "stdout",
     "output_type": "stream",
     "text": [
      "https://reviews.webmd.com/drugs/drugreview-180007-semglee-pen-insulin\n"
     ]
    },
    {
     "name": "stderr",
     "output_type": "stream",
     "text": [
      "100%|██████████| 1/1 [00:02<00:00,  2.40s/it]\n",
      " 37%|███▋      | 311/834 [1:00:58<31:18,  3.59s/it]"
     ]
    },
    {
     "name": "stdout",
     "output_type": "stream",
     "text": [
      "https://reviews.webmd.com/drugs/drugreview-180121-conjupri\n"
     ]
    },
    {
     "name": "stderr",
     "output_type": "stream",
     "text": [
      " 38%|███▊      | 313/834 [1:01:02<25:20,  2.92s/it]"
     ]
    },
    {
     "name": "stdout",
     "output_type": "stream",
     "text": [
      "skipping https://reviews.webmd.com/drugs/drugreview-180390-labetalol-hcl-nacl-plastic-bag-injection: page not found\n"
     ]
    },
    {
     "name": "stderr",
     "output_type": "stream",
     "text": [
      " 38%|███▊      | 314/834 [1:01:04<22:06,  2.55s/it]"
     ]
    },
    {
     "name": "stdout",
     "output_type": "stream",
     "text": [
      "skipping https://reviews.webmd.com/drugs/drugreview-180397-labetalol-hcl-dextrose-plastic-bag-injection: page not found\n",
      "https://reviews.webmd.com/drugs/drugreview-1806-dynacirc-capsule\n"
     ]
    },
    {
     "name": "stderr",
     "output_type": "stream",
     "text": [
      "100%|██████████| 1/1 [00:01<00:00,  1.56s/it]\n",
      " 38%|███▊      | 315/834 [1:01:10<30:12,  3.49s/it]"
     ]
    },
    {
     "name": "stdout",
     "output_type": "stream",
     "text": [
      "https://reviews.webmd.com/drugs/drugreview-1813-minipress\n"
     ]
    },
    {
     "name": "stderr",
     "output_type": "stream",
     "text": [
      "100%|██████████| 2/2 [00:03<00:00,  1.76s/it]\n",
      " 38%|███▊      | 316/834 [1:01:17<38:29,  4.46s/it]"
     ]
    },
    {
     "name": "stdout",
     "output_type": "stream",
     "text": [
      "https://reviews.webmd.com/drugs/drugreview-181317-basaglar-tempo-pen-u-100-insulin-pen-sensor\n"
     ]
    },
    {
     "name": "stderr",
     "output_type": "stream",
     "text": [
      "100%|██████████| 1/1 [00:01<00:00,  1.43s/it]\n",
      " 38%|███▊      | 317/834 [1:01:21<38:05,  4.42s/it]"
     ]
    },
    {
     "name": "stdout",
     "output_type": "stream",
     "text": [
      "https://reviews.webmd.com/drugs/drugreview-181342-humalog-tempo-pen-u-100-insulin-pen-sensor\n"
     ]
    },
    {
     "name": "stderr",
     "output_type": "stream",
     "text": [
      " 38%|███▊      | 318/834 [1:01:24<33:57,  3.95s/it]"
     ]
    },
    {
     "name": "stdout",
     "output_type": "stream",
     "text": [
      "https://reviews.webmd.com/drugs/drugreview-18136-monopril-hct-tablet\n"
     ]
    },
    {
     "name": "stderr",
     "output_type": "stream",
     "text": [
      "100%|██████████| 1/1 [00:01<00:00,  1.48s/it]\n",
      " 38%|███▊      | 319/834 [1:01:28<34:44,  4.05s/it]"
     ]
    },
    {
     "name": "stdout",
     "output_type": "stream",
     "text": [
      "https://reviews.webmd.com/drugs/drugreview-1814-moduretic-tablet\n"
     ]
    },
    {
     "name": "stderr",
     "output_type": "stream",
     "text": [
      "100%|██████████| 1/1 [00:01<00:00,  1.45s/it]\n",
      " 38%|███▊      | 320/834 [1:01:33<38:06,  4.45s/it]"
     ]
    },
    {
     "name": "stdout",
     "output_type": "stream",
     "text": [
      "https://reviews.webmd.com/drugs/drugreview-18141-accuretic\n"
     ]
    },
    {
     "name": "stderr",
     "output_type": "stream",
     "text": [
      "100%|██████████| 1/1 [00:01<00:00,  1.88s/it]\n",
      " 38%|███▊      | 321/834 [1:01:38<38:44,  4.53s/it]"
     ]
    },
    {
     "name": "stdout",
     "output_type": "stream",
     "text": [
      "https://reviews.webmd.com/drugs/drugreview-18179-novolin-70-30-penfill-cartridge\n"
     ]
    },
    {
     "name": "stderr",
     "output_type": "stream",
     "text": [
      "100%|██████████| 1/1 [00:01<00:00,  1.56s/it]\n",
      " 39%|███▊      | 322/834 [1:01:43<38:29,  4.51s/it]"
     ]
    },
    {
     "name": "stdout",
     "output_type": "stream",
     "text": [
      "https://reviews.webmd.com/drugs/drugreview-18180-novolin-n-penfill-cartridge\n"
     ]
    },
    {
     "name": "stderr",
     "output_type": "stream",
     "text": [
      " 39%|███▊      | 323/834 [1:01:46<34:30,  4.05s/it]"
     ]
    },
    {
     "name": "stdout",
     "output_type": "stream",
     "text": [
      "https://reviews.webmd.com/drugs/drugreview-18181-novolin-r-penfill-cartridge\n"
     ]
    },
    {
     "name": "stderr",
     "output_type": "stream",
     "text": [
      "100%|██████████| 1/1 [00:01<00:00,  1.50s/it]\n",
      " 39%|███▉      | 324/834 [1:01:51<37:39,  4.43s/it]"
     ]
    },
    {
     "name": "stdout",
     "output_type": "stream",
     "text": [
      "https://reviews.webmd.com/drugs/drugreview-182013-insulin-glargine-yfgn-vial\n"
     ]
    },
    {
     "name": "stderr",
     "output_type": "stream",
     "text": [
      " 39%|███▉      | 325/834 [1:01:54<33:33,  3.96s/it]"
     ]
    },
    {
     "name": "stdout",
     "output_type": "stream",
     "text": [
      "https://reviews.webmd.com/drugs/drugreview-182372-semglee-yfgn-pen-insulin\n"
     ]
    },
    {
     "name": "stderr",
     "output_type": "stream",
     "text": [
      "100%|██████████| 1/1 [00:02<00:00,  2.18s/it]\n",
      " 39%|███▉      | 326/834 [1:01:59<37:31,  4.43s/it]"
     ]
    },
    {
     "name": "stdout",
     "output_type": "stream",
     "text": [
      "https://reviews.webmd.com/drugs/drugreview-182373-semglee-yfgn-vial\n"
     ]
    },
    {
     "name": "stderr",
     "output_type": "stream",
     "text": [
      " 39%|███▉      | 327/834 [1:02:02<33:33,  3.97s/it]"
     ]
    },
    {
     "name": "stdout",
     "output_type": "stream",
     "text": [
      "https://reviews.webmd.com/drugs/drugreview-183194-insulin-glargine-aglr-pen\n"
     ]
    },
    {
     "name": "stderr",
     "output_type": "stream",
     "text": [
      " 39%|███▉      | 328/834 [1:02:05<30:18,  3.59s/it]"
     ]
    },
    {
     "name": "stdout",
     "output_type": "stream",
     "text": [
      "https://reviews.webmd.com/drugs/drugreview-183996-norliqva\n"
     ]
    },
    {
     "name": "stderr",
     "output_type": "stream",
     "text": [
      " 39%|███▉      | 329/834 [1:02:07<27:49,  3.31s/it]"
     ]
    },
    {
     "name": "stdout",
     "output_type": "stream",
     "text": [
      "https://reviews.webmd.com/drugs/drugreview-184157-tirzepatide-pen-injector\n"
     ]
    },
    {
     "name": "stderr",
     "output_type": "stream",
     "text": [
      "100%|██████████| 1/1 [00:01<00:00,  1.63s/it]\n",
      " 40%|███▉      | 330/834 [1:02:12<30:35,  3.64s/it]"
     ]
    },
    {
     "name": "stdout",
     "output_type": "stream",
     "text": [
      "https://reviews.webmd.com/drugs/drugreview-184168-mounjaro-pen-injector\n"
     ]
    },
    {
     "name": "stderr",
     "output_type": "stream",
     "text": [
      "100%|██████████| 26/26 [00:53<00:00,  2.05s/it]\n",
      " 40%|███▉      | 331/834 [1:03:09<2:44:03, 19.57s/it]"
     ]
    },
    {
     "name": "stdout",
     "output_type": "stream",
     "text": [
      "https://reviews.webmd.com/drugs/drugreview-185382-lyumjev-tempo-pen-u-100-insulin-pen-sensor\n"
     ]
    },
    {
     "name": "stderr",
     "output_type": "stream",
     "text": [
      " 40%|███▉      | 332/834 [1:03:12<2:03:05, 14.71s/it]"
     ]
    },
    {
     "name": "stdout",
     "output_type": "stream",
     "text": [
      "https://reviews.webmd.com/drugs/drugreview-185857-bexagliflozin\n"
     ]
    },
    {
     "name": "stderr",
     "output_type": "stream",
     "text": [
      " 40%|███▉      | 333/834 [1:03:15<1:32:18, 11.05s/it]"
     ]
    },
    {
     "name": "stdout",
     "output_type": "stream",
     "text": [
      "https://reviews.webmd.com/drugs/drugreview-186157-rezvoglar-kwikpen-insulin-pen\n"
     ]
    },
    {
     "name": "stderr",
     "output_type": "stream",
     "text": [
      " 40%|████      | 335/834 [1:03:19<54:07,  6.51s/it]  "
     ]
    },
    {
     "name": "stdout",
     "output_type": "stream",
     "text": [
      "skipping https://reviews.webmd.com/drugs/drugreview-187104-donislecel-jujn-suspension: page not found\n",
      "https://reviews.webmd.com/drugs/drugreview-187319-brenzavvy\n"
     ]
    },
    {
     "name": "stderr",
     "output_type": "stream",
     "text": [
      " 40%|████      | 336/834 [1:03:22<44:40,  5.38s/it]"
     ]
    },
    {
     "name": "stdout",
     "output_type": "stream",
     "text": [
      "https://reviews.webmd.com/drugs/drugreview-187400-insulin-aspart-b3-pump-cart-cartridge\n"
     ]
    },
    {
     "name": "stderr",
     "output_type": "stream",
     "text": [
      " 40%|████      | 337/834 [1:03:25<40:12,  4.85s/it]"
     ]
    },
    {
     "name": "stdout",
     "output_type": "stream",
     "text": [
      "https://reviews.webmd.com/drugs/drugreview-187431-fiasp-pumpcart-cartridge\n"
     ]
    },
    {
     "name": "stderr",
     "output_type": "stream",
     "text": [
      " 41%|████      | 339/834 [1:03:30<28:47,  3.49s/it]"
     ]
    },
    {
     "name": "stdout",
     "output_type": "stream",
     "text": [
      "skipping https://reviews.webmd.com/drugs/drugreview-187492-lantidra-plastic-bag: page not found\n",
      "https://reviews.webmd.com/drugs/drugreview-187692-sitagliptin-tablet\n"
     ]
    },
    {
     "name": "stderr",
     "output_type": "stream",
     "text": [
      " 41%|████      | 340/834 [1:03:32<26:11,  3.18s/it]"
     ]
    },
    {
     "name": "stdout",
     "output_type": "stream",
     "text": [
      "https://reviews.webmd.com/drugs/drugreview-187793-tirzepatide-weight-loss-pen-injector\n"
     ]
    },
    {
     "name": "stderr",
     "output_type": "stream",
     "text": [
      " 41%|████      | 341/834 [1:03:35<24:49,  3.02s/it]"
     ]
    },
    {
     "name": "stdout",
     "output_type": "stream",
     "text": [
      "https://reviews.webmd.com/drugs/drugreview-187794-zepbound-pen-injector\n"
     ]
    },
    {
     "name": "stderr",
     "output_type": "stream",
     "text": [
      "100%|██████████| 1/1 [00:01<00:00,  1.50s/it]\n",
      " 41%|████      | 342/834 [1:03:39<27:12,  3.32s/it]"
     ]
    },
    {
     "name": "stdout",
     "output_type": "stream",
     "text": [
      "https://reviews.webmd.com/drugs/drugreview-187968-zituvio\n"
     ]
    },
    {
     "name": "stderr",
     "output_type": "stream",
     "text": [
      " 41%|████      | 344/834 [1:03:43<21:40,  2.65s/it]"
     ]
    },
    {
     "name": "stdout",
     "output_type": "stream",
     "text": [
      "skipping https://reviews.webmd.com/drugs/drugreview-19007-hydralazine-plus-50-50-capsule: page not found\n"
     ]
    },
    {
     "name": "stderr",
     "output_type": "stream",
     "text": [
      " 41%|████▏     | 345/834 [1:03:45<19:09,  2.35s/it]"
     ]
    },
    {
     "name": "stdout",
     "output_type": "stream",
     "text": [
      "skipping https://reviews.webmd.com/drugs/drugreview-19036-hhr-tablet: page not found\n",
      "https://reviews.webmd.com/drugs/drugreview-1909-amiloride-hydrochlorothiazide\n"
     ]
    },
    {
     "name": "stderr",
     "output_type": "stream",
     "text": [
      "100%|██████████| 1/1 [00:01<00:00,  1.53s/it]\n",
      " 42%|████▏     | 347/834 [1:03:51<21:07,  2.60s/it]"
     ]
    },
    {
     "name": "stdout",
     "output_type": "stream",
     "text": [
      "skipping https://reviews.webmd.com/drugs/drugreview-19158-ser-ap-es-tablet: page not found\n"
     ]
    },
    {
     "name": "stderr",
     "output_type": "stream",
     "text": [
      " 42%|████▏     | 348/834 [1:03:53<18:44,  2.31s/it]"
     ]
    },
    {
     "name": "stdout",
     "output_type": "stream",
     "text": [
      "skipping https://reviews.webmd.com/drugs/drugreview-19345-diuretic-ap-es-tablet: page not found\n",
      "https://reviews.webmd.com/drugs/drugreview-19479-inversine-tablet\n"
     ]
    },
    {
     "name": "stderr",
     "output_type": "stream",
     "text": [
      " 42%|████▏     | 349/834 [1:03:55<19:43,  2.44s/it]"
     ]
    },
    {
     "name": "stdout",
     "output_type": "stream",
     "text": [
      "https://reviews.webmd.com/drugs/drugreview-19480-mecamylamine-tablet\n"
     ]
    },
    {
     "name": "stderr",
     "output_type": "stream",
     "text": [
      " 42%|████▏     | 350/834 [1:03:58<19:39,  2.44s/it]"
     ]
    },
    {
     "name": "stdout",
     "output_type": "stream",
     "text": [
      "https://reviews.webmd.com/drugs/drugreview-1955-atenolol-chlorthalidone\n"
     ]
    },
    {
     "name": "stderr",
     "output_type": "stream",
     "text": [
      "100%|██████████| 4/4 [00:08<00:00,  2.21s/it]\n",
      " 42%|████▏     | 351/834 [1:04:11<44:51,  5.57s/it]"
     ]
    },
    {
     "name": "stdout",
     "output_type": "stream",
     "text": [
      "https://reviews.webmd.com/drugs/drugreview-19751-nifedipine-cr-osmotic-tablet-push-tablet-er-push\n"
     ]
    },
    {
     "name": "stderr",
     "output_type": "stream",
     "text": [
      " 42%|████▏     | 352/834 [1:04:15<40:24,  5.03s/it]"
     ]
    },
    {
     "name": "stdout",
     "output_type": "stream",
     "text": [
      "https://reviews.webmd.com/drugs/drugreview-19784-diltiazem-cd-capsule-er\n"
     ]
    },
    {
     "name": "stderr",
     "output_type": "stream",
     "text": [
      " 42%|████▏     | 353/834 [1:04:18<37:00,  4.62s/it]"
     ]
    },
    {
     "name": "stdout",
     "output_type": "stream",
     "text": [
      "https://reviews.webmd.com/drugs/drugreview-19822-glucovance-tablet\n"
     ]
    },
    {
     "name": "stderr",
     "output_type": "stream",
     "text": [
      "100%|██████████| 2/2 [00:03<00:00,  1.94s/it]\n",
      " 42%|████▏     | 354/834 [1:04:26<44:58,  5.62s/it]"
     ]
    },
    {
     "name": "stdout",
     "output_type": "stream",
     "text": [
      "https://reviews.webmd.com/drugs/drugreview-19823-glyburide-metformin-hcl\n"
     ]
    },
    {
     "name": "stderr",
     "output_type": "stream",
     "text": [
      "100%|██████████| 2/2 [00:03<00:00,  1.69s/it]\n",
      " 43%|████▎     | 355/834 [1:04:33<47:34,  5.96s/it]"
     ]
    },
    {
     "name": "stdout",
     "output_type": "stream",
     "text": [
      "https://reviews.webmd.com/drugs/drugreview-19895-relion-n-innolet-suspension\n"
     ]
    },
    {
     "name": "stderr",
     "output_type": "stream",
     "text": [
      " 43%|████▎     | 356/834 [1:04:36<39:54,  5.01s/it]"
     ]
    },
    {
     "name": "stdout",
     "output_type": "stream",
     "text": [
      "https://reviews.webmd.com/drugs/drugreview-19896-relion-r-solution\n"
     ]
    },
    {
     "name": "stderr",
     "output_type": "stream",
     "text": [
      " 43%|████▎     | 357/834 [1:04:39<35:46,  4.50s/it]"
     ]
    },
    {
     "name": "stdout",
     "output_type": "stream",
     "text": [
      "https://reviews.webmd.com/drugs/drugreview-19897-insulin-70-30-suspension\n"
     ]
    },
    {
     "name": "stderr",
     "output_type": "stream",
     "text": [
      " 43%|████▎     | 358/834 [1:04:43<35:06,  4.43s/it]"
     ]
    },
    {
     "name": "stdout",
     "output_type": "stream",
     "text": [
      "https://reviews.webmd.com/drugs/drugreview-19953-candesartan-hydrochlorothiazid\n"
     ]
    },
    {
     "name": "stderr",
     "output_type": "stream",
     "text": [
      "100%|██████████| 1/1 [00:01<00:00,  1.39s/it]\n",
      " 43%|████▎     | 359/834 [1:04:47<34:25,  4.35s/it]"
     ]
    },
    {
     "name": "stdout",
     "output_type": "stream",
     "text": [
      "https://reviews.webmd.com/drugs/drugreview-19955-bisoprolol-fumarate-hctz-tablet\n"
     ]
    },
    {
     "name": "stderr",
     "output_type": "stream",
     "text": [
      " 43%|████▎     | 360/834 [1:04:50<30:13,  3.83s/it]"
     ]
    },
    {
     "name": "stdout",
     "output_type": "stream",
     "text": [
      "https://reviews.webmd.com/drugs/drugreview-19957-atacand-hct\n"
     ]
    },
    {
     "name": "stderr",
     "output_type": "stream",
     "text": [
      "100%|██████████| 2/2 [00:03<00:00,  1.74s/it]\n",
      " 43%|████▎     | 361/834 [1:04:57<36:49,  4.67s/it]"
     ]
    },
    {
     "name": "stdout",
     "output_type": "stream",
     "text": [
      "https://reviews.webmd.com/drugs/drugreview-20009-glucophage-xr-tablet-er-24-hr\n"
     ]
    },
    {
     "name": "stderr",
     "output_type": "stream",
     "text": [
      "100%|██████████| 2/2 [00:03<00:00,  1.86s/it]\n",
      " 43%|████▎     | 362/834 [1:05:05<44:35,  5.67s/it]"
     ]
    },
    {
     "name": "stdout",
     "output_type": "stream",
     "text": [
      "https://reviews.webmd.com/drugs/drugreview-20224-humalog-mix-75-25-vial\n"
     ]
    },
    {
     "name": "stderr",
     "output_type": "stream",
     "text": [
      "100%|██████████| 1/1 [00:01<00:00,  1.58s/it]\n",
      " 44%|████▎     | 363/834 [1:05:10<43:25,  5.53s/it]"
     ]
    },
    {
     "name": "stdout",
     "output_type": "stream",
     "text": [
      "https://reviews.webmd.com/drugs/drugreview-20226-nifedical-xl-tablet-er-24-hr\n"
     ]
    },
    {
     "name": "stderr",
     "output_type": "stream",
     "text": [
      "100%|██████████| 3/3 [00:05<00:00,  1.68s/it]\n",
      " 44%|████▎     | 364/834 [1:05:18<49:17,  6.29s/it]"
     ]
    },
    {
     "name": "stdout",
     "output_type": "stream",
     "text": [
      "https://reviews.webmd.com/drugs/drugreview-20312-starlix\n"
     ]
    },
    {
     "name": "stderr",
     "output_type": "stream",
     "text": [
      "100%|██████████| 2/2 [00:03<00:00,  1.80s/it]\n",
      " 44%|████▍     | 365/834 [1:05:25<50:55,  6.52s/it]"
     ]
    },
    {
     "name": "stdout",
     "output_type": "stream",
     "text": [
      "https://reviews.webmd.com/drugs/drugreview-20313-nateglinide\n"
     ]
    },
    {
     "name": "stderr",
     "output_type": "stream",
     "text": [
      "100%|██████████| 1/1 [00:01<00:00,  1.79s/it]\n",
      " 44%|████▍     | 366/834 [1:05:31<49:02,  6.29s/it]"
     ]
    },
    {
     "name": "stdout",
     "output_type": "stream",
     "text": [
      "https://reviews.webmd.com/drugs/drugreview-20317-telmisartan-hydrochlorothiazid\n"
     ]
    },
    {
     "name": "stderr",
     "output_type": "stream",
     "text": [
      "100%|██████████| 1/1 [00:01<00:00,  1.73s/it]\n",
      " 44%|████▍     | 367/834 [1:05:36<45:35,  5.86s/it]"
     ]
    },
    {
     "name": "stdout",
     "output_type": "stream",
     "text": [
      "https://reviews.webmd.com/drugs/drugreview-20318-micardis-hct\n"
     ]
    },
    {
     "name": "stderr",
     "output_type": "stream",
     "text": [
      "100%|██████████| 8/8 [00:16<00:00,  2.08s/it]\n",
      " 44%|████▍     | 368/834 [1:05:56<1:18:18, 10.08s/it]"
     ]
    },
    {
     "name": "stdout",
     "output_type": "stream",
     "text": [
      "https://reviews.webmd.com/drugs/drugreview-2069-benazepril-hydrochlorothiazide\n"
     ]
    },
    {
     "name": "stderr",
     "output_type": "stream",
     "text": [
      "100%|██████████| 3/3 [00:07<00:00,  2.55s/it]\n",
      " 44%|████▍     | 369/834 [1:06:08<1:23:42, 10.80s/it]"
     ]
    },
    {
     "name": "stdout",
     "output_type": "stream",
     "text": [
      "https://reviews.webmd.com/drugs/drugreview-2077-bisoprolol-hydrochlorothiazide\n"
     ]
    },
    {
     "name": "stderr",
     "output_type": "stream",
     "text": [
      "100%|██████████| 2/2 [00:04<00:00,  2.04s/it]\n",
      " 44%|████▍     | 370/834 [1:06:15<1:14:53,  9.68s/it]"
     ]
    },
    {
     "name": "stdout",
     "output_type": "stream",
     "text": [
      "https://reviews.webmd.com/drugs/drugreview-20805-insulin-glargine-solostar-pen\n"
     ]
    },
    {
     "name": "stderr",
     "output_type": "stream",
     "text": [
      "100%|██████████| 1/1 [00:01<00:00,  1.57s/it]\n",
      " 44%|████▍     | 371/834 [1:06:20<1:04:38,  8.38s/it]"
     ]
    },
    {
     "name": "stdout",
     "output_type": "stream",
     "text": [
      "https://reviews.webmd.com/drugs/drugreview-20815-lantus-vial\n"
     ]
    },
    {
     "name": "stderr",
     "output_type": "stream",
     "text": [
      "100%|██████████| 6/6 [00:12<00:00,  2.02s/it]\n",
      " 45%|████▍     | 372/834 [1:06:36<1:20:14, 10.42s/it]"
     ]
    },
    {
     "name": "stdout",
     "output_type": "stream",
     "text": [
      "https://reviews.webmd.com/drugs/drugreview-20938-diltiazem-hcl-er-capsule-12-hr-capsule-hr\n"
     ]
    },
    {
     "name": "stderr",
     "output_type": "stream",
     "text": [
      " 45%|████▍     | 373/834 [1:06:39<1:03:43,  8.29s/it]"
     ]
    },
    {
     "name": "stdout",
     "output_type": "stream",
     "text": [
      "https://reviews.webmd.com/drugs/drugreview-21133-dilt-xr-capsule-degradable-capsule-er-degradable\n"
     ]
    },
    {
     "name": "stderr",
     "output_type": "stream",
     "text": [
      " 45%|████▍     | 374/834 [1:06:42<51:28,  6.71s/it]  "
     ]
    },
    {
     "name": "stdout",
     "output_type": "stream",
     "text": [
      "https://reviews.webmd.com/drugs/drugreview-2119-captopril-hctz-tablet\n"
     ]
    },
    {
     "name": "stderr",
     "output_type": "stream",
     "text": [
      " 45%|████▌     | 376/834 [1:06:48<36:15,  4.75s/it]"
     ]
    },
    {
     "name": "stdout",
     "output_type": "stream",
     "text": [
      "skipping https://reviews.webmd.com/drugs/drugreview-2123-cardene-i-v-ampul: page not found\n",
      "https://reviews.webmd.com/drugs/drugreview-21422-spironolactone-hctz-tablet\n"
     ]
    },
    {
     "name": "stderr",
     "output_type": "stream",
     "text": [
      " 45%|████▌     | 377/834 [1:06:51<31:59,  4.20s/it]"
     ]
    },
    {
     "name": "stdout",
     "output_type": "stream",
     "text": [
      "https://reviews.webmd.com/drugs/drugreview-21774-insulin-aspart-penfill-cartridge\n"
     ]
    },
    {
     "name": "stderr",
     "output_type": "stream",
     "text": [
      "100%|██████████| 1/1 [00:01<00:00,  1.87s/it]\n",
      " 45%|████▌     | 378/834 [1:06:56<32:51,  4.32s/it]"
     ]
    },
    {
     "name": "stdout",
     "output_type": "stream",
     "text": [
      "https://reviews.webmd.com/drugs/drugreview-21781-novolog-vial\n"
     ]
    },
    {
     "name": "stderr",
     "output_type": "stream",
     "text": [
      "100%|██████████| 2/2 [00:04<00:00,  2.17s/it]\n",
      " 46%|████▌     | 380/834 [1:07:05<32:42,  4.32s/it]"
     ]
    },
    {
     "name": "stdout",
     "output_type": "stream",
     "text": [
      "skipping https://reviews.webmd.com/drugs/drugreview-2228-clonidine-chlorthalidone-tablet: page not found\n"
     ]
    },
    {
     "name": "stderr",
     "output_type": "stream",
     "text": [
      " 46%|████▌     | 381/834 [1:07:07<27:00,  3.58s/it]"
     ]
    },
    {
     "name": "stdout",
     "output_type": "stream",
     "text": [
      "skipping https://reviews.webmd.com/drugs/drugreview-2329-sodium-diuril-vial: page not found\n"
     ]
    },
    {
     "name": "stderr",
     "output_type": "stream",
     "text": [
      " 46%|████▌     | 382/834 [1:07:09<23:40,  3.14s/it]"
     ]
    },
    {
     "name": "stdout",
     "output_type": "stream",
     "text": [
      "skipping https://reviews.webmd.com/drugs/drugreview-2352-dynacirc-cr-tablet-er-24-hr: page not found\n",
      "https://reviews.webmd.com/drugs/drugreview-2359-enalapril-hydrochlorothiazide\n"
     ]
    },
    {
     "name": "stderr",
     "output_type": "stream",
     "text": [
      "100%|██████████| 1/1 [00:01<00:00,  1.68s/it]\n",
      " 46%|████▌     | 383/834 [1:07:15<28:41,  3.82s/it]"
     ]
    },
    {
     "name": "stdout",
     "output_type": "stream",
     "text": [
      "https://reviews.webmd.com/drugs/drugreview-2447-fosinopril-hydrochlorothiazide\n"
     ]
    },
    {
     "name": "stderr",
     "output_type": "stream",
     "text": [
      "100%|██████████| 1/1 [00:01<00:00,  1.53s/it]\n",
      " 46%|████▌     | 385/834 [1:07:21<26:02,  3.48s/it]"
     ]
    },
    {
     "name": "stdout",
     "output_type": "stream",
     "text": [
      "skipping https://reviews.webmd.com/drugs/drugreview-2471-guanethidine-hydrochlorothiazd-tablet: page not found\n"
     ]
    },
    {
     "name": "stderr",
     "output_type": "stream",
     "text": [
      " 46%|████▋     | 386/834 [1:07:23<22:15,  2.98s/it]"
     ]
    },
    {
     "name": "stdout",
     "output_type": "stream",
     "text": [
      "skipping https://reviews.webmd.com/drugs/drugreview-2519-hydralazine-hydrochlorothiazid-capsule: page not found\n"
     ]
    },
    {
     "name": "stderr",
     "output_type": "stream",
     "text": [
      " 46%|████▋     | 387/834 [1:07:25<19:38,  2.64s/it]"
     ]
    },
    {
     "name": "stdout",
     "output_type": "stream",
     "text": [
      "skipping https://reviews.webmd.com/drugs/drugreview-2520-hydralazine-reserpin-hcthiazid-tablet: page not found\n",
      "https://reviews.webmd.com/drugs/drugreview-2521-hydro-par-tablet\n"
     ]
    },
    {
     "name": "stderr",
     "output_type": "stream",
     "text": [
      " 47%|████▋     | 388/834 [1:07:28<19:30,  2.62s/it]"
     ]
    },
    {
     "name": "stdout",
     "output_type": "stream",
     "text": [
      "https://reviews.webmd.com/drugs/drugreview-2622-lisinopril-hydrochlorothiazide\n"
     ]
    },
    {
     "name": "stderr",
     "output_type": "stream",
     "text": [
      "100%|██████████| 26/26 [00:52<00:00,  2.01s/it]\n",
      " 47%|████▋     | 389/834 [1:08:23<2:17:19, 18.52s/it]"
     ]
    },
    {
     "name": "stdout",
     "output_type": "stream",
     "text": [
      "https://reviews.webmd.com/drugs/drugreview-2626-losartan-hydrochlorothiazide\n"
     ]
    },
    {
     "name": "stderr",
     "output_type": "stream",
     "text": [
      "100%|██████████| 10/10 [00:18<00:00,  1.83s/it]\n",
      " 47%|████▋     | 391/834 [1:08:47<1:45:30, 14.29s/it]"
     ]
    },
    {
     "name": "stdout",
     "output_type": "stream",
     "text": [
      "skipping https://reviews.webmd.com/drugs/drugreview-2674-methyldopa-chlorothiazide-tablet: page not found\n",
      "https://reviews.webmd.com/drugs/drugreview-2675-methyldopa-hydrochlorothiazide\n"
     ]
    },
    {
     "name": "stderr",
     "output_type": "stream",
     "text": [
      "100%|██████████| 1/1 [00:01<00:00,  1.37s/it]\n",
      " 47%|████▋     | 392/834 [1:08:52<1:25:10, 11.56s/it]"
     ]
    },
    {
     "name": "stdout",
     "output_type": "stream",
     "text": [
      "https://reviews.webmd.com/drugs/drugreview-2676-metoprolol-hydrochlorothiazide\n"
     ]
    },
    {
     "name": "stderr",
     "output_type": "stream",
     "text": [
      "100%|██████████| 1/1 [00:01<00:00,  1.87s/it]\n",
      " 47%|████▋     | 394/834 [1:09:00<53:52,  7.35s/it]  "
     ]
    },
    {
     "name": "stdout",
     "output_type": "stream",
     "text": [
      "skipping https://reviews.webmd.com/drugs/drugreview-2728-nadolol-bendroflumethiazide-tablet: page not found\n"
     ]
    },
    {
     "name": "stderr",
     "output_type": "stream",
     "text": [
      " 47%|████▋     | 395/834 [1:09:01<41:19,  5.65s/it]"
     ]
    },
    {
     "name": "stdout",
     "output_type": "stream",
     "text": [
      "skipping https://reviews.webmd.com/drugs/drugreview-2906-prazosin-polythiazide-capsule: page not found\n",
      "https://reviews.webmd.com/drugs/drugreview-2930-propranolol-hydrochlorothiazid\n"
     ]
    },
    {
     "name": "stderr",
     "output_type": "stream",
     "text": [
      "100%|██████████| 1/1 [00:01<00:00,  1.59s/it]\n",
      " 47%|████▋     | 396/834 [1:09:07<41:34,  5.70s/it]"
     ]
    },
    {
     "name": "stdout",
     "output_type": "stream",
     "text": [
      "https://reviews.webmd.com/drugs/drugreview-3043-spironolactone-hctz\n"
     ]
    },
    {
     "name": "stderr",
     "output_type": "stream",
     "text": [
      "100%|██████████| 1/1 [00:02<00:00,  2.45s/it]\n",
      " 48%|████▊     | 398/834 [1:09:15<33:27,  4.60s/it]"
     ]
    },
    {
     "name": "stdout",
     "output_type": "stream",
     "text": [
      "skipping https://reviews.webmd.com/drugs/drugreview-3132-timolol-hydrochlorothiazide-tablet: page not found\n",
      "https://reviews.webmd.com/drugs/drugreview-3154-triamterene-hydrochlorothiazid\n"
     ]
    },
    {
     "name": "stderr",
     "output_type": "stream",
     "text": [
      "100%|██████████| 9/9 [00:16<00:00,  1.78s/it]\n",
      " 48%|████▊     | 399/834 [1:09:34<1:05:00,  8.97s/it]"
     ]
    },
    {
     "name": "stdout",
     "output_type": "stream",
     "text": [
      "https://reviews.webmd.com/drugs/drugreview-3340-vasotec\n"
     ]
    },
    {
     "name": "stderr",
     "output_type": "stream",
     "text": [
      "100%|██████████| 3/3 [00:05<00:00,  1.75s/it]\n",
      " 48%|████▊     | 400/834 [1:09:42<1:03:52,  8.83s/it]"
     ]
    },
    {
     "name": "stdout",
     "output_type": "stream",
     "text": [
      "https://reviews.webmd.com/drugs/drugreview-3365-insulin-purified-regularpork-solution\n"
     ]
    },
    {
     "name": "stderr",
     "output_type": "stream",
     "text": [
      " 48%|████▊     | 401/834 [1:09:45<50:31,  7.00s/it]  "
     ]
    },
    {
     "name": "stdout",
     "output_type": "stream",
     "text": [
      "https://reviews.webmd.com/drugs/drugreview-3448-humulin-70-30-vial\n"
     ]
    },
    {
     "name": "stderr",
     "output_type": "stream",
     "text": [
      "100%|██████████| 1/1 [00:01<00:00,  1.57s/it]\n",
      " 48%|████▊     | 402/834 [1:09:50<44:58,  6.25s/it]"
     ]
    },
    {
     "name": "stdout",
     "output_type": "stream",
     "text": [
      "https://reviews.webmd.com/drugs/drugreview-3486-insulin-lispro-kwikpen-u-100-pen\n"
     ]
    },
    {
     "name": "stderr",
     "output_type": "stream",
     "text": [
      "100%|██████████| 1/1 [00:01<00:00,  1.59s/it]\n",
      " 48%|████▊     | 403/834 [1:09:54<41:06,  5.72s/it]"
     ]
    },
    {
     "name": "stdout",
     "output_type": "stream",
     "text": [
      "https://reviews.webmd.com/drugs/drugreview-3517-quinapril-hydrochlorothiazide\n"
     ]
    },
    {
     "name": "stderr",
     "output_type": "stream",
     "text": [
      "100%|██████████| 1/1 [00:02<00:00,  2.34s/it]\n",
      " 48%|████▊     | 404/834 [1:09:59<40:15,  5.62s/it]"
     ]
    },
    {
     "name": "stdout",
     "output_type": "stream",
     "text": [
      "https://reviews.webmd.com/drugs/drugreview-3710-cardura\n"
     ]
    },
    {
     "name": "stderr",
     "output_type": "stream",
     "text": [
      "100%|██████████| 3/3 [00:05<00:00,  1.72s/it]\n",
      " 49%|████▊     | 405/834 [1:10:09<48:26,  6.78s/it]"
     ]
    },
    {
     "name": "stdout",
     "output_type": "stream",
     "text": [
      "https://reviews.webmd.com/drugs/drugreview-3750-doxazosin-mesylate\n"
     ]
    },
    {
     "name": "stderr",
     "output_type": "stream",
     "text": [
      "100%|██████████| 6/6 [00:10<00:00,  1.83s/it]\n",
      " 49%|████▊     | 406/834 [1:10:23<1:04:06,  8.99s/it]"
     ]
    },
    {
     "name": "stdout",
     "output_type": "stream",
     "text": [
      "https://reviews.webmd.com/drugs/drugreview-3750-doxazosin-tablet-er-2-hr\n"
     ]
    },
    {
     "name": "stderr",
     "output_type": "stream",
     "text": [
      "100%|██████████| 6/6 [00:13<00:00,  2.21s/it]\n",
      " 49%|████▉     | 407/834 [1:10:40<1:19:53, 11.23s/it]"
     ]
    },
    {
     "name": "stdout",
     "output_type": "stream",
     "text": [
      "https://reviews.webmd.com/drugs/drugreview-3773-diabeta-tablet\n"
     ]
    },
    {
     "name": "stderr",
     "output_type": "stream",
     "text": [
      "100%|██████████| 1/1 [00:01<00:00,  1.37s/it]\n",
      " 49%|████▉     | 408/834 [1:10:45<1:06:55,  9.43s/it]"
     ]
    },
    {
     "name": "stdout",
     "output_type": "stream",
     "text": [
      "https://reviews.webmd.com/drugs/drugreview-3776-lasix\n"
     ]
    },
    {
     "name": "stderr",
     "output_type": "stream",
     "text": [
      "100%|██████████| 10/10 [00:23<00:00,  2.39s/it]\n",
      " 49%|████▉     | 409/834 [1:11:12<1:44:07, 14.70s/it]"
     ]
    },
    {
     "name": "stdout",
     "output_type": "stream",
     "text": [
      "https://reviews.webmd.com/drugs/drugreview-3776-lasix-solution\n"
     ]
    },
    {
     "name": "stderr",
     "output_type": "stream",
     "text": [
      "100%|██████████| 10/10 [00:22<00:00,  2.28s/it]\n",
      " 49%|████▉     | 410/834 [1:11:38<2:08:30, 18.18s/it]"
     ]
    },
    {
     "name": "stdout",
     "output_type": "stream",
     "text": [
      "https://reviews.webmd.com/drugs/drugreview-3783-diltiazem-12hr-er\n"
     ]
    },
    {
     "name": "stderr",
     "output_type": "stream",
     "text": [
      "100%|██████████| 10/10 [00:25<00:00,  2.59s/it]\n",
      " 49%|████▉     | 411/834 [1:12:08<2:33:47, 21.81s/it]"
     ]
    },
    {
     "name": "stdout",
     "output_type": "stream",
     "text": [
      "https://reviews.webmd.com/drugs/drugreview-3783-diltiazem-24hr-er\n"
     ]
    },
    {
     "name": "stderr",
     "output_type": "stream",
     "text": [
      "100%|██████████| 10/10 [00:25<00:00,  2.55s/it]\n",
      " 49%|████▉     | 412/834 [1:12:38<2:49:04, 24.04s/it]"
     ]
    },
    {
     "name": "stdout",
     "output_type": "stream",
     "text": [
      "https://reviews.webmd.com/drugs/drugreview-3783-diltiazem-24hr-er-cd\n"
     ]
    },
    {
     "name": "stderr",
     "output_type": "stream",
     "text": [
      "100%|██████████| 10/10 [00:26<00:00,  2.68s/it]\n",
      " 50%|████▉     | 413/834 [1:13:08<3:02:27, 26.00s/it]"
     ]
    },
    {
     "name": "stdout",
     "output_type": "stream",
     "text": [
      "https://reviews.webmd.com/drugs/drugreview-3783-diltiazem-24hr-er-la\n"
     ]
    },
    {
     "name": "stderr",
     "output_type": "stream",
     "text": [
      "100%|██████████| 10/10 [00:29<00:00,  2.92s/it]\n",
      " 50%|████▉     | 414/834 [1:13:42<3:17:29, 28.21s/it]"
     ]
    },
    {
     "name": "stdout",
     "output_type": "stream",
     "text": [
      "https://reviews.webmd.com/drugs/drugreview-3783-diltiazem-24hr-er-xr\n"
     ]
    },
    {
     "name": "stderr",
     "output_type": "stream",
     "text": [
      "100%|██████████| 10/10 [00:26<00:00,  2.68s/it]\n",
      " 50%|████▉     | 415/834 [1:14:13<3:24:22, 29.27s/it]"
     ]
    },
    {
     "name": "stdout",
     "output_type": "stream",
     "text": [
      "https://reviews.webmd.com/drugs/drugreview-3783-diltiazem-hcl\n"
     ]
    },
    {
     "name": "stderr",
     "output_type": "stream",
     "text": [
      "100%|██████████| 10/10 [00:25<00:00,  2.55s/it]\n",
      " 50%|████▉     | 416/834 [1:14:43<3:23:58, 29.28s/it]"
     ]
    },
    {
     "name": "stdout",
     "output_type": "stream",
     "text": [
      "https://reviews.webmd.com/drugs/drugreview-3917-glyburide\n"
     ]
    },
    {
     "name": "stderr",
     "output_type": "stream",
     "text": [
      "100%|██████████| 6/6 [00:14<00:00,  2.38s/it]\n",
      " 50%|█████     | 417/834 [1:15:01<3:00:01, 25.90s/it]"
     ]
    },
    {
     "name": "stdout",
     "output_type": "stream",
     "text": [
      "https://reviews.webmd.com/drugs/drugreview-3924-cardizem-sr-capsule-12-hr-capsule-er-hr\n"
     ]
    },
    {
     "name": "stderr",
     "output_type": "stream",
     "text": [
      "100%|██████████| 1/1 [00:02<00:00,  2.05s/it]\n",
      " 50%|█████     | 418/834 [1:15:06<2:17:48, 19.88s/it]"
     ]
    },
    {
     "name": "stdout",
     "output_type": "stream",
     "text": [
      "https://reviews.webmd.com/drugs/drugreview-3926-diltiazem-hcl-cr-capsule-12-hr-capsule-er-hr\n"
     ]
    },
    {
     "name": "stderr",
     "output_type": "stream",
     "text": [
      " 50%|█████     | 419/834 [1:15:10<1:44:04, 15.05s/it]"
     ]
    },
    {
     "name": "stdout",
     "output_type": "stream",
     "text": [
      "https://reviews.webmd.com/drugs/drugreview-3926-diltiazem-hcl-cr-capsule-er\n"
     ]
    },
    {
     "name": "stderr",
     "output_type": "stream",
     "text": [
      " 50%|█████     | 421/834 [1:15:23<1:15:25, 10.96s/it]"
     ]
    },
    {
     "name": "stdout",
     "output_type": "stream",
     "text": [
      "skipping https://reviews.webmd.com/drugs/drugreview-3948-tolbutamide-tablet: page not found\n",
      "https://reviews.webmd.com/drugs/drugreview-3951-chlorthalidone\n"
     ]
    },
    {
     "name": "stderr",
     "output_type": "stream",
     "text": [
      "100%|██████████| 5/5 [00:12<00:00,  2.57s/it]\n",
      " 51%|█████     | 422/834 [1:15:41<1:28:51, 12.94s/it]"
     ]
    },
    {
     "name": "stdout",
     "output_type": "stream",
     "text": [
      "https://reviews.webmd.com/drugs/drugreview-3971-accupril\n"
     ]
    },
    {
     "name": "stderr",
     "output_type": "stream",
     "text": [
      "100%|██████████| 3/3 [00:07<00:00,  2.42s/it]\n",
      " 51%|█████     | 424/834 [1:15:54<1:04:23,  9.42s/it]"
     ]
    },
    {
     "name": "stdout",
     "output_type": "stream",
     "text": [
      "skipping https://reviews.webmd.com/drugs/drugreview-4030-moexipril-hydrochlorothiazide-tablet: page not found\n",
      "https://reviews.webmd.com/drugs/drugreview-4365-acebutolol-hcl\n"
     ]
    },
    {
     "name": "stderr",
     "output_type": "stream",
     "text": [
      "100%|██████████| 1/1 [00:03<00:00,  3.29s/it]\n",
      " 51%|█████     | 426/834 [1:16:03<45:34,  6.70s/it]  "
     ]
    },
    {
     "name": "stdout",
     "output_type": "stream",
     "text": [
      "skipping https://reviews.webmd.com/drugs/drugreview-4477-uniretic-tablet: page not found\n"
     ]
    },
    {
     "name": "stderr",
     "output_type": "stream",
     "text": [
      " 51%|█████     | 427/834 [1:16:06<36:10,  5.33s/it]"
     ]
    },
    {
     "name": "stdout",
     "output_type": "stream",
     "text": [
      "skipping https://reviews.webmd.com/drugs/drugreview-4479-esimil-tablet: page not found\n",
      "https://reviews.webmd.com/drugs/drugreview-4682-benazepril-hcl\n"
     ]
    },
    {
     "name": "stderr",
     "output_type": "stream",
     "text": [
      "100%|██████████| 6/6 [00:14<00:00,  2.38s/it]\n",
      " 51%|█████▏    | 428/834 [1:16:24<1:01:51,  9.14s/it]"
     ]
    },
    {
     "name": "stdout",
     "output_type": "stream",
     "text": [
      "https://reviews.webmd.com/drugs/drugreview-4760-diltia-xt-capsule-er\n"
     ]
    },
    {
     "name": "stderr",
     "output_type": "stream",
     "text": [
      " 51%|█████▏    | 429/834 [1:16:27<50:16,  7.45s/it]  "
     ]
    },
    {
     "name": "stdout",
     "output_type": "stream",
     "text": [
      "https://reviews.webmd.com/drugs/drugreview-4826-capoten-tablet\n"
     ]
    },
    {
     "name": "stderr",
     "output_type": "stream",
     "text": [
      "100%|██████████| 1/1 [00:02<00:00,  2.96s/it]\n",
      " 52%|█████▏    | 430/834 [1:16:34<48:36,  7.22s/it]"
     ]
    },
    {
     "name": "stdout",
     "output_type": "stream",
     "text": [
      "https://reviews.webmd.com/drugs/drugreview-4889-lopressor-hct-tablet\n"
     ]
    },
    {
     "name": "stderr",
     "output_type": "stream",
     "text": [
      "100%|██████████| 1/1 [00:02<00:00,  2.17s/it]\n",
      " 52%|█████▏    | 431/834 [1:16:40<45:46,  6.81s/it]"
     ]
    },
    {
     "name": "stdout",
     "output_type": "stream",
     "text": [
      "https://reviews.webmd.com/drugs/drugreview-494-inderal-la\n"
     ]
    },
    {
     "name": "stderr",
     "output_type": "stream",
     "text": [
      "100%|██████████| 3/3 [00:08<00:00,  2.78s/it]\n",
      " 52%|█████▏    | 432/834 [1:16:53<58:11,  8.69s/it]"
     ]
    },
    {
     "name": "stdout",
     "output_type": "stream",
     "text": [
      "https://reviews.webmd.com/drugs/drugreview-5029-bumex-tablet\n"
     ]
    },
    {
     "name": "stderr",
     "output_type": "stream",
     "text": [
      "100%|██████████| 1/1 [00:02<00:00,  2.33s/it]\n",
      " 52%|█████▏    | 433/834 [1:17:01<56:18,  8.42s/it]"
     ]
    },
    {
     "name": "stdout",
     "output_type": "stream",
     "text": [
      "https://reviews.webmd.com/drugs/drugreview-518-calan-sr\n"
     ]
    },
    {
     "name": "stderr",
     "output_type": "stream",
     "text": [
      "100%|██████████| 1/1 [00:02<00:00,  2.01s/it]\n",
      " 52%|█████▏    | 434/834 [1:17:06<50:55,  7.64s/it]"
     ]
    },
    {
     "name": "stdout",
     "output_type": "stream",
     "text": [
      "https://reviews.webmd.com/drugs/drugreview-520-isoptin-sr-tablet-er\n"
     ]
    },
    {
     "name": "stderr",
     "output_type": "stream",
     "text": [
      "100%|██████████| 1/1 [00:01<00:00,  1.54s/it]\n",
      " 52%|█████▏    | 435/834 [1:17:11<45:38,  6.86s/it]"
     ]
    },
    {
     "name": "stdout",
     "output_type": "stream",
     "text": [
      "https://reviews.webmd.com/drugs/drugreview-5205-glyburide-micronized\n"
     ]
    },
    {
     "name": "stderr",
     "output_type": "stream",
     "text": [
      "100%|██████████| 1/1 [00:02<00:00,  2.77s/it]\n",
      " 52%|█████▏    | 436/834 [1:17:18<45:33,  6.87s/it]"
     ]
    },
    {
     "name": "stdout",
     "output_type": "stream",
     "text": [
      "https://reviews.webmd.com/drugs/drugreview-5207-acarbose\n"
     ]
    },
    {
     "name": "stderr",
     "output_type": "stream",
     "text": [
      "100%|██████████| 2/2 [00:04<00:00,  2.15s/it]\n",
      " 52%|█████▏    | 437/834 [1:17:26<46:46,  7.07s/it]"
     ]
    },
    {
     "name": "stdout",
     "output_type": "stream",
     "text": [
      "https://reviews.webmd.com/drugs/drugreview-5218-humulin-r-vial\n"
     ]
    },
    {
     "name": "stderr",
     "output_type": "stream",
     "text": [
      "100%|██████████| 1/1 [00:01<00:00,  1.59s/it]\n",
      " 53%|█████▎    | 438/834 [1:17:30<41:16,  6.25s/it]"
     ]
    },
    {
     "name": "stdout",
     "output_type": "stream",
     "text": [
      "https://reviews.webmd.com/drugs/drugreview-5233-insulin-regular-human-solution\n"
     ]
    },
    {
     "name": "stderr",
     "output_type": "stream",
     "text": [
      "100%|██████████| 1/1 [00:01<00:00,  1.52s/it]\n",
      " 53%|█████▎    | 439/834 [1:17:35<37:51,  5.75s/it]"
     ]
    },
    {
     "name": "stdout",
     "output_type": "stream",
     "text": [
      "https://reviews.webmd.com/drugs/drugreview-5235-glynase\n"
     ]
    },
    {
     "name": "stderr",
     "output_type": "stream",
     "text": [
      "100%|██████████| 1/1 [00:01<00:00,  1.42s/it]\n",
      " 53%|█████▎    | 440/834 [1:17:39<34:59,  5.33s/it]"
     ]
    },
    {
     "name": "stdout",
     "output_type": "stream",
     "text": [
      "https://reviews.webmd.com/drugs/drugreview-5250-precose\n"
     ]
    },
    {
     "name": "stderr",
     "output_type": "stream",
     "text": [
      "100%|██████████| 1/1 [00:01<00:00,  1.58s/it]\n",
      " 53%|█████▎    | 441/834 [1:17:44<34:27,  5.26s/it]"
     ]
    },
    {
     "name": "stdout",
     "output_type": "stream",
     "text": [
      "https://reviews.webmd.com/drugs/drugreview-53435-velosulin-r-solution\n"
     ]
    },
    {
     "name": "stderr",
     "output_type": "stream",
     "text": [
      " 53%|█████▎    | 442/834 [1:17:47<29:21,  4.49s/it]"
     ]
    },
    {
     "name": "stdout",
     "output_type": "stream",
     "text": [
      "https://reviews.webmd.com/drugs/drugreview-53436-insulin-r-purified-pork-solution\n"
     ]
    },
    {
     "name": "stderr",
     "output_type": "stream",
     "text": [
      " 53%|█████▎    | 443/834 [1:17:50<27:06,  4.16s/it]"
     ]
    },
    {
     "name": "stdout",
     "output_type": "stream",
     "text": [
      "https://reviews.webmd.com/drugs/drugreview-53437-purified-pork-insulin-solution\n"
     ]
    },
    {
     "name": "stderr",
     "output_type": "stream",
     "text": [
      " 53%|█████▎    | 444/834 [1:17:54<25:22,  3.90s/it]"
     ]
    },
    {
     "name": "stdout",
     "output_type": "stream",
     "text": [
      "https://reviews.webmd.com/drugs/drugreview-53438-insulin-regular-purified-pork-solution\n"
     ]
    },
    {
     "name": "stderr",
     "output_type": "stream",
     "text": [
      " 53%|█████▎    | 445/834 [1:17:56<22:50,  3.52s/it]"
     ]
    },
    {
     "name": "stdout",
     "output_type": "stream",
     "text": [
      "https://reviews.webmd.com/drugs/drugreview-53439-iletin-ii-regularpork-solution\n"
     ]
    },
    {
     "name": "stderr",
     "output_type": "stream",
     "text": [
      " 53%|█████▎    | 446/834 [1:17:59<21:55,  3.39s/it]"
     ]
    },
    {
     "name": "stdout",
     "output_type": "stream",
     "text": [
      "https://reviews.webmd.com/drugs/drugreview-53440-insulatard-n-suspension\n"
     ]
    },
    {
     "name": "stderr",
     "output_type": "stream",
     "text": [
      " 54%|█████▎    | 447/834 [1:18:03<21:34,  3.34s/it]"
     ]
    },
    {
     "name": "stdout",
     "output_type": "stream",
     "text": [
      "https://reviews.webmd.com/drugs/drugreview-53441-insulin-n-purified-pork-suspension\n"
     ]
    },
    {
     "name": "stderr",
     "output_type": "stream",
     "text": [
      " 54%|█████▎    | 448/834 [1:18:06<20:55,  3.25s/it]"
     ]
    },
    {
     "name": "stdout",
     "output_type": "stream",
     "text": [
      "https://reviews.webmd.com/drugs/drugreview-53442-insulin-nph-purified-pork-suspension\n"
     ]
    },
    {
     "name": "stderr",
     "output_type": "stream",
     "text": [
      " 54%|█████▍    | 449/834 [1:18:10<22:41,  3.54s/it]"
     ]
    },
    {
     "name": "stdout",
     "output_type": "stream",
     "text": [
      "https://reviews.webmd.com/drugs/drugreview-53443-iletin-ii-regularpork-suspension\n"
     ]
    },
    {
     "name": "stderr",
     "output_type": "stream",
     "text": [
      " 54%|█████▍    | 450/834 [1:18:14<23:08,  3.62s/it]"
     ]
    },
    {
     "name": "stdout",
     "output_type": "stream",
     "text": [
      "https://reviews.webmd.com/drugs/drugreview-53444-insulin-l-pork-purified-suspension\n"
     ]
    },
    {
     "name": "stderr",
     "output_type": "stream",
     "text": [
      " 54%|█████▍    | 451/834 [1:18:17<22:30,  3.52s/it]"
     ]
    },
    {
     "name": "stdout",
     "output_type": "stream",
     "text": [
      "https://reviews.webmd.com/drugs/drugreview-53445-insulin-r-pork-purified-suspension\n"
     ]
    },
    {
     "name": "stderr",
     "output_type": "stream",
     "text": [
      " 54%|█████▍    | 452/834 [1:18:21<24:30,  3.85s/it]"
     ]
    },
    {
     "name": "stdout",
     "output_type": "stream",
     "text": [
      "https://reviews.webmd.com/drugs/drugreview-53446-iletin-ii-nphpork-suspension\n"
     ]
    },
    {
     "name": "stderr",
     "output_type": "stream",
     "text": [
      " 54%|█████▍    | 454/834 [1:18:27<20:10,  3.19s/it]"
     ]
    },
    {
     "name": "stdout",
     "output_type": "stream",
     "text": [
      "skipping https://reviews.webmd.com/drugs/drugreview-53447-insulin-l-purified-pork-suspension: page not found\n"
     ]
    },
    {
     "name": "stderr",
     "output_type": "stream",
     "text": [
      " 55%|█████▍    | 455/834 [1:18:30<19:37,  3.11s/it]"
     ]
    },
    {
     "name": "stdout",
     "output_type": "stream",
     "text": [
      "skipping https://reviews.webmd.com/drugs/drugreview-53448-insulin-lente-purified-pork-suspension: page not found\n"
     ]
    },
    {
     "name": "stderr",
     "output_type": "stream",
     "text": [
      " 55%|█████▍    | 456/834 [1:18:32<18:15,  2.90s/it]"
     ]
    },
    {
     "name": "stdout",
     "output_type": "stream",
     "text": [
      "skipping https://reviews.webmd.com/drugs/drugreview-53449-velosulin-human-r-solution: page not found\n"
     ]
    },
    {
     "name": "stderr",
     "output_type": "stream",
     "text": [
      " 55%|█████▍    | 457/834 [1:18:34<16:49,  2.68s/it]"
     ]
    },
    {
     "name": "stdout",
     "output_type": "stream",
     "text": [
      "skipping https://reviews.webmd.com/drugs/drugreview-53450-velosulin-human-br-solution: page not found\n"
     ]
    },
    {
     "name": "stderr",
     "output_type": "stream",
     "text": [
      " 55%|█████▍    | 458/834 [1:18:36<15:43,  2.51s/it]"
     ]
    },
    {
     "name": "stdout",
     "output_type": "stream",
     "text": [
      "skipping https://reviews.webmd.com/drugs/drugreview-53451-velosulin-human-solution: page not found\n"
     ]
    },
    {
     "name": "stderr",
     "output_type": "stream",
     "text": [
      " 55%|█████▌    | 459/834 [1:18:39<15:01,  2.41s/it]"
     ]
    },
    {
     "name": "stdout",
     "output_type": "stream",
     "text": [
      "skipping https://reviews.webmd.com/drugs/drugreview-53452-humulin-br-solution: page not found\n"
     ]
    },
    {
     "name": "stderr",
     "output_type": "stream",
     "text": [
      " 55%|█████▌    | 460/834 [1:18:41<14:34,  2.34s/it]"
     ]
    },
    {
     "name": "stdout",
     "output_type": "stream",
     "text": [
      "skipping https://reviews.webmd.com/drugs/drugreview-53453-glucamide-tablet: page not found\n"
     ]
    },
    {
     "name": "stderr",
     "output_type": "stream",
     "text": [
      " 55%|█████▌    | 461/834 [1:18:43<14:19,  2.30s/it]"
     ]
    },
    {
     "name": "stdout",
     "output_type": "stream",
     "text": [
      "skipping https://reviews.webmd.com/drugs/drugreview-53454-dibatrol-tablet: page not found\n"
     ]
    },
    {
     "name": "stderr",
     "output_type": "stream",
     "text": [
      " 55%|█████▌    | 462/834 [1:18:45<14:28,  2.33s/it]"
     ]
    },
    {
     "name": "stdout",
     "output_type": "stream",
     "text": [
      "skipping https://reviews.webmd.com/drugs/drugreview-53455-chlorabetic-tablet: page not found\n"
     ]
    },
    {
     "name": "stderr",
     "output_type": "stream",
     "text": [
      " 56%|█████▌    | 463/834 [1:18:48<14:05,  2.28s/it]"
     ]
    },
    {
     "name": "stdout",
     "output_type": "stream",
     "text": [
      "skipping https://reviews.webmd.com/drugs/drugreview-53456-ronase-tablet: page not found\n"
     ]
    },
    {
     "name": "stderr",
     "output_type": "stream",
     "text": [
      " 56%|█████▌    | 464/834 [1:18:49<12:47,  2.07s/it]"
     ]
    },
    {
     "name": "stdout",
     "output_type": "stream",
     "text": [
      "skipping https://reviews.webmd.com/drugs/drugreview-53457-tolamide-tablet: page not found\n"
     ]
    },
    {
     "name": "stderr",
     "output_type": "stream",
     "text": [
      " 56%|█████▌    | 465/834 [1:18:51<12:18,  2.00s/it]"
     ]
    },
    {
     "name": "stdout",
     "output_type": "stream",
     "text": [
      "skipping https://reviews.webmd.com/drugs/drugreview-53458-sk-tolbutamide-tablet: page not found\n"
     ]
    },
    {
     "name": "stderr",
     "output_type": "stream",
     "text": [
      " 56%|█████▌    | 466/834 [1:18:53<11:36,  1.89s/it]"
     ]
    },
    {
     "name": "stdout",
     "output_type": "stream",
     "text": [
      "skipping https://reviews.webmd.com/drugs/drugreview-53459-icn-tolam-tablet: page not found\n"
     ]
    },
    {
     "name": "stderr",
     "output_type": "stream",
     "text": [
      " 56%|█████▌    | 467/834 [1:18:55<12:40,  2.07s/it]"
     ]
    },
    {
     "name": "stdout",
     "output_type": "stream",
     "text": [
      "skipping https://reviews.webmd.com/drugs/drugreview-53460-oribetic-tablet: page not found\n",
      "https://reviews.webmd.com/drugs/drugreview-53558-procard-tablet\n"
     ]
    },
    {
     "name": "stderr",
     "output_type": "stream",
     "text": [
      "100%|██████████| 1/1 [00:01<00:00,  1.73s/it]\n",
      " 56%|█████▌    | 468/834 [1:19:00<17:06,  2.80s/it]"
     ]
    },
    {
     "name": "stdout",
     "output_type": "stream",
     "text": [
      "https://reviews.webmd.com/drugs/drugreview-53559-lorol-tablet\n"
     ]
    },
    {
     "name": "stderr",
     "output_type": "stream",
     "text": [
      " 56%|█████▌    | 469/834 [1:19:04<19:30,  3.21s/it]"
     ]
    },
    {
     "name": "stdout",
     "output_type": "stream",
     "text": [
      "https://reviews.webmd.com/drugs/drugreview-53560-tenormin-calendar-pak-tablet\n"
     ]
    },
    {
     "name": "stderr",
     "output_type": "stream",
     "text": [
      "100%|██████████| 1/1 [00:01<00:00,  1.77s/it]\n",
      " 56%|█████▋    | 470/834 [1:19:10<25:09,  4.15s/it]"
     ]
    },
    {
     "name": "stdout",
     "output_type": "stream",
     "text": [
      "https://reviews.webmd.com/drugs/drugreview-53561-isoptin-s-r-tablet-er\n"
     ]
    },
    {
     "name": "stderr",
     "output_type": "stream",
     "text": [
      " 56%|█████▋    | 471/834 [1:19:13<23:18,  3.85s/it]"
     ]
    },
    {
     "name": "stdout",
     "output_type": "stream",
     "text": [
      "https://reviews.webmd.com/drugs/drugreview-53587-catapres-tts-2-patch-weekly\n"
     ]
    },
    {
     "name": "stderr",
     "output_type": "stream",
     "text": [
      " 57%|█████▋    | 472/834 [1:19:20<28:55,  4.79s/it]"
     ]
    },
    {
     "name": "stdout",
     "output_type": "stream",
     "text": [
      "https://reviews.webmd.com/drugs/drugreview-53588-catapres-tts-3-patch-weekly\n"
     ]
    },
    {
     "name": "stderr",
     "output_type": "stream",
     "text": [
      " 57%|█████▋    | 474/834 [1:19:25<21:25,  3.57s/it]"
     ]
    },
    {
     "name": "stdout",
     "output_type": "stream",
     "text": [
      "skipping https://reviews.webmd.com/drugs/drugreview-53589-aldomet-solution: page not found\n"
     ]
    },
    {
     "name": "stderr",
     "output_type": "stream",
     "text": [
      " 57%|█████▋    | 475/834 [1:19:27<18:04,  3.02s/it]"
     ]
    },
    {
     "name": "stdout",
     "output_type": "stream",
     "text": [
      "skipping https://reviews.webmd.com/drugs/drugreview-53590-aldomet-ester-hcl-injection-solution: page not found\n"
     ]
    },
    {
     "name": "stderr",
     "output_type": "stream",
     "text": [
      " 57%|█████▋    | 476/834 [1:19:29<15:32,  2.60s/it]"
     ]
    },
    {
     "name": "stdout",
     "output_type": "stream",
     "text": [
      "skipping https://reviews.webmd.com/drugs/drugreview-53591-ingadine-tablet: page not found\n"
     ]
    },
    {
     "name": "stderr",
     "output_type": "stream",
     "text": [
      " 57%|█████▋    | 477/834 [1:19:30<13:59,  2.35s/it]"
     ]
    },
    {
     "name": "stdout",
     "output_type": "stream",
     "text": [
      "skipping https://reviews.webmd.com/drugs/drugreview-53592-sandril-tablet: page not found\n"
     ]
    },
    {
     "name": "stderr",
     "output_type": "stream",
     "text": [
      " 57%|█████▋    | 478/834 [1:19:37<20:42,  3.49s/it]"
     ]
    },
    {
     "name": "stdout",
     "output_type": "stream",
     "text": [
      "skipping https://reviews.webmd.com/drugs/drugreview-53593-serpasil-tablet: page not found\n"
     ]
    },
    {
     "name": "stderr",
     "output_type": "stream",
     "text": [
      " 57%|█████▋    | 479/834 [1:19:38<17:24,  2.94s/it]"
     ]
    },
    {
     "name": "stdout",
     "output_type": "stream",
     "text": [
      "skipping https://reviews.webmd.com/drugs/drugreview-53594-serpate-tablet: page not found\n"
     ]
    },
    {
     "name": "stderr",
     "output_type": "stream",
     "text": [
      " 58%|█████▊    | 480/834 [1:19:40<15:09,  2.57s/it]"
     ]
    },
    {
     "name": "stdout",
     "output_type": "stream",
     "text": [
      "skipping https://reviews.webmd.com/drugs/drugreview-53595-serpalan-tablet: page not found\n"
     ]
    },
    {
     "name": "stderr",
     "output_type": "stream",
     "text": [
      " 58%|█████▊    | 481/834 [1:19:42<13:32,  2.30s/it]"
     ]
    },
    {
     "name": "stdout",
     "output_type": "stream",
     "text": [
      "skipping https://reviews.webmd.com/drugs/drugreview-53596-sk-reserpine-tablet: page not found\n"
     ]
    },
    {
     "name": "stderr",
     "output_type": "stream",
     "text": [
      " 58%|█████▊    | 482/834 [1:19:43<12:23,  2.11s/it]"
     ]
    },
    {
     "name": "stdout",
     "output_type": "stream",
     "text": [
      "skipping https://reviews.webmd.com/drugs/drugreview-53597-reserpoid-tablet: page not found\n"
     ]
    },
    {
     "name": "stderr",
     "output_type": "stream",
     "text": [
      " 58%|█████▊    | 483/834 [1:19:45<12:08,  2.08s/it]"
     ]
    },
    {
     "name": "stdout",
     "output_type": "stream",
     "text": [
      "skipping https://reviews.webmd.com/drugs/drugreview-53598-serpatab-tablet: page not found\n"
     ]
    },
    {
     "name": "stderr",
     "output_type": "stream",
     "text": [
      " 58%|█████▊    | 484/834 [1:19:47<11:37,  1.99s/it]"
     ]
    },
    {
     "name": "stdout",
     "output_type": "stream",
     "text": [
      "skipping https://reviews.webmd.com/drugs/drugreview-53599-resa-tablet: page not found\n"
     ]
    },
    {
     "name": "stderr",
     "output_type": "stream",
     "text": [
      " 58%|█████▊    | 485/834 [1:19:49<11:10,  1.92s/it]"
     ]
    },
    {
     "name": "stdout",
     "output_type": "stream",
     "text": [
      "skipping https://reviews.webmd.com/drugs/drugreview-53600-sertina-tablet: page not found\n"
     ]
    },
    {
     "name": "stderr",
     "output_type": "stream",
     "text": [
      " 58%|█████▊    | 486/834 [1:19:51<11:08,  1.92s/it]"
     ]
    },
    {
     "name": "stdout",
     "output_type": "stream",
     "text": [
      "skipping https://reviews.webmd.com/drugs/drugreview-53601-serpanray-tablet: page not found\n"
     ]
    },
    {
     "name": "stderr",
     "output_type": "stream",
     "text": [
      " 58%|█████▊    | 487/834 [1:19:53<11:16,  1.95s/it]"
     ]
    },
    {
     "name": "stdout",
     "output_type": "stream",
     "text": [
      "skipping https://reviews.webmd.com/drugs/drugreview-53602-zepine-tablet: page not found\n",
      "https://reviews.webmd.com/drugs/drugreview-53603-adrolazine-tablet\n"
     ]
    },
    {
     "name": "stderr",
     "output_type": "stream",
     "text": [
      " 59%|█████▊    | 488/834 [1:19:56<13:11,  2.29s/it]"
     ]
    },
    {
     "name": "stdout",
     "output_type": "stream",
     "text": [
      "https://reviews.webmd.com/drugs/drugreview-53604-apresrex-tablet\n"
     ]
    },
    {
     "name": "stderr",
     "output_type": "stream",
     "text": [
      " 59%|█████▊    | 489/834 [1:19:59<14:58,  2.61s/it]"
     ]
    },
    {
     "name": "stdout",
     "output_type": "stream",
     "text": [
      "https://reviews.webmd.com/drugs/drugreview-53605-hydralyn-tablet\n"
     ]
    },
    {
     "name": "stderr",
     "output_type": "stream",
     "text": [
      " 59%|█████▉    | 490/834 [1:20:03<17:32,  3.06s/it]"
     ]
    },
    {
     "name": "stdout",
     "output_type": "stream",
     "text": [
      "https://reviews.webmd.com/drugs/drugreview-53606-aprex-tablet\n"
     ]
    },
    {
     "name": "stderr",
     "output_type": "stream",
     "text": [
      " 59%|█████▉    | 491/834 [1:20:07<18:12,  3.18s/it]"
     ]
    },
    {
     "name": "stdout",
     "output_type": "stream",
     "text": [
      "https://reviews.webmd.com/drugs/drugreview-53607-hydralyn-tablet\n"
     ]
    },
    {
     "name": "stderr",
     "output_type": "stream",
     "text": [
      " 59%|█████▉    | 492/834 [1:20:10<18:57,  3.33s/it]"
     ]
    },
    {
     "name": "stdout",
     "output_type": "stream",
     "text": [
      "https://reviews.webmd.com/drugs/drugreview-53608-aprex-tablet\n"
     ]
    },
    {
     "name": "stderr",
     "output_type": "stream",
     "text": [
      " 59%|█████▉    | 493/834 [1:20:14<18:49,  3.31s/it]"
     ]
    },
    {
     "name": "stdout",
     "output_type": "stream",
     "text": [
      "https://reviews.webmd.com/drugs/drugreview-53609-minodyl-tablet\n"
     ]
    },
    {
     "name": "stderr",
     "output_type": "stream",
     "text": [
      " 59%|█████▉    | 495/834 [1:20:19<16:47,  2.97s/it]"
     ]
    },
    {
     "name": "stdout",
     "output_type": "stream",
     "text": [
      "skipping https://reviews.webmd.com/drugs/drugreview-53672-hctz-reserpine-hydralazine-tablet: page not found\n"
     ]
    },
    {
     "name": "stderr",
     "output_type": "stream",
     "text": [
      " 59%|█████▉    | 496/834 [1:20:21<15:34,  2.77s/it]"
     ]
    },
    {
     "name": "stdout",
     "output_type": "stream",
     "text": [
      "skipping https://reviews.webmd.com/drugs/drugreview-53673-unipres-tablet: page not found\n"
     ]
    },
    {
     "name": "stderr",
     "output_type": "stream",
     "text": [
      " 60%|█████▉    | 497/834 [1:20:24<14:49,  2.64s/it]"
     ]
    },
    {
     "name": "stdout",
     "output_type": "stream",
     "text": [
      "skipping https://reviews.webmd.com/drugs/drugreview-53674-sae-tablet: page not found\n"
     ]
    },
    {
     "name": "stderr",
     "output_type": "stream",
     "text": [
      " 60%|█████▉    | 498/834 [1:20:33<25:49,  4.61s/it]"
     ]
    },
    {
     "name": "stdout",
     "output_type": "stream",
     "text": [
      "skipping https://reviews.webmd.com/drugs/drugreview-53675-serpex-tablet: page not found\n"
     ]
    },
    {
     "name": "stderr",
     "output_type": "stream",
     "text": [
      " 60%|█████▉    | 499/834 [1:20:35<20:46,  3.72s/it]"
     ]
    },
    {
     "name": "stdout",
     "output_type": "stream",
     "text": [
      "skipping https://reviews.webmd.com/drugs/drugreview-53676-seragen-tablet: page not found\n"
     ]
    },
    {
     "name": "stderr",
     "output_type": "stream",
     "text": [
      " 60%|█████▉    | 500/834 [1:20:37<17:41,  3.18s/it]"
     ]
    },
    {
     "name": "stdout",
     "output_type": "stream",
     "text": [
      "skipping https://reviews.webmd.com/drugs/drugreview-53677-hydroserpazine-tablet: page not found\n"
     ]
    },
    {
     "name": "stderr",
     "output_type": "stream",
     "text": [
      " 60%|██████    | 501/834 [1:20:38<15:10,  2.74s/it]"
     ]
    },
    {
     "name": "stdout",
     "output_type": "stream",
     "text": [
      "skipping https://reviews.webmd.com/drugs/drugreview-53678-cherapas-tablet: page not found\n"
     ]
    },
    {
     "name": "stderr",
     "output_type": "stream",
     "text": [
      " 60%|██████    | 502/834 [1:20:40<13:30,  2.44s/it]"
     ]
    },
    {
     "name": "stdout",
     "output_type": "stream",
     "text": [
      "skipping https://reviews.webmd.com/drugs/drugreview-53679-panpres-tablet: page not found\n"
     ]
    },
    {
     "name": "stderr",
     "output_type": "stream",
     "text": [
      " 60%|██████    | 503/834 [1:20:42<12:10,  2.21s/it]"
     ]
    },
    {
     "name": "stdout",
     "output_type": "stream",
     "text": [
      "skipping https://reviews.webmd.com/drugs/drugreview-53680-seralazide-tablet: page not found\n"
     ]
    },
    {
     "name": "stderr",
     "output_type": "stream",
     "text": [
      " 60%|██████    | 504/834 [1:20:43<11:25,  2.08s/it]"
     ]
    },
    {
     "name": "stdout",
     "output_type": "stream",
     "text": [
      "skipping https://reviews.webmd.com/drugs/drugreview-53681-serapine-tablet: page not found\n"
     ]
    },
    {
     "name": "stderr",
     "output_type": "stream",
     "text": [
      " 61%|██████    | 505/834 [1:20:45<11:09,  2.03s/it]"
     ]
    },
    {
     "name": "stdout",
     "output_type": "stream",
     "text": [
      "skipping https://reviews.webmd.com/drugs/drugreview-53682-marpres-tablet: page not found\n"
     ]
    },
    {
     "name": "stderr",
     "output_type": "stream",
     "text": [
      " 61%|██████    | 506/834 [1:20:47<10:37,  1.94s/it]"
     ]
    },
    {
     "name": "stdout",
     "output_type": "stream",
     "text": [
      "skipping https://reviews.webmd.com/drugs/drugreview-53683-serathide-tablet: page not found\n"
     ]
    },
    {
     "name": "stderr",
     "output_type": "stream",
     "text": [
      " 61%|██████    | 507/834 [1:20:49<10:14,  1.88s/it]"
     ]
    },
    {
     "name": "stdout",
     "output_type": "stream",
     "text": [
      "skipping https://reviews.webmd.com/drugs/drugreview-53684-d-pres-tablet: page not found\n"
     ]
    },
    {
     "name": "stderr",
     "output_type": "stream",
     "text": [
      " 61%|██████    | 508/834 [1:20:51<10:14,  1.89s/it]"
     ]
    },
    {
     "name": "stdout",
     "output_type": "stream",
     "text": [
      "skipping https://reviews.webmd.com/drugs/drugreview-53685-hrh-tablet: page not found\n"
     ]
    },
    {
     "name": "stderr",
     "output_type": "stream",
     "text": [
      " 61%|██████    | 509/834 [1:20:53<10:04,  1.86s/it]"
     ]
    },
    {
     "name": "stdout",
     "output_type": "stream",
     "text": [
      "skipping https://reviews.webmd.com/drugs/drugreview-53686-serge-tablet: page not found\n"
     ]
    },
    {
     "name": "stderr",
     "output_type": "stream",
     "text": [
      " 61%|██████    | 510/834 [1:20:55<11:01,  2.04s/it]"
     ]
    },
    {
     "name": "stdout",
     "output_type": "stream",
     "text": [
      "skipping https://reviews.webmd.com/drugs/drugreview-53687-hydroap-es-tablet: page not found\n"
     ]
    },
    {
     "name": "stderr",
     "output_type": "stream",
     "text": [
      " 61%|██████▏   | 511/834 [1:20:57<10:39,  1.98s/it]"
     ]
    },
    {
     "name": "stdout",
     "output_type": "stream",
     "text": [
      "skipping https://reviews.webmd.com/drugs/drugreview-53688-hydroserpine-plus-tablet: page not found\n",
      "https://reviews.webmd.com/drugs/drugreview-53689-atenolol-w-chlorthalidone-tablet\n"
     ]
    },
    {
     "name": "stderr",
     "output_type": "stream",
     "text": [
      " 61%|██████▏   | 512/834 [1:21:01<14:17,  2.66s/it]"
     ]
    },
    {
     "name": "stdout",
     "output_type": "stream",
     "text": [
      "https://reviews.webmd.com/drugs/drugreview-53690-propranolol-hcl-w-hctz-tablet\n"
     ]
    },
    {
     "name": "stderr",
     "output_type": "stream",
     "text": [
      " 62%|██████▏   | 513/834 [1:21:06<17:30,  3.27s/it]"
     ]
    },
    {
     "name": "stdout",
     "output_type": "stream",
     "text": [
      "https://reviews.webmd.com/drugs/drugreview-53691-inderide-40-25-tablet\n"
     ]
    },
    {
     "name": "stderr",
     "output_type": "stream",
     "text": [
      " 62%|██████▏   | 514/834 [1:21:09<17:42,  3.32s/it]"
     ]
    },
    {
     "name": "stdout",
     "output_type": "stream",
     "text": [
      "https://reviews.webmd.com/drugs/drugreview-53692-inderide-80-25-tablet\n"
     ]
    },
    {
     "name": "stderr",
     "output_type": "stream",
     "text": [
      " 62%|██████▏   | 516/834 [1:21:15<16:10,  3.05s/it]"
     ]
    },
    {
     "name": "stdout",
     "output_type": "stream",
     "text": [
      "skipping https://reviews.webmd.com/drugs/drugreview-53693-clonidine-hcl-w-chlorthalidone-tablet: page not found\n"
     ]
    },
    {
     "name": "stderr",
     "output_type": "stream",
     "text": [
      " 62%|██████▏   | 517/834 [1:21:17<15:00,  2.84s/it]"
     ]
    },
    {
     "name": "stdout",
     "output_type": "stream",
     "text": [
      "skipping https://reviews.webmd.com/drugs/drugreview-53694-clonidine-w-chlorthalidone-tablet: page not found\n"
     ]
    },
    {
     "name": "stderr",
     "output_type": "stream",
     "text": [
      " 62%|██████▏   | 518/834 [1:21:19<12:54,  2.45s/it]"
     ]
    },
    {
     "name": "stdout",
     "output_type": "stream",
     "text": [
      "skipping https://reviews.webmd.com/drugs/drugreview-53695-combipres-tablet: page not found\n"
     ]
    },
    {
     "name": "stderr",
     "output_type": "stream",
     "text": [
      " 62%|██████▏   | 519/834 [1:21:21<11:38,  2.22s/it]"
     ]
    },
    {
     "name": "stdout",
     "output_type": "stream",
     "text": [
      "skipping https://reviews.webmd.com/drugs/drugreview-53696-methyldopa-w-chlorothiazide-tablet: page not found\n"
     ]
    },
    {
     "name": "stderr",
     "output_type": "stream",
     "text": [
      " 62%|██████▏   | 520/834 [1:21:22<10:57,  2.09s/it]"
     ]
    },
    {
     "name": "stdout",
     "output_type": "stream",
     "text": [
      "skipping https://reviews.webmd.com/drugs/drugreview-53697-minizide-2-capsule: page not found\n"
     ]
    },
    {
     "name": "stderr",
     "output_type": "stream",
     "text": [
      " 62%|██████▏   | 521/834 [1:21:24<10:19,  1.98s/it]"
     ]
    },
    {
     "name": "stdout",
     "output_type": "stream",
     "text": [
      "skipping https://reviews.webmd.com/drugs/drugreview-53698-hydralazine-w-hctz-capsule: page not found\n"
     ]
    },
    {
     "name": "stderr",
     "output_type": "stream",
     "text": [
      " 63%|██████▎   | 522/834 [1:21:27<11:13,  2.16s/it]"
     ]
    },
    {
     "name": "stdout",
     "output_type": "stream",
     "text": [
      "skipping https://reviews.webmd.com/drugs/drugreview-53699-hydrazide-capsule: page not found\n"
     ]
    },
    {
     "name": "stderr",
     "output_type": "stream",
     "text": [
      " 63%|██████▎   | 523/834 [1:21:29<11:17,  2.18s/it]"
     ]
    },
    {
     "name": "stdout",
     "output_type": "stream",
     "text": [
      "skipping https://reviews.webmd.com/drugs/drugreview-53700-hy-zide-capsule: page not found\n"
     ]
    },
    {
     "name": "stderr",
     "output_type": "stream",
     "text": [
      " 63%|██████▎   | 524/834 [1:21:31<11:24,  2.21s/it]"
     ]
    },
    {
     "name": "stdout",
     "output_type": "stream",
     "text": [
      "skipping https://reviews.webmd.com/drugs/drugreview-53701-hydra-zide-capsule: page not found\n",
      "https://reviews.webmd.com/drugs/drugreview-53705-lasimide-tablet\n"
     ]
    },
    {
     "name": "stderr",
     "output_type": "stream",
     "text": [
      "100%|██████████| 1/1 [00:02<00:00,  2.24s/it]\n",
      " 63%|██████▎   | 525/834 [1:21:38<18:39,  3.62s/it]"
     ]
    },
    {
     "name": "stdout",
     "output_type": "stream",
     "text": [
      "https://reviews.webmd.com/drugs/drugreview-53706-fumide-tablet\n"
     ]
    },
    {
     "name": "stderr",
     "output_type": "stream",
     "text": [
      " 63%|██████▎   | 526/834 [1:21:43<19:56,  3.89s/it]"
     ]
    },
    {
     "name": "stdout",
     "output_type": "stream",
     "text": [
      "https://reviews.webmd.com/drugs/drugreview-53707-delone-tablet\n"
     ]
    },
    {
     "name": "stderr",
     "output_type": "stream",
     "text": [
      " 63%|██████▎   | 527/834 [1:21:46<19:54,  3.89s/it]"
     ]
    },
    {
     "name": "stdout",
     "output_type": "stream",
     "text": [
      "https://reviews.webmd.com/drugs/drugreview-53708-lo-aqua-tablet\n"
     ]
    },
    {
     "name": "stderr",
     "output_type": "stream",
     "text": [
      " 63%|██████▎   | 528/834 [1:21:50<19:03,  3.74s/it]"
     ]
    },
    {
     "name": "stdout",
     "output_type": "stream",
     "text": [
      "https://reviews.webmd.com/drugs/drugreview-53709-furoben-tablet\n"
     ]
    },
    {
     "name": "stderr",
     "output_type": "stream",
     "text": [
      "100%|██████████| 1/1 [00:02<00:00,  2.10s/it]\n",
      " 63%|██████▎   | 529/834 [1:21:57<23:41,  4.66s/it]"
     ]
    },
    {
     "name": "stdout",
     "output_type": "stream",
     "text": [
      "https://reviews.webmd.com/drugs/drugreview-53710-detue-tablet\n"
     ]
    },
    {
     "name": "stderr",
     "output_type": "stream",
     "text": [
      " 64%|██████▎   | 530/834 [1:22:00<21:50,  4.31s/it]"
     ]
    },
    {
     "name": "stdout",
     "output_type": "stream",
     "text": [
      "https://reviews.webmd.com/drugs/drugreview-53717-altex-tablet\n"
     ]
    },
    {
     "name": "stderr",
     "output_type": "stream",
     "text": [
      " 64%|██████▎   | 531/834 [1:22:03<19:20,  3.83s/it]"
     ]
    },
    {
     "name": "stdout",
     "output_type": "stream",
     "text": [
      "https://reviews.webmd.com/drugs/drugreview-53718-spirazone-tablet\n"
     ]
    },
    {
     "name": "stderr",
     "output_type": "stream",
     "text": [
      " 64%|██████▍   | 533/834 [1:22:08<15:37,  3.11s/it]"
     ]
    },
    {
     "name": "stdout",
     "output_type": "stream",
     "text": [
      "skipping https://reviews.webmd.com/drugs/drugreview-53719-naturetin-tablet: page not found\n",
      "https://reviews.webmd.com/drugs/drugreview-53720-sk-chlorothiazide-tablet\n"
     ]
    },
    {
     "name": "stderr",
     "output_type": "stream",
     "text": [
      " 64%|██████▍   | 534/834 [1:22:11<15:14,  3.05s/it]"
     ]
    },
    {
     "name": "stdout",
     "output_type": "stream",
     "text": [
      "https://reviews.webmd.com/drugs/drugreview-53721-dithirex-tablet\n"
     ]
    },
    {
     "name": "stderr",
     "output_type": "stream",
     "text": [
      " 64%|██████▍   | 535/834 [1:22:14<14:38,  2.94s/it]"
     ]
    },
    {
     "name": "stdout",
     "output_type": "stream",
     "text": [
      "https://reviews.webmd.com/drugs/drugreview-53722-diurigen-tablet\n"
     ]
    },
    {
     "name": "stderr",
     "output_type": "stream",
     "text": [
      " 64%|██████▍   | 536/834 [1:22:17<14:31,  2.92s/it]"
     ]
    },
    {
     "name": "stdout",
     "output_type": "stream",
     "text": [
      "https://reviews.webmd.com/drugs/drugreview-53723-chlorulan-tablet\n"
     ]
    },
    {
     "name": "stderr",
     "output_type": "stream",
     "text": [
      " 64%|██████▍   | 537/834 [1:22:19<14:03,  2.84s/it]"
     ]
    },
    {
     "name": "stdout",
     "output_type": "stream",
     "text": [
      "https://reviews.webmd.com/drugs/drugreview-53724-kenuril-tablet\n"
     ]
    },
    {
     "name": "stderr",
     "output_type": "stream",
     "text": [
      " 65%|██████▍   | 538/834 [1:22:23<15:40,  3.18s/it]"
     ]
    },
    {
     "name": "stdout",
     "output_type": "stream",
     "text": [
      "https://reviews.webmd.com/drugs/drugreview-53725-kenuril-tablet\n"
     ]
    },
    {
     "name": "stderr",
     "output_type": "stream",
     "text": [
      " 65%|██████▍   | 539/834 [1:22:26<14:42,  2.99s/it]"
     ]
    },
    {
     "name": "stdout",
     "output_type": "stream",
     "text": [
      "https://reviews.webmd.com/drugs/drugreview-53726-biogroton-tablet\n"
     ]
    },
    {
     "name": "stderr",
     "output_type": "stream",
     "text": [
      " 65%|██████▍   | 540/834 [1:22:28<14:11,  2.90s/it]"
     ]
    },
    {
     "name": "stdout",
     "output_type": "stream",
     "text": [
      "https://reviews.webmd.com/drugs/drugreview-53727-hylidone-tablet\n"
     ]
    },
    {
     "name": "stderr",
     "output_type": "stream",
     "text": [
      " 65%|██████▍   | 541/834 [1:22:31<14:17,  2.93s/it]"
     ]
    },
    {
     "name": "stdout",
     "output_type": "stream",
     "text": [
      "https://reviews.webmd.com/drugs/drugreview-53728-sk-hydrochlorothiazide-tablet\n"
     ]
    },
    {
     "name": "stderr",
     "output_type": "stream",
     "text": [
      " 65%|██████▍   | 542/834 [1:22:34<13:50,  2.84s/it]"
     ]
    },
    {
     "name": "stdout",
     "output_type": "stream",
     "text": [
      "https://reviews.webmd.com/drugs/drugreview-53729-hydrorex-tablet\n"
     ]
    },
    {
     "name": "stderr",
     "output_type": "stream",
     "text": [
      " 65%|██████▌   | 543/834 [1:22:37<13:54,  2.87s/it]"
     ]
    },
    {
     "name": "stdout",
     "output_type": "stream",
     "text": [
      "https://reviews.webmd.com/drugs/drugreview-53730-icn-hythide-tablet\n"
     ]
    },
    {
     "name": "stderr",
     "output_type": "stream",
     "text": [
      " 65%|██████▌   | 544/834 [1:22:41<15:26,  3.20s/it]"
     ]
    },
    {
     "name": "stdout",
     "output_type": "stream",
     "text": [
      "https://reviews.webmd.com/drugs/drugreview-53731-hydrochlorulan-tablet\n"
     ]
    },
    {
     "name": "stderr",
     "output_type": "stream",
     "text": [
      " 65%|██████▌   | 545/834 [1:22:44<15:40,  3.25s/it]"
     ]
    },
    {
     "name": "stdout",
     "output_type": "stream",
     "text": [
      "https://reviews.webmd.com/drugs/drugreview-53732-hydoril-tablet\n"
     ]
    },
    {
     "name": "stderr",
     "output_type": "stream",
     "text": [
      " 65%|██████▌   | 546/834 [1:22:47<14:54,  3.11s/it]"
     ]
    },
    {
     "name": "stdout",
     "output_type": "stream",
     "text": [
      "https://reviews.webmd.com/drugs/drugreview-53733-hyazide-tablet\n"
     ]
    },
    {
     "name": "stderr",
     "output_type": "stream",
     "text": [
      " 66%|██████▌   | 547/834 [1:22:50<14:45,  3.09s/it]"
     ]
    },
    {
     "name": "stdout",
     "output_type": "stream",
     "text": [
      "https://reviews.webmd.com/drugs/drugreview-53734-hydro-d-tablet\n"
     ]
    },
    {
     "name": "stderr",
     "output_type": "stream",
     "text": [
      " 66%|██████▌   | 548/834 [1:22:53<15:03,  3.16s/it]"
     ]
    },
    {
     "name": "stdout",
     "output_type": "stream",
     "text": [
      "https://reviews.webmd.com/drugs/drugreview-53735-loqua-tablet\n"
     ]
    },
    {
     "name": "stderr",
     "output_type": "stream",
     "text": [
      " 66%|██████▌   | 549/834 [1:22:56<14:15,  3.00s/it]"
     ]
    },
    {
     "name": "stdout",
     "output_type": "stream",
     "text": [
      "https://reviews.webmd.com/drugs/drugreview-53736-kenazide-h-tablet\n"
     ]
    },
    {
     "name": "stderr",
     "output_type": "stream",
     "text": [
      " 66%|██████▌   | 550/834 [1:22:59<13:57,  2.95s/it]"
     ]
    },
    {
     "name": "stdout",
     "output_type": "stream",
     "text": [
      "https://reviews.webmd.com/drugs/drugreview-53737-m-zide-tablet\n"
     ]
    },
    {
     "name": "stderr",
     "output_type": "stream",
     "text": [
      " 66%|██████▌   | 551/834 [1:23:02<13:46,  2.92s/it]"
     ]
    },
    {
     "name": "stdout",
     "output_type": "stream",
     "text": [
      "https://reviews.webmd.com/drugs/drugreview-53738-hydroaca-tablet\n"
     ]
    },
    {
     "name": "stderr",
     "output_type": "stream",
     "text": [
      " 66%|██████▌   | 552/834 [1:23:04<13:27,  2.86s/it]"
     ]
    },
    {
     "name": "stdout",
     "output_type": "stream",
     "text": [
      "https://reviews.webmd.com/drugs/drugreview-53739-hyclar-tablet\n"
     ]
    },
    {
     "name": "stderr",
     "output_type": "stream",
     "text": [
      " 66%|██████▋   | 553/834 [1:23:08<14:16,  3.05s/it]"
     ]
    },
    {
     "name": "stdout",
     "output_type": "stream",
     "text": [
      "https://reviews.webmd.com/drugs/drugreview-53740-tri-zide-tablet\n"
     ]
    },
    {
     "name": "stderr",
     "output_type": "stream",
     "text": [
      " 66%|██████▋   | 554/834 [1:23:11<13:38,  2.92s/it]"
     ]
    },
    {
     "name": "stdout",
     "output_type": "stream",
     "text": [
      "https://reviews.webmd.com/drugs/drugreview-53741-hydromal-tablet\n"
     ]
    },
    {
     "name": "stderr",
     "output_type": "stream",
     "text": [
      " 67%|██████▋   | 555/834 [1:23:13<13:02,  2.81s/it]"
     ]
    },
    {
     "name": "stdout",
     "output_type": "stream",
     "text": [
      "https://reviews.webmd.com/drugs/drugreview-53742-hydro-z-tablet\n"
     ]
    },
    {
     "name": "stderr",
     "output_type": "stream",
     "text": [
      " 67%|██████▋   | 556/834 [1:23:16<13:26,  2.90s/it]"
     ]
    },
    {
     "name": "stdout",
     "output_type": "stream",
     "text": [
      "https://reviews.webmd.com/drugs/drugreview-53743-hydro-chlor-tablet\n"
     ]
    },
    {
     "name": "stderr",
     "output_type": "stream",
     "text": [
      "100%|██████████| 1/1 [00:01<00:00,  1.68s/it]\n",
      " 67%|██████▋   | 557/834 [1:23:21<15:43,  3.41s/it]"
     ]
    },
    {
     "name": "stdout",
     "output_type": "stream",
     "text": [
      "https://reviews.webmd.com/drugs/drugreview-53744-hydrozide-tablet\n"
     ]
    },
    {
     "name": "stderr",
     "output_type": "stream",
     "text": [
      " 67%|██████▋   | 558/834 [1:23:24<14:50,  3.23s/it]"
     ]
    },
    {
     "name": "stdout",
     "output_type": "stream",
     "text": [
      "https://reviews.webmd.com/drugs/drugreview-53745-tenzide-tablet\n"
     ]
    },
    {
     "name": "stderr",
     "output_type": "stream",
     "text": [
      " 67%|██████▋   | 559/834 [1:23:27<14:20,  3.13s/it]"
     ]
    },
    {
     "name": "stdout",
     "output_type": "stream",
     "text": [
      "https://reviews.webmd.com/drugs/drugreview-53746-aqua-cen-tablet\n"
     ]
    },
    {
     "name": "stderr",
     "output_type": "stream",
     "text": [
      " 67%|██████▋   | 560/834 [1:23:30<14:24,  3.15s/it]"
     ]
    },
    {
     "name": "stdout",
     "output_type": "stream",
     "text": [
      "https://reviews.webmd.com/drugs/drugreview-53747-hydro-t-tablet\n"
     ]
    },
    {
     "name": "stderr",
     "output_type": "stream",
     "text": [
      " 67%|██████▋   | 561/834 [1:23:32<13:35,  2.99s/it]"
     ]
    },
    {
     "name": "stdout",
     "output_type": "stream",
     "text": [
      "https://reviews.webmd.com/drugs/drugreview-53748-j-zide-tablet\n"
     ]
    },
    {
     "name": "stderr",
     "output_type": "stream",
     "text": [
      " 67%|██████▋   | 562/834 [1:23:35<13:16,  2.93s/it]"
     ]
    },
    {
     "name": "stdout",
     "output_type": "stream",
     "text": [
      "https://reviews.webmd.com/drugs/drugreview-53749-loqua-tablet\n"
     ]
    },
    {
     "name": "stderr",
     "output_type": "stream",
     "text": [
      " 68%|██████▊   | 563/834 [1:23:38<12:48,  2.84s/it]"
     ]
    },
    {
     "name": "stdout",
     "output_type": "stream",
     "text": [
      "https://reviews.webmd.com/drugs/drugreview-53750-diurazide-tablet\n"
     ]
    },
    {
     "name": "stderr",
     "output_type": "stream",
     "text": [
      " 68%|██████▊   | 564/834 [1:23:41<13:45,  3.06s/it]"
     ]
    },
    {
     "name": "stdout",
     "output_type": "stream",
     "text": [
      "https://reviews.webmd.com/drugs/drugreview-53751-kenazide-h-tablet\n"
     ]
    },
    {
     "name": "stderr",
     "output_type": "stream",
     "text": [
      " 68%|██████▊   | 565/834 [1:23:44<13:04,  2.92s/it]"
     ]
    },
    {
     "name": "stdout",
     "output_type": "stream",
     "text": [
      "https://reviews.webmd.com/drugs/drugreview-53752-kenazide-e-tablet\n"
     ]
    },
    {
     "name": "stderr",
     "output_type": "stream",
     "text": [
      " 68%|██████▊   | 566/834 [1:23:48<14:39,  3.28s/it]"
     ]
    },
    {
     "name": "stdout",
     "output_type": "stream",
     "text": [
      "https://reviews.webmd.com/drugs/drugreview-53753-diaqua-tablet\n"
     ]
    },
    {
     "name": "stderr",
     "output_type": "stream",
     "text": [
      " 68%|██████▊   | 567/834 [1:23:51<13:53,  3.12s/it]"
     ]
    },
    {
     "name": "stdout",
     "output_type": "stream",
     "text": [
      "https://reviews.webmd.com/drugs/drugreview-53754-aquamet-tablet\n"
     ]
    },
    {
     "name": "stderr",
     "output_type": "stream",
     "text": [
      " 68%|██████▊   | 568/834 [1:23:54<14:08,  3.19s/it]"
     ]
    },
    {
     "name": "stdout",
     "output_type": "stream",
     "text": [
      "https://reviews.webmd.com/drugs/drugreview-53755-hyclar-tablet\n"
     ]
    },
    {
     "name": "stderr",
     "output_type": "stream",
     "text": [
      " 68%|██████▊   | 569/834 [1:23:58<14:35,  3.30s/it]"
     ]
    },
    {
     "name": "stdout",
     "output_type": "stream",
     "text": [
      "https://reviews.webmd.com/drugs/drugreview-53756-hychlor-tablet\n"
     ]
    },
    {
     "name": "stderr",
     "output_type": "stream",
     "text": [
      "100%|██████████| 1/1 [00:02<00:00,  2.79s/it]\n",
      " 68%|██████▊   | 570/834 [1:24:04<19:03,  4.33s/it]"
     ]
    },
    {
     "name": "stdout",
     "output_type": "stream",
     "text": [
      "https://reviews.webmd.com/drugs/drugreview-53757-hydrozide-tablet\n"
     ]
    },
    {
     "name": "stderr",
     "output_type": "stream",
     "text": [
      " 68%|██████▊   | 571/834 [1:24:08<17:39,  4.03s/it]"
     ]
    },
    {
     "name": "stdout",
     "output_type": "stream",
     "text": [
      "https://reviews.webmd.com/drugs/drugreview-53758-aquazide-h-tablet\n"
     ]
    },
    {
     "name": "stderr",
     "output_type": "stream",
     "text": [
      "100%|██████████| 1/1 [00:01<00:00,  1.70s/it]\n",
      " 69%|██████▊   | 572/834 [1:24:13<18:57,  4.34s/it]"
     ]
    },
    {
     "name": "stdout",
     "output_type": "stream",
     "text": [
      "https://reviews.webmd.com/drugs/drugreview-53759-hydroben-tablet\n"
     ]
    },
    {
     "name": "stderr",
     "output_type": "stream",
     "text": [
      " 69%|██████▉   | 574/834 [1:24:20<16:11,  3.74s/it]"
     ]
    },
    {
     "name": "stdout",
     "output_type": "stream",
     "text": [
      "skipping https://reviews.webmd.com/drugs/drugreview-53760-sonazide-tablet: page not found\n",
      "https://reviews.webmd.com/drugs/drugreview-53761-diulo-tablet\n"
     ]
    },
    {
     "name": "stderr",
     "output_type": "stream",
     "text": [
      " 69%|██████▉   | 575/834 [1:24:23<15:17,  3.54s/it]"
     ]
    },
    {
     "name": "stdout",
     "output_type": "stream",
     "text": [
      "https://reviews.webmd.com/drugs/drugreview-53768-aquazide-tablet\n"
     ]
    },
    {
     "name": "stderr",
     "output_type": "stream",
     "text": [
      "100%|██████████| 1/1 [00:01<00:00,  1.71s/it]\n",
      " 69%|██████▉   | 576/834 [1:24:28<16:59,  3.95s/it]"
     ]
    },
    {
     "name": "stdout",
     "output_type": "stream",
     "text": [
      "https://reviews.webmd.com/drugs/drugreview-53772-amiloride-hcl-w-hctz-tablet\n"
     ]
    },
    {
     "name": "stderr",
     "output_type": "stream",
     "text": [
      " 69%|██████▉   | 577/834 [1:24:32<17:51,  4.17s/it]"
     ]
    },
    {
     "name": "stdout",
     "output_type": "stream",
     "text": [
      "https://reviews.webmd.com/drugs/drugreview-53773-spironolactone-w-hctz-tablet\n"
     ]
    },
    {
     "name": "stderr",
     "output_type": "stream",
     "text": [
      " 69%|██████▉   | 578/834 [1:24:35<16:31,  3.87s/it]"
     ]
    },
    {
     "name": "stdout",
     "output_type": "stream",
     "text": [
      "https://reviews.webmd.com/drugs/drugreview-53774-aldarex-plus-tablet\n"
     ]
    },
    {
     "name": "stderr",
     "output_type": "stream",
     "text": [
      " 69%|██████▉   | 579/834 [1:24:39<15:34,  3.66s/it]"
     ]
    },
    {
     "name": "stdout",
     "output_type": "stream",
     "text": [
      "https://reviews.webmd.com/drugs/drugreview-53775-spironazide-tablet\n"
     ]
    },
    {
     "name": "stderr",
     "output_type": "stream",
     "text": [
      "100%|██████████| 1/1 [00:01<00:00,  1.44s/it]\n",
      " 70%|██████▉   | 580/834 [1:24:43<16:14,  3.84s/it]"
     ]
    },
    {
     "name": "stdout",
     "output_type": "stream",
     "text": [
      "https://reviews.webmd.com/drugs/drugreview-53776-altexide-tablet\n"
     ]
    },
    {
     "name": "stderr",
     "output_type": "stream",
     "text": [
      " 70%|██████▉   | 581/834 [1:24:46<14:48,  3.51s/it]"
     ]
    },
    {
     "name": "stdout",
     "output_type": "stream",
     "text": [
      "https://reviews.webmd.com/drugs/drugreview-53777-spirozide-tablet\n"
     ]
    },
    {
     "name": "stderr",
     "output_type": "stream",
     "text": [
      " 70%|██████▉   | 582/834 [1:24:48<13:34,  3.23s/it]"
     ]
    },
    {
     "name": "stdout",
     "output_type": "stream",
     "text": [
      "https://reviews.webmd.com/drugs/drugreview-53778-decozide-tablet\n"
     ]
    },
    {
     "name": "stderr",
     "output_type": "stream",
     "text": [
      " 70%|██████▉   | 583/834 [1:24:51<12:55,  3.09s/it]"
     ]
    },
    {
     "name": "stdout",
     "output_type": "stream",
     "text": [
      "https://reviews.webmd.com/drugs/drugreview-53779-spirochlor-tablet\n"
     ]
    },
    {
     "name": "stderr",
     "output_type": "stream",
     "text": [
      "100%|██████████| 1/1 [00:01<00:00,  1.62s/it]\n",
      " 70%|███████   | 584/834 [1:24:56<15:33,  3.74s/it]"
     ]
    },
    {
     "name": "stdout",
     "output_type": "stream",
     "text": [
      "https://reviews.webmd.com/drugs/drugreview-53780-hydrotone-tablet\n"
     ]
    },
    {
     "name": "stderr",
     "output_type": "stream",
     "text": [
      " 70%|███████   | 585/834 [1:25:00<15:37,  3.77s/it]"
     ]
    },
    {
     "name": "stdout",
     "output_type": "stream",
     "text": [
      "https://reviews.webmd.com/drugs/drugreview-53781-triamterene-w-hctz-capsule\n"
     ]
    },
    {
     "name": "stderr",
     "output_type": "stream",
     "text": [
      " 70%|███████   | 586/834 [1:25:04<16:21,  3.96s/it]"
     ]
    },
    {
     "name": "stdout",
     "output_type": "stream",
     "text": [
      "https://reviews.webmd.com/drugs/drugreview-53782-triamtazide-capsule\n"
     ]
    },
    {
     "name": "stderr",
     "output_type": "stream",
     "text": [
      "100%|██████████| 1/1 [00:01<00:00,  1.65s/it]\n",
      " 70%|███████   | 587/834 [1:25:09<16:46,  4.07s/it]"
     ]
    },
    {
     "name": "stdout",
     "output_type": "stream",
     "text": [
      "https://reviews.webmd.com/drugs/drugreview-53783-maxzide-25-tablet\n"
     ]
    },
    {
     "name": "stderr",
     "output_type": "stream",
     "text": [
      " 71%|███████   | 588/834 [1:25:12<16:10,  3.94s/it]"
     ]
    },
    {
     "name": "stdout",
     "output_type": "stream",
     "text": [
      "https://reviews.webmd.com/drugs/drugreview-53784-trimax-tablet\n"
     ]
    },
    {
     "name": "stderr",
     "output_type": "stream",
     "text": [
      "100%|██████████| 1/1 [00:01<00:00,  1.85s/it]\n",
      " 71%|███████   | 589/834 [1:25:18<17:41,  4.33s/it]"
     ]
    },
    {
     "name": "stdout",
     "output_type": "stream",
     "text": [
      "https://reviews.webmd.com/drugs/drugreview-5574-carvedilol\n"
     ]
    },
    {
     "name": "stderr",
     "output_type": "stream",
     "text": [
      "100%|██████████| 19/19 [00:47<00:00,  2.52s/it]\n",
      " 71%|███████   | 591/834 [1:26:11<54:26, 13.44s/it]  "
     ]
    },
    {
     "name": "stdout",
     "output_type": "stream",
     "text": [
      "skipping https://reviews.webmd.com/drugs/drugreview-5588-apresazide-capsule: page not found\n",
      "https://reviews.webmd.com/drugs/drugreview-5591-zestoretic\n"
     ]
    },
    {
     "name": "stderr",
     "output_type": "stream",
     "text": [
      "100%|██████████| 3/3 [00:05<00:00,  1.92s/it]\n",
      " 71%|███████   | 593/834 [1:26:22<36:56,  9.20s/it]"
     ]
    },
    {
     "name": "stdout",
     "output_type": "stream",
     "text": [
      "skipping https://reviews.webmd.com/drugs/drugreview-5734-saluron-tablet: page not found\n",
      "https://reviews.webmd.com/drugs/drugreview-5891-amlodipine-besylate\n"
     ]
    },
    {
     "name": "stderr",
     "output_type": "stream",
     "text": [
      "100%|██████████| 47/47 [01:41<00:00,  2.15s/it]\n",
      " 71%|███████   | 594/834 [1:28:07<2:31:42, 37.93s/it]"
     ]
    },
    {
     "name": "stdout",
     "output_type": "stream",
     "text": [
      "https://reviews.webmd.com/drugs/drugreview-5942-norvasc\n"
     ]
    },
    {
     "name": "stderr",
     "output_type": "stream",
     "text": [
      "100%|██████████| 34/34 [01:06<00:00,  1.95s/it]\n",
      " 71%|███████▏  | 595/834 [1:29:17<3:08:41, 47.37s/it]"
     ]
    },
    {
     "name": "stdout",
     "output_type": "stream",
     "text": [
      "https://reviews.webmd.com/drugs/drugreview-5943-oretic-tablet\n"
     ]
    },
    {
     "name": "stderr",
     "output_type": "stream",
     "text": [
      "100%|██████████| 1/1 [00:01<00:00,  1.48s/it]\n",
      " 71%|███████▏  | 596/834 [1:29:21<2:16:27, 34.40s/it]"
     ]
    },
    {
     "name": "stdout",
     "output_type": "stream",
     "text": [
      "https://reviews.webmd.com/drugs/drugreview-5953-humulin-n-vial\n"
     ]
    },
    {
     "name": "stderr",
     "output_type": "stream",
     "text": [
      "100%|██████████| 1/1 [00:02<00:00,  2.66s/it]\n",
      " 72%|███████▏  | 597/834 [1:29:26<1:41:34, 25.72s/it]"
     ]
    },
    {
     "name": "stdout",
     "output_type": "stream",
     "text": [
      "https://reviews.webmd.com/drugs/drugreview-6010-adalat-cc-tablet-er\n"
     ]
    },
    {
     "name": "stderr",
     "output_type": "stream",
     "text": [
      "100%|██████████| 1/1 [00:01<00:00,  1.59s/it]\n",
      " 72%|███████▏  | 599/834 [1:29:33<55:07, 14.07s/it]  "
     ]
    },
    {
     "name": "stdout",
     "output_type": "stream",
     "text": [
      "skipping https://reviews.webmd.com/drugs/drugreview-6021-insulin-zinc-human-recomb-suspension: page not found\n"
     ]
    },
    {
     "name": "stderr",
     "output_type": "stream",
     "text": [
      " 72%|███████▏  | 600/834 [1:29:34<40:21, 10.35s/it]"
     ]
    },
    {
     "name": "stdout",
     "output_type": "stream",
     "text": [
      "skipping https://reviews.webmd.com/drugs/drugreview-6070-aquatensen-tablet: page not found\n",
      "https://reviews.webmd.com/drugs/drugreview-6140-isradipine\n"
     ]
    },
    {
     "name": "stderr",
     "output_type": "stream",
     "text": [
      "100%|██████████| 1/1 [00:01<00:00,  1.40s/it]\n",
      " 72%|███████▏  | 602/834 [1:29:41<25:28,  6.59s/it]"
     ]
    },
    {
     "name": "stdout",
     "output_type": "stream",
     "text": [
      "skipping https://reviews.webmd.com/drugs/drugreview-6154-tolinase-tablet: page not found\n",
      "https://reviews.webmd.com/drugs/drugreview-6158-insulin-nph-isoph-u-human-suspension\n"
     ]
    },
    {
     "name": "stderr",
     "output_type": "stream",
     "text": [
      "100%|██████████| 1/1 [00:01<00:00,  1.52s/it]\n",
      " 72%|███████▏  | 603/834 [1:29:45<22:49,  5.93s/it]"
     ]
    },
    {
     "name": "stdout",
     "output_type": "stream",
     "text": [
      "https://reviews.webmd.com/drugs/drugreview-6159-insulin-nph-and-regular-human-suspension\n"
     ]
    },
    {
     "name": "stderr",
     "output_type": "stream",
     "text": [
      "100%|██████████| 1/1 [00:01<00:00,  1.51s/it]\n",
      " 73%|███████▎  | 605/834 [1:29:52<17:21,  4.55s/it]"
     ]
    },
    {
     "name": "stdout",
     "output_type": "stream",
     "text": [
      "skipping https://reviews.webmd.com/drugs/drugreview-6236-hydroflumethiazide-tablet: page not found\n"
     ]
    },
    {
     "name": "stderr",
     "output_type": "stream",
     "text": [
      " 73%|███████▎  | 606/834 [1:29:54<14:03,  3.70s/it]"
     ]
    },
    {
     "name": "stdout",
     "output_type": "stream",
     "text": [
      "skipping https://reviews.webmd.com/drugs/drugreview-6237-orinase-tablet: page not found\n",
      "https://reviews.webmd.com/drugs/drugreview-6254-quinapril-hcl\n"
     ]
    },
    {
     "name": "stderr",
     "output_type": "stream",
     "text": [
      "100%|██████████| 3/3 [00:05<00:00,  1.91s/it]\n",
      " 73%|███████▎  | 607/834 [1:30:03<19:48,  5.24s/it]"
     ]
    },
    {
     "name": "stdout",
     "output_type": "stream",
     "text": [
      "https://reviews.webmd.com/drugs/drugreview-6288-spironolactone\n"
     ]
    },
    {
     "name": "stderr",
     "output_type": "stream",
     "text": [
      "100%|██████████| 22/22 [00:52<00:00,  2.40s/it]\n",
      " 73%|███████▎  | 608/834 [1:30:59<1:16:55, 20.42s/it]"
     ]
    },
    {
     "name": "stdout",
     "output_type": "stream",
     "text": [
      "https://reviews.webmd.com/drugs/drugreview-6301-enalapril-maleate\n"
     ]
    },
    {
     "name": "stderr",
     "output_type": "stream",
     "text": [
      "100%|██████████| 9/9 [00:22<00:00,  2.53s/it]\n",
      " 73%|███████▎  | 609/834 [1:31:27<1:24:49, 22.62s/it]"
     ]
    },
    {
     "name": "stdout",
     "output_type": "stream",
     "text": [
      "https://reviews.webmd.com/drugs/drugreview-6301-enalapril-maleate-solution\n"
     ]
    },
    {
     "name": "stderr",
     "output_type": "stream",
     "text": [
      "100%|██████████| 9/9 [00:24<00:00,  2.76s/it]\n",
      " 73%|███████▎  | 610/834 [1:31:56<1:31:41, 24.56s/it]"
     ]
    },
    {
     "name": "stdout",
     "output_type": "stream",
     "text": [
      "https://reviews.webmd.com/drugs/drugreview-6305-chlorothiazide-suspension\n"
     ]
    },
    {
     "name": "stderr",
     "output_type": "stream",
     "text": [
      "100%|██████████| 1/1 [00:01<00:00,  1.53s/it]\n",
      " 73%|███████▎  | 611/834 [1:32:00<1:08:59, 18.56s/it]"
     ]
    },
    {
     "name": "stdout",
     "output_type": "stream",
     "text": [
      "https://reviews.webmd.com/drugs/drugreview-6314-diovan\n"
     ]
    },
    {
     "name": "stderr",
     "output_type": "stream",
     "text": [
      "100%|██████████| 43/43 [01:47<00:00,  2.49s/it]\n",
      " 73%|███████▎  | 612/834 [1:33:51<2:51:10, 46.26s/it]"
     ]
    },
    {
     "name": "stdout",
     "output_type": "stream",
     "text": [
      "https://reviews.webmd.com/drugs/drugreview-63172-olmesartan-medoxomil\n"
     ]
    },
    {
     "name": "stderr",
     "output_type": "stream",
     "text": [
      "100%|██████████| 3/3 [00:07<00:00,  2.42s/it]\n",
      " 74%|███████▎  | 613/834 [1:34:02<2:11:36, 35.73s/it]"
     ]
    },
    {
     "name": "stdout",
     "output_type": "stream",
     "text": [
      "https://reviews.webmd.com/drugs/drugreview-63173-benicar\n"
     ]
    },
    {
     "name": "stderr",
     "output_type": "stream",
     "text": [
      "100%|██████████| 30/30 [01:06<00:00,  2.20s/it]\n",
      " 74%|███████▎  | 614/834 [1:35:12<2:48:43, 46.02s/it]"
     ]
    },
    {
     "name": "stdout",
     "output_type": "stream",
     "text": [
      "https://reviews.webmd.com/drugs/drugreview-63178-humulin-suspension\n"
     ]
    },
    {
     "name": "stderr",
     "output_type": "stream",
     "text": [
      " 74%|███████▍  | 616/834 [1:35:18<1:26:35, 23.83s/it]"
     ]
    },
    {
     "name": "stdout",
     "output_type": "stream",
     "text": [
      "skipping https://reviews.webmd.com/drugs/drugreview-63549-insulin-beef-solution: page not found\n"
     ]
    },
    {
     "name": "stderr",
     "output_type": "stream",
     "text": [
      " 74%|███████▍  | 617/834 [1:35:19<1:02:19, 17.23s/it]"
     ]
    },
    {
     "name": "stdout",
     "output_type": "stream",
     "text": [
      "skipping https://reviews.webmd.com/drugs/drugreview-63550-insulin-regular-human-semi-syn-cartridge: page not found\n"
     ]
    },
    {
     "name": "stderr",
     "output_type": "stream",
     "text": [
      " 74%|███████▍  | 618/834 [1:35:21<45:04, 12.52s/it]  "
     ]
    },
    {
     "name": "stdout",
     "output_type": "stream",
     "text": [
      "skipping https://reviews.webmd.com/drugs/drugreview-63552-insulin-pork-solution: page not found\n",
      "https://reviews.webmd.com/drugs/drugreview-63742-insulin-70-30-innolet-suspension\n"
     ]
    },
    {
     "name": "stderr",
     "output_type": "stream",
     "text": [
      " 74%|███████▍  | 619/834 [1:35:24<34:31,  9.63s/it]"
     ]
    },
    {
     "name": "stdout",
     "output_type": "stream",
     "text": [
      "https://reviews.webmd.com/drugs/drugreview-63953-diltiazem-er-capsule-degradable-capsule-degradable\n"
     ]
    },
    {
     "name": "stderr",
     "output_type": "stream",
     "text": [
      "100%|██████████| 1/1 [00:02<00:00,  2.09s/it]\n",
      " 74%|███████▍  | 620/834 [1:35:29<29:17,  8.21s/it]"
     ]
    },
    {
     "name": "stdout",
     "output_type": "stream",
     "text": [
      "https://reviews.webmd.com/drugs/drugreview-64014-terazosin-capsule\n"
     ]
    },
    {
     "name": "stderr",
     "output_type": "stream",
     "text": [
      " 74%|███████▍  | 621/834 [1:35:32<23:46,  6.70s/it]"
     ]
    },
    {
     "name": "stdout",
     "output_type": "stream",
     "text": [
      "https://reviews.webmd.com/drugs/drugreview-64070-insulin-aspart-prot-mix-70-30-pen\n"
     ]
    },
    {
     "name": "stderr",
     "output_type": "stream",
     "text": [
      "100%|██████████| 1/1 [00:02<00:00,  2.15s/it]\n",
      " 75%|███████▍  | 622/834 [1:35:37<22:14,  6.29s/it]"
     ]
    },
    {
     "name": "stdout",
     "output_type": "stream",
     "text": [
      "https://reviews.webmd.com/drugs/drugreview-64071-novolog-mix-70-30-vial\n"
     ]
    },
    {
     "name": "stderr",
     "output_type": "stream",
     "text": [
      "100%|██████████| 1/1 [00:01<00:00,  1.75s/it]\n",
      " 75%|███████▍  | 623/834 [1:35:43<21:15,  6.04s/it]"
     ]
    },
    {
     "name": "stdout",
     "output_type": "stream",
     "text": [
      "https://reviews.webmd.com/drugs/drugreview-64218-eplerenone\n"
     ]
    },
    {
     "name": "stderr",
     "output_type": "stream",
     "text": [
      "100%|██████████| 1/1 [00:02<00:00,  2.29s/it]\n",
      " 75%|███████▍  | 625/834 [1:35:52<17:50,  5.12s/it]"
     ]
    },
    {
     "name": "stdout",
     "output_type": "stream",
     "text": [
      "skipping https://reviews.webmd.com/drugs/drugreview-64227-insulin-regular-pork-conc-solution: page not found\n"
     ]
    },
    {
     "name": "stderr",
     "output_type": "stream",
     "text": [
      " 75%|███████▌  | 626/834 [1:35:54<14:48,  4.27s/it]"
     ]
    },
    {
     "name": "stdout",
     "output_type": "stream",
     "text": [
      "skipping https://reviews.webmd.com/drugs/drugreview-64253-rosiglitazone-metformin-tablet: page not found\n"
     ]
    },
    {
     "name": "stderr",
     "output_type": "stream",
     "text": [
      " 75%|███████▌  | 627/834 [1:35:58<13:51,  4.02s/it]"
     ]
    },
    {
     "name": "stdout",
     "output_type": "stream",
     "text": [
      "skipping https://reviews.webmd.com/drugs/drugreview-64261-avandamet-tablet: page not found\n",
      "https://reviews.webmd.com/drugs/drugreview-64318-glipizide-metformin\n"
     ]
    },
    {
     "name": "stderr",
     "output_type": "stream",
     "text": [
      "100%|██████████| 1/1 [00:02<00:00,  2.42s/it]\n",
      " 75%|███████▌  | 628/834 [1:36:04<15:46,  4.59s/it]"
     ]
    },
    {
     "name": "stdout",
     "output_type": "stream",
     "text": [
      "https://reviews.webmd.com/drugs/drugreview-64323-metaglip-tablet\n"
     ]
    },
    {
     "name": "stderr",
     "output_type": "stream",
     "text": [
      "100%|██████████| 1/1 [00:02<00:00,  2.10s/it]\n",
      " 75%|███████▌  | 629/834 [1:36:09<16:31,  4.84s/it]"
     ]
    },
    {
     "name": "stdout",
     "output_type": "stream",
     "text": [
      "https://reviews.webmd.com/drugs/drugreview-64443-nifedipine-er-tablet\n"
     ]
    },
    {
     "name": "stderr",
     "output_type": "stream",
     "text": [
      "100%|██████████| 1/1 [00:01<00:00,  1.96s/it]\n",
      " 76%|███████▌  | 630/834 [1:36:15<17:13,  5.07s/it]"
     ]
    },
    {
     "name": "stdout",
     "output_type": "stream",
     "text": [
      "https://reviews.webmd.com/drugs/drugreview-64443-nifedipine-er-tablet-osmotic-push-tablet-push\n"
     ]
    },
    {
     "name": "stderr",
     "output_type": "stream",
     "text": [
      "100%|██████████| 1/1 [00:01<00:00,  1.92s/it]\n",
      " 76%|███████▌  | 631/834 [1:36:20<17:34,  5.19s/it]"
     ]
    },
    {
     "name": "stdout",
     "output_type": "stream",
     "text": [
      "https://reviews.webmd.com/drugs/drugreview-64639-eprosartan-hydrochlorothiazide-tablet\n"
     ]
    },
    {
     "name": "stderr",
     "output_type": "stream",
     "text": [
      "100%|██████████| 1/1 [00:02<00:00,  2.99s/it]\n",
      " 76%|███████▌  | 632/834 [1:36:26<18:33,  5.51s/it]"
     ]
    },
    {
     "name": "stdout",
     "output_type": "stream",
     "text": [
      "https://reviews.webmd.com/drugs/drugreview-64640-teveten-hct-tablet\n"
     ]
    },
    {
     "name": "stderr",
     "output_type": "stream",
     "text": [
      "100%|██████████| 1/1 [00:01<00:00,  1.82s/it]\n",
      " 76%|███████▌  | 634/834 [1:36:35<15:21,  4.61s/it]"
     ]
    },
    {
     "name": "stdout",
     "output_type": "stream",
     "text": [
      "skipping https://reviews.webmd.com/drugs/drugreview-64670-insulin-nph-regular-hum-s-syn-cartridge: page not found\n"
     ]
    },
    {
     "name": "stderr",
     "output_type": "stream",
     "text": [
      " 76%|███████▌  | 635/834 [1:36:38<13:42,  4.13s/it]"
     ]
    },
    {
     "name": "stdout",
     "output_type": "stream",
     "text": [
      "skipping https://reviews.webmd.com/drugs/drugreview-64671-insulin-nph-regular-pork-pure-solution: page not found\n"
     ]
    },
    {
     "name": "stderr",
     "output_type": "stream",
     "text": [
      " 76%|███████▋  | 636/834 [1:36:40<11:46,  3.57s/it]"
     ]
    },
    {
     "name": "stdout",
     "output_type": "stream",
     "text": [
      "skipping https://reviews.webmd.com/drugs/drugreview-64672-insulin-protamine-zinc-beef-suspension: page not found\n"
     ]
    },
    {
     "name": "stderr",
     "output_type": "stream",
     "text": [
      " 76%|███████▋  | 637/834 [1:36:42<10:24,  3.17s/it]"
     ]
    },
    {
     "name": "stdout",
     "output_type": "stream",
     "text": [
      "skipping https://reviews.webmd.com/drugs/drugreview-64673-insulin-protamine-zn-beef-pure-suspension: page not found\n"
     ]
    },
    {
     "name": "stderr",
     "output_type": "stream",
     "text": [
      " 76%|███████▋  | 638/834 [1:36:44<09:25,  2.89s/it]"
     ]
    },
    {
     "name": "stdout",
     "output_type": "stream",
     "text": [
      "skipping https://reviews.webmd.com/drugs/drugreview-64674-insulin-protamine-zn-pork-pure-suspension: page not found\n"
     ]
    },
    {
     "name": "stderr",
     "output_type": "stream",
     "text": [
      " 77%|███████▋  | 639/834 [1:36:47<08:53,  2.74s/it]"
     ]
    },
    {
     "name": "stdout",
     "output_type": "stream",
     "text": [
      "skipping https://reviews.webmd.com/drugs/drugreview-64675-insulin-protamine-zn-beef-pork-suspension: page not found\n"
     ]
    },
    {
     "name": "stderr",
     "output_type": "stream",
     "text": [
      " 77%|███████▋  | 640/834 [1:36:49<08:22,  2.59s/it]"
     ]
    },
    {
     "name": "stdout",
     "output_type": "stream",
     "text": [
      "skipping https://reviews.webmd.com/drugs/drugreview-64676-insulin-isophane-beef-suspension: page not found\n"
     ]
    },
    {
     "name": "stderr",
     "output_type": "stream",
     "text": [
      " 77%|███████▋  | 641/834 [1:36:51<07:54,  2.46s/it]"
     ]
    },
    {
     "name": "stdout",
     "output_type": "stream",
     "text": [
      "skipping https://reviews.webmd.com/drugs/drugreview-64677-insulin-isophane-beef-pure-suspension: page not found\n",
      "https://reviews.webmd.com/drugs/drugreview-64678-insulin-nph-human-semi-syn-suspension\n"
     ]
    },
    {
     "name": "stderr",
     "output_type": "stream",
     "text": [
      "100%|██████████| 1/1 [00:01<00:00,  1.79s/it]\n",
      " 77%|███████▋  | 643/834 [1:36:59<10:02,  3.16s/it]"
     ]
    },
    {
     "name": "stdout",
     "output_type": "stream",
     "text": [
      "skipping https://reviews.webmd.com/drugs/drugreview-64679-ins-zn-bf-pure-ins-pk-pure-suspension: page not found\n",
      "https://reviews.webmd.com/drugs/drugreview-6468-ezide-tablet\n"
     ]
    },
    {
     "name": "stderr",
     "output_type": "stream",
     "text": [
      " 77%|███████▋  | 645/834 [1:37:05<09:09,  2.91s/it]"
     ]
    },
    {
     "name": "stdout",
     "output_type": "stream",
     "text": [
      "skipping https://reviews.webmd.com/drugs/drugreview-64680-insulin-zinc-beef-suspension: page not found\n"
     ]
    },
    {
     "name": "stderr",
     "output_type": "stream",
     "text": [
      " 77%|███████▋  | 646/834 [1:37:07<08:25,  2.69s/it]"
     ]
    },
    {
     "name": "stdout",
     "output_type": "stream",
     "text": [
      "skipping https://reviews.webmd.com/drugs/drugreview-64681-insulin-zinc-beef-purified-suspension: page not found\n"
     ]
    },
    {
     "name": "stderr",
     "output_type": "stream",
     "text": [
      " 78%|███████▊  | 647/834 [1:37:09<08:04,  2.59s/it]"
     ]
    },
    {
     "name": "stdout",
     "output_type": "stream",
     "text": [
      "skipping https://reviews.webmd.com/drugs/drugreview-64682-insulin-zinc-human-semi-syn-suspension: page not found\n"
     ]
    },
    {
     "name": "stderr",
     "output_type": "stream",
     "text": [
      " 78%|███████▊  | 648/834 [1:37:12<07:35,  2.45s/it]"
     ]
    },
    {
     "name": "stdout",
     "output_type": "stream",
     "text": [
      "skipping https://reviews.webmd.com/drugs/drugreview-64683-insulin-zinc-extended-beef-suspension: page not found\n"
     ]
    },
    {
     "name": "stderr",
     "output_type": "stream",
     "text": [
      " 78%|███████▊  | 649/834 [1:37:14<07:27,  2.42s/it]"
     ]
    },
    {
     "name": "stdout",
     "output_type": "stream",
     "text": [
      "skipping https://reviews.webmd.com/drugs/drugreview-64684-insulin-zinc-ext-beef-pure-suspension: page not found\n"
     ]
    },
    {
     "name": "stderr",
     "output_type": "stream",
     "text": [
      " 78%|███████▊  | 650/834 [1:37:16<07:11,  2.34s/it]"
     ]
    },
    {
     "name": "stdout",
     "output_type": "stream",
     "text": [
      "skipping https://reviews.webmd.com/drugs/drugreview-64685-insulin-zinc-ext-beef-pork-suspension: page not found\n"
     ]
    },
    {
     "name": "stderr",
     "output_type": "stream",
     "text": [
      " 78%|███████▊  | 651/834 [1:37:18<06:55,  2.27s/it]"
     ]
    },
    {
     "name": "stdout",
     "output_type": "stream",
     "text": [
      "skipping https://reviews.webmd.com/drugs/drugreview-64686-insulin-zinc-prompt-beef-suspension: page not found\n"
     ]
    },
    {
     "name": "stderr",
     "output_type": "stream",
     "text": [
      " 78%|███████▊  | 652/834 [1:37:20<06:48,  2.24s/it]"
     ]
    },
    {
     "name": "stdout",
     "output_type": "stream",
     "text": [
      "skipping https://reviews.webmd.com/drugs/drugreview-64687-insulin-zinc-prompt-pork-pure-suspension: page not found\n"
     ]
    },
    {
     "name": "stderr",
     "output_type": "stream",
     "text": [
      " 78%|███████▊  | 653/834 [1:37:23<06:51,  2.28s/it]"
     ]
    },
    {
     "name": "stdout",
     "output_type": "stream",
     "text": [
      "skipping https://reviews.webmd.com/drugs/drugreview-64688-insulin-zinc-prompt-beef-pork-suspension: page not found\n",
      "https://reviews.webmd.com/drugs/drugreview-64858-novolog-flexpen-insulin-pen\n"
     ]
    },
    {
     "name": "stderr",
     "output_type": "stream",
     "text": [
      "100%|██████████| 3/3 [00:08<00:00,  2.84s/it]\n",
      " 78%|███████▊  | 654/834 [1:37:35<16:05,  5.37s/it]"
     ]
    },
    {
     "name": "stdout",
     "output_type": "stream",
     "text": [
      "https://reviews.webmd.com/drugs/drugreview-6559-edecrin\n"
     ]
    },
    {
     "name": "stderr",
     "output_type": "stream",
     "text": [
      "100%|██████████| 1/1 [00:02<00:00,  2.16s/it]\n",
      " 79%|███████▊  | 655/834 [1:37:41<16:26,  5.51s/it]"
     ]
    },
    {
     "name": "stdout",
     "output_type": "stream",
     "text": [
      "https://reviews.webmd.com/drugs/drugreview-6614-repaglinide\n"
     ]
    },
    {
     "name": "stderr",
     "output_type": "stream",
     "text": [
      "100%|██████████| 1/1 [00:03<00:00,  3.43s/it]\n",
      " 79%|███████▊  | 656/834 [1:37:49<18:16,  6.16s/it]"
     ]
    },
    {
     "name": "stdout",
     "output_type": "stream",
     "text": [
      "https://reviews.webmd.com/drugs/drugreview-6616-losartan-potassium\n"
     ]
    },
    {
     "name": "stderr",
     "output_type": "stream",
     "text": [
      "100%|██████████| 35/35 [01:29<00:00,  2.55s/it]\n",
      " 79%|███████▉  | 657/834 [1:39:22<1:35:30, 32.38s/it]"
     ]
    },
    {
     "name": "stdout",
     "output_type": "stream",
     "text": [
      "https://reviews.webmd.com/drugs/drugreview-6639-prandin-tablet\n"
     ]
    },
    {
     "name": "stderr",
     "output_type": "stream",
     "text": [
      "100%|██████████| 2/2 [00:05<00:00,  2.52s/it]\n",
      " 79%|███████▉  | 658/834 [1:39:33<1:15:36, 25.78s/it]"
     ]
    },
    {
     "name": "stdout",
     "output_type": "stream",
     "text": [
      "https://reviews.webmd.com/drugs/drugreview-6670-aldactazide\n"
     ]
    },
    {
     "name": "stderr",
     "output_type": "stream",
     "text": [
      "100%|██████████| 1/1 [00:02<00:00,  2.03s/it]\n",
      " 79%|███████▉  | 659/834 [1:39:39<57:44, 19.80s/it]  "
     ]
    },
    {
     "name": "stdout",
     "output_type": "stream",
     "text": [
      "https://reviews.webmd.com/drugs/drugreview-6671-aldactone\n"
     ]
    },
    {
     "name": "stderr",
     "output_type": "stream",
     "text": [
      "100%|██████████| 4/4 [00:11<00:00,  2.77s/it]\n",
      " 79%|███████▉  | 660/834 [1:39:53<53:04, 18.30s/it]"
     ]
    },
    {
     "name": "stdout",
     "output_type": "stream",
     "text": [
      "https://reviews.webmd.com/drugs/drugreview-6672-aldomet-tablet\n"
     ]
    },
    {
     "name": "stderr",
     "output_type": "stream",
     "text": [
      "100%|██████████| 2/2 [00:05<00:00,  2.51s/it]\n",
      " 79%|███████▉  | 661/834 [1:40:02<44:20, 15.38s/it]"
     ]
    },
    {
     "name": "stdout",
     "output_type": "stream",
     "text": [
      "https://reviews.webmd.com/drugs/drugreview-6673-aldoril-15-tablet\n"
     ]
    },
    {
     "name": "stderr",
     "output_type": "stream",
     "text": [
      " 79%|███████▉  | 662/834 [1:40:06<34:08, 11.91s/it]"
     ]
    },
    {
     "name": "stdout",
     "output_type": "stream",
     "text": [
      "https://reviews.webmd.com/drugs/drugreview-6680-apresoline-tablet\n"
     ]
    },
    {
     "name": "stderr",
     "output_type": "stream",
     "text": [
      "100%|██████████| 1/1 [00:02<00:00,  2.98s/it]\n",
      " 79%|███████▉  | 663/834 [1:40:12<29:20, 10.30s/it]"
     ]
    },
    {
     "name": "stdout",
     "output_type": "stream",
     "text": [
      "https://reviews.webmd.com/drugs/drugreview-6709-cardizem\n"
     ]
    },
    {
     "name": "stderr",
     "output_type": "stream",
     "text": [
      "100%|██████████| 3/3 [00:07<00:00,  2.41s/it]\n",
      " 80%|███████▉  | 665/834 [1:40:26<22:50,  8.11s/it]"
     ]
    },
    {
     "name": "stdout",
     "output_type": "stream",
     "text": [
      "skipping https://reviews.webmd.com/drugs/drugreview-6712-cartrol-tablet: page not found\n"
     ]
    },
    {
     "name": "stderr",
     "output_type": "stream",
     "text": [
      " 80%|███████▉  | 666/834 [1:40:28<17:41,  6.32s/it]"
     ]
    },
    {
     "name": "stdout",
     "output_type": "stream",
     "text": [
      "skipping https://reviews.webmd.com/drugs/drugreview-6713-carteolol-tablet: page not found\n",
      "https://reviews.webmd.com/drugs/drugreview-6714-catapres-tablet\n"
     ]
    },
    {
     "name": "stderr",
     "output_type": "stream",
     "text": [
      "100%|██████████| 3/3 [00:08<00:00,  2.81s/it]\n",
      " 80%|███████▉  | 667/834 [1:40:40<22:29,  8.08s/it]"
     ]
    },
    {
     "name": "stdout",
     "output_type": "stream",
     "text": [
      "https://reviews.webmd.com/drugs/drugreview-6715-catapres-tts-3-patch-weekly\n"
     ]
    },
    {
     "name": "stderr",
     "output_type": "stream",
     "text": [
      "100%|██████████| 1/1 [00:01<00:00,  1.90s/it]\n",
      " 80%|████████  | 668/834 [1:40:47<20:55,  7.56s/it]"
     ]
    },
    {
     "name": "stdout",
     "output_type": "stream",
     "text": [
      "https://reviews.webmd.com/drugs/drugreview-6716-clonidine-patch-weekly\n"
     ]
    },
    {
     "name": "stderr",
     "output_type": "stream",
     "text": [
      "100%|██████████| 2/2 [00:04<00:00,  2.38s/it]\n",
      " 80%|████████  | 670/834 [1:40:57<16:45,  6.13s/it]"
     ]
    },
    {
     "name": "stdout",
     "output_type": "stream",
     "text": [
      "skipping https://reviews.webmd.com/drugs/drugreview-6729-combipres-1-tablet: page not found\n",
      "https://reviews.webmd.com/drugs/drugreview-6762-diuril\n"
     ]
    },
    {
     "name": "stderr",
     "output_type": "stream",
     "text": [
      "100%|██████████| 1/1 [00:01<00:00,  1.95s/it]\n",
      " 80%|████████  | 671/834 [1:41:03<16:03,  5.91s/it]"
     ]
    },
    {
     "name": "stdout",
     "output_type": "stream",
     "text": [
      "https://reviews.webmd.com/drugs/drugreview-6831-hygroton-tablet\n"
     ]
    },
    {
     "name": "stderr",
     "output_type": "stream",
     "text": [
      "100%|██████████| 1/1 [00:02<00:00,  2.06s/it]\n",
      " 81%|████████  | 672/834 [1:41:08<15:37,  5.79s/it]"
     ]
    },
    {
     "name": "stdout",
     "output_type": "stream",
     "text": [
      "https://reviews.webmd.com/drugs/drugreview-6834-terazosin-hcl\n"
     ]
    },
    {
     "name": "stderr",
     "output_type": "stream",
     "text": [
      "100%|██████████| 8/8 [00:19<00:00,  2.50s/it]\n",
      " 81%|████████  | 673/834 [1:41:32<30:03, 11.20s/it]"
     ]
    },
    {
     "name": "stdout",
     "output_type": "stream",
     "text": [
      "https://reviews.webmd.com/drugs/drugreview-6835-hytrin-tablet\n"
     ]
    },
    {
     "name": "stderr",
     "output_type": "stream",
     "text": [
      "100%|██████████| 3/3 [00:08<00:00,  2.83s/it]\n",
      " 81%|████████  | 674/834 [1:41:45<30:58, 11.61s/it]"
     ]
    },
    {
     "name": "stdout",
     "output_type": "stream",
     "text": [
      "https://reviews.webmd.com/drugs/drugreview-6836-iletin-ii-nph-pork-suspension\n"
     ]
    },
    {
     "name": "stderr",
     "output_type": "stream",
     "text": [
      " 81%|████████  | 675/834 [1:41:48<24:08,  9.11s/it]"
     ]
    },
    {
     "name": "stdout",
     "output_type": "stream",
     "text": [
      "https://reviews.webmd.com/drugs/drugreview-6837-insulin-isophane-pork-pure-suspension\n"
     ]
    },
    {
     "name": "stderr",
     "output_type": "stream",
     "text": [
      " 81%|████████  | 676/834 [1:41:51<19:13,  7.30s/it]"
     ]
    },
    {
     "name": "stdout",
     "output_type": "stream",
     "text": [
      "https://reviews.webmd.com/drugs/drugreview-6840-inderal-tablet\n"
     ]
    },
    {
     "name": "stderr",
     "output_type": "stream",
     "text": [
      "100%|██████████| 10/10 [00:24<00:00,  2.46s/it]\n",
      " 81%|████████  | 677/834 [1:42:19<35:34, 13.59s/it]"
     ]
    },
    {
     "name": "stdout",
     "output_type": "stream",
     "text": [
      "https://reviews.webmd.com/drugs/drugreview-6841-inderide-tablet\n"
     ]
    },
    {
     "name": "stderr",
     "output_type": "stream",
     "text": [
      " 81%|████████▏ | 678/834 [1:42:35<23:36,  9.08s/it]\n"
     ]
    },
    {
     "ename": "ConnectionError",
     "evalue": "HTTPSConnectionPool(host='www.webmd.com', port=443): Max retries exceeded with url: /404 (Caused by NameResolutionError(\"<urllib3.connection.HTTPSConnection object at 0x0000015515D96190>: Failed to resolve 'www.webmd.com' ([Errno 11001] getaddrinfo failed)\"))",
     "output_type": "error",
     "traceback": [
      "\u001b[1;31m---------------------------------------------------------------------------\u001b[0m",
      "\u001b[1;31mgaierror\u001b[0m                                  Traceback (most recent call last)",
      "File \u001b[1;32mc:\\Users\\Public\\anaconda3\\envs\\rioxarray_env\\lib\\site-packages\\urllib3\\connection.py:203\u001b[0m, in \u001b[0;36mHTTPConnection._new_conn\u001b[1;34m(self)\u001b[0m\n\u001b[0;32m    202\u001b[0m \u001b[38;5;28;01mtry\u001b[39;00m:\n\u001b[1;32m--> 203\u001b[0m     sock \u001b[38;5;241m=\u001b[39m \u001b[43mconnection\u001b[49m\u001b[38;5;241;43m.\u001b[39;49m\u001b[43mcreate_connection\u001b[49m\u001b[43m(\u001b[49m\n\u001b[0;32m    204\u001b[0m \u001b[43m        \u001b[49m\u001b[43m(\u001b[49m\u001b[38;5;28;43mself\u001b[39;49m\u001b[38;5;241;43m.\u001b[39;49m\u001b[43m_dns_host\u001b[49m\u001b[43m,\u001b[49m\u001b[43m \u001b[49m\u001b[38;5;28;43mself\u001b[39;49m\u001b[38;5;241;43m.\u001b[39;49m\u001b[43mport\u001b[49m\u001b[43m)\u001b[49m\u001b[43m,\u001b[49m\n\u001b[0;32m    205\u001b[0m \u001b[43m        \u001b[49m\u001b[38;5;28;43mself\u001b[39;49m\u001b[38;5;241;43m.\u001b[39;49m\u001b[43mtimeout\u001b[49m\u001b[43m,\u001b[49m\n\u001b[0;32m    206\u001b[0m \u001b[43m        \u001b[49m\u001b[43msource_address\u001b[49m\u001b[38;5;241;43m=\u001b[39;49m\u001b[38;5;28;43mself\u001b[39;49m\u001b[38;5;241;43m.\u001b[39;49m\u001b[43msource_address\u001b[49m\u001b[43m,\u001b[49m\n\u001b[0;32m    207\u001b[0m \u001b[43m        \u001b[49m\u001b[43msocket_options\u001b[49m\u001b[38;5;241;43m=\u001b[39;49m\u001b[38;5;28;43mself\u001b[39;49m\u001b[38;5;241;43m.\u001b[39;49m\u001b[43msocket_options\u001b[49m\u001b[43m,\u001b[49m\n\u001b[0;32m    208\u001b[0m \u001b[43m    \u001b[49m\u001b[43m)\u001b[49m\n\u001b[0;32m    209\u001b[0m \u001b[38;5;28;01mexcept\u001b[39;00m socket\u001b[38;5;241m.\u001b[39mgaierror \u001b[38;5;28;01mas\u001b[39;00m e:\n",
      "File \u001b[1;32mc:\\Users\\Public\\anaconda3\\envs\\rioxarray_env\\lib\\site-packages\\urllib3\\util\\connection.py:60\u001b[0m, in \u001b[0;36mcreate_connection\u001b[1;34m(address, timeout, source_address, socket_options)\u001b[0m\n\u001b[0;32m     58\u001b[0m     \u001b[38;5;28;01mraise\u001b[39;00m LocationParseError(\u001b[38;5;124mf\u001b[39m\u001b[38;5;124m\"\u001b[39m\u001b[38;5;124m'\u001b[39m\u001b[38;5;132;01m{\u001b[39;00mhost\u001b[38;5;132;01m}\u001b[39;00m\u001b[38;5;124m'\u001b[39m\u001b[38;5;124m, label empty or too long\u001b[39m\u001b[38;5;124m\"\u001b[39m) \u001b[38;5;28;01mfrom\u001b[39;00m \u001b[38;5;28;01mNone\u001b[39;00m\n\u001b[1;32m---> 60\u001b[0m \u001b[38;5;28;01mfor\u001b[39;00m res \u001b[38;5;129;01min\u001b[39;00m \u001b[43msocket\u001b[49m\u001b[38;5;241;43m.\u001b[39;49m\u001b[43mgetaddrinfo\u001b[49m\u001b[43m(\u001b[49m\u001b[43mhost\u001b[49m\u001b[43m,\u001b[49m\u001b[43m \u001b[49m\u001b[43mport\u001b[49m\u001b[43m,\u001b[49m\u001b[43m \u001b[49m\u001b[43mfamily\u001b[49m\u001b[43m,\u001b[49m\u001b[43m \u001b[49m\u001b[43msocket\u001b[49m\u001b[38;5;241;43m.\u001b[39;49m\u001b[43mSOCK_STREAM\u001b[49m\u001b[43m)\u001b[49m:\n\u001b[0;32m     61\u001b[0m     af, socktype, proto, canonname, sa \u001b[38;5;241m=\u001b[39m res\n",
      "File \u001b[1;32mc:\\Users\\Public\\anaconda3\\envs\\rioxarray_env\\lib\\socket.py:954\u001b[0m, in \u001b[0;36mgetaddrinfo\u001b[1;34m(host, port, family, type, proto, flags)\u001b[0m\n\u001b[0;32m    953\u001b[0m addrlist \u001b[38;5;241m=\u001b[39m []\n\u001b[1;32m--> 954\u001b[0m \u001b[38;5;28;01mfor\u001b[39;00m res \u001b[38;5;129;01min\u001b[39;00m \u001b[43m_socket\u001b[49m\u001b[38;5;241;43m.\u001b[39;49m\u001b[43mgetaddrinfo\u001b[49m\u001b[43m(\u001b[49m\u001b[43mhost\u001b[49m\u001b[43m,\u001b[49m\u001b[43m \u001b[49m\u001b[43mport\u001b[49m\u001b[43m,\u001b[49m\u001b[43m \u001b[49m\u001b[43mfamily\u001b[49m\u001b[43m,\u001b[49m\u001b[43m \u001b[49m\u001b[38;5;28;43mtype\u001b[39;49m\u001b[43m,\u001b[49m\u001b[43m \u001b[49m\u001b[43mproto\u001b[49m\u001b[43m,\u001b[49m\u001b[43m \u001b[49m\u001b[43mflags\u001b[49m\u001b[43m)\u001b[49m:\n\u001b[0;32m    955\u001b[0m     af, socktype, proto, canonname, sa \u001b[38;5;241m=\u001b[39m res\n",
      "\u001b[1;31mgaierror\u001b[0m: [Errno 11001] getaddrinfo failed",
      "\nThe above exception was the direct cause of the following exception:\n",
      "\u001b[1;31mNameResolutionError\u001b[0m                       Traceback (most recent call last)",
      "File \u001b[1;32mc:\\Users\\Public\\anaconda3\\envs\\rioxarray_env\\lib\\site-packages\\urllib3\\connectionpool.py:790\u001b[0m, in \u001b[0;36mHTTPConnectionPool.urlopen\u001b[1;34m(self, method, url, body, headers, retries, redirect, assert_same_host, timeout, pool_timeout, release_conn, chunked, body_pos, preload_content, decode_content, **response_kw)\u001b[0m\n\u001b[0;32m    789\u001b[0m \u001b[38;5;66;03m# Make the request on the HTTPConnection object\u001b[39;00m\n\u001b[1;32m--> 790\u001b[0m response \u001b[38;5;241m=\u001b[39m \u001b[38;5;28mself\u001b[39m\u001b[38;5;241m.\u001b[39m_make_request(\n\u001b[0;32m    791\u001b[0m     conn,\n\u001b[0;32m    792\u001b[0m     method,\n\u001b[0;32m    793\u001b[0m     url,\n\u001b[0;32m    794\u001b[0m     timeout\u001b[38;5;241m=\u001b[39mtimeout_obj,\n\u001b[0;32m    795\u001b[0m     body\u001b[38;5;241m=\u001b[39mbody,\n\u001b[0;32m    796\u001b[0m     headers\u001b[38;5;241m=\u001b[39mheaders,\n\u001b[0;32m    797\u001b[0m     chunked\u001b[38;5;241m=\u001b[39mchunked,\n\u001b[0;32m    798\u001b[0m     retries\u001b[38;5;241m=\u001b[39mretries,\n\u001b[0;32m    799\u001b[0m     response_conn\u001b[38;5;241m=\u001b[39mresponse_conn,\n\u001b[0;32m    800\u001b[0m     preload_content\u001b[38;5;241m=\u001b[39mpreload_content,\n\u001b[0;32m    801\u001b[0m     decode_content\u001b[38;5;241m=\u001b[39mdecode_content,\n\u001b[0;32m    802\u001b[0m     \u001b[38;5;241m*\u001b[39m\u001b[38;5;241m*\u001b[39mresponse_kw,\n\u001b[0;32m    803\u001b[0m )\n\u001b[0;32m    805\u001b[0m \u001b[38;5;66;03m# Everything went great!\u001b[39;00m\n",
      "File \u001b[1;32mc:\\Users\\Public\\anaconda3\\envs\\rioxarray_env\\lib\\site-packages\\urllib3\\connectionpool.py:491\u001b[0m, in \u001b[0;36mHTTPConnectionPool._make_request\u001b[1;34m(self, conn, method, url, body, headers, retries, timeout, chunked, response_conn, preload_content, decode_content, enforce_content_length)\u001b[0m\n\u001b[0;32m    490\u001b[0m         new_e \u001b[38;5;241m=\u001b[39m _wrap_proxy_error(new_e, conn\u001b[38;5;241m.\u001b[39mproxy\u001b[38;5;241m.\u001b[39mscheme)\n\u001b[1;32m--> 491\u001b[0m     \u001b[38;5;28;01mraise\u001b[39;00m new_e\n\u001b[0;32m    493\u001b[0m \u001b[38;5;66;03m# conn.request() calls http.client.*.request, not the method in\u001b[39;00m\n\u001b[0;32m    494\u001b[0m \u001b[38;5;66;03m# urllib3.request. It also calls makefile (recv) on the socket.\u001b[39;00m\n",
      "File \u001b[1;32mc:\\Users\\Public\\anaconda3\\envs\\rioxarray_env\\lib\\site-packages\\urllib3\\connectionpool.py:467\u001b[0m, in \u001b[0;36mHTTPConnectionPool._make_request\u001b[1;34m(self, conn, method, url, body, headers, retries, timeout, chunked, response_conn, preload_content, decode_content, enforce_content_length)\u001b[0m\n\u001b[0;32m    466\u001b[0m \u001b[38;5;28;01mtry\u001b[39;00m:\n\u001b[1;32m--> 467\u001b[0m     \u001b[38;5;28;43mself\u001b[39;49m\u001b[38;5;241;43m.\u001b[39;49m\u001b[43m_validate_conn\u001b[49m\u001b[43m(\u001b[49m\u001b[43mconn\u001b[49m\u001b[43m)\u001b[49m\n\u001b[0;32m    468\u001b[0m \u001b[38;5;28;01mexcept\u001b[39;00m (SocketTimeout, BaseSSLError) \u001b[38;5;28;01mas\u001b[39;00m e:\n",
      "File \u001b[1;32mc:\\Users\\Public\\anaconda3\\envs\\rioxarray_env\\lib\\site-packages\\urllib3\\connectionpool.py:1096\u001b[0m, in \u001b[0;36mHTTPSConnectionPool._validate_conn\u001b[1;34m(self, conn)\u001b[0m\n\u001b[0;32m   1095\u001b[0m \u001b[38;5;28;01mif\u001b[39;00m conn\u001b[38;5;241m.\u001b[39mis_closed:\n\u001b[1;32m-> 1096\u001b[0m     \u001b[43mconn\u001b[49m\u001b[38;5;241;43m.\u001b[39;49m\u001b[43mconnect\u001b[49m\u001b[43m(\u001b[49m\u001b[43m)\u001b[49m\n\u001b[0;32m   1098\u001b[0m \u001b[38;5;28;01mif\u001b[39;00m \u001b[38;5;129;01mnot\u001b[39;00m conn\u001b[38;5;241m.\u001b[39mis_verified:\n",
      "File \u001b[1;32mc:\\Users\\Public\\anaconda3\\envs\\rioxarray_env\\lib\\site-packages\\urllib3\\connection.py:611\u001b[0m, in \u001b[0;36mHTTPSConnection.connect\u001b[1;34m(self)\u001b[0m\n\u001b[0;32m    610\u001b[0m sock: socket\u001b[38;5;241m.\u001b[39msocket \u001b[38;5;241m|\u001b[39m ssl\u001b[38;5;241m.\u001b[39mSSLSocket\n\u001b[1;32m--> 611\u001b[0m \u001b[38;5;28mself\u001b[39m\u001b[38;5;241m.\u001b[39msock \u001b[38;5;241m=\u001b[39m sock \u001b[38;5;241m=\u001b[39m \u001b[38;5;28;43mself\u001b[39;49m\u001b[38;5;241;43m.\u001b[39;49m\u001b[43m_new_conn\u001b[49m\u001b[43m(\u001b[49m\u001b[43m)\u001b[49m\n\u001b[0;32m    612\u001b[0m server_hostname: \u001b[38;5;28mstr\u001b[39m \u001b[38;5;241m=\u001b[39m \u001b[38;5;28mself\u001b[39m\u001b[38;5;241m.\u001b[39mhost\n",
      "File \u001b[1;32mc:\\Users\\Public\\anaconda3\\envs\\rioxarray_env\\lib\\site-packages\\urllib3\\connection.py:210\u001b[0m, in \u001b[0;36mHTTPConnection._new_conn\u001b[1;34m(self)\u001b[0m\n\u001b[0;32m    209\u001b[0m \u001b[38;5;28;01mexcept\u001b[39;00m socket\u001b[38;5;241m.\u001b[39mgaierror \u001b[38;5;28;01mas\u001b[39;00m e:\n\u001b[1;32m--> 210\u001b[0m     \u001b[38;5;28;01mraise\u001b[39;00m NameResolutionError(\u001b[38;5;28mself\u001b[39m\u001b[38;5;241m.\u001b[39mhost, \u001b[38;5;28mself\u001b[39m, e) \u001b[38;5;28;01mfrom\u001b[39;00m \u001b[38;5;21;01me\u001b[39;00m\n\u001b[0;32m    211\u001b[0m \u001b[38;5;28;01mexcept\u001b[39;00m SocketTimeout \u001b[38;5;28;01mas\u001b[39;00m e:\n",
      "\u001b[1;31mNameResolutionError\u001b[0m: <urllib3.connection.HTTPSConnection object at 0x0000015515D96190>: Failed to resolve 'www.webmd.com' ([Errno 11001] getaddrinfo failed)",
      "\nThe above exception was the direct cause of the following exception:\n",
      "\u001b[1;31mMaxRetryError\u001b[0m                             Traceback (most recent call last)",
      "File \u001b[1;32mc:\\Users\\Public\\anaconda3\\envs\\rioxarray_env\\lib\\site-packages\\requests\\adapters.py:486\u001b[0m, in \u001b[0;36mHTTPAdapter.send\u001b[1;34m(self, request, stream, timeout, verify, cert, proxies)\u001b[0m\n\u001b[0;32m    485\u001b[0m \u001b[38;5;28;01mtry\u001b[39;00m:\n\u001b[1;32m--> 486\u001b[0m     resp \u001b[38;5;241m=\u001b[39m \u001b[43mconn\u001b[49m\u001b[38;5;241;43m.\u001b[39;49m\u001b[43murlopen\u001b[49m\u001b[43m(\u001b[49m\n\u001b[0;32m    487\u001b[0m \u001b[43m        \u001b[49m\u001b[43mmethod\u001b[49m\u001b[38;5;241;43m=\u001b[39;49m\u001b[43mrequest\u001b[49m\u001b[38;5;241;43m.\u001b[39;49m\u001b[43mmethod\u001b[49m\u001b[43m,\u001b[49m\n\u001b[0;32m    488\u001b[0m \u001b[43m        \u001b[49m\u001b[43murl\u001b[49m\u001b[38;5;241;43m=\u001b[39;49m\u001b[43murl\u001b[49m\u001b[43m,\u001b[49m\n\u001b[0;32m    489\u001b[0m \u001b[43m        \u001b[49m\u001b[43mbody\u001b[49m\u001b[38;5;241;43m=\u001b[39;49m\u001b[43mrequest\u001b[49m\u001b[38;5;241;43m.\u001b[39;49m\u001b[43mbody\u001b[49m\u001b[43m,\u001b[49m\n\u001b[0;32m    490\u001b[0m \u001b[43m        \u001b[49m\u001b[43mheaders\u001b[49m\u001b[38;5;241;43m=\u001b[39;49m\u001b[43mrequest\u001b[49m\u001b[38;5;241;43m.\u001b[39;49m\u001b[43mheaders\u001b[49m\u001b[43m,\u001b[49m\n\u001b[0;32m    491\u001b[0m \u001b[43m        \u001b[49m\u001b[43mredirect\u001b[49m\u001b[38;5;241;43m=\u001b[39;49m\u001b[38;5;28;43;01mFalse\u001b[39;49;00m\u001b[43m,\u001b[49m\n\u001b[0;32m    492\u001b[0m \u001b[43m        \u001b[49m\u001b[43massert_same_host\u001b[49m\u001b[38;5;241;43m=\u001b[39;49m\u001b[38;5;28;43;01mFalse\u001b[39;49;00m\u001b[43m,\u001b[49m\n\u001b[0;32m    493\u001b[0m \u001b[43m        \u001b[49m\u001b[43mpreload_content\u001b[49m\u001b[38;5;241;43m=\u001b[39;49m\u001b[38;5;28;43;01mFalse\u001b[39;49;00m\u001b[43m,\u001b[49m\n\u001b[0;32m    494\u001b[0m \u001b[43m        \u001b[49m\u001b[43mdecode_content\u001b[49m\u001b[38;5;241;43m=\u001b[39;49m\u001b[38;5;28;43;01mFalse\u001b[39;49;00m\u001b[43m,\u001b[49m\n\u001b[0;32m    495\u001b[0m \u001b[43m        \u001b[49m\u001b[43mretries\u001b[49m\u001b[38;5;241;43m=\u001b[39;49m\u001b[38;5;28;43mself\u001b[39;49m\u001b[38;5;241;43m.\u001b[39;49m\u001b[43mmax_retries\u001b[49m\u001b[43m,\u001b[49m\n\u001b[0;32m    496\u001b[0m \u001b[43m        \u001b[49m\u001b[43mtimeout\u001b[49m\u001b[38;5;241;43m=\u001b[39;49m\u001b[43mtimeout\u001b[49m\u001b[43m,\u001b[49m\n\u001b[0;32m    497\u001b[0m \u001b[43m        \u001b[49m\u001b[43mchunked\u001b[49m\u001b[38;5;241;43m=\u001b[39;49m\u001b[43mchunked\u001b[49m\u001b[43m,\u001b[49m\n\u001b[0;32m    498\u001b[0m \u001b[43m    \u001b[49m\u001b[43m)\u001b[49m\n\u001b[0;32m    500\u001b[0m \u001b[38;5;28;01mexcept\u001b[39;00m (ProtocolError, \u001b[38;5;167;01mOSError\u001b[39;00m) \u001b[38;5;28;01mas\u001b[39;00m err:\n",
      "File \u001b[1;32mc:\\Users\\Public\\anaconda3\\envs\\rioxarray_env\\lib\\site-packages\\urllib3\\connectionpool.py:844\u001b[0m, in \u001b[0;36mHTTPConnectionPool.urlopen\u001b[1;34m(self, method, url, body, headers, retries, redirect, assert_same_host, timeout, pool_timeout, release_conn, chunked, body_pos, preload_content, decode_content, **response_kw)\u001b[0m\n\u001b[0;32m    842\u001b[0m     new_e \u001b[38;5;241m=\u001b[39m ProtocolError(\u001b[38;5;124m\"\u001b[39m\u001b[38;5;124mConnection aborted.\u001b[39m\u001b[38;5;124m\"\u001b[39m, new_e)\n\u001b[1;32m--> 844\u001b[0m retries \u001b[38;5;241m=\u001b[39m \u001b[43mretries\u001b[49m\u001b[38;5;241;43m.\u001b[39;49m\u001b[43mincrement\u001b[49m\u001b[43m(\u001b[49m\n\u001b[0;32m    845\u001b[0m \u001b[43m    \u001b[49m\u001b[43mmethod\u001b[49m\u001b[43m,\u001b[49m\u001b[43m \u001b[49m\u001b[43murl\u001b[49m\u001b[43m,\u001b[49m\u001b[43m \u001b[49m\u001b[43merror\u001b[49m\u001b[38;5;241;43m=\u001b[39;49m\u001b[43mnew_e\u001b[49m\u001b[43m,\u001b[49m\u001b[43m \u001b[49m\u001b[43m_pool\u001b[49m\u001b[38;5;241;43m=\u001b[39;49m\u001b[38;5;28;43mself\u001b[39;49m\u001b[43m,\u001b[49m\u001b[43m \u001b[49m\u001b[43m_stacktrace\u001b[49m\u001b[38;5;241;43m=\u001b[39;49m\u001b[43msys\u001b[49m\u001b[38;5;241;43m.\u001b[39;49m\u001b[43mexc_info\u001b[49m\u001b[43m(\u001b[49m\u001b[43m)\u001b[49m\u001b[43m[\u001b[49m\u001b[38;5;241;43m2\u001b[39;49m\u001b[43m]\u001b[49m\n\u001b[0;32m    846\u001b[0m \u001b[43m\u001b[49m\u001b[43m)\u001b[49m\n\u001b[0;32m    847\u001b[0m retries\u001b[38;5;241m.\u001b[39msleep()\n",
      "File \u001b[1;32mc:\\Users\\Public\\anaconda3\\envs\\rioxarray_env\\lib\\site-packages\\urllib3\\util\\retry.py:515\u001b[0m, in \u001b[0;36mRetry.increment\u001b[1;34m(self, method, url, response, error, _pool, _stacktrace)\u001b[0m\n\u001b[0;32m    514\u001b[0m     reason \u001b[38;5;241m=\u001b[39m error \u001b[38;5;129;01mor\u001b[39;00m ResponseError(cause)\n\u001b[1;32m--> 515\u001b[0m     \u001b[38;5;28;01mraise\u001b[39;00m MaxRetryError(_pool, url, reason) \u001b[38;5;28;01mfrom\u001b[39;00m \u001b[38;5;21;01mreason\u001b[39;00m  \u001b[38;5;66;03m# type: ignore[arg-type]\u001b[39;00m\n\u001b[0;32m    517\u001b[0m log\u001b[38;5;241m.\u001b[39mdebug(\u001b[38;5;124m\"\u001b[39m\u001b[38;5;124mIncremented Retry for (url=\u001b[39m\u001b[38;5;124m'\u001b[39m\u001b[38;5;132;01m%s\u001b[39;00m\u001b[38;5;124m'\u001b[39m\u001b[38;5;124m): \u001b[39m\u001b[38;5;132;01m%r\u001b[39;00m\u001b[38;5;124m\"\u001b[39m, url, new_retry)\n",
      "\u001b[1;31mMaxRetryError\u001b[0m: HTTPSConnectionPool(host='www.webmd.com', port=443): Max retries exceeded with url: /404 (Caused by NameResolutionError(\"<urllib3.connection.HTTPSConnection object at 0x0000015515D96190>: Failed to resolve 'www.webmd.com' ([Errno 11001] getaddrinfo failed)\"))",
      "\nDuring handling of the above exception, another exception occurred:\n",
      "\u001b[1;31mConnectionError\u001b[0m                           Traceback (most recent call last)",
      "Cell \u001b[1;32mIn[17], line 3\u001b[0m\n\u001b[0;32m      1\u001b[0m \u001b[38;5;66;03m#all drugs\u001b[39;00m\n\u001b[0;32m      2\u001b[0m \u001b[38;5;28;01mfor\u001b[39;00m review_url \u001b[38;5;129;01min\u001b[39;00m tqdm(review_urls):\n\u001b[1;32m----> 3\u001b[0m     response \u001b[38;5;241m=\u001b[39m \u001b[43mrequests\u001b[49m\u001b[38;5;241;43m.\u001b[39;49m\u001b[43mget\u001b[49m\u001b[43m(\u001b[49m\u001b[43mreview_url\u001b[49m\u001b[43m,\u001b[49m\u001b[43m \u001b[49m\u001b[43mheaders\u001b[49m\u001b[38;5;241;43m=\u001b[39;49m\u001b[43mheaders\u001b[49m\u001b[43m)\u001b[49m\n\u001b[0;32m      4\u001b[0m     \u001b[38;5;28;01mif\u001b[39;00m response\u001b[38;5;241m.\u001b[39murl \u001b[38;5;241m==\u001b[39m \u001b[38;5;124m'\u001b[39m\u001b[38;5;124mhttps://www.webmd.com/404\u001b[39m\u001b[38;5;124m'\u001b[39m:\n\u001b[0;32m      5\u001b[0m         \u001b[38;5;28mprint\u001b[39m(\u001b[38;5;124mf\u001b[39m\u001b[38;5;124m'\u001b[39m\u001b[38;5;124mskipping \u001b[39m\u001b[38;5;132;01m{\u001b[39;00mreview_url\u001b[38;5;132;01m}\u001b[39;00m\u001b[38;5;124m: page not found\u001b[39m\u001b[38;5;124m'\u001b[39m)\n",
      "File \u001b[1;32mc:\\Users\\Public\\anaconda3\\envs\\rioxarray_env\\lib\\site-packages\\requests\\api.py:73\u001b[0m, in \u001b[0;36mget\u001b[1;34m(url, params, **kwargs)\u001b[0m\n\u001b[0;32m     62\u001b[0m \u001b[38;5;28;01mdef\u001b[39;00m \u001b[38;5;21mget\u001b[39m(url, params\u001b[38;5;241m=\u001b[39m\u001b[38;5;28;01mNone\u001b[39;00m, \u001b[38;5;241m*\u001b[39m\u001b[38;5;241m*\u001b[39mkwargs):\n\u001b[0;32m     63\u001b[0m \u001b[38;5;250m    \u001b[39m\u001b[38;5;124mr\u001b[39m\u001b[38;5;124;03m\"\"\"Sends a GET request.\u001b[39;00m\n\u001b[0;32m     64\u001b[0m \n\u001b[0;32m     65\u001b[0m \u001b[38;5;124;03m    :param url: URL for the new :class:`Request` object.\u001b[39;00m\n\u001b[1;32m   (...)\u001b[0m\n\u001b[0;32m     70\u001b[0m \u001b[38;5;124;03m    :rtype: requests.Response\u001b[39;00m\n\u001b[0;32m     71\u001b[0m \u001b[38;5;124;03m    \"\"\"\u001b[39;00m\n\u001b[1;32m---> 73\u001b[0m     \u001b[38;5;28;01mreturn\u001b[39;00m request(\u001b[38;5;124m\"\u001b[39m\u001b[38;5;124mget\u001b[39m\u001b[38;5;124m\"\u001b[39m, url, params\u001b[38;5;241m=\u001b[39mparams, \u001b[38;5;241m*\u001b[39m\u001b[38;5;241m*\u001b[39mkwargs)\n",
      "File \u001b[1;32mc:\\Users\\Public\\anaconda3\\envs\\rioxarray_env\\lib\\site-packages\\requests\\api.py:59\u001b[0m, in \u001b[0;36mrequest\u001b[1;34m(method, url, **kwargs)\u001b[0m\n\u001b[0;32m     55\u001b[0m \u001b[38;5;66;03m# By using the 'with' statement we are sure the session is closed, thus we\u001b[39;00m\n\u001b[0;32m     56\u001b[0m \u001b[38;5;66;03m# avoid leaving sockets open which can trigger a ResourceWarning in some\u001b[39;00m\n\u001b[0;32m     57\u001b[0m \u001b[38;5;66;03m# cases, and look like a memory leak in others.\u001b[39;00m\n\u001b[0;32m     58\u001b[0m \u001b[38;5;28;01mwith\u001b[39;00m sessions\u001b[38;5;241m.\u001b[39mSession() \u001b[38;5;28;01mas\u001b[39;00m session:\n\u001b[1;32m---> 59\u001b[0m     \u001b[38;5;28;01mreturn\u001b[39;00m session\u001b[38;5;241m.\u001b[39mrequest(method\u001b[38;5;241m=\u001b[39mmethod, url\u001b[38;5;241m=\u001b[39murl, \u001b[38;5;241m*\u001b[39m\u001b[38;5;241m*\u001b[39mkwargs)\n",
      "File \u001b[1;32mc:\\Users\\Public\\anaconda3\\envs\\rioxarray_env\\lib\\site-packages\\requests\\sessions.py:589\u001b[0m, in \u001b[0;36mSession.request\u001b[1;34m(self, method, url, params, data, headers, cookies, files, auth, timeout, allow_redirects, proxies, hooks, stream, verify, cert, json)\u001b[0m\n\u001b[0;32m    584\u001b[0m send_kwargs \u001b[38;5;241m=\u001b[39m {\n\u001b[0;32m    585\u001b[0m     \u001b[38;5;124m\"\u001b[39m\u001b[38;5;124mtimeout\u001b[39m\u001b[38;5;124m\"\u001b[39m: timeout,\n\u001b[0;32m    586\u001b[0m     \u001b[38;5;124m\"\u001b[39m\u001b[38;5;124mallow_redirects\u001b[39m\u001b[38;5;124m\"\u001b[39m: allow_redirects,\n\u001b[0;32m    587\u001b[0m }\n\u001b[0;32m    588\u001b[0m send_kwargs\u001b[38;5;241m.\u001b[39mupdate(settings)\n\u001b[1;32m--> 589\u001b[0m resp \u001b[38;5;241m=\u001b[39m \u001b[38;5;28mself\u001b[39m\u001b[38;5;241m.\u001b[39msend(prep, \u001b[38;5;241m*\u001b[39m\u001b[38;5;241m*\u001b[39msend_kwargs)\n\u001b[0;32m    591\u001b[0m \u001b[38;5;28;01mreturn\u001b[39;00m resp\n",
      "File \u001b[1;32mc:\\Users\\Public\\anaconda3\\envs\\rioxarray_env\\lib\\site-packages\\requests\\sessions.py:725\u001b[0m, in \u001b[0;36mSession.send\u001b[1;34m(self, request, **kwargs)\u001b[0m\n\u001b[0;32m    722\u001b[0m \u001b[38;5;28;01mif\u001b[39;00m allow_redirects:\n\u001b[0;32m    723\u001b[0m     \u001b[38;5;66;03m# Redirect resolving generator.\u001b[39;00m\n\u001b[0;32m    724\u001b[0m     gen \u001b[38;5;241m=\u001b[39m \u001b[38;5;28mself\u001b[39m\u001b[38;5;241m.\u001b[39mresolve_redirects(r, request, \u001b[38;5;241m*\u001b[39m\u001b[38;5;241m*\u001b[39mkwargs)\n\u001b[1;32m--> 725\u001b[0m     history \u001b[38;5;241m=\u001b[39m [resp \u001b[38;5;28;01mfor\u001b[39;00m resp \u001b[38;5;129;01min\u001b[39;00m gen]\n\u001b[0;32m    726\u001b[0m \u001b[38;5;28;01melse\u001b[39;00m:\n\u001b[0;32m    727\u001b[0m     history \u001b[38;5;241m=\u001b[39m []\n",
      "File \u001b[1;32mc:\\Users\\Public\\anaconda3\\envs\\rioxarray_env\\lib\\site-packages\\requests\\sessions.py:725\u001b[0m, in \u001b[0;36m<listcomp>\u001b[1;34m(.0)\u001b[0m\n\u001b[0;32m    722\u001b[0m \u001b[38;5;28;01mif\u001b[39;00m allow_redirects:\n\u001b[0;32m    723\u001b[0m     \u001b[38;5;66;03m# Redirect resolving generator.\u001b[39;00m\n\u001b[0;32m    724\u001b[0m     gen \u001b[38;5;241m=\u001b[39m \u001b[38;5;28mself\u001b[39m\u001b[38;5;241m.\u001b[39mresolve_redirects(r, request, \u001b[38;5;241m*\u001b[39m\u001b[38;5;241m*\u001b[39mkwargs)\n\u001b[1;32m--> 725\u001b[0m     history \u001b[38;5;241m=\u001b[39m [resp \u001b[38;5;28;01mfor\u001b[39;00m resp \u001b[38;5;129;01min\u001b[39;00m gen]\n\u001b[0;32m    726\u001b[0m \u001b[38;5;28;01melse\u001b[39;00m:\n\u001b[0;32m    727\u001b[0m     history \u001b[38;5;241m=\u001b[39m []\n",
      "File \u001b[1;32mc:\\Users\\Public\\anaconda3\\envs\\rioxarray_env\\lib\\site-packages\\requests\\sessions.py:266\u001b[0m, in \u001b[0;36mSessionRedirectMixin.resolve_redirects\u001b[1;34m(self, resp, req, stream, timeout, verify, cert, proxies, yield_requests, **adapter_kwargs)\u001b[0m\n\u001b[0;32m    263\u001b[0m     \u001b[38;5;28;01myield\u001b[39;00m req\n\u001b[0;32m    264\u001b[0m \u001b[38;5;28;01melse\u001b[39;00m:\n\u001b[1;32m--> 266\u001b[0m     resp \u001b[38;5;241m=\u001b[39m \u001b[38;5;28mself\u001b[39m\u001b[38;5;241m.\u001b[39msend(\n\u001b[0;32m    267\u001b[0m         req,\n\u001b[0;32m    268\u001b[0m         stream\u001b[38;5;241m=\u001b[39mstream,\n\u001b[0;32m    269\u001b[0m         timeout\u001b[38;5;241m=\u001b[39mtimeout,\n\u001b[0;32m    270\u001b[0m         verify\u001b[38;5;241m=\u001b[39mverify,\n\u001b[0;32m    271\u001b[0m         cert\u001b[38;5;241m=\u001b[39mcert,\n\u001b[0;32m    272\u001b[0m         proxies\u001b[38;5;241m=\u001b[39mproxies,\n\u001b[0;32m    273\u001b[0m         allow_redirects\u001b[38;5;241m=\u001b[39m\u001b[38;5;28;01mFalse\u001b[39;00m,\n\u001b[0;32m    274\u001b[0m         \u001b[38;5;241m*\u001b[39m\u001b[38;5;241m*\u001b[39madapter_kwargs,\n\u001b[0;32m    275\u001b[0m     )\n\u001b[0;32m    277\u001b[0m     extract_cookies_to_jar(\u001b[38;5;28mself\u001b[39m\u001b[38;5;241m.\u001b[39mcookies, prepared_request, resp\u001b[38;5;241m.\u001b[39mraw)\n\u001b[0;32m    279\u001b[0m     \u001b[38;5;66;03m# extract redirect url, if any, for the next loop\u001b[39;00m\n",
      "File \u001b[1;32mc:\\Users\\Public\\anaconda3\\envs\\rioxarray_env\\lib\\site-packages\\requests\\sessions.py:703\u001b[0m, in \u001b[0;36mSession.send\u001b[1;34m(self, request, **kwargs)\u001b[0m\n\u001b[0;32m    700\u001b[0m start \u001b[38;5;241m=\u001b[39m preferred_clock()\n\u001b[0;32m    702\u001b[0m \u001b[38;5;66;03m# Send the request\u001b[39;00m\n\u001b[1;32m--> 703\u001b[0m r \u001b[38;5;241m=\u001b[39m adapter\u001b[38;5;241m.\u001b[39msend(request, \u001b[38;5;241m*\u001b[39m\u001b[38;5;241m*\u001b[39mkwargs)\n\u001b[0;32m    705\u001b[0m \u001b[38;5;66;03m# Total elapsed time of the request (approximately)\u001b[39;00m\n\u001b[0;32m    706\u001b[0m elapsed \u001b[38;5;241m=\u001b[39m preferred_clock() \u001b[38;5;241m-\u001b[39m start\n",
      "File \u001b[1;32mc:\\Users\\Public\\anaconda3\\envs\\rioxarray_env\\lib\\site-packages\\requests\\adapters.py:519\u001b[0m, in \u001b[0;36mHTTPAdapter.send\u001b[1;34m(self, request, stream, timeout, verify, cert, proxies)\u001b[0m\n\u001b[0;32m    515\u001b[0m     \u001b[38;5;28;01mif\u001b[39;00m \u001b[38;5;28misinstance\u001b[39m(e\u001b[38;5;241m.\u001b[39mreason, _SSLError):\n\u001b[0;32m    516\u001b[0m         \u001b[38;5;66;03m# This branch is for urllib3 v1.22 and later.\u001b[39;00m\n\u001b[0;32m    517\u001b[0m         \u001b[38;5;28;01mraise\u001b[39;00m SSLError(e, request\u001b[38;5;241m=\u001b[39mrequest)\n\u001b[1;32m--> 519\u001b[0m     \u001b[38;5;28;01mraise\u001b[39;00m \u001b[38;5;167;01mConnectionError\u001b[39;00m(e, request\u001b[38;5;241m=\u001b[39mrequest)\n\u001b[0;32m    521\u001b[0m \u001b[38;5;28;01mexcept\u001b[39;00m ClosedPoolError \u001b[38;5;28;01mas\u001b[39;00m e:\n\u001b[0;32m    522\u001b[0m     \u001b[38;5;28;01mraise\u001b[39;00m \u001b[38;5;167;01mConnectionError\u001b[39;00m(e, request\u001b[38;5;241m=\u001b[39mrequest)\n",
      "\u001b[1;31mConnectionError\u001b[0m: HTTPSConnectionPool(host='www.webmd.com', port=443): Max retries exceeded with url: /404 (Caused by NameResolutionError(\"<urllib3.connection.HTTPSConnection object at 0x0000015515D96190>: Failed to resolve 'www.webmd.com' ([Errno 11001] getaddrinfo failed)\"))"
     ]
    }
   ],
   "source": [
    "#all drugs\n",
    "for review_url in tqdm(review_urls):\n",
    "    response = requests.get(review_url, headers=headers)\n",
    "    if response.url == 'https://www.webmd.com/404':\n",
    "        print(f'skipping {review_url}: page not found')\n",
    "    else:\n",
    "        print(review_url)\n",
    "        reviews_df = crawl_reviews_pages(review_url, reviews_df)\n"
   ]
  },
  {
   "cell_type": "code",
   "execution_count": null,
   "metadata": {},
   "outputs": [],
   "source": [
    "reviews_df.to_csv('../data/multipleconditions_reviews.csv')"
   ]
  }
 ],
 "metadata": {
  "kernelspec": {
   "display_name": "rioxarray_env",
   "language": "python",
   "name": "python3"
  },
  "language_info": {
   "codemirror_mode": {
    "name": "ipython",
    "version": 3
   },
   "file_extension": ".py",
   "mimetype": "text/x-python",
   "name": "python",
   "nbconvert_exporter": "python",
   "pygments_lexer": "ipython3",
   "version": "3.9.18"
  }
 },
 "nbformat": 4,
 "nbformat_minor": 2
}
