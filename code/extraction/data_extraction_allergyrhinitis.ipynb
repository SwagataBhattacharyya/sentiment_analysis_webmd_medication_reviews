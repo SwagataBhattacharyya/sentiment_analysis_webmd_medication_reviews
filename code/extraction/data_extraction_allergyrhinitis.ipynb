{
 "cells": [
  {
   "cell_type": "markdown",
   "metadata": {},
   "source": [
    "Medication reviews extracted from webmd for diabetes type 2 mellitus.\n",
    "\n",
    "Source code applied to extract reviews from web.MD: 'https://github.com/sepidehparhami/scraping-webmd-drug-reviews/tree/main'. "
   ]
  },
  {
   "cell_type": "code",
   "execution_count": 4,
   "metadata": {},
   "outputs": [
    {
     "data": {
      "text/plain": [
       "array(['https://reviews.webmd.com/drugs/drugreview-10006-diphenhist',\n",
       "       'https://reviews.webmd.com/drugs/drugreview-10016-nd-gesic-tablet',\n",
       "       'https://reviews.webmd.com/drugs/drugreview-10026-aler-dryl-tablet',\n",
       "       'https://reviews.webmd.com/drugs/drugreview-10027-sleep-ettes-d-tablet',\n",
       "       'https://reviews.webmd.com/drugs/drugreview-10130-dexbrompheniramine-maleate-tablet',\n",
       "       'https://reviews.webmd.com/drugs/drugreview-10142-isodex-tablet',\n",
       "       'https://reviews.webmd.com/drugs/drugreview-10373-hm-allergy-tablet',\n",
       "       'https://reviews.webmd.com/drugs/drugreview-10387-mdl-allergy-tablet',\n",
       "       'https://reviews.webmd.com/drugs/drugreview-10390-mdl-antihistamine-capsule',\n",
       "       'https://reviews.webmd.com/drugs/drugreview-108-osco-childrens-non-asa-cold-tablet-chewable',\n",
       "       'https://reviews.webmd.com/drugs/drugreview-148754-wal-som',\n",
       "       'https://reviews.webmd.com/drugs/drugreview-148782-complete-allergy-and-sinus-d-tablet',\n",
       "       'https://reviews.webmd.com/drugs/drugreview-148783-severe-allergy',\n",
       "       'https://reviews.webmd.com/drugs/drugreview-148801-chlorphen-pseudoephedrine-zinc-combination-package-capsule-12-hr-and-lozenge-comb-lozenge',\n",
       "       'https://reviews.webmd.com/drugs/drugreview-148818-zinx-allergy-kit-combination-package-capsule-12-hr-and-lozenge-comb-lozenge',\n",
       "       'https://reviews.webmd.com/drugs/drugreview-148824-sutan-suspension',\n",
       "       'https://reviews.webmd.com/drugs/drugreview-148826-allergy-m-s-nighttime-tablet',\n",
       "       'https://reviews.webmd.com/drugs/drugreview-148834-brovex-pd-suspension',\n",
       "       'https://reviews.webmd.com/drugs/drugreview-148864-tanabid-da-suspension',\n",
       "       'https://reviews.webmd.com/drugs/drugreview-152976-tekral-tablet-er-12-hr',\n",
       "       'https://reviews.webmd.com/drugs/drugreview-152984-bepotastine-besilate-drops',\n",
       "       'https://reviews.webmd.com/drugs/drugreview-152991-pain-sleep',\n",
       "       'https://reviews.webmd.com/drugs/drugreview-152994-bepreve-drops',\n",
       "       'https://reviews.webmd.com/drugs/drugreview-153015-sinutrol-pe',\n",
       "       'https://reviews.webmd.com/drugs/drugreview-153045-childrens-aller-tec',\n",
       "       'https://reviews.webmd.com/drugs/drugreview-153062-phenyleph-diphenhyd-phenyleph-tablet-sequential',\n",
       "       'https://reviews.webmd.com/drugs/drugreview-153072-childrens-wal-dryl-allergy',\n",
       "       'https://reviews.webmd.com/drugs/drugreview-153123-sudafed-pe-day-night',\n",
       "       'https://reviews.webmd.com/drugs/drugreview-153176-chlorphenir-phenylephrn-aspirn-tablet-effervescent',\n",
       "       'https://reviews.webmd.com/drugs/drugreview-153186-alka-seltzer-plus-cold',\n",
       "       'https://reviews.webmd.com/drugs/drugreview-153234-zyrtec-itchy-eye-drops-keto',\n",
       "       'https://reviews.webmd.com/drugs/drugreview-153319-pyrichlor-pe-liquid',\n",
       "       'https://reviews.webmd.com/drugs/drugreview-153324-onetab-allergy-and-sinus-tablet',\n",
       "       'https://reviews.webmd.com/drugs/drugreview-153325-onetab-cold-and-flu-tablet',\n",
       "       'https://reviews.webmd.com/drugs/drugreview-153384-brovex-peb-liquid',\n",
       "       'https://reviews.webmd.com/drugs/drugreview-153412-bromax-tablet-er-12-hr',\n",
       "       'https://reviews.webmd.com/drugs/drugreview-153593-omadryl-da-suspension',\n",
       "       'https://reviews.webmd.com/drugs/drugreview-153602-v-hist-suspension',\n",
       "       'https://reviews.webmd.com/drugs/drugreview-153658-cpm-pse-drops',\n",
       "       'https://reviews.webmd.com/drugs/drugreview-153724-trip-pse-liquid',\n",
       "       'https://reviews.webmd.com/drugs/drugreview-153810-entre-b-suspension',\n",
       "       'https://reviews.webmd.com/drugs/drugreview-153820-dexbrompheniramine-phenylephrn',\n",
       "       'https://reviews.webmd.com/drugs/drugreview-153821-ala-hist-ir',\n",
       "       'https://reviews.webmd.com/drugs/drugreview-153832-ala-hist-pe-tablet',\n",
       "       'https://reviews.webmd.com/drugs/drugreview-154-dimephenyl-elixir',\n",
       "       'https://reviews.webmd.com/drugs/drugreview-154158-sudogest-sinus-and-allergy',\n",
       "       'https://reviews.webmd.com/drugs/drugreview-154219-triprolid-pseudoephed-polistrx-liquid',\n",
       "       'https://reviews.webmd.com/drugs/drugreview-154247-theraflu-sinus-and-cold-20-10-325-powder-packet',\n",
       "       'https://reviews.webmd.com/drugs/drugreview-154286-relhist-tablet-chewable',\n",
       "       'https://reviews.webmd.com/drugs/drugreview-154298-pediatex-ps-liquid',\n",
       "       'https://reviews.webmd.com/drugs/drugreview-154366-wal-zyr-drops',\n",
       "       'https://reviews.webmd.com/drugs/drugreview-154447-child-delsym-cough-cold-night-solution',\n",
       "       'https://reviews.webmd.com/drugs/drugreview-154503-childs-dibromm-cold-allergy',\n",
       "       'https://reviews.webmd.com/drugs/drugreview-154592-all-day-allergy-reliefcetir-tablet',\n",
       "       'https://reviews.webmd.com/drugs/drugreview-155-ordrine-er-capsule',\n",
       "       'https://reviews.webmd.com/drugs/drugreview-159384-triprolidine-pse-acetaminophen-tablet',\n",
       "       'https://reviews.webmd.com/drugs/drugreview-159600-ultra-sleep-diphenhydramine-tablet',\n",
       "       'https://reviews.webmd.com/drugs/drugreview-159734-nasal-decongestant-ppa-tablet',\n",
       "       'https://reviews.webmd.com/drugs/drugreview-159861-diphenhydramine-0-9-nacl-solution-piggyback',\n",
       "       'https://reviews.webmd.com/drugs/drugreview-159921-allergy-complete-d',\n",
       "       'https://reviews.webmd.com/drugs/drugreview-159922-childrens-allergy-complete-solution',\n",
       "       'https://reviews.webmd.com/drugs/drugreview-159937-child-delsym-nighttime-c-c-liquid',\n",
       "       'https://reviews.webmd.com/drugs/drugreview-160434-norel-ad',\n",
       "       'https://reviews.webmd.com/drugs/drugreview-160741-azelastine-fluticasone-aerosol-spray-with-pump',\n",
       "       'https://reviews.webmd.com/drugs/drugreview-162585-brohist-d',\n",
       "       'https://reviews.webmd.com/drugs/drugreview-162718-multi-symptom-allergy-relief',\n",
       "       'https://reviews.webmd.com/drugs/drugreview-162719-allergy-relief-sinus-headache-tablet',\n",
       "       'https://reviews.webmd.com/drugs/drugreview-162721-severe-cold-diphen-pe-acetam-tablet',\n",
       "       'https://reviews.webmd.com/drugs/drugreview-162825-alka-seltzer-plus-allergy',\n",
       "       'https://reviews.webmd.com/drugs/drugreview-171591-allergy-congestion-12hr',\n",
       "       'https://reviews.webmd.com/drugs/drugreview-171629-cold-and-allergy-relief-pe-tablet',\n",
       "       'https://reviews.webmd.com/drugs/drugreview-171630-cold-and-allergy-relief-cpm-tablet',\n",
       "       'https://reviews.webmd.com/drugs/drugreview-171631-cold-and-allergy-relief-ppa-tablet',\n",
       "       'https://reviews.webmd.com/drugs/drugreview-171763-allergy-relief-spray-suspension',\n",
       "       'https://reviews.webmd.com/drugs/drugreview-172007-aller-flo-spray-suspension',\n",
       "       'https://reviews.webmd.com/drugs/drugreview-172026-acticon',\n",
       "       'https://reviews.webmd.com/drugs/drugreview-172078-24hour-allergy',\n",
       "       'https://reviews.webmd.com/drugs/drugreview-172144-clarispray-spray-suspension',\n",
       "       'https://reviews.webmd.com/drugs/drugreview-172523-glenmax-peb',\n",
       "       'https://reviews.webmd.com/drugs/drugreview-172603-glen-pe',\n",
       "       'https://reviews.webmd.com/drugs/drugreview-172750-vicks-sinex-nighttime-capsule',\n",
       "       'https://reviews.webmd.com/drugs/drugreview-172793-vanaclear-pd-drops',\n",
       "       'https://reviews.webmd.com/drugs/drugreview-172801-vanamine-pd-drops',\n",
       "       'https://reviews.webmd.com/drugs/drugreview-172867-m-hist-pd-drops',\n",
       "       'https://reviews.webmd.com/drugs/drugreview-18101-ex-dec-tr-tablet-er',\n",
       "       'https://reviews.webmd.com/drugs/drugreview-18127-complete-allergy-medication-tablet',\n",
       "       'https://reviews.webmd.com/drugs/drugreview-18368-actifed-sinus-tablet',\n",
       "       'https://reviews.webmd.com/drugs/drugreview-18383-actifed-sinus-daytime-night-tablet',\n",
       "       'https://reviews.webmd.com/drugs/drugreview-187285-alka-seltzer-severe-cold',\n",
       "       'https://reviews.webmd.com/drugs/drugreview-187440-advil-multi-symptom-cold-flu',\n",
       "       'https://reviews.webmd.com/drugs/drugreview-187898-maxallergy-kids',\n",
       "       'https://reviews.webmd.com/drugs/drugreview-188088-giltuss-d-allergy-congestion',\n",
       "       'https://reviews.webmd.com/drugs/drugreview-18899-novadyne-elixir',\n",
       "       'https://reviews.webmd.com/drugs/drugreview-18899-novadyne-solution',\n",
       "       'https://reviews.webmd.com/drugs/drugreview-18906-histatan-tablet',\n",
       "       'https://reviews.webmd.com/drugs/drugreview-18908-bayer-select-night-time-pain-tablet',\n",
       "       'https://reviews.webmd.com/drugs/drugreview-19035-diphenadryl-elixir',\n",
       "       'https://reviews.webmd.com/drugs/drugreview-19037-ru-tuss-elixir',\n",
       "       'https://reviews.webmd.com/drugs/drugreview-19037-ru-tuss-liquid',\n",
       "       'https://reviews.webmd.com/drugs/drugreview-19037-ru-tuss-tablet-er-12-hr',\n",
       "       'https://reviews.webmd.com/drugs/drugreview-19076-mooretan-decongestant-tablet',\n",
       "       'https://reviews.webmd.com/drugs/drugreview-19122-valuphed-actamine-tablet',\n",
       "       'https://reviews.webmd.com/drugs/drugreview-19123-pseudoval-plus-tablet',\n",
       "       'https://reviews.webmd.com/drugs/drugreview-19126-actihist-syrup',\n",
       "       'https://reviews.webmd.com/drugs/drugreview-19127-valuphed-syrup',\n",
       "       'https://reviews.webmd.com/drugs/drugreview-19251-fv-antitussive-cough-formula-syrup',\n",
       "       'https://reviews.webmd.com/drugs/drugreview-19253-hm-antitussive-syrup',\n",
       "       'https://reviews.webmd.com/drugs/drugreview-19280-decongest-elixir',\n",
       "       'https://reviews.webmd.com/drugs/drugreview-19280-decongest-liquid',\n",
       "       'https://reviews.webmd.com/drugs/drugreview-19348-maldec-s-syrup',\n",
       "       'https://reviews.webmd.com/drugs/drugreview-19353-mooredec-tr-tablet-er',\n",
       "       'https://reviews.webmd.com/drugs/drugreview-19354-rondamine-s-syrup',\n",
       "       'https://reviews.webmd.com/drugs/drugreview-19357-sudaminic-plus-liquid',\n",
       "       'https://reviews.webmd.com/drugs/drugreview-19361-trimixol-syrup',\n",
       "       'https://reviews.webmd.com/drugs/drugreview-19493-fv-effervescent-cold-relief-tablet',\n",
       "       'https://reviews.webmd.com/drugs/drugreview-19535-valu-dryl-allergy-liquid',\n",
       "       'https://reviews.webmd.com/drugs/drugreview-19565-siladryl',\n",
       "       'https://reviews.webmd.com/drugs/drugreview-19570-aler-tab-tablet',\n",
       "       'https://reviews.webmd.com/drugs/drugreview-19574-pemirolast-potassium-drops',\n",
       "       'https://reviews.webmd.com/drugs/drugreview-19580-alamast-drops',\n",
       "       'https://reviews.webmd.com/drugs/drugreview-19747-phena-s-liquid',\n",
       "       'https://reviews.webmd.com/drugs/drugreview-198-osco-grape-elixir',\n",
       "       'https://reviews.webmd.com/drugs/drugreview-19846-ordrine-sa-capsule-er',\n",
       "       'https://reviews.webmd.com/drugs/drugreview-20002-tanamine-pediatric-suspension',\n",
       "       'https://reviews.webmd.com/drugs/drugreview-217-pain-reliever-allergy-sinus-tablet',\n",
       "       'https://reviews.webmd.com/drugs/drugreview-252-carbic-d-syrup',\n",
       "       'https://reviews.webmd.com/drugs/drugreview-265-trimaphen-syrup',\n",
       "       'https://reviews.webmd.com/drugs/drugreview-267-non-aspirin-allergy-sinus-tablet',\n",
       "       'https://reviews.webmd.com/drugs/drugreview-274-allergy-tablet',\n",
       "       'https://reviews.webmd.com/drugs/drugreview-277-benadryl-cold-tablet',\n",
       "       'https://reviews.webmd.com/drugs/drugreview-291-benadryl-allergy-cold-tablet',\n",
       "       'https://reviews.webmd.com/drugs/drugreview-293-dayhist-1-tablet',\n",
       "       'https://reviews.webmd.com/drugs/drugreview-295-aphedrid-tablet',\n",
       "       'https://reviews.webmd.com/drugs/drugreview-311-contac-12-hour-allergy-tablet',\n",
       "       'https://reviews.webmd.com/drugs/drugreview-410-semprex-d-capsule',\n",
       "       'https://reviews.webmd.com/drugs/drugreview-411-sleepinal-maximum-strength-capsule',\n",
       "       'https://reviews.webmd.com/drugs/drugreview-412-diphenhydramine-hcl-sleep-capsule',\n",
       "       'https://reviews.webmd.com/drugs/drugreview-423-bromtapp-tablet',\n",
       "       'https://reviews.webmd.com/drugs/drugreview-446-sav-on-allergy-sinus-headache-tablet',\n",
       "       'https://reviews.webmd.com/drugs/drugreview-449-sav-on-antihistamine-allergy-tablet',\n",
       "       'https://reviews.webmd.com/drugs/drugreview-450-sav-on-aphedrid-tablet',\n",
       "       'https://reviews.webmd.com/drugs/drugreview-482-sav-on-allergy-tablet',\n",
       "       'https://reviews.webmd.com/drugs/drugreview-484-tri-gestan-s-suspension',\n",
       "       'https://reviews.webmd.com/drugs/drugreview-512-pain-reliever-sleep-aid-tablet',\n",
       "       'https://reviews.webmd.com/drugs/drugreview-524-tritan-tablet',\n",
       "       'https://reviews.webmd.com/drugs/drugreview-534-sav-on-aspirin-free-cold-tablet',\n",
       "       'https://reviews.webmd.com/drugs/drugreview-54322-colrex-capsule',\n",
       "       'https://reviews.webmd.com/drugs/drugreview-54322-colrex-syrup',\n",
       "       'https://reviews.webmd.com/drugs/drugreview-54381-phenapap-tablet',\n",
       "       'https://reviews.webmd.com/drugs/drugreview-54384-sinus-tablet',\n",
       "       'https://reviews.webmd.com/drugs/drugreview-54386-tylenol-sinus-day-night-pack-tablet',\n",
       "       'https://reviews.webmd.com/drugs/drugreview-54386-tylenol-sinus-day-night-pack-tablet-sequential',\n",
       "       'https://reviews.webmd.com/drugs/drugreview-54388-sinus-aid-tablet',\n",
       "       'https://reviews.webmd.com/drugs/drugreview-54392-sinutab-tablet',\n",
       "       'https://reviews.webmd.com/drugs/drugreview-54431-non-aspirin-severe-allergy-tablet',\n",
       "       'https://reviews.webmd.com/drugs/drugreview-54432-allergy-severe-tablet',\n",
       "       'https://reviews.webmd.com/drugs/drugreview-54433-pain-relief-severe-congestion-tablet',\n",
       "       'https://reviews.webmd.com/drugs/drugreview-54434-trinalin-tablet-er',\n",
       "       'https://reviews.webmd.com/drugs/drugreview-54435-brompheniramine-phenylprop-tablet',\n",
       "       'https://reviews.webmd.com/drugs/drugreview-54437-dimahist-tablet',\n",
       "       'https://reviews.webmd.com/drugs/drugreview-54438-pharm-a-grape-tablet',\n",
       "       'https://reviews.webmd.com/drugs/drugreview-54439-nasal-decon-anti-hist-tablet',\n",
       "       'https://reviews.webmd.com/drugs/drugreview-54440-brom-tapp-tablet',\n",
       "       'https://reviews.webmd.com/drugs/drugreview-54441-alanate-tr-tablet',\n",
       "       'https://reviews.webmd.com/drugs/drugreview-54443-alcomed-ca-liquid',\n",
       "       'https://reviews.webmd.com/drugs/drugreview-54444-allerhist-elixir',\n",
       "       'https://reviews.webmd.com/drugs/drugreview-54446-allergy-and-cold-elixir',\n",
       "       'https://reviews.webmd.com/drugs/drugreview-54447-phenetapp-elixir',\n",
       "       'https://reviews.webmd.com/drugs/drugreview-54448-purebrom-elixir',\n",
       "       'https://reviews.webmd.com/drugs/drugreview-54449-histatapp-elixir',\n",
       "       'https://reviews.webmd.com/drugs/drugreview-54450-baltapp-elixir',\n",
       "       'https://reviews.webmd.com/drugs/drugreview-54451-wal-tap',\n",
       "       'https://reviews.webmd.com/drugs/drugreview-54452-allergy-elixir-ppa',\n",
       "       'https://reviews.webmd.com/drugs/drugreview-54453-brotep-elixir',\n",
       "       'https://reviews.webmd.com/drugs/drugreview-54454-uni-brom-elixir',\n",
       "       'https://reviews.webmd.com/drugs/drugreview-54455-tamine-elixir',\n",
       "       'https://reviews.webmd.com/drugs/drugreview-54456-brom-cortann-elixir',\n",
       "       'https://reviews.webmd.com/drugs/drugreview-54457-grape-flavored-elixir',\n",
       "       'https://reviews.webmd.com/drugs/drugreview-54459-nasal-decongestant-antihist-tablet',\n",
       "       'https://reviews.webmd.com/drugs/drugreview-54460-decongestant-anthistamine-elixir',\n",
       "       'https://reviews.webmd.com/drugs/drugreview-54461-di-brom-elixir',\n",
       "       'https://reviews.webmd.com/drugs/drugreview-54462-bromatol-elixir',\n",
       "       'https://reviews.webmd.com/drugs/drugreview-54463-e-tapp-elixir',\n",
       "       'https://reviews.webmd.com/drugs/drugreview-54464-bromophen-elixir',\n",
       "       'https://reviews.webmd.com/drugs/drugreview-54465-di-bromm-elixir',\n",
       "       'https://reviews.webmd.com/drugs/drugreview-54466-allergy-and-cold-tab-tablet-er-12-hr',\n",
       "       'https://reviews.webmd.com/drugs/drugreview-54467-cold-allergy-tablet-er-12-hr',\n",
       "       'https://reviews.webmd.com/drugs/drugreview-54468-brom-tap-tablet-er-12-hr',\n",
       "       'https://reviews.webmd.com/drugs/drugreview-54469-gen-tapp-tablet-er-12-hr',\n",
       "       'https://reviews.webmd.com/drugs/drugreview-54470-er-tablet-12-hr',\n",
       "       'https://reviews.webmd.com/drugs/drugreview-54471-e-n-t-tablet-er-12-hr',\n",
       "       'https://reviews.webmd.com/drugs/drugreview-54473-congestab-tablet-er-12-hr',\n",
       "       'https://reviews.webmd.com/drugs/drugreview-54474-pioten-tablet-er-12-hr',\n",
       "       'https://reviews.webmd.com/drugs/drugreview-54475-dibromm-er-tablet-12-hr',\n",
       "       'https://reviews.webmd.com/drugs/drugreview-54476-brompheniramine-w-pseudoephed-capsule-er',\n",
       "       'https://reviews.webmd.com/drugs/drugreview-54477-bromfed-pd-capsule-er',\n",
       "       'https://reviews.webmd.com/drugs/drugreview-54478-b-fedrine-pd-capsule-er',\n",
       "       'https://reviews.webmd.com/drugs/drugreview-54479-poly-histine-dx-capsule-er',\n",
       "       'https://reviews.webmd.com/drugs/drugreview-54480-nalfed-capsule-er',\n",
       "       'https://reviews.webmd.com/drugs/drugreview-54481-m-hist-capsule-er',\n",
       "       'https://reviews.webmd.com/drugs/drugreview-54482-nadex-capsule-er',\n",
       "       'https://reviews.webmd.com/drugs/drugreview-54483-nasafed-capsule-er',\n",
       "       'https://reviews.webmd.com/drugs/drugreview-54484-dristan-allergy-tablet',\n",
       "       'https://reviews.webmd.com/drugs/drugreview-54485-sb-cold-allergy-elixir',\n",
       "       'https://reviews.webmd.com/drugs/drugreview-54486-drix-syrup',\n",
       "       'https://reviews.webmd.com/drugs/drugreview-54487-pseudophedrine-w-carbinoxamine-tablet',\n",
       "       'https://reviews.webmd.com/drugs/drugreview-54488-pseudophedrine-carbinoxamine-tablet-er',\n",
       "       'https://reviews.webmd.com/drugs/drugreview-54489-andec-tr-tablet-er',\n",
       "       'https://reviews.webmd.com/drugs/drugreview-54490-carbinoxamine-pseudoephedrine-tablet-er',\n",
       "       'https://reviews.webmd.com/drugs/drugreview-54492-carbiset-tr-tablet-er',\n",
       "       'https://reviews.webmd.com/drugs/drugreview-54493-pseudoephedrine-carbinoxamine-tablet-er',\n",
       "       'https://reviews.webmd.com/drugs/drugreview-54494-carbinoxamine-w-pseudoephed-syrup',\n",
       "       'https://reviews.webmd.com/drugs/drugreview-54495-harberdec-s-syrup',\n",
       "       'https://reviews.webmd.com/drugs/drugreview-54496-rex-a-hist-3-elixir',\n",
       "       'https://reviews.webmd.com/drugs/drugreview-54497-dihistine-elixir',\n",
       "       'https://reviews.webmd.com/drugs/drugreview-54497-dihistine-liquid',\n",
       "       'https://reviews.webmd.com/drugs/drugreview-54497-dihistine-syrup',\n",
       "       'https://reviews.webmd.com/drugs/drugreview-54498-phenarex-elixir',\n",
       "       'https://reviews.webmd.com/drugs/drugreview-54499-alamine-elixir',\n",
       "       'https://reviews.webmd.com/drugs/drugreview-54500-calhistine-elixir',\n",
       "       'https://reviews.webmd.com/drugs/drugreview-54501-tri-hist-elixir',\n",
       "       'https://reviews.webmd.com/drugs/drugreview-54541-proponade-capsule-er',\n",
       "       'https://reviews.webmd.com/drugs/drugreview-54542-condrin-la-capsule-er',\n",
       "       'https://reviews.webmd.com/drugs/drugreview-54543-phenylpropanolamine-w-cpm-capsule-er',\n",
       "       'https://reviews.webmd.com/drugs/drugreview-54544-sterinade-capsule-er',\n",
       "       'https://reviews.webmd.com/drugs/drugreview-54545-oraminic-capsule-er',\n",
       "       'https://reviews.webmd.com/drugs/drugreview-54546-decongen-capsule-er',\n",
       "       'https://reviews.webmd.com/drugs/drugreview-54547-balnade-capsule-er',\n",
       "       'https://reviews.webmd.com/drugs/drugreview-54548-parhist-capsule-er',\n",
       "       'https://reviews.webmd.com/drugs/drugreview-54549-sinuade-capsule-er',\n",
       "       'https://reviews.webmd.com/drugs/drugreview-54550-sinexen-capsule-er',\n",
       "       'https://reviews.webmd.com/drugs/drugreview-54551-prochlor-iso-capsule-er',\n",
       "       'https://reviews.webmd.com/drugs/drugreview-54552-cpa-timed-release-capsule-er',\n",
       "       'https://reviews.webmd.com/drugs/drugreview-54553-dehist-sa-capsule-er',\n",
       "       'https://reviews.webmd.com/drugs/drugreview-54554-truxade-capsule-er',\n",
       "       'https://reviews.webmd.com/drugs/drugreview-54555-chlorprophen-capsule-er',\n",
       "       'https://reviews.webmd.com/drugs/drugreview-54556-capade-capsule-er',\n",
       "       'https://reviews.webmd.com/drugs/drugreview-54557-propanade-capsule-er',\n",
       "       'https://reviews.webmd.com/drugs/drugreview-54558-propagen-capsule-er',\n",
       "       'https://reviews.webmd.com/drugs/drugreview-54559-combat-12-hour-formula-capsule-er',\n",
       "       'https://reviews.webmd.com/drugs/drugreview-54560-or-phen-ade-capsule-er',\n",
       "       'https://reviews.webmd.com/drugs/drugreview-54561-orahist-liquid',\n",
       "       'https://reviews.webmd.com/drugs/drugreview-54561-orahist-syrup',\n",
       "       'https://reviews.webmd.com/drugs/drugreview-54562-deconade-capsule-er',\n",
       "       'https://reviews.webmd.com/drugs/drugreview-54563-uni-ade-no-2-capsule-er',\n",
       "       'https://reviews.webmd.com/drugs/drugreview-54564-bionade-capsule-er',\n",
       "       'https://reviews.webmd.com/drugs/drugreview-54566-profenade-capsule-er',\n",
       "       'https://reviews.webmd.com/drugs/drugreview-54567-decongex-3-capsule-er',\n",
       "       'https://reviews.webmd.com/drugs/drugreview-54568-decospan-ii-capsule-er',\n",
       "       'https://reviews.webmd.com/drugs/drugreview-54601-allerest-12-hour-tablet-er',\n",
       "       'https://reviews.webmd.com/drugs/drugreview-54602-profenade-no-2-tablet-er',\n",
       "       'https://reviews.webmd.com/drugs/drugreview-54644-pseudafen-plus-tablet',\n",
       "       'https://reviews.webmd.com/drugs/drugreview-54645-su-phed-plus-tablet',\n",
       "       'https://reviews.webmd.com/drugs/drugreview-54646-nasal-decongestant-plus-tablet',\n",
       "       'https://reviews.webmd.com/drugs/drugreview-54647-su-phedrine-plus-tablet',\n",
       "       'https://reviews.webmd.com/drugs/drugreview-54648-suphedrine-plus-tablet',\n",
       "       'https://reviews.webmd.com/drugs/drugreview-54649-su-phedrin-plus-tablet',\n",
       "       'https://reviews.webmd.com/drugs/drugreview-54650-sud-o-med-plus-tablet',\n",
       "       'https://reviews.webmd.com/drugs/drugreview-54652-su-phedrine-plus-tablet',\n",
       "       'https://reviews.webmd.com/drugs/drugreview-54653-orphedral-ad-tablet',\n",
       "       'https://reviews.webmd.com/drugs/drugreview-54656-pediacare-cold-and-allergy-tablet-chewable',\n",
       "       'https://reviews.webmd.com/drugs/drugreview-54657-decophed-plus-liquid',\n",
       "       'https://reviews.webmd.com/drugs/drugreview-54658-q-fed-plus-liquid',\n",
       "       'https://reviews.webmd.com/drugs/drugreview-54659-anafed-liquid',\n",
       "       'https://reviews.webmd.com/drugs/drugreview-54660-co-pyronil-2-liquid',\n",
       "       'https://reviews.webmd.com/drugs/drugreview-54661-myfedrine-plus-liquid',\n",
       "       'https://reviews.webmd.com/drugs/drugreview-54662-iso-liquid',\n",
       "       'https://reviews.webmd.com/drugs/drugreview-54662-iso-syrup',\n",
       "       'https://reviews.webmd.com/drugs/drugreview-54667-nalex-plain-df-liquid',\n",
       "       'https://reviews.webmd.com/drugs/drugreview-54668-pseudoephedrine-chlorphenir-liquid',\n",
       "       'https://reviews.webmd.com/drugs/drugreview-54669-isochlor-liquid',\n",
       "       'https://reviews.webmd.com/drugs/drugreview-54670-anaplex-liquid',\n",
       "       'https://reviews.webmd.com/drugs/drugreview-54671-triacting-orange-syrup',\n",
       "       'https://reviews.webmd.com/drugs/drugreview-54672-dorcol-childrens-cold-formula-liquid',\n",
       "       'https://reviews.webmd.com/drugs/drugreview-54673-pediacare-cold-formula-liquid',\n",
       "       'https://reviews.webmd.com/drugs/drugreview-54717-efedra-tablet-er-12-hr',\n",
       "       'https://reviews.webmd.com/drugs/drugreview-54718-sinutab-allergy-formula-tablet-er-12-hr',\n",
       "       'https://reviews.webmd.com/drugs/drugreview-54719-d-brom-tablet-er-12-hr',\n",
       "       'https://reviews.webmd.com/drugs/drugreview-54720-bromphed-tablet-er-12-hr',\n",
       "       'https://reviews.webmd.com/drugs/drugreview-54721-aller-con-tablet-er-12-hr',\n",
       "       'https://reviews.webmd.com/drugs/drugreview-54722-demihist-td-tablet-er-12-hr',\n",
       "       'https://reviews.webmd.com/drugs/drugreview-54723-dishist-td-tablet-er-12-hr',\n",
       "       'https://reviews.webmd.com/drugs/drugreview-54724-histaril-tablet-er-12-hr',\n",
       "       'https://reviews.webmd.com/drugs/drugreview-54725-12-hour-allergy-cold-medicine-tablet-er-12-hr',\n",
       "       'https://reviews.webmd.com/drugs/drugreview-54726-antihistamine-nasal-decongest-tablet-er-12-hr',\n",
       "       'https://reviews.webmd.com/drugs/drugreview-54727-sud-tablet-er-12-hr',\n",
       "       'https://reviews.webmd.com/drugs/drugreview-54728-crexaca-tablet-er-12-hr',\n",
       "       'https://reviews.webmd.com/drugs/drugreview-54729-nadex-plus-tablet-er-12-hr',\n",
       "       'https://reviews.webmd.com/drugs/drugreview-54730-sidcon-tablet-er-12-hr',\n",
       "       'https://reviews.webmd.com/drugs/drugreview-54731-re-drix-tablet-er-12-hr',\n",
       "       'https://reviews.webmd.com/drugs/drugreview-54732-drixophed-tablet-er-12-hr',\n",
       "       'https://reviews.webmd.com/drugs/drugreview-54733-ami-drix-tablet-er-12-hr',\n",
       "       'https://reviews.webmd.com/drugs/drugreview-54734-dexohist-tablet-er-12-hr',\n",
       "       'https://reviews.webmd.com/drugs/drugreview-54735-dexbrom-sudo-tablet-er-12-hr',\n",
       "       'https://reviews.webmd.com/drugs/drugreview-54736-cheracol-sinus-tablet-er-12-hr',\n",
       "       'https://reviews.webmd.com/drugs/drugreview-54737-dexaphed-sr-tablet-er-12-hr',\n",
       "       'https://reviews.webmd.com/drugs/drugreview-54738-resp-tablet-er-12-hr',\n",
       "       'https://reviews.webmd.com/drugs/drugreview-54739-decongestant-allergy-tablet',\n",
       "       'https://reviews.webmd.com/drugs/drugreview-54740-allergy-medicine-w-decongest-tablet',\n",
       "       'https://reviews.webmd.com/drugs/drugreview-54741-mallergan-vc-syrup',\n",
       "       'https://reviews.webmd.com/drugs/drugreview-54742-chemergan-vc-syrup',\n",
       "       'https://reviews.webmd.com/drugs/drugreview-54743-phen-tuss-ad-syrup',\n",
       "       'https://reviews.webmd.com/drugs/drugreview-54744-rhinatate-12-pediatric-suspension',\n",
       "       'https://reviews.webmd.com/drugs/drugreview-54745-triprolidine-w-pseudoephedrine-tablet',\n",
       "       'https://reviews.webmd.com/drugs/drugreview-54746-tagafed-tablet',\n",
       "       'https://reviews.webmd.com/drugs/drugreview-54747-alleract-tablet',\n",
       "       'https://reviews.webmd.com/drugs/drugreview-54749-corphed-tablet',\n",
       "       'https://reviews.webmd.com/drugs/drugreview-54750-a-rex-tablet',\n",
       "       'https://reviews.webmd.com/drugs/drugreview-54751-triacin-tablet',\n",
       "       'https://reviews.webmd.com/drugs/drugreview-54752-actagen-tablet',\n",
       "       'https://reviews.webmd.com/drugs/drugreview-54753-sterafed-tablet',\n",
       "       'https://reviews.webmd.com/drugs/drugreview-54754-suhist-tablet',\n",
       "       'https://reviews.webmd.com/drugs/drugreview-54755-norafed-tablet',\n",
       "       'https://reviews.webmd.com/drugs/drugreview-54756-atrofed-tablet',\n",
       "       'https://reviews.webmd.com/drugs/drugreview-54757-acti-prem-tablet',\n",
       "       'https://reviews.webmd.com/drugs/drugreview-54758-t-pseud-tablet',\n",
       "       'https://reviews.webmd.com/drugs/drugreview-54759-trisudex-tablet',\n",
       "       'https://reviews.webmd.com/drugs/drugreview-54760-trofedrin-tablet',\n",
       "       'https://reviews.webmd.com/drugs/drugreview-54761-allerfrin-tablet',\n",
       "       'https://reviews.webmd.com/drugs/drugreview-54762-actahist-tablet',\n",
       "       'https://reviews.webmd.com/drugs/drugreview-54763-actegen-tablet',\n",
       "       'https://reviews.webmd.com/drugs/drugreview-54764-actacin-tablet',\n",
       "       'https://reviews.webmd.com/drugs/drugreview-54765-antihistamine-w-decongestant-tablet',\n",
       "       'https://reviews.webmd.com/drugs/drugreview-54766-uni-fed-tablet',\n",
       "       'https://reviews.webmd.com/drugs/drugreview-54767-bioclear-tablet',\n",
       "       'https://reviews.webmd.com/drugs/drugreview-54768-allergy-cold-tablet',\n",
       "       'https://reviews.webmd.com/drugs/drugreview-54769-acticon-triprolidine-pse-tablet',\n",
       "       'https://reviews.webmd.com/drugs/drugreview-54770-actamine-tablet',\n",
       "       'https://reviews.webmd.com/drugs/drugreview-54771-acti-pren-tablet',\n",
       "       'https://reviews.webmd.com/drugs/drugreview-54772-penta-tri-fed-tablet',\n",
       "       'https://reviews.webmd.com/drugs/drugreview-54773-pharm-a-tabs-tablet',\n",
       "       'https://reviews.webmd.com/drugs/drugreview-54774-tri-fed-tablet',\n",
       "       'https://reviews.webmd.com/drugs/drugreview-54775-aphedrine-tablet',\n",
       "       'https://reviews.webmd.com/drugs/drugreview-54776-superx-aphedrid-tablet',\n",
       "       'https://reviews.webmd.com/drugs/drugreview-54777-kenifed-tablet',\n",
       "       'https://reviews.webmd.com/drugs/drugreview-54778-tri-pseudated-tablet',\n",
       "       'https://reviews.webmd.com/drugs/drugreview-54779-aphedrin-tablet',\n",
       "       'https://reviews.webmd.com/drugs/drugreview-54780-antihist-nasal-tablet',\n",
       "       'https://reviews.webmd.com/drugs/drugreview-54781-triphedrine-tablet',\n",
       "       'https://reviews.webmd.com/drugs/drugreview-54782-senefed-tablet',\n",
       "       'https://reviews.webmd.com/drugs/drugreview-54783-tri-phed-tablet',\n",
       "       'https://reviews.webmd.com/drugs/drugreview-54784-vi-sudo-tablet',\n",
       "       'https://reviews.webmd.com/drugs/drugreview-54785-therafed-tablet',\n",
       "       'https://reviews.webmd.com/drugs/drugreview-54786-triofed-tablet',\n",
       "       'https://reviews.webmd.com/drugs/drugreview-54787-act-o-med-tablet',\n",
       "       'https://reviews.webmd.com/drugs/drugreview-54788-tri-act-tablet',\n",
       "       'https://reviews.webmd.com/drugs/drugreview-54789-triact-tablet',\n",
       "       'https://reviews.webmd.com/drugs/drugreview-54790-act-a-met-tablet',\n",
       "       'https://reviews.webmd.com/drugs/drugreview-54792-antihistimine-tablet',\n",
       "       'https://reviews.webmd.com/drugs/drugreview-54793-antihisttabs-tablet',\n",
       "       'https://reviews.webmd.com/drugs/drugreview-54794-tri-afed-allergy-head-cold-tablet',\n",
       "       'https://reviews.webmd.com/drugs/drugreview-54795-sinu-clear-syrup',\n",
       "       'https://reviews.webmd.com/drugs/drugreview-54796-isohist-syrup',\n",
       "       'https://reviews.webmd.com/drugs/drugreview-54797-myfed-syrup',\n",
       "       'https://reviews.webmd.com/drugs/drugreview-54798-allergy-cold-syrup',\n",
       "       'https://reviews.webmd.com/drugs/drugreview-54799-lofed-syrup',\n",
       "       'https://reviews.webmd.com/drugs/drugreview-54800-w-w-fed-syrup',\n",
       "       'https://reviews.webmd.com/drugs/drugreview-54802-pseudodine-syrup',\n",
       "       'https://reviews.webmd.com/drugs/drugreview-54803-bayfed-syrup',\n",
       "       'https://reviews.webmd.com/drugs/drugreview-54804-triaphed-syrup',\n",
       "       'https://reviews.webmd.com/drugs/drugreview-54805-rofed-syrup',\n",
       "       'https://reviews.webmd.com/drugs/drugreview-54806-triptafed-syrup',\n",
       "       'https://reviews.webmd.com/drugs/drugreview-54807-viphed-syrup',\n",
       "       'https://reviews.webmd.com/drugs/drugreview-54808-harber-fed-syrup',\n",
       "       'https://reviews.webmd.com/drugs/drugreview-54809-e-fed-syrup',\n",
       "       'https://reviews.webmd.com/drugs/drugreview-54810-leder-bp-tablet-er',\n",
       "       'https://reviews.webmd.com/drugs/drugreview-54811-tagatap-tablet-er',\n",
       "       'https://reviews.webmd.com/drugs/drugreview-54812-brompheniramine-compound-tablet-er',\n",
       "       'https://reviews.webmd.com/drugs/drugreview-54813-regal-tapp-tablet-er',\n",
       "       'https://reviews.webmd.com/drugs/drugreview-54814-bro-phen-tablet-er',\n",
       "       'https://reviews.webmd.com/drugs/drugreview-54815-dramarex-s-c-tablet-er',\n",
       "       'https://reviews.webmd.com/drugs/drugreview-54816-b-p-tablet-er',\n",
       "       'https://reviews.webmd.com/drugs/drugreview-54817-steratap-tablet-er',\n",
       "       'https://reviews.webmd.com/drugs/drugreview-54818-purebrom-compound-tablet-er',\n",
       "       'https://reviews.webmd.com/drugs/drugreview-54819-normatane-tablet-er',\n",
       "       'https://reviews.webmd.com/drugs/drugreview-54820-partapp-tablet-er',\n",
       "       'https://reviews.webmd.com/drugs/drugreview-54821-bromepaph-tablet-er',\n",
       "       'https://reviews.webmd.com/drugs/drugreview-54822-veltap-tablet-er',\n",
       "       'https://reviews.webmd.com/drugs/drugreview-54823-spentapp-tablet-er',\n",
       "       'https://reviews.webmd.com/drugs/drugreview-54824-midatapp-tablet-er',\n",
       "       'https://reviews.webmd.com/drugs/drugreview-54826-cortapp-pa-tablet-er',\n",
       "       'https://reviews.webmd.com/drugs/drugreview-54831-brocon-tablet-er',\n",
       "       'https://reviews.webmd.com/drugs/drugreview-54832-penta-tapp-tablet-er',\n",
       "       'https://reviews.webmd.com/drugs/drugreview-54833-schertapp-tablet-er',\n",
       "       'https://reviews.webmd.com/drugs/drugreview-54834-kentapp-tablet-er',\n",
       "       'https://reviews.webmd.com/drugs/drugreview-54835-dixatap-tablet-er',\n",
       "       'https://reviews.webmd.com/drugs/drugreview-54836-phenatapp-tablet-er',\n",
       "       'https://reviews.webmd.com/drugs/drugreview-54837-par-tapp-tablet-er',\n",
       "       'https://reviews.webmd.com/drugs/drugreview-54838-acatapp-tablet-er',\n",
       "       'https://reviews.webmd.com/drugs/drugreview-54839-suptapp-tablet-er',\n",
       "       'https://reviews.webmd.com/drugs/drugreview-54840-j-tap-tablet-er',\n",
       "       'https://reviews.webmd.com/drugs/drugreview-54851-phenylephrine-cpm-pyrilamine-tablet',\n",
       "       'https://reviews.webmd.com/drugs/drugreview-54852-tanorin-tablet',\n",
       "       'https://reviews.webmd.com/drugs/drugreview-54853-decotan-tablet',\n",
       "       'https://reviews.webmd.com/drugs/drugreview-54854-harber-tannate-tablet',\n",
       "       'https://reviews.webmd.com/drugs/drugreview-54855-tannate-tablet',\n",
       "       'https://reviews.webmd.com/drugs/drugreview-54856-tandral-tablet',\n",
       "       'https://reviews.webmd.com/drugs/drugreview-54857-tritann-suspension',\n",
       "       'https://reviews.webmd.com/drugs/drugreview-54858-gelhist-suspension',\n",
       "       'https://reviews.webmd.com/drugs/drugreview-54859-tannate-pediatric-suspension',\n",
       "       'https://reviews.webmd.com/drugs/drugreview-54860-tannate-s-suspension',\n",
       "       'https://reviews.webmd.com/drugs/drugreview-581-polydryl-cough-syrup',\n",
       "       'https://reviews.webmd.com/drugs/drugreview-582-polydryl-allergy-syrup',\n",
       "       'https://reviews.webmd.com/drugs/drugreview-590-polytapp-elixir',\n",
       "       'https://reviews.webmd.com/drugs/drugreview-591-polytapp-allergy-elixir',\n",
       "       'https://reviews.webmd.com/drugs/drugreview-60-chlorpheniramine-phenylephrine-elixir',\n",
       "       'https://reviews.webmd.com/drugs/drugreview-602-childrens-non-aspirin-cold-tablet-chewable',\n",
       "       'https://reviews.webmd.com/drugs/drugreview-60577-deca-gen-drops',\n",
       "       'https://reviews.webmd.com/drugs/drugreview-618-sav-on-dayhist-1-tablet',\n",
       "       'https://reviews.webmd.com/drugs/drugreview-63256-pain-rel-allergy-sinus-tablet',\n",
       "       'https://reviews.webmd.com/drugs/drugreview-63258-headache-pm',\n",
       "       'https://reviews.webmd.com/drugs/drugreview-63346-bromaxefed-rf-syrup',\n",
       "       'https://reviews.webmd.com/drugs/drugreview-63417-r-tanna-s-suspension',\n",
       "       'https://reviews.webmd.com/drugs/drugreview-63830-coldec-ds-syrup',\n",
       "       'https://reviews.webmd.com/drugs/drugreview-64043-brompheniramine-tannate-suspension',\n",
       "       'https://reviews.webmd.com/drugs/drugreview-64048-brovex-suspension',\n",
       "       'https://reviews.webmd.com/drugs/drugreview-64049-brovex-ct-tablet-chewable',\n",
       "       'https://reviews.webmd.com/drugs/drugreview-64057-triprolidine-hcl',\n",
       "       'https://reviews.webmd.com/drugs/drugreview-64058-zymine-syrup',\n",
       "       'https://reviews.webmd.com/drugs/drugreview-64069-medi-tabs-pm-tablet',\n",
       "       'https://reviews.webmd.com/drugs/drugreview-64075-phenabid-tablet-er',\n",
       "       'https://reviews.webmd.com/drugs/drugreview-64141-p-ephed-hcl-chlor-mal-tablet-er-12-hr',\n",
       "       'https://reviews.webmd.com/drugs/drugreview-64224-sleep-aid-tablet',\n",
       "       'https://reviews.webmd.com/drugs/drugreview-64448-night-time-cramp-relief-tablet',\n",
       "       'https://reviews.webmd.com/drugs/drugreview-64457-cold-medicine-plus-capsule',\n",
       "       'https://reviews.webmd.com/drugs/drugreview-64478-cold-plus-capsule',\n",
       "       'https://reviews.webmd.com/drugs/drugreview-64636-coldex-a-sr-tablet-er',\n",
       "       'https://reviews.webmd.com/drugs/drugreview-64665-allergy-sinus-headache-tablet',\n",
       "       'https://reviews.webmd.com/drugs/drugreview-64695-mintex-pd-liquid',\n",
       "       'https://reviews.webmd.com/drugs/drugreview-647-sav-on-grape-elixir',\n",
       "       'https://reviews.webmd.com/drugs/drugreview-64728-alavert',\n",
       "       'https://reviews.webmd.com/drugs/drugreview-64728-alavert-tablet',\n",
       "       'https://reviews.webmd.com/drugs/drugreview-64795-decongestant-anitihistamine-tablet',\n",
       "       'https://reviews.webmd.com/drugs/drugreview-64796-penta-bade-capsule-er',\n",
       "       'https://reviews.webmd.com/drugs/drugreview-64797-phenyltoloxamine-pe-cpm-liquid',\n",
       "       'https://reviews.webmd.com/drugs/drugreview-64824-triactin-cold-and-allergy-syrup',\n",
       "       'https://reviews.webmd.com/drugs/drugreview-64852-pm-pain-relief-tablet',\n",
       "       'https://reviews.webmd.com/drugs/drugreview-73-childrens-loratadine',\n",
       "       'https://reviews.webmd.com/drugs/drugreview-73-loratadine-tablet-disintegrating',\n",
       "       'https://reviews.webmd.com/drugs/drugreview-74901-tavist-nd-tablet',\n",
       "       'https://reviews.webmd.com/drugs/drugreview-74934-carbinoxamine-pse-syrup',\n",
       "       'https://reviews.webmd.com/drugs/drugreview-74965-hisdec-liquid',\n",
       "       'https://reviews.webmd.com/drugs/drugreview-74981-cpm-pse-liquid',\n",
       "       'https://reviews.webmd.com/drugs/drugreview-74986-tylenol-pm-tablet',\n",
       "       'https://reviews.webmd.com/drugs/drugreview-75013-aspirin-free-pm-tablet',\n",
       "       'https://reviews.webmd.com/drugs/drugreview-75017-wal-itin',\n",
       "       'https://reviews.webmd.com/drugs/drugreview-75017-wal-itin-tablet-disintegrating',\n",
       "       'https://reviews.webmd.com/drugs/drugreview-75036-ketorolac-tromethamine-drops',\n",
       "       'https://reviews.webmd.com/drugs/drugreview-75039-bromfenex-pe-pediatric-capsule-12-hr-capsule-er-hr',\n",
       "       'https://reviews.webmd.com/drugs/drugreview-75040-bromfenex-pe-capsule-12-hr-capsule-er-hr',\n",
       "       'https://reviews.webmd.com/drugs/drugreview-75042-nedocromil-drops',\n",
       "       'https://reviews.webmd.com/drugs/drugreview-75109-histex-ie-capsule-multiphase-12-hr-capsule-er-hr',\n",
       "       'https://reviews.webmd.com/drugs/drugreview-75130-qdall-capsule-multiphase-24-hr-capsule-er-hr',\n",
       "       'https://reviews.webmd.com/drugs/drugreview-75134-dytan-d-suspension',\n",
       "       'https://reviews.webmd.com/drugs/drugreview-75168-childs-cold-allergy-liquid',\n",
       "       'https://reviews.webmd.com/drugs/drugreview-75174-chlorphen-pseudoeph-ibuprofen-tablet',\n",
       "       'https://reviews.webmd.com/drugs/drugreview-75177-advil',\n",
       "       'https://reviews.webmd.com/drugs/drugreview-75224-palgic-liquid',\n",
       "       'https://reviews.webmd.com/drugs/drugreview-75240-alavert',\n",
       "       'https://reviews.webmd.com/drugs/drugreview-75320-lorata-d',\n",
       "       'https://reviews.webmd.com/drugs/drugreview-76338-phenadoz-suppository',\n",
       "       'https://reviews.webmd.com/drugs/drugreview-76344-carbihist-liquid',\n",
       "       'https://reviews.webmd.com/drugs/drugreview-76387-allergy-relief-d-tablet-er-24-hr',\n",
       "       'https://reviews.webmd.com/drugs/drugreview-76555-bromdec-drops',\n",
       "       'https://reviews.webmd.com/drugs/drugreview-76556-carbic-ds-syrup',\n",
       "       'https://reviews.webmd.com/drugs/drugreview-76568-histuss-pd-liquid',\n",
       "       'https://reviews.webmd.com/drugs/drugreview-76573-histuss-liquid',\n",
       "       'https://reviews.webmd.com/drugs/drugreview-76585-tri-histine-elixir',\n",
       "       'https://reviews.webmd.com/drugs/drugreview-76587-tanavan-suspension',\n",
       "       'https://reviews.webmd.com/drugs/drugreview-76803-zymine-d-liquid',\n",
       "       'https://reviews.webmd.com/drugs/drugreview-76819-carboxine-liquid',\n",
       "       'https://reviews.webmd.com/drugs/drugreview-76861-lohist-d',\n",
       "       'https://reviews.webmd.com/drugs/drugreview-76870-pse-bpm-liquid',\n",
       "       'https://reviews.webmd.com/drugs/drugreview-76873-vazol-d-liquid',\n",
       "       'https://reviews.webmd.com/drugs/drugreview-76895-v-tann-suspension',\n",
       "       'https://reviews.webmd.com/drugs/drugreview-77818-cpm-diphenhyd-pse-acetaminophn-tablet',\n",
       "       'https://reviews.webmd.com/drugs/drugreview-77821-tylenol-allergy-sinus-con-pack-tablet',\n",
       "       'https://reviews.webmd.com/drugs/drugreview-77843-nalex-a-12-suspension',\n",
       "       'https://reviews.webmd.com/drugs/drugreview-77873-ed-chlor-tan-tablet',\n",
       "       'https://reviews.webmd.com/drugs/drugreview-77899-benadryl-allergy-sinus-childs-liquid',\n",
       "       'https://reviews.webmd.com/drugs/drugreview-77922-flu-cold-medicine-4-60-650-powder-packet',\n",
       "       'https://reviews.webmd.com/drugs/drugreview-77923-rescon-jr-tablet-er-12-hr',\n",
       "       'https://reviews.webmd.com/drugs/drugreview-78209-dexchlorphen-pse-acetaminophen-tablet',\n",
       "       'https://reviews.webmd.com/drugs/drugreview-78210-rescon-mx-tablet-er-12-hr',\n",
       "       'https://reviews.webmd.com/drugs/drugreview-78215-hexaflu-tablet',\n",
       "       'https://reviews.webmd.com/drugs/drugreview-85-myphetapp-af-elixir',\n",
       "       'https://reviews.webmd.com/drugs/drugreview-91-claritin',\n",
       "       'https://reviews.webmd.com/drugs/drugreview-9705-dexchlor-tablet-er',\n",
       "       'https://reviews.webmd.com/drugs/drugreview-9740-optimine-tablet',\n",
       "       'https://reviews.webmd.com/drugs/drugreview-9788-orestyl-tablet',\n",
       "       'https://reviews.webmd.com/drugs/drugreview-9792-synchlor-a-tablet',\n",
       "       'https://reviews.webmd.com/drugs/drugreview-98-histalet-syrup',\n",
       "       'https://reviews.webmd.com/drugs/drugreview-9838-chlor-pheniton-tablet',\n",
       "       'https://reviews.webmd.com/drugs/drugreview-99-chlorpheniramine-pseudoephed-syrup'],\n",
       "      dtype='<U139')"
      ]
     },
     "execution_count": 4,
     "metadata": {},
     "output_type": "execute_result"
    }
   ],
   "source": [
    "# imports\n",
    "import requests\n",
    "import numpy as np\n",
    "import pandas as pd\n",
    "import regex as re\n",
    "import tqdm\n",
    "\n",
    "#Functions\n",
    "# regular expressions for parsing data from a single review\n",
    "# elements found in review-details div\n",
    "def regex_date(review):\n",
    "    '''Parses the date of the review in format dd/mm/yyyy'''\n",
    "    return re.findall(r'\\d+/\\d+/\\d+', review.find('div', class_='date').text)[0]\n",
    "\n",
    "def regex_condition(review):\n",
    "    '''Parses the condition for which the medication is used'''\n",
    "    condition_element = review.find('strong', class_='condition')\n",
    "    condition_listed = condition_element is not None\n",
    "    if condition_listed:\n",
    "        # TODO: be able to match ''\"Change of Life\" Signs' condition\n",
    "        condition_match = re.findall(r'(?<=Condition:\\s)\\w+(?:\\s\\w+)*', condition_element.text)\n",
    "    return condition_match[0] if (condition_listed and len(condition_match) > 0) else np.nan\n",
    "\n",
    "def regex_rating_overall(review):\n",
    "    '''Parses the overall rating, the average of 3 categories'''\n",
    "    rating_overall_line = review.find('div', class_='overall-rating').strong.text\n",
    "    return re.findall(r'\\d+.\\d+', rating_overall_line)\n",
    "\n",
    "def regex_rating_category(review, ind_cat):\n",
    "    '''Parses the rating for the category at index ind_cat in ['effectiveness', 'ease_of_use', 'satisfaction']'''\n",
    "    rating_categories = review.find('div', class_='categories').find_all('section')\n",
    "    div = rating_categories[ind_cat].find('div', class_='webmd-rate on-mobile')\n",
    "    return int(div.get('aria-valuenow'))\n",
    "\n",
    "def regex_text(review):\n",
    "    '''Parses the free response text review for the drug'''\n",
    "    text_line = review.find('p', class_='description-text')\n",
    "    return text_line.text if text_line is not None else np.nan\n",
    "# regular expressions for parsing data from a single review\n",
    "# elements found in details div\n",
    "def regex_age(details):\n",
    "    '''Parses the age of the medication user'''\n",
    "    age_match = re.findall(r'(?<=\\|\\s+)\\d+-\\d+', details)\n",
    "    return age_match[0] if len(age_match) > 0 else np.nan\n",
    "\n",
    "def regex_gender(details):\n",
    "    '''Parses the gender of the medication user'''\n",
    "    gender_match = re.findall(r'(?<=\\|\\s+)Male|Female', details)\n",
    "    return gender_match[0] if len(gender_match) > 0 else np.nan\n",
    "\n",
    "def regex_time(details):\n",
    "    '''Parses the duration of time on drug'''\n",
    "    time_match = re.findall(r'(?<=On\\smedication\\sfor\\s)\\w+(?:\\s\\w+)*', details)\n",
    "    return time_match[0] if len(time_match) > 0 else np.nan\n",
    "\n",
    "def regex_reviewer(details):\n",
    "    '''Parses the type of reviewer'''\n",
    "    reviewer_match = re.findall(r'(?<=\\|\\s+)\\w+(?:\\s\\w+)*(?=\\s*$)', details)\n",
    "    return reviewer_match[0] if len(reviewer_match) > 0 else np.nan\n",
    "# parse the reviews on a single webpage\n",
    "def parse_reviews_page(soup, reviews_df):\n",
    "    '''Populates reviews_df data frame with records from 1 page's reviews\n",
    "    \n",
    "    Parameters:\n",
    "    reviews_html (str): HTML for the webpage extracted using BeautifulSoup\n",
    "    drug_name (str): the name of the drug being reviewed\n",
    "    reviews_df (pd.DataFrame): dataframe with one row per review\n",
    "    \n",
    "    Returns:\n",
    "    pd.DataFrame: reviews_df dataframe with new records appended\n",
    "    \n",
    "    '''\n",
    "    reviews_html = soup.find_all('div', class_='review-details') # get elements that hold each review\n",
    "    drug_name = re.findall(r'(.*)(?=\\sReviews)', soup.title.text)[0] # page title is drug name\n",
    "    \n",
    "    # loop over reviews from a single page\n",
    "    for i, review in enumerate(reviews_html):\n",
    "        to_append = pd.DataFrame([pd.Series([None]*len(cols), index=cols)])\n",
    "        \n",
    "        details = review.find('div', class_='details').text\n",
    "\n",
    "        to_append['drug_name'] = drug_name\n",
    "        to_append['date'] = regex_date(review)\n",
    "        to_append['age'] = regex_age(details)\n",
    "        to_append['gender'] = regex_gender(details)\n",
    "        to_append['time_on_drug'] = regex_time(details)\n",
    "        to_append['reviewer_type'] = regex_reviewer(details)\n",
    "        to_append['condition'] = regex_condition(review)\n",
    "        to_append['rating_overall'] = regex_rating_overall(review)\n",
    "        \n",
    "        for ind_cat, cat in enumerate(['effectiveness', 'ease_of_use', 'satisfaction']):\n",
    "            to_append[f'rating_{cat}'] = regex_rating_category(review, ind_cat)\n",
    "    \n",
    "        to_append['text'] = regex_text(review)\n",
    "        reviews_df = pd.concat([reviews_df, to_append], ignore_index=True)\n",
    "        \n",
    "    return reviews_df\n",
    "def get_soup(review_url, page):\n",
    "    curr_url = review_url + f'&page={page}'\n",
    "    response = requests.get(curr_url, headers=headers).content\n",
    "    return BeautifulSoup(response, 'lxml')\n",
    "# crawl over the review pages for one drug\n",
    "from tqdm import tqdm # progress bar\n",
    "\n",
    "def crawl_reviews_pages(review_url, reviews_df):\n",
    "    '''Crawls a drug's reviews page-by-page, saving each page's reviews into reviews_df\n",
    "    \n",
    "    Parameters:\n",
    "    reviews_df (pd.DataFrame): dataframe with one row per review\n",
    "    \n",
    "    Returns:\n",
    "    pd.DataFrame: reviews_df dataframe with new records appended\n",
    "    \n",
    "    '''\n",
    "    # find how many review pages there are total for the drug by parsing it from the first page\n",
    "    soup = get_soup(review_url, 1)\n",
    "    pages = soup.find('ul', class_='pagination')\n",
    "    \n",
    "    # proceed only if there is at least 1 review\n",
    "    if pages is not None:\n",
    "        last_page = int(pages.find_all('li', class_='page-item')[-1].text.strip())\n",
    "\n",
    "        for i in tqdm(range(1, last_page+1)):\n",
    "            soup = get_soup(review_url, 1)\n",
    "            reviews_df = parse_reviews_page(soup, reviews_df)\n",
    "\n",
    "    return reviews_df\n",
    "#Scrape Drugs by Condition from WebMD Search\n",
    "# need to spoof a browser in order to not get blocked when making request\n",
    "# https://bar.rady.ucsd.edu/Web_Scraping.html\n",
    "from bs4 import BeautifulSoup\n",
    "\n",
    "headers = requests.utils.default_headers()\n",
    "agent = 'Mozilla/5.0 (X11; Ubuntu; Linux x86_64; rv:52.0) Gecko/20100101 Firefox/52.0'\n",
    "headers.update({\n",
    "    'User-Agent': agent,\n",
    "})\n",
    "# make empty data frame to contain values and full text from each review\n",
    "cols = ['drug_name',\n",
    "       'date',\n",
    "       'age',\n",
    "       'gender',\n",
    "       'time_on_drug',\n",
    "       'reviewer_type',\n",
    "       'condition',\n",
    "       'rating_overall',\n",
    "       'rating_effectiveness',\n",
    "       'rating_ease_of_use',\n",
    "       'rating_satisfaction',\n",
    "       'text']\n",
    "\n",
    "reviews_df = pd.DataFrame(columns=cols, index=[])\n",
    "# # list of depression drugs from WebMD\n",
    "# url = 'https://www.webmd.com/depression/depression-medications-antidepressants'\n",
    "# response = requests.get(url, headers=headers).content\n",
    "# soup = BeautifulSoup(response, 'lxml')\n",
    "# drugs_section = soup.find('div', class_='article-page active-page')\n",
    "# use WebMD's search to find drugs by illness\n",
    "review_urls = []\n",
    "\n",
    "conditions = {\n",
    "              'conjunctivitis': 'https://www.webmd.com/drugs/2/condition-1283/allergic-conjunctivitis'\n",
    "              }\n",
    "\n",
    "for url in conditions.values():\n",
    "    response = requests.get(url, headers=headers).content\n",
    "    soup = BeautifulSoup(response, 'lxml')\n",
    "    drugs_section = soup.find('div', class_='medication-results-list')\n",
    "\n",
    "    for drug_review_element in drugs_section.find_all('span', class_='reviews-url'):\n",
    "        review_urls.append(drug_review_element.a.get('href'))\n",
    "\n",
    "# because there is a lot of overlap in medications between conditions, get unique values\n",
    "review_urls = np.unique(review_urls)\n",
    "review_urls"
   ]
  },
  {
   "cell_type": "code",
   "execution_count": 5,
   "metadata": {},
   "outputs": [
    {
     "name": "stderr",
     "output_type": "stream",
     "text": [
      "  0%|          | 0/494 [00:00<?, ?it/s]"
     ]
    },
    {
     "name": "stdout",
     "output_type": "stream",
     "text": [
      "https://reviews.webmd.com/drugs/drugreview-10006-diphenhist\n"
     ]
    },
    {
     "name": "stderr",
     "output_type": "stream",
     "text": [
      "100%|██████████| 1/1 [00:02<00:00,  2.02s/it]\n",
      "  0%|          | 2/494 [00:07<26:31,  3.23s/it]"
     ]
    },
    {
     "name": "stdout",
     "output_type": "stream",
     "text": [
      "skipping https://reviews.webmd.com/drugs/drugreview-10016-nd-gesic-tablet: page not found\n",
      "https://reviews.webmd.com/drugs/drugreview-10026-aler-dryl-tablet\n"
     ]
    },
    {
     "name": "stderr",
     "output_type": "stream",
     "text": [
      "  1%|          | 3/494 [00:10<26:27,  3.23s/it]"
     ]
    },
    {
     "name": "stdout",
     "output_type": "stream",
     "text": [
      "https://reviews.webmd.com/drugs/drugreview-10027-sleep-ettes-d-tablet\n"
     ]
    },
    {
     "name": "stderr",
     "output_type": "stream",
     "text": [
      "  1%|          | 5/494 [00:15<23:33,  2.89s/it]"
     ]
    },
    {
     "name": "stdout",
     "output_type": "stream",
     "text": [
      "skipping https://reviews.webmd.com/drugs/drugreview-10130-dexbrompheniramine-maleate-tablet: page not found\n"
     ]
    },
    {
     "name": "stderr",
     "output_type": "stream",
     "text": [
      "  1%|          | 6/494 [00:17<20:20,  2.50s/it]"
     ]
    },
    {
     "name": "stdout",
     "output_type": "stream",
     "text": [
      "skipping https://reviews.webmd.com/drugs/drugreview-10142-isodex-tablet: page not found\n",
      "https://reviews.webmd.com/drugs/drugreview-10373-hm-allergy-tablet\n"
     ]
    },
    {
     "name": "stderr",
     "output_type": "stream",
     "text": [
      "  1%|▏         | 7/494 [00:20<21:29,  2.65s/it]"
     ]
    },
    {
     "name": "stdout",
     "output_type": "stream",
     "text": [
      "https://reviews.webmd.com/drugs/drugreview-10387-mdl-allergy-tablet\n"
     ]
    },
    {
     "name": "stderr",
     "output_type": "stream",
     "text": [
      "  2%|▏         | 8/494 [00:23<21:24,  2.64s/it]"
     ]
    },
    {
     "name": "stdout",
     "output_type": "stream",
     "text": [
      "https://reviews.webmd.com/drugs/drugreview-10390-mdl-antihistamine-capsule\n"
     ]
    },
    {
     "name": "stderr",
     "output_type": "stream",
     "text": [
      "  2%|▏         | 9/494 [00:25<21:51,  2.70s/it]"
     ]
    },
    {
     "name": "stdout",
     "output_type": "stream",
     "text": [
      "https://reviews.webmd.com/drugs/drugreview-108-osco-childrens-non-asa-cold-tablet-chewable\n"
     ]
    },
    {
     "name": "stderr",
     "output_type": "stream",
     "text": [
      "  2%|▏         | 10/494 [00:28<22:08,  2.74s/it]"
     ]
    },
    {
     "name": "stdout",
     "output_type": "stream",
     "text": [
      "https://reviews.webmd.com/drugs/drugreview-148754-wal-som\n"
     ]
    },
    {
     "name": "stderr",
     "output_type": "stream",
     "text": [
      "100%|██████████| 1/1 [00:01<00:00,  1.57s/it]\n",
      "  2%|▏         | 11/494 [00:33<26:52,  3.34s/it]"
     ]
    },
    {
     "name": "stdout",
     "output_type": "stream",
     "text": [
      "https://reviews.webmd.com/drugs/drugreview-148782-complete-allergy-and-sinus-d-tablet\n"
     ]
    },
    {
     "name": "stderr",
     "output_type": "stream",
     "text": [
      "  2%|▏         | 12/494 [00:35<24:50,  3.09s/it]"
     ]
    },
    {
     "name": "stdout",
     "output_type": "stream",
     "text": [
      "https://reviews.webmd.com/drugs/drugreview-148783-severe-allergy\n"
     ]
    },
    {
     "name": "stderr",
     "output_type": "stream",
     "text": [
      "100%|██████████| 1/1 [00:01<00:00,  1.74s/it]\n",
      "  3%|▎         | 14/494 [00:42<24:19,  3.04s/it]"
     ]
    },
    {
     "name": "stdout",
     "output_type": "stream",
     "text": [
      "skipping https://reviews.webmd.com/drugs/drugreview-148801-chlorphen-pseudoephedrine-zinc-combination-package-capsule-12-hr-and-lozenge-comb-lozenge: page not found\n"
     ]
    },
    {
     "name": "stderr",
     "output_type": "stream",
     "text": [
      "  3%|▎         | 15/494 [00:44<21:21,  2.68s/it]"
     ]
    },
    {
     "name": "stdout",
     "output_type": "stream",
     "text": [
      "skipping https://reviews.webmd.com/drugs/drugreview-148818-zinx-allergy-kit-combination-package-capsule-12-hr-and-lozenge-comb-lozenge: page not found\n",
      "https://reviews.webmd.com/drugs/drugreview-148824-sutan-suspension\n"
     ]
    },
    {
     "name": "stderr",
     "output_type": "stream",
     "text": [
      "  3%|▎         | 16/494 [00:46<21:01,  2.64s/it]"
     ]
    },
    {
     "name": "stdout",
     "output_type": "stream",
     "text": [
      "https://reviews.webmd.com/drugs/drugreview-148826-allergy-m-s-nighttime-tablet\n"
     ]
    },
    {
     "name": "stderr",
     "output_type": "stream",
     "text": [
      "  3%|▎         | 17/494 [00:49<20:45,  2.61s/it]"
     ]
    },
    {
     "name": "stdout",
     "output_type": "stream",
     "text": [
      "https://reviews.webmd.com/drugs/drugreview-148834-brovex-pd-suspension\n"
     ]
    },
    {
     "name": "stderr",
     "output_type": "stream",
     "text": [
      "  4%|▎         | 18/494 [00:52<22:11,  2.80s/it]"
     ]
    },
    {
     "name": "stdout",
     "output_type": "stream",
     "text": [
      "https://reviews.webmd.com/drugs/drugreview-148864-tanabid-da-suspension\n"
     ]
    },
    {
     "name": "stderr",
     "output_type": "stream",
     "text": [
      "  4%|▍         | 19/494 [00:56<23:48,  3.01s/it]"
     ]
    },
    {
     "name": "stdout",
     "output_type": "stream",
     "text": [
      "https://reviews.webmd.com/drugs/drugreview-152976-tekral-tablet-er-12-hr\n"
     ]
    },
    {
     "name": "stderr",
     "output_type": "stream",
     "text": [
      "100%|██████████| 1/1 [00:01<00:00,  1.78s/it]\n",
      "  4%|▍         | 20/494 [01:01<28:40,  3.63s/it]"
     ]
    },
    {
     "name": "stdout",
     "output_type": "stream",
     "text": [
      "https://reviews.webmd.com/drugs/drugreview-152984-bepotastine-besilate-drops\n"
     ]
    },
    {
     "name": "stderr",
     "output_type": "stream",
     "text": [
      "100%|██████████| 1/1 [00:02<00:00,  2.75s/it]\n",
      "  4%|▍         | 21/494 [01:06<33:09,  4.21s/it]"
     ]
    },
    {
     "name": "stdout",
     "output_type": "stream",
     "text": [
      "https://reviews.webmd.com/drugs/drugreview-152991-pain-sleep\n"
     ]
    },
    {
     "name": "stderr",
     "output_type": "stream",
     "text": [
      "100%|██████████| 1/1 [00:01<00:00,  1.50s/it]\n",
      "  4%|▍         | 22/494 [01:11<34:04,  4.33s/it]"
     ]
    },
    {
     "name": "stdout",
     "output_type": "stream",
     "text": [
      "https://reviews.webmd.com/drugs/drugreview-152994-bepreve-drops\n"
     ]
    },
    {
     "name": "stderr",
     "output_type": "stream",
     "text": [
      "100%|██████████| 1/1 [00:02<00:00,  2.88s/it]\n",
      "  5%|▍         | 23/494 [01:17<38:30,  4.91s/it]"
     ]
    },
    {
     "name": "stdout",
     "output_type": "stream",
     "text": [
      "https://reviews.webmd.com/drugs/drugreview-153015-sinutrol-pe\n"
     ]
    },
    {
     "name": "stderr",
     "output_type": "stream",
     "text": [
      "  5%|▍         | 24/494 [01:20<33:18,  4.25s/it]"
     ]
    },
    {
     "name": "stdout",
     "output_type": "stream",
     "text": [
      "https://reviews.webmd.com/drugs/drugreview-153045-childrens-aller-tec\n"
     ]
    },
    {
     "name": "stderr",
     "output_type": "stream",
     "text": [
      "  5%|▌         | 25/494 [01:23<31:09,  3.99s/it]"
     ]
    },
    {
     "name": "stdout",
     "output_type": "stream",
     "text": [
      "https://reviews.webmd.com/drugs/drugreview-153062-phenyleph-diphenhyd-phenyleph-tablet-sequential\n"
     ]
    },
    {
     "name": "stderr",
     "output_type": "stream",
     "text": [
      "  5%|▌         | 26/494 [01:26<28:14,  3.62s/it]"
     ]
    },
    {
     "name": "stdout",
     "output_type": "stream",
     "text": [
      "https://reviews.webmd.com/drugs/drugreview-153072-childrens-wal-dryl-allergy\n"
     ]
    },
    {
     "name": "stderr",
     "output_type": "stream",
     "text": [
      "  5%|▌         | 27/494 [01:29<26:20,  3.38s/it]"
     ]
    },
    {
     "name": "stdout",
     "output_type": "stream",
     "text": [
      "https://reviews.webmd.com/drugs/drugreview-153123-sudafed-pe-day-night\n"
     ]
    },
    {
     "name": "stderr",
     "output_type": "stream",
     "text": [
      "  6%|▌         | 29/494 [01:33<21:42,  2.80s/it]"
     ]
    },
    {
     "name": "stdout",
     "output_type": "stream",
     "text": [
      "skipping https://reviews.webmd.com/drugs/drugreview-153176-chlorphenir-phenylephrn-aspirn-tablet-effervescent: page not found\n"
     ]
    },
    {
     "name": "stderr",
     "output_type": "stream",
     "text": [
      "  6%|▌         | 30/494 [01:35<19:54,  2.57s/it]"
     ]
    },
    {
     "name": "stdout",
     "output_type": "stream",
     "text": [
      "skipping https://reviews.webmd.com/drugs/drugreview-153186-alka-seltzer-plus-cold: page not found\n",
      "https://reviews.webmd.com/drugs/drugreview-153234-zyrtec-itchy-eye-drops-keto\n"
     ]
    },
    {
     "name": "stderr",
     "output_type": "stream",
     "text": [
      "100%|██████████| 1/1 [00:01<00:00,  1.51s/it]\n",
      "  6%|▋         | 31/494 [01:40<24:06,  3.12s/it]"
     ]
    },
    {
     "name": "stdout",
     "output_type": "stream",
     "text": [
      "https://reviews.webmd.com/drugs/drugreview-153319-pyrichlor-pe-liquid\n"
     ]
    },
    {
     "name": "stderr",
     "output_type": "stream",
     "text": [
      "  6%|▋         | 32/494 [01:42<22:52,  2.97s/it]"
     ]
    },
    {
     "name": "stdout",
     "output_type": "stream",
     "text": [
      "https://reviews.webmd.com/drugs/drugreview-153324-onetab-allergy-and-sinus-tablet\n"
     ]
    },
    {
     "name": "stderr",
     "output_type": "stream",
     "text": [
      "  7%|▋         | 33/494 [01:45<22:11,  2.89s/it]"
     ]
    },
    {
     "name": "stdout",
     "output_type": "stream",
     "text": [
      "https://reviews.webmd.com/drugs/drugreview-153325-onetab-cold-and-flu-tablet\n"
     ]
    },
    {
     "name": "stderr",
     "output_type": "stream",
     "text": [
      "  7%|▋         | 34/494 [01:48<22:16,  2.91s/it]"
     ]
    },
    {
     "name": "stdout",
     "output_type": "stream",
     "text": [
      "https://reviews.webmd.com/drugs/drugreview-153384-brovex-peb-liquid\n"
     ]
    },
    {
     "name": "stderr",
     "output_type": "stream",
     "text": [
      "  7%|▋         | 36/494 [01:52<19:06,  2.50s/it]"
     ]
    },
    {
     "name": "stdout",
     "output_type": "stream",
     "text": [
      "skipping https://reviews.webmd.com/drugs/drugreview-153412-bromax-tablet-er-12-hr: page not found\n",
      "https://reviews.webmd.com/drugs/drugreview-153593-omadryl-da-suspension\n"
     ]
    },
    {
     "name": "stderr",
     "output_type": "stream",
     "text": [
      "  7%|▋         | 37/494 [01:55<19:41,  2.59s/it]"
     ]
    },
    {
     "name": "stdout",
     "output_type": "stream",
     "text": [
      "https://reviews.webmd.com/drugs/drugreview-153602-v-hist-suspension\n"
     ]
    },
    {
     "name": "stderr",
     "output_type": "stream",
     "text": [
      "100%|██████████| 1/1 [00:01<00:00,  1.81s/it]\n",
      "  8%|▊         | 38/494 [02:00<24:45,  3.26s/it]"
     ]
    },
    {
     "name": "stdout",
     "output_type": "stream",
     "text": [
      "https://reviews.webmd.com/drugs/drugreview-153658-cpm-pse-drops\n"
     ]
    },
    {
     "name": "stderr",
     "output_type": "stream",
     "text": [
      "  8%|▊         | 39/494 [02:03<23:39,  3.12s/it]"
     ]
    },
    {
     "name": "stdout",
     "output_type": "stream",
     "text": [
      "https://reviews.webmd.com/drugs/drugreview-153724-trip-pse-liquid\n"
     ]
    },
    {
     "name": "stderr",
     "output_type": "stream",
     "text": [
      "  8%|▊         | 40/494 [02:06<23:47,  3.14s/it]"
     ]
    },
    {
     "name": "stdout",
     "output_type": "stream",
     "text": [
      "https://reviews.webmd.com/drugs/drugreview-153810-entre-b-suspension\n"
     ]
    },
    {
     "name": "stderr",
     "output_type": "stream",
     "text": [
      "  8%|▊         | 41/494 [02:09<23:26,  3.11s/it]"
     ]
    },
    {
     "name": "stdout",
     "output_type": "stream",
     "text": [
      "https://reviews.webmd.com/drugs/drugreview-153820-dexbrompheniramine-phenylephrn\n"
     ]
    },
    {
     "name": "stderr",
     "output_type": "stream",
     "text": [
      "  9%|▊         | 43/494 [02:14<20:10,  2.68s/it]"
     ]
    },
    {
     "name": "stdout",
     "output_type": "stream",
     "text": [
      "skipping https://reviews.webmd.com/drugs/drugreview-153821-ala-hist-ir: page not found\n",
      "https://reviews.webmd.com/drugs/drugreview-153832-ala-hist-pe-tablet\n"
     ]
    },
    {
     "name": "stderr",
     "output_type": "stream",
     "text": [
      "100%|██████████| 1/1 [00:01<00:00,  1.68s/it]\n",
      "  9%|▉         | 45/494 [02:20<20:59,  2.80s/it]"
     ]
    },
    {
     "name": "stdout",
     "output_type": "stream",
     "text": [
      "skipping https://reviews.webmd.com/drugs/drugreview-154-dimephenyl-elixir: page not found\n",
      "https://reviews.webmd.com/drugs/drugreview-154158-sudogest-sinus-and-allergy\n"
     ]
    },
    {
     "name": "stderr",
     "output_type": "stream",
     "text": [
      "  9%|▉         | 46/494 [02:23<20:55,  2.80s/it]"
     ]
    },
    {
     "name": "stdout",
     "output_type": "stream",
     "text": [
      "https://reviews.webmd.com/drugs/drugreview-154219-triprolid-pseudoephed-polistrx-liquid\n"
     ]
    },
    {
     "name": "stderr",
     "output_type": "stream",
     "text": [
      " 10%|▉         | 47/494 [02:26<20:29,  2.75s/it]"
     ]
    },
    {
     "name": "stdout",
     "output_type": "stream",
     "text": [
      "https://reviews.webmd.com/drugs/drugreview-154247-theraflu-sinus-and-cold-20-10-325-powder-packet\n"
     ]
    },
    {
     "name": "stderr",
     "output_type": "stream",
     "text": [
      " 10%|▉         | 48/494 [02:28<20:26,  2.75s/it]"
     ]
    },
    {
     "name": "stdout",
     "output_type": "stream",
     "text": [
      "https://reviews.webmd.com/drugs/drugreview-154286-relhist-tablet-chewable\n"
     ]
    },
    {
     "name": "stderr",
     "output_type": "stream",
     "text": [
      " 10%|▉         | 49/494 [02:31<20:52,  2.81s/it]"
     ]
    },
    {
     "name": "stdout",
     "output_type": "stream",
     "text": [
      "https://reviews.webmd.com/drugs/drugreview-154298-pediatex-ps-liquid\n"
     ]
    },
    {
     "name": "stderr",
     "output_type": "stream",
     "text": [
      " 10%|█         | 50/494 [02:34<20:34,  2.78s/it]"
     ]
    },
    {
     "name": "stdout",
     "output_type": "stream",
     "text": [
      "https://reviews.webmd.com/drugs/drugreview-154366-wal-zyr-drops\n"
     ]
    },
    {
     "name": "stderr",
     "output_type": "stream",
     "text": [
      " 10%|█         | 51/494 [02:37<19:55,  2.70s/it]"
     ]
    },
    {
     "name": "stdout",
     "output_type": "stream",
     "text": [
      "https://reviews.webmd.com/drugs/drugreview-154447-child-delsym-cough-cold-night-solution\n"
     ]
    },
    {
     "name": "stderr",
     "output_type": "stream",
     "text": [
      " 11%|█         | 52/494 [02:39<19:39,  2.67s/it]"
     ]
    },
    {
     "name": "stdout",
     "output_type": "stream",
     "text": [
      "https://reviews.webmd.com/drugs/drugreview-154503-childs-dibromm-cold-allergy\n"
     ]
    },
    {
     "name": "stderr",
     "output_type": "stream",
     "text": [
      " 11%|█         | 53/494 [02:42<19:55,  2.71s/it]"
     ]
    },
    {
     "name": "stdout",
     "output_type": "stream",
     "text": [
      "https://reviews.webmd.com/drugs/drugreview-154592-all-day-allergy-reliefcetir-tablet\n"
     ]
    },
    {
     "name": "stderr",
     "output_type": "stream",
     "text": [
      "100%|██████████| 1/1 [00:01<00:00,  1.64s/it]\n",
      " 11%|█         | 55/494 [02:49<22:08,  3.03s/it]"
     ]
    },
    {
     "name": "stdout",
     "output_type": "stream",
     "text": [
      "skipping https://reviews.webmd.com/drugs/drugreview-155-ordrine-er-capsule: page not found\n",
      "https://reviews.webmd.com/drugs/drugreview-159384-triprolidine-pse-acetaminophen-tablet\n"
     ]
    },
    {
     "name": "stderr",
     "output_type": "stream",
     "text": [
      " 11%|█▏        | 56/494 [02:52<21:34,  2.96s/it]"
     ]
    },
    {
     "name": "stdout",
     "output_type": "stream",
     "text": [
      "https://reviews.webmd.com/drugs/drugreview-159600-ultra-sleep-diphenhydramine-tablet\n"
     ]
    },
    {
     "name": "stderr",
     "output_type": "stream",
     "text": [
      " 12%|█▏        | 58/494 [02:57<19:10,  2.64s/it]"
     ]
    },
    {
     "name": "stdout",
     "output_type": "stream",
     "text": [
      "skipping https://reviews.webmd.com/drugs/drugreview-159734-nasal-decongestant-ppa-tablet: page not found\n"
     ]
    },
    {
     "name": "stderr",
     "output_type": "stream",
     "text": [
      " 12%|█▏        | 59/494 [02:59<17:18,  2.39s/it]"
     ]
    },
    {
     "name": "stdout",
     "output_type": "stream",
     "text": [
      "skipping https://reviews.webmd.com/drugs/drugreview-159861-diphenhydramine-0-9-nacl-solution-piggyback: page not found\n",
      "https://reviews.webmd.com/drugs/drugreview-159921-allergy-complete-d\n"
     ]
    },
    {
     "name": "stderr",
     "output_type": "stream",
     "text": [
      " 12%|█▏        | 60/494 [03:01<17:32,  2.43s/it]"
     ]
    },
    {
     "name": "stdout",
     "output_type": "stream",
     "text": [
      "https://reviews.webmd.com/drugs/drugreview-159922-childrens-allergy-complete-solution\n"
     ]
    },
    {
     "name": "stderr",
     "output_type": "stream",
     "text": [
      " 12%|█▏        | 61/494 [03:04<18:29,  2.56s/it]"
     ]
    },
    {
     "name": "stdout",
     "output_type": "stream",
     "text": [
      "https://reviews.webmd.com/drugs/drugreview-159937-child-delsym-nighttime-c-c-liquid\n"
     ]
    },
    {
     "name": "stderr",
     "output_type": "stream",
     "text": [
      " 13%|█▎        | 62/494 [03:07<19:39,  2.73s/it]"
     ]
    },
    {
     "name": "stdout",
     "output_type": "stream",
     "text": [
      "https://reviews.webmd.com/drugs/drugreview-160434-norel-ad\n"
     ]
    },
    {
     "name": "stderr",
     "output_type": "stream",
     "text": [
      "100%|██████████| 1/1 [00:01<00:00,  1.64s/it]\n",
      " 13%|█▎        | 63/494 [03:12<24:38,  3.43s/it]"
     ]
    },
    {
     "name": "stdout",
     "output_type": "stream",
     "text": [
      "https://reviews.webmd.com/drugs/drugreview-160741-azelastine-fluticasone-aerosol-spray-with-pump\n"
     ]
    },
    {
     "name": "stderr",
     "output_type": "stream",
     "text": [
      "100%|██████████| 1/1 [00:01<00:00,  1.80s/it]\n",
      " 13%|█▎        | 64/494 [03:17<27:29,  3.83s/it]"
     ]
    },
    {
     "name": "stdout",
     "output_type": "stream",
     "text": [
      "https://reviews.webmd.com/drugs/drugreview-162585-brohist-d\n"
     ]
    },
    {
     "name": "stderr",
     "output_type": "stream",
     "text": [
      "100%|██████████| 1/1 [00:01<00:00,  1.60s/it]\n",
      " 13%|█▎        | 65/494 [03:22<29:48,  4.17s/it]"
     ]
    },
    {
     "name": "stdout",
     "output_type": "stream",
     "text": [
      "https://reviews.webmd.com/drugs/drugreview-162718-multi-symptom-allergy-relief\n"
     ]
    },
    {
     "name": "stderr",
     "output_type": "stream",
     "text": [
      "100%|██████████| 1/1 [00:01<00:00,  1.62s/it]\n",
      " 13%|█▎        | 66/494 [03:27<32:17,  4.53s/it]"
     ]
    },
    {
     "name": "stdout",
     "output_type": "stream",
     "text": [
      "https://reviews.webmd.com/drugs/drugreview-162719-allergy-relief-sinus-headache-tablet\n"
     ]
    },
    {
     "name": "stderr",
     "output_type": "stream",
     "text": [
      " 14%|█▎        | 67/494 [03:30<28:33,  4.01s/it]"
     ]
    },
    {
     "name": "stdout",
     "output_type": "stream",
     "text": [
      "https://reviews.webmd.com/drugs/drugreview-162721-severe-cold-diphen-pe-acetam-tablet\n"
     ]
    },
    {
     "name": "stderr",
     "output_type": "stream",
     "text": [
      " 14%|█▍        | 68/494 [03:33<26:49,  3.78s/it]"
     ]
    },
    {
     "name": "stdout",
     "output_type": "stream",
     "text": [
      "https://reviews.webmd.com/drugs/drugreview-162825-alka-seltzer-plus-allergy\n"
     ]
    },
    {
     "name": "stderr",
     "output_type": "stream",
     "text": [
      "100%|██████████| 1/1 [00:01<00:00,  1.56s/it]\n",
      " 14%|█▍        | 69/494 [03:38<28:10,  3.98s/it]"
     ]
    },
    {
     "name": "stdout",
     "output_type": "stream",
     "text": [
      "https://reviews.webmd.com/drugs/drugreview-171591-allergy-congestion-12hr\n"
     ]
    },
    {
     "name": "stderr",
     "output_type": "stream",
     "text": [
      " 14%|█▍        | 70/494 [03:41<26:21,  3.73s/it]"
     ]
    },
    {
     "name": "stdout",
     "output_type": "stream",
     "text": [
      "https://reviews.webmd.com/drugs/drugreview-171629-cold-and-allergy-relief-pe-tablet\n"
     ]
    },
    {
     "name": "stderr",
     "output_type": "stream",
     "text": [
      " 14%|█▍        | 71/494 [03:44<25:00,  3.55s/it]"
     ]
    },
    {
     "name": "stdout",
     "output_type": "stream",
     "text": [
      "https://reviews.webmd.com/drugs/drugreview-171630-cold-and-allergy-relief-cpm-tablet\n"
     ]
    },
    {
     "name": "stderr",
     "output_type": "stream",
     "text": [
      " 15%|█▍        | 73/494 [03:49<20:05,  2.86s/it]"
     ]
    },
    {
     "name": "stdout",
     "output_type": "stream",
     "text": [
      "skipping https://reviews.webmd.com/drugs/drugreview-171631-cold-and-allergy-relief-ppa-tablet: page not found\n",
      "https://reviews.webmd.com/drugs/drugreview-171763-allergy-relief-spray-suspension\n"
     ]
    },
    {
     "name": "stderr",
     "output_type": "stream",
     "text": [
      " 15%|█▍        | 74/494 [03:52<20:02,  2.86s/it]"
     ]
    },
    {
     "name": "stdout",
     "output_type": "stream",
     "text": [
      "https://reviews.webmd.com/drugs/drugreview-172007-aller-flo-spray-suspension\n"
     ]
    },
    {
     "name": "stderr",
     "output_type": "stream",
     "text": [
      "100%|██████████| 1/1 [00:01<00:00,  1.85s/it]\n",
      " 15%|█▌        | 75/494 [03:57<24:34,  3.52s/it]"
     ]
    },
    {
     "name": "stdout",
     "output_type": "stream",
     "text": [
      "https://reviews.webmd.com/drugs/drugreview-172026-acticon\n"
     ]
    },
    {
     "name": "stderr",
     "output_type": "stream",
     "text": [
      " 15%|█▌        | 76/494 [04:00<23:16,  3.34s/it]"
     ]
    },
    {
     "name": "stdout",
     "output_type": "stream",
     "text": [
      "https://reviews.webmd.com/drugs/drugreview-172078-24hour-allergy\n"
     ]
    },
    {
     "name": "stderr",
     "output_type": "stream",
     "text": [
      " 16%|█▌        | 77/494 [04:02<21:48,  3.14s/it]"
     ]
    },
    {
     "name": "stdout",
     "output_type": "stream",
     "text": [
      "https://reviews.webmd.com/drugs/drugreview-172144-clarispray-spray-suspension\n"
     ]
    },
    {
     "name": "stderr",
     "output_type": "stream",
     "text": [
      "100%|██████████| 1/1 [00:01<00:00,  1.47s/it]\n",
      " 16%|█▌        | 78/494 [04:07<25:14,  3.64s/it]"
     ]
    },
    {
     "name": "stdout",
     "output_type": "stream",
     "text": [
      "https://reviews.webmd.com/drugs/drugreview-172523-glenmax-peb\n"
     ]
    },
    {
     "name": "stderr",
     "output_type": "stream",
     "text": [
      " 16%|█▌        | 79/494 [04:11<25:27,  3.68s/it]"
     ]
    },
    {
     "name": "stdout",
     "output_type": "stream",
     "text": [
      "https://reviews.webmd.com/drugs/drugreview-172603-glen-pe\n"
     ]
    },
    {
     "name": "stderr",
     "output_type": "stream",
     "text": [
      " 16%|█▌        | 80/494 [04:14<23:36,  3.42s/it]"
     ]
    },
    {
     "name": "stdout",
     "output_type": "stream",
     "text": [
      "https://reviews.webmd.com/drugs/drugreview-172750-vicks-sinex-nighttime-capsule\n"
     ]
    },
    {
     "name": "stderr",
     "output_type": "stream",
     "text": [
      " 16%|█▋        | 81/494 [04:17<22:57,  3.33s/it]"
     ]
    },
    {
     "name": "stdout",
     "output_type": "stream",
     "text": [
      "https://reviews.webmd.com/drugs/drugreview-172793-vanaclear-pd-drops\n"
     ]
    },
    {
     "name": "stderr",
     "output_type": "stream",
     "text": [
      " 17%|█▋        | 82/494 [04:19<21:22,  3.11s/it]"
     ]
    },
    {
     "name": "stdout",
     "output_type": "stream",
     "text": [
      "https://reviews.webmd.com/drugs/drugreview-172801-vanamine-pd-drops\n"
     ]
    },
    {
     "name": "stderr",
     "output_type": "stream",
     "text": [
      " 17%|█▋        | 83/494 [04:22<20:42,  3.02s/it]"
     ]
    },
    {
     "name": "stdout",
     "output_type": "stream",
     "text": [
      "https://reviews.webmd.com/drugs/drugreview-172867-m-hist-pd-drops\n"
     ]
    },
    {
     "name": "stderr",
     "output_type": "stream",
     "text": [
      " 17%|█▋        | 85/494 [04:27<17:55,  2.63s/it]"
     ]
    },
    {
     "name": "stdout",
     "output_type": "stream",
     "text": [
      "skipping https://reviews.webmd.com/drugs/drugreview-18101-ex-dec-tr-tablet-er: page not found\n",
      "https://reviews.webmd.com/drugs/drugreview-18127-complete-allergy-medication-tablet\n"
     ]
    },
    {
     "name": "stderr",
     "output_type": "stream",
     "text": [
      " 17%|█▋        | 86/494 [04:29<17:52,  2.63s/it]"
     ]
    },
    {
     "name": "stdout",
     "output_type": "stream",
     "text": [
      "https://reviews.webmd.com/drugs/drugreview-18368-actifed-sinus-tablet\n"
     ]
    },
    {
     "name": "stderr",
     "output_type": "stream",
     "text": [
      " 18%|█▊        | 87/494 [04:32<18:12,  2.68s/it]"
     ]
    },
    {
     "name": "stdout",
     "output_type": "stream",
     "text": [
      "https://reviews.webmd.com/drugs/drugreview-18383-actifed-sinus-daytime-night-tablet\n"
     ]
    },
    {
     "name": "stderr",
     "output_type": "stream",
     "text": [
      "100%|██████████| 1/1 [00:01<00:00,  1.60s/it]\n",
      " 18%|█▊        | 89/494 [04:38<18:15,  2.71s/it]"
     ]
    },
    {
     "name": "stdout",
     "output_type": "stream",
     "text": [
      "skipping https://reviews.webmd.com/drugs/drugreview-187285-alka-seltzer-severe-cold: page not found\n"
     ]
    },
    {
     "name": "stderr",
     "output_type": "stream",
     "text": [
      " 18%|█▊        | 90/494 [04:40<16:13,  2.41s/it]"
     ]
    },
    {
     "name": "stdout",
     "output_type": "stream",
     "text": [
      "skipping https://reviews.webmd.com/drugs/drugreview-187440-advil-multi-symptom-cold-flu: page not found\n",
      "https://reviews.webmd.com/drugs/drugreview-187898-maxallergy-kids\n"
     ]
    },
    {
     "name": "stderr",
     "output_type": "stream",
     "text": [
      " 18%|█▊        | 91/494 [04:43<16:33,  2.47s/it]"
     ]
    },
    {
     "name": "stdout",
     "output_type": "stream",
     "text": [
      "https://reviews.webmd.com/drugs/drugreview-188088-giltuss-d-allergy-congestion\n"
     ]
    },
    {
     "name": "stderr",
     "output_type": "stream",
     "text": [
      " 19%|█▊        | 92/494 [04:45<16:45,  2.50s/it]"
     ]
    },
    {
     "name": "stdout",
     "output_type": "stream",
     "text": [
      "https://reviews.webmd.com/drugs/drugreview-18899-novadyne-elixir\n"
     ]
    },
    {
     "name": "stderr",
     "output_type": "stream",
     "text": [
      " 19%|█▉        | 93/494 [04:48<18:02,  2.70s/it]"
     ]
    },
    {
     "name": "stdout",
     "output_type": "stream",
     "text": [
      "https://reviews.webmd.com/drugs/drugreview-18899-novadyne-solution\n"
     ]
    },
    {
     "name": "stderr",
     "output_type": "stream",
     "text": [
      " 19%|█▉        | 94/494 [04:51<18:47,  2.82s/it]"
     ]
    },
    {
     "name": "stdout",
     "output_type": "stream",
     "text": [
      "https://reviews.webmd.com/drugs/drugreview-18906-histatan-tablet\n"
     ]
    },
    {
     "name": "stderr",
     "output_type": "stream",
     "text": [
      " 19%|█▉        | 95/494 [04:54<18:30,  2.78s/it]"
     ]
    },
    {
     "name": "stdout",
     "output_type": "stream",
     "text": [
      "https://reviews.webmd.com/drugs/drugreview-18908-bayer-select-night-time-pain-tablet\n"
     ]
    },
    {
     "name": "stderr",
     "output_type": "stream",
     "text": [
      " 19%|█▉        | 96/494 [04:57<18:01,  2.72s/it]"
     ]
    },
    {
     "name": "stdout",
     "output_type": "stream",
     "text": [
      "https://reviews.webmd.com/drugs/drugreview-19035-diphenadryl-elixir\n"
     ]
    },
    {
     "name": "stderr",
     "output_type": "stream",
     "text": [
      " 20%|█▉        | 97/494 [05:00<18:20,  2.77s/it]"
     ]
    },
    {
     "name": "stdout",
     "output_type": "stream",
     "text": [
      "https://reviews.webmd.com/drugs/drugreview-19037-ru-tuss-elixir\n"
     ]
    },
    {
     "name": "stderr",
     "output_type": "stream",
     "text": [
      " 20%|█▉        | 98/494 [05:03<20:19,  3.08s/it]"
     ]
    },
    {
     "name": "stdout",
     "output_type": "stream",
     "text": [
      "https://reviews.webmd.com/drugs/drugreview-19037-ru-tuss-liquid\n"
     ]
    },
    {
     "name": "stderr",
     "output_type": "stream",
     "text": [
      " 20%|██        | 99/494 [05:07<21:14,  3.23s/it]"
     ]
    },
    {
     "name": "stdout",
     "output_type": "stream",
     "text": [
      "https://reviews.webmd.com/drugs/drugreview-19037-ru-tuss-tablet-er-12-hr\n"
     ]
    },
    {
     "name": "stderr",
     "output_type": "stream",
     "text": [
      " 20%|██        | 100/494 [05:10<21:00,  3.20s/it]"
     ]
    },
    {
     "name": "stdout",
     "output_type": "stream",
     "text": [
      "https://reviews.webmd.com/drugs/drugreview-19076-mooretan-decongestant-tablet\n"
     ]
    },
    {
     "name": "stderr",
     "output_type": "stream",
     "text": [
      " 20%|██        | 101/494 [05:13<20:08,  3.07s/it]"
     ]
    },
    {
     "name": "stdout",
     "output_type": "stream",
     "text": [
      "https://reviews.webmd.com/drugs/drugreview-19122-valuphed-actamine-tablet\n"
     ]
    },
    {
     "name": "stderr",
     "output_type": "stream",
     "text": [
      " 21%|██        | 102/494 [05:15<19:18,  2.96s/it]"
     ]
    },
    {
     "name": "stdout",
     "output_type": "stream",
     "text": [
      "https://reviews.webmd.com/drugs/drugreview-19123-pseudoval-plus-tablet\n"
     ]
    },
    {
     "name": "stderr",
     "output_type": "stream",
     "text": [
      " 21%|██        | 103/494 [05:18<18:39,  2.86s/it]"
     ]
    },
    {
     "name": "stdout",
     "output_type": "stream",
     "text": [
      "https://reviews.webmd.com/drugs/drugreview-19126-actihist-syrup\n"
     ]
    },
    {
     "name": "stderr",
     "output_type": "stream",
     "text": [
      "100%|██████████| 1/1 [00:01<00:00,  1.52s/it]\n",
      " 21%|██        | 104/494 [05:23<21:38,  3.33s/it]"
     ]
    },
    {
     "name": "stdout",
     "output_type": "stream",
     "text": [
      "https://reviews.webmd.com/drugs/drugreview-19127-valuphed-syrup\n"
     ]
    },
    {
     "name": "stderr",
     "output_type": "stream",
     "text": [
      " 21%|██▏       | 105/494 [05:25<20:14,  3.12s/it]"
     ]
    },
    {
     "name": "stdout",
     "output_type": "stream",
     "text": [
      "https://reviews.webmd.com/drugs/drugreview-19251-fv-antitussive-cough-formula-syrup\n"
     ]
    },
    {
     "name": "stderr",
     "output_type": "stream",
     "text": [
      " 21%|██▏       | 106/494 [05:28<19:34,  3.03s/it]"
     ]
    },
    {
     "name": "stdout",
     "output_type": "stream",
     "text": [
      "https://reviews.webmd.com/drugs/drugreview-19253-hm-antitussive-syrup\n"
     ]
    },
    {
     "name": "stderr",
     "output_type": "stream",
     "text": [
      " 22%|██▏       | 107/494 [05:31<18:37,  2.89s/it]"
     ]
    },
    {
     "name": "stdout",
     "output_type": "stream",
     "text": [
      "https://reviews.webmd.com/drugs/drugreview-19280-decongest-elixir\n"
     ]
    },
    {
     "name": "stderr",
     "output_type": "stream",
     "text": [
      " 22%|██▏       | 108/494 [05:34<19:26,  3.02s/it]"
     ]
    },
    {
     "name": "stdout",
     "output_type": "stream",
     "text": [
      "https://reviews.webmd.com/drugs/drugreview-19280-decongest-liquid\n"
     ]
    },
    {
     "name": "stderr",
     "output_type": "stream",
     "text": [
      " 22%|██▏       | 109/494 [05:37<19:18,  3.01s/it]"
     ]
    },
    {
     "name": "stdout",
     "output_type": "stream",
     "text": [
      "https://reviews.webmd.com/drugs/drugreview-19348-maldec-s-syrup\n"
     ]
    },
    {
     "name": "stderr",
     "output_type": "stream",
     "text": [
      " 22%|██▏       | 111/494 [05:42<17:11,  2.69s/it]"
     ]
    },
    {
     "name": "stdout",
     "output_type": "stream",
     "text": [
      "skipping https://reviews.webmd.com/drugs/drugreview-19353-mooredec-tr-tablet-er: page not found\n",
      "https://reviews.webmd.com/drugs/drugreview-19354-rondamine-s-syrup\n"
     ]
    },
    {
     "name": "stderr",
     "output_type": "stream",
     "text": [
      " 23%|██▎       | 112/494 [05:45<17:49,  2.80s/it]"
     ]
    },
    {
     "name": "stdout",
     "output_type": "stream",
     "text": [
      "https://reviews.webmd.com/drugs/drugreview-19357-sudaminic-plus-liquid\n"
     ]
    },
    {
     "name": "stderr",
     "output_type": "stream",
     "text": [
      " 23%|██▎       | 114/494 [05:49<15:47,  2.49s/it]"
     ]
    },
    {
     "name": "stdout",
     "output_type": "stream",
     "text": [
      "skipping https://reviews.webmd.com/drugs/drugreview-19361-trimixol-syrup: page not found\n"
     ]
    },
    {
     "name": "stderr",
     "output_type": "stream",
     "text": [
      " 23%|██▎       | 115/494 [05:52<15:31,  2.46s/it]"
     ]
    },
    {
     "name": "stdout",
     "output_type": "stream",
     "text": [
      "skipping https://reviews.webmd.com/drugs/drugreview-19493-fv-effervescent-cold-relief-tablet: page not found\n",
      "https://reviews.webmd.com/drugs/drugreview-19535-valu-dryl-allergy-liquid\n"
     ]
    },
    {
     "name": "stderr",
     "output_type": "stream",
     "text": [
      " 23%|██▎       | 116/494 [05:54<15:42,  2.49s/it]"
     ]
    },
    {
     "name": "stdout",
     "output_type": "stream",
     "text": [
      "https://reviews.webmd.com/drugs/drugreview-19565-siladryl\n"
     ]
    },
    {
     "name": "stderr",
     "output_type": "stream",
     "text": [
      " 24%|██▎       | 117/494 [05:58<17:12,  2.74s/it]"
     ]
    },
    {
     "name": "stdout",
     "output_type": "stream",
     "text": [
      "https://reviews.webmd.com/drugs/drugreview-19570-aler-tab-tablet\n"
     ]
    },
    {
     "name": "stderr",
     "output_type": "stream",
     "text": [
      " 24%|██▍       | 119/494 [06:03<16:26,  2.63s/it]"
     ]
    },
    {
     "name": "stdout",
     "output_type": "stream",
     "text": [
      "skipping https://reviews.webmd.com/drugs/drugreview-19574-pemirolast-potassium-drops: page not found\n"
     ]
    },
    {
     "name": "stderr",
     "output_type": "stream",
     "text": [
      " 24%|██▍       | 120/494 [06:05<14:46,  2.37s/it]"
     ]
    },
    {
     "name": "stdout",
     "output_type": "stream",
     "text": [
      "skipping https://reviews.webmd.com/drugs/drugreview-19580-alamast-drops: page not found\n",
      "https://reviews.webmd.com/drugs/drugreview-19747-phena-s-liquid\n"
     ]
    },
    {
     "name": "stderr",
     "output_type": "stream",
     "text": [
      "100%|██████████| 1/1 [00:01<00:00,  1.91s/it]\n",
      " 25%|██▍       | 122/494 [06:12<16:57,  2.73s/it]"
     ]
    },
    {
     "name": "stdout",
     "output_type": "stream",
     "text": [
      "skipping https://reviews.webmd.com/drugs/drugreview-198-osco-grape-elixir: page not found\n"
     ]
    },
    {
     "name": "stderr",
     "output_type": "stream",
     "text": [
      " 25%|██▍       | 123/494 [06:14<15:36,  2.52s/it]"
     ]
    },
    {
     "name": "stdout",
     "output_type": "stream",
     "text": [
      "skipping https://reviews.webmd.com/drugs/drugreview-19846-ordrine-sa-capsule-er: page not found\n",
      "https://reviews.webmd.com/drugs/drugreview-20002-tanamine-pediatric-suspension\n"
     ]
    },
    {
     "name": "stderr",
     "output_type": "stream",
     "text": [
      " 25%|██▌       | 124/494 [06:16<16:00,  2.60s/it]"
     ]
    },
    {
     "name": "stdout",
     "output_type": "stream",
     "text": [
      "https://reviews.webmd.com/drugs/drugreview-217-pain-reliever-allergy-sinus-tablet\n"
     ]
    },
    {
     "name": "stderr",
     "output_type": "stream",
     "text": [
      " 25%|██▌       | 125/494 [06:20<18:11,  2.96s/it]"
     ]
    },
    {
     "name": "stdout",
     "output_type": "stream",
     "text": [
      "https://reviews.webmd.com/drugs/drugreview-252-carbic-d-syrup\n"
     ]
    },
    {
     "name": "stderr",
     "output_type": "stream",
     "text": [
      " 26%|██▌       | 127/494 [06:25<15:41,  2.57s/it]"
     ]
    },
    {
     "name": "stdout",
     "output_type": "stream",
     "text": [
      "skipping https://reviews.webmd.com/drugs/drugreview-265-trimaphen-syrup: page not found\n",
      "https://reviews.webmd.com/drugs/drugreview-267-non-aspirin-allergy-sinus-tablet\n"
     ]
    },
    {
     "name": "stderr",
     "output_type": "stream",
     "text": [
      " 26%|██▌       | 128/494 [06:27<15:55,  2.61s/it]"
     ]
    },
    {
     "name": "stdout",
     "output_type": "stream",
     "text": [
      "https://reviews.webmd.com/drugs/drugreview-274-allergy-tablet\n"
     ]
    },
    {
     "name": "stderr",
     "output_type": "stream",
     "text": [
      " 26%|██▌       | 129/494 [06:30<16:02,  2.64s/it]"
     ]
    },
    {
     "name": "stdout",
     "output_type": "stream",
     "text": [
      "https://reviews.webmd.com/drugs/drugreview-277-benadryl-cold-tablet\n"
     ]
    },
    {
     "name": "stderr",
     "output_type": "stream",
     "text": [
      " 26%|██▋       | 130/494 [06:33<16:30,  2.72s/it]"
     ]
    },
    {
     "name": "stdout",
     "output_type": "stream",
     "text": [
      "https://reviews.webmd.com/drugs/drugreview-291-benadryl-allergy-cold-tablet\n"
     ]
    },
    {
     "name": "stderr",
     "output_type": "stream",
     "text": [
      "100%|██████████| 1/1 [00:01<00:00,  1.58s/it]\n",
      " 27%|██▋       | 131/494 [06:37<19:44,  3.26s/it]"
     ]
    },
    {
     "name": "stdout",
     "output_type": "stream",
     "text": [
      "https://reviews.webmd.com/drugs/drugreview-293-dayhist-1-tablet\n"
     ]
    },
    {
     "name": "stderr",
     "output_type": "stream",
     "text": [
      " 27%|██▋       | 132/494 [06:40<18:39,  3.09s/it]"
     ]
    },
    {
     "name": "stdout",
     "output_type": "stream",
     "text": [
      "https://reviews.webmd.com/drugs/drugreview-295-aphedrid-tablet\n"
     ]
    },
    {
     "name": "stderr",
     "output_type": "stream",
     "text": [
      " 27%|██▋       | 133/494 [06:43<18:06,  3.01s/it]"
     ]
    },
    {
     "name": "stdout",
     "output_type": "stream",
     "text": [
      "https://reviews.webmd.com/drugs/drugreview-311-contac-12-hour-allergy-tablet\n"
     ]
    },
    {
     "name": "stderr",
     "output_type": "stream",
     "text": [
      " 27%|██▋       | 134/494 [06:46<17:24,  2.90s/it]"
     ]
    },
    {
     "name": "stdout",
     "output_type": "stream",
     "text": [
      "https://reviews.webmd.com/drugs/drugreview-410-semprex-d-capsule\n"
     ]
    },
    {
     "name": "stderr",
     "output_type": "stream",
     "text": [
      "100%|██████████| 1/1 [00:01<00:00,  2.00s/it]\n",
      " 27%|██▋       | 135/494 [06:51<22:02,  3.68s/it]"
     ]
    },
    {
     "name": "stdout",
     "output_type": "stream",
     "text": [
      "https://reviews.webmd.com/drugs/drugreview-411-sleepinal-maximum-strength-capsule\n"
     ]
    },
    {
     "name": "stderr",
     "output_type": "stream",
     "text": [
      " 28%|██▊       | 136/494 [06:54<20:27,  3.43s/it]"
     ]
    },
    {
     "name": "stdout",
     "output_type": "stream",
     "text": [
      "https://reviews.webmd.com/drugs/drugreview-412-diphenhydramine-hcl-sleep-capsule\n"
     ]
    },
    {
     "name": "stderr",
     "output_type": "stream",
     "text": [
      " 28%|██▊       | 138/494 [06:59<17:14,  2.91s/it]"
     ]
    },
    {
     "name": "stdout",
     "output_type": "stream",
     "text": [
      "skipping https://reviews.webmd.com/drugs/drugreview-423-bromtapp-tablet: page not found\n",
      "https://reviews.webmd.com/drugs/drugreview-446-sav-on-allergy-sinus-headache-tablet\n"
     ]
    },
    {
     "name": "stderr",
     "output_type": "stream",
     "text": [
      " 28%|██▊       | 139/494 [07:03<18:20,  3.10s/it]"
     ]
    },
    {
     "name": "stdout",
     "output_type": "stream",
     "text": [
      "https://reviews.webmd.com/drugs/drugreview-449-sav-on-antihistamine-allergy-tablet\n"
     ]
    },
    {
     "name": "stderr",
     "output_type": "stream",
     "text": [
      " 28%|██▊       | 140/494 [07:06<18:40,  3.17s/it]"
     ]
    },
    {
     "name": "stdout",
     "output_type": "stream",
     "text": [
      "https://reviews.webmd.com/drugs/drugreview-450-sav-on-aphedrid-tablet\n"
     ]
    },
    {
     "name": "stderr",
     "output_type": "stream",
     "text": [
      " 29%|██▊       | 141/494 [07:09<17:58,  3.05s/it]"
     ]
    },
    {
     "name": "stdout",
     "output_type": "stream",
     "text": [
      "https://reviews.webmd.com/drugs/drugreview-482-sav-on-allergy-tablet\n"
     ]
    },
    {
     "name": "stderr",
     "output_type": "stream",
     "text": [
      " 29%|██▊       | 142/494 [07:12<17:28,  2.98s/it]"
     ]
    },
    {
     "name": "stdout",
     "output_type": "stream",
     "text": [
      "https://reviews.webmd.com/drugs/drugreview-484-tri-gestan-s-suspension\n"
     ]
    },
    {
     "name": "stderr",
     "output_type": "stream",
     "text": [
      " 29%|██▉       | 143/494 [07:14<17:08,  2.93s/it]"
     ]
    },
    {
     "name": "stdout",
     "output_type": "stream",
     "text": [
      "https://reviews.webmd.com/drugs/drugreview-512-pain-reliever-sleep-aid-tablet\n"
     ]
    },
    {
     "name": "stderr",
     "output_type": "stream",
     "text": [
      " 29%|██▉       | 144/494 [07:17<16:48,  2.88s/it]"
     ]
    },
    {
     "name": "stdout",
     "output_type": "stream",
     "text": [
      "https://reviews.webmd.com/drugs/drugreview-524-tritan-tablet\n"
     ]
    },
    {
     "name": "stderr",
     "output_type": "stream",
     "text": [
      " 30%|██▉       | 146/494 [07:21<14:19,  2.47s/it]"
     ]
    },
    {
     "name": "stdout",
     "output_type": "stream",
     "text": [
      "skipping https://reviews.webmd.com/drugs/drugreview-534-sav-on-aspirin-free-cold-tablet: page not found\n",
      "https://reviews.webmd.com/drugs/drugreview-54322-colrex-capsule\n"
     ]
    },
    {
     "name": "stderr",
     "output_type": "stream",
     "text": [
      " 30%|██▉       | 147/494 [07:24<15:18,  2.65s/it]"
     ]
    },
    {
     "name": "stdout",
     "output_type": "stream",
     "text": [
      "https://reviews.webmd.com/drugs/drugreview-54322-colrex-syrup\n"
     ]
    },
    {
     "name": "stderr",
     "output_type": "stream",
     "text": [
      " 30%|██▉       | 148/494 [07:27<15:08,  2.62s/it]"
     ]
    },
    {
     "name": "stdout",
     "output_type": "stream",
     "text": [
      "https://reviews.webmd.com/drugs/drugreview-54381-phenapap-tablet\n"
     ]
    },
    {
     "name": "stderr",
     "output_type": "stream",
     "text": [
      " 30%|███       | 149/494 [07:30<15:57,  2.78s/it]"
     ]
    },
    {
     "name": "stdout",
     "output_type": "stream",
     "text": [
      "https://reviews.webmd.com/drugs/drugreview-54384-sinus-tablet\n"
     ]
    },
    {
     "name": "stderr",
     "output_type": "stream",
     "text": [
      "100%|██████████| 1/1 [00:01<00:00,  1.46s/it]\n",
      " 30%|███       | 150/494 [07:34<18:24,  3.21s/it]"
     ]
    },
    {
     "name": "stdout",
     "output_type": "stream",
     "text": [
      "https://reviews.webmd.com/drugs/drugreview-54386-tylenol-sinus-day-night-pack-tablet\n"
     ]
    },
    {
     "name": "stderr",
     "output_type": "stream",
     "text": [
      " 31%|███       | 151/494 [07:37<17:50,  3.12s/it]"
     ]
    },
    {
     "name": "stdout",
     "output_type": "stream",
     "text": [
      "https://reviews.webmd.com/drugs/drugreview-54386-tylenol-sinus-day-night-pack-tablet-sequential\n"
     ]
    },
    {
     "name": "stderr",
     "output_type": "stream",
     "text": [
      " 31%|███       | 152/494 [07:40<16:34,  2.91s/it]"
     ]
    },
    {
     "name": "stdout",
     "output_type": "stream",
     "text": [
      "https://reviews.webmd.com/drugs/drugreview-54388-sinus-aid-tablet\n"
     ]
    },
    {
     "name": "stderr",
     "output_type": "stream",
     "text": [
      " 31%|███       | 153/494 [07:43<17:07,  3.01s/it]"
     ]
    },
    {
     "name": "stdout",
     "output_type": "stream",
     "text": [
      "https://reviews.webmd.com/drugs/drugreview-54392-sinutab-tablet\n"
     ]
    },
    {
     "name": "stderr",
     "output_type": "stream",
     "text": [
      "100%|██████████| 1/1 [00:01<00:00,  1.57s/it]\n",
      " 31%|███       | 154/494 [07:48<19:40,  3.47s/it]"
     ]
    },
    {
     "name": "stdout",
     "output_type": "stream",
     "text": [
      "https://reviews.webmd.com/drugs/drugreview-54431-non-aspirin-severe-allergy-tablet\n"
     ]
    },
    {
     "name": "stderr",
     "output_type": "stream",
     "text": [
      " 31%|███▏      | 155/494 [07:50<18:33,  3.28s/it]"
     ]
    },
    {
     "name": "stdout",
     "output_type": "stream",
     "text": [
      "https://reviews.webmd.com/drugs/drugreview-54432-allergy-severe-tablet\n"
     ]
    },
    {
     "name": "stderr",
     "output_type": "stream",
     "text": [
      " 32%|███▏      | 156/494 [07:53<17:35,  3.12s/it]"
     ]
    },
    {
     "name": "stdout",
     "output_type": "stream",
     "text": [
      "https://reviews.webmd.com/drugs/drugreview-54433-pain-relief-severe-congestion-tablet\n"
     ]
    },
    {
     "name": "stderr",
     "output_type": "stream",
     "text": [
      " 32%|███▏      | 158/494 [07:58<15:26,  2.76s/it]"
     ]
    },
    {
     "name": "stdout",
     "output_type": "stream",
     "text": [
      "skipping https://reviews.webmd.com/drugs/drugreview-54434-trinalin-tablet-er: page not found\n"
     ]
    },
    {
     "name": "stderr",
     "output_type": "stream",
     "text": [
      " 32%|███▏      | 159/494 [08:00<13:48,  2.47s/it]"
     ]
    },
    {
     "name": "stdout",
     "output_type": "stream",
     "text": [
      "skipping https://reviews.webmd.com/drugs/drugreview-54435-brompheniramine-phenylprop-tablet: page not found\n"
     ]
    },
    {
     "name": "stderr",
     "output_type": "stream",
     "text": [
      " 32%|███▏      | 160/494 [08:02<12:33,  2.26s/it]"
     ]
    },
    {
     "name": "stdout",
     "output_type": "stream",
     "text": [
      "skipping https://reviews.webmd.com/drugs/drugreview-54437-dimahist-tablet: page not found\n"
     ]
    },
    {
     "name": "stderr",
     "output_type": "stream",
     "text": [
      " 33%|███▎      | 161/494 [08:03<11:45,  2.12s/it]"
     ]
    },
    {
     "name": "stdout",
     "output_type": "stream",
     "text": [
      "skipping https://reviews.webmd.com/drugs/drugreview-54438-pharm-a-grape-tablet: page not found\n"
     ]
    },
    {
     "name": "stderr",
     "output_type": "stream",
     "text": [
      " 33%|███▎      | 162/494 [08:05<10:58,  1.98s/it]"
     ]
    },
    {
     "name": "stdout",
     "output_type": "stream",
     "text": [
      "skipping https://reviews.webmd.com/drugs/drugreview-54439-nasal-decon-anti-hist-tablet: page not found\n"
     ]
    },
    {
     "name": "stderr",
     "output_type": "stream",
     "text": [
      " 33%|███▎      | 163/494 [08:07<10:47,  1.96s/it]"
     ]
    },
    {
     "name": "stdout",
     "output_type": "stream",
     "text": [
      "skipping https://reviews.webmd.com/drugs/drugreview-54440-brom-tapp-tablet: page not found\n"
     ]
    },
    {
     "name": "stderr",
     "output_type": "stream",
     "text": [
      " 33%|███▎      | 164/494 [08:09<10:31,  1.91s/it]"
     ]
    },
    {
     "name": "stdout",
     "output_type": "stream",
     "text": [
      "skipping https://reviews.webmd.com/drugs/drugreview-54441-alanate-tr-tablet: page not found\n"
     ]
    },
    {
     "name": "stderr",
     "output_type": "stream",
     "text": [
      " 33%|███▎      | 165/494 [08:11<10:09,  1.85s/it]"
     ]
    },
    {
     "name": "stdout",
     "output_type": "stream",
     "text": [
      "skipping https://reviews.webmd.com/drugs/drugreview-54443-alcomed-ca-liquid: page not found\n"
     ]
    },
    {
     "name": "stderr",
     "output_type": "stream",
     "text": [
      " 34%|███▎      | 166/494 [08:12<10:12,  1.87s/it]"
     ]
    },
    {
     "name": "stdout",
     "output_type": "stream",
     "text": [
      "skipping https://reviews.webmd.com/drugs/drugreview-54444-allerhist-elixir: page not found\n"
     ]
    },
    {
     "name": "stderr",
     "output_type": "stream",
     "text": [
      " 34%|███▍      | 167/494 [08:14<09:53,  1.81s/it]"
     ]
    },
    {
     "name": "stdout",
     "output_type": "stream",
     "text": [
      "skipping https://reviews.webmd.com/drugs/drugreview-54446-allergy-and-cold-elixir: page not found\n"
     ]
    },
    {
     "name": "stderr",
     "output_type": "stream",
     "text": [
      " 34%|███▍      | 168/494 [08:16<09:28,  1.74s/it]"
     ]
    },
    {
     "name": "stdout",
     "output_type": "stream",
     "text": [
      "skipping https://reviews.webmd.com/drugs/drugreview-54447-phenetapp-elixir: page not found\n"
     ]
    },
    {
     "name": "stderr",
     "output_type": "stream",
     "text": [
      " 34%|███▍      | 169/494 [08:18<09:40,  1.79s/it]"
     ]
    },
    {
     "name": "stdout",
     "output_type": "stream",
     "text": [
      "skipping https://reviews.webmd.com/drugs/drugreview-54448-purebrom-elixir: page not found\n"
     ]
    },
    {
     "name": "stderr",
     "output_type": "stream",
     "text": [
      " 34%|███▍      | 170/494 [08:19<09:29,  1.76s/it]"
     ]
    },
    {
     "name": "stdout",
     "output_type": "stream",
     "text": [
      "skipping https://reviews.webmd.com/drugs/drugreview-54449-histatapp-elixir: page not found\n"
     ]
    },
    {
     "name": "stderr",
     "output_type": "stream",
     "text": [
      " 35%|███▍      | 171/494 [08:21<09:34,  1.78s/it]"
     ]
    },
    {
     "name": "stdout",
     "output_type": "stream",
     "text": [
      "skipping https://reviews.webmd.com/drugs/drugreview-54450-baltapp-elixir: page not found\n",
      "https://reviews.webmd.com/drugs/drugreview-54451-wal-tap\n"
     ]
    },
    {
     "name": "stderr",
     "output_type": "stream",
     "text": [
      " 35%|███▌      | 173/494 [08:26<10:32,  1.97s/it]"
     ]
    },
    {
     "name": "stdout",
     "output_type": "stream",
     "text": [
      "skipping https://reviews.webmd.com/drugs/drugreview-54452-allergy-elixir-ppa: page not found\n"
     ]
    },
    {
     "name": "stderr",
     "output_type": "stream",
     "text": [
      " 35%|███▌      | 174/494 [08:27<10:07,  1.90s/it]"
     ]
    },
    {
     "name": "stdout",
     "output_type": "stream",
     "text": [
      "skipping https://reviews.webmd.com/drugs/drugreview-54453-brotep-elixir: page not found\n"
     ]
    },
    {
     "name": "stderr",
     "output_type": "stream",
     "text": [
      " 35%|███▌      | 175/494 [08:29<09:45,  1.83s/it]"
     ]
    },
    {
     "name": "stdout",
     "output_type": "stream",
     "text": [
      "skipping https://reviews.webmd.com/drugs/drugreview-54454-uni-brom-elixir: page not found\n"
     ]
    },
    {
     "name": "stderr",
     "output_type": "stream",
     "text": [
      " 36%|███▌      | 176/494 [08:31<09:37,  1.82s/it]"
     ]
    },
    {
     "name": "stdout",
     "output_type": "stream",
     "text": [
      "skipping https://reviews.webmd.com/drugs/drugreview-54455-tamine-elixir: page not found\n"
     ]
    },
    {
     "name": "stderr",
     "output_type": "stream",
     "text": [
      " 36%|███▌      | 177/494 [08:33<10:16,  1.95s/it]"
     ]
    },
    {
     "name": "stdout",
     "output_type": "stream",
     "text": [
      "skipping https://reviews.webmd.com/drugs/drugreview-54456-brom-cortann-elixir: page not found\n"
     ]
    },
    {
     "name": "stderr",
     "output_type": "stream",
     "text": [
      " 36%|███▌      | 178/494 [08:35<10:14,  1.94s/it]"
     ]
    },
    {
     "name": "stdout",
     "output_type": "stream",
     "text": [
      "skipping https://reviews.webmd.com/drugs/drugreview-54457-grape-flavored-elixir: page not found\n",
      "https://reviews.webmd.com/drugs/drugreview-54459-nasal-decongestant-antihist-tablet\n"
     ]
    },
    {
     "name": "stderr",
     "output_type": "stream",
     "text": [
      " 36%|███▋      | 180/494 [08:40<11:18,  2.16s/it]"
     ]
    },
    {
     "name": "stdout",
     "output_type": "stream",
     "text": [
      "skipping https://reviews.webmd.com/drugs/drugreview-54460-decongestant-anthistamine-elixir: page not found\n"
     ]
    },
    {
     "name": "stderr",
     "output_type": "stream",
     "text": [
      " 37%|███▋      | 181/494 [08:42<10:51,  2.08s/it]"
     ]
    },
    {
     "name": "stdout",
     "output_type": "stream",
     "text": [
      "skipping https://reviews.webmd.com/drugs/drugreview-54461-di-brom-elixir: page not found\n"
     ]
    },
    {
     "name": "stderr",
     "output_type": "stream",
     "text": [
      " 37%|███▋      | 182/494 [08:44<10:30,  2.02s/it]"
     ]
    },
    {
     "name": "stdout",
     "output_type": "stream",
     "text": [
      "skipping https://reviews.webmd.com/drugs/drugreview-54462-bromatol-elixir: page not found\n"
     ]
    },
    {
     "name": "stderr",
     "output_type": "stream",
     "text": [
      " 37%|███▋      | 183/494 [08:46<10:21,  2.00s/it]"
     ]
    },
    {
     "name": "stdout",
     "output_type": "stream",
     "text": [
      "skipping https://reviews.webmd.com/drugs/drugreview-54463-e-tapp-elixir: page not found\n"
     ]
    },
    {
     "name": "stderr",
     "output_type": "stream",
     "text": [
      " 37%|███▋      | 184/494 [08:48<10:06,  1.95s/it]"
     ]
    },
    {
     "name": "stdout",
     "output_type": "stream",
     "text": [
      "skipping https://reviews.webmd.com/drugs/drugreview-54464-bromophen-elixir: page not found\n"
     ]
    },
    {
     "name": "stderr",
     "output_type": "stream",
     "text": [
      " 37%|███▋      | 185/494 [08:49<10:00,  1.94s/it]"
     ]
    },
    {
     "name": "stdout",
     "output_type": "stream",
     "text": [
      "skipping https://reviews.webmd.com/drugs/drugreview-54465-di-bromm-elixir: page not found\n"
     ]
    },
    {
     "name": "stderr",
     "output_type": "stream",
     "text": [
      " 38%|███▊      | 186/494 [08:51<10:09,  1.98s/it]"
     ]
    },
    {
     "name": "stdout",
     "output_type": "stream",
     "text": [
      "skipping https://reviews.webmd.com/drugs/drugreview-54466-allergy-and-cold-tab-tablet-er-12-hr: page not found\n"
     ]
    },
    {
     "name": "stderr",
     "output_type": "stream",
     "text": [
      " 38%|███▊      | 187/494 [08:53<10:03,  1.97s/it]"
     ]
    },
    {
     "name": "stdout",
     "output_type": "stream",
     "text": [
      "skipping https://reviews.webmd.com/drugs/drugreview-54467-cold-allergy-tablet-er-12-hr: page not found\n"
     ]
    },
    {
     "name": "stderr",
     "output_type": "stream",
     "text": [
      " 38%|███▊      | 188/494 [08:55<09:46,  1.92s/it]"
     ]
    },
    {
     "name": "stdout",
     "output_type": "stream",
     "text": [
      "skipping https://reviews.webmd.com/drugs/drugreview-54468-brom-tap-tablet-er-12-hr: page not found\n"
     ]
    },
    {
     "name": "stderr",
     "output_type": "stream",
     "text": [
      " 38%|███▊      | 189/494 [08:57<09:39,  1.90s/it]"
     ]
    },
    {
     "name": "stdout",
     "output_type": "stream",
     "text": [
      "skipping https://reviews.webmd.com/drugs/drugreview-54469-gen-tapp-tablet-er-12-hr: page not found\n"
     ]
    },
    {
     "name": "stderr",
     "output_type": "stream",
     "text": [
      " 38%|███▊      | 190/494 [08:59<09:37,  1.90s/it]"
     ]
    },
    {
     "name": "stdout",
     "output_type": "stream",
     "text": [
      "skipping https://reviews.webmd.com/drugs/drugreview-54470-er-tablet-12-hr: page not found\n"
     ]
    },
    {
     "name": "stderr",
     "output_type": "stream",
     "text": [
      " 39%|███▊      | 191/494 [09:01<09:15,  1.83s/it]"
     ]
    },
    {
     "name": "stdout",
     "output_type": "stream",
     "text": [
      "skipping https://reviews.webmd.com/drugs/drugreview-54471-e-n-t-tablet-er-12-hr: page not found\n"
     ]
    },
    {
     "name": "stderr",
     "output_type": "stream",
     "text": [
      " 39%|███▉      | 192/494 [09:02<09:09,  1.82s/it]"
     ]
    },
    {
     "name": "stdout",
     "output_type": "stream",
     "text": [
      "skipping https://reviews.webmd.com/drugs/drugreview-54473-congestab-tablet-er-12-hr: page not found\n"
     ]
    },
    {
     "name": "stderr",
     "output_type": "stream",
     "text": [
      " 39%|███▉      | 193/494 [09:04<09:09,  1.82s/it]"
     ]
    },
    {
     "name": "stdout",
     "output_type": "stream",
     "text": [
      "skipping https://reviews.webmd.com/drugs/drugreview-54474-pioten-tablet-er-12-hr: page not found\n"
     ]
    },
    {
     "name": "stderr",
     "output_type": "stream",
     "text": [
      " 39%|███▉      | 194/494 [09:06<09:19,  1.86s/it]"
     ]
    },
    {
     "name": "stdout",
     "output_type": "stream",
     "text": [
      "skipping https://reviews.webmd.com/drugs/drugreview-54475-dibromm-er-tablet-12-hr: page not found\n",
      "https://reviews.webmd.com/drugs/drugreview-54476-brompheniramine-w-pseudoephed-capsule-er\n"
     ]
    },
    {
     "name": "stderr",
     "output_type": "stream",
     "text": [
      " 39%|███▉      | 195/494 [09:09<10:46,  2.16s/it]"
     ]
    },
    {
     "name": "stdout",
     "output_type": "stream",
     "text": [
      "https://reviews.webmd.com/drugs/drugreview-54477-bromfed-pd-capsule-er\n"
     ]
    },
    {
     "name": "stderr",
     "output_type": "stream",
     "text": [
      " 40%|███▉      | 196/494 [09:12<12:03,  2.43s/it]"
     ]
    },
    {
     "name": "stdout",
     "output_type": "stream",
     "text": [
      "https://reviews.webmd.com/drugs/drugreview-54478-b-fedrine-pd-capsule-er\n"
     ]
    },
    {
     "name": "stderr",
     "output_type": "stream",
     "text": [
      " 40%|███▉      | 197/494 [09:15<12:37,  2.55s/it]"
     ]
    },
    {
     "name": "stdout",
     "output_type": "stream",
     "text": [
      "https://reviews.webmd.com/drugs/drugreview-54479-poly-histine-dx-capsule-er\n"
     ]
    },
    {
     "name": "stderr",
     "output_type": "stream",
     "text": [
      " 40%|████      | 198/494 [09:18<12:51,  2.61s/it]"
     ]
    },
    {
     "name": "stdout",
     "output_type": "stream",
     "text": [
      "https://reviews.webmd.com/drugs/drugreview-54480-nalfed-capsule-er\n"
     ]
    },
    {
     "name": "stderr",
     "output_type": "stream",
     "text": [
      " 40%|████      | 199/494 [09:21<13:17,  2.70s/it]"
     ]
    },
    {
     "name": "stdout",
     "output_type": "stream",
     "text": [
      "https://reviews.webmd.com/drugs/drugreview-54481-m-hist-capsule-er\n"
     ]
    },
    {
     "name": "stderr",
     "output_type": "stream",
     "text": [
      " 40%|████      | 200/494 [09:23<13:26,  2.74s/it]"
     ]
    },
    {
     "name": "stdout",
     "output_type": "stream",
     "text": [
      "https://reviews.webmd.com/drugs/drugreview-54482-nadex-capsule-er\n"
     ]
    },
    {
     "name": "stderr",
     "output_type": "stream",
     "text": [
      " 41%|████      | 201/494 [09:27<14:12,  2.91s/it]"
     ]
    },
    {
     "name": "stdout",
     "output_type": "stream",
     "text": [
      "https://reviews.webmd.com/drugs/drugreview-54483-nasafed-capsule-er\n"
     ]
    },
    {
     "name": "stderr",
     "output_type": "stream",
     "text": [
      " 41%|████      | 202/494 [09:29<13:46,  2.83s/it]"
     ]
    },
    {
     "name": "stdout",
     "output_type": "stream",
     "text": [
      "https://reviews.webmd.com/drugs/drugreview-54484-dristan-allergy-tablet\n"
     ]
    },
    {
     "name": "stderr",
     "output_type": "stream",
     "text": [
      " 41%|████      | 203/494 [09:32<13:22,  2.76s/it]"
     ]
    },
    {
     "name": "stdout",
     "output_type": "stream",
     "text": [
      "https://reviews.webmd.com/drugs/drugreview-54485-sb-cold-allergy-elixir\n"
     ]
    },
    {
     "name": "stderr",
     "output_type": "stream",
     "text": [
      " 41%|████▏     | 204/494 [09:35<13:04,  2.71s/it]"
     ]
    },
    {
     "name": "stdout",
     "output_type": "stream",
     "text": [
      "https://reviews.webmd.com/drugs/drugreview-54486-drix-syrup\n"
     ]
    },
    {
     "name": "stderr",
     "output_type": "stream",
     "text": [
      "100%|██████████| 1/1 [00:01<00:00,  1.64s/it]\n",
      " 41%|████▏     | 205/494 [09:39<16:06,  3.34s/it]"
     ]
    },
    {
     "name": "stdout",
     "output_type": "stream",
     "text": [
      "https://reviews.webmd.com/drugs/drugreview-54487-pseudophedrine-w-carbinoxamine-tablet\n"
     ]
    },
    {
     "name": "stderr",
     "output_type": "stream",
     "text": [
      " 42%|████▏     | 206/494 [09:42<15:08,  3.16s/it]"
     ]
    },
    {
     "name": "stdout",
     "output_type": "stream",
     "text": [
      "https://reviews.webmd.com/drugs/drugreview-54488-pseudophedrine-carbinoxamine-tablet-er\n"
     ]
    },
    {
     "name": "stderr",
     "output_type": "stream",
     "text": [
      " 42%|████▏     | 208/494 [09:47<13:01,  2.73s/it]"
     ]
    },
    {
     "name": "stdout",
     "output_type": "stream",
     "text": [
      "skipping https://reviews.webmd.com/drugs/drugreview-54489-andec-tr-tablet-er: page not found\n",
      "https://reviews.webmd.com/drugs/drugreview-54490-carbinoxamine-pseudoephedrine-tablet-er\n"
     ]
    },
    {
     "name": "stderr",
     "output_type": "stream",
     "text": [
      " 43%|████▎     | 210/494 [09:52<12:13,  2.58s/it]"
     ]
    },
    {
     "name": "stdout",
     "output_type": "stream",
     "text": [
      "skipping https://reviews.webmd.com/drugs/drugreview-54492-carbiset-tr-tablet-er: page not found\n",
      "https://reviews.webmd.com/drugs/drugreview-54493-pseudoephedrine-carbinoxamine-tablet-er\n"
     ]
    },
    {
     "name": "stderr",
     "output_type": "stream",
     "text": [
      " 43%|████▎     | 211/494 [09:55<12:58,  2.75s/it]"
     ]
    },
    {
     "name": "stdout",
     "output_type": "stream",
     "text": [
      "https://reviews.webmd.com/drugs/drugreview-54494-carbinoxamine-w-pseudoephed-syrup\n"
     ]
    },
    {
     "name": "stderr",
     "output_type": "stream",
     "text": [
      " 43%|████▎     | 212/494 [09:58<12:56,  2.75s/it]"
     ]
    },
    {
     "name": "stdout",
     "output_type": "stream",
     "text": [
      "https://reviews.webmd.com/drugs/drugreview-54495-harberdec-s-syrup\n"
     ]
    },
    {
     "name": "stderr",
     "output_type": "stream",
     "text": [
      " 43%|████▎     | 213/494 [10:01<12:33,  2.68s/it]"
     ]
    },
    {
     "name": "stdout",
     "output_type": "stream",
     "text": [
      "https://reviews.webmd.com/drugs/drugreview-54496-rex-a-hist-3-elixir\n"
     ]
    },
    {
     "name": "stderr",
     "output_type": "stream",
     "text": [
      " 43%|████▎     | 214/494 [10:04<12:48,  2.75s/it]"
     ]
    },
    {
     "name": "stdout",
     "output_type": "stream",
     "text": [
      "https://reviews.webmd.com/drugs/drugreview-54497-dihistine-elixir\n"
     ]
    },
    {
     "name": "stderr",
     "output_type": "stream",
     "text": [
      " 44%|████▎     | 215/494 [10:07<13:13,  2.84s/it]"
     ]
    },
    {
     "name": "stdout",
     "output_type": "stream",
     "text": [
      "https://reviews.webmd.com/drugs/drugreview-54497-dihistine-liquid\n"
     ]
    },
    {
     "name": "stderr",
     "output_type": "stream",
     "text": [
      " 44%|████▎     | 216/494 [10:09<12:55,  2.79s/it]"
     ]
    },
    {
     "name": "stdout",
     "output_type": "stream",
     "text": [
      "https://reviews.webmd.com/drugs/drugreview-54497-dihistine-syrup\n"
     ]
    },
    {
     "name": "stderr",
     "output_type": "stream",
     "text": [
      " 44%|████▍     | 217/494 [10:12<13:06,  2.84s/it]"
     ]
    },
    {
     "name": "stdout",
     "output_type": "stream",
     "text": [
      "https://reviews.webmd.com/drugs/drugreview-54498-phenarex-elixir\n"
     ]
    },
    {
     "name": "stderr",
     "output_type": "stream",
     "text": [
      " 44%|████▍     | 218/494 [10:15<12:48,  2.78s/it]"
     ]
    },
    {
     "name": "stdout",
     "output_type": "stream",
     "text": [
      "https://reviews.webmd.com/drugs/drugreview-54499-alamine-elixir\n"
     ]
    },
    {
     "name": "stderr",
     "output_type": "stream",
     "text": [
      " 44%|████▍     | 219/494 [10:18<12:39,  2.76s/it]"
     ]
    },
    {
     "name": "stdout",
     "output_type": "stream",
     "text": [
      "https://reviews.webmd.com/drugs/drugreview-54500-calhistine-elixir\n"
     ]
    },
    {
     "name": "stderr",
     "output_type": "stream",
     "text": [
      " 45%|████▍     | 220/494 [10:21<13:57,  3.06s/it]"
     ]
    },
    {
     "name": "stdout",
     "output_type": "stream",
     "text": [
      "https://reviews.webmd.com/drugs/drugreview-54501-tri-hist-elixir\n"
     ]
    },
    {
     "name": "stderr",
     "output_type": "stream",
     "text": [
      " 45%|████▍     | 222/494 [10:26<11:52,  2.62s/it]"
     ]
    },
    {
     "name": "stdout",
     "output_type": "stream",
     "text": [
      "skipping https://reviews.webmd.com/drugs/drugreview-54541-proponade-capsule-er: page not found\n"
     ]
    },
    {
     "name": "stderr",
     "output_type": "stream",
     "text": [
      " 45%|████▌     | 223/494 [10:28<10:37,  2.35s/it]"
     ]
    },
    {
     "name": "stdout",
     "output_type": "stream",
     "text": [
      "skipping https://reviews.webmd.com/drugs/drugreview-54542-condrin-la-capsule-er: page not found\n"
     ]
    },
    {
     "name": "stderr",
     "output_type": "stream",
     "text": [
      " 45%|████▌     | 224/494 [10:29<09:41,  2.15s/it]"
     ]
    },
    {
     "name": "stdout",
     "output_type": "stream",
     "text": [
      "skipping https://reviews.webmd.com/drugs/drugreview-54543-phenylpropanolamine-w-cpm-capsule-er: page not found\n"
     ]
    },
    {
     "name": "stderr",
     "output_type": "stream",
     "text": [
      " 46%|████▌     | 225/494 [10:31<09:30,  2.12s/it]"
     ]
    },
    {
     "name": "stdout",
     "output_type": "stream",
     "text": [
      "skipping https://reviews.webmd.com/drugs/drugreview-54544-sterinade-capsule-er: page not found\n"
     ]
    },
    {
     "name": "stderr",
     "output_type": "stream",
     "text": [
      " 46%|████▌     | 226/494 [10:34<09:37,  2.16s/it]"
     ]
    },
    {
     "name": "stdout",
     "output_type": "stream",
     "text": [
      "skipping https://reviews.webmd.com/drugs/drugreview-54545-oraminic-capsule-er: page not found\n"
     ]
    },
    {
     "name": "stderr",
     "output_type": "stream",
     "text": [
      " 46%|████▌     | 227/494 [10:36<09:18,  2.09s/it]"
     ]
    },
    {
     "name": "stdout",
     "output_type": "stream",
     "text": [
      "skipping https://reviews.webmd.com/drugs/drugreview-54546-decongen-capsule-er: page not found\n"
     ]
    },
    {
     "name": "stderr",
     "output_type": "stream",
     "text": [
      " 46%|████▌     | 228/494 [10:38<08:59,  2.03s/it]"
     ]
    },
    {
     "name": "stdout",
     "output_type": "stream",
     "text": [
      "skipping https://reviews.webmd.com/drugs/drugreview-54547-balnade-capsule-er: page not found\n"
     ]
    },
    {
     "name": "stderr",
     "output_type": "stream",
     "text": [
      " 46%|████▋     | 229/494 [10:39<08:28,  1.92s/it]"
     ]
    },
    {
     "name": "stdout",
     "output_type": "stream",
     "text": [
      "skipping https://reviews.webmd.com/drugs/drugreview-54548-parhist-capsule-er: page not found\n"
     ]
    },
    {
     "name": "stderr",
     "output_type": "stream",
     "text": [
      " 47%|████▋     | 230/494 [10:41<08:16,  1.88s/it]"
     ]
    },
    {
     "name": "stdout",
     "output_type": "stream",
     "text": [
      "skipping https://reviews.webmd.com/drugs/drugreview-54549-sinuade-capsule-er: page not found\n"
     ]
    },
    {
     "name": "stderr",
     "output_type": "stream",
     "text": [
      " 47%|████▋     | 231/494 [10:43<08:07,  1.85s/it]"
     ]
    },
    {
     "name": "stdout",
     "output_type": "stream",
     "text": [
      "skipping https://reviews.webmd.com/drugs/drugreview-54550-sinexen-capsule-er: page not found\n"
     ]
    },
    {
     "name": "stderr",
     "output_type": "stream",
     "text": [
      " 47%|████▋     | 232/494 [10:45<07:58,  1.83s/it]"
     ]
    },
    {
     "name": "stdout",
     "output_type": "stream",
     "text": [
      "skipping https://reviews.webmd.com/drugs/drugreview-54551-prochlor-iso-capsule-er: page not found\n"
     ]
    },
    {
     "name": "stderr",
     "output_type": "stream",
     "text": [
      " 47%|████▋     | 233/494 [10:46<07:36,  1.75s/it]"
     ]
    },
    {
     "name": "stdout",
     "output_type": "stream",
     "text": [
      "skipping https://reviews.webmd.com/drugs/drugreview-54552-cpa-timed-release-capsule-er: page not found\n"
     ]
    },
    {
     "name": "stderr",
     "output_type": "stream",
     "text": [
      " 47%|████▋     | 234/494 [10:48<07:25,  1.71s/it]"
     ]
    },
    {
     "name": "stdout",
     "output_type": "stream",
     "text": [
      "skipping https://reviews.webmd.com/drugs/drugreview-54553-dehist-sa-capsule-er: page not found\n"
     ]
    },
    {
     "name": "stderr",
     "output_type": "stream",
     "text": [
      " 48%|████▊     | 235/494 [10:49<07:25,  1.72s/it]"
     ]
    },
    {
     "name": "stdout",
     "output_type": "stream",
     "text": [
      "skipping https://reviews.webmd.com/drugs/drugreview-54554-truxade-capsule-er: page not found\n"
     ]
    },
    {
     "name": "stderr",
     "output_type": "stream",
     "text": [
      " 48%|████▊     | 236/494 [10:51<07:29,  1.74s/it]"
     ]
    },
    {
     "name": "stdout",
     "output_type": "stream",
     "text": [
      "skipping https://reviews.webmd.com/drugs/drugreview-54555-chlorprophen-capsule-er: page not found\n"
     ]
    },
    {
     "name": "stderr",
     "output_type": "stream",
     "text": [
      " 48%|████▊     | 237/494 [10:53<07:22,  1.72s/it]"
     ]
    },
    {
     "name": "stdout",
     "output_type": "stream",
     "text": [
      "skipping https://reviews.webmd.com/drugs/drugreview-54556-capade-capsule-er: page not found\n"
     ]
    },
    {
     "name": "stderr",
     "output_type": "stream",
     "text": [
      " 48%|████▊     | 238/494 [10:56<08:43,  2.05s/it]"
     ]
    },
    {
     "name": "stdout",
     "output_type": "stream",
     "text": [
      "skipping https://reviews.webmd.com/drugs/drugreview-54557-propanade-capsule-er: page not found\n"
     ]
    },
    {
     "name": "stderr",
     "output_type": "stream",
     "text": [
      " 48%|████▊     | 239/494 [10:58<08:37,  2.03s/it]"
     ]
    },
    {
     "name": "stdout",
     "output_type": "stream",
     "text": [
      "skipping https://reviews.webmd.com/drugs/drugreview-54558-propagen-capsule-er: page not found\n"
     ]
    },
    {
     "name": "stderr",
     "output_type": "stream",
     "text": [
      " 49%|████▊     | 240/494 [10:59<08:15,  1.95s/it]"
     ]
    },
    {
     "name": "stdout",
     "output_type": "stream",
     "text": [
      "skipping https://reviews.webmd.com/drugs/drugreview-54559-combat-12-hour-formula-capsule-er: page not found\n"
     ]
    },
    {
     "name": "stderr",
     "output_type": "stream",
     "text": [
      " 49%|████▉     | 241/494 [11:01<08:06,  1.92s/it]"
     ]
    },
    {
     "name": "stdout",
     "output_type": "stream",
     "text": [
      "skipping https://reviews.webmd.com/drugs/drugreview-54560-or-phen-ade-capsule-er: page not found\n",
      "https://reviews.webmd.com/drugs/drugreview-54561-orahist-liquid\n"
     ]
    },
    {
     "name": "stderr",
     "output_type": "stream",
     "text": [
      " 49%|████▉     | 242/494 [11:04<09:14,  2.20s/it]"
     ]
    },
    {
     "name": "stdout",
     "output_type": "stream",
     "text": [
      "https://reviews.webmd.com/drugs/drugreview-54561-orahist-syrup\n"
     ]
    },
    {
     "name": "stderr",
     "output_type": "stream",
     "text": [
      " 49%|████▉     | 244/494 [11:09<09:10,  2.20s/it]"
     ]
    },
    {
     "name": "stdout",
     "output_type": "stream",
     "text": [
      "skipping https://reviews.webmd.com/drugs/drugreview-54562-deconade-capsule-er: page not found\n"
     ]
    },
    {
     "name": "stderr",
     "output_type": "stream",
     "text": [
      " 50%|████▉     | 245/494 [11:11<08:44,  2.10s/it]"
     ]
    },
    {
     "name": "stdout",
     "output_type": "stream",
     "text": [
      "skipping https://reviews.webmd.com/drugs/drugreview-54563-uni-ade-no-2-capsule-er: page not found\n"
     ]
    },
    {
     "name": "stderr",
     "output_type": "stream",
     "text": [
      " 50%|████▉     | 246/494 [11:12<08:05,  1.96s/it]"
     ]
    },
    {
     "name": "stdout",
     "output_type": "stream",
     "text": [
      "skipping https://reviews.webmd.com/drugs/drugreview-54564-bionade-capsule-er: page not found\n"
     ]
    },
    {
     "name": "stderr",
     "output_type": "stream",
     "text": [
      " 50%|█████     | 247/494 [11:14<07:48,  1.90s/it]"
     ]
    },
    {
     "name": "stdout",
     "output_type": "stream",
     "text": [
      "skipping https://reviews.webmd.com/drugs/drugreview-54566-profenade-capsule-er: page not found\n"
     ]
    },
    {
     "name": "stderr",
     "output_type": "stream",
     "text": [
      " 50%|█████     | 248/494 [11:16<07:35,  1.85s/it]"
     ]
    },
    {
     "name": "stdout",
     "output_type": "stream",
     "text": [
      "skipping https://reviews.webmd.com/drugs/drugreview-54567-decongex-3-capsule-er: page not found\n"
     ]
    },
    {
     "name": "stderr",
     "output_type": "stream",
     "text": [
      " 50%|█████     | 249/494 [11:17<07:25,  1.82s/it]"
     ]
    },
    {
     "name": "stdout",
     "output_type": "stream",
     "text": [
      "skipping https://reviews.webmd.com/drugs/drugreview-54568-decospan-ii-capsule-er: page not found\n"
     ]
    },
    {
     "name": "stderr",
     "output_type": "stream",
     "text": [
      " 51%|█████     | 250/494 [11:19<07:22,  1.81s/it]"
     ]
    },
    {
     "name": "stdout",
     "output_type": "stream",
     "text": [
      "skipping https://reviews.webmd.com/drugs/drugreview-54601-allerest-12-hour-tablet-er: page not found\n"
     ]
    },
    {
     "name": "stderr",
     "output_type": "stream",
     "text": [
      " 51%|█████     | 251/494 [11:21<07:20,  1.81s/it]"
     ]
    },
    {
     "name": "stdout",
     "output_type": "stream",
     "text": [
      "skipping https://reviews.webmd.com/drugs/drugreview-54602-profenade-no-2-tablet-er: page not found\n",
      "https://reviews.webmd.com/drugs/drugreview-54644-pseudafen-plus-tablet\n"
     ]
    },
    {
     "name": "stderr",
     "output_type": "stream",
     "text": [
      " 51%|█████     | 252/494 [11:24<08:40,  2.15s/it]"
     ]
    },
    {
     "name": "stdout",
     "output_type": "stream",
     "text": [
      "https://reviews.webmd.com/drugs/drugreview-54645-su-phed-plus-tablet\n"
     ]
    },
    {
     "name": "stderr",
     "output_type": "stream",
     "text": [
      " 51%|█████     | 253/494 [11:27<09:19,  2.32s/it]"
     ]
    },
    {
     "name": "stdout",
     "output_type": "stream",
     "text": [
      "https://reviews.webmd.com/drugs/drugreview-54646-nasal-decongestant-plus-tablet\n"
     ]
    },
    {
     "name": "stderr",
     "output_type": "stream",
     "text": [
      " 51%|█████▏    | 254/494 [11:30<10:14,  2.56s/it]"
     ]
    },
    {
     "name": "stdout",
     "output_type": "stream",
     "text": [
      "https://reviews.webmd.com/drugs/drugreview-54647-su-phedrine-plus-tablet\n"
     ]
    },
    {
     "name": "stderr",
     "output_type": "stream",
     "text": [
      " 52%|█████▏    | 255/494 [11:32<10:16,  2.58s/it]"
     ]
    },
    {
     "name": "stdout",
     "output_type": "stream",
     "text": [
      "https://reviews.webmd.com/drugs/drugreview-54648-suphedrine-plus-tablet\n"
     ]
    },
    {
     "name": "stderr",
     "output_type": "stream",
     "text": [
      " 52%|█████▏    | 256/494 [11:35<10:20,  2.61s/it]"
     ]
    },
    {
     "name": "stdout",
     "output_type": "stream",
     "text": [
      "https://reviews.webmd.com/drugs/drugreview-54649-su-phedrin-plus-tablet\n"
     ]
    },
    {
     "name": "stderr",
     "output_type": "stream",
     "text": [
      " 52%|█████▏    | 257/494 [11:38<10:28,  2.65s/it]"
     ]
    },
    {
     "name": "stdout",
     "output_type": "stream",
     "text": [
      "https://reviews.webmd.com/drugs/drugreview-54650-sud-o-med-plus-tablet\n"
     ]
    },
    {
     "name": "stderr",
     "output_type": "stream",
     "text": [
      " 52%|█████▏    | 258/494 [11:42<12:01,  3.06s/it]"
     ]
    },
    {
     "name": "stdout",
     "output_type": "stream",
     "text": [
      "https://reviews.webmd.com/drugs/drugreview-54652-su-phedrine-plus-tablet\n"
     ]
    },
    {
     "name": "stderr",
     "output_type": "stream",
     "text": [
      " 52%|█████▏    | 259/494 [11:45<12:29,  3.19s/it]"
     ]
    },
    {
     "name": "stdout",
     "output_type": "stream",
     "text": [
      "https://reviews.webmd.com/drugs/drugreview-54653-orphedral-ad-tablet\n"
     ]
    },
    {
     "name": "stderr",
     "output_type": "stream",
     "text": [
      " 53%|█████▎    | 260/494 [11:48<11:53,  3.05s/it]"
     ]
    },
    {
     "name": "stdout",
     "output_type": "stream",
     "text": [
      "https://reviews.webmd.com/drugs/drugreview-54656-pediacare-cold-and-allergy-tablet-chewable\n"
     ]
    },
    {
     "name": "stderr",
     "output_type": "stream",
     "text": [
      " 53%|█████▎    | 261/494 [11:51<11:47,  3.04s/it]"
     ]
    },
    {
     "name": "stdout",
     "output_type": "stream",
     "text": [
      "https://reviews.webmd.com/drugs/drugreview-54657-decophed-plus-liquid\n"
     ]
    },
    {
     "name": "stderr",
     "output_type": "stream",
     "text": [
      " 53%|█████▎    | 262/494 [11:54<11:30,  2.98s/it]"
     ]
    },
    {
     "name": "stdout",
     "output_type": "stream",
     "text": [
      "https://reviews.webmd.com/drugs/drugreview-54658-q-fed-plus-liquid\n"
     ]
    },
    {
     "name": "stderr",
     "output_type": "stream",
     "text": [
      " 53%|█████▎    | 263/494 [11:57<10:59,  2.85s/it]"
     ]
    },
    {
     "name": "stdout",
     "output_type": "stream",
     "text": [
      "https://reviews.webmd.com/drugs/drugreview-54659-anafed-liquid\n"
     ]
    },
    {
     "name": "stderr",
     "output_type": "stream",
     "text": [
      " 53%|█████▎    | 264/494 [12:00<11:33,  3.02s/it]"
     ]
    },
    {
     "name": "stdout",
     "output_type": "stream",
     "text": [
      "https://reviews.webmd.com/drugs/drugreview-54660-co-pyronil-2-liquid\n"
     ]
    },
    {
     "name": "stderr",
     "output_type": "stream",
     "text": [
      "100%|██████████| 1/1 [00:01<00:00,  1.53s/it]\n",
      " 54%|█████▎    | 265/494 [12:04<13:00,  3.41s/it]"
     ]
    },
    {
     "name": "stdout",
     "output_type": "stream",
     "text": [
      "https://reviews.webmd.com/drugs/drugreview-54661-myfedrine-plus-liquid\n"
     ]
    },
    {
     "name": "stderr",
     "output_type": "stream",
     "text": [
      " 54%|█████▍    | 266/494 [12:07<12:10,  3.20s/it]"
     ]
    },
    {
     "name": "stdout",
     "output_type": "stream",
     "text": [
      "https://reviews.webmd.com/drugs/drugreview-54662-iso-liquid\n"
     ]
    },
    {
     "name": "stderr",
     "output_type": "stream",
     "text": [
      " 54%|█████▍    | 267/494 [12:10<12:04,  3.19s/it]"
     ]
    },
    {
     "name": "stdout",
     "output_type": "stream",
     "text": [
      "https://reviews.webmd.com/drugs/drugreview-54662-iso-syrup\n"
     ]
    },
    {
     "name": "stderr",
     "output_type": "stream",
     "text": [
      " 54%|█████▍    | 268/494 [12:13<11:43,  3.11s/it]"
     ]
    },
    {
     "name": "stdout",
     "output_type": "stream",
     "text": [
      "https://reviews.webmd.com/drugs/drugreview-54667-nalex-plain-df-liquid\n"
     ]
    },
    {
     "name": "stderr",
     "output_type": "stream",
     "text": [
      " 54%|█████▍    | 269/494 [12:16<11:03,  2.95s/it]"
     ]
    },
    {
     "name": "stdout",
     "output_type": "stream",
     "text": [
      "https://reviews.webmd.com/drugs/drugreview-54668-pseudoephedrine-chlorphenir-liquid\n"
     ]
    },
    {
     "name": "stderr",
     "output_type": "stream",
     "text": [
      " 55%|█████▍    | 270/494 [12:18<10:31,  2.82s/it]"
     ]
    },
    {
     "name": "stdout",
     "output_type": "stream",
     "text": [
      "https://reviews.webmd.com/drugs/drugreview-54669-isochlor-liquid\n"
     ]
    },
    {
     "name": "stderr",
     "output_type": "stream",
     "text": [
      " 55%|█████▍    | 271/494 [12:21<10:35,  2.85s/it]"
     ]
    },
    {
     "name": "stdout",
     "output_type": "stream",
     "text": [
      "https://reviews.webmd.com/drugs/drugreview-54670-anaplex-liquid\n"
     ]
    },
    {
     "name": "stderr",
     "output_type": "stream",
     "text": [
      " 55%|█████▌    | 272/494 [12:24<10:15,  2.77s/it]"
     ]
    },
    {
     "name": "stdout",
     "output_type": "stream",
     "text": [
      "https://reviews.webmd.com/drugs/drugreview-54671-triacting-orange-syrup\n"
     ]
    },
    {
     "name": "stderr",
     "output_type": "stream",
     "text": [
      " 55%|█████▌    | 273/494 [12:27<10:37,  2.89s/it]"
     ]
    },
    {
     "name": "stdout",
     "output_type": "stream",
     "text": [
      "https://reviews.webmd.com/drugs/drugreview-54672-dorcol-childrens-cold-formula-liquid\n"
     ]
    },
    {
     "name": "stderr",
     "output_type": "stream",
     "text": [
      " 55%|█████▌    | 274/494 [12:30<10:42,  2.92s/it]"
     ]
    },
    {
     "name": "stdout",
     "output_type": "stream",
     "text": [
      "https://reviews.webmd.com/drugs/drugreview-54673-pediacare-cold-formula-liquid\n"
     ]
    },
    {
     "name": "stderr",
     "output_type": "stream",
     "text": [
      " 56%|█████▌    | 275/494 [12:33<10:29,  2.88s/it]"
     ]
    },
    {
     "name": "stdout",
     "output_type": "stream",
     "text": [
      "https://reviews.webmd.com/drugs/drugreview-54717-efedra-tablet-er-12-hr\n"
     ]
    },
    {
     "name": "stderr",
     "output_type": "stream",
     "text": [
      " 56%|█████▌    | 276/494 [12:36<11:02,  3.04s/it]"
     ]
    },
    {
     "name": "stdout",
     "output_type": "stream",
     "text": [
      "https://reviews.webmd.com/drugs/drugreview-54718-sinutab-allergy-formula-tablet-er-12-hr\n"
     ]
    },
    {
     "name": "stderr",
     "output_type": "stream",
     "text": [
      "100%|██████████| 1/1 [00:01<00:00,  1.55s/it]\n",
      " 56%|█████▌    | 277/494 [12:41<12:40,  3.50s/it]"
     ]
    },
    {
     "name": "stdout",
     "output_type": "stream",
     "text": [
      "https://reviews.webmd.com/drugs/drugreview-54719-d-brom-tablet-er-12-hr\n"
     ]
    },
    {
     "name": "stderr",
     "output_type": "stream",
     "text": [
      " 56%|█████▋    | 278/494 [12:44<13:01,  3.62s/it]"
     ]
    },
    {
     "name": "stdout",
     "output_type": "stream",
     "text": [
      "https://reviews.webmd.com/drugs/drugreview-54720-bromphed-tablet-er-12-hr\n"
     ]
    },
    {
     "name": "stderr",
     "output_type": "stream",
     "text": [
      " 56%|█████▋    | 279/494 [12:47<12:08,  3.39s/it]"
     ]
    },
    {
     "name": "stdout",
     "output_type": "stream",
     "text": [
      "https://reviews.webmd.com/drugs/drugreview-54721-aller-con-tablet-er-12-hr\n"
     ]
    },
    {
     "name": "stderr",
     "output_type": "stream",
     "text": [
      " 57%|█████▋    | 280/494 [12:50<11:12,  3.14s/it]"
     ]
    },
    {
     "name": "stdout",
     "output_type": "stream",
     "text": [
      "https://reviews.webmd.com/drugs/drugreview-54722-demihist-td-tablet-er-12-hr\n"
     ]
    },
    {
     "name": "stderr",
     "output_type": "stream",
     "text": [
      " 57%|█████▋    | 281/494 [12:53<10:54,  3.07s/it]"
     ]
    },
    {
     "name": "stdout",
     "output_type": "stream",
     "text": [
      "https://reviews.webmd.com/drugs/drugreview-54723-dishist-td-tablet-er-12-hr\n"
     ]
    },
    {
     "name": "stderr",
     "output_type": "stream",
     "text": [
      " 57%|█████▋    | 282/494 [12:56<10:37,  3.01s/it]"
     ]
    },
    {
     "name": "stdout",
     "output_type": "stream",
     "text": [
      "https://reviews.webmd.com/drugs/drugreview-54724-histaril-tablet-er-12-hr\n"
     ]
    },
    {
     "name": "stderr",
     "output_type": "stream",
     "text": [
      " 57%|█████▋    | 283/494 [12:59<10:25,  2.96s/it]"
     ]
    },
    {
     "name": "stdout",
     "output_type": "stream",
     "text": [
      "https://reviews.webmd.com/drugs/drugreview-54725-12-hour-allergy-cold-medicine-tablet-er-12-hr\n"
     ]
    },
    {
     "name": "stderr",
     "output_type": "stream",
     "text": [
      " 57%|█████▋    | 284/494 [13:01<10:08,  2.90s/it]"
     ]
    },
    {
     "name": "stdout",
     "output_type": "stream",
     "text": [
      "https://reviews.webmd.com/drugs/drugreview-54726-antihistamine-nasal-decongest-tablet-er-12-hr\n"
     ]
    },
    {
     "name": "stderr",
     "output_type": "stream",
     "text": [
      " 58%|█████▊    | 285/494 [13:04<10:19,  2.97s/it]"
     ]
    },
    {
     "name": "stdout",
     "output_type": "stream",
     "text": [
      "https://reviews.webmd.com/drugs/drugreview-54727-sud-tablet-er-12-hr\n"
     ]
    },
    {
     "name": "stderr",
     "output_type": "stream",
     "text": [
      " 58%|█████▊    | 286/494 [13:07<09:56,  2.87s/it]"
     ]
    },
    {
     "name": "stdout",
     "output_type": "stream",
     "text": [
      "https://reviews.webmd.com/drugs/drugreview-54728-crexaca-tablet-er-12-hr\n"
     ]
    },
    {
     "name": "stderr",
     "output_type": "stream",
     "text": [
      " 58%|█████▊    | 287/494 [13:10<10:06,  2.93s/it]"
     ]
    },
    {
     "name": "stdout",
     "output_type": "stream",
     "text": [
      "https://reviews.webmd.com/drugs/drugreview-54729-nadex-plus-tablet-er-12-hr\n"
     ]
    },
    {
     "name": "stderr",
     "output_type": "stream",
     "text": [
      " 58%|█████▊    | 288/494 [13:13<09:47,  2.85s/it]"
     ]
    },
    {
     "name": "stdout",
     "output_type": "stream",
     "text": [
      "https://reviews.webmd.com/drugs/drugreview-54730-sidcon-tablet-er-12-hr\n"
     ]
    },
    {
     "name": "stderr",
     "output_type": "stream",
     "text": [
      " 59%|█████▊    | 289/494 [13:16<09:38,  2.82s/it]"
     ]
    },
    {
     "name": "stdout",
     "output_type": "stream",
     "text": [
      "https://reviews.webmd.com/drugs/drugreview-54731-re-drix-tablet-er-12-hr\n"
     ]
    },
    {
     "name": "stderr",
     "output_type": "stream",
     "text": [
      " 59%|█████▊    | 290/494 [13:18<09:35,  2.82s/it]"
     ]
    },
    {
     "name": "stdout",
     "output_type": "stream",
     "text": [
      "https://reviews.webmd.com/drugs/drugreview-54732-drixophed-tablet-er-12-hr\n"
     ]
    },
    {
     "name": "stderr",
     "output_type": "stream",
     "text": [
      " 59%|█████▉    | 291/494 [13:21<09:34,  2.83s/it]"
     ]
    },
    {
     "name": "stdout",
     "output_type": "stream",
     "text": [
      "https://reviews.webmd.com/drugs/drugreview-54733-ami-drix-tablet-er-12-hr\n"
     ]
    },
    {
     "name": "stderr",
     "output_type": "stream",
     "text": [
      " 59%|█████▉    | 292/494 [13:24<09:58,  2.96s/it]"
     ]
    },
    {
     "name": "stdout",
     "output_type": "stream",
     "text": [
      "https://reviews.webmd.com/drugs/drugreview-54734-dexohist-tablet-er-12-hr\n"
     ]
    },
    {
     "name": "stderr",
     "output_type": "stream",
     "text": [
      " 59%|█████▉    | 293/494 [13:27<09:53,  2.95s/it]"
     ]
    },
    {
     "name": "stdout",
     "output_type": "stream",
     "text": [
      "https://reviews.webmd.com/drugs/drugreview-54735-dexbrom-sudo-tablet-er-12-hr\n"
     ]
    },
    {
     "name": "stderr",
     "output_type": "stream",
     "text": [
      " 60%|█████▉    | 294/494 [13:30<09:57,  2.99s/it]"
     ]
    },
    {
     "name": "stdout",
     "output_type": "stream",
     "text": [
      "https://reviews.webmd.com/drugs/drugreview-54736-cheracol-sinus-tablet-er-12-hr\n"
     ]
    },
    {
     "name": "stderr",
     "output_type": "stream",
     "text": [
      " 60%|█████▉    | 295/494 [13:34<09:56,  3.00s/it]"
     ]
    },
    {
     "name": "stdout",
     "output_type": "stream",
     "text": [
      "https://reviews.webmd.com/drugs/drugreview-54737-dexaphed-sr-tablet-er-12-hr\n"
     ]
    },
    {
     "name": "stderr",
     "output_type": "stream",
     "text": [
      " 60%|█████▉    | 296/494 [13:38<11:01,  3.34s/it]"
     ]
    },
    {
     "name": "stdout",
     "output_type": "stream",
     "text": [
      "https://reviews.webmd.com/drugs/drugreview-54738-resp-tablet-er-12-hr\n"
     ]
    },
    {
     "name": "stderr",
     "output_type": "stream",
     "text": [
      " 60%|██████    | 297/494 [13:40<10:18,  3.14s/it]"
     ]
    },
    {
     "name": "stdout",
     "output_type": "stream",
     "text": [
      "https://reviews.webmd.com/drugs/drugreview-54739-decongestant-allergy-tablet\n"
     ]
    },
    {
     "name": "stderr",
     "output_type": "stream",
     "text": [
      " 60%|██████    | 298/494 [13:43<09:59,  3.06s/it]"
     ]
    },
    {
     "name": "stdout",
     "output_type": "stream",
     "text": [
      "https://reviews.webmd.com/drugs/drugreview-54740-allergy-medicine-w-decongest-tablet\n"
     ]
    },
    {
     "name": "stderr",
     "output_type": "stream",
     "text": [
      " 61%|██████    | 299/494 [13:46<09:50,  3.03s/it]"
     ]
    },
    {
     "name": "stdout",
     "output_type": "stream",
     "text": [
      "https://reviews.webmd.com/drugs/drugreview-54741-mallergan-vc-syrup\n"
     ]
    },
    {
     "name": "stderr",
     "output_type": "stream",
     "text": [
      " 61%|██████    | 300/494 [13:49<09:39,  2.99s/it]"
     ]
    },
    {
     "name": "stdout",
     "output_type": "stream",
     "text": [
      "https://reviews.webmd.com/drugs/drugreview-54742-chemergan-vc-syrup\n"
     ]
    },
    {
     "name": "stderr",
     "output_type": "stream",
     "text": [
      " 61%|██████    | 301/494 [13:52<09:37,  2.99s/it]"
     ]
    },
    {
     "name": "stdout",
     "output_type": "stream",
     "text": [
      "https://reviews.webmd.com/drugs/drugreview-54743-phen-tuss-ad-syrup\n"
     ]
    },
    {
     "name": "stderr",
     "output_type": "stream",
     "text": [
      " 61%|██████    | 302/494 [13:55<09:47,  3.06s/it]"
     ]
    },
    {
     "name": "stdout",
     "output_type": "stream",
     "text": [
      "https://reviews.webmd.com/drugs/drugreview-54744-rhinatate-12-pediatric-suspension\n"
     ]
    },
    {
     "name": "stderr",
     "output_type": "stream",
     "text": [
      " 61%|██████▏   | 303/494 [13:58<09:24,  2.96s/it]"
     ]
    },
    {
     "name": "stdout",
     "output_type": "stream",
     "text": [
      "https://reviews.webmd.com/drugs/drugreview-54745-triprolidine-w-pseudoephedrine-tablet\n"
     ]
    },
    {
     "name": "stderr",
     "output_type": "stream",
     "text": [
      " 62%|██████▏   | 304/494 [14:00<08:57,  2.83s/it]"
     ]
    },
    {
     "name": "stdout",
     "output_type": "stream",
     "text": [
      "https://reviews.webmd.com/drugs/drugreview-54746-tagafed-tablet\n"
     ]
    },
    {
     "name": "stderr",
     "output_type": "stream",
     "text": [
      " 62%|██████▏   | 305/494 [14:03<09:01,  2.87s/it]"
     ]
    },
    {
     "name": "stdout",
     "output_type": "stream",
     "text": [
      "https://reviews.webmd.com/drugs/drugreview-54747-alleract-tablet\n"
     ]
    },
    {
     "name": "stderr",
     "output_type": "stream",
     "text": [
      " 62%|██████▏   | 306/494 [14:06<08:56,  2.86s/it]"
     ]
    },
    {
     "name": "stdout",
     "output_type": "stream",
     "text": [
      "https://reviews.webmd.com/drugs/drugreview-54749-corphed-tablet\n"
     ]
    },
    {
     "name": "stderr",
     "output_type": "stream",
     "text": [
      " 62%|██████▏   | 307/494 [14:10<09:38,  3.09s/it]"
     ]
    },
    {
     "name": "stdout",
     "output_type": "stream",
     "text": [
      "https://reviews.webmd.com/drugs/drugreview-54750-a-rex-tablet\n"
     ]
    },
    {
     "name": "stderr",
     "output_type": "stream",
     "text": [
      " 62%|██████▏   | 308/494 [14:13<09:23,  3.03s/it]"
     ]
    },
    {
     "name": "stdout",
     "output_type": "stream",
     "text": [
      "https://reviews.webmd.com/drugs/drugreview-54751-triacin-tablet\n"
     ]
    },
    {
     "name": "stderr",
     "output_type": "stream",
     "text": [
      " 63%|██████▎   | 309/494 [14:16<09:15,  3.00s/it]"
     ]
    },
    {
     "name": "stdout",
     "output_type": "stream",
     "text": [
      "https://reviews.webmd.com/drugs/drugreview-54752-actagen-tablet\n"
     ]
    },
    {
     "name": "stderr",
     "output_type": "stream",
     "text": [
      " 63%|██████▎   | 310/494 [14:18<08:49,  2.88s/it]"
     ]
    },
    {
     "name": "stdout",
     "output_type": "stream",
     "text": [
      "https://reviews.webmd.com/drugs/drugreview-54753-sterafed-tablet\n"
     ]
    },
    {
     "name": "stderr",
     "output_type": "stream",
     "text": [
      " 63%|██████▎   | 311/494 [14:21<08:29,  2.78s/it]"
     ]
    },
    {
     "name": "stdout",
     "output_type": "stream",
     "text": [
      "https://reviews.webmd.com/drugs/drugreview-54754-suhist-tablet\n"
     ]
    },
    {
     "name": "stderr",
     "output_type": "stream",
     "text": [
      " 63%|██████▎   | 312/494 [14:23<08:15,  2.72s/it]"
     ]
    },
    {
     "name": "stdout",
     "output_type": "stream",
     "text": [
      "https://reviews.webmd.com/drugs/drugreview-54755-norafed-tablet\n"
     ]
    },
    {
     "name": "stderr",
     "output_type": "stream",
     "text": [
      " 63%|██████▎   | 313/494 [14:26<08:05,  2.68s/it]"
     ]
    },
    {
     "name": "stdout",
     "output_type": "stream",
     "text": [
      "https://reviews.webmd.com/drugs/drugreview-54756-atrofed-tablet\n"
     ]
    },
    {
     "name": "stderr",
     "output_type": "stream",
     "text": [
      " 64%|██████▎   | 314/494 [14:29<07:58,  2.66s/it]"
     ]
    },
    {
     "name": "stdout",
     "output_type": "stream",
     "text": [
      "https://reviews.webmd.com/drugs/drugreview-54757-acti-prem-tablet\n"
     ]
    },
    {
     "name": "stderr",
     "output_type": "stream",
     "text": [
      " 64%|██████▍   | 315/494 [14:31<07:53,  2.65s/it]"
     ]
    },
    {
     "name": "stdout",
     "output_type": "stream",
     "text": [
      "https://reviews.webmd.com/drugs/drugreview-54758-t-pseud-tablet\n"
     ]
    },
    {
     "name": "stderr",
     "output_type": "stream",
     "text": [
      " 64%|██████▍   | 316/494 [14:34<08:00,  2.70s/it]"
     ]
    },
    {
     "name": "stdout",
     "output_type": "stream",
     "text": [
      "https://reviews.webmd.com/drugs/drugreview-54759-trisudex-tablet\n"
     ]
    },
    {
     "name": "stderr",
     "output_type": "stream",
     "text": [
      " 64%|██████▍   | 317/494 [14:37<07:54,  2.68s/it]"
     ]
    },
    {
     "name": "stdout",
     "output_type": "stream",
     "text": [
      "https://reviews.webmd.com/drugs/drugreview-54760-trofedrin-tablet\n"
     ]
    },
    {
     "name": "stderr",
     "output_type": "stream",
     "text": [
      " 64%|██████▍   | 318/494 [14:40<07:55,  2.70s/it]"
     ]
    },
    {
     "name": "stdout",
     "output_type": "stream",
     "text": [
      "https://reviews.webmd.com/drugs/drugreview-54761-allerfrin-tablet\n"
     ]
    },
    {
     "name": "stderr",
     "output_type": "stream",
     "text": [
      "100%|██████████| 1/1 [00:01<00:00,  1.57s/it]\n",
      " 65%|██████▍   | 319/494 [14:44<09:49,  3.37s/it]"
     ]
    },
    {
     "name": "stdout",
     "output_type": "stream",
     "text": [
      "https://reviews.webmd.com/drugs/drugreview-54762-actahist-tablet\n"
     ]
    },
    {
     "name": "stderr",
     "output_type": "stream",
     "text": [
      " 65%|██████▍   | 320/494 [14:47<09:20,  3.22s/it]"
     ]
    },
    {
     "name": "stdout",
     "output_type": "stream",
     "text": [
      "https://reviews.webmd.com/drugs/drugreview-54763-actegen-tablet\n"
     ]
    },
    {
     "name": "stderr",
     "output_type": "stream",
     "text": [
      " 65%|██████▍   | 321/494 [14:50<08:51,  3.07s/it]"
     ]
    },
    {
     "name": "stdout",
     "output_type": "stream",
     "text": [
      "https://reviews.webmd.com/drugs/drugreview-54764-actacin-tablet\n"
     ]
    },
    {
     "name": "stderr",
     "output_type": "stream",
     "text": [
      " 65%|██████▌   | 322/494 [14:53<08:23,  2.93s/it]"
     ]
    },
    {
     "name": "stdout",
     "output_type": "stream",
     "text": [
      "https://reviews.webmd.com/drugs/drugreview-54765-antihistamine-w-decongestant-tablet\n"
     ]
    },
    {
     "name": "stderr",
     "output_type": "stream",
     "text": [
      " 65%|██████▌   | 323/494 [14:56<08:46,  3.08s/it]"
     ]
    },
    {
     "name": "stdout",
     "output_type": "stream",
     "text": [
      "https://reviews.webmd.com/drugs/drugreview-54766-uni-fed-tablet\n"
     ]
    },
    {
     "name": "stderr",
     "output_type": "stream",
     "text": [
      " 66%|██████▌   | 324/494 [14:59<08:18,  2.93s/it]"
     ]
    },
    {
     "name": "stdout",
     "output_type": "stream",
     "text": [
      "https://reviews.webmd.com/drugs/drugreview-54767-bioclear-tablet\n"
     ]
    },
    {
     "name": "stderr",
     "output_type": "stream",
     "text": [
      " 66%|██████▌   | 325/494 [15:02<08:19,  2.96s/it]"
     ]
    },
    {
     "name": "stdout",
     "output_type": "stream",
     "text": [
      "https://reviews.webmd.com/drugs/drugreview-54768-allergy-cold-tablet\n"
     ]
    },
    {
     "name": "stderr",
     "output_type": "stream",
     "text": [
      " 66%|██████▌   | 326/494 [15:05<08:25,  3.01s/it]"
     ]
    },
    {
     "name": "stdout",
     "output_type": "stream",
     "text": [
      "https://reviews.webmd.com/drugs/drugreview-54769-acticon-triprolidine-pse-tablet\n"
     ]
    },
    {
     "name": "stderr",
     "output_type": "stream",
     "text": [
      " 66%|██████▌   | 327/494 [15:08<08:10,  2.94s/it]"
     ]
    },
    {
     "name": "stdout",
     "output_type": "stream",
     "text": [
      "https://reviews.webmd.com/drugs/drugreview-54770-actamine-tablet\n"
     ]
    },
    {
     "name": "stderr",
     "output_type": "stream",
     "text": [
      " 66%|██████▋   | 328/494 [15:10<08:06,  2.93s/it]"
     ]
    },
    {
     "name": "stdout",
     "output_type": "stream",
     "text": [
      "https://reviews.webmd.com/drugs/drugreview-54771-acti-pren-tablet\n"
     ]
    },
    {
     "name": "stderr",
     "output_type": "stream",
     "text": [
      " 67%|██████▋   | 329/494 [15:13<07:40,  2.79s/it]"
     ]
    },
    {
     "name": "stdout",
     "output_type": "stream",
     "text": [
      "https://reviews.webmd.com/drugs/drugreview-54772-penta-tri-fed-tablet\n"
     ]
    },
    {
     "name": "stderr",
     "output_type": "stream",
     "text": [
      " 67%|██████▋   | 330/494 [15:16<07:42,  2.82s/it]"
     ]
    },
    {
     "name": "stdout",
     "output_type": "stream",
     "text": [
      "https://reviews.webmd.com/drugs/drugreview-54773-pharm-a-tabs-tablet\n"
     ]
    },
    {
     "name": "stderr",
     "output_type": "stream",
     "text": [
      " 67%|██████▋   | 331/494 [15:19<07:49,  2.88s/it]"
     ]
    },
    {
     "name": "stdout",
     "output_type": "stream",
     "text": [
      "https://reviews.webmd.com/drugs/drugreview-54774-tri-fed-tablet\n"
     ]
    },
    {
     "name": "stderr",
     "output_type": "stream",
     "text": [
      " 67%|██████▋   | 332/494 [15:22<08:08,  3.01s/it]"
     ]
    },
    {
     "name": "stdout",
     "output_type": "stream",
     "text": [
      "https://reviews.webmd.com/drugs/drugreview-54775-aphedrine-tablet\n"
     ]
    },
    {
     "name": "stderr",
     "output_type": "stream",
     "text": [
      " 67%|██████▋   | 333/494 [15:25<07:55,  2.95s/it]"
     ]
    },
    {
     "name": "stdout",
     "output_type": "stream",
     "text": [
      "https://reviews.webmd.com/drugs/drugreview-54776-superx-aphedrid-tablet\n"
     ]
    },
    {
     "name": "stderr",
     "output_type": "stream",
     "text": [
      " 68%|██████▊   | 334/494 [15:28<07:51,  2.95s/it]"
     ]
    },
    {
     "name": "stdout",
     "output_type": "stream",
     "text": [
      "https://reviews.webmd.com/drugs/drugreview-54777-kenifed-tablet\n"
     ]
    },
    {
     "name": "stderr",
     "output_type": "stream",
     "text": [
      " 68%|██████▊   | 335/494 [15:31<07:56,  2.99s/it]"
     ]
    },
    {
     "name": "stdout",
     "output_type": "stream",
     "text": [
      "https://reviews.webmd.com/drugs/drugreview-54778-tri-pseudated-tablet\n"
     ]
    },
    {
     "name": "stderr",
     "output_type": "stream",
     "text": [
      " 68%|██████▊   | 336/494 [15:34<07:43,  2.93s/it]"
     ]
    },
    {
     "name": "stdout",
     "output_type": "stream",
     "text": [
      "https://reviews.webmd.com/drugs/drugreview-54779-aphedrin-tablet\n"
     ]
    },
    {
     "name": "stderr",
     "output_type": "stream",
     "text": [
      " 68%|██████▊   | 337/494 [15:37<07:52,  3.01s/it]"
     ]
    },
    {
     "name": "stdout",
     "output_type": "stream",
     "text": [
      "https://reviews.webmd.com/drugs/drugreview-54780-antihist-nasal-tablet\n"
     ]
    },
    {
     "name": "stderr",
     "output_type": "stream",
     "text": [
      " 68%|██████▊   | 338/494 [15:40<07:39,  2.95s/it]"
     ]
    },
    {
     "name": "stdout",
     "output_type": "stream",
     "text": [
      "https://reviews.webmd.com/drugs/drugreview-54781-triphedrine-tablet\n"
     ]
    },
    {
     "name": "stderr",
     "output_type": "stream",
     "text": [
      " 69%|██████▊   | 339/494 [15:43<07:32,  2.92s/it]"
     ]
    },
    {
     "name": "stdout",
     "output_type": "stream",
     "text": [
      "https://reviews.webmd.com/drugs/drugreview-54782-senefed-tablet\n"
     ]
    },
    {
     "name": "stderr",
     "output_type": "stream",
     "text": [
      " 69%|██████▉   | 340/494 [15:46<07:42,  3.00s/it]"
     ]
    },
    {
     "name": "stdout",
     "output_type": "stream",
     "text": [
      "https://reviews.webmd.com/drugs/drugreview-54783-tri-phed-tablet\n"
     ]
    },
    {
     "name": "stderr",
     "output_type": "stream",
     "text": [
      " 69%|██████▉   | 341/494 [15:48<07:17,  2.86s/it]"
     ]
    },
    {
     "name": "stdout",
     "output_type": "stream",
     "text": [
      "https://reviews.webmd.com/drugs/drugreview-54784-vi-sudo-tablet\n"
     ]
    },
    {
     "name": "stderr",
     "output_type": "stream",
     "text": [
      " 69%|██████▉   | 342/494 [15:52<07:28,  2.95s/it]"
     ]
    },
    {
     "name": "stdout",
     "output_type": "stream",
     "text": [
      "https://reviews.webmd.com/drugs/drugreview-54785-therafed-tablet\n"
     ]
    },
    {
     "name": "stderr",
     "output_type": "stream",
     "text": [
      " 69%|██████▉   | 343/494 [15:54<07:14,  2.88s/it]"
     ]
    },
    {
     "name": "stdout",
     "output_type": "stream",
     "text": [
      "https://reviews.webmd.com/drugs/drugreview-54786-triofed-tablet\n"
     ]
    },
    {
     "name": "stderr",
     "output_type": "stream",
     "text": [
      " 70%|██████▉   | 344/494 [15:57<07:07,  2.85s/it]"
     ]
    },
    {
     "name": "stdout",
     "output_type": "stream",
     "text": [
      "https://reviews.webmd.com/drugs/drugreview-54787-act-o-med-tablet\n"
     ]
    },
    {
     "name": "stderr",
     "output_type": "stream",
     "text": [
      " 70%|██████▉   | 345/494 [16:00<06:49,  2.75s/it]"
     ]
    },
    {
     "name": "stdout",
     "output_type": "stream",
     "text": [
      "https://reviews.webmd.com/drugs/drugreview-54788-tri-act-tablet\n"
     ]
    },
    {
     "name": "stderr",
     "output_type": "stream",
     "text": [
      " 70%|███████   | 346/494 [16:02<06:39,  2.70s/it]"
     ]
    },
    {
     "name": "stdout",
     "output_type": "stream",
     "text": [
      "https://reviews.webmd.com/drugs/drugreview-54789-triact-tablet\n"
     ]
    },
    {
     "name": "stderr",
     "output_type": "stream",
     "text": [
      " 70%|███████   | 347/494 [16:05<06:31,  2.67s/it]"
     ]
    },
    {
     "name": "stdout",
     "output_type": "stream",
     "text": [
      "https://reviews.webmd.com/drugs/drugreview-54790-act-a-met-tablet\n"
     ]
    },
    {
     "name": "stderr",
     "output_type": "stream",
     "text": [
      " 70%|███████   | 348/494 [16:08<06:34,  2.70s/it]"
     ]
    },
    {
     "name": "stdout",
     "output_type": "stream",
     "text": [
      "https://reviews.webmd.com/drugs/drugreview-54792-antihistimine-tablet\n"
     ]
    },
    {
     "name": "stderr",
     "output_type": "stream",
     "text": [
      " 71%|███████   | 349/494 [16:11<06:55,  2.86s/it]"
     ]
    },
    {
     "name": "stdout",
     "output_type": "stream",
     "text": [
      "https://reviews.webmd.com/drugs/drugreview-54793-antihisttabs-tablet\n"
     ]
    },
    {
     "name": "stderr",
     "output_type": "stream",
     "text": [
      " 71%|███████   | 350/494 [16:13<06:43,  2.80s/it]"
     ]
    },
    {
     "name": "stdout",
     "output_type": "stream",
     "text": [
      "https://reviews.webmd.com/drugs/drugreview-54794-tri-afed-allergy-head-cold-tablet\n"
     ]
    },
    {
     "name": "stderr",
     "output_type": "stream",
     "text": [
      " 71%|███████   | 351/494 [16:16<06:44,  2.83s/it]"
     ]
    },
    {
     "name": "stdout",
     "output_type": "stream",
     "text": [
      "https://reviews.webmd.com/drugs/drugreview-54795-sinu-clear-syrup\n"
     ]
    },
    {
     "name": "stderr",
     "output_type": "stream",
     "text": [
      "100%|██████████| 1/1 [00:01<00:00,  1.78s/it]\n",
      " 71%|███████▏  | 352/494 [16:21<08:16,  3.50s/it]"
     ]
    },
    {
     "name": "stdout",
     "output_type": "stream",
     "text": [
      "https://reviews.webmd.com/drugs/drugreview-54796-isohist-syrup\n"
     ]
    },
    {
     "name": "stderr",
     "output_type": "stream",
     "text": [
      " 71%|███████▏  | 353/494 [16:24<07:27,  3.18s/it]"
     ]
    },
    {
     "name": "stdout",
     "output_type": "stream",
     "text": [
      "https://reviews.webmd.com/drugs/drugreview-54797-myfed-syrup\n"
     ]
    },
    {
     "name": "stderr",
     "output_type": "stream",
     "text": [
      " 72%|███████▏  | 354/494 [16:27<07:08,  3.06s/it]"
     ]
    },
    {
     "name": "stdout",
     "output_type": "stream",
     "text": [
      "https://reviews.webmd.com/drugs/drugreview-54798-allergy-cold-syrup\n"
     ]
    },
    {
     "name": "stderr",
     "output_type": "stream",
     "text": [
      " 72%|███████▏  | 355/494 [16:29<06:40,  2.88s/it]"
     ]
    },
    {
     "name": "stdout",
     "output_type": "stream",
     "text": [
      "https://reviews.webmd.com/drugs/drugreview-54799-lofed-syrup\n"
     ]
    },
    {
     "name": "stderr",
     "output_type": "stream",
     "text": [
      " 72%|███████▏  | 356/494 [16:32<06:45,  2.94s/it]"
     ]
    },
    {
     "name": "stdout",
     "output_type": "stream",
     "text": [
      "https://reviews.webmd.com/drugs/drugreview-54800-w-w-fed-syrup\n"
     ]
    },
    {
     "name": "stderr",
     "output_type": "stream",
     "text": [
      " 72%|███████▏  | 357/494 [16:35<06:32,  2.87s/it]"
     ]
    },
    {
     "name": "stdout",
     "output_type": "stream",
     "text": [
      "https://reviews.webmd.com/drugs/drugreview-54802-pseudodine-syrup\n"
     ]
    },
    {
     "name": "stderr",
     "output_type": "stream",
     "text": [
      " 72%|███████▏  | 358/494 [16:38<06:35,  2.91s/it]"
     ]
    },
    {
     "name": "stdout",
     "output_type": "stream",
     "text": [
      "https://reviews.webmd.com/drugs/drugreview-54803-bayfed-syrup\n"
     ]
    },
    {
     "name": "stderr",
     "output_type": "stream",
     "text": [
      " 73%|███████▎  | 359/494 [16:41<06:30,  2.89s/it]"
     ]
    },
    {
     "name": "stdout",
     "output_type": "stream",
     "text": [
      "https://reviews.webmd.com/drugs/drugreview-54804-triaphed-syrup\n"
     ]
    },
    {
     "name": "stderr",
     "output_type": "stream",
     "text": [
      " 73%|███████▎  | 360/494 [16:43<06:23,  2.86s/it]"
     ]
    },
    {
     "name": "stdout",
     "output_type": "stream",
     "text": [
      "https://reviews.webmd.com/drugs/drugreview-54805-rofed-syrup\n"
     ]
    },
    {
     "name": "stderr",
     "output_type": "stream",
     "text": [
      " 73%|███████▎  | 361/494 [16:47<06:30,  2.94s/it]"
     ]
    },
    {
     "name": "stdout",
     "output_type": "stream",
     "text": [
      "https://reviews.webmd.com/drugs/drugreview-54806-triptafed-syrup\n"
     ]
    },
    {
     "name": "stderr",
     "output_type": "stream",
     "text": [
      " 73%|███████▎  | 362/494 [16:49<06:24,  2.92s/it]"
     ]
    },
    {
     "name": "stdout",
     "output_type": "stream",
     "text": [
      "https://reviews.webmd.com/drugs/drugreview-54807-viphed-syrup\n"
     ]
    },
    {
     "name": "stderr",
     "output_type": "stream",
     "text": [
      " 73%|███████▎  | 363/494 [16:52<06:10,  2.82s/it]"
     ]
    },
    {
     "name": "stdout",
     "output_type": "stream",
     "text": [
      "https://reviews.webmd.com/drugs/drugreview-54808-harber-fed-syrup\n"
     ]
    },
    {
     "name": "stderr",
     "output_type": "stream",
     "text": [
      " 74%|███████▎  | 364/494 [16:55<06:20,  2.93s/it]"
     ]
    },
    {
     "name": "stdout",
     "output_type": "stream",
     "text": [
      "https://reviews.webmd.com/drugs/drugreview-54809-e-fed-syrup\n"
     ]
    },
    {
     "name": "stderr",
     "output_type": "stream",
     "text": [
      " 74%|███████▍  | 366/494 [17:00<05:34,  2.61s/it]"
     ]
    },
    {
     "name": "stdout",
     "output_type": "stream",
     "text": [
      "skipping https://reviews.webmd.com/drugs/drugreview-54810-leder-bp-tablet-er: page not found\n"
     ]
    },
    {
     "name": "stderr",
     "output_type": "stream",
     "text": [
      " 74%|███████▍  | 367/494 [17:02<05:05,  2.41s/it]"
     ]
    },
    {
     "name": "stdout",
     "output_type": "stream",
     "text": [
      "skipping https://reviews.webmd.com/drugs/drugreview-54811-tagatap-tablet-er: page not found\n"
     ]
    },
    {
     "name": "stderr",
     "output_type": "stream",
     "text": [
      " 74%|███████▍  | 368/494 [17:04<04:42,  2.24s/it]"
     ]
    },
    {
     "name": "stdout",
     "output_type": "stream",
     "text": [
      "skipping https://reviews.webmd.com/drugs/drugreview-54812-brompheniramine-compound-tablet-er: page not found\n"
     ]
    },
    {
     "name": "stderr",
     "output_type": "stream",
     "text": [
      " 75%|███████▍  | 369/494 [17:06<04:22,  2.10s/it]"
     ]
    },
    {
     "name": "stdout",
     "output_type": "stream",
     "text": [
      "skipping https://reviews.webmd.com/drugs/drugreview-54813-regal-tapp-tablet-er: page not found\n"
     ]
    },
    {
     "name": "stderr",
     "output_type": "stream",
     "text": [
      " 75%|███████▍  | 370/494 [17:07<04:07,  2.00s/it]"
     ]
    },
    {
     "name": "stdout",
     "output_type": "stream",
     "text": [
      "skipping https://reviews.webmd.com/drugs/drugreview-54814-bro-phen-tablet-er: page not found\n"
     ]
    },
    {
     "name": "stderr",
     "output_type": "stream",
     "text": [
      " 75%|███████▌  | 371/494 [17:09<04:00,  1.95s/it]"
     ]
    },
    {
     "name": "stdout",
     "output_type": "stream",
     "text": [
      "skipping https://reviews.webmd.com/drugs/drugreview-54815-dramarex-s-c-tablet-er: page not found\n"
     ]
    },
    {
     "name": "stderr",
     "output_type": "stream",
     "text": [
      " 75%|███████▌  | 372/494 [17:11<04:00,  1.97s/it]"
     ]
    },
    {
     "name": "stdout",
     "output_type": "stream",
     "text": [
      "skipping https://reviews.webmd.com/drugs/drugreview-54816-b-p-tablet-er: page not found\n"
     ]
    },
    {
     "name": "stderr",
     "output_type": "stream",
     "text": [
      " 76%|███████▌  | 373/494 [17:13<04:07,  2.04s/it]"
     ]
    },
    {
     "name": "stdout",
     "output_type": "stream",
     "text": [
      "skipping https://reviews.webmd.com/drugs/drugreview-54817-steratap-tablet-er: page not found\n"
     ]
    },
    {
     "name": "stderr",
     "output_type": "stream",
     "text": [
      " 76%|███████▌  | 374/494 [17:15<03:58,  1.99s/it]"
     ]
    },
    {
     "name": "stdout",
     "output_type": "stream",
     "text": [
      "skipping https://reviews.webmd.com/drugs/drugreview-54818-purebrom-compound-tablet-er: page not found\n"
     ]
    },
    {
     "name": "stderr",
     "output_type": "stream",
     "text": [
      " 76%|███████▌  | 375/494 [17:17<03:51,  1.94s/it]"
     ]
    },
    {
     "name": "stdout",
     "output_type": "stream",
     "text": [
      "skipping https://reviews.webmd.com/drugs/drugreview-54819-normatane-tablet-er: page not found\n"
     ]
    },
    {
     "name": "stderr",
     "output_type": "stream",
     "text": [
      " 76%|███████▌  | 376/494 [17:19<03:36,  1.83s/it]"
     ]
    },
    {
     "name": "stdout",
     "output_type": "stream",
     "text": [
      "skipping https://reviews.webmd.com/drugs/drugreview-54820-partapp-tablet-er: page not found\n"
     ]
    },
    {
     "name": "stderr",
     "output_type": "stream",
     "text": [
      " 76%|███████▋  | 377/494 [17:20<03:28,  1.78s/it]"
     ]
    },
    {
     "name": "stdout",
     "output_type": "stream",
     "text": [
      "skipping https://reviews.webmd.com/drugs/drugreview-54821-bromepaph-tablet-er: page not found\n"
     ]
    },
    {
     "name": "stderr",
     "output_type": "stream",
     "text": [
      " 77%|███████▋  | 378/494 [17:22<03:21,  1.73s/it]"
     ]
    },
    {
     "name": "stdout",
     "output_type": "stream",
     "text": [
      "skipping https://reviews.webmd.com/drugs/drugreview-54822-veltap-tablet-er: page not found\n"
     ]
    },
    {
     "name": "stderr",
     "output_type": "stream",
     "text": [
      " 77%|███████▋  | 379/494 [17:24<03:27,  1.80s/it]"
     ]
    },
    {
     "name": "stdout",
     "output_type": "stream",
     "text": [
      "skipping https://reviews.webmd.com/drugs/drugreview-54823-spentapp-tablet-er: page not found\n"
     ]
    },
    {
     "name": "stderr",
     "output_type": "stream",
     "text": [
      " 77%|███████▋  | 380/494 [17:26<03:28,  1.83s/it]"
     ]
    },
    {
     "name": "stdout",
     "output_type": "stream",
     "text": [
      "skipping https://reviews.webmd.com/drugs/drugreview-54824-midatapp-tablet-er: page not found\n"
     ]
    },
    {
     "name": "stderr",
     "output_type": "stream",
     "text": [
      " 77%|███████▋  | 381/494 [17:28<03:27,  1.83s/it]"
     ]
    },
    {
     "name": "stdout",
     "output_type": "stream",
     "text": [
      "skipping https://reviews.webmd.com/drugs/drugreview-54826-cortapp-pa-tablet-er: page not found\n"
     ]
    },
    {
     "name": "stderr",
     "output_type": "stream",
     "text": [
      " 77%|███████▋  | 382/494 [17:30<03:25,  1.83s/it]"
     ]
    },
    {
     "name": "stdout",
     "output_type": "stream",
     "text": [
      "skipping https://reviews.webmd.com/drugs/drugreview-54831-brocon-tablet-er: page not found\n"
     ]
    },
    {
     "name": "stderr",
     "output_type": "stream",
     "text": [
      " 78%|███████▊  | 383/494 [17:31<03:14,  1.76s/it]"
     ]
    },
    {
     "name": "stdout",
     "output_type": "stream",
     "text": [
      "skipping https://reviews.webmd.com/drugs/drugreview-54832-penta-tapp-tablet-er: page not found\n"
     ]
    },
    {
     "name": "stderr",
     "output_type": "stream",
     "text": [
      " 78%|███████▊  | 384/494 [17:33<03:24,  1.86s/it]"
     ]
    },
    {
     "name": "stdout",
     "output_type": "stream",
     "text": [
      "skipping https://reviews.webmd.com/drugs/drugreview-54833-schertapp-tablet-er: page not found\n"
     ]
    },
    {
     "name": "stderr",
     "output_type": "stream",
     "text": [
      " 78%|███████▊  | 385/494 [17:35<03:18,  1.82s/it]"
     ]
    },
    {
     "name": "stdout",
     "output_type": "stream",
     "text": [
      "skipping https://reviews.webmd.com/drugs/drugreview-54834-kentapp-tablet-er: page not found\n"
     ]
    },
    {
     "name": "stderr",
     "output_type": "stream",
     "text": [
      " 78%|███████▊  | 386/494 [17:37<03:15,  1.81s/it]"
     ]
    },
    {
     "name": "stdout",
     "output_type": "stream",
     "text": [
      "skipping https://reviews.webmd.com/drugs/drugreview-54835-dixatap-tablet-er: page not found\n"
     ]
    },
    {
     "name": "stderr",
     "output_type": "stream",
     "text": [
      " 78%|███████▊  | 387/494 [17:38<03:08,  1.76s/it]"
     ]
    },
    {
     "name": "stdout",
     "output_type": "stream",
     "text": [
      "skipping https://reviews.webmd.com/drugs/drugreview-54836-phenatapp-tablet-er: page not found\n"
     ]
    },
    {
     "name": "stderr",
     "output_type": "stream",
     "text": [
      " 79%|███████▊  | 388/494 [17:40<03:07,  1.77s/it]"
     ]
    },
    {
     "name": "stdout",
     "output_type": "stream",
     "text": [
      "skipping https://reviews.webmd.com/drugs/drugreview-54837-par-tapp-tablet-er: page not found\n"
     ]
    },
    {
     "name": "stderr",
     "output_type": "stream",
     "text": [
      " 79%|███████▊  | 389/494 [17:42<03:05,  1.77s/it]"
     ]
    },
    {
     "name": "stdout",
     "output_type": "stream",
     "text": [
      "skipping https://reviews.webmd.com/drugs/drugreview-54838-acatapp-tablet-er: page not found\n"
     ]
    },
    {
     "name": "stderr",
     "output_type": "stream",
     "text": [
      " 79%|███████▉  | 390/494 [17:44<03:08,  1.81s/it]"
     ]
    },
    {
     "name": "stdout",
     "output_type": "stream",
     "text": [
      "skipping https://reviews.webmd.com/drugs/drugreview-54839-suptapp-tablet-er: page not found\n"
     ]
    },
    {
     "name": "stderr",
     "output_type": "stream",
     "text": [
      " 79%|███████▉  | 391/494 [17:46<03:04,  1.79s/it]"
     ]
    },
    {
     "name": "stdout",
     "output_type": "stream",
     "text": [
      "skipping https://reviews.webmd.com/drugs/drugreview-54840-j-tap-tablet-er: page not found\n",
      "https://reviews.webmd.com/drugs/drugreview-54851-phenylephrine-cpm-pyrilamine-tablet\n"
     ]
    },
    {
     "name": "stderr",
     "output_type": "stream",
     "text": [
      " 79%|███████▉  | 392/494 [17:48<03:36,  2.12s/it]"
     ]
    },
    {
     "name": "stdout",
     "output_type": "stream",
     "text": [
      "https://reviews.webmd.com/drugs/drugreview-54852-tanorin-tablet\n"
     ]
    },
    {
     "name": "stderr",
     "output_type": "stream",
     "text": [
      " 80%|███████▉  | 393/494 [17:53<04:32,  2.70s/it]"
     ]
    },
    {
     "name": "stdout",
     "output_type": "stream",
     "text": [
      "https://reviews.webmd.com/drugs/drugreview-54853-decotan-tablet\n"
     ]
    },
    {
     "name": "stderr",
     "output_type": "stream",
     "text": [
      " 80%|███████▉  | 394/494 [17:55<04:30,  2.70s/it]"
     ]
    },
    {
     "name": "stdout",
     "output_type": "stream",
     "text": [
      "https://reviews.webmd.com/drugs/drugreview-54854-harber-tannate-tablet\n"
     ]
    },
    {
     "name": "stderr",
     "output_type": "stream",
     "text": [
      " 80%|███████▉  | 395/494 [17:58<04:24,  2.67s/it]"
     ]
    },
    {
     "name": "stdout",
     "output_type": "stream",
     "text": [
      "https://reviews.webmd.com/drugs/drugreview-54855-tannate-tablet\n"
     ]
    },
    {
     "name": "stderr",
     "output_type": "stream",
     "text": [
      " 80%|████████  | 396/494 [18:01<04:25,  2.71s/it]"
     ]
    },
    {
     "name": "stdout",
     "output_type": "stream",
     "text": [
      "https://reviews.webmd.com/drugs/drugreview-54856-tandral-tablet\n"
     ]
    },
    {
     "name": "stderr",
     "output_type": "stream",
     "text": [
      " 80%|████████  | 397/494 [18:04<04:28,  2.77s/it]"
     ]
    },
    {
     "name": "stdout",
     "output_type": "stream",
     "text": [
      "https://reviews.webmd.com/drugs/drugreview-54857-tritann-suspension\n"
     ]
    },
    {
     "name": "stderr",
     "output_type": "stream",
     "text": [
      " 81%|████████  | 398/494 [18:06<04:26,  2.77s/it]"
     ]
    },
    {
     "name": "stdout",
     "output_type": "stream",
     "text": [
      "https://reviews.webmd.com/drugs/drugreview-54858-gelhist-suspension\n"
     ]
    },
    {
     "name": "stderr",
     "output_type": "stream",
     "text": [
      " 81%|████████  | 399/494 [18:09<04:21,  2.75s/it]"
     ]
    },
    {
     "name": "stdout",
     "output_type": "stream",
     "text": [
      "https://reviews.webmd.com/drugs/drugreview-54859-tannate-pediatric-suspension\n"
     ]
    },
    {
     "name": "stderr",
     "output_type": "stream",
     "text": [
      "100%|██████████| 1/1 [00:01<00:00,  1.60s/it]\n",
      " 81%|████████  | 400/494 [18:13<05:02,  3.22s/it]"
     ]
    },
    {
     "name": "stdout",
     "output_type": "stream",
     "text": [
      "https://reviews.webmd.com/drugs/drugreview-54860-tannate-s-suspension\n"
     ]
    },
    {
     "name": "stderr",
     "output_type": "stream",
     "text": [
      " 81%|████████  | 401/494 [18:16<04:45,  3.07s/it]"
     ]
    },
    {
     "name": "stdout",
     "output_type": "stream",
     "text": [
      "https://reviews.webmd.com/drugs/drugreview-581-polydryl-cough-syrup\n"
     ]
    },
    {
     "name": "stderr",
     "output_type": "stream",
     "text": [
      " 81%|████████▏ | 402/494 [18:19<04:46,  3.12s/it]"
     ]
    },
    {
     "name": "stdout",
     "output_type": "stream",
     "text": [
      "https://reviews.webmd.com/drugs/drugreview-582-polydryl-allergy-syrup\n"
     ]
    },
    {
     "name": "stderr",
     "output_type": "stream",
     "text": [
      " 82%|████████▏ | 404/494 [18:24<04:07,  2.75s/it]"
     ]
    },
    {
     "name": "stdout",
     "output_type": "stream",
     "text": [
      "skipping https://reviews.webmd.com/drugs/drugreview-590-polytapp-elixir: page not found\n"
     ]
    },
    {
     "name": "stderr",
     "output_type": "stream",
     "text": [
      " 82%|████████▏ | 405/494 [18:26<03:32,  2.39s/it]"
     ]
    },
    {
     "name": "stdout",
     "output_type": "stream",
     "text": [
      "skipping https://reviews.webmd.com/drugs/drugreview-591-polytapp-allergy-elixir: page not found\n",
      "https://reviews.webmd.com/drugs/drugreview-60-chlorpheniramine-phenylephrine-elixir\n"
     ]
    },
    {
     "name": "stderr",
     "output_type": "stream",
     "text": [
      "100%|██████████| 1/1 [00:01<00:00,  1.66s/it]\n",
      " 82%|████████▏ | 406/494 [18:30<04:28,  3.06s/it]"
     ]
    },
    {
     "name": "stdout",
     "output_type": "stream",
     "text": [
      "https://reviews.webmd.com/drugs/drugreview-602-childrens-non-aspirin-cold-tablet-chewable\n"
     ]
    },
    {
     "name": "stderr",
     "output_type": "stream",
     "text": [
      " 82%|████████▏ | 407/494 [18:33<04:24,  3.04s/it]"
     ]
    },
    {
     "name": "stdout",
     "output_type": "stream",
     "text": [
      "https://reviews.webmd.com/drugs/drugreview-60577-deca-gen-drops\n"
     ]
    },
    {
     "name": "stderr",
     "output_type": "stream",
     "text": [
      " 83%|████████▎ | 408/494 [18:36<04:11,  2.93s/it]"
     ]
    },
    {
     "name": "stdout",
     "output_type": "stream",
     "text": [
      "https://reviews.webmd.com/drugs/drugreview-618-sav-on-dayhist-1-tablet\n"
     ]
    },
    {
     "name": "stderr",
     "output_type": "stream",
     "text": [
      " 83%|████████▎ | 409/494 [18:39<04:02,  2.85s/it]"
     ]
    },
    {
     "name": "stdout",
     "output_type": "stream",
     "text": [
      "https://reviews.webmd.com/drugs/drugreview-63256-pain-rel-allergy-sinus-tablet\n"
     ]
    },
    {
     "name": "stderr",
     "output_type": "stream",
     "text": [
      " 83%|████████▎ | 410/494 [18:42<04:01,  2.87s/it]"
     ]
    },
    {
     "name": "stdout",
     "output_type": "stream",
     "text": [
      "https://reviews.webmd.com/drugs/drugreview-63258-headache-pm\n"
     ]
    },
    {
     "name": "stderr",
     "output_type": "stream",
     "text": [
      " 83%|████████▎ | 411/494 [18:44<03:52,  2.80s/it]"
     ]
    },
    {
     "name": "stdout",
     "output_type": "stream",
     "text": [
      "https://reviews.webmd.com/drugs/drugreview-63346-bromaxefed-rf-syrup\n"
     ]
    },
    {
     "name": "stderr",
     "output_type": "stream",
     "text": [
      " 83%|████████▎ | 412/494 [18:47<03:51,  2.82s/it]"
     ]
    },
    {
     "name": "stdout",
     "output_type": "stream",
     "text": [
      "https://reviews.webmd.com/drugs/drugreview-63417-r-tanna-s-suspension\n"
     ]
    },
    {
     "name": "stderr",
     "output_type": "stream",
     "text": [
      "100%|██████████| 1/1 [00:01<00:00,  1.50s/it]\n",
      " 84%|████████▎ | 413/494 [18:51<04:22,  3.24s/it]"
     ]
    },
    {
     "name": "stdout",
     "output_type": "stream",
     "text": [
      "https://reviews.webmd.com/drugs/drugreview-63830-coldec-ds-syrup\n"
     ]
    },
    {
     "name": "stderr",
     "output_type": "stream",
     "text": [
      " 84%|████████▍ | 415/494 [18:56<03:41,  2.80s/it]"
     ]
    },
    {
     "name": "stdout",
     "output_type": "stream",
     "text": [
      "skipping https://reviews.webmd.com/drugs/drugreview-64043-brompheniramine-tannate-suspension: page not found\n"
     ]
    },
    {
     "name": "stderr",
     "output_type": "stream",
     "text": [
      " 84%|████████▍ | 416/494 [18:58<03:12,  2.47s/it]"
     ]
    },
    {
     "name": "stdout",
     "output_type": "stream",
     "text": [
      "skipping https://reviews.webmd.com/drugs/drugreview-64048-brovex-suspension: page not found\n"
     ]
    },
    {
     "name": "stderr",
     "output_type": "stream",
     "text": [
      " 84%|████████▍ | 417/494 [19:00<02:52,  2.24s/it]"
     ]
    },
    {
     "name": "stdout",
     "output_type": "stream",
     "text": [
      "skipping https://reviews.webmd.com/drugs/drugreview-64049-brovex-ct-tablet-chewable: page not found\n",
      "https://reviews.webmd.com/drugs/drugreview-64057-triprolidine-hcl\n"
     ]
    },
    {
     "name": "stderr",
     "output_type": "stream",
     "text": [
      "100%|██████████| 1/1 [00:01<00:00,  1.88s/it]\n",
      " 85%|████████▍ | 418/494 [19:04<03:45,  2.97s/it]"
     ]
    },
    {
     "name": "stdout",
     "output_type": "stream",
     "text": [
      "https://reviews.webmd.com/drugs/drugreview-64058-zymine-syrup\n"
     ]
    },
    {
     "name": "stderr",
     "output_type": "stream",
     "text": [
      "100%|██████████| 1/1 [00:01<00:00,  1.52s/it]\n",
      " 85%|████████▍ | 419/494 [19:09<04:22,  3.50s/it]"
     ]
    },
    {
     "name": "stdout",
     "output_type": "stream",
     "text": [
      "https://reviews.webmd.com/drugs/drugreview-64069-medi-tabs-pm-tablet\n"
     ]
    },
    {
     "name": "stderr",
     "output_type": "stream",
     "text": [
      " 85%|████████▌ | 420/494 [19:12<04:01,  3.26s/it]"
     ]
    },
    {
     "name": "stdout",
     "output_type": "stream",
     "text": [
      "https://reviews.webmd.com/drugs/drugreview-64075-phenabid-tablet-er\n"
     ]
    },
    {
     "name": "stderr",
     "output_type": "stream",
     "text": [
      "100%|██████████| 1/1 [00:01<00:00,  1.58s/it]\n",
      " 85%|████████▌ | 421/494 [19:16<04:24,  3.63s/it]"
     ]
    },
    {
     "name": "stdout",
     "output_type": "stream",
     "text": [
      "https://reviews.webmd.com/drugs/drugreview-64141-p-ephed-hcl-chlor-mal-tablet-er-12-hr\n"
     ]
    },
    {
     "name": "stderr",
     "output_type": "stream",
     "text": [
      " 85%|████████▌ | 422/494 [19:19<04:08,  3.46s/it]"
     ]
    },
    {
     "name": "stdout",
     "output_type": "stream",
     "text": [
      "https://reviews.webmd.com/drugs/drugreview-64224-sleep-aid-tablet\n"
     ]
    },
    {
     "name": "stderr",
     "output_type": "stream",
     "text": [
      " 86%|████████▌ | 423/494 [19:22<03:51,  3.26s/it]"
     ]
    },
    {
     "name": "stdout",
     "output_type": "stream",
     "text": [
      "https://reviews.webmd.com/drugs/drugreview-64448-night-time-cramp-relief-tablet\n"
     ]
    },
    {
     "name": "stderr",
     "output_type": "stream",
     "text": [
      " 86%|████████▌ | 424/494 [19:26<03:52,  3.33s/it]"
     ]
    },
    {
     "name": "stdout",
     "output_type": "stream",
     "text": [
      "https://reviews.webmd.com/drugs/drugreview-64457-cold-medicine-plus-capsule\n"
     ]
    },
    {
     "name": "stderr",
     "output_type": "stream",
     "text": [
      " 86%|████████▌ | 425/494 [19:28<03:36,  3.13s/it]"
     ]
    },
    {
     "name": "stdout",
     "output_type": "stream",
     "text": [
      "https://reviews.webmd.com/drugs/drugreview-64478-cold-plus-capsule\n"
     ]
    },
    {
     "name": "stderr",
     "output_type": "stream",
     "text": [
      " 86%|████████▌ | 426/494 [19:32<03:46,  3.33s/it]"
     ]
    },
    {
     "name": "stdout",
     "output_type": "stream",
     "text": [
      "https://reviews.webmd.com/drugs/drugreview-64636-coldex-a-sr-tablet-er\n"
     ]
    },
    {
     "name": "stderr",
     "output_type": "stream",
     "text": [
      " 86%|████████▋ | 427/494 [19:35<03:43,  3.34s/it]"
     ]
    },
    {
     "name": "stdout",
     "output_type": "stream",
     "text": [
      "https://reviews.webmd.com/drugs/drugreview-64665-allergy-sinus-headache-tablet\n"
     ]
    },
    {
     "name": "stderr",
     "output_type": "stream",
     "text": [
      "100%|██████████| 1/1 [00:01<00:00,  1.70s/it]\n",
      " 87%|████████▋ | 428/494 [19:40<04:05,  3.72s/it]"
     ]
    },
    {
     "name": "stdout",
     "output_type": "stream",
     "text": [
      "https://reviews.webmd.com/drugs/drugreview-64695-mintex-pd-liquid\n"
     ]
    },
    {
     "name": "stderr",
     "output_type": "stream",
     "text": [
      " 87%|████████▋ | 430/494 [19:45<03:14,  3.03s/it]"
     ]
    },
    {
     "name": "stdout",
     "output_type": "stream",
     "text": [
      "skipping https://reviews.webmd.com/drugs/drugreview-647-sav-on-grape-elixir: page not found\n",
      "https://reviews.webmd.com/drugs/drugreview-64728-alavert\n"
     ]
    },
    {
     "name": "stderr",
     "output_type": "stream",
     "text": [
      "100%|██████████| 1/1 [00:01<00:00,  1.58s/it]\n",
      " 87%|████████▋ | 431/494 [19:50<03:39,  3.48s/it]"
     ]
    },
    {
     "name": "stdout",
     "output_type": "stream",
     "text": [
      "https://reviews.webmd.com/drugs/drugreview-64728-alavert-tablet\n"
     ]
    },
    {
     "name": "stderr",
     "output_type": "stream",
     "text": [
      "100%|██████████| 1/1 [00:01<00:00,  1.72s/it]\n",
      " 87%|████████▋ | 432/494 [19:55<04:02,  3.92s/it]"
     ]
    },
    {
     "name": "stdout",
     "output_type": "stream",
     "text": [
      "https://reviews.webmd.com/drugs/drugreview-64795-decongestant-anitihistamine-tablet\n"
     ]
    },
    {
     "name": "stderr",
     "output_type": "stream",
     "text": [
      " 88%|████████▊ | 434/494 [20:00<03:10,  3.18s/it]"
     ]
    },
    {
     "name": "stdout",
     "output_type": "stream",
     "text": [
      "skipping https://reviews.webmd.com/drugs/drugreview-64796-penta-bade-capsule-er: page not found\n",
      "https://reviews.webmd.com/drugs/drugreview-64797-phenyltoloxamine-pe-cpm-liquid\n"
     ]
    },
    {
     "name": "stderr",
     "output_type": "stream",
     "text": [
      "100%|██████████| 1/1 [00:01<00:00,  1.83s/it]\n",
      " 88%|████████▊ | 435/494 [20:05<03:38,  3.71s/it]"
     ]
    },
    {
     "name": "stdout",
     "output_type": "stream",
     "text": [
      "https://reviews.webmd.com/drugs/drugreview-64824-triactin-cold-and-allergy-syrup\n"
     ]
    },
    {
     "name": "stderr",
     "output_type": "stream",
     "text": [
      " 88%|████████▊ | 436/494 [20:08<03:22,  3.49s/it]"
     ]
    },
    {
     "name": "stdout",
     "output_type": "stream",
     "text": [
      "https://reviews.webmd.com/drugs/drugreview-64852-pm-pain-relief-tablet\n"
     ]
    },
    {
     "name": "stderr",
     "output_type": "stream",
     "text": [
      "100%|██████████| 1/1 [00:01<00:00,  1.69s/it]\n",
      " 88%|████████▊ | 437/494 [20:13<03:44,  3.94s/it]"
     ]
    },
    {
     "name": "stdout",
     "output_type": "stream",
     "text": [
      "https://reviews.webmd.com/drugs/drugreview-73-childrens-loratadine\n"
     ]
    },
    {
     "name": "stderr",
     "output_type": "stream",
     "text": [
      "100%|██████████| 6/6 [00:11<00:00,  1.95s/it]\n",
      " 89%|████████▊ | 438/494 [20:28<06:48,  7.30s/it]"
     ]
    },
    {
     "name": "stdout",
     "output_type": "stream",
     "text": [
      "https://reviews.webmd.com/drugs/drugreview-73-loratadine-tablet-disintegrating\n"
     ]
    },
    {
     "name": "stderr",
     "output_type": "stream",
     "text": [
      "100%|██████████| 6/6 [00:12<00:00,  2.06s/it]\n",
      " 89%|████████▉ | 439/494 [20:43<08:56,  9.76s/it]"
     ]
    },
    {
     "name": "stdout",
     "output_type": "stream",
     "text": [
      "https://reviews.webmd.com/drugs/drugreview-74901-tavist-nd-tablet\n"
     ]
    },
    {
     "name": "stderr",
     "output_type": "stream",
     "text": [
      " 89%|████████▉ | 440/494 [20:46<06:57,  7.74s/it]"
     ]
    },
    {
     "name": "stdout",
     "output_type": "stream",
     "text": [
      "https://reviews.webmd.com/drugs/drugreview-74934-carbinoxamine-pse-syrup\n"
     ]
    },
    {
     "name": "stderr",
     "output_type": "stream",
     "text": [
      " 89%|████████▉ | 441/494 [20:49<05:29,  6.22s/it]"
     ]
    },
    {
     "name": "stdout",
     "output_type": "stream",
     "text": [
      "https://reviews.webmd.com/drugs/drugreview-74965-hisdec-liquid\n"
     ]
    },
    {
     "name": "stderr",
     "output_type": "stream",
     "text": [
      " 89%|████████▉ | 442/494 [20:52<04:35,  5.29s/it]"
     ]
    },
    {
     "name": "stdout",
     "output_type": "stream",
     "text": [
      "https://reviews.webmd.com/drugs/drugreview-74981-cpm-pse-liquid\n"
     ]
    },
    {
     "name": "stderr",
     "output_type": "stream",
     "text": [
      "100%|██████████| 1/1 [00:01<00:00,  1.56s/it]\n",
      " 90%|████████▉ | 443/494 [20:57<04:22,  5.15s/it]"
     ]
    },
    {
     "name": "stdout",
     "output_type": "stream",
     "text": [
      "https://reviews.webmd.com/drugs/drugreview-74986-tylenol-pm-tablet\n"
     ]
    },
    {
     "name": "stderr",
     "output_type": "stream",
     "text": [
      "100%|██████████| 2/2 [00:04<00:00,  2.00s/it]\n",
      " 90%|████████▉ | 444/494 [21:06<05:15,  6.32s/it]"
     ]
    },
    {
     "name": "stdout",
     "output_type": "stream",
     "text": [
      "https://reviews.webmd.com/drugs/drugreview-75013-aspirin-free-pm-tablet\n"
     ]
    },
    {
     "name": "stderr",
     "output_type": "stream",
     "text": [
      " 90%|█████████ | 445/494 [21:09<04:24,  5.40s/it]"
     ]
    },
    {
     "name": "stdout",
     "output_type": "stream",
     "text": [
      "https://reviews.webmd.com/drugs/drugreview-75017-wal-itin\n"
     ]
    },
    {
     "name": "stderr",
     "output_type": "stream",
     "text": [
      "100%|██████████| 1/1 [00:01<00:00,  1.50s/it]\n",
      " 90%|█████████ | 446/494 [21:14<04:03,  5.08s/it]"
     ]
    },
    {
     "name": "stdout",
     "output_type": "stream",
     "text": [
      "https://reviews.webmd.com/drugs/drugreview-75017-wal-itin-tablet-disintegrating\n"
     ]
    },
    {
     "name": "stderr",
     "output_type": "stream",
     "text": [
      "100%|██████████| 1/1 [00:02<00:00,  2.27s/it]\n",
      " 90%|█████████ | 447/494 [21:19<03:59,  5.10s/it]"
     ]
    },
    {
     "name": "stdout",
     "output_type": "stream",
     "text": [
      "https://reviews.webmd.com/drugs/drugreview-75036-ketorolac-tromethamine-drops\n"
     ]
    },
    {
     "name": "stderr",
     "output_type": "stream",
     "text": [
      "100%|██████████| 1/1 [00:01<00:00,  1.87s/it]\n",
      " 91%|█████████ | 448/494 [21:24<03:55,  5.11s/it]"
     ]
    },
    {
     "name": "stdout",
     "output_type": "stream",
     "text": [
      "https://reviews.webmd.com/drugs/drugreview-75039-bromfenex-pe-pediatric-capsule-12-hr-capsule-er-hr\n"
     ]
    },
    {
     "name": "stderr",
     "output_type": "stream",
     "text": [
      " 91%|█████████ | 449/494 [21:27<03:21,  4.49s/it]"
     ]
    },
    {
     "name": "stdout",
     "output_type": "stream",
     "text": [
      "https://reviews.webmd.com/drugs/drugreview-75040-bromfenex-pe-capsule-12-hr-capsule-er-hr\n"
     ]
    },
    {
     "name": "stderr",
     "output_type": "stream",
     "text": [
      " 91%|█████████ | 450/494 [21:30<03:00,  4.10s/it]"
     ]
    },
    {
     "name": "stdout",
     "output_type": "stream",
     "text": [
      "https://reviews.webmd.com/drugs/drugreview-75042-nedocromil-drops\n"
     ]
    },
    {
     "name": "stderr",
     "output_type": "stream",
     "text": [
      " 91%|█████████▏| 451/494 [21:33<02:41,  3.76s/it]"
     ]
    },
    {
     "name": "stdout",
     "output_type": "stream",
     "text": [
      "https://reviews.webmd.com/drugs/drugreview-75109-histex-ie-capsule-multiphase-12-hr-capsule-er-hr\n"
     ]
    },
    {
     "name": "stderr",
     "output_type": "stream",
     "text": [
      " 91%|█████████▏| 452/494 [21:36<02:29,  3.56s/it]"
     ]
    },
    {
     "name": "stdout",
     "output_type": "stream",
     "text": [
      "https://reviews.webmd.com/drugs/drugreview-75130-qdall-capsule-multiphase-24-hr-capsule-er-hr\n"
     ]
    },
    {
     "name": "stderr",
     "output_type": "stream",
     "text": [
      "100%|██████████| 1/1 [00:01<00:00,  1.51s/it]\n",
      " 92%|█████████▏| 453/494 [21:41<02:37,  3.84s/it]"
     ]
    },
    {
     "name": "stdout",
     "output_type": "stream",
     "text": [
      "https://reviews.webmd.com/drugs/drugreview-75134-dytan-d-suspension\n"
     ]
    },
    {
     "name": "stderr",
     "output_type": "stream",
     "text": [
      "100%|██████████| 1/1 [00:02<00:00,  2.04s/it]\n",
      " 92%|█████████▏| 454/494 [21:46<02:51,  4.28s/it]"
     ]
    },
    {
     "name": "stdout",
     "output_type": "stream",
     "text": [
      "https://reviews.webmd.com/drugs/drugreview-75168-childs-cold-allergy-liquid\n"
     ]
    },
    {
     "name": "stderr",
     "output_type": "stream",
     "text": [
      " 92%|█████████▏| 456/494 [21:51<02:05,  3.30s/it]"
     ]
    },
    {
     "name": "stdout",
     "output_type": "stream",
     "text": [
      "skipping https://reviews.webmd.com/drugs/drugreview-75174-chlorphen-pseudoeph-ibuprofen-tablet: page not found\n"
     ]
    },
    {
     "name": "stderr",
     "output_type": "stream",
     "text": [
      " 93%|█████████▎| 457/494 [21:53<01:45,  2.86s/it]"
     ]
    },
    {
     "name": "stdout",
     "output_type": "stream",
     "text": [
      "skipping https://reviews.webmd.com/drugs/drugreview-75177-advil: page not found\n",
      "https://reviews.webmd.com/drugs/drugreview-75224-palgic-liquid\n"
     ]
    },
    {
     "name": "stderr",
     "output_type": "stream",
     "text": [
      "100%|██████████| 1/1 [00:01<00:00,  1.72s/it]\n",
      " 93%|█████████▎| 458/494 [21:57<02:03,  3.43s/it]"
     ]
    },
    {
     "name": "stdout",
     "output_type": "stream",
     "text": [
      "https://reviews.webmd.com/drugs/drugreview-75240-alavert\n"
     ]
    },
    {
     "name": "stderr",
     "output_type": "stream",
     "text": [
      "100%|██████████| 1/1 [00:01<00:00,  1.82s/it]\n",
      " 93%|█████████▎| 459/494 [22:03<02:24,  4.12s/it]"
     ]
    },
    {
     "name": "stdout",
     "output_type": "stream",
     "text": [
      "https://reviews.webmd.com/drugs/drugreview-75320-lorata-d\n"
     ]
    },
    {
     "name": "stderr",
     "output_type": "stream",
     "text": [
      "100%|██████████| 1/1 [00:01<00:00,  1.75s/it]\n",
      " 93%|█████████▎| 460/494 [22:08<02:24,  4.25s/it]"
     ]
    },
    {
     "name": "stdout",
     "output_type": "stream",
     "text": [
      "https://reviews.webmd.com/drugs/drugreview-76338-phenadoz-suppository\n"
     ]
    },
    {
     "name": "stderr",
     "output_type": "stream",
     "text": [
      "100%|██████████| 1/1 [00:01<00:00,  1.81s/it]\n",
      " 93%|█████████▎| 461/494 [22:13<02:29,  4.54s/it]"
     ]
    },
    {
     "name": "stdout",
     "output_type": "stream",
     "text": [
      "https://reviews.webmd.com/drugs/drugreview-76344-carbihist-liquid\n"
     ]
    },
    {
     "name": "stderr",
     "output_type": "stream",
     "text": [
      " 94%|█████████▎| 462/494 [22:16<02:10,  4.09s/it]"
     ]
    },
    {
     "name": "stdout",
     "output_type": "stream",
     "text": [
      "https://reviews.webmd.com/drugs/drugreview-76387-allergy-relief-d-tablet-er-24-hr\n"
     ]
    },
    {
     "name": "stderr",
     "output_type": "stream",
     "text": [
      " 94%|█████████▎| 463/494 [22:19<01:57,  3.79s/it]"
     ]
    },
    {
     "name": "stdout",
     "output_type": "stream",
     "text": [
      "https://reviews.webmd.com/drugs/drugreview-76555-bromdec-drops\n"
     ]
    },
    {
     "name": "stderr",
     "output_type": "stream",
     "text": [
      " 94%|█████████▍| 464/494 [22:22<01:47,  3.57s/it]"
     ]
    },
    {
     "name": "stdout",
     "output_type": "stream",
     "text": [
      "https://reviews.webmd.com/drugs/drugreview-76556-carbic-ds-syrup\n"
     ]
    },
    {
     "name": "stderr",
     "output_type": "stream",
     "text": [
      " 94%|█████████▍| 465/494 [22:25<01:36,  3.33s/it]"
     ]
    },
    {
     "name": "stdout",
     "output_type": "stream",
     "text": [
      "https://reviews.webmd.com/drugs/drugreview-76568-histuss-pd-liquid\n"
     ]
    },
    {
     "name": "stderr",
     "output_type": "stream",
     "text": [
      " 94%|█████████▍| 466/494 [22:28<01:30,  3.22s/it]"
     ]
    },
    {
     "name": "stdout",
     "output_type": "stream",
     "text": [
      "https://reviews.webmd.com/drugs/drugreview-76573-histuss-liquid\n"
     ]
    },
    {
     "name": "stderr",
     "output_type": "stream",
     "text": [
      " 95%|█████████▍| 468/494 [22:33<01:12,  2.77s/it]"
     ]
    },
    {
     "name": "stdout",
     "output_type": "stream",
     "text": [
      "skipping https://reviews.webmd.com/drugs/drugreview-76585-tri-histine-elixir: page not found\n",
      "https://reviews.webmd.com/drugs/drugreview-76587-tanavan-suspension\n"
     ]
    },
    {
     "name": "stderr",
     "output_type": "stream",
     "text": [
      " 95%|█████████▍| 469/494 [22:36<01:13,  2.95s/it]"
     ]
    },
    {
     "name": "stdout",
     "output_type": "stream",
     "text": [
      "https://reviews.webmd.com/drugs/drugreview-76803-zymine-d-liquid\n"
     ]
    },
    {
     "name": "stderr",
     "output_type": "stream",
     "text": [
      " 95%|█████████▌| 470/494 [22:39<01:09,  2.91s/it]"
     ]
    },
    {
     "name": "stdout",
     "output_type": "stream",
     "text": [
      "https://reviews.webmd.com/drugs/drugreview-76819-carboxine-liquid\n"
     ]
    },
    {
     "name": "stderr",
     "output_type": "stream",
     "text": [
      " 95%|█████████▌| 471/494 [22:42<01:08,  2.98s/it]"
     ]
    },
    {
     "name": "stdout",
     "output_type": "stream",
     "text": [
      "https://reviews.webmd.com/drugs/drugreview-76861-lohist-d\n"
     ]
    },
    {
     "name": "stderr",
     "output_type": "stream",
     "text": [
      "100%|██████████| 1/1 [00:01<00:00,  1.52s/it]\n",
      " 96%|█████████▌| 472/494 [22:47<01:15,  3.44s/it]"
     ]
    },
    {
     "name": "stdout",
     "output_type": "stream",
     "text": [
      "https://reviews.webmd.com/drugs/drugreview-76870-pse-bpm-liquid\n"
     ]
    },
    {
     "name": "stderr",
     "output_type": "stream",
     "text": [
      " 96%|█████████▌| 473/494 [22:50<01:12,  3.45s/it]"
     ]
    },
    {
     "name": "stdout",
     "output_type": "stream",
     "text": [
      "https://reviews.webmd.com/drugs/drugreview-76873-vazol-d-liquid\n"
     ]
    },
    {
     "name": "stderr",
     "output_type": "stream",
     "text": [
      " 96%|█████████▌| 474/494 [22:53<01:06,  3.30s/it]"
     ]
    },
    {
     "name": "stdout",
     "output_type": "stream",
     "text": [
      "https://reviews.webmd.com/drugs/drugreview-76895-v-tann-suspension\n"
     ]
    },
    {
     "name": "stderr",
     "output_type": "stream",
     "text": [
      " 96%|█████████▋| 476/494 [22:58<00:52,  2.89s/it]"
     ]
    },
    {
     "name": "stdout",
     "output_type": "stream",
     "text": [
      "skipping https://reviews.webmd.com/drugs/drugreview-77818-cpm-diphenhyd-pse-acetaminophn-tablet: page not found\n"
     ]
    },
    {
     "name": "stderr",
     "output_type": "stream",
     "text": [
      " 97%|█████████▋| 477/494 [23:00<00:42,  2.52s/it]"
     ]
    },
    {
     "name": "stdout",
     "output_type": "stream",
     "text": [
      "skipping https://reviews.webmd.com/drugs/drugreview-77821-tylenol-allergy-sinus-con-pack-tablet: page not found\n",
      "https://reviews.webmd.com/drugs/drugreview-77843-nalex-a-12-suspension\n"
     ]
    },
    {
     "name": "stderr",
     "output_type": "stream",
     "text": [
      "100%|██████████| 1/1 [00:01<00:00,  1.70s/it]\n",
      " 97%|█████████▋| 478/494 [23:05<00:52,  3.26s/it]"
     ]
    },
    {
     "name": "stdout",
     "output_type": "stream",
     "text": [
      "https://reviews.webmd.com/drugs/drugreview-77873-ed-chlor-tan-tablet\n"
     ]
    },
    {
     "name": "stderr",
     "output_type": "stream",
     "text": [
      "100%|██████████| 1/1 [00:01<00:00,  1.65s/it]\n",
      " 97%|█████████▋| 479/494 [23:10<00:54,  3.65s/it]"
     ]
    },
    {
     "name": "stdout",
     "output_type": "stream",
     "text": [
      "https://reviews.webmd.com/drugs/drugreview-77899-benadryl-allergy-sinus-childs-liquid\n"
     ]
    },
    {
     "name": "stderr",
     "output_type": "stream",
     "text": [
      "100%|██████████| 1/1 [00:01<00:00,  1.44s/it]\n",
      " 97%|█████████▋| 481/494 [23:16<00:42,  3.28s/it]"
     ]
    },
    {
     "name": "stdout",
     "output_type": "stream",
     "text": [
      "skipping https://reviews.webmd.com/drugs/drugreview-77922-flu-cold-medicine-4-60-650-powder-packet: page not found\n",
      "https://reviews.webmd.com/drugs/drugreview-77923-rescon-jr-tablet-er-12-hr\n"
     ]
    },
    {
     "name": "stderr",
     "output_type": "stream",
     "text": [
      " 98%|█████████▊| 482/494 [23:19<00:37,  3.13s/it]"
     ]
    },
    {
     "name": "stdout",
     "output_type": "stream",
     "text": [
      "https://reviews.webmd.com/drugs/drugreview-78209-dexchlorphen-pse-acetaminophen-tablet\n"
     ]
    },
    {
     "name": "stderr",
     "output_type": "stream",
     "text": [
      " 98%|█████████▊| 483/494 [23:22<00:34,  3.17s/it]"
     ]
    },
    {
     "name": "stdout",
     "output_type": "stream",
     "text": [
      "https://reviews.webmd.com/drugs/drugreview-78210-rescon-mx-tablet-er-12-hr\n"
     ]
    },
    {
     "name": "stderr",
     "output_type": "stream",
     "text": [
      "100%|██████████| 1/1 [00:01<00:00,  1.78s/it]\n",
      " 98%|█████████▊| 484/494 [23:27<00:35,  3.55s/it]"
     ]
    },
    {
     "name": "stdout",
     "output_type": "stream",
     "text": [
      "https://reviews.webmd.com/drugs/drugreview-78215-hexaflu-tablet\n"
     ]
    },
    {
     "name": "stderr",
     "output_type": "stream",
     "text": [
      " 98%|█████████▊| 486/494 [23:32<00:24,  3.01s/it]"
     ]
    },
    {
     "name": "stdout",
     "output_type": "stream",
     "text": [
      "skipping https://reviews.webmd.com/drugs/drugreview-85-myphetapp-af-elixir: page not found\n",
      "https://reviews.webmd.com/drugs/drugreview-91-claritin\n"
     ]
    },
    {
     "name": "stderr",
     "output_type": "stream",
     "text": [
      "100%|██████████| 1/1 [00:01<00:00,  1.86s/it]\n",
      " 99%|█████████▉| 488/494 [23:38<00:17,  2.99s/it]"
     ]
    },
    {
     "name": "stdout",
     "output_type": "stream",
     "text": [
      "skipping https://reviews.webmd.com/drugs/drugreview-9705-dexchlor-tablet-er: page not found\n"
     ]
    },
    {
     "name": "stderr",
     "output_type": "stream",
     "text": [
      " 99%|█████████▉| 489/494 [23:40<00:12,  2.56s/it]"
     ]
    },
    {
     "name": "stdout",
     "output_type": "stream",
     "text": [
      "skipping https://reviews.webmd.com/drugs/drugreview-9740-optimine-tablet: page not found\n",
      "https://reviews.webmd.com/drugs/drugreview-9788-orestyl-tablet\n"
     ]
    },
    {
     "name": "stderr",
     "output_type": "stream",
     "text": [
      " 99%|█████████▉| 490/494 [23:43<00:10,  2.66s/it]"
     ]
    },
    {
     "name": "stdout",
     "output_type": "stream",
     "text": [
      "https://reviews.webmd.com/drugs/drugreview-9792-synchlor-a-tablet\n"
     ]
    },
    {
     "name": "stderr",
     "output_type": "stream",
     "text": [
      " 99%|█████████▉| 491/494 [23:45<00:08,  2.69s/it]"
     ]
    },
    {
     "name": "stdout",
     "output_type": "stream",
     "text": [
      "https://reviews.webmd.com/drugs/drugreview-98-histalet-syrup\n"
     ]
    },
    {
     "name": "stderr",
     "output_type": "stream",
     "text": [
      "100%|██████████| 1/1 [00:01<00:00,  1.53s/it]\n",
      "100%|█████████▉| 492/494 [23:50<00:06,  3.18s/it]"
     ]
    },
    {
     "name": "stdout",
     "output_type": "stream",
     "text": [
      "https://reviews.webmd.com/drugs/drugreview-9838-chlor-pheniton-tablet\n"
     ]
    },
    {
     "name": "stderr",
     "output_type": "stream",
     "text": [
      "100%|█████████▉| 493/494 [23:53<00:03,  3.05s/it]"
     ]
    },
    {
     "name": "stdout",
     "output_type": "stream",
     "text": [
      "https://reviews.webmd.com/drugs/drugreview-99-chlorpheniramine-pseudoephed-syrup\n"
     ]
    },
    {
     "name": "stderr",
     "output_type": "stream",
     "text": [
      "100%|██████████| 494/494 [23:56<00:00,  2.91s/it]\n"
     ]
    }
   ],
   "source": [
    "#all drugs\n",
    "for review_url in tqdm(review_urls):\n",
    "    response = requests.get(review_url, headers=headers)\n",
    "    if response.url == 'https://www.webmd.com/404':\n",
    "        print(f'skipping {review_url}: page not found')\n",
    "    else:\n",
    "        print(review_url)\n",
    "        reviews_df = crawl_reviews_pages(review_url, reviews_df)\n",
    "        \n",
    "reviews_df.to_csv('../../data/datasets/allergyconjunctivitis_reviews.csv')\n"
   ]
  }
 ],
 "metadata": {
  "kernelspec": {
   "display_name": "rioxarray_env",
   "language": "python",
   "name": "python3"
  },
  "language_info": {
   "codemirror_mode": {
    "name": "ipython",
    "version": 3
   },
   "file_extension": ".py",
   "mimetype": "text/x-python",
   "name": "python",
   "nbconvert_exporter": "python",
   "pygments_lexer": "ipython3",
   "version": "3.9.18"
  }
 },
 "nbformat": 4,
 "nbformat_minor": 2
}
