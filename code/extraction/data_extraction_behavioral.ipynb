{
 "cells": [
  {
   "cell_type": "markdown",
   "metadata": {},
   "source": [
    "Medication reviews extracted from webmd for diabetes type 2 mellitus.\n",
    "\n",
    "Source code applied to extract reviews from web.MD: 'https://github.com/sepidehparhami/scraping-webmd-drug-reviews/tree/main'. "
   ]
  },
  {
   "cell_type": "code",
   "execution_count": 1,
   "metadata": {},
   "outputs": [
    {
     "data": {
      "text/plain": [
       "array(['https://reviews.webmd.com/drugs/drugreview-10341-haloperidol-intensol-concentrate',\n",
       "       'https://reviews.webmd.com/drugs/drugreview-10405-thiothixene-hcl-capsule',\n",
       "       'https://reviews.webmd.com/drugs/drugreview-10962-epitol',\n",
       "       'https://reviews.webmd.com/drugs/drugreview-10991-atretol-tablet',\n",
       "       'https://reviews.webmd.com/drugs/drugreview-11066-haloperidol-lactate-vial',\n",
       "       'https://reviews.webmd.com/drugs/drugreview-11515-thorazine-solution',\n",
       "       'https://reviews.webmd.com/drugs/drugreview-11516-trifluoperazine-solution',\n",
       "       'https://reviews.webmd.com/drugs/drugreview-11519-stelazine-solution',\n",
       "       'https://reviews.webmd.com/drugs/drugreview-11647-lithonate-capsule',\n",
       "       'https://reviews.webmd.com/drugs/drugreview-11980-haloperidol-lactate',\n",
       "       'https://reviews.webmd.com/drugs/drugreview-11998-trifluoperazine-hcl',\n",
       "       'https://reviews.webmd.com/drugs/drugreview-13881-chlorpromazine-hcl-ampul',\n",
       "       'https://reviews.webmd.com/drugs/drugreview-14374-lithium-citrate',\n",
       "       'https://reviews.webmd.com/drugs/drugreview-14375-loxapine',\n",
       "       'https://reviews.webmd.com/drugs/drugreview-14398-valproic-acid',\n",
       "       'https://reviews.webmd.com/drugs/drugreview-1444-chlorpromazine-hcl',\n",
       "       'https://reviews.webmd.com/drugs/drugreview-14460-fluphenazine-decanoate-vial',\n",
       "       'https://reviews.webmd.com/drugs/drugreview-144686-abilify-discmelt-tablet-disintegrating',\n",
       "       'https://reviews.webmd.com/drugs/drugreview-146479-aripiprazole-solution',\n",
       "       'https://reviews.webmd.com/drugs/drugreview-146479-aripiprazole-suspension-er-reconstituted-suspension-reconstituted',\n",
       "       'https://reviews.webmd.com/drugs/drugreview-146718-paliperidone-er',\n",
       "       'https://reviews.webmd.com/drugs/drugreview-146745-invega',\n",
       "       'https://reviews.webmd.com/drugs/drugreview-14677-haldol-ampul',\n",
       "       'https://reviews.webmd.com/drugs/drugreview-148614-seroquel-xr',\n",
       "       'https://reviews.webmd.com/drugs/drugreview-1493-carbamazepine',\n",
       "       'https://reviews.webmd.com/drugs/drugreview-1493-carbamazepine-er',\n",
       "       'https://reviews.webmd.com/drugs/drugreview-1502-tegretol',\n",
       "       'https://reviews.webmd.com/drugs/drugreview-151904-risperidone-odt-tablet-disintegrating',\n",
       "       'https://reviews.webmd.com/drugs/drugreview-152294-risperidone-m-tab-tablet-disintegrating',\n",
       "       'https://reviews.webmd.com/drugs/drugreview-152780-paliperidone-palmitate-syringe',\n",
       "       'https://reviews.webmd.com/drugs/drugreview-152807-invega-sustenna-syringe',\n",
       "       'https://reviews.webmd.com/drugs/drugreview-152900-asenapine-maleate-tablet',\n",
       "       'https://reviews.webmd.com/drugs/drugreview-152902-saphris-tablet',\n",
       "       'https://reviews.webmd.com/drugs/drugreview-153411-iloperidone-tablet',\n",
       "       'https://reviews.webmd.com/drugs/drugreview-153413-fanapt',\n",
       "       'https://reviews.webmd.com/drugs/drugreview-153606-olanzapine-pamoate-suspension-for-reconstitution',\n",
       "       'https://reviews.webmd.com/drugs/drugreview-153611-zyprexa-relprevv-vial',\n",
       "       'https://reviews.webmd.com/drugs/drugreview-155126-lurasidone-hcl',\n",
       "       'https://reviews.webmd.com/drugs/drugreview-155134-latuda',\n",
       "       'https://reviews.webmd.com/drugs/drugreview-162761-saphris-black-cherry-tablet',\n",
       "       'https://reviews.webmd.com/drugs/drugreview-163174-loxapine-breath-activated-powder-inhaler',\n",
       "       'https://reviews.webmd.com/drugs/drugreview-163617-abilify-maintena-suspension-er-vial',\n",
       "       'https://reviews.webmd.com/drugs/drugreview-1644-olanzapine',\n",
       "       'https://reviews.webmd.com/drugs/drugreview-1644-olanzapine-odt',\n",
       "       'https://reviews.webmd.com/drugs/drugreview-165650-adasuve-10-mg-breath-activated',\n",
       "       'https://reviews.webmd.com/drugs/drugreview-168817-paliperidone-palm-3-month-syringe',\n",
       "       'https://reviews.webmd.com/drugs/drugreview-168884-invega-trinza-syringe',\n",
       "       'https://reviews.webmd.com/drugs/drugreview-169290-brexpiprazole-tablet',\n",
       "       'https://reviews.webmd.com/drugs/drugreview-169294-rexulti',\n",
       "       'https://reviews.webmd.com/drugs/drugreview-1699-zyprexa',\n",
       "       'https://reviews.webmd.com/drugs/drugreview-169917-cariprazine-capsule',\n",
       "       'https://reviews.webmd.com/drugs/drugreview-170027-vraylar',\n",
       "       'https://reviews.webmd.com/drugs/drugreview-170036-aripiprazole-lauroxil-suspension-er-syringe',\n",
       "       'https://reviews.webmd.com/drugs/drugreview-170041-aristada-suspension-er-syringe',\n",
       "       'https://reviews.webmd.com/drugs/drugreview-175570-aripiprazole-lauroxil-submicr-suspension-er-syringe',\n",
       "       'https://reviews.webmd.com/drugs/drugreview-175572-aristada-initio-suspension-er-syringe',\n",
       "       'https://reviews.webmd.com/drugs/drugreview-175840-risperidone-suspension-er-syringe',\n",
       "       'https://reviews.webmd.com/drugs/drugreview-175842-perseris-suspension-er-syringe',\n",
       "       'https://reviews.webmd.com/drugs/drugreview-176467-abilify-mycite',\n",
       "       'https://reviews.webmd.com/drugs/drugreview-178265-asenapine-patch-24-hours',\n",
       "       'https://reviews.webmd.com/drugs/drugreview-178490-secuado-patch-24-hours',\n",
       "       'https://reviews.webmd.com/drugs/drugreview-178552-lumateperone-capsule',\n",
       "       'https://reviews.webmd.com/drugs/drugreview-178621-caplyta',\n",
       "       'https://reviews.webmd.com/drugs/drugreview-181130-abilify-mycite',\n",
       "       'https://reviews.webmd.com/drugs/drugreview-181133-abilify-mycite',\n",
       "       'https://reviews.webmd.com/drugs/drugreview-181599-olanzapine-samidorphan-tablet',\n",
       "       'https://reviews.webmd.com/drugs/drugreview-181659-lybalvi',\n",
       "       'https://reviews.webmd.com/drugs/drugreview-182269-paliperidone-palm-6-month-syringe',\n",
       "       'https://reviews.webmd.com/drugs/drugreview-182300-invega-hafyera-syringe',\n",
       "       'https://reviews.webmd.com/drugs/drugreview-186559-aripiprazole-2-month-suspension-er-syringe',\n",
       "       'https://reviews.webmd.com/drugs/drugreview-186560-abilify-asimtufii-suspension-er-syringe',\n",
       "       'https://reviews.webmd.com/drugs/drugreview-186581-risperidone-suspension-er-syringe',\n",
       "       'https://reviews.webmd.com/drugs/drugreview-186641-uzedy-suspension-er-syringe',\n",
       "       'https://reviews.webmd.com/drugs/drugreview-187422-rykindo-vial',\n",
       "       'https://reviews.webmd.com/drugs/drugreview-19876-zyprexa-zydis',\n",
       "       'https://reviews.webmd.com/drugs/drugreview-20568-ziprasidone-hcl',\n",
       "       'https://reviews.webmd.com/drugs/drugreview-20575-geodon',\n",
       "       'https://reviews.webmd.com/drugs/drugreview-3791-eskalith-cr-tablet-er',\n",
       "       'https://reviews.webmd.com/drugs/drugreview-4689-quetiapine-fumarate',\n",
       "       'https://reviews.webmd.com/drugs/drugreview-4689-quetiapine-fumarate-er',\n",
       "       'https://reviews.webmd.com/drugs/drugreview-4718-seroquel',\n",
       "       'https://reviews.webmd.com/drugs/drugreview-48-prolixin-decanoate-solution',\n",
       "       'https://reviews.webmd.com/drugs/drugreview-5044-fluphenazine-hcl',\n",
       "       'https://reviews.webmd.com/drugs/drugreview-5044-fluphenazine-hcl-concentrate',\n",
       "       'https://reviews.webmd.com/drugs/drugreview-5044-fluphenazine-hcl-elixir',\n",
       "       'https://reviews.webmd.com/drugs/drugreview-5419-haldol-tablet',\n",
       "       'https://reviews.webmd.com/drugs/drugreview-5480-fluphenazine-enanthate-solution',\n",
       "       'https://reviews.webmd.com/drugs/drugreview-5544-loxitane-capsule',\n",
       "       'https://reviews.webmd.com/drugs/drugreview-5554-loxitane-solution',\n",
       "       'https://reviews.webmd.com/drugs/drugreview-5555-loxapine-hcl-solution',\n",
       "       'https://reviews.webmd.com/drugs/drugreview-5556-loxitane-c-concentrate',\n",
       "       'https://reviews.webmd.com/drugs/drugreview-5557-loxapine-hcl-concentrate',\n",
       "       'https://reviews.webmd.com/drugs/drugreview-57095-halperon-tablet',\n",
       "       'https://reviews.webmd.com/drugs/drugreview-57096-myperidol-concentrate',\n",
       "       'https://reviews.webmd.com/drugs/drugreview-57097-haldol-decanoate-solution',\n",
       "       'https://reviews.webmd.com/drugs/drugreview-57098-haldol-decanoate-solution',\n",
       "       'https://reviews.webmd.com/drugs/drugreview-57099-foypromazine-tablet',\n",
       "       'https://reviews.webmd.com/drugs/drugreview-57100-chloramead-tablet',\n",
       "       'https://reviews.webmd.com/drugs/drugreview-57101-thoradol-tablet',\n",
       "       'https://reviews.webmd.com/drugs/drugreview-57102-kenazine-tablet',\n",
       "       'https://reviews.webmd.com/drugs/drugreview-57103-chlorpromazine-tablet',\n",
       "       'https://reviews.webmd.com/drugs/drugreview-57104-thorarex-solution',\n",
       "       'https://reviews.webmd.com/drugs/drugreview-57105-clorazine-solution',\n",
       "       'https://reviews.webmd.com/drugs/drugreview-57106-thoradol-solution',\n",
       "       'https://reviews.webmd.com/drugs/drugreview-57107-klorazine-solution',\n",
       "       'https://reviews.webmd.com/drugs/drugreview-57108-thoramed-solution',\n",
       "       'https://reviews.webmd.com/drugs/drugreview-57109-ormazine-solution',\n",
       "       'https://reviews.webmd.com/drugs/drugreview-57116-stelaprin-tablet',\n",
       "       'https://reviews.webmd.com/drugs/drugreview-57117-lithane-tablet',\n",
       "       'https://reviews.webmd.com/drugs/drugreview-57118-cibalith-s-solution',\n",
       "       'https://reviews.webmd.com/drugs/drugreview-58070-myproic-acid-solution',\n",
       "       'https://reviews.webmd.com/drugs/drugreview-58071-depa-syrup-solution',\n",
       "       'https://reviews.webmd.com/drugs/drugreview-58072-deproic-capsule',\n",
       "       'https://reviews.webmd.com/drugs/drugreview-58073-dalpro-capsule',\n",
       "       'https://reviews.webmd.com/drugs/drugreview-5887-lithium-carbonate',\n",
       "       'https://reviews.webmd.com/drugs/drugreview-5887-lithium-carbonate-er',\n",
       "       'https://reviews.webmd.com/drugs/drugreview-6000-divalproex-sodium',\n",
       "       'https://reviews.webmd.com/drugs/drugreview-6000-divalproex-sodium-capsule-delayed-release-sprinkle',\n",
       "       'https://reviews.webmd.com/drugs/drugreview-6000-divalproex-sodium-er',\n",
       "       'https://reviews.webmd.com/drugs/drugreview-6092-haloperidol-decanoate-ampul',\n",
       "       'https://reviews.webmd.com/drugs/drugreview-6222-prolixin-concentrate',\n",
       "       'https://reviews.webmd.com/drugs/drugreview-6222-prolixin-elixir',\n",
       "       'https://reviews.webmd.com/drugs/drugreview-6222-prolixin-tablet',\n",
       "       'https://reviews.webmd.com/drugs/drugreview-6234-thiothixene',\n",
       "       'https://reviews.webmd.com/drugs/drugreview-6283-risperidone',\n",
       "       'https://reviews.webmd.com/drugs/drugreview-6283-risperidone-odt',\n",
       "       'https://reviews.webmd.com/drugs/drugreview-64437-aripiprazole',\n",
       "       'https://reviews.webmd.com/drugs/drugreview-64437-aripiprazole-odt',\n",
       "       'https://reviews.webmd.com/drugs/drugreview-64437-aripiprazole-tablet-with-sensor-and-patch',\n",
       "       'https://reviews.webmd.com/drugs/drugreview-64439-abilify',\n",
       "       'https://reviews.webmd.com/drugs/drugreview-64731-valproic-acid-liquid',\n",
       "       'https://reviews.webmd.com/drugs/drugreview-6572-stelazine-tablet',\n",
       "       'https://reviews.webmd.com/drugs/drugreview-6817-haldol-decanoate-50-ampul',\n",
       "       'https://reviews.webmd.com/drugs/drugreview-6874-lithobid',\n",
       "       'https://reviews.webmd.com/drugs/drugreview-6923-navane-capsule',\n",
       "       'https://reviews.webmd.com/drugs/drugreview-7044-thorazine-suppository',\n",
       "       'https://reviews.webmd.com/drugs/drugreview-7068-trilafon-tablet',\n",
       "       'https://reviews.webmd.com/drugs/drugreview-75142-risperdal-m-tab-tablet-disintegrating',\n",
       "       'https://reviews.webmd.com/drugs/drugreview-77659-risperidone-er-vial',\n",
       "       'https://reviews.webmd.com/drugs/drugreview-77667-risperdal-consta-vial',\n",
       "       'https://reviews.webmd.com/drugs/drugreview-7895-moban-tablet',\n",
       "       'https://reviews.webmd.com/drugs/drugreview-7896-molindone-hcl',\n",
       "       'https://reviews.webmd.com/drugs/drugreview-8661-haloperidol',\n",
       "       'https://reviews.webmd.com/drugs/drugreview-8824-perphenazine-solution',\n",
       "       'https://reviews.webmd.com/drugs/drugreview-8825-perphenazine',\n",
       "       'https://reviews.webmd.com/drugs/drugreview-8885-valproic-acid',\n",
       "       'https://reviews.webmd.com/drugs/drugreview-8885-valproic-acid-syrup',\n",
       "       'https://reviews.webmd.com/drugs/drugreview-8891-fluphenazine-hcl-vial',\n",
       "       'https://reviews.webmd.com/drugs/drugreview-9118-depakote-sprinkle',\n",
       "       'https://reviews.webmd.com/drugs/drugreview-91411-chlorpromazine-suppository',\n",
       "       'https://reviews.webmd.com/drugs/drugreview-9170-eskalith-capsule',\n",
       "       'https://reviews.webmd.com/drugs/drugreview-92597-haloperidol-lactate-syringe',\n",
       "       'https://reviews.webmd.com/drugs/drugreview-9291-lithotabs-tablet',\n",
       "       'https://reviews.webmd.com/drugs/drugreview-9406-permitil-concentrate',\n",
       "       'https://reviews.webmd.com/drugs/drugreview-9406-permitil-tablet',\n",
       "       'https://reviews.webmd.com/drugs/drugreview-9445-prolixin-solution',\n",
       "       'https://reviews.webmd.com/drugs/drugreview-9543-thorazine-tablet',\n",
       "       'https://reviews.webmd.com/drugs/drugreview-9567-trilafon-solution',\n",
       "       'https://reviews.webmd.com/drugs/drugreview-9702-depakene-capsule',\n",
       "       'https://reviews.webmd.com/drugs/drugreview-9702-depakene-solution',\n",
       "       'https://reviews.webmd.com/drugs/drugreview-9846-risperdal'],\n",
       "      dtype='<U115')"
      ]
     },
     "execution_count": 1,
     "metadata": {},
     "output_type": "execute_result"
    }
   ],
   "source": [
    "# imports\n",
    "import requests\n",
    "import numpy as np\n",
    "import pandas as pd\n",
    "import regex as re\n",
    "import tqdm\n",
    "\n",
    "#Functions\n",
    "# regular expressions for parsing data from a single review\n",
    "# elements found in review-details div\n",
    "def regex_date(review):\n",
    "    '''Parses the date of the review in format dd/mm/yyyy'''\n",
    "    return re.findall(r'\\d+/\\d+/\\d+', review.find('div', class_='date').text)[0]\n",
    "\n",
    "def regex_condition(review):\n",
    "    '''Parses the condition for which the medication is used'''\n",
    "    condition_element = review.find('strong', class_='condition')\n",
    "    condition_listed = condition_element is not None\n",
    "    if condition_listed:\n",
    "        # TODO: be able to match ''\"Change of Life\" Signs' condition\n",
    "        condition_match = re.findall(r'(?<=Condition:\\s)\\w+(?:\\s\\w+)*', condition_element.text)\n",
    "    return condition_match[0] if (condition_listed and len(condition_match) > 0) else np.nan\n",
    "\n",
    "def regex_rating_overall(review):\n",
    "    '''Parses the overall rating, the average of 3 categories'''\n",
    "    rating_overall_line = review.find('div', class_='overall-rating').strong.text\n",
    "    return re.findall(r'\\d+.\\d+', rating_overall_line)\n",
    "\n",
    "def regex_rating_category(review, ind_cat):\n",
    "    '''Parses the rating for the category at index ind_cat in ['effectiveness', 'ease_of_use', 'satisfaction']'''\n",
    "    rating_categories = review.find('div', class_='categories').find_all('section')\n",
    "    div = rating_categories[ind_cat].find('div', class_='webmd-rate on-mobile')\n",
    "    return int(div.get('aria-valuenow'))\n",
    "\n",
    "def regex_text(review):\n",
    "    '''Parses the free response text review for the drug'''\n",
    "    text_line = review.find('p', class_='description-text')\n",
    "    return text_line.text if text_line is not None else np.nan\n",
    "# regular expressions for parsing data from a single review\n",
    "# elements found in details div\n",
    "def regex_age(details):\n",
    "    '''Parses the age of the medication user'''\n",
    "    age_match = re.findall(r'(?<=\\|\\s+)\\d+-\\d+', details)\n",
    "    return age_match[0] if len(age_match) > 0 else np.nan\n",
    "\n",
    "def regex_gender(details):\n",
    "    '''Parses the gender of the medication user'''\n",
    "    gender_match = re.findall(r'(?<=\\|\\s+)Male|Female', details)\n",
    "    return gender_match[0] if len(gender_match) > 0 else np.nan\n",
    "\n",
    "def regex_time(details):\n",
    "    '''Parses the duration of time on drug'''\n",
    "    time_match = re.findall(r'(?<=On\\smedication\\sfor\\s)\\w+(?:\\s\\w+)*', details)\n",
    "    return time_match[0] if len(time_match) > 0 else np.nan\n",
    "\n",
    "def regex_reviewer(details):\n",
    "    '''Parses the type of reviewer'''\n",
    "    reviewer_match = re.findall(r'(?<=\\|\\s+)\\w+(?:\\s\\w+)*(?=\\s*$)', details)\n",
    "    return reviewer_match[0] if len(reviewer_match) > 0 else np.nan\n",
    "# parse the reviews on a single webpage\n",
    "def parse_reviews_page(soup, reviews_df):\n",
    "    '''Populates reviews_df data frame with records from 1 page's reviews\n",
    "    \n",
    "    Parameters:\n",
    "    reviews_html (str): HTML for the webpage extracted using BeautifulSoup\n",
    "    drug_name (str): the name of the drug being reviewed\n",
    "    reviews_df (pd.DataFrame): dataframe with one row per review\n",
    "    \n",
    "    Returns:\n",
    "    pd.DataFrame: reviews_df dataframe with new records appended\n",
    "    \n",
    "    '''\n",
    "    reviews_html = soup.find_all('div', class_='review-details') # get elements that hold each review\n",
    "    drug_name = re.findall(r'(.*)(?=\\sReviews)', soup.title.text)[0] # page title is drug name\n",
    "    \n",
    "    # loop over reviews from a single page\n",
    "    for i, review in enumerate(reviews_html):\n",
    "        to_append = pd.DataFrame([pd.Series([None]*len(cols), index=cols)])\n",
    "        \n",
    "        details = review.find('div', class_='details').text\n",
    "\n",
    "        to_append['drug_name'] = drug_name\n",
    "        to_append['date'] = regex_date(review)\n",
    "        to_append['age'] = regex_age(details)\n",
    "        to_append['gender'] = regex_gender(details)\n",
    "        to_append['time_on_drug'] = regex_time(details)\n",
    "        to_append['reviewer_type'] = regex_reviewer(details)\n",
    "        to_append['condition'] = regex_condition(review)\n",
    "        to_append['rating_overall'] = regex_rating_overall(review)\n",
    "        \n",
    "        for ind_cat, cat in enumerate(['effectiveness', 'ease_of_use', 'satisfaction']):\n",
    "            to_append[f'rating_{cat}'] = regex_rating_category(review, ind_cat)\n",
    "    \n",
    "        to_append['text'] = regex_text(review)\n",
    "        reviews_df = pd.concat([reviews_df, to_append], ignore_index=True)\n",
    "        \n",
    "    return reviews_df\n",
    "def get_soup(review_url, page):\n",
    "    curr_url = review_url + f'&page={page}'\n",
    "    response = requests.get(curr_url, headers=headers).content\n",
    "    return BeautifulSoup(response, 'lxml')\n",
    "# crawl over the review pages for one drug\n",
    "from tqdm import tqdm # progress bar\n",
    "\n",
    "def crawl_reviews_pages(review_url, reviews_df):\n",
    "    '''Crawls a drug's reviews page-by-page, saving each page's reviews into reviews_df\n",
    "    \n",
    "    Parameters:\n",
    "    reviews_df (pd.DataFrame): dataframe with one row per review\n",
    "    \n",
    "    Returns:\n",
    "    pd.DataFrame: reviews_df dataframe with new records appended\n",
    "    \n",
    "    '''\n",
    "    # find how many review pages there are total for the drug by parsing it from the first page\n",
    "    soup = get_soup(review_url, 1)\n",
    "    pages = soup.find('ul', class_='pagination')\n",
    "    \n",
    "    # proceed only if there is at least 1 review\n",
    "    if pages is not None:\n",
    "        last_page = int(pages.find_all('li', class_='page-item')[-1].text.strip())\n",
    "\n",
    "        for i in tqdm(range(1, last_page+1)):\n",
    "            soup = get_soup(review_url, 1)\n",
    "            reviews_df = parse_reviews_page(soup, reviews_df)\n",
    "\n",
    "    return reviews_df\n",
    "#Scrape Drugs by Condition from WebMD Search\n",
    "# need to spoof a browser in order to not get blocked when making request\n",
    "# https://bar.rady.ucsd.edu/Web_Scraping.html\n",
    "from bs4 import BeautifulSoup\n",
    "\n",
    "headers = requests.utils.default_headers()\n",
    "agent = 'Mozilla/5.0 (X11; Ubuntu; Linux x86_64; rv:52.0) Gecko/20100101 Firefox/52.0'\n",
    "headers.update({\n",
    "    'User-Agent': agent,\n",
    "})\n",
    "# make empty data frame to contain values and full text from each review\n",
    "cols = ['drug_name',\n",
    "       'date',\n",
    "       'age',\n",
    "       'gender',\n",
    "       'time_on_drug',\n",
    "       'reviewer_type',\n",
    "       'condition',\n",
    "       'rating_overall',\n",
    "       'rating_effectiveness',\n",
    "       'rating_ease_of_use',\n",
    "       'rating_satisfaction',\n",
    "       'text']\n",
    "\n",
    "reviews_df = pd.DataFrame(columns=cols, index=[])\n",
    "# # list of depression drugs from WebMD\n",
    "# url = 'https://www.webmd.com/depression/depression-medications-antidepressants'\n",
    "# response = requests.get(url, headers=headers).content\n",
    "# soup = BeautifulSoup(response, 'lxml')\n",
    "# drugs_section = soup.find('div', class_='article-page active-page')\n",
    "# use WebMD's search to find drugs by illness\n",
    "review_urls = []\n",
    "\n",
    "conditions = {\n",
    "             'bipolar disorder': 'https://www.webmd.com/drugs/2/condition-954/bipolar-disorder',\n",
    "             'schizophrenia': 'https://www.webmd.com/drugs/2/condition-948/schizophrenia'\n",
    "              }\n",
    "\n",
    "for url in conditions.values():\n",
    "    response = requests.get(url, headers=headers).content\n",
    "    soup = BeautifulSoup(response, 'lxml')\n",
    "    drugs_section = soup.find('div', class_='medication-results-list')\n",
    "\n",
    "    for drug_review_element in drugs_section.find_all('span', class_='reviews-url'):\n",
    "        review_urls.append(drug_review_element.a.get('href'))\n",
    "\n",
    "# because there is a lot of overlap in medications between conditions, get unique values\n",
    "review_urls = np.unique(review_urls)\n",
    "review_urls"
   ]
  },
  {
   "cell_type": "code",
   "execution_count": 2,
   "metadata": {},
   "outputs": [
    {
     "name": "stderr",
     "output_type": "stream",
     "text": [
      "  0%|          | 0/161 [00:00<?, ?it/s]"
     ]
    },
    {
     "name": "stdout",
     "output_type": "stream",
     "text": [
      "https://reviews.webmd.com/drugs/drugreview-10341-haloperidol-intensol-concentrate\n"
     ]
    },
    {
     "name": "stderr",
     "output_type": "stream",
     "text": [
      "100%|██████████| 1/1 [00:03<00:00,  3.08s/it]\n",
      "  1%|          | 2/161 [00:08<09:45,  3.68s/it]"
     ]
    },
    {
     "name": "stdout",
     "output_type": "stream",
     "text": [
      "skipping https://reviews.webmd.com/drugs/drugreview-10405-thiothixene-hcl-capsule: page not found\n",
      "https://reviews.webmd.com/drugs/drugreview-10962-epitol\n"
     ]
    },
    {
     "name": "stderr",
     "output_type": "stream",
     "text": [
      "100%|██████████| 2/2 [00:04<00:00,  2.01s/it]\n",
      "  2%|▏         | 3/161 [00:17<15:55,  6.05s/it]"
     ]
    },
    {
     "name": "stdout",
     "output_type": "stream",
     "text": [
      "https://reviews.webmd.com/drugs/drugreview-10991-atretol-tablet\n"
     ]
    },
    {
     "name": "stderr",
     "output_type": "stream",
     "text": [
      "  3%|▎         | 5/161 [00:22<09:48,  3.77s/it]"
     ]
    },
    {
     "name": "stdout",
     "output_type": "stream",
     "text": [
      "skipping https://reviews.webmd.com/drugs/drugreview-11066-haloperidol-lactate-vial: page not found\n",
      "https://reviews.webmd.com/drugs/drugreview-11515-thorazine-solution\n"
     ]
    },
    {
     "name": "stderr",
     "output_type": "stream",
     "text": [
      "100%|██████████| 1/1 [00:01<00:00,  1.77s/it]\n",
      "  4%|▍         | 7/161 [00:28<08:45,  3.41s/it]"
     ]
    },
    {
     "name": "stdout",
     "output_type": "stream",
     "text": [
      "skipping https://reviews.webmd.com/drugs/drugreview-11516-trifluoperazine-solution: page not found\n"
     ]
    },
    {
     "name": "stderr",
     "output_type": "stream",
     "text": [
      "  5%|▍         | 8/161 [00:31<08:03,  3.16s/it]"
     ]
    },
    {
     "name": "stdout",
     "output_type": "stream",
     "text": [
      "skipping https://reviews.webmd.com/drugs/drugreview-11519-stelazine-solution: page not found\n",
      "https://reviews.webmd.com/drugs/drugreview-11647-lithonate-capsule\n"
     ]
    },
    {
     "name": "stderr",
     "output_type": "stream",
     "text": [
      "  6%|▌         | 9/161 [00:34<07:58,  3.15s/it]"
     ]
    },
    {
     "name": "stdout",
     "output_type": "stream",
     "text": [
      "https://reviews.webmd.com/drugs/drugreview-11980-haloperidol-lactate\n"
     ]
    },
    {
     "name": "stderr",
     "output_type": "stream",
     "text": [
      "100%|██████████| 1/1 [00:01<00:00,  1.58s/it]\n",
      "  6%|▌         | 10/161 [00:39<09:06,  3.62s/it]"
     ]
    },
    {
     "name": "stdout",
     "output_type": "stream",
     "text": [
      "https://reviews.webmd.com/drugs/drugreview-11998-trifluoperazine-hcl\n"
     ]
    },
    {
     "name": "stderr",
     "output_type": "stream",
     "text": [
      "100%|██████████| 1/1 [00:01<00:00,  1.75s/it]\n",
      "  7%|▋         | 11/161 [00:43<09:49,  3.93s/it]"
     ]
    },
    {
     "name": "stdout",
     "output_type": "stream",
     "text": [
      "https://reviews.webmd.com/drugs/drugreview-13881-chlorpromazine-hcl-ampul\n"
     ]
    },
    {
     "name": "stderr",
     "output_type": "stream",
     "text": [
      "100%|██████████| 1/1 [00:01<00:00,  1.52s/it]\n",
      "  7%|▋         | 12/161 [00:48<10:27,  4.21s/it]"
     ]
    },
    {
     "name": "stdout",
     "output_type": "stream",
     "text": [
      "https://reviews.webmd.com/drugs/drugreview-14374-lithium-citrate\n"
     ]
    },
    {
     "name": "stderr",
     "output_type": "stream",
     "text": [
      "100%|██████████| 2/2 [00:03<00:00,  1.98s/it]\n",
      "  8%|▊         | 13/161 [00:55<12:33,  5.09s/it]"
     ]
    },
    {
     "name": "stdout",
     "output_type": "stream",
     "text": [
      "https://reviews.webmd.com/drugs/drugreview-14375-loxapine\n"
     ]
    },
    {
     "name": "stderr",
     "output_type": "stream",
     "text": [
      "100%|██████████| 1/1 [00:01<00:00,  1.41s/it]\n",
      "  9%|▊         | 14/161 [01:00<11:44,  4.79s/it]"
     ]
    },
    {
     "name": "stdout",
     "output_type": "stream",
     "text": [
      "https://reviews.webmd.com/drugs/drugreview-14398-valproic-acid\n"
     ]
    },
    {
     "name": "stderr",
     "output_type": "stream",
     "text": [
      "100%|██████████| 1/1 [00:02<00:00,  2.97s/it]\n",
      "  9%|▉         | 15/161 [01:06<12:47,  5.26s/it]"
     ]
    },
    {
     "name": "stdout",
     "output_type": "stream",
     "text": [
      "https://reviews.webmd.com/drugs/drugreview-1444-chlorpromazine-hcl\n"
     ]
    },
    {
     "name": "stderr",
     "output_type": "stream",
     "text": [
      "100%|██████████| 2/2 [00:04<00:00,  2.07s/it]\n",
      " 10%|▉         | 16/161 [01:14<14:37,  6.05s/it]"
     ]
    },
    {
     "name": "stdout",
     "output_type": "stream",
     "text": [
      "https://reviews.webmd.com/drugs/drugreview-14460-fluphenazine-decanoate-vial\n"
     ]
    },
    {
     "name": "stderr",
     "output_type": "stream",
     "text": [
      "100%|██████████| 1/1 [00:01<00:00,  1.80s/it]\n",
      " 11%|█         | 17/161 [01:19<13:35,  5.67s/it]"
     ]
    },
    {
     "name": "stdout",
     "output_type": "stream",
     "text": [
      "https://reviews.webmd.com/drugs/drugreview-144686-abilify-discmelt-tablet-disintegrating\n"
     ]
    },
    {
     "name": "stderr",
     "output_type": "stream",
     "text": [
      "100%|██████████| 1/1 [00:01<00:00,  1.78s/it]\n",
      " 11%|█         | 18/161 [01:24<13:08,  5.51s/it]"
     ]
    },
    {
     "name": "stdout",
     "output_type": "stream",
     "text": [
      "https://reviews.webmd.com/drugs/drugreview-146479-aripiprazole-solution\n"
     ]
    },
    {
     "name": "stderr",
     "output_type": "stream",
     "text": [
      "100%|██████████| 1/1 [00:01<00:00,  1.63s/it]\n",
      " 12%|█▏        | 19/161 [01:28<12:17,  5.20s/it]"
     ]
    },
    {
     "name": "stdout",
     "output_type": "stream",
     "text": [
      "https://reviews.webmd.com/drugs/drugreview-146479-aripiprazole-suspension-er-reconstituted-suspension-reconstituted\n"
     ]
    },
    {
     "name": "stderr",
     "output_type": "stream",
     "text": [
      "100%|██████████| 1/1 [00:01<00:00,  1.60s/it]\n",
      " 12%|█▏        | 20/161 [01:33<11:44,  4.99s/it]"
     ]
    },
    {
     "name": "stdout",
     "output_type": "stream",
     "text": [
      "https://reviews.webmd.com/drugs/drugreview-146718-paliperidone-er\n"
     ]
    },
    {
     "name": "stderr",
     "output_type": "stream",
     "text": [
      "100%|██████████| 2/2 [00:04<00:00,  2.01s/it]\n",
      " 13%|█▎        | 21/161 [01:40<13:10,  5.65s/it]"
     ]
    },
    {
     "name": "stdout",
     "output_type": "stream",
     "text": [
      "https://reviews.webmd.com/drugs/drugreview-146745-invega\n"
     ]
    },
    {
     "name": "stderr",
     "output_type": "stream",
     "text": [
      "100%|██████████| 9/9 [00:18<00:00,  2.02s/it]\n",
      " 14%|█▍        | 23/161 [02:04<18:30,  8.05s/it]"
     ]
    },
    {
     "name": "stdout",
     "output_type": "stream",
     "text": [
      "skipping https://reviews.webmd.com/drugs/drugreview-14677-haldol-ampul: page not found\n",
      "https://reviews.webmd.com/drugs/drugreview-148614-seroquel-xr\n"
     ]
    },
    {
     "name": "stderr",
     "output_type": "stream",
     "text": [
      "100%|██████████| 17/17 [00:33<00:00,  1.99s/it]\n",
      " 15%|█▍        | 24/161 [02:41<38:33, 16.88s/it]"
     ]
    },
    {
     "name": "stdout",
     "output_type": "stream",
     "text": [
      "https://reviews.webmd.com/drugs/drugreview-1493-carbamazepine\n"
     ]
    },
    {
     "name": "stderr",
     "output_type": "stream",
     "text": [
      "100%|██████████| 8/8 [00:17<00:00,  2.19s/it]\n",
      " 16%|█▌        | 25/161 [03:02<41:06, 18.14s/it]"
     ]
    },
    {
     "name": "stdout",
     "output_type": "stream",
     "text": [
      "https://reviews.webmd.com/drugs/drugreview-1493-carbamazepine-er\n"
     ]
    },
    {
     "name": "stderr",
     "output_type": "stream",
     "text": [
      "100%|██████████| 8/8 [00:14<00:00,  1.87s/it]\n",
      " 16%|█▌        | 26/161 [03:21<41:15, 18.34s/it]"
     ]
    },
    {
     "name": "stdout",
     "output_type": "stream",
     "text": [
      "https://reviews.webmd.com/drugs/drugreview-1502-tegretol\n"
     ]
    },
    {
     "name": "stderr",
     "output_type": "stream",
     "text": [
      "100%|██████████| 15/15 [00:36<00:00,  2.42s/it]\n",
      " 17%|█▋        | 27/161 [04:01<55:24, 24.81s/it]"
     ]
    },
    {
     "name": "stdout",
     "output_type": "stream",
     "text": [
      "https://reviews.webmd.com/drugs/drugreview-151904-risperidone-odt-tablet-disintegrating\n"
     ]
    },
    {
     "name": "stderr",
     "output_type": "stream",
     "text": [
      " 17%|█▋        | 28/161 [04:04<40:34, 18.30s/it]"
     ]
    },
    {
     "name": "stdout",
     "output_type": "stream",
     "text": [
      "https://reviews.webmd.com/drugs/drugreview-152294-risperidone-m-tab-tablet-disintegrating\n"
     ]
    },
    {
     "name": "stderr",
     "output_type": "stream",
     "text": [
      "100%|██████████| 2/2 [00:03<00:00,  1.66s/it]\n",
      " 18%|█▊        | 29/161 [04:11<32:39, 14.84s/it]"
     ]
    },
    {
     "name": "stdout",
     "output_type": "stream",
     "text": [
      "https://reviews.webmd.com/drugs/drugreview-152780-paliperidone-palmitate-syringe\n"
     ]
    },
    {
     "name": "stderr",
     "output_type": "stream",
     "text": [
      "100%|██████████| 1/1 [00:01<00:00,  1.46s/it]\n",
      " 19%|█▊        | 30/161 [04:16<25:38, 11.74s/it]"
     ]
    },
    {
     "name": "stdout",
     "output_type": "stream",
     "text": [
      "https://reviews.webmd.com/drugs/drugreview-152807-invega-sustenna-syringe\n"
     ]
    },
    {
     "name": "stderr",
     "output_type": "stream",
     "text": [
      "100%|██████████| 7/7 [00:13<00:00,  1.90s/it]\n",
      " 19%|█▉        | 31/161 [04:32<28:39, 13.23s/it]"
     ]
    },
    {
     "name": "stdout",
     "output_type": "stream",
     "text": [
      "https://reviews.webmd.com/drugs/drugreview-152900-asenapine-maleate-tablet\n"
     ]
    },
    {
     "name": "stderr",
     "output_type": "stream",
     "text": [
      "100%|██████████| 1/1 [00:01<00:00,  1.71s/it]\n",
      " 20%|█▉        | 32/161 [04:37<22:50, 10.62s/it]"
     ]
    },
    {
     "name": "stdout",
     "output_type": "stream",
     "text": [
      "https://reviews.webmd.com/drugs/drugreview-152902-saphris-tablet\n"
     ]
    },
    {
     "name": "stderr",
     "output_type": "stream",
     "text": [
      "100%|██████████| 13/13 [00:24<00:00,  1.91s/it]\n",
      " 20%|██        | 33/161 [05:05<34:06, 15.99s/it]"
     ]
    },
    {
     "name": "stdout",
     "output_type": "stream",
     "text": [
      "https://reviews.webmd.com/drugs/drugreview-153411-iloperidone-tablet\n"
     ]
    },
    {
     "name": "stderr",
     "output_type": "stream",
     "text": [
      "100%|██████████| 1/1 [00:01<00:00,  1.52s/it]\n",
      " 21%|██        | 34/161 [05:10<26:41, 12.61s/it]"
     ]
    },
    {
     "name": "stdout",
     "output_type": "stream",
     "text": [
      "https://reviews.webmd.com/drugs/drugreview-153413-fanapt\n"
     ]
    },
    {
     "name": "stderr",
     "output_type": "stream",
     "text": [
      "100%|██████████| 4/4 [00:07<00:00,  1.84s/it]\n",
      " 22%|██▏       | 35/161 [05:21<25:31, 12.15s/it]"
     ]
    },
    {
     "name": "stdout",
     "output_type": "stream",
     "text": [
      "https://reviews.webmd.com/drugs/drugreview-153606-olanzapine-pamoate-suspension-for-reconstitution\n"
     ]
    },
    {
     "name": "stderr",
     "output_type": "stream",
     "text": [
      "100%|██████████| 1/1 [00:01<00:00,  1.52s/it]\n",
      " 22%|██▏       | 36/161 [05:26<20:27,  9.82s/it]"
     ]
    },
    {
     "name": "stdout",
     "output_type": "stream",
     "text": [
      "https://reviews.webmd.com/drugs/drugreview-153611-zyprexa-relprevv-vial\n"
     ]
    },
    {
     "name": "stderr",
     "output_type": "stream",
     "text": [
      "100%|██████████| 1/1 [00:01<00:00,  1.60s/it]\n",
      " 23%|██▎       | 37/161 [05:30<16:56,  8.20s/it]"
     ]
    },
    {
     "name": "stdout",
     "output_type": "stream",
     "text": [
      "https://reviews.webmd.com/drugs/drugreview-155126-lurasidone-hcl\n"
     ]
    },
    {
     "name": "stderr",
     "output_type": "stream",
     "text": [
      "100%|██████████| 1/1 [00:01<00:00,  1.60s/it]\n",
      " 24%|██▎       | 38/161 [05:35<14:41,  7.17s/it]"
     ]
    },
    {
     "name": "stdout",
     "output_type": "stream",
     "text": [
      "https://reviews.webmd.com/drugs/drugreview-155134-latuda\n"
     ]
    },
    {
     "name": "stderr",
     "output_type": "stream",
     "text": [
      "100%|██████████| 20/20 [00:40<00:00,  2.02s/it]\n",
      " 24%|██▍       | 39/161 [06:18<36:54, 18.15s/it]"
     ]
    },
    {
     "name": "stdout",
     "output_type": "stream",
     "text": [
      "https://reviews.webmd.com/drugs/drugreview-162761-saphris-black-cherry-tablet\n"
     ]
    },
    {
     "name": "stderr",
     "output_type": "stream",
     "text": [
      "100%|██████████| 3/3 [00:05<00:00,  1.81s/it]\n",
      " 25%|██▌       | 41/161 [06:29<22:33, 11.28s/it]"
     ]
    },
    {
     "name": "stdout",
     "output_type": "stream",
     "text": [
      "skipping https://reviews.webmd.com/drugs/drugreview-163174-loxapine-breath-activated-powder-inhaler: page not found\n",
      "https://reviews.webmd.com/drugs/drugreview-163617-abilify-maintena-suspension-er-vial\n"
     ]
    },
    {
     "name": "stderr",
     "output_type": "stream",
     "text": [
      "100%|██████████| 1/1 [00:01<00:00,  1.87s/it]\n",
      " 26%|██▌       | 42/161 [06:34<18:31,  9.34s/it]"
     ]
    },
    {
     "name": "stdout",
     "output_type": "stream",
     "text": [
      "https://reviews.webmd.com/drugs/drugreview-1644-olanzapine\n"
     ]
    },
    {
     "name": "stderr",
     "output_type": "stream",
     "text": [
      "100%|██████████| 6/6 [00:11<00:00,  1.91s/it]\n",
      " 27%|██▋       | 43/161 [06:48<21:21, 10.86s/it]"
     ]
    },
    {
     "name": "stdout",
     "output_type": "stream",
     "text": [
      "https://reviews.webmd.com/drugs/drugreview-1644-olanzapine-odt\n"
     ]
    },
    {
     "name": "stderr",
     "output_type": "stream",
     "text": [
      "100%|██████████| 6/6 [00:11<00:00,  1.94s/it]\n",
      " 28%|██▊       | 45/161 [07:05<17:27,  9.03s/it]"
     ]
    },
    {
     "name": "stdout",
     "output_type": "stream",
     "text": [
      "skipping https://reviews.webmd.com/drugs/drugreview-165650-adasuve-10-mg-breath-activated: page not found\n",
      "https://reviews.webmd.com/drugs/drugreview-168817-paliperidone-palm-3-month-syringe\n"
     ]
    },
    {
     "name": "stderr",
     "output_type": "stream",
     "text": [
      " 29%|██▊       | 46/161 [07:08<13:57,  7.28s/it]"
     ]
    },
    {
     "name": "stdout",
     "output_type": "stream",
     "text": [
      "https://reviews.webmd.com/drugs/drugreview-168884-invega-trinza-syringe\n"
     ]
    },
    {
     "name": "stderr",
     "output_type": "stream",
     "text": [
      "100%|██████████| 1/1 [00:01<00:00,  1.54s/it]\n",
      " 29%|██▉       | 47/161 [07:13<12:10,  6.41s/it]"
     ]
    },
    {
     "name": "stdout",
     "output_type": "stream",
     "text": [
      "https://reviews.webmd.com/drugs/drugreview-169290-brexpiprazole-tablet\n"
     ]
    },
    {
     "name": "stderr",
     "output_type": "stream",
     "text": [
      "100%|██████████| 1/1 [00:01<00:00,  1.77s/it]\n",
      " 30%|██▉       | 48/161 [07:17<11:04,  5.88s/it]"
     ]
    },
    {
     "name": "stdout",
     "output_type": "stream",
     "text": [
      "https://reviews.webmd.com/drugs/drugreview-169294-rexulti\n"
     ]
    },
    {
     "name": "stderr",
     "output_type": "stream",
     "text": [
      "100%|██████████| 5/5 [00:09<00:00,  1.89s/it]\n",
      " 30%|███       | 49/161 [07:30<14:51,  7.96s/it]"
     ]
    },
    {
     "name": "stdout",
     "output_type": "stream",
     "text": [
      "https://reviews.webmd.com/drugs/drugreview-1699-zyprexa\n"
     ]
    },
    {
     "name": "stderr",
     "output_type": "stream",
     "text": [
      "100%|██████████| 25/25 [00:50<00:00,  2.02s/it]\n",
      " 31%|███       | 50/161 [08:24<40:07, 21.69s/it]"
     ]
    },
    {
     "name": "stdout",
     "output_type": "stream",
     "text": [
      "https://reviews.webmd.com/drugs/drugreview-169917-cariprazine-capsule\n"
     ]
    },
    {
     "name": "stderr",
     "output_type": "stream",
     "text": [
      "100%|██████████| 1/1 [00:01<00:00,  1.85s/it]\n",
      " 32%|███▏      | 51/161 [08:29<30:24, 16.59s/it]"
     ]
    },
    {
     "name": "stdout",
     "output_type": "stream",
     "text": [
      "https://reviews.webmd.com/drugs/drugreview-170027-vraylar\n"
     ]
    },
    {
     "name": "stderr",
     "output_type": "stream",
     "text": [
      "100%|██████████| 5/5 [00:09<00:00,  1.83s/it]\n",
      " 32%|███▏      | 52/161 [08:41<27:46, 15.29s/it]"
     ]
    },
    {
     "name": "stdout",
     "output_type": "stream",
     "text": [
      "https://reviews.webmd.com/drugs/drugreview-170036-aripiprazole-lauroxil-suspension-er-syringe\n"
     ]
    },
    {
     "name": "stderr",
     "output_type": "stream",
     "text": [
      " 33%|███▎      | 53/161 [08:44<20:52, 11.60s/it]"
     ]
    },
    {
     "name": "stdout",
     "output_type": "stream",
     "text": [
      "https://reviews.webmd.com/drugs/drugreview-170041-aristada-suspension-er-syringe\n"
     ]
    },
    {
     "name": "stderr",
     "output_type": "stream",
     "text": [
      "100%|██████████| 1/1 [00:01<00:00,  1.57s/it]\n",
      " 34%|███▎      | 54/161 [08:49<17:00,  9.54s/it]"
     ]
    },
    {
     "name": "stdout",
     "output_type": "stream",
     "text": [
      "https://reviews.webmd.com/drugs/drugreview-175570-aripiprazole-lauroxil-submicr-suspension-er-syringe\n"
     ]
    },
    {
     "name": "stderr",
     "output_type": "stream",
     "text": [
      " 34%|███▍      | 55/161 [08:52<13:27,  7.62s/it]"
     ]
    },
    {
     "name": "stdout",
     "output_type": "stream",
     "text": [
      "https://reviews.webmd.com/drugs/drugreview-175572-aristada-initio-suspension-er-syringe\n"
     ]
    },
    {
     "name": "stderr",
     "output_type": "stream",
     "text": [
      " 35%|███▍      | 56/161 [08:54<10:44,  6.14s/it]"
     ]
    },
    {
     "name": "stdout",
     "output_type": "stream",
     "text": [
      "https://reviews.webmd.com/drugs/drugreview-175840-risperidone-suspension-er-syringe\n"
     ]
    },
    {
     "name": "stderr",
     "output_type": "stream",
     "text": [
      " 35%|███▌      | 57/161 [08:57<09:01,  5.21s/it]"
     ]
    },
    {
     "name": "stdout",
     "output_type": "stream",
     "text": [
      "https://reviews.webmd.com/drugs/drugreview-175842-perseris-suspension-er-syringe\n"
     ]
    },
    {
     "name": "stderr",
     "output_type": "stream",
     "text": [
      " 36%|███▌      | 58/161 [09:00<07:35,  4.42s/it]"
     ]
    },
    {
     "name": "stdout",
     "output_type": "stream",
     "text": [
      "https://reviews.webmd.com/drugs/drugreview-176467-abilify-mycite\n"
     ]
    },
    {
     "name": "stderr",
     "output_type": "stream",
     "text": [
      " 37%|███▋      | 59/161 [09:04<07:04,  4.16s/it]"
     ]
    },
    {
     "name": "stdout",
     "output_type": "stream",
     "text": [
      "https://reviews.webmd.com/drugs/drugreview-178265-asenapine-patch-24-hours\n"
     ]
    },
    {
     "name": "stderr",
     "output_type": "stream",
     "text": [
      " 37%|███▋      | 60/161 [09:06<06:17,  3.74s/it]"
     ]
    },
    {
     "name": "stdout",
     "output_type": "stream",
     "text": [
      "https://reviews.webmd.com/drugs/drugreview-178490-secuado-patch-24-hours\n"
     ]
    },
    {
     "name": "stderr",
     "output_type": "stream",
     "text": [
      " 38%|███▊      | 61/161 [09:09<05:43,  3.43s/it]"
     ]
    },
    {
     "name": "stdout",
     "output_type": "stream",
     "text": [
      "https://reviews.webmd.com/drugs/drugreview-178552-lumateperone-capsule\n"
     ]
    },
    {
     "name": "stderr",
     "output_type": "stream",
     "text": [
      " 39%|███▊      | 62/161 [09:12<05:25,  3.29s/it]"
     ]
    },
    {
     "name": "stdout",
     "output_type": "stream",
     "text": [
      "https://reviews.webmd.com/drugs/drugreview-178621-caplyta\n"
     ]
    },
    {
     "name": "stderr",
     "output_type": "stream",
     "text": [
      "100%|██████████| 5/5 [00:09<00:00,  1.90s/it]\n",
      " 39%|███▉      | 63/161 [09:25<10:20,  6.33s/it]"
     ]
    },
    {
     "name": "stdout",
     "output_type": "stream",
     "text": [
      "https://reviews.webmd.com/drugs/drugreview-181130-abilify-mycite\n"
     ]
    },
    {
     "name": "stderr",
     "output_type": "stream",
     "text": [
      " 40%|███▉      | 64/161 [09:28<08:29,  5.25s/it]"
     ]
    },
    {
     "name": "stdout",
     "output_type": "stream",
     "text": [
      "https://reviews.webmd.com/drugs/drugreview-181133-abilify-mycite\n"
     ]
    },
    {
     "name": "stderr",
     "output_type": "stream",
     "text": [
      " 40%|████      | 65/161 [09:31<07:10,  4.48s/it]"
     ]
    },
    {
     "name": "stdout",
     "output_type": "stream",
     "text": [
      "https://reviews.webmd.com/drugs/drugreview-181599-olanzapine-samidorphan-tablet\n"
     ]
    },
    {
     "name": "stderr",
     "output_type": "stream",
     "text": [
      " 41%|████      | 66/161 [09:34<06:19,  3.99s/it]"
     ]
    },
    {
     "name": "stdout",
     "output_type": "stream",
     "text": [
      "https://reviews.webmd.com/drugs/drugreview-181659-lybalvi\n"
     ]
    },
    {
     "name": "stderr",
     "output_type": "stream",
     "text": [
      "100%|██████████| 1/1 [00:01<00:00,  1.71s/it]\n",
      " 42%|████▏     | 67/161 [09:39<06:36,  4.22s/it]"
     ]
    },
    {
     "name": "stdout",
     "output_type": "stream",
     "text": [
      "https://reviews.webmd.com/drugs/drugreview-182269-paliperidone-palm-6-month-syringe\n"
     ]
    },
    {
     "name": "stderr",
     "output_type": "stream",
     "text": [
      " 42%|████▏     | 68/161 [09:42<06:04,  3.92s/it]"
     ]
    },
    {
     "name": "stdout",
     "output_type": "stream",
     "text": [
      "https://reviews.webmd.com/drugs/drugreview-182300-invega-hafyera-syringe\n"
     ]
    },
    {
     "name": "stderr",
     "output_type": "stream",
     "text": [
      "100%|██████████| 1/1 [00:01<00:00,  1.72s/it]\n",
      " 43%|████▎     | 69/161 [09:47<06:26,  4.20s/it]"
     ]
    },
    {
     "name": "stdout",
     "output_type": "stream",
     "text": [
      "https://reviews.webmd.com/drugs/drugreview-186559-aripiprazole-2-month-suspension-er-syringe\n"
     ]
    },
    {
     "name": "stderr",
     "output_type": "stream",
     "text": [
      " 43%|████▎     | 70/161 [09:49<05:39,  3.73s/it]"
     ]
    },
    {
     "name": "stdout",
     "output_type": "stream",
     "text": [
      "https://reviews.webmd.com/drugs/drugreview-186560-abilify-asimtufii-suspension-er-syringe\n"
     ]
    },
    {
     "name": "stderr",
     "output_type": "stream",
     "text": [
      " 44%|████▍     | 71/161 [09:52<05:08,  3.43s/it]"
     ]
    },
    {
     "name": "stdout",
     "output_type": "stream",
     "text": [
      "https://reviews.webmd.com/drugs/drugreview-186581-risperidone-suspension-er-syringe\n"
     ]
    },
    {
     "name": "stderr",
     "output_type": "stream",
     "text": [
      " 45%|████▍     | 72/161 [09:55<04:45,  3.21s/it]"
     ]
    },
    {
     "name": "stdout",
     "output_type": "stream",
     "text": [
      "https://reviews.webmd.com/drugs/drugreview-186641-uzedy-suspension-er-syringe\n"
     ]
    },
    {
     "name": "stderr",
     "output_type": "stream",
     "text": [
      " 45%|████▌     | 73/161 [09:58<04:34,  3.12s/it]"
     ]
    },
    {
     "name": "stdout",
     "output_type": "stream",
     "text": [
      "https://reviews.webmd.com/drugs/drugreview-187422-rykindo-vial\n"
     ]
    },
    {
     "name": "stderr",
     "output_type": "stream",
     "text": [
      " 46%|████▌     | 74/161 [10:01<04:30,  3.11s/it]"
     ]
    },
    {
     "name": "stdout",
     "output_type": "stream",
     "text": [
      "https://reviews.webmd.com/drugs/drugreview-19876-zyprexa-zydis\n"
     ]
    },
    {
     "name": "stderr",
     "output_type": "stream",
     "text": [
      "100%|██████████| 2/2 [00:04<00:00,  2.09s/it]\n",
      " 47%|████▋     | 75/161 [10:08<06:19,  4.41s/it]"
     ]
    },
    {
     "name": "stdout",
     "output_type": "stream",
     "text": [
      "https://reviews.webmd.com/drugs/drugreview-20568-ziprasidone-hcl\n"
     ]
    },
    {
     "name": "stderr",
     "output_type": "stream",
     "text": [
      "100%|██████████| 7/7 [00:12<00:00,  1.80s/it]\n",
      " 47%|████▋     | 76/161 [10:24<11:11,  7.90s/it]"
     ]
    },
    {
     "name": "stdout",
     "output_type": "stream",
     "text": [
      "https://reviews.webmd.com/drugs/drugreview-20575-geodon\n"
     ]
    },
    {
     "name": "stderr",
     "output_type": "stream",
     "text": [
      "100%|██████████| 33/33 [01:04<00:00,  1.96s/it]\n",
      " 48%|████▊     | 77/161 [11:32<36:26, 26.03s/it]"
     ]
    },
    {
     "name": "stdout",
     "output_type": "stream",
     "text": [
      "https://reviews.webmd.com/drugs/drugreview-3791-eskalith-cr-tablet-er\n"
     ]
    },
    {
     "name": "stderr",
     "output_type": "stream",
     "text": [
      "100%|██████████| 1/1 [00:01<00:00,  1.56s/it]\n",
      " 48%|████▊     | 78/161 [11:37<27:04, 19.57s/it]"
     ]
    },
    {
     "name": "stdout",
     "output_type": "stream",
     "text": [
      "https://reviews.webmd.com/drugs/drugreview-4689-quetiapine-fumarate\n"
     ]
    },
    {
     "name": "stderr",
     "output_type": "stream",
     "text": [
      "100%|██████████| 10/10 [00:19<00:00,  1.92s/it]\n",
      " 49%|████▉     | 79/161 [12:00<28:16, 20.69s/it]"
     ]
    },
    {
     "name": "stdout",
     "output_type": "stream",
     "text": [
      "https://reviews.webmd.com/drugs/drugreview-4689-quetiapine-fumarate-er\n"
     ]
    },
    {
     "name": "stderr",
     "output_type": "stream",
     "text": [
      "100%|██████████| 10/10 [00:19<00:00,  1.95s/it]\n",
      " 50%|████▉     | 80/161 [12:23<28:51, 21.38s/it]"
     ]
    },
    {
     "name": "stdout",
     "output_type": "stream",
     "text": [
      "https://reviews.webmd.com/drugs/drugreview-4718-seroquel\n"
     ]
    },
    {
     "name": "stderr",
     "output_type": "stream",
     "text": [
      "100%|██████████| 124/124 [04:18<00:00,  2.09s/it]\n",
      " 50%|█████     | 81/161 [16:46<2:05:07, 93.85s/it]"
     ]
    },
    {
     "name": "stdout",
     "output_type": "stream",
     "text": [
      "https://reviews.webmd.com/drugs/drugreview-48-prolixin-decanoate-solution\n"
     ]
    },
    {
     "name": "stderr",
     "output_type": "stream",
     "text": [
      "100%|██████████| 1/1 [00:01<00:00,  1.63s/it]\n",
      " 51%|█████     | 82/161 [16:51<1:28:14, 67.02s/it]"
     ]
    },
    {
     "name": "stdout",
     "output_type": "stream",
     "text": [
      "https://reviews.webmd.com/drugs/drugreview-5044-fluphenazine-hcl\n"
     ]
    },
    {
     "name": "stderr",
     "output_type": "stream",
     "text": [
      "100%|██████████| 1/1 [00:01<00:00,  1.82s/it]\n",
      " 52%|█████▏    | 83/161 [16:56<1:02:55, 48.40s/it]"
     ]
    },
    {
     "name": "stdout",
     "output_type": "stream",
     "text": [
      "https://reviews.webmd.com/drugs/drugreview-5044-fluphenazine-hcl-concentrate\n"
     ]
    },
    {
     "name": "stderr",
     "output_type": "stream",
     "text": [
      "100%|██████████| 1/1 [00:01<00:00,  1.57s/it]\n",
      " 52%|█████▏    | 84/161 [17:00<45:21, 35.34s/it]  "
     ]
    },
    {
     "name": "stdout",
     "output_type": "stream",
     "text": [
      "https://reviews.webmd.com/drugs/drugreview-5044-fluphenazine-hcl-elixir\n"
     ]
    },
    {
     "name": "stderr",
     "output_type": "stream",
     "text": [
      "100%|██████████| 1/1 [00:01<00:00,  1.86s/it]\n",
      " 53%|█████▎    | 85/161 [17:05<33:09, 26.17s/it]"
     ]
    },
    {
     "name": "stdout",
     "output_type": "stream",
     "text": [
      "https://reviews.webmd.com/drugs/drugreview-5419-haldol-tablet\n"
     ]
    },
    {
     "name": "stderr",
     "output_type": "stream",
     "text": [
      "100%|██████████| 6/6 [00:12<00:00,  2.02s/it]\n",
      " 54%|█████▍    | 87/161 [17:24<20:47, 16.86s/it]"
     ]
    },
    {
     "name": "stdout",
     "output_type": "stream",
     "text": [
      "skipping https://reviews.webmd.com/drugs/drugreview-5480-fluphenazine-enanthate-solution: page not found\n",
      "https://reviews.webmd.com/drugs/drugreview-5544-loxitane-capsule\n"
     ]
    },
    {
     "name": "stderr",
     "output_type": "stream",
     "text": [
      "100%|██████████| 1/1 [00:01<00:00,  1.51s/it]\n",
      " 55%|█████▌    | 89/161 [17:29<11:34,  9.65s/it]"
     ]
    },
    {
     "name": "stdout",
     "output_type": "stream",
     "text": [
      "skipping https://reviews.webmd.com/drugs/drugreview-5554-loxitane-solution: page not found\n"
     ]
    },
    {
     "name": "stderr",
     "output_type": "stream",
     "text": [
      " 56%|█████▌    | 90/161 [17:31<08:39,  7.31s/it]"
     ]
    },
    {
     "name": "stdout",
     "output_type": "stream",
     "text": [
      "skipping https://reviews.webmd.com/drugs/drugreview-5555-loxapine-hcl-solution: page not found\n",
      "https://reviews.webmd.com/drugs/drugreview-5556-loxitane-c-concentrate\n"
     ]
    },
    {
     "name": "stderr",
     "output_type": "stream",
     "text": [
      " 57%|█████▋    | 91/161 [17:34<06:57,  5.97s/it]"
     ]
    },
    {
     "name": "stdout",
     "output_type": "stream",
     "text": [
      "https://reviews.webmd.com/drugs/drugreview-5557-loxapine-hcl-concentrate\n"
     ]
    },
    {
     "name": "stderr",
     "output_type": "stream",
     "text": [
      "100%|██████████| 1/1 [00:01<00:00,  1.64s/it]\n",
      " 57%|█████▋    | 92/161 [17:39<06:31,  5.68s/it]"
     ]
    },
    {
     "name": "stdout",
     "output_type": "stream",
     "text": [
      "https://reviews.webmd.com/drugs/drugreview-57095-halperon-tablet\n"
     ]
    },
    {
     "name": "stderr",
     "output_type": "stream",
     "text": [
      " 58%|█████▊    | 93/161 [17:42<05:24,  4.78s/it]"
     ]
    },
    {
     "name": "stdout",
     "output_type": "stream",
     "text": [
      "https://reviews.webmd.com/drugs/drugreview-57096-myperidol-concentrate\n"
     ]
    },
    {
     "name": "stderr",
     "output_type": "stream",
     "text": [
      " 58%|█████▊    | 94/161 [17:45<04:38,  4.16s/it]"
     ]
    },
    {
     "name": "stdout",
     "output_type": "stream",
     "text": [
      "https://reviews.webmd.com/drugs/drugreview-57097-haldol-decanoate-solution\n"
     ]
    },
    {
     "name": "stderr",
     "output_type": "stream",
     "text": [
      " 59%|█████▉    | 95/161 [17:47<04:09,  3.78s/it]"
     ]
    },
    {
     "name": "stdout",
     "output_type": "stream",
     "text": [
      "https://reviews.webmd.com/drugs/drugreview-57098-haldol-decanoate-solution\n"
     ]
    },
    {
     "name": "stderr",
     "output_type": "stream",
     "text": [
      " 60%|█████▉    | 96/161 [17:51<03:52,  3.58s/it]"
     ]
    },
    {
     "name": "stdout",
     "output_type": "stream",
     "text": [
      "https://reviews.webmd.com/drugs/drugreview-57099-foypromazine-tablet\n"
     ]
    },
    {
     "name": "stderr",
     "output_type": "stream",
     "text": [
      " 60%|██████    | 97/161 [17:54<03:49,  3.59s/it]"
     ]
    },
    {
     "name": "stdout",
     "output_type": "stream",
     "text": [
      "https://reviews.webmd.com/drugs/drugreview-57100-chloramead-tablet\n"
     ]
    },
    {
     "name": "stderr",
     "output_type": "stream",
     "text": [
      " 61%|██████    | 98/161 [17:57<03:33,  3.39s/it]"
     ]
    },
    {
     "name": "stdout",
     "output_type": "stream",
     "text": [
      "https://reviews.webmd.com/drugs/drugreview-57101-thoradol-tablet\n"
     ]
    },
    {
     "name": "stderr",
     "output_type": "stream",
     "text": [
      " 61%|██████▏   | 99/161 [18:00<03:24,  3.30s/it]"
     ]
    },
    {
     "name": "stdout",
     "output_type": "stream",
     "text": [
      "https://reviews.webmd.com/drugs/drugreview-57102-kenazine-tablet\n"
     ]
    },
    {
     "name": "stderr",
     "output_type": "stream",
     "text": [
      " 62%|██████▏   | 100/161 [18:03<03:12,  3.15s/it]"
     ]
    },
    {
     "name": "stdout",
     "output_type": "stream",
     "text": [
      "https://reviews.webmd.com/drugs/drugreview-57103-chlorpromazine-tablet\n"
     ]
    },
    {
     "name": "stderr",
     "output_type": "stream",
     "text": [
      " 63%|██████▎   | 102/161 [18:08<02:44,  2.78s/it]"
     ]
    },
    {
     "name": "stdout",
     "output_type": "stream",
     "text": [
      "skipping https://reviews.webmd.com/drugs/drugreview-57104-thorarex-solution: page not found\n"
     ]
    },
    {
     "name": "stderr",
     "output_type": "stream",
     "text": [
      " 64%|██████▍   | 103/161 [18:10<02:22,  2.46s/it]"
     ]
    },
    {
     "name": "stdout",
     "output_type": "stream",
     "text": [
      "skipping https://reviews.webmd.com/drugs/drugreview-57105-clorazine-solution: page not found\n"
     ]
    },
    {
     "name": "stderr",
     "output_type": "stream",
     "text": [
      " 65%|██████▍   | 104/161 [18:11<02:04,  2.19s/it]"
     ]
    },
    {
     "name": "stdout",
     "output_type": "stream",
     "text": [
      "skipping https://reviews.webmd.com/drugs/drugreview-57106-thoradol-solution: page not found\n"
     ]
    },
    {
     "name": "stderr",
     "output_type": "stream",
     "text": [
      " 65%|██████▌   | 105/161 [18:13<01:57,  2.10s/it]"
     ]
    },
    {
     "name": "stdout",
     "output_type": "stream",
     "text": [
      "skipping https://reviews.webmd.com/drugs/drugreview-57107-klorazine-solution: page not found\n"
     ]
    },
    {
     "name": "stderr",
     "output_type": "stream",
     "text": [
      " 66%|██████▌   | 106/161 [18:15<01:56,  2.11s/it]"
     ]
    },
    {
     "name": "stdout",
     "output_type": "stream",
     "text": [
      "skipping https://reviews.webmd.com/drugs/drugreview-57108-thoramed-solution: page not found\n"
     ]
    },
    {
     "name": "stderr",
     "output_type": "stream",
     "text": [
      " 66%|██████▋   | 107/161 [18:17<01:52,  2.08s/it]"
     ]
    },
    {
     "name": "stdout",
     "output_type": "stream",
     "text": [
      "skipping https://reviews.webmd.com/drugs/drugreview-57109-ormazine-solution: page not found\n",
      "https://reviews.webmd.com/drugs/drugreview-57116-stelaprin-tablet\n"
     ]
    },
    {
     "name": "stderr",
     "output_type": "stream",
     "text": [
      " 67%|██████▋   | 108/161 [18:20<02:00,  2.27s/it]"
     ]
    },
    {
     "name": "stdout",
     "output_type": "stream",
     "text": [
      "https://reviews.webmd.com/drugs/drugreview-57117-lithane-tablet\n"
     ]
    },
    {
     "name": "stderr",
     "output_type": "stream",
     "text": [
      "100%|██████████| 1/1 [00:01<00:00,  1.41s/it]\n",
      " 68%|██████▊   | 109/161 [18:25<02:33,  2.95s/it]"
     ]
    },
    {
     "name": "stdout",
     "output_type": "stream",
     "text": [
      "https://reviews.webmd.com/drugs/drugreview-57118-cibalith-s-solution\n"
     ]
    },
    {
     "name": "stderr",
     "output_type": "stream",
     "text": [
      "100%|██████████| 1/1 [00:01<00:00,  1.64s/it]\n",
      " 68%|██████▊   | 110/161 [18:29<02:56,  3.45s/it]"
     ]
    },
    {
     "name": "stdout",
     "output_type": "stream",
     "text": [
      "https://reviews.webmd.com/drugs/drugreview-58070-myproic-acid-solution\n"
     ]
    },
    {
     "name": "stderr",
     "output_type": "stream",
     "text": [
      " 69%|██████▉   | 111/161 [18:32<02:40,  3.21s/it]"
     ]
    },
    {
     "name": "stdout",
     "output_type": "stream",
     "text": [
      "https://reviews.webmd.com/drugs/drugreview-58071-depa-syrup-solution\n"
     ]
    },
    {
     "name": "stderr",
     "output_type": "stream",
     "text": [
      " 70%|██████▉   | 112/161 [18:35<02:38,  3.23s/it]"
     ]
    },
    {
     "name": "stdout",
     "output_type": "stream",
     "text": [
      "https://reviews.webmd.com/drugs/drugreview-58072-deproic-capsule\n"
     ]
    },
    {
     "name": "stderr",
     "output_type": "stream",
     "text": [
      " 70%|███████   | 113/161 [18:38<02:32,  3.17s/it]"
     ]
    },
    {
     "name": "stdout",
     "output_type": "stream",
     "text": [
      "https://reviews.webmd.com/drugs/drugreview-58073-dalpro-capsule\n"
     ]
    },
    {
     "name": "stderr",
     "output_type": "stream",
     "text": [
      " 71%|███████   | 114/161 [18:41<02:22,  3.04s/it]"
     ]
    },
    {
     "name": "stdout",
     "output_type": "stream",
     "text": [
      "https://reviews.webmd.com/drugs/drugreview-5887-lithium-carbonate\n"
     ]
    },
    {
     "name": "stderr",
     "output_type": "stream",
     "text": [
      "100%|██████████| 23/23 [00:44<00:00,  1.95s/it]\n",
      " 71%|███████▏  | 115/161 [19:29<12:44, 16.63s/it]"
     ]
    },
    {
     "name": "stdout",
     "output_type": "stream",
     "text": [
      "https://reviews.webmd.com/drugs/drugreview-5887-lithium-carbonate-er\n"
     ]
    },
    {
     "name": "stderr",
     "output_type": "stream",
     "text": [
      "100%|██████████| 23/23 [00:45<00:00,  1.98s/it]\n",
      " 72%|███████▏  | 116/161 [20:18<19:40, 26.23s/it]"
     ]
    },
    {
     "name": "stdout",
     "output_type": "stream",
     "text": [
      "https://reviews.webmd.com/drugs/drugreview-6000-divalproex-sodium\n"
     ]
    },
    {
     "name": "stderr",
     "output_type": "stream",
     "text": [
      "100%|██████████| 7/7 [00:13<00:00,  1.95s/it]\n",
      " 73%|███████▎  | 117/161 [20:35<17:13, 23.48s/it]"
     ]
    },
    {
     "name": "stdout",
     "output_type": "stream",
     "text": [
      "https://reviews.webmd.com/drugs/drugreview-6000-divalproex-sodium-capsule-delayed-release-sprinkle\n"
     ]
    },
    {
     "name": "stderr",
     "output_type": "stream",
     "text": [
      "100%|██████████| 7/7 [00:16<00:00,  2.29s/it]\n",
      " 73%|███████▎  | 118/161 [20:54<15:58, 22.29s/it]"
     ]
    },
    {
     "name": "stdout",
     "output_type": "stream",
     "text": [
      "https://reviews.webmd.com/drugs/drugreview-6000-divalproex-sodium-er\n"
     ]
    },
    {
     "name": "stderr",
     "output_type": "stream",
     "text": [
      "100%|██████████| 7/7 [00:14<00:00,  2.04s/it]\n",
      " 74%|███████▍  | 119/161 [21:12<14:37, 20.90s/it]"
     ]
    },
    {
     "name": "stdout",
     "output_type": "stream",
     "text": [
      "https://reviews.webmd.com/drugs/drugreview-6092-haloperidol-decanoate-ampul\n"
     ]
    },
    {
     "name": "stderr",
     "output_type": "stream",
     "text": [
      "100%|██████████| 1/1 [00:01<00:00,  1.69s/it]\n",
      " 75%|███████▍  | 120/161 [21:17<10:58, 16.06s/it]"
     ]
    },
    {
     "name": "stdout",
     "output_type": "stream",
     "text": [
      "https://reviews.webmd.com/drugs/drugreview-6222-prolixin-concentrate\n"
     ]
    },
    {
     "name": "stderr",
     "output_type": "stream",
     "text": [
      "100%|██████████| 1/1 [00:01<00:00,  1.79s/it]\n",
      " 75%|███████▌  | 121/161 [21:22<08:26, 12.65s/it]"
     ]
    },
    {
     "name": "stdout",
     "output_type": "stream",
     "text": [
      "https://reviews.webmd.com/drugs/drugreview-6222-prolixin-elixir\n"
     ]
    },
    {
     "name": "stderr",
     "output_type": "stream",
     "text": [
      "100%|██████████| 1/1 [00:01<00:00,  1.64s/it]\n",
      " 76%|███████▌  | 122/161 [21:26<06:41, 10.30s/it]"
     ]
    },
    {
     "name": "stdout",
     "output_type": "stream",
     "text": [
      "https://reviews.webmd.com/drugs/drugreview-6222-prolixin-tablet\n"
     ]
    },
    {
     "name": "stderr",
     "output_type": "stream",
     "text": [
      "100%|██████████| 1/1 [00:01<00:00,  1.77s/it]\n",
      " 76%|███████▋  | 123/161 [21:31<05:30,  8.70s/it]"
     ]
    },
    {
     "name": "stdout",
     "output_type": "stream",
     "text": [
      "https://reviews.webmd.com/drugs/drugreview-6234-thiothixene\n"
     ]
    },
    {
     "name": "stderr",
     "output_type": "stream",
     "text": [
      "100%|██████████| 1/1 [00:01<00:00,  1.65s/it]\n",
      " 77%|███████▋  | 124/161 [21:36<04:41,  7.60s/it]"
     ]
    },
    {
     "name": "stdout",
     "output_type": "stream",
     "text": [
      "https://reviews.webmd.com/drugs/drugreview-6283-risperidone\n"
     ]
    },
    {
     "name": "stderr",
     "output_type": "stream",
     "text": [
      "100%|██████████| 11/11 [00:20<00:00,  1.89s/it]\n",
      " 78%|███████▊  | 125/161 [22:01<07:35, 12.65s/it]"
     ]
    },
    {
     "name": "stdout",
     "output_type": "stream",
     "text": [
      "https://reviews.webmd.com/drugs/drugreview-6283-risperidone-odt\n"
     ]
    },
    {
     "name": "stderr",
     "output_type": "stream",
     "text": [
      "100%|██████████| 11/11 [00:20<00:00,  1.82s/it]\n",
      " 78%|███████▊  | 126/161 [22:24<09:14, 15.84s/it]"
     ]
    },
    {
     "name": "stdout",
     "output_type": "stream",
     "text": [
      "https://reviews.webmd.com/drugs/drugreview-64437-aripiprazole\n"
     ]
    },
    {
     "name": "stderr",
     "output_type": "stream",
     "text": [
      "100%|██████████| 4/4 [00:08<00:00,  2.11s/it]\n",
      " 79%|███████▉  | 127/161 [22:36<08:17, 14.62s/it]"
     ]
    },
    {
     "name": "stdout",
     "output_type": "stream",
     "text": [
      "https://reviews.webmd.com/drugs/drugreview-64437-aripiprazole-odt\n"
     ]
    },
    {
     "name": "stderr",
     "output_type": "stream",
     "text": [
      "100%|██████████| 4/4 [00:07<00:00,  1.93s/it]\n",
      " 80%|███████▉  | 128/161 [22:47<07:32, 13.72s/it]"
     ]
    },
    {
     "name": "stdout",
     "output_type": "stream",
     "text": [
      "https://reviews.webmd.com/drugs/drugreview-64437-aripiprazole-tablet-with-sensor-and-patch\n"
     ]
    },
    {
     "name": "stderr",
     "output_type": "stream",
     "text": [
      "100%|██████████| 4/4 [00:08<00:00,  2.03s/it]\n",
      " 80%|████████  | 129/161 [22:58<06:52, 12.89s/it]"
     ]
    },
    {
     "name": "stdout",
     "output_type": "stream",
     "text": [
      "https://reviews.webmd.com/drugs/drugreview-64439-abilify\n"
     ]
    },
    {
     "name": "stderr",
     "output_type": "stream",
     "text": [
      "100%|██████████| 95/95 [03:11<00:00,  2.02s/it]\n",
      " 81%|████████▏ | 131/161 [26:15<23:53, 47.79s/it]"
     ]
    },
    {
     "name": "stdout",
     "output_type": "stream",
     "text": [
      "skipping https://reviews.webmd.com/drugs/drugreview-64731-valproic-acid-liquid: page not found\n",
      "https://reviews.webmd.com/drugs/drugreview-6572-stelazine-tablet\n"
     ]
    },
    {
     "name": "stderr",
     "output_type": "stream",
     "text": [
      "100%|██████████| 1/1 [00:01<00:00,  1.68s/it]\n",
      " 82%|████████▏ | 132/161 [26:20<16:51, 34.87s/it]"
     ]
    },
    {
     "name": "stdout",
     "output_type": "stream",
     "text": [
      "https://reviews.webmd.com/drugs/drugreview-6817-haldol-decanoate-50-ampul\n"
     ]
    },
    {
     "name": "stderr",
     "output_type": "stream",
     "text": [
      "100%|██████████| 1/1 [00:01<00:00,  1.96s/it]\n",
      " 83%|████████▎ | 133/161 [26:25<12:07, 25.97s/it]"
     ]
    },
    {
     "name": "stdout",
     "output_type": "stream",
     "text": [
      "https://reviews.webmd.com/drugs/drugreview-6874-lithobid\n"
     ]
    },
    {
     "name": "stderr",
     "output_type": "stream",
     "text": [
      "100%|██████████| 2/2 [00:03<00:00,  1.71s/it]\n",
      " 83%|████████▎ | 134/161 [26:31<09:02, 20.08s/it]"
     ]
    },
    {
     "name": "stdout",
     "output_type": "stream",
     "text": [
      "https://reviews.webmd.com/drugs/drugreview-6923-navane-capsule\n"
     ]
    },
    {
     "name": "stderr",
     "output_type": "stream",
     "text": [
      "100%|██████████| 1/1 [00:01<00:00,  2.00s/it]\n",
      " 84%|████████▍ | 136/161 [26:39<04:48, 11.54s/it]"
     ]
    },
    {
     "name": "stdout",
     "output_type": "stream",
     "text": [
      "skipping https://reviews.webmd.com/drugs/drugreview-7044-thorazine-suppository: page not found\n",
      "https://reviews.webmd.com/drugs/drugreview-7068-trilafon-tablet\n"
     ]
    },
    {
     "name": "stderr",
     "output_type": "stream",
     "text": [
      "100%|██████████| 2/2 [00:03<00:00,  1.98s/it]\n",
      " 85%|████████▌ | 137/161 [26:46<04:04, 10.20s/it]"
     ]
    },
    {
     "name": "stdout",
     "output_type": "stream",
     "text": [
      "https://reviews.webmd.com/drugs/drugreview-75142-risperdal-m-tab-tablet-disintegrating\n"
     ]
    },
    {
     "name": "stderr",
     "output_type": "stream",
     "text": [
      "100%|██████████| 1/1 [00:01<00:00,  1.79s/it]\n",
      " 86%|████████▌ | 138/161 [26:51<03:18,  8.64s/it]"
     ]
    },
    {
     "name": "stdout",
     "output_type": "stream",
     "text": [
      "https://reviews.webmd.com/drugs/drugreview-77659-risperidone-er-vial\n"
     ]
    },
    {
     "name": "stderr",
     "output_type": "stream",
     "text": [
      "100%|██████████| 1/1 [00:01<00:00,  1.87s/it]\n",
      " 86%|████████▋ | 139/161 [26:55<02:43,  7.45s/it]"
     ]
    },
    {
     "name": "stdout",
     "output_type": "stream",
     "text": [
      "https://reviews.webmd.com/drugs/drugreview-77667-risperdal-consta-vial\n"
     ]
    },
    {
     "name": "stderr",
     "output_type": "stream",
     "text": [
      "100%|██████████| 3/3 [00:05<00:00,  1.80s/it]\n",
      " 87%|████████▋ | 140/161 [27:04<02:44,  7.86s/it]"
     ]
    },
    {
     "name": "stdout",
     "output_type": "stream",
     "text": [
      "https://reviews.webmd.com/drugs/drugreview-7895-moban-tablet\n"
     ]
    },
    {
     "name": "stderr",
     "output_type": "stream",
     "text": [
      "100%|██████████| 1/1 [00:01<00:00,  1.72s/it]\n",
      " 88%|████████▊ | 141/161 [27:09<02:18,  6.94s/it]"
     ]
    },
    {
     "name": "stdout",
     "output_type": "stream",
     "text": [
      "https://reviews.webmd.com/drugs/drugreview-7896-molindone-hcl\n"
     ]
    },
    {
     "name": "stderr",
     "output_type": "stream",
     "text": [
      " 88%|████████▊ | 142/161 [27:12<01:49,  5.76s/it]"
     ]
    },
    {
     "name": "stdout",
     "output_type": "stream",
     "text": [
      "https://reviews.webmd.com/drugs/drugreview-8661-haloperidol\n"
     ]
    },
    {
     "name": "stderr",
     "output_type": "stream",
     "text": [
      "100%|██████████| 3/3 [00:05<00:00,  1.88s/it]\n",
      " 89%|████████▉ | 144/161 [27:23<01:30,  5.31s/it]"
     ]
    },
    {
     "name": "stdout",
     "output_type": "stream",
     "text": [
      "skipping https://reviews.webmd.com/drugs/drugreview-8824-perphenazine-solution: page not found\n",
      "https://reviews.webmd.com/drugs/drugreview-8825-perphenazine\n"
     ]
    },
    {
     "name": "stderr",
     "output_type": "stream",
     "text": [
      "100%|██████████| 2/2 [00:04<00:00,  2.02s/it]\n",
      " 90%|█████████ | 145/161 [27:31<01:36,  6.04s/it]"
     ]
    },
    {
     "name": "stdout",
     "output_type": "stream",
     "text": [
      "https://reviews.webmd.com/drugs/drugreview-8885-valproic-acid\n"
     ]
    },
    {
     "name": "stderr",
     "output_type": "stream",
     "text": [
      "100%|██████████| 4/4 [00:08<00:00,  2.03s/it]\n",
      " 91%|█████████ | 146/161 [27:42<01:55,  7.68s/it]"
     ]
    },
    {
     "name": "stdout",
     "output_type": "stream",
     "text": [
      "https://reviews.webmd.com/drugs/drugreview-8885-valproic-acid-syrup\n"
     ]
    },
    {
     "name": "stderr",
     "output_type": "stream",
     "text": [
      "100%|██████████| 4/4 [00:07<00:00,  1.79s/it]\n",
      " 92%|█████████▏| 148/161 [27:55<01:24,  6.53s/it]"
     ]
    },
    {
     "name": "stdout",
     "output_type": "stream",
     "text": [
      "skipping https://reviews.webmd.com/drugs/drugreview-8891-fluphenazine-hcl-vial: page not found\n",
      "https://reviews.webmd.com/drugs/drugreview-9118-depakote-sprinkle\n"
     ]
    },
    {
     "name": "stderr",
     "output_type": "stream",
     "text": [
      "100%|██████████| 2/2 [00:04<00:00,  2.17s/it]\n",
      " 93%|█████████▎| 150/161 [28:05<01:00,  5.48s/it]"
     ]
    },
    {
     "name": "stdout",
     "output_type": "stream",
     "text": [
      "skipping https://reviews.webmd.com/drugs/drugreview-91411-chlorpromazine-suppository: page not found\n",
      "https://reviews.webmd.com/drugs/drugreview-9170-eskalith-capsule\n"
     ]
    },
    {
     "name": "stderr",
     "output_type": "stream",
     "text": [
      "100%|██████████| 5/5 [00:09<00:00,  2.00s/it]\n",
      " 94%|█████████▍| 152/161 [28:20<00:54,  6.09s/it]"
     ]
    },
    {
     "name": "stdout",
     "output_type": "stream",
     "text": [
      "skipping https://reviews.webmd.com/drugs/drugreview-92597-haloperidol-lactate-syringe: page not found\n",
      "https://reviews.webmd.com/drugs/drugreview-9291-lithotabs-tablet\n"
     ]
    },
    {
     "name": "stderr",
     "output_type": "stream",
     "text": [
      "100%|██████████| 1/1 [00:01<00:00,  1.71s/it]\n",
      " 95%|█████████▌| 153/161 [28:25<00:46,  5.83s/it]"
     ]
    },
    {
     "name": "stdout",
     "output_type": "stream",
     "text": [
      "https://reviews.webmd.com/drugs/drugreview-9406-permitil-concentrate\n"
     ]
    },
    {
     "name": "stderr",
     "output_type": "stream",
     "text": [
      "100%|██████████| 1/1 [00:01<00:00,  1.62s/it]\n",
      " 96%|█████████▌| 154/161 [28:30<00:38,  5.49s/it]"
     ]
    },
    {
     "name": "stdout",
     "output_type": "stream",
     "text": [
      "https://reviews.webmd.com/drugs/drugreview-9406-permitil-tablet\n"
     ]
    },
    {
     "name": "stderr",
     "output_type": "stream",
     "text": [
      "100%|██████████| 1/1 [00:01<00:00,  1.68s/it]\n",
      " 97%|█████████▋| 156/161 [28:36<00:21,  4.21s/it]"
     ]
    },
    {
     "name": "stdout",
     "output_type": "stream",
     "text": [
      "skipping https://reviews.webmd.com/drugs/drugreview-9445-prolixin-solution: page not found\n",
      "https://reviews.webmd.com/drugs/drugreview-9543-thorazine-tablet\n"
     ]
    },
    {
     "name": "stderr",
     "output_type": "stream",
     "text": [
      "100%|██████████| 4/4 [00:08<00:00,  2.22s/it]\n",
      " 98%|█████████▊| 158/161 [28:52<00:16,  5.56s/it]"
     ]
    },
    {
     "name": "stdout",
     "output_type": "stream",
     "text": [
      "skipping https://reviews.webmd.com/drugs/drugreview-9567-trilafon-solution: page not found\n",
      "https://reviews.webmd.com/drugs/drugreview-9702-depakene-capsule\n"
     ]
    },
    {
     "name": "stderr",
     "output_type": "stream",
     "text": [
      "100%|██████████| 1/1 [00:01<00:00,  1.94s/it]\n",
      " 99%|█████████▉| 159/161 [28:57<00:11,  5.55s/it]"
     ]
    },
    {
     "name": "stdout",
     "output_type": "stream",
     "text": [
      "https://reviews.webmd.com/drugs/drugreview-9702-depakene-solution\n"
     ]
    },
    {
     "name": "stderr",
     "output_type": "stream",
     "text": [
      "100%|██████████| 1/1 [00:02<00:00,  2.23s/it]\n",
      " 99%|█████████▉| 160/161 [29:04<00:05,  5.83s/it]"
     ]
    },
    {
     "name": "stdout",
     "output_type": "stream",
     "text": [
      "https://reviews.webmd.com/drugs/drugreview-9846-risperdal\n"
     ]
    },
    {
     "name": "stderr",
     "output_type": "stream",
     "text": [
      "100%|██████████| 24/24 [00:48<00:00,  2.04s/it]\n",
      "100%|██████████| 161/161 [29:57<00:00, 11.16s/it]\n"
     ]
    }
   ],
   "source": [
    "#all drugs\n",
    "for review_url in tqdm(review_urls):\n",
    "    response = requests.get(review_url, headers=headers)\n",
    "    if response.url == 'https://www.webmd.com/404':\n",
    "        print(f'skipping {review_url}: page not found')\n",
    "    else:\n",
    "        print(review_url)\n",
    "        reviews_df = crawl_reviews_pages(review_url, reviews_df)\n",
    "\n",
    "\n",
    "reviews_df.to_csv('../../data/datasets/behavioral_reviews.csv')\n"
   ]
  }
 ],
 "metadata": {
  "kernelspec": {
   "display_name": "rioxarray_env",
   "language": "python",
   "name": "python3"
  },
  "language_info": {
   "codemirror_mode": {
    "name": "ipython",
    "version": 3
   },
   "file_extension": ".py",
   "mimetype": "text/x-python",
   "name": "python",
   "nbconvert_exporter": "python",
   "pygments_lexer": "ipython3",
   "version": "3.9.18"
  }
 },
 "nbformat": 4,
 "nbformat_minor": 2
}
