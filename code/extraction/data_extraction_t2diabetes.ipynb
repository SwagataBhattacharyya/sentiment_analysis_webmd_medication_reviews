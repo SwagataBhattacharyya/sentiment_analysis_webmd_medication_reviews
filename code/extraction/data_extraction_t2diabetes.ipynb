{
 "cells": [
  {
   "cell_type": "markdown",
   "metadata": {},
   "source": [
    "Medication reviews extracted from webmd for diabetes type 2 mellitus.\n",
    "\n",
    "Source code applied to extract reviews from web.MD: 'https://github.com/sepidehparhami/scraping-webmd-drug-reviews/tree/main'. "
   ]
  },
  {
   "cell_type": "code",
   "execution_count": 1,
   "metadata": {},
   "outputs": [
    {
     "data": {
      "text/plain": [
       "array(['https://reviews.webmd.com/drugs/drugreview-10094-glipizide',\n",
       "       'https://reviews.webmd.com/drugs/drugreview-10094-glipizide-er',\n",
       "       'https://reviews.webmd.com/drugs/drugreview-10095-glucotrol-xl',\n",
       "       'https://reviews.webmd.com/drugs/drugreview-11285-metformin-hcl',\n",
       "       'https://reviews.webmd.com/drugs/drugreview-11285-metformin-hcl-er',\n",
       "       'https://reviews.webmd.com/drugs/drugreview-11285-metformin-hcl-solution',\n",
       "       'https://reviews.webmd.com/drugs/drugreview-11285-metformin-suspension-er-reconstituted-suspension-reconstituted',\n",
       "       'https://reviews.webmd.com/drugs/drugreview-11294-glucophage-tablet',\n",
       "       'https://reviews.webmd.com/drugs/drugreview-11668-dymelor-tablet',\n",
       "       'https://reviews.webmd.com/drugs/drugreview-11773-glucotrol',\n",
       "       'https://reviews.webmd.com/drugs/drugreview-11926-insulin-reg-human-buffered-solution',\n",
       "       'https://reviews.webmd.com/drugs/drugreview-11965-insulin-regular-beef-pork-solution',\n",
       "       'https://reviews.webmd.com/drugs/drugreview-11967-insulin-zinc-beef-pork-suspension',\n",
       "       'https://reviews.webmd.com/drugs/drugreview-11968-iletin-i-lente-suspension',\n",
       "       'https://reviews.webmd.com/drugs/drugreview-11969-iletin-i-regular-solution',\n",
       "       'https://reviews.webmd.com/drugs/drugreview-11970-iletin-ii-lente-pork-suspension',\n",
       "       'https://reviews.webmd.com/drugs/drugreview-11971-insulin-purified-nph-pork-suspension',\n",
       "       'https://reviews.webmd.com/drugs/drugreview-11981-insulin-regular-pork-solution',\n",
       "       'https://reviews.webmd.com/drugs/drugreview-11982-iletin-ii-regular-pork-solution',\n",
       "       'https://reviews.webmd.com/drugs/drugreview-12271-glimepiride',\n",
       "       'https://reviews.webmd.com/drugs/drugreview-12297-amaryl',\n",
       "       'https://reviews.webmd.com/drugs/drugreview-1284-miglitol',\n",
       "       'https://reviews.webmd.com/drugs/drugreview-13818-humalog-cartridge',\n",
       "       'https://reviews.webmd.com/drugs/drugreview-14228-thsc-glyburide-tablet',\n",
       "       'https://reviews.webmd.com/drugs/drugreview-14352-acetohexamide-tablet',\n",
       "       'https://reviews.webmd.com/drugs/drugreview-144565-insulin-combo-pack-combination-package',\n",
       "       'https://reviews.webmd.com/drugs/drugreview-144567-insulin-kit-inhaler',\n",
       "       'https://reviews.webmd.com/drugs/drugreview-144581-exubera-kit-inhaler',\n",
       "       'https://reviews.webmd.com/drugs/drugreview-144582-exubera-combination-pack-15-package',\n",
       "       'https://reviews.webmd.com/drugs/drugreview-144583-exubera-combination-pack-12-package',\n",
       "       'https://reviews.webmd.com/drugs/drugreview-14461-humulin-l-suspension',\n",
       "       'https://reviews.webmd.com/drugs/drugreview-144868-glumetza',\n",
       "       'https://reviews.webmd.com/drugs/drugreview-144978-pioglitazone-glimepiride',\n",
       "       'https://reviews.webmd.com/drugs/drugreview-144983-duetact',\n",
       "       'https://reviews.webmd.com/drugs/drugreview-14536-insulin-regular-human-pen',\n",
       "       'https://reviews.webmd.com/drugs/drugreview-145697-sitagliptin-phosphate-tablet',\n",
       "       'https://reviews.webmd.com/drugs/drugreview-145704-januvia',\n",
       "       'https://reviews.webmd.com/drugs/drugreview-1468-novolin-70-30-vial',\n",
       "       'https://reviews.webmd.com/drugs/drugreview-1469-novolin-l-semi-synthetic-suspension',\n",
       "       'https://reviews.webmd.com/drugs/drugreview-1470-novolin-n-semi-synthetic-suspension',\n",
       "       'https://reviews.webmd.com/drugs/drugreview-1471-novolin-r-vial',\n",
       "       'https://reviews.webmd.com/drugs/drugreview-147838-exubera-patient-pack-combination-package',\n",
       "       'https://reviews.webmd.com/drugs/drugreview-148063-sitagliptin-phos-metformin-tablet',\n",
       "       'https://reviews.webmd.com/drugs/drugreview-148063-sitagliptin-phos-metformin-tablet-multiphase-24-hr-tablet-er-hr',\n",
       "       'https://reviews.webmd.com/drugs/drugreview-148074-janumet',\n",
       "       'https://reviews.webmd.com/drugs/drugreview-14850-humulin-50-50-suspension',\n",
       "       'https://reviews.webmd.com/drugs/drugreview-148652-lantus-solostar-insulin-pen',\n",
       "       'https://reviews.webmd.com/drugs/drugreview-149828-humalog-kwikpen-u-100-insulin-pen',\n",
       "       'https://reviews.webmd.com/drugs/drugreview-149829-humalog-mix-75-25-kwikpen-insulin-pen',\n",
       "       'https://reviews.webmd.com/drugs/drugreview-149830-humalog-mix-50-50-kwikpen-insulin-pen',\n",
       "       'https://reviews.webmd.com/drugs/drugreview-151643-repaglinide-metformin-tablet',\n",
       "       'https://reviews.webmd.com/drugs/drugreview-151644-prandimet-tablet',\n",
       "       'https://reviews.webmd.com/drugs/drugreview-152040-apidra-solostar-insulin-pen',\n",
       "       'https://reviews.webmd.com/drugs/drugreview-152751-saxagliptin-hcl',\n",
       "       'https://reviews.webmd.com/drugs/drugreview-152753-onglyza',\n",
       "       'https://reviews.webmd.com/drugs/drugreview-153566-liraglutide-pen-injector',\n",
       "       'https://reviews.webmd.com/drugs/drugreview-153568-victoza-pen-injector',\n",
       "       'https://reviews.webmd.com/drugs/drugreview-154175-actoplus-met-xr-tablet-multiphase-24-hr-tablet-er-hr',\n",
       "       'https://reviews.webmd.com/drugs/drugreview-154914-saxagliptin-metformin-er',\n",
       "       'https://reviews.webmd.com/drugs/drugreview-154922-kombiglyze-xr',\n",
       "       'https://reviews.webmd.com/drugs/drugreview-155005-novolog-penfill-cartridge',\n",
       "       'https://reviews.webmd.com/drugs/drugreview-155816-linagliptin-tablet',\n",
       "       'https://reviews.webmd.com/drugs/drugreview-155820-tradjenta',\n",
       "       'https://reviews.webmd.com/drugs/drugreview-157670-sitagliptin-phos-simvastatin-tablet',\n",
       "       'https://reviews.webmd.com/drugs/drugreview-157671-juvisync-tablet',\n",
       "       'https://reviews.webmd.com/drugs/drugreview-159402-exenatide-microspheres-suspension-er-reconstituted-suspension-reconstituted',\n",
       "       'https://reviews.webmd.com/drugs/drugreview-159405-bydureon-suspension-er-reconstituted-suspension-reconstituted',\n",
       "       'https://reviews.webmd.com/drugs/drugreview-159426-linagliptin-metformin-tablet',\n",
       "       'https://reviews.webmd.com/drugs/drugreview-159426-linagliptin-metformin-tablet-immediate-release-and-er-biphasic-24hr-tablet-immed-ext-release-biphasic-24hr',\n",
       "       'https://reviews.webmd.com/drugs/drugreview-159449-jentadueto',\n",
       "       'https://reviews.webmd.com/drugs/drugreview-159466-janumet-xr',\n",
       "       'https://reviews.webmd.com/drugs/drugreview-163054-victoza-2-pak-pen-injector',\n",
       "       'https://reviews.webmd.com/drugs/drugreview-163392-alogliptin',\n",
       "       'https://reviews.webmd.com/drugs/drugreview-163393-alogliptin-pioglitazone',\n",
       "       'https://reviews.webmd.com/drugs/drugreview-163394-alogliptin-metformin',\n",
       "       'https://reviews.webmd.com/drugs/drugreview-163396-kazano',\n",
       "       'https://reviews.webmd.com/drugs/drugreview-163399-nesina',\n",
       "       'https://reviews.webmd.com/drugs/drugreview-163400-oseni',\n",
       "       'https://reviews.webmd.com/drugs/drugreview-163872-canagliflozin-tablet',\n",
       "       'https://reviews.webmd.com/drugs/drugreview-163874-invokana',\n",
       "       'https://reviews.webmd.com/drugs/drugreview-164535-victoza-3-pak-pen-injector',\n",
       "       'https://reviews.webmd.com/drugs/drugreview-164719-novolin-r-penfill-semi-synth-cartridge',\n",
       "       'https://reviews.webmd.com/drugs/drugreview-165589-insulin-degludec-pen-u-200',\n",
       "       'https://reviews.webmd.com/drugs/drugreview-165640-dapagliflozin',\n",
       "       'https://reviews.webmd.com/drugs/drugreview-165641-farxiga',\n",
       "       'https://reviews.webmd.com/drugs/drugreview-165658-humulin-70-30-kwikpen-insulin-pen',\n",
       "       'https://reviews.webmd.com/drugs/drugreview-165659-humulin-n-kwikpen-insulin-pen',\n",
       "       'https://reviews.webmd.com/drugs/drugreview-165976-lixisenatide-pen-injector',\n",
       "       'https://reviews.webmd.com/drugs/drugreview-166327-levemir-flextouch-insulin-pen',\n",
       "       'https://reviews.webmd.com/drugs/drugreview-166372-albiglutide-pen-injector',\n",
       "       'https://reviews.webmd.com/drugs/drugreview-166388-tanzeum-pen-injector',\n",
       "       'https://reviews.webmd.com/drugs/drugreview-166761-empagliflozin-tablet',\n",
       "       'https://reviews.webmd.com/drugs/drugreview-166762-jardiance',\n",
       "       'https://reviews.webmd.com/drugs/drugreview-166778-canagliflozin-metformin-tablet',\n",
       "       'https://reviews.webmd.com/drugs/drugreview-166778-canagliflozin-metformin-tablet-immediate-release-and-er-biphasic-24hr-tablet-immed-ext-release-biphasic-24hr',\n",
       "       'https://reviews.webmd.com/drugs/drugreview-166783-invokamet',\n",
       "       'https://reviews.webmd.com/drugs/drugreview-167024-dulaglutide-pen-injector',\n",
       "       'https://reviews.webmd.com/drugs/drugreview-167025-trulicity-pen-injector',\n",
       "       'https://reviews.webmd.com/drugs/drugreview-167198-dapagliflozin-metformin-er',\n",
       "       'https://reviews.webmd.com/drugs/drugreview-167199-xigduo-xr',\n",
       "       'https://reviews.webmd.com/drugs/drugreview-167500-afrezza-cartridge-with-inhaler',\n",
       "       'https://reviews.webmd.com/drugs/drugreview-167707-empagliflozin-linagliptin-tablet',\n",
       "       'https://reviews.webmd.com/drugs/drugreview-167715-glyxambi',\n",
       "       'https://reviews.webmd.com/drugs/drugreview-167874-toujeo-solostar-insulin-pen',\n",
       "       'https://reviews.webmd.com/drugs/drugreview-16866-glyset-tablet',\n",
       "       'https://reviews.webmd.com/drugs/drugreview-16873-humulin-70-30-insulin-pen-syringe',\n",
       "       'https://reviews.webmd.com/drugs/drugreview-16874-humulin-n-pen-syringe',\n",
       "       'https://reviews.webmd.com/drugs/drugreview-16875-humalog-pen-insulin',\n",
       "       'https://reviews.webmd.com/drugs/drugreview-16875-humalog-pen-syringe',\n",
       "       'https://reviews.webmd.com/drugs/drugreview-169671-empagliflozin-metformin-tablet',\n",
       "       'https://reviews.webmd.com/drugs/drugreview-169671-empagliflozin-metformin-tablet-immediate-release-and-er-biphasic-24hr-tablet-immed-ext-release-biphasic-24hr',\n",
       "       'https://reviews.webmd.com/drugs/drugreview-169678-synjardy',\n",
       "       'https://reviews.webmd.com/drugs/drugreview-170029-tresiba-flextouch-u-100-insulin-pen',\n",
       "       'https://reviews.webmd.com/drugs/drugreview-170030-tresiba-flextouch-u-200-insulin-pen',\n",
       "       'https://reviews.webmd.com/drugs/drugreview-170716-basaglar-kwikpen-u-100-insulin-pen',\n",
       "       'https://reviews.webmd.com/drugs/drugreview-172005-jentadueto-xr',\n",
       "       'https://reviews.webmd.com/drugs/drugreview-172573-invokamet-xr',\n",
       "       'https://reviews.webmd.com/drugs/drugreview-172910-insulin-degludec-liraglutide-pen',\n",
       "       'https://reviews.webmd.com/drugs/drugreview-172911-xultophy-100-3-6-insulin-pen',\n",
       "       'https://reviews.webmd.com/drugs/drugreview-172916-insulin-glargine-lixisenatide-pen',\n",
       "       'https://reviews.webmd.com/drugs/drugreview-17298-rosiglitazone-tablet',\n",
       "       'https://reviews.webmd.com/drugs/drugreview-172984-adlyxin-pen-injector',\n",
       "       'https://reviews.webmd.com/drugs/drugreview-172986-soliqua-100-33-insulin-pen',\n",
       "       'https://reviews.webmd.com/drugs/drugreview-17300-avandia',\n",
       "       'https://reviews.webmd.com/drugs/drugreview-173266-insulin-aspart-niacinamide-cartridge',\n",
       "       'https://reviews.webmd.com/drugs/drugreview-173268-fiasp-vial',\n",
       "       'https://reviews.webmd.com/drugs/drugreview-173286-fiasp-flextouch-insulin-pen',\n",
       "       'https://reviews.webmd.com/drugs/drugreview-173287-fiasp-penfill-cartridge',\n",
       "       'https://reviews.webmd.com/drugs/drugreview-173353-dapagliflozin-saxagliptin-tablet',\n",
       "       'https://reviews.webmd.com/drugs/drugreview-173445-synjardy-xr',\n",
       "       'https://reviews.webmd.com/drugs/drugreview-17385-glycron-tablet',\n",
       "       'https://reviews.webmd.com/drugs/drugreview-174012-humalog-junior-kwikpen-insulin-pen-half-unit',\n",
       "       'https://reviews.webmd.com/drugs/drugreview-17406-pioglitazone-hcl',\n",
       "       'https://reviews.webmd.com/drugs/drugreview-17410-actos',\n",
       "       'https://reviews.webmd.com/drugs/drugreview-17424-insulin-lispro-protamine-mix-pen',\n",
       "       'https://reviews.webmd.com/drugs/drugreview-174355-qtern',\n",
       "       'https://reviews.webmd.com/drugs/drugreview-174375-bydureon-bcise-auto-injector',\n",
       "       'https://reviews.webmd.com/drugs/drugreview-174490-semaglutide-pen-injector',\n",
       "       'https://reviews.webmd.com/drugs/drugreview-174491-ozempic-pen-injector',\n",
       "       'https://reviews.webmd.com/drugs/drugreview-174564-ertugliflozin-sitagliptin-phos-tablet',\n",
       "       'https://reviews.webmd.com/drugs/drugreview-174571-ertugliflozin-tablet',\n",
       "       'https://reviews.webmd.com/drugs/drugreview-174575-admelog-vial',\n",
       "       'https://reviews.webmd.com/drugs/drugreview-174576-admelog-solostar-insulin-pen',\n",
       "       'https://reviews.webmd.com/drugs/drugreview-174582-ertugliflozin-metformin-tablet',\n",
       "       'https://reviews.webmd.com/drugs/drugreview-174602-steglatro',\n",
       "       'https://reviews.webmd.com/drugs/drugreview-174662-steglujan',\n",
       "       'https://reviews.webmd.com/drugs/drugreview-174733-segluromet',\n",
       "       'https://reviews.webmd.com/drugs/drugreview-175027-toujeo-max-solostar-insulin-pen',\n",
       "       'https://reviews.webmd.com/drugs/drugreview-175773-insulin-glargine-solostar-pen',\n",
       "       'https://reviews.webmd.com/drugs/drugreview-176248-novolin-70-30-flexpen-insulin-pen',\n",
       "       'https://reviews.webmd.com/drugs/drugreview-176683-tresiba-vial',\n",
       "       'https://reviews.webmd.com/drugs/drugreview-17744-velosulin-br-solution',\n",
       "       'https://reviews.webmd.com/drugs/drugreview-17746-velosulin-br-rdna-solution',\n",
       "       'https://reviews.webmd.com/drugs/drugreview-177465-insulin-regular-in-0-9-nacl-solution',\n",
       "       'https://reviews.webmd.com/drugs/drugreview-177940-myxredlin-plastic-bag-injection',\n",
       "       'https://reviews.webmd.com/drugs/drugreview-178018-semaglutide-tablet',\n",
       "       'https://reviews.webmd.com/drugs/drugreview-178019-rybelsus',\n",
       "       'https://reviews.webmd.com/drugs/drugreview-178494-novolin-n-flexpen-insulin-pen',\n",
       "       'https://reviews.webmd.com/drugs/drugreview-178502-novolin-r-flexpen-insulin-pen',\n",
       "       'https://reviews.webmd.com/drugs/drugreview-178652-riomet-er',\n",
       "       'https://reviews.webmd.com/drugs/drugreview-178777-empaglifloz-linaglip-metformin-tablet-immediate-release-and-er-biphasic-24hr-tablet-immed-ext-release-biphasic-24hr',\n",
       "       'https://reviews.webmd.com/drugs/drugreview-178887-semglee-vial',\n",
       "       'https://reviews.webmd.com/drugs/drugreview-1789-diabinese-tablet',\n",
       "       'https://reviews.webmd.com/drugs/drugreview-178950-trijardy-xr',\n",
       "       'https://reviews.webmd.com/drugs/drugreview-179541-insulin-lispro-aabc-solution',\n",
       "       'https://reviews.webmd.com/drugs/drugreview-179553-lyumjev-vial',\n",
       "       'https://reviews.webmd.com/drugs/drugreview-179554-lyumjev-kwikpen-u-100-insulin-pen',\n",
       "       'https://reviews.webmd.com/drugs/drugreview-179555-lyumjev-kwikpen-u-200-insulin-pen',\n",
       "       'https://reviews.webmd.com/drugs/drugreview-180007-semglee-pen-insulin',\n",
       "       'https://reviews.webmd.com/drugs/drugreview-181317-basaglar-tempo-pen-u-100-insulin-pen-sensor',\n",
       "       'https://reviews.webmd.com/drugs/drugreview-181342-humalog-tempo-pen-u-100-insulin-pen-sensor',\n",
       "       'https://reviews.webmd.com/drugs/drugreview-18179-novolin-70-30-penfill-cartridge',\n",
       "       'https://reviews.webmd.com/drugs/drugreview-18180-novolin-n-penfill-cartridge',\n",
       "       'https://reviews.webmd.com/drugs/drugreview-18181-novolin-r-penfill-cartridge',\n",
       "       'https://reviews.webmd.com/drugs/drugreview-182013-insulin-glargine-yfgn-vial',\n",
       "       'https://reviews.webmd.com/drugs/drugreview-182372-semglee-yfgn-pen-insulin',\n",
       "       'https://reviews.webmd.com/drugs/drugreview-182373-semglee-yfgn-vial',\n",
       "       'https://reviews.webmd.com/drugs/drugreview-183194-insulin-glargine-aglr-pen',\n",
       "       'https://reviews.webmd.com/drugs/drugreview-184157-tirzepatide-pen-injector',\n",
       "       'https://reviews.webmd.com/drugs/drugreview-184168-mounjaro-pen-injector',\n",
       "       'https://reviews.webmd.com/drugs/drugreview-185382-lyumjev-tempo-pen-u-100-insulin-pen-sensor',\n",
       "       'https://reviews.webmd.com/drugs/drugreview-185857-bexagliflozin',\n",
       "       'https://reviews.webmd.com/drugs/drugreview-186157-rezvoglar-kwikpen-insulin-pen',\n",
       "       'https://reviews.webmd.com/drugs/drugreview-187319-brenzavvy',\n",
       "       'https://reviews.webmd.com/drugs/drugreview-187400-insulin-aspart-b3-pump-cart-cartridge',\n",
       "       'https://reviews.webmd.com/drugs/drugreview-187431-fiasp-pumpcart-cartridge',\n",
       "       'https://reviews.webmd.com/drugs/drugreview-187692-sitagliptin-tablet',\n",
       "       'https://reviews.webmd.com/drugs/drugreview-187793-tirzepatide-weight-loss-pen-injector',\n",
       "       'https://reviews.webmd.com/drugs/drugreview-187794-zepbound-pen-injector',\n",
       "       'https://reviews.webmd.com/drugs/drugreview-187968-zituvio',\n",
       "       'https://reviews.webmd.com/drugs/drugreview-19822-glucovance-tablet',\n",
       "       'https://reviews.webmd.com/drugs/drugreview-19823-glyburide-metformin-hcl',\n",
       "       'https://reviews.webmd.com/drugs/drugreview-19895-relion-n-innolet-suspension',\n",
       "       'https://reviews.webmd.com/drugs/drugreview-19896-relion-r-solution',\n",
       "       'https://reviews.webmd.com/drugs/drugreview-19897-insulin-70-30-suspension',\n",
       "       'https://reviews.webmd.com/drugs/drugreview-20009-glucophage-xr-tablet-er-24-hr',\n",
       "       'https://reviews.webmd.com/drugs/drugreview-20224-humalog-mix-75-25-vial',\n",
       "       'https://reviews.webmd.com/drugs/drugreview-20312-starlix',\n",
       "       'https://reviews.webmd.com/drugs/drugreview-20313-nateglinide',\n",
       "       'https://reviews.webmd.com/drugs/drugreview-20805-insulin-glargine-solostar-pen',\n",
       "       'https://reviews.webmd.com/drugs/drugreview-20815-lantus-vial',\n",
       "       'https://reviews.webmd.com/drugs/drugreview-21774-insulin-aspart-penfill-cartridge',\n",
       "       'https://reviews.webmd.com/drugs/drugreview-21781-novolog-vial',\n",
       "       'https://reviews.webmd.com/drugs/drugreview-3365-insulin-purified-regularpork-solution',\n",
       "       'https://reviews.webmd.com/drugs/drugreview-3448-humulin-70-30-vial',\n",
       "       'https://reviews.webmd.com/drugs/drugreview-3486-insulin-lispro-kwikpen-u-100-pen',\n",
       "       'https://reviews.webmd.com/drugs/drugreview-3773-diabeta-tablet',\n",
       "       'https://reviews.webmd.com/drugs/drugreview-3917-glyburide',\n",
       "       'https://reviews.webmd.com/drugs/drugreview-3948-tolbutamide-tablet',\n",
       "       'https://reviews.webmd.com/drugs/drugreview-5205-glyburide-micronized',\n",
       "       'https://reviews.webmd.com/drugs/drugreview-5207-acarbose',\n",
       "       'https://reviews.webmd.com/drugs/drugreview-5218-humulin-r-vial',\n",
       "       'https://reviews.webmd.com/drugs/drugreview-5233-insulin-regular-human-solution',\n",
       "       'https://reviews.webmd.com/drugs/drugreview-5235-glynase',\n",
       "       'https://reviews.webmd.com/drugs/drugreview-5250-precose',\n",
       "       'https://reviews.webmd.com/drugs/drugreview-53435-velosulin-r-solution',\n",
       "       'https://reviews.webmd.com/drugs/drugreview-53436-insulin-r-purified-pork-solution',\n",
       "       'https://reviews.webmd.com/drugs/drugreview-53437-purified-pork-insulin-solution',\n",
       "       'https://reviews.webmd.com/drugs/drugreview-53438-insulin-regular-purified-pork-solution',\n",
       "       'https://reviews.webmd.com/drugs/drugreview-53439-iletin-ii-regularpork-solution',\n",
       "       'https://reviews.webmd.com/drugs/drugreview-53440-insulatard-n-suspension',\n",
       "       'https://reviews.webmd.com/drugs/drugreview-53441-insulin-n-purified-pork-suspension',\n",
       "       'https://reviews.webmd.com/drugs/drugreview-53442-insulin-nph-purified-pork-suspension',\n",
       "       'https://reviews.webmd.com/drugs/drugreview-53443-iletin-ii-regularpork-suspension',\n",
       "       'https://reviews.webmd.com/drugs/drugreview-53444-insulin-l-pork-purified-suspension',\n",
       "       'https://reviews.webmd.com/drugs/drugreview-53445-insulin-r-pork-purified-suspension',\n",
       "       'https://reviews.webmd.com/drugs/drugreview-53446-iletin-ii-nphpork-suspension',\n",
       "       'https://reviews.webmd.com/drugs/drugreview-53447-insulin-l-purified-pork-suspension',\n",
       "       'https://reviews.webmd.com/drugs/drugreview-53448-insulin-lente-purified-pork-suspension',\n",
       "       'https://reviews.webmd.com/drugs/drugreview-53449-velosulin-human-r-solution',\n",
       "       'https://reviews.webmd.com/drugs/drugreview-53450-velosulin-human-br-solution',\n",
       "       'https://reviews.webmd.com/drugs/drugreview-53451-velosulin-human-solution',\n",
       "       'https://reviews.webmd.com/drugs/drugreview-53452-humulin-br-solution',\n",
       "       'https://reviews.webmd.com/drugs/drugreview-53453-glucamide-tablet',\n",
       "       'https://reviews.webmd.com/drugs/drugreview-53454-dibatrol-tablet',\n",
       "       'https://reviews.webmd.com/drugs/drugreview-53455-chlorabetic-tablet',\n",
       "       'https://reviews.webmd.com/drugs/drugreview-53456-ronase-tablet',\n",
       "       'https://reviews.webmd.com/drugs/drugreview-53457-tolamide-tablet',\n",
       "       'https://reviews.webmd.com/drugs/drugreview-53458-sk-tolbutamide-tablet',\n",
       "       'https://reviews.webmd.com/drugs/drugreview-53459-icn-tolam-tablet',\n",
       "       'https://reviews.webmd.com/drugs/drugreview-53460-oribetic-tablet',\n",
       "       'https://reviews.webmd.com/drugs/drugreview-5953-humulin-n-vial',\n",
       "       'https://reviews.webmd.com/drugs/drugreview-6021-insulin-zinc-human-recomb-suspension',\n",
       "       'https://reviews.webmd.com/drugs/drugreview-6154-tolinase-tablet',\n",
       "       'https://reviews.webmd.com/drugs/drugreview-6158-insulin-nph-isoph-u-human-suspension',\n",
       "       'https://reviews.webmd.com/drugs/drugreview-6159-insulin-nph-and-regular-human-suspension',\n",
       "       'https://reviews.webmd.com/drugs/drugreview-6237-orinase-tablet',\n",
       "       'https://reviews.webmd.com/drugs/drugreview-63178-humulin-suspension',\n",
       "       'https://reviews.webmd.com/drugs/drugreview-63549-insulin-beef-solution',\n",
       "       'https://reviews.webmd.com/drugs/drugreview-63550-insulin-regular-human-semi-syn-cartridge',\n",
       "       'https://reviews.webmd.com/drugs/drugreview-63552-insulin-pork-solution',\n",
       "       'https://reviews.webmd.com/drugs/drugreview-63742-insulin-70-30-innolet-suspension',\n",
       "       'https://reviews.webmd.com/drugs/drugreview-64070-insulin-aspart-prot-mix-70-30-pen',\n",
       "       'https://reviews.webmd.com/drugs/drugreview-64071-novolog-mix-70-30-vial',\n",
       "       'https://reviews.webmd.com/drugs/drugreview-64227-insulin-regular-pork-conc-solution',\n",
       "       'https://reviews.webmd.com/drugs/drugreview-64253-rosiglitazone-metformin-tablet',\n",
       "       'https://reviews.webmd.com/drugs/drugreview-64261-avandamet-tablet',\n",
       "       'https://reviews.webmd.com/drugs/drugreview-64318-glipizide-metformin',\n",
       "       'https://reviews.webmd.com/drugs/drugreview-64323-metaglip-tablet',\n",
       "       'https://reviews.webmd.com/drugs/drugreview-64670-insulin-nph-regular-hum-s-syn-cartridge',\n",
       "       'https://reviews.webmd.com/drugs/drugreview-64671-insulin-nph-regular-pork-pure-solution',\n",
       "       'https://reviews.webmd.com/drugs/drugreview-64672-insulin-protamine-zinc-beef-suspension',\n",
       "       'https://reviews.webmd.com/drugs/drugreview-64673-insulin-protamine-zn-beef-pure-suspension',\n",
       "       'https://reviews.webmd.com/drugs/drugreview-64674-insulin-protamine-zn-pork-pure-suspension',\n",
       "       'https://reviews.webmd.com/drugs/drugreview-64675-insulin-protamine-zn-beef-pork-suspension',\n",
       "       'https://reviews.webmd.com/drugs/drugreview-64676-insulin-isophane-beef-suspension',\n",
       "       'https://reviews.webmd.com/drugs/drugreview-64677-insulin-isophane-beef-pure-suspension',\n",
       "       'https://reviews.webmd.com/drugs/drugreview-64678-insulin-nph-human-semi-syn-suspension',\n",
       "       'https://reviews.webmd.com/drugs/drugreview-64679-ins-zn-bf-pure-ins-pk-pure-suspension',\n",
       "       'https://reviews.webmd.com/drugs/drugreview-64680-insulin-zinc-beef-suspension',\n",
       "       'https://reviews.webmd.com/drugs/drugreview-64681-insulin-zinc-beef-purified-suspension',\n",
       "       'https://reviews.webmd.com/drugs/drugreview-64682-insulin-zinc-human-semi-syn-suspension',\n",
       "       'https://reviews.webmd.com/drugs/drugreview-64683-insulin-zinc-extended-beef-suspension',\n",
       "       'https://reviews.webmd.com/drugs/drugreview-64684-insulin-zinc-ext-beef-pure-suspension',\n",
       "       'https://reviews.webmd.com/drugs/drugreview-64685-insulin-zinc-ext-beef-pork-suspension',\n",
       "       'https://reviews.webmd.com/drugs/drugreview-64686-insulin-zinc-prompt-beef-suspension',\n",
       "       'https://reviews.webmd.com/drugs/drugreview-64687-insulin-zinc-prompt-pork-pure-suspension',\n",
       "       'https://reviews.webmd.com/drugs/drugreview-64688-insulin-zinc-prompt-beef-pork-suspension',\n",
       "       'https://reviews.webmd.com/drugs/drugreview-64858-novolog-flexpen-insulin-pen',\n",
       "       'https://reviews.webmd.com/drugs/drugreview-6614-repaglinide',\n",
       "       'https://reviews.webmd.com/drugs/drugreview-6639-prandin-tablet',\n",
       "       'https://reviews.webmd.com/drugs/drugreview-6836-iletin-ii-nph-pork-suspension',\n",
       "       'https://reviews.webmd.com/drugs/drugreview-6837-insulin-isophane-pork-pure-suspension',\n",
       "       'https://reviews.webmd.com/drugs/drugreview-6842-insulin-purified-lente-pork-suspension',\n",
       "       'https://reviews.webmd.com/drugs/drugreview-6843-insulin-zinc-pork-purified-suspension',\n",
       "       'https://reviews.webmd.com/drugs/drugreview-7359-humulin-u-insulin-suspension',\n",
       "       'https://reviews.webmd.com/drugs/drugreview-7360-insulin-zinc-extended-human-suspension',\n",
       "       'https://reviews.webmd.com/drugs/drugreview-7599-iletin-i-nph-suspension',\n",
       "       'https://reviews.webmd.com/drugs/drugreview-7600-insulin-nph-beef-pork-suspension',\n",
       "       'https://reviews.webmd.com/drugs/drugreview-76307-novolin-l-suspension',\n",
       "       'https://reviews.webmd.com/drugs/drugreview-76308-novolin-n-vial',\n",
       "       'https://reviews.webmd.com/drugs/drugreview-77963-riomet',\n",
       "       'https://reviews.webmd.com/drugs/drugreview-78112-insulin-nph-innolet-pen',\n",
       "       'https://reviews.webmd.com/drugs/drugreview-78113-insulin-nph-reg-innolet-pen',\n",
       "       'https://reviews.webmd.com/drugs/drugreview-8068-micronase-tablet',\n",
       "       'https://reviews.webmd.com/drugs/drugreview-8635-chlorpropamide-tablet',\n",
       "       'https://reviews.webmd.com/drugs/drugreview-8719-tolazamide-tablet',\n",
       "       'https://reviews.webmd.com/drugs/drugreview-88973-novolin-70-30-innolet-insulin-pen',\n",
       "       'https://reviews.webmd.com/drugs/drugreview-89227-fortamet',\n",
       "       'https://reviews.webmd.com/drugs/drugreview-90540-glipizide-xl-tablet-osmotic-push-tablet-er-push',\n",
       "       'https://reviews.webmd.com/drugs/drugreview-90872-insulin-lente-beef-suspension',\n",
       "       'https://reviews.webmd.com/drugs/drugreview-90873-insulin-nph-beef-suspension',\n",
       "       'https://reviews.webmd.com/drugs/drugreview-91890-iletin-i-protamine-zinc-suspension',\n",
       "       'https://reviews.webmd.com/drugs/drugreview-91891-iletin-ii-protamine-zincpork-suspension',\n",
       "       'https://reviews.webmd.com/drugs/drugreview-91892-iletin-ii-protamine-zincbeef-suspension',\n",
       "       'https://reviews.webmd.com/drugs/drugreview-91893-iletin-ii-regularbeef-solution',\n",
       "       'https://reviews.webmd.com/drugs/drugreview-91895-iletin-ii-lentebeef-suspension',\n",
       "       'https://reviews.webmd.com/drugs/drugreview-91896-iletin-ii-regularporkconc-solution',\n",
       "       'https://reviews.webmd.com/drugs/drugreview-91897-iletin-i-semilente-suspension',\n",
       "       'https://reviews.webmd.com/drugs/drugreview-91898-iletin-i-ultralente-suspension',\n",
       "       'https://reviews.webmd.com/drugs/drugreview-91900-insulatard-human-n-suspension',\n",
       "       'https://reviews.webmd.com/drugs/drugreview-91915-mixtard-70-30-solution',\n",
       "       'https://reviews.webmd.com/drugs/drugreview-91917-mixtard-human-70-30-solution',\n",
       "       'https://reviews.webmd.com/drugs/drugreview-91932-monotard-human-lente-suspension',\n",
       "       'https://reviews.webmd.com/drugs/drugreview-91935-lentard-insulin-purified-suspension',\n",
       "       'https://reviews.webmd.com/drugs/drugreview-93223-exenatide-pen-injector',\n",
       "       'https://reviews.webmd.com/drugs/drugreview-93242-byetta-pen-injector',\n",
       "       'https://reviews.webmd.com/drugs/drugreview-93248-novolin-r-innolet-insulin-pen',\n",
       "       'https://reviews.webmd.com/drugs/drugreview-94011-insulin-detemir-u-solution',\n",
       "       'https://reviews.webmd.com/drugs/drugreview-94092-novolog-mix-70-30-flexpen-insulin-pen',\n",
       "       'https://reviews.webmd.com/drugs/drugreview-94097-pioglitazone-metformin',\n",
       "       'https://reviews.webmd.com/drugs/drugreview-94140-actoplus-met',\n",
       "       'https://reviews.webmd.com/drugs/drugreview-94376-novolin-n-innolet-insulin-pen',\n",
       "       'https://reviews.webmd.com/drugs/drugreview-94692-rosiglitazone-glimepiride-tablet',\n",
       "       'https://reviews.webmd.com/drugs/drugreview-94833-avandaryl-tablet',\n",
       "       'https://reviews.webmd.com/drugs/drugreview-94838-insulin-glulisine-u-solution',\n",
       "       'https://reviews.webmd.com/drugs/drugreview-94890-apidra-vial',\n",
       "       'https://reviews.webmd.com/drugs/drugreview-94930-humalog-mix-50-50-vial',\n",
       "       'https://reviews.webmd.com/drugs/drugreview-94948-novolin-70-30-semi-synthetic-cartridge',\n",
       "       'https://reviews.webmd.com/drugs/drugreview-95012-insulin-regular-human-cartridge-with-inhaler',\n",
       "       'https://reviews.webmd.com/drugs/drugreview-95095-levemir-vial',\n",
       "       'https://reviews.webmd.com/drugs/drugreview-95096-levemir-flexpen-insulin-pen',\n",
       "       'https://reviews.webmd.com/drugs/drugreview-9724-insulase-tablet'],\n",
       "      dtype='<U165')"
      ]
     },
     "execution_count": 1,
     "metadata": {},
     "output_type": "execute_result"
    }
   ],
   "source": [
    "# imports\n",
    "import requests\n",
    "import numpy as np\n",
    "import pandas as pd\n",
    "import regex as re\n",
    "import tqdm\n",
    "\n",
    "#Functions\n",
    "# regular expressions for parsing data from a single review\n",
    "# elements found in review-details div\n",
    "def regex_date(review):\n",
    "    '''Parses the date of the review in format dd/mm/yyyy'''\n",
    "    return re.findall(r'\\d+/\\d+/\\d+', review.find('div', class_='date').text)[0]\n",
    "\n",
    "def regex_condition(review):\n",
    "    '''Parses the condition for which the medication is used'''\n",
    "    condition_element = review.find('strong', class_='condition')\n",
    "    condition_listed = condition_element is not None\n",
    "    if condition_listed:\n",
    "        # TODO: be able to match ''\"Change of Life\" Signs' condition\n",
    "        condition_match = re.findall(r'(?<=Condition:\\s)\\w+(?:\\s\\w+)*', condition_element.text)\n",
    "    return condition_match[0] if (condition_listed and len(condition_match) > 0) else np.nan\n",
    "\n",
    "def regex_rating_overall(review):\n",
    "    '''Parses the overall rating, the average of 3 categories'''\n",
    "    rating_overall_line = review.find('div', class_='overall-rating').strong.text\n",
    "    return re.findall(r'\\d+.\\d+', rating_overall_line)\n",
    "\n",
    "def regex_rating_category(review, ind_cat):\n",
    "    '''Parses the rating for the category at index ind_cat in ['effectiveness', 'ease_of_use', 'satisfaction']'''\n",
    "    rating_categories = review.find('div', class_='categories').find_all('section')\n",
    "    div = rating_categories[ind_cat].find('div', class_='webmd-rate on-mobile')\n",
    "    return int(div.get('aria-valuenow'))\n",
    "\n",
    "def regex_text(review):\n",
    "    '''Parses the free response text review for the drug'''\n",
    "    text_line = review.find('p', class_='description-text')\n",
    "    return text_line.text if text_line is not None else np.nan\n",
    "# regular expressions for parsing data from a single review\n",
    "# elements found in details div\n",
    "def regex_age(details):\n",
    "    '''Parses the age of the medication user'''\n",
    "    age_match = re.findall(r'(?<=\\|\\s+)\\d+-\\d+', details)\n",
    "    return age_match[0] if len(age_match) > 0 else np.nan\n",
    "\n",
    "def regex_gender(details):\n",
    "    '''Parses the gender of the medication user'''\n",
    "    gender_match = re.findall(r'(?<=\\|\\s+)Male|Female', details)\n",
    "    return gender_match[0] if len(gender_match) > 0 else np.nan\n",
    "\n",
    "def regex_time(details):\n",
    "    '''Parses the duration of time on drug'''\n",
    "    time_match = re.findall(r'(?<=On\\smedication\\sfor\\s)\\w+(?:\\s\\w+)*', details)\n",
    "    return time_match[0] if len(time_match) > 0 else np.nan\n",
    "\n",
    "def regex_reviewer(details):\n",
    "    '''Parses the type of reviewer'''\n",
    "    reviewer_match = re.findall(r'(?<=\\|\\s+)\\w+(?:\\s\\w+)*(?=\\s*$)', details)\n",
    "    return reviewer_match[0] if len(reviewer_match) > 0 else np.nan\n",
    "# parse the reviews on a single webpage\n",
    "def parse_reviews_page(soup, reviews_df):\n",
    "    '''Populates reviews_df data frame with records from 1 page's reviews\n",
    "    \n",
    "    Parameters:\n",
    "    reviews_html (str): HTML for the webpage extracted using BeautifulSoup\n",
    "    drug_name (str): the name of the drug being reviewed\n",
    "    reviews_df (pd.DataFrame): dataframe with one row per review\n",
    "    \n",
    "    Returns:\n",
    "    pd.DataFrame: reviews_df dataframe with new records appended\n",
    "    \n",
    "    '''\n",
    "    reviews_html = soup.find_all('div', class_='review-details') # get elements that hold each review\n",
    "    drug_name = re.findall(r'(.*)(?=\\sReviews)', soup.title.text)[0] # page title is drug name\n",
    "    \n",
    "    # loop over reviews from a single page\n",
    "    for i, review in enumerate(reviews_html):\n",
    "        to_append = pd.DataFrame([pd.Series([None]*len(cols), index=cols)])\n",
    "        \n",
    "        details = review.find('div', class_='details').text\n",
    "\n",
    "        to_append['drug_name'] = drug_name\n",
    "        to_append['date'] = regex_date(review)\n",
    "        to_append['age'] = regex_age(details)\n",
    "        to_append['gender'] = regex_gender(details)\n",
    "        to_append['time_on_drug'] = regex_time(details)\n",
    "        to_append['reviewer_type'] = regex_reviewer(details)\n",
    "        to_append['condition'] = regex_condition(review)\n",
    "        to_append['rating_overall'] = regex_rating_overall(review)\n",
    "        \n",
    "        for ind_cat, cat in enumerate(['effectiveness', 'ease_of_use', 'satisfaction']):\n",
    "            to_append[f'rating_{cat}'] = regex_rating_category(review, ind_cat)\n",
    "    \n",
    "        to_append['text'] = regex_text(review)\n",
    "        reviews_df = pd.concat([reviews_df, to_append], ignore_index=True)\n",
    "        \n",
    "    return reviews_df\n",
    "def get_soup(review_url, page):\n",
    "    curr_url = review_url + f'&page={page}'\n",
    "    response = requests.get(curr_url, headers=headers).content\n",
    "    return BeautifulSoup(response, 'lxml')\n",
    "# crawl over the review pages for one drug\n",
    "from tqdm import tqdm # progress bar\n",
    "\n",
    "def crawl_reviews_pages(review_url, reviews_df):\n",
    "    '''Crawls a drug's reviews page-by-page, saving each page's reviews into reviews_df\n",
    "    \n",
    "    Parameters:\n",
    "    reviews_df (pd.DataFrame): dataframe with one row per review\n",
    "    \n",
    "    Returns:\n",
    "    pd.DataFrame: reviews_df dataframe with new records appended\n",
    "    \n",
    "    '''\n",
    "    # find how many review pages there are total for the drug by parsing it from the first page\n",
    "    soup = get_soup(review_url, 1)\n",
    "    pages = soup.find('ul', class_='pagination')\n",
    "    \n",
    "    # proceed only if there is at least 1 review\n",
    "    if pages is not None:\n",
    "        last_page = int(pages.find_all('li', class_='page-item')[-1].text.strip())\n",
    "\n",
    "        for i in tqdm(range(1, last_page+1)):\n",
    "            soup = get_soup(review_url, 1)\n",
    "            reviews_df = parse_reviews_page(soup, reviews_df)\n",
    "\n",
    "    return reviews_df\n",
    "#Scrape Drugs by Condition from WebMD Search\n",
    "# need to spoof a browser in order to not get blocked when making request\n",
    "# https://bar.rady.ucsd.edu/Web_Scraping.html\n",
    "from bs4 import BeautifulSoup\n",
    "\n",
    "headers = requests.utils.default_headers()\n",
    "agent = 'Mozilla/5.0 (X11; Ubuntu; Linux x86_64; rv:52.0) Gecko/20100101 Firefox/52.0'\n",
    "headers.update({\n",
    "    'User-Agent': agent,\n",
    "})\n",
    "# make empty data frame to contain values and full text from each review\n",
    "cols = ['drug_name',\n",
    "       'date',\n",
    "       'age',\n",
    "       'gender',\n",
    "       'time_on_drug',\n",
    "       'reviewer_type',\n",
    "       'condition',\n",
    "       'rating_overall',\n",
    "       'rating_effectiveness',\n",
    "       'rating_ease_of_use',\n",
    "       'rating_satisfaction',\n",
    "       'text']\n",
    "\n",
    "reviews_df = pd.DataFrame(columns=cols, index=[])\n",
    "# # list of depression drugs from WebMD\n",
    "# url = 'https://www.webmd.com/depression/depression-medications-antidepressants'\n",
    "# response = requests.get(url, headers=headers).content\n",
    "# soup = BeautifulSoup(response, 'lxml')\n",
    "# drugs_section = soup.find('div', class_='article-page active-page')\n",
    "# use WebMD's search to find drugs by illness\n",
    "review_urls = []\n",
    "\n",
    "conditions = {'type2diabetesmellitus': 'https://www.webmd.com/drugs/2/condition-594/type-2-diabetes-mellitus'\n",
    "              }\n",
    "\n",
    "for url in conditions.values():\n",
    "    response = requests.get(url, headers=headers).content\n",
    "    soup = BeautifulSoup(response, 'lxml')\n",
    "    drugs_section = soup.find('div', class_='medication-results-list')\n",
    "\n",
    "    for drug_review_element in drugs_section.find_all('span', class_='reviews-url'):\n",
    "        review_urls.append(drug_review_element.a.get('href'))\n",
    "\n",
    "# because there is a lot of overlap in medications between conditions, get unique values\n",
    "review_urls = np.unique(review_urls)\n",
    "review_urls"
   ]
  },
  {
   "cell_type": "code",
   "execution_count": 2,
   "metadata": {},
   "outputs": [
    {
     "name": "stderr",
     "output_type": "stream",
     "text": [
      "  0%|          | 0/333 [00:00<?, ?it/s]"
     ]
    },
    {
     "name": "stdout",
     "output_type": "stream",
     "text": [
      "https://reviews.webmd.com/drugs/drugreview-10094-glipizide\n"
     ]
    },
    {
     "name": "stderr",
     "output_type": "stream",
     "text": [
      "100%|██████████| 11/11 [00:26<00:00,  2.39s/it]\n",
      "  0%|          | 1/333 [00:34<3:08:23, 34.05s/it]"
     ]
    },
    {
     "name": "stdout",
     "output_type": "stream",
     "text": [
      "https://reviews.webmd.com/drugs/drugreview-10094-glipizide-er\n"
     ]
    },
    {
     "name": "stderr",
     "output_type": "stream",
     "text": [
      "100%|██████████| 11/11 [00:22<00:00,  2.06s/it]\n",
      "  1%|          | 2/333 [01:00<2:42:23, 29.44s/it]"
     ]
    },
    {
     "name": "stdout",
     "output_type": "stream",
     "text": [
      "https://reviews.webmd.com/drugs/drugreview-10095-glucotrol-xl\n"
     ]
    },
    {
     "name": "stderr",
     "output_type": "stream",
     "text": [
      "100%|██████████| 1/1 [00:01<00:00,  1.96s/it]\n",
      "  1%|          | 3/333 [01:06<1:43:22, 18.79s/it]"
     ]
    },
    {
     "name": "stdout",
     "output_type": "stream",
     "text": [
      "https://reviews.webmd.com/drugs/drugreview-11285-metformin-hcl\n"
     ]
    },
    {
     "name": "stderr",
     "output_type": "stream",
     "text": [
      "100%|██████████| 87/87 [03:17<00:00,  2.27s/it]\n",
      "  1%|          | 4/333 [04:29<8:22:41, 91.68s/it]"
     ]
    },
    {
     "name": "stdout",
     "output_type": "stream",
     "text": [
      "https://reviews.webmd.com/drugs/drugreview-11285-metformin-hcl-er\n"
     ]
    },
    {
     "name": "stderr",
     "output_type": "stream",
     "text": [
      "100%|██████████| 87/87 [03:17<00:00,  2.27s/it]\n",
      "  2%|▏         | 5/333 [07:51<11:58:25, 131.42s/it]"
     ]
    },
    {
     "name": "stdout",
     "output_type": "stream",
     "text": [
      "https://reviews.webmd.com/drugs/drugreview-11285-metformin-hcl-solution\n"
     ]
    },
    {
     "name": "stderr",
     "output_type": "stream",
     "text": [
      "100%|██████████| 87/87 [03:17<00:00,  2.27s/it]\n",
      "  2%|▏         | 6/333 [11:12<14:05:43, 155.18s/it]"
     ]
    },
    {
     "name": "stdout",
     "output_type": "stream",
     "text": [
      "https://reviews.webmd.com/drugs/drugreview-11285-metformin-suspension-er-reconstituted-suspension-reconstituted\n"
     ]
    },
    {
     "name": "stderr",
     "output_type": "stream",
     "text": [
      "100%|██████████| 87/87 [03:17<00:00,  2.27s/it]\n",
      "  2%|▏         | 7/333 [14:34<15:24:40, 170.19s/it]"
     ]
    },
    {
     "name": "stdout",
     "output_type": "stream",
     "text": [
      "https://reviews.webmd.com/drugs/drugreview-11294-glucophage-tablet\n"
     ]
    },
    {
     "name": "stderr",
     "output_type": "stream",
     "text": [
      "100%|██████████| 8/8 [00:16<00:00,  2.11s/it]\n",
      "  3%|▎         | 9/333 [14:56<7:38:24, 84.89s/it]  "
     ]
    },
    {
     "name": "stdout",
     "output_type": "stream",
     "text": [
      "skipping https://reviews.webmd.com/drugs/drugreview-11668-dymelor-tablet: page not found\n",
      "https://reviews.webmd.com/drugs/drugreview-11773-glucotrol\n"
     ]
    },
    {
     "name": "stderr",
     "output_type": "stream",
     "text": [
      "100%|██████████| 1/1 [00:01<00:00,  1.94s/it]\n",
      "  3%|▎         | 11/333 [15:04<3:48:45, 42.62s/it]"
     ]
    },
    {
     "name": "stdout",
     "output_type": "stream",
     "text": [
      "skipping https://reviews.webmd.com/drugs/drugreview-11926-insulin-reg-human-buffered-solution: page not found\n"
     ]
    },
    {
     "name": "stderr",
     "output_type": "stream",
     "text": [
      "  4%|▎         | 12/333 [15:06<2:41:26, 30.18s/it]"
     ]
    },
    {
     "name": "stdout",
     "output_type": "stream",
     "text": [
      "skipping https://reviews.webmd.com/drugs/drugreview-11965-insulin-regular-beef-pork-solution: page not found\n"
     ]
    },
    {
     "name": "stderr",
     "output_type": "stream",
     "text": [
      "  4%|▍         | 13/333 [15:08<1:55:13, 21.60s/it]"
     ]
    },
    {
     "name": "stdout",
     "output_type": "stream",
     "text": [
      "skipping https://reviews.webmd.com/drugs/drugreview-11967-insulin-zinc-beef-pork-suspension: page not found\n"
     ]
    },
    {
     "name": "stderr",
     "output_type": "stream",
     "text": [
      "  4%|▍         | 14/333 [15:10<1:23:45, 15.75s/it]"
     ]
    },
    {
     "name": "stdout",
     "output_type": "stream",
     "text": [
      "skipping https://reviews.webmd.com/drugs/drugreview-11968-iletin-i-lente-suspension: page not found\n"
     ]
    },
    {
     "name": "stderr",
     "output_type": "stream",
     "text": [
      "  5%|▍         | 15/333 [15:12<1:01:07, 11.53s/it]"
     ]
    },
    {
     "name": "stdout",
     "output_type": "stream",
     "text": [
      "skipping https://reviews.webmd.com/drugs/drugreview-11969-iletin-i-regular-solution: page not found\n"
     ]
    },
    {
     "name": "stderr",
     "output_type": "stream",
     "text": [
      "  5%|▍         | 16/333 [15:13<45:18,  8.58s/it]  "
     ]
    },
    {
     "name": "stdout",
     "output_type": "stream",
     "text": [
      "skipping https://reviews.webmd.com/drugs/drugreview-11970-iletin-ii-lente-pork-suspension: page not found\n",
      "https://reviews.webmd.com/drugs/drugreview-11971-insulin-purified-nph-pork-suspension\n"
     ]
    },
    {
     "name": "stderr",
     "output_type": "stream",
     "text": [
      "  5%|▌         | 17/333 [15:17<36:25,  6.92s/it]"
     ]
    },
    {
     "name": "stdout",
     "output_type": "stream",
     "text": [
      "https://reviews.webmd.com/drugs/drugreview-11981-insulin-regular-pork-solution\n"
     ]
    },
    {
     "name": "stderr",
     "output_type": "stream",
     "text": [
      "  5%|▌         | 18/333 [15:19<29:46,  5.67s/it]"
     ]
    },
    {
     "name": "stdout",
     "output_type": "stream",
     "text": [
      "https://reviews.webmd.com/drugs/drugreview-11982-iletin-ii-regular-pork-solution\n"
     ]
    },
    {
     "name": "stderr",
     "output_type": "stream",
     "text": [
      "  6%|▌         | 19/333 [15:22<25:40,  4.91s/it]"
     ]
    },
    {
     "name": "stdout",
     "output_type": "stream",
     "text": [
      "https://reviews.webmd.com/drugs/drugreview-12271-glimepiride\n"
     ]
    },
    {
     "name": "stderr",
     "output_type": "stream",
     "text": [
      "100%|██████████| 9/9 [00:18<00:00,  2.06s/it]\n",
      "  6%|▌         | 20/333 [15:45<53:25, 10.24s/it]"
     ]
    },
    {
     "name": "stdout",
     "output_type": "stream",
     "text": [
      "https://reviews.webmd.com/drugs/drugreview-12297-amaryl\n"
     ]
    },
    {
     "name": "stderr",
     "output_type": "stream",
     "text": [
      "100%|██████████| 5/5 [00:10<00:00,  2.14s/it]\n",
      "  6%|▋         | 21/333 [15:59<59:25, 11.43s/it]"
     ]
    },
    {
     "name": "stdout",
     "output_type": "stream",
     "text": [
      "https://reviews.webmd.com/drugs/drugreview-1284-miglitol\n"
     ]
    },
    {
     "name": "stderr",
     "output_type": "stream",
     "text": [
      "100%|██████████| 1/1 [00:01<00:00,  1.57s/it]\n",
      "  7%|▋         | 22/333 [16:04<48:56,  9.44s/it]"
     ]
    },
    {
     "name": "stdout",
     "output_type": "stream",
     "text": [
      "https://reviews.webmd.com/drugs/drugreview-13818-humalog-cartridge\n"
     ]
    },
    {
     "name": "stderr",
     "output_type": "stream",
     "text": [
      "100%|██████████| 2/2 [00:04<00:00,  2.12s/it]\n",
      "  7%|▋         | 23/333 [16:12<46:07,  8.93s/it]"
     ]
    },
    {
     "name": "stdout",
     "output_type": "stream",
     "text": [
      "https://reviews.webmd.com/drugs/drugreview-14228-thsc-glyburide-tablet\n"
     ]
    },
    {
     "name": "stderr",
     "output_type": "stream",
     "text": [
      "  8%|▊         | 25/333 [16:18<29:40,  5.78s/it]"
     ]
    },
    {
     "name": "stdout",
     "output_type": "stream",
     "text": [
      "skipping https://reviews.webmd.com/drugs/drugreview-14352-acetohexamide-tablet: page not found\n"
     ]
    },
    {
     "name": "stderr",
     "output_type": "stream",
     "text": [
      "  8%|▊         | 26/333 [16:20<24:01,  4.69s/it]"
     ]
    },
    {
     "name": "stdout",
     "output_type": "stream",
     "text": [
      "skipping https://reviews.webmd.com/drugs/drugreview-144565-insulin-combo-pack-combination-package: page not found\n"
     ]
    },
    {
     "name": "stderr",
     "output_type": "stream",
     "text": [
      "  8%|▊         | 27/333 [16:22<19:28,  3.82s/it]"
     ]
    },
    {
     "name": "stdout",
     "output_type": "stream",
     "text": [
      "skipping https://reviews.webmd.com/drugs/drugreview-144567-insulin-kit-inhaler: page not found\n"
     ]
    },
    {
     "name": "stderr",
     "output_type": "stream",
     "text": [
      "  8%|▊         | 28/333 [16:24<16:51,  3.32s/it]"
     ]
    },
    {
     "name": "stdout",
     "output_type": "stream",
     "text": [
      "skipping https://reviews.webmd.com/drugs/drugreview-144581-exubera-kit-inhaler: page not found\n"
     ]
    },
    {
     "name": "stderr",
     "output_type": "stream",
     "text": [
      "  9%|▊         | 29/333 [16:25<14:28,  2.86s/it]"
     ]
    },
    {
     "name": "stdout",
     "output_type": "stream",
     "text": [
      "skipping https://reviews.webmd.com/drugs/drugreview-144582-exubera-combination-pack-15-package: page not found\n"
     ]
    },
    {
     "name": "stderr",
     "output_type": "stream",
     "text": [
      "  9%|▉         | 30/333 [16:27<12:54,  2.55s/it]"
     ]
    },
    {
     "name": "stdout",
     "output_type": "stream",
     "text": [
      "skipping https://reviews.webmd.com/drugs/drugreview-144583-exubera-combination-pack-12-package: page not found\n"
     ]
    },
    {
     "name": "stderr",
     "output_type": "stream",
     "text": [
      "  9%|▉         | 31/333 [16:29<11:56,  2.37s/it]"
     ]
    },
    {
     "name": "stdout",
     "output_type": "stream",
     "text": [
      "skipping https://reviews.webmd.com/drugs/drugreview-14461-humulin-l-suspension: page not found\n",
      "https://reviews.webmd.com/drugs/drugreview-144868-glumetza\n"
     ]
    },
    {
     "name": "stderr",
     "output_type": "stream",
     "text": [
      "100%|██████████| 4/4 [00:09<00:00,  2.25s/it]\n",
      " 10%|▉         | 32/333 [16:42<27:13,  5.43s/it]"
     ]
    },
    {
     "name": "stdout",
     "output_type": "stream",
     "text": [
      "https://reviews.webmd.com/drugs/drugreview-144978-pioglitazone-glimepiride\n"
     ]
    },
    {
     "name": "stderr",
     "output_type": "stream",
     "text": [
      " 10%|▉         | 33/333 [16:45<23:34,  4.72s/it]"
     ]
    },
    {
     "name": "stdout",
     "output_type": "stream",
     "text": [
      "https://reviews.webmd.com/drugs/drugreview-144983-duetact\n"
     ]
    },
    {
     "name": "stderr",
     "output_type": "stream",
     "text": [
      "100%|██████████| 1/1 [00:02<00:00,  2.27s/it]\n",
      " 10%|█         | 34/333 [16:50<24:44,  4.96s/it]"
     ]
    },
    {
     "name": "stdout",
     "output_type": "stream",
     "text": [
      "https://reviews.webmd.com/drugs/drugreview-14536-insulin-regular-human-pen\n"
     ]
    },
    {
     "name": "stderr",
     "output_type": "stream",
     "text": [
      " 11%|█         | 35/333 [16:53<21:49,  4.40s/it]"
     ]
    },
    {
     "name": "stdout",
     "output_type": "stream",
     "text": [
      "https://reviews.webmd.com/drugs/drugreview-145697-sitagliptin-phosphate-tablet\n"
     ]
    },
    {
     "name": "stderr",
     "output_type": "stream",
     "text": [
      "100%|██████████| 1/1 [00:01<00:00,  1.83s/it]\n",
      " 11%|█         | 36/333 [16:59<23:44,  4.80s/it]"
     ]
    },
    {
     "name": "stdout",
     "output_type": "stream",
     "text": [
      "https://reviews.webmd.com/drugs/drugreview-145704-januvia\n"
     ]
    },
    {
     "name": "stderr",
     "output_type": "stream",
     "text": [
      "100%|██████████| 24/24 [00:52<00:00,  2.18s/it]\n",
      " 11%|█         | 37/333 [17:55<1:38:57, 20.06s/it]"
     ]
    },
    {
     "name": "stdout",
     "output_type": "stream",
     "text": [
      "https://reviews.webmd.com/drugs/drugreview-1468-novolin-70-30-vial\n"
     ]
    },
    {
     "name": "stderr",
     "output_type": "stream",
     "text": [
      "100%|██████████| 1/1 [00:01<00:00,  1.74s/it]\n",
      " 12%|█▏        | 39/333 [18:02<56:44, 11.58s/it]  "
     ]
    },
    {
     "name": "stdout",
     "output_type": "stream",
     "text": [
      "skipping https://reviews.webmd.com/drugs/drugreview-1469-novolin-l-semi-synthetic-suspension: page not found\n",
      "https://reviews.webmd.com/drugs/drugreview-1470-novolin-n-semi-synthetic-suspension\n"
     ]
    },
    {
     "name": "stderr",
     "output_type": "stream",
     "text": [
      "100%|██████████| 1/1 [00:01<00:00,  1.63s/it]\n",
      " 12%|█▏        | 40/333 [18:07<46:19,  9.49s/it]"
     ]
    },
    {
     "name": "stdout",
     "output_type": "stream",
     "text": [
      "https://reviews.webmd.com/drugs/drugreview-1471-novolin-r-vial\n"
     ]
    },
    {
     "name": "stderr",
     "output_type": "stream",
     "text": [
      "100%|██████████| 1/1 [00:01<00:00,  1.96s/it]\n",
      " 13%|█▎        | 42/333 [18:15<31:16,  6.45s/it]"
     ]
    },
    {
     "name": "stdout",
     "output_type": "stream",
     "text": [
      "skipping https://reviews.webmd.com/drugs/drugreview-147838-exubera-patient-pack-combination-package: page not found\n",
      "https://reviews.webmd.com/drugs/drugreview-148063-sitagliptin-phos-metformin-tablet\n"
     ]
    },
    {
     "name": "stderr",
     "output_type": "stream",
     "text": [
      "100%|██████████| 1/1 [00:01<00:00,  1.71s/it]\n",
      " 13%|█▎        | 43/333 [18:21<30:42,  6.35s/it]"
     ]
    },
    {
     "name": "stdout",
     "output_type": "stream",
     "text": [
      "https://reviews.webmd.com/drugs/drugreview-148063-sitagliptin-phos-metformin-tablet-multiphase-24-hr-tablet-er-hr\n"
     ]
    },
    {
     "name": "stderr",
     "output_type": "stream",
     "text": [
      "100%|██████████| 1/1 [00:01<00:00,  1.82s/it]\n",
      " 13%|█▎        | 44/333 [18:26<29:07,  6.05s/it]"
     ]
    },
    {
     "name": "stdout",
     "output_type": "stream",
     "text": [
      "https://reviews.webmd.com/drugs/drugreview-148074-janumet\n"
     ]
    },
    {
     "name": "stderr",
     "output_type": "stream",
     "text": [
      "100%|██████████| 11/11 [00:25<00:00,  2.32s/it]\n",
      " 14%|█▎        | 45/333 [18:55<1:01:45, 12.87s/it]"
     ]
    },
    {
     "name": "stdout",
     "output_type": "stream",
     "text": [
      "https://reviews.webmd.com/drugs/drugreview-14850-humulin-50-50-suspension\n"
     ]
    },
    {
     "name": "stderr",
     "output_type": "stream",
     "text": [
      "100%|██████████| 1/1 [00:01<00:00,  1.67s/it]\n",
      " 14%|█▍        | 46/333 [19:00<49:45, 10.40s/it]  "
     ]
    },
    {
     "name": "stdout",
     "output_type": "stream",
     "text": [
      "https://reviews.webmd.com/drugs/drugreview-148652-lantus-solostar-insulin-pen\n"
     ]
    },
    {
     "name": "stderr",
     "output_type": "stream",
     "text": [
      "100%|██████████| 6/6 [00:13<00:00,  2.28s/it]\n",
      " 14%|█▍        | 47/333 [19:17<59:34, 12.50s/it]"
     ]
    },
    {
     "name": "stdout",
     "output_type": "stream",
     "text": [
      "https://reviews.webmd.com/drugs/drugreview-149828-humalog-kwikpen-u-100-insulin-pen\n"
     ]
    },
    {
     "name": "stderr",
     "output_type": "stream",
     "text": [
      "100%|██████████| 2/2 [00:05<00:00,  2.59s/it]\n",
      " 14%|█▍        | 48/333 [19:25<53:41, 11.30s/it]"
     ]
    },
    {
     "name": "stdout",
     "output_type": "stream",
     "text": [
      "https://reviews.webmd.com/drugs/drugreview-149829-humalog-mix-75-25-kwikpen-insulin-pen\n"
     ]
    },
    {
     "name": "stderr",
     "output_type": "stream",
     "text": [
      "100%|██████████| 1/1 [00:01<00:00,  1.91s/it]\n",
      " 15%|█▍        | 49/333 [19:32<46:15,  9.77s/it]"
     ]
    },
    {
     "name": "stdout",
     "output_type": "stream",
     "text": [
      "https://reviews.webmd.com/drugs/drugreview-149830-humalog-mix-50-50-kwikpen-insulin-pen\n"
     ]
    },
    {
     "name": "stderr",
     "output_type": "stream",
     "text": [
      "100%|██████████| 1/1 [00:01<00:00,  1.75s/it]\n",
      " 15%|█▌        | 51/333 [19:39<30:39,  6.52s/it]"
     ]
    },
    {
     "name": "stdout",
     "output_type": "stream",
     "text": [
      "skipping https://reviews.webmd.com/drugs/drugreview-151643-repaglinide-metformin-tablet: page not found\n"
     ]
    },
    {
     "name": "stderr",
     "output_type": "stream",
     "text": [
      " 16%|█▌        | 52/333 [19:41<24:01,  5.13s/it]"
     ]
    },
    {
     "name": "stdout",
     "output_type": "stream",
     "text": [
      "skipping https://reviews.webmd.com/drugs/drugreview-151644-prandimet-tablet: page not found\n",
      "https://reviews.webmd.com/drugs/drugreview-152040-apidra-solostar-insulin-pen\n"
     ]
    },
    {
     "name": "stderr",
     "output_type": "stream",
     "text": [
      "100%|██████████| 1/1 [00:01<00:00,  1.72s/it]\n",
      " 16%|█▌        | 53/333 [19:46<23:22,  5.01s/it]"
     ]
    },
    {
     "name": "stdout",
     "output_type": "stream",
     "text": [
      "https://reviews.webmd.com/drugs/drugreview-152751-saxagliptin-hcl\n"
     ]
    },
    {
     "name": "stderr",
     "output_type": "stream",
     "text": [
      "100%|██████████| 1/1 [00:01<00:00,  1.80s/it]\n",
      " 16%|█▌        | 54/333 [19:51<23:26,  5.04s/it]"
     ]
    },
    {
     "name": "stdout",
     "output_type": "stream",
     "text": [
      "https://reviews.webmd.com/drugs/drugreview-152753-onglyza\n"
     ]
    },
    {
     "name": "stderr",
     "output_type": "stream",
     "text": [
      "100%|██████████| 6/6 [00:14<00:00,  2.38s/it]\n",
      " 17%|█▋        | 55/333 [20:09<41:33,  8.97s/it]"
     ]
    },
    {
     "name": "stdout",
     "output_type": "stream",
     "text": [
      "https://reviews.webmd.com/drugs/drugreview-153566-liraglutide-pen-injector\n"
     ]
    },
    {
     "name": "stderr",
     "output_type": "stream",
     "text": [
      "100%|██████████| 1/1 [00:02<00:00,  2.04s/it]\n",
      " 17%|█▋        | 56/333 [20:15<37:33,  8.13s/it]"
     ]
    },
    {
     "name": "stdout",
     "output_type": "stream",
     "text": [
      "https://reviews.webmd.com/drugs/drugreview-153568-victoza-pen-injector\n"
     ]
    },
    {
     "name": "stderr",
     "output_type": "stream",
     "text": [
      "100%|██████████| 18/18 [00:40<00:00,  2.27s/it]\n",
      " 17%|█▋        | 58/333 [21:03<1:04:58, 14.18s/it]"
     ]
    },
    {
     "name": "stdout",
     "output_type": "stream",
     "text": [
      "skipping https://reviews.webmd.com/drugs/drugreview-154175-actoplus-met-xr-tablet-multiphase-24-hr-tablet-er-hr: page not found\n",
      "https://reviews.webmd.com/drugs/drugreview-154914-saxagliptin-metformin-er\n"
     ]
    },
    {
     "name": "stderr",
     "output_type": "stream",
     "text": [
      "100%|██████████| 1/1 [00:01<00:00,  1.52s/it]\n",
      " 18%|█▊        | 59/333 [21:07<51:42, 11.32s/it]  "
     ]
    },
    {
     "name": "stdout",
     "output_type": "stream",
     "text": [
      "https://reviews.webmd.com/drugs/drugreview-154922-kombiglyze-xr\n"
     ]
    },
    {
     "name": "stderr",
     "output_type": "stream",
     "text": [
      "100%|██████████| 3/3 [00:05<00:00,  1.82s/it]\n",
      " 18%|█▊        | 60/333 [21:18<50:06, 11.01s/it]"
     ]
    },
    {
     "name": "stdout",
     "output_type": "stream",
     "text": [
      "https://reviews.webmd.com/drugs/drugreview-155005-novolog-penfill-cartridge\n"
     ]
    },
    {
     "name": "stderr",
     "output_type": "stream",
     "text": [
      "100%|██████████| 1/1 [00:01<00:00,  1.94s/it]\n",
      " 18%|█▊        | 61/333 [21:23<42:34,  9.39s/it]"
     ]
    },
    {
     "name": "stdout",
     "output_type": "stream",
     "text": [
      "https://reviews.webmd.com/drugs/drugreview-155816-linagliptin-tablet\n"
     ]
    },
    {
     "name": "stderr",
     "output_type": "stream",
     "text": [
      "100%|██████████| 1/1 [00:01<00:00,  1.78s/it]\n",
      " 19%|█▊        | 62/333 [21:29<37:29,  8.30s/it]"
     ]
    },
    {
     "name": "stdout",
     "output_type": "stream",
     "text": [
      "https://reviews.webmd.com/drugs/drugreview-155820-tradjenta\n"
     ]
    },
    {
     "name": "stderr",
     "output_type": "stream",
     "text": [
      "100%|██████████| 5/5 [00:10<00:00,  2.04s/it]\n",
      " 19%|█▉        | 64/333 [21:45<34:54,  7.79s/it]"
     ]
    },
    {
     "name": "stdout",
     "output_type": "stream",
     "text": [
      "skipping https://reviews.webmd.com/drugs/drugreview-157670-sitagliptin-phos-simvastatin-tablet: page not found\n"
     ]
    },
    {
     "name": "stderr",
     "output_type": "stream",
     "text": [
      " 20%|█▉        | 65/333 [21:47<27:00,  6.05s/it]"
     ]
    },
    {
     "name": "stdout",
     "output_type": "stream",
     "text": [
      "skipping https://reviews.webmd.com/drugs/drugreview-157671-juvisync-tablet: page not found\n",
      "https://reviews.webmd.com/drugs/drugreview-159402-exenatide-microspheres-suspension-er-reconstituted-suspension-reconstituted\n"
     ]
    },
    {
     "name": "stderr",
     "output_type": "stream",
     "text": [
      "100%|██████████| 1/1 [00:01<00:00,  1.68s/it]\n",
      " 20%|█▉        | 66/333 [21:53<25:54,  5.82s/it]"
     ]
    },
    {
     "name": "stdout",
     "output_type": "stream",
     "text": [
      "https://reviews.webmd.com/drugs/drugreview-159405-bydureon-suspension-er-reconstituted-suspension-reconstituted\n"
     ]
    },
    {
     "name": "stderr",
     "output_type": "stream",
     "text": [
      "100%|██████████| 8/8 [00:16<00:00,  2.10s/it]\n",
      " 20%|██        | 67/333 [22:14<45:50, 10.34s/it]"
     ]
    },
    {
     "name": "stdout",
     "output_type": "stream",
     "text": [
      "https://reviews.webmd.com/drugs/drugreview-159426-linagliptin-metformin-tablet\n"
     ]
    },
    {
     "name": "stderr",
     "output_type": "stream",
     "text": [
      "100%|██████████| 1/1 [00:02<00:00,  2.29s/it]\n",
      " 20%|██        | 68/333 [22:20<40:48,  9.24s/it]"
     ]
    },
    {
     "name": "stdout",
     "output_type": "stream",
     "text": [
      "https://reviews.webmd.com/drugs/drugreview-159426-linagliptin-metformin-tablet-immediate-release-and-er-biphasic-24hr-tablet-immed-ext-release-biphasic-24hr\n"
     ]
    },
    {
     "name": "stderr",
     "output_type": "stream",
     "text": [
      "100%|██████████| 1/1 [00:01<00:00,  1.88s/it]\n",
      " 21%|██        | 69/333 [22:25<35:00,  7.95s/it]"
     ]
    },
    {
     "name": "stdout",
     "output_type": "stream",
     "text": [
      "https://reviews.webmd.com/drugs/drugreview-159449-jentadueto\n"
     ]
    },
    {
     "name": "stderr",
     "output_type": "stream",
     "text": [
      "100%|██████████| 1/1 [00:01<00:00,  1.93s/it]\n",
      " 21%|██        | 70/333 [22:31<31:49,  7.26s/it]"
     ]
    },
    {
     "name": "stdout",
     "output_type": "stream",
     "text": [
      "https://reviews.webmd.com/drugs/drugreview-159466-janumet-xr\n"
     ]
    },
    {
     "name": "stderr",
     "output_type": "stream",
     "text": [
      "100%|██████████| 2/2 [00:04<00:00,  2.29s/it]\n",
      " 21%|██▏       | 71/333 [22:39<33:06,  7.58s/it]"
     ]
    },
    {
     "name": "stdout",
     "output_type": "stream",
     "text": [
      "https://reviews.webmd.com/drugs/drugreview-163054-victoza-2-pak-pen-injector\n"
     ]
    },
    {
     "name": "stderr",
     "output_type": "stream",
     "text": [
      "100%|██████████| 3/3 [00:06<00:00,  2.14s/it]\n",
      " 22%|██▏       | 72/333 [22:49<36:17,  8.34s/it]"
     ]
    },
    {
     "name": "stdout",
     "output_type": "stream",
     "text": [
      "https://reviews.webmd.com/drugs/drugreview-163392-alogliptin\n"
     ]
    },
    {
     "name": "stderr",
     "output_type": "stream",
     "text": [
      "100%|██████████| 1/1 [00:01<00:00,  1.74s/it]\n",
      " 22%|██▏       | 73/333 [22:54<31:27,  7.26s/it]"
     ]
    },
    {
     "name": "stdout",
     "output_type": "stream",
     "text": [
      "https://reviews.webmd.com/drugs/drugreview-163393-alogliptin-pioglitazone\n"
     ]
    },
    {
     "name": "stderr",
     "output_type": "stream",
     "text": [
      "100%|██████████| 1/1 [00:01<00:00,  1.54s/it]\n",
      " 22%|██▏       | 74/333 [22:59<28:48,  6.68s/it]"
     ]
    },
    {
     "name": "stdout",
     "output_type": "stream",
     "text": [
      "https://reviews.webmd.com/drugs/drugreview-163394-alogliptin-metformin\n"
     ]
    },
    {
     "name": "stderr",
     "output_type": "stream",
     "text": [
      " 23%|██▎       | 75/333 [23:02<23:47,  5.53s/it]"
     ]
    },
    {
     "name": "stdout",
     "output_type": "stream",
     "text": [
      "https://reviews.webmd.com/drugs/drugreview-163396-kazano\n"
     ]
    },
    {
     "name": "stderr",
     "output_type": "stream",
     "text": [
      "100%|██████████| 1/1 [00:01<00:00,  1.89s/it]\n",
      " 23%|██▎       | 76/333 [23:07<22:58,  5.36s/it]"
     ]
    },
    {
     "name": "stdout",
     "output_type": "stream",
     "text": [
      "https://reviews.webmd.com/drugs/drugreview-163399-nesina\n"
     ]
    },
    {
     "name": "stderr",
     "output_type": "stream",
     "text": [
      "100%|██████████| 1/1 [00:01<00:00,  1.97s/it]\n",
      " 23%|██▎       | 77/333 [23:13<23:23,  5.48s/it]"
     ]
    },
    {
     "name": "stdout",
     "output_type": "stream",
     "text": [
      "https://reviews.webmd.com/drugs/drugreview-163400-oseni\n"
     ]
    },
    {
     "name": "stderr",
     "output_type": "stream",
     "text": [
      "100%|██████████| 1/1 [00:01<00:00,  1.94s/it]\n",
      " 23%|██▎       | 78/333 [23:19<23:37,  5.56s/it]"
     ]
    },
    {
     "name": "stdout",
     "output_type": "stream",
     "text": [
      "https://reviews.webmd.com/drugs/drugreview-163872-canagliflozin-tablet\n"
     ]
    },
    {
     "name": "stderr",
     "output_type": "stream",
     "text": [
      "100%|██████████| 1/1 [00:01<00:00,  1.59s/it]\n",
      " 24%|██▎       | 79/333 [23:24<22:38,  5.35s/it]"
     ]
    },
    {
     "name": "stdout",
     "output_type": "stream",
     "text": [
      "https://reviews.webmd.com/drugs/drugreview-163874-invokana\n"
     ]
    },
    {
     "name": "stderr",
     "output_type": "stream",
     "text": [
      "100%|██████████| 11/11 [00:24<00:00,  2.19s/it]\n",
      " 24%|██▍       | 80/333 [23:51<50:55, 12.08s/it]"
     ]
    },
    {
     "name": "stdout",
     "output_type": "stream",
     "text": [
      "https://reviews.webmd.com/drugs/drugreview-164535-victoza-3-pak-pen-injector\n"
     ]
    },
    {
     "name": "stderr",
     "output_type": "stream",
     "text": [
      "100%|██████████| 2/2 [00:04<00:00,  2.04s/it]\n",
      " 25%|██▍       | 82/333 [24:02<34:40,  8.29s/it]"
     ]
    },
    {
     "name": "stdout",
     "output_type": "stream",
     "text": [
      "skipping https://reviews.webmd.com/drugs/drugreview-164719-novolin-r-penfill-semi-synth-cartridge: page not found\n",
      "https://reviews.webmd.com/drugs/drugreview-165589-insulin-degludec-pen-u-200\n"
     ]
    },
    {
     "name": "stderr",
     "output_type": "stream",
     "text": [
      " 25%|██▍       | 83/333 [24:06<29:33,  7.09s/it]"
     ]
    },
    {
     "name": "stdout",
     "output_type": "stream",
     "text": [
      "https://reviews.webmd.com/drugs/drugreview-165640-dapagliflozin\n"
     ]
    },
    {
     "name": "stderr",
     "output_type": "stream",
     "text": [
      "100%|██████████| 1/1 [00:02<00:00,  2.44s/it]\n",
      " 25%|██▌       | 84/333 [24:12<28:02,  6.76s/it]"
     ]
    },
    {
     "name": "stdout",
     "output_type": "stream",
     "text": [
      "https://reviews.webmd.com/drugs/drugreview-165641-farxiga\n"
     ]
    },
    {
     "name": "stderr",
     "output_type": "stream",
     "text": [
      "100%|██████████| 5/5 [00:10<00:00,  2.14s/it]\n",
      " 26%|██▌       | 85/333 [24:27<37:55,  9.17s/it]"
     ]
    },
    {
     "name": "stdout",
     "output_type": "stream",
     "text": [
      "https://reviews.webmd.com/drugs/drugreview-165658-humulin-70-30-kwikpen-insulin-pen\n"
     ]
    },
    {
     "name": "stderr",
     "output_type": "stream",
     "text": [
      "100%|██████████| 1/1 [00:01<00:00,  1.70s/it]\n",
      " 26%|██▌       | 86/333 [24:32<32:17,  7.84s/it]"
     ]
    },
    {
     "name": "stdout",
     "output_type": "stream",
     "text": [
      "https://reviews.webmd.com/drugs/drugreview-165659-humulin-n-kwikpen-insulin-pen\n"
     ]
    },
    {
     "name": "stderr",
     "output_type": "stream",
     "text": [
      "100%|██████████| 1/1 [00:01<00:00,  1.55s/it]\n",
      " 26%|██▌       | 87/333 [24:36<28:04,  6.85s/it]"
     ]
    },
    {
     "name": "stdout",
     "output_type": "stream",
     "text": [
      "https://reviews.webmd.com/drugs/drugreview-165976-lixisenatide-pen-injector\n"
     ]
    },
    {
     "name": "stderr",
     "output_type": "stream",
     "text": [
      " 26%|██▋       | 88/333 [24:40<24:00,  5.88s/it]"
     ]
    },
    {
     "name": "stdout",
     "output_type": "stream",
     "text": [
      "https://reviews.webmd.com/drugs/drugreview-166327-levemir-flextouch-insulin-pen\n"
     ]
    },
    {
     "name": "stderr",
     "output_type": "stream",
     "text": [
      "100%|██████████| 3/3 [00:08<00:00,  2.68s/it]\n",
      " 27%|██▋       | 90/333 [24:53<23:39,  5.84s/it]"
     ]
    },
    {
     "name": "stdout",
     "output_type": "stream",
     "text": [
      "skipping https://reviews.webmd.com/drugs/drugreview-166372-albiglutide-pen-injector: page not found\n"
     ]
    },
    {
     "name": "stderr",
     "output_type": "stream",
     "text": [
      " 27%|██▋       | 91/333 [24:56<19:47,  4.91s/it]"
     ]
    },
    {
     "name": "stdout",
     "output_type": "stream",
     "text": [
      "skipping https://reviews.webmd.com/drugs/drugreview-166388-tanzeum-pen-injector: page not found\n",
      "https://reviews.webmd.com/drugs/drugreview-166761-empagliflozin-tablet\n"
     ]
    },
    {
     "name": "stderr",
     "output_type": "stream",
     "text": [
      "100%|██████████| 1/1 [00:01<00:00,  1.62s/it]\n",
      " 28%|██▊       | 92/333 [25:01<19:55,  4.96s/it]"
     ]
    },
    {
     "name": "stdout",
     "output_type": "stream",
     "text": [
      "https://reviews.webmd.com/drugs/drugreview-166762-jardiance\n"
     ]
    },
    {
     "name": "stderr",
     "output_type": "stream",
     "text": [
      "100%|██████████| 7/7 [00:16<00:00,  2.35s/it]\n",
      " 28%|██▊       | 93/333 [25:21<37:28,  9.37s/it]"
     ]
    },
    {
     "name": "stdout",
     "output_type": "stream",
     "text": [
      "https://reviews.webmd.com/drugs/drugreview-166778-canagliflozin-metformin-tablet\n"
     ]
    },
    {
     "name": "stderr",
     "output_type": "stream",
     "text": [
      " 28%|██▊       | 94/333 [25:24<30:45,  7.72s/it]"
     ]
    },
    {
     "name": "stdout",
     "output_type": "stream",
     "text": [
      "https://reviews.webmd.com/drugs/drugreview-166778-canagliflozin-metformin-tablet-immediate-release-and-er-biphasic-24hr-tablet-immed-ext-release-biphasic-24hr\n"
     ]
    },
    {
     "name": "stderr",
     "output_type": "stream",
     "text": [
      " 29%|██▊       | 95/333 [25:28<25:26,  6.41s/it]"
     ]
    },
    {
     "name": "stdout",
     "output_type": "stream",
     "text": [
      "https://reviews.webmd.com/drugs/drugreview-166783-invokamet\n"
     ]
    },
    {
     "name": "stderr",
     "output_type": "stream",
     "text": [
      "100%|██████████| 1/1 [00:01<00:00,  1.84s/it]\n",
      " 29%|██▉       | 96/333 [25:33<24:16,  6.14s/it]"
     ]
    },
    {
     "name": "stdout",
     "output_type": "stream",
     "text": [
      "https://reviews.webmd.com/drugs/drugreview-167024-dulaglutide-pen-injector\n"
     ]
    },
    {
     "name": "stderr",
     "output_type": "stream",
     "text": [
      " 29%|██▉       | 97/333 [25:36<20:09,  5.13s/it]"
     ]
    },
    {
     "name": "stdout",
     "output_type": "stream",
     "text": [
      "https://reviews.webmd.com/drugs/drugreview-167025-trulicity-pen-injector\n"
     ]
    },
    {
     "name": "stderr",
     "output_type": "stream",
     "text": [
      "100%|██████████| 14/14 [00:33<00:00,  2.38s/it]\n",
      " 29%|██▉       | 98/333 [26:14<58:33, 14.95s/it]"
     ]
    },
    {
     "name": "stdout",
     "output_type": "stream",
     "text": [
      "https://reviews.webmd.com/drugs/drugreview-167198-dapagliflozin-metformin-er\n"
     ]
    },
    {
     "name": "stderr",
     "output_type": "stream",
     "text": [
      "100%|██████████| 1/1 [00:01<00:00,  1.71s/it]\n",
      " 30%|██▉       | 99/333 [26:18<46:09, 11.83s/it]"
     ]
    },
    {
     "name": "stdout",
     "output_type": "stream",
     "text": [
      "https://reviews.webmd.com/drugs/drugreview-167199-xigduo-xr\n"
     ]
    },
    {
     "name": "stderr",
     "output_type": "stream",
     "text": [
      "100%|██████████| 1/1 [00:01<00:00,  1.95s/it]\n",
      " 30%|███       | 100/333 [26:24<38:32,  9.93s/it]"
     ]
    },
    {
     "name": "stdout",
     "output_type": "stream",
     "text": [
      "https://reviews.webmd.com/drugs/drugreview-167500-afrezza-cartridge-with-inhaler\n"
     ]
    },
    {
     "name": "stderr",
     "output_type": "stream",
     "text": [
      "100%|██████████| 4/4 [00:09<00:00,  2.27s/it]\n",
      " 30%|███       | 101/333 [26:37<41:27, 10.72s/it]"
     ]
    },
    {
     "name": "stdout",
     "output_type": "stream",
     "text": [
      "https://reviews.webmd.com/drugs/drugreview-167707-empagliflozin-linagliptin-tablet\n"
     ]
    },
    {
     "name": "stderr",
     "output_type": "stream",
     "text": [
      "100%|██████████| 1/1 [00:01<00:00,  1.64s/it]\n",
      " 31%|███       | 102/333 [26:41<34:13,  8.89s/it]"
     ]
    },
    {
     "name": "stdout",
     "output_type": "stream",
     "text": [
      "https://reviews.webmd.com/drugs/drugreview-167715-glyxambi\n"
     ]
    },
    {
     "name": "stderr",
     "output_type": "stream",
     "text": [
      "100%|██████████| 1/1 [00:02<00:00,  2.04s/it]\n",
      " 31%|███       | 103/333 [26:47<30:22,  7.92s/it]"
     ]
    },
    {
     "name": "stdout",
     "output_type": "stream",
     "text": [
      "https://reviews.webmd.com/drugs/drugreview-167874-toujeo-solostar-insulin-pen\n"
     ]
    },
    {
     "name": "stderr",
     "output_type": "stream",
     "text": [
      "100%|██████████| 2/2 [00:03<00:00,  2.00s/it]\n",
      " 31%|███       | 104/333 [26:54<29:39,  7.77s/it]"
     ]
    },
    {
     "name": "stdout",
     "output_type": "stream",
     "text": [
      "https://reviews.webmd.com/drugs/drugreview-16866-glyset-tablet\n"
     ]
    },
    {
     "name": "stderr",
     "output_type": "stream",
     "text": [
      "100%|██████████| 1/1 [00:01<00:00,  1.62s/it]\n",
      " 32%|███▏      | 105/333 [26:59<26:09,  6.88s/it]"
     ]
    },
    {
     "name": "stdout",
     "output_type": "stream",
     "text": [
      "https://reviews.webmd.com/drugs/drugreview-16873-humulin-70-30-insulin-pen-syringe\n"
     ]
    },
    {
     "name": "stderr",
     "output_type": "stream",
     "text": [
      "100%|██████████| 1/1 [00:03<00:00,  3.29s/it]\n",
      " 32%|███▏      | 106/333 [27:06<25:34,  6.76s/it]"
     ]
    },
    {
     "name": "stdout",
     "output_type": "stream",
     "text": [
      "https://reviews.webmd.com/drugs/drugreview-16874-humulin-n-pen-syringe\n"
     ]
    },
    {
     "name": "stderr",
     "output_type": "stream",
     "text": [
      "100%|██████████| 1/1 [00:01<00:00,  1.69s/it]\n",
      " 32%|███▏      | 107/333 [27:10<23:01,  6.11s/it]"
     ]
    },
    {
     "name": "stdout",
     "output_type": "stream",
     "text": [
      "https://reviews.webmd.com/drugs/drugreview-16875-humalog-pen-insulin\n"
     ]
    },
    {
     "name": "stderr",
     "output_type": "stream",
     "text": [
      "100%|██████████| 1/1 [00:02<00:00,  2.01s/it]\n",
      " 32%|███▏      | 108/333 [27:16<22:11,  5.92s/it]"
     ]
    },
    {
     "name": "stdout",
     "output_type": "stream",
     "text": [
      "https://reviews.webmd.com/drugs/drugreview-16875-humalog-pen-syringe\n"
     ]
    },
    {
     "name": "stderr",
     "output_type": "stream",
     "text": [
      "100%|██████████| 1/1 [00:02<00:00,  2.83s/it]\n",
      " 33%|███▎      | 109/333 [27:22<22:28,  6.02s/it]"
     ]
    },
    {
     "name": "stdout",
     "output_type": "stream",
     "text": [
      "https://reviews.webmd.com/drugs/drugreview-169671-empagliflozin-metformin-tablet\n"
     ]
    },
    {
     "name": "stderr",
     "output_type": "stream",
     "text": [
      " 33%|███▎      | 110/333 [27:25<19:10,  5.16s/it]"
     ]
    },
    {
     "name": "stdout",
     "output_type": "stream",
     "text": [
      "https://reviews.webmd.com/drugs/drugreview-169671-empagliflozin-metformin-tablet-immediate-release-and-er-biphasic-24hr-tablet-immed-ext-release-biphasic-24hr\n"
     ]
    },
    {
     "name": "stderr",
     "output_type": "stream",
     "text": [
      " 33%|███▎      | 111/333 [27:28<16:36,  4.49s/it]"
     ]
    },
    {
     "name": "stdout",
     "output_type": "stream",
     "text": [
      "https://reviews.webmd.com/drugs/drugreview-169678-synjardy\n"
     ]
    },
    {
     "name": "stderr",
     "output_type": "stream",
     "text": [
      "100%|██████████| 1/1 [00:01<00:00,  1.71s/it]\n",
      " 34%|███▎      | 112/333 [27:33<17:30,  4.75s/it]"
     ]
    },
    {
     "name": "stdout",
     "output_type": "stream",
     "text": [
      "https://reviews.webmd.com/drugs/drugreview-170029-tresiba-flextouch-u-100-insulin-pen\n"
     ]
    },
    {
     "name": "stderr",
     "output_type": "stream",
     "text": [
      "100%|██████████| 1/1 [00:01<00:00,  1.66s/it]\n",
      " 34%|███▍      | 113/333 [27:38<17:27,  4.76s/it]"
     ]
    },
    {
     "name": "stdout",
     "output_type": "stream",
     "text": [
      "https://reviews.webmd.com/drugs/drugreview-170030-tresiba-flextouch-u-200-insulin-pen\n"
     ]
    },
    {
     "name": "stderr",
     "output_type": "stream",
     "text": [
      "100%|██████████| 1/1 [00:01<00:00,  1.68s/it]\n",
      " 34%|███▍      | 114/333 [27:43<17:52,  4.90s/it]"
     ]
    },
    {
     "name": "stdout",
     "output_type": "stream",
     "text": [
      "https://reviews.webmd.com/drugs/drugreview-170716-basaglar-kwikpen-u-100-insulin-pen\n"
     ]
    },
    {
     "name": "stderr",
     "output_type": "stream",
     "text": [
      "100%|██████████| 1/1 [00:01<00:00,  1.65s/it]\n",
      " 35%|███▍      | 115/333 [27:48<18:00,  4.96s/it]"
     ]
    },
    {
     "name": "stdout",
     "output_type": "stream",
     "text": [
      "https://reviews.webmd.com/drugs/drugreview-172005-jentadueto-xr\n"
     ]
    },
    {
     "name": "stderr",
     "output_type": "stream",
     "text": [
      "100%|██████████| 1/1 [00:01<00:00,  1.76s/it]\n",
      " 35%|███▍      | 116/333 [27:53<18:05,  5.00s/it]"
     ]
    },
    {
     "name": "stdout",
     "output_type": "stream",
     "text": [
      "https://reviews.webmd.com/drugs/drugreview-172573-invokamet-xr\n"
     ]
    },
    {
     "name": "stderr",
     "output_type": "stream",
     "text": [
      " 35%|███▌      | 117/333 [27:58<17:28,  4.85s/it]"
     ]
    },
    {
     "name": "stdout",
     "output_type": "stream",
     "text": [
      "https://reviews.webmd.com/drugs/drugreview-172910-insulin-degludec-liraglutide-pen\n"
     ]
    },
    {
     "name": "stderr",
     "output_type": "stream",
     "text": [
      " 35%|███▌      | 118/333 [28:01<15:33,  4.34s/it]"
     ]
    },
    {
     "name": "stdout",
     "output_type": "stream",
     "text": [
      "https://reviews.webmd.com/drugs/drugreview-172911-xultophy-100-3-6-insulin-pen\n"
     ]
    },
    {
     "name": "stderr",
     "output_type": "stream",
     "text": [
      " 36%|███▌      | 119/333 [28:04<14:02,  3.94s/it]"
     ]
    },
    {
     "name": "stdout",
     "output_type": "stream",
     "text": [
      "https://reviews.webmd.com/drugs/drugreview-172916-insulin-glargine-lixisenatide-pen\n"
     ]
    },
    {
     "name": "stderr",
     "output_type": "stream",
     "text": [
      " 36%|███▌      | 120/333 [28:07<13:00,  3.66s/it]"
     ]
    },
    {
     "name": "stdout",
     "output_type": "stream",
     "text": [
      "https://reviews.webmd.com/drugs/drugreview-17298-rosiglitazone-tablet\n"
     ]
    },
    {
     "name": "stderr",
     "output_type": "stream",
     "text": [
      "100%|██████████| 1/1 [00:01<00:00,  1.78s/it]\n",
      " 36%|███▋      | 121/333 [28:12<14:13,  4.02s/it]"
     ]
    },
    {
     "name": "stdout",
     "output_type": "stream",
     "text": [
      "https://reviews.webmd.com/drugs/drugreview-172984-adlyxin-pen-injector\n"
     ]
    },
    {
     "name": "stderr",
     "output_type": "stream",
     "text": [
      "100%|██████████| 1/1 [00:01<00:00,  1.60s/it]\n",
      " 37%|███▋      | 122/333 [28:18<15:47,  4.49s/it]"
     ]
    },
    {
     "name": "stdout",
     "output_type": "stream",
     "text": [
      "https://reviews.webmd.com/drugs/drugreview-172986-soliqua-100-33-insulin-pen\n"
     ]
    },
    {
     "name": "stderr",
     "output_type": "stream",
     "text": [
      "100%|██████████| 1/1 [00:01<00:00,  1.72s/it]\n",
      " 37%|███▋      | 123/333 [28:23<16:54,  4.83s/it]"
     ]
    },
    {
     "name": "stdout",
     "output_type": "stream",
     "text": [
      "https://reviews.webmd.com/drugs/drugreview-17300-avandia\n"
     ]
    },
    {
     "name": "stderr",
     "output_type": "stream",
     "text": [
      "100%|██████████| 5/5 [00:11<00:00,  2.39s/it]\n",
      " 37%|███▋      | 124/333 [28:39<27:56,  8.02s/it]"
     ]
    },
    {
     "name": "stdout",
     "output_type": "stream",
     "text": [
      "https://reviews.webmd.com/drugs/drugreview-173266-insulin-aspart-niacinamide-cartridge\n"
     ]
    },
    {
     "name": "stderr",
     "output_type": "stream",
     "text": [
      " 38%|███▊      | 125/333 [28:42<22:46,  6.57s/it]"
     ]
    },
    {
     "name": "stdout",
     "output_type": "stream",
     "text": [
      "https://reviews.webmd.com/drugs/drugreview-173268-fiasp-vial\n"
     ]
    },
    {
     "name": "stderr",
     "output_type": "stream",
     "text": [
      "100%|██████████| 1/1 [00:01<00:00,  1.92s/it]\n",
      " 38%|███▊      | 126/333 [28:48<21:51,  6.34s/it]"
     ]
    },
    {
     "name": "stdout",
     "output_type": "stream",
     "text": [
      "https://reviews.webmd.com/drugs/drugreview-173286-fiasp-flextouch-insulin-pen\n"
     ]
    },
    {
     "name": "stderr",
     "output_type": "stream",
     "text": [
      " 38%|███▊      | 127/333 [28:52<19:28,  5.67s/it]"
     ]
    },
    {
     "name": "stdout",
     "output_type": "stream",
     "text": [
      "https://reviews.webmd.com/drugs/drugreview-173287-fiasp-penfill-cartridge\n"
     ]
    },
    {
     "name": "stderr",
     "output_type": "stream",
     "text": [
      " 38%|███▊      | 128/333 [28:56<17:56,  5.25s/it]"
     ]
    },
    {
     "name": "stdout",
     "output_type": "stream",
     "text": [
      "https://reviews.webmd.com/drugs/drugreview-173353-dapagliflozin-saxagliptin-tablet\n"
     ]
    },
    {
     "name": "stderr",
     "output_type": "stream",
     "text": [
      " 39%|███▊      | 129/333 [28:59<15:45,  4.63s/it]"
     ]
    },
    {
     "name": "stdout",
     "output_type": "stream",
     "text": [
      "https://reviews.webmd.com/drugs/drugreview-173445-synjardy-xr\n"
     ]
    },
    {
     "name": "stderr",
     "output_type": "stream",
     "text": [
      "100%|██████████| 1/1 [00:01<00:00,  1.86s/it]\n",
      " 39%|███▉      | 130/333 [29:05<16:28,  4.87s/it]"
     ]
    },
    {
     "name": "stdout",
     "output_type": "stream",
     "text": [
      "https://reviews.webmd.com/drugs/drugreview-17385-glycron-tablet\n"
     ]
    },
    {
     "name": "stderr",
     "output_type": "stream",
     "text": [
      " 39%|███▉      | 131/333 [29:08<14:22,  4.27s/it]"
     ]
    },
    {
     "name": "stdout",
     "output_type": "stream",
     "text": [
      "https://reviews.webmd.com/drugs/drugreview-174012-humalog-junior-kwikpen-insulin-pen-half-unit\n"
     ]
    },
    {
     "name": "stderr",
     "output_type": "stream",
     "text": [
      " 40%|███▉      | 132/333 [29:11<13:12,  3.94s/it]"
     ]
    },
    {
     "name": "stdout",
     "output_type": "stream",
     "text": [
      "https://reviews.webmd.com/drugs/drugreview-17406-pioglitazone-hcl\n"
     ]
    },
    {
     "name": "stderr",
     "output_type": "stream",
     "text": [
      "100%|██████████| 3/3 [00:06<00:00,  2.11s/it]\n",
      " 40%|███▉      | 133/333 [29:21<19:22,  5.81s/it]"
     ]
    },
    {
     "name": "stdout",
     "output_type": "stream",
     "text": [
      "https://reviews.webmd.com/drugs/drugreview-17410-actos\n"
     ]
    },
    {
     "name": "stderr",
     "output_type": "stream",
     "text": [
      "100%|██████████| 26/26 [00:59<00:00,  2.28s/it]\n",
      " 40%|████      | 134/333 [30:24<1:16:17, 23.00s/it]"
     ]
    },
    {
     "name": "stdout",
     "output_type": "stream",
     "text": [
      "https://reviews.webmd.com/drugs/drugreview-17424-insulin-lispro-protamine-mix-pen\n"
     ]
    },
    {
     "name": "stderr",
     "output_type": "stream",
     "text": [
      "100%|██████████| 1/1 [00:02<00:00,  2.52s/it]\n",
      " 41%|████      | 135/333 [30:30<58:41, 17.79s/it]  "
     ]
    },
    {
     "name": "stdout",
     "output_type": "stream",
     "text": [
      "https://reviews.webmd.com/drugs/drugreview-174355-qtern\n"
     ]
    },
    {
     "name": "stderr",
     "output_type": "stream",
     "text": [
      " 41%|████      | 136/333 [30:33<44:06, 13.43s/it]"
     ]
    },
    {
     "name": "stdout",
     "output_type": "stream",
     "text": [
      "https://reviews.webmd.com/drugs/drugreview-174375-bydureon-bcise-auto-injector\n"
     ]
    },
    {
     "name": "stderr",
     "output_type": "stream",
     "text": [
      "100%|██████████| 1/1 [00:01<00:00,  2.00s/it]\n",
      " 41%|████      | 137/333 [30:38<35:43, 10.94s/it]"
     ]
    },
    {
     "name": "stdout",
     "output_type": "stream",
     "text": [
      "https://reviews.webmd.com/drugs/drugreview-174490-semaglutide-pen-injector\n"
     ]
    },
    {
     "name": "stderr",
     "output_type": "stream",
     "text": [
      "100%|██████████| 1/1 [00:02<00:00,  2.08s/it]\n",
      " 41%|████▏     | 138/333 [30:43<30:00,  9.23s/it]"
     ]
    },
    {
     "name": "stdout",
     "output_type": "stream",
     "text": [
      "https://reviews.webmd.com/drugs/drugreview-174491-ozempic-pen-injector\n"
     ]
    },
    {
     "name": "stderr",
     "output_type": "stream",
     "text": [
      "100%|██████████| 23/23 [00:49<00:00,  2.15s/it]\n",
      " 42%|████▏     | 139/333 [31:37<1:13:00, 22.58s/it]"
     ]
    },
    {
     "name": "stdout",
     "output_type": "stream",
     "text": [
      "https://reviews.webmd.com/drugs/drugreview-174564-ertugliflozin-sitagliptin-phos-tablet\n"
     ]
    },
    {
     "name": "stderr",
     "output_type": "stream",
     "text": [
      " 42%|████▏     | 140/333 [31:40<53:46, 16.72s/it]  "
     ]
    },
    {
     "name": "stdout",
     "output_type": "stream",
     "text": [
      "https://reviews.webmd.com/drugs/drugreview-174571-ertugliflozin-tablet\n"
     ]
    },
    {
     "name": "stderr",
     "output_type": "stream",
     "text": [
      " 42%|████▏     | 141/333 [31:45<42:34, 13.31s/it]"
     ]
    },
    {
     "name": "stdout",
     "output_type": "stream",
     "text": [
      "https://reviews.webmd.com/drugs/drugreview-174575-admelog-vial\n"
     ]
    },
    {
     "name": "stderr",
     "output_type": "stream",
     "text": [
      "100%|██████████| 3/3 [00:07<00:00,  2.61s/it]\n",
      " 43%|████▎     | 142/333 [31:57<40:18, 12.66s/it]"
     ]
    },
    {
     "name": "stdout",
     "output_type": "stream",
     "text": [
      "https://reviews.webmd.com/drugs/drugreview-174576-admelog-solostar-insulin-pen\n"
     ]
    },
    {
     "name": "stderr",
     "output_type": "stream",
     "text": [
      "100%|██████████| 1/1 [00:01<00:00,  1.96s/it]\n",
      " 43%|████▎     | 143/333 [32:02<33:33, 10.60s/it]"
     ]
    },
    {
     "name": "stdout",
     "output_type": "stream",
     "text": [
      "https://reviews.webmd.com/drugs/drugreview-174582-ertugliflozin-metformin-tablet\n"
     ]
    },
    {
     "name": "stderr",
     "output_type": "stream",
     "text": [
      " 43%|████▎     | 144/333 [32:05<26:16,  8.34s/it]"
     ]
    },
    {
     "name": "stdout",
     "output_type": "stream",
     "text": [
      "https://reviews.webmd.com/drugs/drugreview-174602-steglatro\n"
     ]
    },
    {
     "name": "stderr",
     "output_type": "stream",
     "text": [
      "100%|██████████| 1/1 [00:01<00:00,  1.71s/it]\n",
      " 44%|████▎     | 145/333 [32:10<22:38,  7.22s/it]"
     ]
    },
    {
     "name": "stdout",
     "output_type": "stream",
     "text": [
      "https://reviews.webmd.com/drugs/drugreview-174662-steglujan\n"
     ]
    },
    {
     "name": "stderr",
     "output_type": "stream",
     "text": [
      " 44%|████▍     | 146/333 [32:13<18:28,  5.93s/it]"
     ]
    },
    {
     "name": "stdout",
     "output_type": "stream",
     "text": [
      "https://reviews.webmd.com/drugs/drugreview-174733-segluromet\n"
     ]
    },
    {
     "name": "stderr",
     "output_type": "stream",
     "text": [
      "100%|██████████| 1/1 [00:02<00:00,  2.44s/it]\n",
      " 44%|████▍     | 147/333 [32:19<18:09,  5.86s/it]"
     ]
    },
    {
     "name": "stdout",
     "output_type": "stream",
     "text": [
      "https://reviews.webmd.com/drugs/drugreview-175027-toujeo-max-solostar-insulin-pen\n"
     ]
    },
    {
     "name": "stderr",
     "output_type": "stream",
     "text": [
      " 44%|████▍     | 148/333 [32:21<15:10,  4.92s/it]"
     ]
    },
    {
     "name": "stdout",
     "output_type": "stream",
     "text": [
      "https://reviews.webmd.com/drugs/drugreview-175773-insulin-glargine-solostar-pen\n"
     ]
    },
    {
     "name": "stderr",
     "output_type": "stream",
     "text": [
      " 45%|████▍     | 149/333 [32:24<13:09,  4.29s/it]"
     ]
    },
    {
     "name": "stdout",
     "output_type": "stream",
     "text": [
      "https://reviews.webmd.com/drugs/drugreview-176248-novolin-70-30-flexpen-insulin-pen\n"
     ]
    },
    {
     "name": "stderr",
     "output_type": "stream",
     "text": [
      " 45%|████▌     | 150/333 [32:28<12:17,  4.03s/it]"
     ]
    },
    {
     "name": "stdout",
     "output_type": "stream",
     "text": [
      "https://reviews.webmd.com/drugs/drugreview-176683-tresiba-vial\n"
     ]
    },
    {
     "name": "stderr",
     "output_type": "stream",
     "text": [
      " 46%|████▌     | 152/333 [32:32<09:21,  3.10s/it]"
     ]
    },
    {
     "name": "stdout",
     "output_type": "stream",
     "text": [
      "skipping https://reviews.webmd.com/drugs/drugreview-17744-velosulin-br-solution: page not found\n"
     ]
    },
    {
     "name": "stderr",
     "output_type": "stream",
     "text": [
      " 46%|████▌     | 153/333 [32:34<08:02,  2.68s/it]"
     ]
    },
    {
     "name": "stdout",
     "output_type": "stream",
     "text": [
      "skipping https://reviews.webmd.com/drugs/drugreview-17746-velosulin-br-rdna-solution: page not found\n"
     ]
    },
    {
     "name": "stderr",
     "output_type": "stream",
     "text": [
      " 46%|████▌     | 154/333 [32:36<07:11,  2.41s/it]"
     ]
    },
    {
     "name": "stdout",
     "output_type": "stream",
     "text": [
      "skipping https://reviews.webmd.com/drugs/drugreview-177465-insulin-regular-in-0-9-nacl-solution: page not found\n"
     ]
    },
    {
     "name": "stderr",
     "output_type": "stream",
     "text": [
      " 47%|████▋     | 155/333 [32:37<06:32,  2.21s/it]"
     ]
    },
    {
     "name": "stdout",
     "output_type": "stream",
     "text": [
      "skipping https://reviews.webmd.com/drugs/drugreview-177940-myxredlin-plastic-bag-injection: page not found\n",
      "https://reviews.webmd.com/drugs/drugreview-178018-semaglutide-tablet\n"
     ]
    },
    {
     "name": "stderr",
     "output_type": "stream",
     "text": [
      "100%|██████████| 1/1 [00:01<00:00,  1.47s/it]\n",
      " 47%|████▋     | 156/333 [32:42<08:44,  2.96s/it]"
     ]
    },
    {
     "name": "stdout",
     "output_type": "stream",
     "text": [
      "https://reviews.webmd.com/drugs/drugreview-178019-rybelsus\n"
     ]
    },
    {
     "name": "stderr",
     "output_type": "stream",
     "text": [
      "100%|██████████| 4/4 [00:07<00:00,  1.85s/it]\n",
      " 47%|████▋     | 157/333 [32:53<15:56,  5.44s/it]"
     ]
    },
    {
     "name": "stdout",
     "output_type": "stream",
     "text": [
      "https://reviews.webmd.com/drugs/drugreview-178494-novolin-n-flexpen-insulin-pen\n"
     ]
    },
    {
     "name": "stderr",
     "output_type": "stream",
     "text": [
      " 47%|████▋     | 158/333 [32:56<13:28,  4.62s/it]"
     ]
    },
    {
     "name": "stdout",
     "output_type": "stream",
     "text": [
      "https://reviews.webmd.com/drugs/drugreview-178502-novolin-r-flexpen-insulin-pen\n"
     ]
    },
    {
     "name": "stderr",
     "output_type": "stream",
     "text": [
      " 48%|████▊     | 159/333 [33:00<12:39,  4.36s/it]"
     ]
    },
    {
     "name": "stdout",
     "output_type": "stream",
     "text": [
      "https://reviews.webmd.com/drugs/drugreview-178652-riomet-er\n"
     ]
    },
    {
     "name": "stderr",
     "output_type": "stream",
     "text": [
      " 48%|████▊     | 160/333 [33:02<11:03,  3.84s/it]"
     ]
    },
    {
     "name": "stdout",
     "output_type": "stream",
     "text": [
      "https://reviews.webmd.com/drugs/drugreview-178777-empaglifloz-linaglip-metformin-tablet-immediate-release-and-er-biphasic-24hr-tablet-immed-ext-release-biphasic-24hr\n"
     ]
    },
    {
     "name": "stderr",
     "output_type": "stream",
     "text": [
      " 48%|████▊     | 161/333 [33:05<10:12,  3.56s/it]"
     ]
    },
    {
     "name": "stdout",
     "output_type": "stream",
     "text": [
      "https://reviews.webmd.com/drugs/drugreview-178887-semglee-vial\n"
     ]
    },
    {
     "name": "stderr",
     "output_type": "stream",
     "text": [
      "100%|██████████| 1/1 [00:01<00:00,  1.96s/it]\n",
      " 49%|████▉     | 163/333 [33:14<10:17,  3.63s/it]"
     ]
    },
    {
     "name": "stdout",
     "output_type": "stream",
     "text": [
      "skipping https://reviews.webmd.com/drugs/drugreview-1789-diabinese-tablet: page not found\n",
      "https://reviews.webmd.com/drugs/drugreview-178950-trijardy-xr\n"
     ]
    },
    {
     "name": "stderr",
     "output_type": "stream",
     "text": [
      "100%|██████████| 1/1 [00:01<00:00,  1.51s/it]\n",
      " 49%|████▉     | 164/333 [33:19<12:04,  4.29s/it]"
     ]
    },
    {
     "name": "stdout",
     "output_type": "stream",
     "text": [
      "https://reviews.webmd.com/drugs/drugreview-179541-insulin-lispro-aabc-solution\n"
     ]
    },
    {
     "name": "stderr",
     "output_type": "stream",
     "text": [
      " 50%|████▉     | 165/333 [33:23<11:39,  4.16s/it]"
     ]
    },
    {
     "name": "stdout",
     "output_type": "stream",
     "text": [
      "https://reviews.webmd.com/drugs/drugreview-179553-lyumjev-vial\n"
     ]
    },
    {
     "name": "stderr",
     "output_type": "stream",
     "text": [
      " 50%|████▉     | 166/333 [33:28<12:08,  4.36s/it]"
     ]
    },
    {
     "name": "stdout",
     "output_type": "stream",
     "text": [
      "https://reviews.webmd.com/drugs/drugreview-179554-lyumjev-kwikpen-u-100-insulin-pen\n"
     ]
    },
    {
     "name": "stderr",
     "output_type": "stream",
     "text": [
      " 50%|█████     | 167/333 [33:31<10:45,  3.89s/it]"
     ]
    },
    {
     "name": "stdout",
     "output_type": "stream",
     "text": [
      "https://reviews.webmd.com/drugs/drugreview-179555-lyumjev-kwikpen-u-200-insulin-pen\n"
     ]
    },
    {
     "name": "stderr",
     "output_type": "stream",
     "text": [
      " 50%|█████     | 168/333 [33:34<09:45,  3.55s/it]"
     ]
    },
    {
     "name": "stdout",
     "output_type": "stream",
     "text": [
      "https://reviews.webmd.com/drugs/drugreview-180007-semglee-pen-insulin\n"
     ]
    },
    {
     "name": "stderr",
     "output_type": "stream",
     "text": [
      "100%|██████████| 1/1 [00:01<00:00,  1.68s/it]\n",
      " 51%|█████     | 169/333 [33:38<10:42,  3.91s/it]"
     ]
    },
    {
     "name": "stdout",
     "output_type": "stream",
     "text": [
      "https://reviews.webmd.com/drugs/drugreview-181317-basaglar-tempo-pen-u-100-insulin-pen-sensor\n"
     ]
    },
    {
     "name": "stderr",
     "output_type": "stream",
     "text": [
      "100%|██████████| 1/1 [00:01<00:00,  1.54s/it]\n",
      " 51%|█████     | 170/333 [33:43<11:29,  4.23s/it]"
     ]
    },
    {
     "name": "stdout",
     "output_type": "stream",
     "text": [
      "https://reviews.webmd.com/drugs/drugreview-181342-humalog-tempo-pen-u-100-insulin-pen-sensor\n"
     ]
    },
    {
     "name": "stderr",
     "output_type": "stream",
     "text": [
      " 51%|█████▏    | 171/333 [33:47<10:47,  4.00s/it]"
     ]
    },
    {
     "name": "stdout",
     "output_type": "stream",
     "text": [
      "https://reviews.webmd.com/drugs/drugreview-18179-novolin-70-30-penfill-cartridge\n"
     ]
    },
    {
     "name": "stderr",
     "output_type": "stream",
     "text": [
      "100%|██████████| 1/1 [00:01<00:00,  1.53s/it]\n",
      " 52%|█████▏    | 172/333 [33:52<11:43,  4.37s/it]"
     ]
    },
    {
     "name": "stdout",
     "output_type": "stream",
     "text": [
      "https://reviews.webmd.com/drugs/drugreview-18180-novolin-n-penfill-cartridge\n"
     ]
    },
    {
     "name": "stderr",
     "output_type": "stream",
     "text": [
      " 52%|█████▏    | 173/333 [33:55<10:28,  3.93s/it]"
     ]
    },
    {
     "name": "stdout",
     "output_type": "stream",
     "text": [
      "https://reviews.webmd.com/drugs/drugreview-18181-novolin-r-penfill-cartridge\n"
     ]
    },
    {
     "name": "stderr",
     "output_type": "stream",
     "text": [
      "100%|██████████| 1/1 [00:01<00:00,  1.69s/it]\n",
      " 52%|█████▏    | 174/333 [33:59<10:56,  4.13s/it]"
     ]
    },
    {
     "name": "stdout",
     "output_type": "stream",
     "text": [
      "https://reviews.webmd.com/drugs/drugreview-182013-insulin-glargine-yfgn-vial\n"
     ]
    },
    {
     "name": "stderr",
     "output_type": "stream",
     "text": [
      " 53%|█████▎    | 175/333 [34:03<10:11,  3.87s/it]"
     ]
    },
    {
     "name": "stdout",
     "output_type": "stream",
     "text": [
      "https://reviews.webmd.com/drugs/drugreview-182372-semglee-yfgn-pen-insulin\n"
     ]
    },
    {
     "name": "stderr",
     "output_type": "stream",
     "text": [
      "100%|██████████| 1/1 [00:01<00:00,  1.64s/it]\n",
      " 53%|█████▎    | 176/333 [34:07<10:30,  4.01s/it]"
     ]
    },
    {
     "name": "stdout",
     "output_type": "stream",
     "text": [
      "https://reviews.webmd.com/drugs/drugreview-182373-semglee-yfgn-vial\n"
     ]
    },
    {
     "name": "stderr",
     "output_type": "stream",
     "text": [
      " 53%|█████▎    | 177/333 [34:11<10:03,  3.87s/it]"
     ]
    },
    {
     "name": "stdout",
     "output_type": "stream",
     "text": [
      "https://reviews.webmd.com/drugs/drugreview-183194-insulin-glargine-aglr-pen\n"
     ]
    },
    {
     "name": "stderr",
     "output_type": "stream",
     "text": [
      " 53%|█████▎    | 178/333 [34:14<09:17,  3.59s/it]"
     ]
    },
    {
     "name": "stdout",
     "output_type": "stream",
     "text": [
      "https://reviews.webmd.com/drugs/drugreview-184157-tirzepatide-pen-injector\n"
     ]
    },
    {
     "name": "stderr",
     "output_type": "stream",
     "text": [
      "100%|██████████| 1/1 [00:01<00:00,  1.52s/it]\n",
      " 54%|█████▍    | 179/333 [34:18<09:47,  3.82s/it]"
     ]
    },
    {
     "name": "stdout",
     "output_type": "stream",
     "text": [
      "https://reviews.webmd.com/drugs/drugreview-184168-mounjaro-pen-injector\n"
     ]
    },
    {
     "name": "stderr",
     "output_type": "stream",
     "text": [
      "100%|██████████| 27/27 [00:57<00:00,  2.12s/it]\n",
      " 54%|█████▍    | 180/333 [35:19<53:16, 20.89s/it]"
     ]
    },
    {
     "name": "stdout",
     "output_type": "stream",
     "text": [
      "https://reviews.webmd.com/drugs/drugreview-185382-lyumjev-tempo-pen-u-100-insulin-pen-sensor\n"
     ]
    },
    {
     "name": "stderr",
     "output_type": "stream",
     "text": [
      " 54%|█████▍    | 181/333 [35:21<39:06, 15.44s/it]"
     ]
    },
    {
     "name": "stdout",
     "output_type": "stream",
     "text": [
      "https://reviews.webmd.com/drugs/drugreview-185857-bexagliflozin\n"
     ]
    },
    {
     "name": "stderr",
     "output_type": "stream",
     "text": [
      " 55%|█████▍    | 182/333 [35:25<30:08, 11.98s/it]"
     ]
    },
    {
     "name": "stdout",
     "output_type": "stream",
     "text": [
      "https://reviews.webmd.com/drugs/drugreview-186157-rezvoglar-kwikpen-insulin-pen\n"
     ]
    },
    {
     "name": "stderr",
     "output_type": "stream",
     "text": [
      " 55%|█████▍    | 183/333 [35:28<22:52,  9.15s/it]"
     ]
    },
    {
     "name": "stdout",
     "output_type": "stream",
     "text": [
      "https://reviews.webmd.com/drugs/drugreview-187319-brenzavvy\n"
     ]
    },
    {
     "name": "stderr",
     "output_type": "stream",
     "text": [
      "100%|██████████| 1/1 [00:03<00:00,  3.37s/it]\n",
      " 55%|█████▌    | 184/333 [35:34<20:39,  8.32s/it]"
     ]
    },
    {
     "name": "stdout",
     "output_type": "stream",
     "text": [
      "https://reviews.webmd.com/drugs/drugreview-187400-insulin-aspart-b3-pump-cart-cartridge\n"
     ]
    },
    {
     "name": "stderr",
     "output_type": "stream",
     "text": [
      " 56%|█████▌    | 185/333 [35:37<16:33,  6.72s/it]"
     ]
    },
    {
     "name": "stdout",
     "output_type": "stream",
     "text": [
      "https://reviews.webmd.com/drugs/drugreview-187431-fiasp-pumpcart-cartridge\n"
     ]
    },
    {
     "name": "stderr",
     "output_type": "stream",
     "text": [
      " 56%|█████▌    | 186/333 [35:40<13:32,  5.53s/it]"
     ]
    },
    {
     "name": "stdout",
     "output_type": "stream",
     "text": [
      "https://reviews.webmd.com/drugs/drugreview-187692-sitagliptin-tablet\n"
     ]
    },
    {
     "name": "stderr",
     "output_type": "stream",
     "text": [
      " 56%|█████▌    | 187/333 [35:43<11:21,  4.67s/it]"
     ]
    },
    {
     "name": "stdout",
     "output_type": "stream",
     "text": [
      "https://reviews.webmd.com/drugs/drugreview-187793-tirzepatide-weight-loss-pen-injector\n"
     ]
    },
    {
     "name": "stderr",
     "output_type": "stream",
     "text": [
      " 56%|█████▋    | 188/333 [35:45<09:55,  4.10s/it]"
     ]
    },
    {
     "name": "stdout",
     "output_type": "stream",
     "text": [
      "https://reviews.webmd.com/drugs/drugreview-187794-zepbound-pen-injector\n"
     ]
    },
    {
     "name": "stderr",
     "output_type": "stream",
     "text": [
      "100%|██████████| 1/1 [00:01<00:00,  1.53s/it]\n",
      " 57%|█████▋    | 189/333 [35:51<10:50,  4.52s/it]"
     ]
    },
    {
     "name": "stdout",
     "output_type": "stream",
     "text": [
      "https://reviews.webmd.com/drugs/drugreview-187968-zituvio\n"
     ]
    },
    {
     "name": "stderr",
     "output_type": "stream",
     "text": [
      " 57%|█████▋    | 190/333 [35:53<09:20,  3.92s/it]"
     ]
    },
    {
     "name": "stdout",
     "output_type": "stream",
     "text": [
      "https://reviews.webmd.com/drugs/drugreview-19822-glucovance-tablet\n"
     ]
    },
    {
     "name": "stderr",
     "output_type": "stream",
     "text": [
      "100%|██████████| 2/2 [00:04<00:00,  2.05s/it]\n",
      " 57%|█████▋    | 191/333 [36:02<12:40,  5.35s/it]"
     ]
    },
    {
     "name": "stdout",
     "output_type": "stream",
     "text": [
      "https://reviews.webmd.com/drugs/drugreview-19823-glyburide-metformin-hcl\n"
     ]
    },
    {
     "name": "stderr",
     "output_type": "stream",
     "text": [
      "100%|██████████| 2/2 [00:04<00:00,  2.15s/it]\n",
      " 58%|█████▊    | 192/333 [36:10<14:27,  6.15s/it]"
     ]
    },
    {
     "name": "stdout",
     "output_type": "stream",
     "text": [
      "https://reviews.webmd.com/drugs/drugreview-19895-relion-n-innolet-suspension\n"
     ]
    },
    {
     "name": "stderr",
     "output_type": "stream",
     "text": [
      " 58%|█████▊    | 193/333 [36:15<13:32,  5.80s/it]"
     ]
    },
    {
     "name": "stdout",
     "output_type": "stream",
     "text": [
      "https://reviews.webmd.com/drugs/drugreview-19896-relion-r-solution\n"
     ]
    },
    {
     "name": "stderr",
     "output_type": "stream",
     "text": [
      " 58%|█████▊    | 194/333 [36:18<11:20,  4.90s/it]"
     ]
    },
    {
     "name": "stdout",
     "output_type": "stream",
     "text": [
      "https://reviews.webmd.com/drugs/drugreview-19897-insulin-70-30-suspension\n"
     ]
    },
    {
     "name": "stderr",
     "output_type": "stream",
     "text": [
      " 59%|█████▊    | 195/333 [36:21<10:21,  4.50s/it]"
     ]
    },
    {
     "name": "stdout",
     "output_type": "stream",
     "text": [
      "https://reviews.webmd.com/drugs/drugreview-20009-glucophage-xr-tablet-er-24-hr\n"
     ]
    },
    {
     "name": "stderr",
     "output_type": "stream",
     "text": [
      "100%|██████████| 2/2 [00:03<00:00,  1.95s/it]\n",
      " 59%|█████▉    | 196/333 [36:29<12:06,  5.30s/it]"
     ]
    },
    {
     "name": "stdout",
     "output_type": "stream",
     "text": [
      "https://reviews.webmd.com/drugs/drugreview-20224-humalog-mix-75-25-vial\n"
     ]
    },
    {
     "name": "stderr",
     "output_type": "stream",
     "text": [
      "100%|██████████| 1/1 [00:01<00:00,  1.96s/it]\n",
      " 59%|█████▉    | 197/333 [36:34<12:05,  5.34s/it]"
     ]
    },
    {
     "name": "stdout",
     "output_type": "stream",
     "text": [
      "https://reviews.webmd.com/drugs/drugreview-20312-starlix\n"
     ]
    },
    {
     "name": "stderr",
     "output_type": "stream",
     "text": [
      "100%|██████████| 2/2 [00:04<00:00,  2.12s/it]\n",
      " 59%|█████▉    | 198/333 [36:42<13:34,  6.03s/it]"
     ]
    },
    {
     "name": "stdout",
     "output_type": "stream",
     "text": [
      "https://reviews.webmd.com/drugs/drugreview-20313-nateglinide\n"
     ]
    },
    {
     "name": "stderr",
     "output_type": "stream",
     "text": [
      "100%|██████████| 1/1 [00:02<00:00,  2.10s/it]\n",
      " 60%|█████▉    | 199/333 [36:47<13:07,  5.87s/it]"
     ]
    },
    {
     "name": "stdout",
     "output_type": "stream",
     "text": [
      "https://reviews.webmd.com/drugs/drugreview-20805-insulin-glargine-solostar-pen\n"
     ]
    },
    {
     "name": "stderr",
     "output_type": "stream",
     "text": [
      "100%|██████████| 1/1 [00:01<00:00,  1.78s/it]\n",
      " 60%|██████    | 200/333 [36:52<12:34,  5.67s/it]"
     ]
    },
    {
     "name": "stdout",
     "output_type": "stream",
     "text": [
      "https://reviews.webmd.com/drugs/drugreview-20815-lantus-vial\n"
     ]
    },
    {
     "name": "stderr",
     "output_type": "stream",
     "text": [
      "100%|██████████| 6/6 [00:12<00:00,  2.04s/it]\n",
      " 60%|██████    | 201/333 [37:09<19:22,  8.80s/it]"
     ]
    },
    {
     "name": "stdout",
     "output_type": "stream",
     "text": [
      "https://reviews.webmd.com/drugs/drugreview-21774-insulin-aspart-penfill-cartridge\n"
     ]
    },
    {
     "name": "stderr",
     "output_type": "stream",
     "text": [
      "100%|██████████| 1/1 [00:01<00:00,  1.78s/it]\n",
      " 61%|██████    | 202/333 [37:14<16:42,  7.65s/it]"
     ]
    },
    {
     "name": "stdout",
     "output_type": "stream",
     "text": [
      "https://reviews.webmd.com/drugs/drugreview-21781-novolog-vial\n"
     ]
    },
    {
     "name": "stderr",
     "output_type": "stream",
     "text": [
      "100%|██████████| 2/2 [00:04<00:00,  2.13s/it]\n",
      " 61%|██████    | 203/333 [37:21<16:34,  7.65s/it]"
     ]
    },
    {
     "name": "stdout",
     "output_type": "stream",
     "text": [
      "https://reviews.webmd.com/drugs/drugreview-3365-insulin-purified-regularpork-solution\n"
     ]
    },
    {
     "name": "stderr",
     "output_type": "stream",
     "text": [
      " 61%|██████▏   | 204/333 [37:24<13:08,  6.12s/it]"
     ]
    },
    {
     "name": "stdout",
     "output_type": "stream",
     "text": [
      "https://reviews.webmd.com/drugs/drugreview-3448-humulin-70-30-vial\n"
     ]
    },
    {
     "name": "stderr",
     "output_type": "stream",
     "text": [
      "100%|██████████| 1/1 [00:02<00:00,  2.72s/it]\n",
      " 62%|██████▏   | 205/333 [37:29<12:50,  6.02s/it]"
     ]
    },
    {
     "name": "stdout",
     "output_type": "stream",
     "text": [
      "https://reviews.webmd.com/drugs/drugreview-3486-insulin-lispro-kwikpen-u-100-pen\n"
     ]
    },
    {
     "name": "stderr",
     "output_type": "stream",
     "text": [
      "100%|██████████| 1/1 [00:01<00:00,  1.60s/it]\n",
      " 62%|██████▏   | 206/333 [37:34<11:47,  5.57s/it]"
     ]
    },
    {
     "name": "stdout",
     "output_type": "stream",
     "text": [
      "https://reviews.webmd.com/drugs/drugreview-3773-diabeta-tablet\n"
     ]
    },
    {
     "name": "stderr",
     "output_type": "stream",
     "text": [
      "100%|██████████| 1/1 [00:01<00:00,  1.82s/it]\n",
      " 62%|██████▏   | 207/333 [37:39<11:10,  5.32s/it]"
     ]
    },
    {
     "name": "stdout",
     "output_type": "stream",
     "text": [
      "https://reviews.webmd.com/drugs/drugreview-3917-glyburide\n"
     ]
    },
    {
     "name": "stderr",
     "output_type": "stream",
     "text": [
      "100%|██████████| 6/6 [00:11<00:00,  1.92s/it]\n",
      " 63%|██████▎   | 209/333 [37:55<12:49,  6.20s/it]"
     ]
    },
    {
     "name": "stdout",
     "output_type": "stream",
     "text": [
      "skipping https://reviews.webmd.com/drugs/drugreview-3948-tolbutamide-tablet: page not found\n",
      "https://reviews.webmd.com/drugs/drugreview-5205-glyburide-micronized\n"
     ]
    },
    {
     "name": "stderr",
     "output_type": "stream",
     "text": [
      "100%|██████████| 1/1 [00:01<00:00,  1.78s/it]\n",
      " 63%|██████▎   | 210/333 [38:00<11:54,  5.81s/it]"
     ]
    },
    {
     "name": "stdout",
     "output_type": "stream",
     "text": [
      "https://reviews.webmd.com/drugs/drugreview-5207-acarbose\n"
     ]
    },
    {
     "name": "stderr",
     "output_type": "stream",
     "text": [
      "100%|██████████| 2/2 [00:04<00:00,  2.02s/it]\n",
      " 63%|██████▎   | 211/333 [38:08<13:17,  6.54s/it]"
     ]
    },
    {
     "name": "stdout",
     "output_type": "stream",
     "text": [
      "https://reviews.webmd.com/drugs/drugreview-5218-humulin-r-vial\n"
     ]
    },
    {
     "name": "stderr",
     "output_type": "stream",
     "text": [
      "100%|██████████| 1/1 [00:01<00:00,  1.50s/it]\n",
      " 64%|██████▎   | 212/333 [38:13<12:10,  6.04s/it]"
     ]
    },
    {
     "name": "stdout",
     "output_type": "stream",
     "text": [
      "https://reviews.webmd.com/drugs/drugreview-5233-insulin-regular-human-solution\n"
     ]
    },
    {
     "name": "stderr",
     "output_type": "stream",
     "text": [
      "100%|██████████| 1/1 [00:01<00:00,  1.82s/it]\n",
      " 64%|██████▍   | 213/333 [38:18<11:33,  5.78s/it]"
     ]
    },
    {
     "name": "stdout",
     "output_type": "stream",
     "text": [
      "https://reviews.webmd.com/drugs/drugreview-5235-glynase\n"
     ]
    },
    {
     "name": "stderr",
     "output_type": "stream",
     "text": [
      "100%|██████████| 1/1 [00:02<00:00,  2.59s/it]\n",
      " 64%|██████▍   | 214/333 [38:24<11:29,  5.79s/it]"
     ]
    },
    {
     "name": "stdout",
     "output_type": "stream",
     "text": [
      "https://reviews.webmd.com/drugs/drugreview-5250-precose\n"
     ]
    },
    {
     "name": "stderr",
     "output_type": "stream",
     "text": [
      "100%|██████████| 1/1 [00:01<00:00,  1.72s/it]\n",
      " 65%|██████▍   | 215/333 [38:29<10:54,  5.55s/it]"
     ]
    },
    {
     "name": "stdout",
     "output_type": "stream",
     "text": [
      "https://reviews.webmd.com/drugs/drugreview-53435-velosulin-r-solution\n"
     ]
    },
    {
     "name": "stderr",
     "output_type": "stream",
     "text": [
      " 65%|██████▍   | 216/333 [38:32<09:08,  4.69s/it]"
     ]
    },
    {
     "name": "stdout",
     "output_type": "stream",
     "text": [
      "https://reviews.webmd.com/drugs/drugreview-53436-insulin-r-purified-pork-solution\n"
     ]
    },
    {
     "name": "stderr",
     "output_type": "stream",
     "text": [
      " 65%|██████▌   | 217/333 [38:34<07:53,  4.08s/it]"
     ]
    },
    {
     "name": "stdout",
     "output_type": "stream",
     "text": [
      "https://reviews.webmd.com/drugs/drugreview-53437-purified-pork-insulin-solution\n"
     ]
    },
    {
     "name": "stderr",
     "output_type": "stream",
     "text": [
      " 65%|██████▌   | 218/333 [38:37<07:09,  3.73s/it]"
     ]
    },
    {
     "name": "stdout",
     "output_type": "stream",
     "text": [
      "https://reviews.webmd.com/drugs/drugreview-53438-insulin-regular-purified-pork-solution\n"
     ]
    },
    {
     "name": "stderr",
     "output_type": "stream",
     "text": [
      " 66%|██████▌   | 219/333 [38:41<06:53,  3.63s/it]"
     ]
    },
    {
     "name": "stdout",
     "output_type": "stream",
     "text": [
      "https://reviews.webmd.com/drugs/drugreview-53439-iletin-ii-regularpork-solution\n"
     ]
    },
    {
     "name": "stderr",
     "output_type": "stream",
     "text": [
      " 66%|██████▌   | 220/333 [38:44<06:30,  3.46s/it]"
     ]
    },
    {
     "name": "stdout",
     "output_type": "stream",
     "text": [
      "https://reviews.webmd.com/drugs/drugreview-53440-insulatard-n-suspension\n"
     ]
    },
    {
     "name": "stderr",
     "output_type": "stream",
     "text": [
      " 66%|██████▋   | 221/333 [38:47<06:17,  3.37s/it]"
     ]
    },
    {
     "name": "stdout",
     "output_type": "stream",
     "text": [
      "https://reviews.webmd.com/drugs/drugreview-53441-insulin-n-purified-pork-suspension\n"
     ]
    },
    {
     "name": "stderr",
     "output_type": "stream",
     "text": [
      " 67%|██████▋   | 222/333 [38:50<05:49,  3.15s/it]"
     ]
    },
    {
     "name": "stdout",
     "output_type": "stream",
     "text": [
      "https://reviews.webmd.com/drugs/drugreview-53442-insulin-nph-purified-pork-suspension\n"
     ]
    },
    {
     "name": "stderr",
     "output_type": "stream",
     "text": [
      " 67%|██████▋   | 223/333 [38:53<06:03,  3.30s/it]"
     ]
    },
    {
     "name": "stdout",
     "output_type": "stream",
     "text": [
      "https://reviews.webmd.com/drugs/drugreview-53443-iletin-ii-regularpork-suspension\n"
     ]
    },
    {
     "name": "stderr",
     "output_type": "stream",
     "text": [
      " 67%|██████▋   | 224/333 [38:57<06:04,  3.34s/it]"
     ]
    },
    {
     "name": "stdout",
     "output_type": "stream",
     "text": [
      "https://reviews.webmd.com/drugs/drugreview-53444-insulin-l-pork-purified-suspension\n"
     ]
    },
    {
     "name": "stderr",
     "output_type": "stream",
     "text": [
      " 68%|██████▊   | 225/333 [39:00<05:49,  3.24s/it]"
     ]
    },
    {
     "name": "stdout",
     "output_type": "stream",
     "text": [
      "https://reviews.webmd.com/drugs/drugreview-53445-insulin-r-pork-purified-suspension\n"
     ]
    },
    {
     "name": "stderr",
     "output_type": "stream",
     "text": [
      " 68%|██████▊   | 226/333 [39:02<05:32,  3.11s/it]"
     ]
    },
    {
     "name": "stdout",
     "output_type": "stream",
     "text": [
      "https://reviews.webmd.com/drugs/drugreview-53446-iletin-ii-nphpork-suspension\n"
     ]
    },
    {
     "name": "stderr",
     "output_type": "stream",
     "text": [
      " 68%|██████▊   | 228/333 [39:07<04:49,  2.76s/it]"
     ]
    },
    {
     "name": "stdout",
     "output_type": "stream",
     "text": [
      "skipping https://reviews.webmd.com/drugs/drugreview-53447-insulin-l-purified-pork-suspension: page not found\n"
     ]
    },
    {
     "name": "stderr",
     "output_type": "stream",
     "text": [
      " 69%|██████▉   | 229/333 [39:09<04:21,  2.52s/it]"
     ]
    },
    {
     "name": "stdout",
     "output_type": "stream",
     "text": [
      "skipping https://reviews.webmd.com/drugs/drugreview-53448-insulin-lente-purified-pork-suspension: page not found\n"
     ]
    },
    {
     "name": "stderr",
     "output_type": "stream",
     "text": [
      " 69%|██████▉   | 230/333 [39:11<03:55,  2.29s/it]"
     ]
    },
    {
     "name": "stdout",
     "output_type": "stream",
     "text": [
      "skipping https://reviews.webmd.com/drugs/drugreview-53449-velosulin-human-r-solution: page not found\n"
     ]
    },
    {
     "name": "stderr",
     "output_type": "stream",
     "text": [
      " 69%|██████▉   | 231/333 [39:13<03:48,  2.24s/it]"
     ]
    },
    {
     "name": "stdout",
     "output_type": "stream",
     "text": [
      "skipping https://reviews.webmd.com/drugs/drugreview-53450-velosulin-human-br-solution: page not found\n"
     ]
    },
    {
     "name": "stderr",
     "output_type": "stream",
     "text": [
      " 70%|██████▉   | 232/333 [39:15<03:36,  2.14s/it]"
     ]
    },
    {
     "name": "stdout",
     "output_type": "stream",
     "text": [
      "skipping https://reviews.webmd.com/drugs/drugreview-53451-velosulin-human-solution: page not found\n"
     ]
    },
    {
     "name": "stderr",
     "output_type": "stream",
     "text": [
      " 70%|██████▉   | 233/333 [39:17<03:27,  2.08s/it]"
     ]
    },
    {
     "name": "stdout",
     "output_type": "stream",
     "text": [
      "skipping https://reviews.webmd.com/drugs/drugreview-53452-humulin-br-solution: page not found\n"
     ]
    },
    {
     "name": "stderr",
     "output_type": "stream",
     "text": [
      " 70%|███████   | 234/333 [39:19<03:24,  2.06s/it]"
     ]
    },
    {
     "name": "stdout",
     "output_type": "stream",
     "text": [
      "skipping https://reviews.webmd.com/drugs/drugreview-53453-glucamide-tablet: page not found\n"
     ]
    },
    {
     "name": "stderr",
     "output_type": "stream",
     "text": [
      " 71%|███████   | 235/333 [39:21<03:28,  2.12s/it]"
     ]
    },
    {
     "name": "stdout",
     "output_type": "stream",
     "text": [
      "skipping https://reviews.webmd.com/drugs/drugreview-53454-dibatrol-tablet: page not found\n"
     ]
    },
    {
     "name": "stderr",
     "output_type": "stream",
     "text": [
      " 71%|███████   | 236/333 [39:24<03:24,  2.11s/it]"
     ]
    },
    {
     "name": "stdout",
     "output_type": "stream",
     "text": [
      "skipping https://reviews.webmd.com/drugs/drugreview-53455-chlorabetic-tablet: page not found\n"
     ]
    },
    {
     "name": "stderr",
     "output_type": "stream",
     "text": [
      " 71%|███████   | 237/333 [39:26<03:21,  2.10s/it]"
     ]
    },
    {
     "name": "stdout",
     "output_type": "stream",
     "text": [
      "skipping https://reviews.webmd.com/drugs/drugreview-53456-ronase-tablet: page not found\n"
     ]
    },
    {
     "name": "stderr",
     "output_type": "stream",
     "text": [
      " 71%|███████▏  | 238/333 [39:28<03:17,  2.08s/it]"
     ]
    },
    {
     "name": "stdout",
     "output_type": "stream",
     "text": [
      "skipping https://reviews.webmd.com/drugs/drugreview-53457-tolamide-tablet: page not found\n"
     ]
    },
    {
     "name": "stderr",
     "output_type": "stream",
     "text": [
      " 72%|███████▏  | 239/333 [39:30<03:15,  2.08s/it]"
     ]
    },
    {
     "name": "stdout",
     "output_type": "stream",
     "text": [
      "skipping https://reviews.webmd.com/drugs/drugreview-53458-sk-tolbutamide-tablet: page not found\n"
     ]
    },
    {
     "name": "stderr",
     "output_type": "stream",
     "text": [
      " 72%|███████▏  | 240/333 [39:32<03:12,  2.07s/it]"
     ]
    },
    {
     "name": "stdout",
     "output_type": "stream",
     "text": [
      "skipping https://reviews.webmd.com/drugs/drugreview-53459-icn-tolam-tablet: page not found\n"
     ]
    },
    {
     "name": "stderr",
     "output_type": "stream",
     "text": [
      " 72%|███████▏  | 241/333 [39:34<03:08,  2.05s/it]"
     ]
    },
    {
     "name": "stdout",
     "output_type": "stream",
     "text": [
      "skipping https://reviews.webmd.com/drugs/drugreview-53460-oribetic-tablet: page not found\n",
      "https://reviews.webmd.com/drugs/drugreview-5953-humulin-n-vial\n"
     ]
    },
    {
     "name": "stderr",
     "output_type": "stream",
     "text": [
      "100%|██████████| 1/1 [00:01<00:00,  1.78s/it]\n",
      " 73%|███████▎  | 243/333 [39:41<03:55,  2.62s/it]"
     ]
    },
    {
     "name": "stdout",
     "output_type": "stream",
     "text": [
      "skipping https://reviews.webmd.com/drugs/drugreview-6021-insulin-zinc-human-recomb-suspension: page not found\n"
     ]
    },
    {
     "name": "stderr",
     "output_type": "stream",
     "text": [
      " 73%|███████▎  | 244/333 [39:43<03:38,  2.46s/it]"
     ]
    },
    {
     "name": "stdout",
     "output_type": "stream",
     "text": [
      "skipping https://reviews.webmd.com/drugs/drugreview-6154-tolinase-tablet: page not found\n",
      "https://reviews.webmd.com/drugs/drugreview-6158-insulin-nph-isoph-u-human-suspension\n"
     ]
    },
    {
     "name": "stderr",
     "output_type": "stream",
     "text": [
      "100%|██████████| 1/1 [00:01<00:00,  1.60s/it]\n",
      " 74%|███████▎  | 245/333 [39:48<04:40,  3.19s/it]"
     ]
    },
    {
     "name": "stdout",
     "output_type": "stream",
     "text": [
      "https://reviews.webmd.com/drugs/drugreview-6159-insulin-nph-and-regular-human-suspension\n"
     ]
    },
    {
     "name": "stderr",
     "output_type": "stream",
     "text": [
      "100%|██████████| 1/1 [00:01<00:00,  1.86s/it]\n",
      " 74%|███████▍  | 247/333 [39:55<04:36,  3.21s/it]"
     ]
    },
    {
     "name": "stdout",
     "output_type": "stream",
     "text": [
      "skipping https://reviews.webmd.com/drugs/drugreview-6237-orinase-tablet: page not found\n",
      "https://reviews.webmd.com/drugs/drugreview-63178-humulin-suspension\n"
     ]
    },
    {
     "name": "stderr",
     "output_type": "stream",
     "text": [
      " 75%|███████▍  | 249/333 [40:00<04:00,  2.87s/it]"
     ]
    },
    {
     "name": "stdout",
     "output_type": "stream",
     "text": [
      "skipping https://reviews.webmd.com/drugs/drugreview-63549-insulin-beef-solution: page not found\n"
     ]
    },
    {
     "name": "stderr",
     "output_type": "stream",
     "text": [
      " 75%|███████▌  | 250/333 [40:02<03:38,  2.64s/it]"
     ]
    },
    {
     "name": "stdout",
     "output_type": "stream",
     "text": [
      "skipping https://reviews.webmd.com/drugs/drugreview-63550-insulin-regular-human-semi-syn-cartridge: page not found\n"
     ]
    },
    {
     "name": "stderr",
     "output_type": "stream",
     "text": [
      " 75%|███████▌  | 251/333 [40:04<03:23,  2.48s/it]"
     ]
    },
    {
     "name": "stdout",
     "output_type": "stream",
     "text": [
      "skipping https://reviews.webmd.com/drugs/drugreview-63552-insulin-pork-solution: page not found\n",
      "https://reviews.webmd.com/drugs/drugreview-63742-insulin-70-30-innolet-suspension\n"
     ]
    },
    {
     "name": "stderr",
     "output_type": "stream",
     "text": [
      " 76%|███████▌  | 252/333 [40:07<03:41,  2.74s/it]"
     ]
    },
    {
     "name": "stdout",
     "output_type": "stream",
     "text": [
      "https://reviews.webmd.com/drugs/drugreview-64070-insulin-aspart-prot-mix-70-30-pen\n"
     ]
    },
    {
     "name": "stderr",
     "output_type": "stream",
     "text": [
      "100%|██████████| 1/1 [00:02<00:00,  2.05s/it]\n",
      " 76%|███████▌  | 253/333 [40:13<04:39,  3.49s/it]"
     ]
    },
    {
     "name": "stdout",
     "output_type": "stream",
     "text": [
      "https://reviews.webmd.com/drugs/drugreview-64071-novolog-mix-70-30-vial\n"
     ]
    },
    {
     "name": "stderr",
     "output_type": "stream",
     "text": [
      "100%|██████████| 1/1 [00:01<00:00,  1.87s/it]\n",
      " 77%|███████▋  | 255/333 [40:20<04:28,  3.45s/it]"
     ]
    },
    {
     "name": "stdout",
     "output_type": "stream",
     "text": [
      "skipping https://reviews.webmd.com/drugs/drugreview-64227-insulin-regular-pork-conc-solution: page not found\n"
     ]
    },
    {
     "name": "stderr",
     "output_type": "stream",
     "text": [
      " 77%|███████▋  | 256/333 [40:22<03:50,  2.99s/it]"
     ]
    },
    {
     "name": "stdout",
     "output_type": "stream",
     "text": [
      "skipping https://reviews.webmd.com/drugs/drugreview-64253-rosiglitazone-metformin-tablet: page not found\n"
     ]
    },
    {
     "name": "stderr",
     "output_type": "stream",
     "text": [
      " 77%|███████▋  | 257/333 [40:24<03:29,  2.75s/it]"
     ]
    },
    {
     "name": "stdout",
     "output_type": "stream",
     "text": [
      "skipping https://reviews.webmd.com/drugs/drugreview-64261-avandamet-tablet: page not found\n",
      "https://reviews.webmd.com/drugs/drugreview-64318-glipizide-metformin\n"
     ]
    },
    {
     "name": "stderr",
     "output_type": "stream",
     "text": [
      "100%|██████████| 1/1 [00:01<00:00,  1.77s/it]\n",
      " 77%|███████▋  | 258/333 [40:29<04:22,  3.50s/it]"
     ]
    },
    {
     "name": "stdout",
     "output_type": "stream",
     "text": [
      "https://reviews.webmd.com/drugs/drugreview-64323-metaglip-tablet\n"
     ]
    },
    {
     "name": "stderr",
     "output_type": "stream",
     "text": [
      "100%|██████████| 1/1 [00:01<00:00,  1.87s/it]\n",
      " 78%|███████▊  | 260/333 [40:37<04:15,  3.50s/it]"
     ]
    },
    {
     "name": "stdout",
     "output_type": "stream",
     "text": [
      "skipping https://reviews.webmd.com/drugs/drugreview-64670-insulin-nph-regular-hum-s-syn-cartridge: page not found\n"
     ]
    },
    {
     "name": "stderr",
     "output_type": "stream",
     "text": [
      " 78%|███████▊  | 261/333 [40:39<03:36,  3.00s/it]"
     ]
    },
    {
     "name": "stdout",
     "output_type": "stream",
     "text": [
      "skipping https://reviews.webmd.com/drugs/drugreview-64671-insulin-nph-regular-pork-pure-solution: page not found\n"
     ]
    },
    {
     "name": "stderr",
     "output_type": "stream",
     "text": [
      " 79%|███████▊  | 262/333 [40:41<03:10,  2.69s/it]"
     ]
    },
    {
     "name": "stdout",
     "output_type": "stream",
     "text": [
      "skipping https://reviews.webmd.com/drugs/drugreview-64672-insulin-protamine-zinc-beef-suspension: page not found\n"
     ]
    },
    {
     "name": "stderr",
     "output_type": "stream",
     "text": [
      " 79%|███████▉  | 263/333 [40:43<02:58,  2.55s/it]"
     ]
    },
    {
     "name": "stdout",
     "output_type": "stream",
     "text": [
      "skipping https://reviews.webmd.com/drugs/drugreview-64673-insulin-protamine-zn-beef-pure-suspension: page not found\n"
     ]
    },
    {
     "name": "stderr",
     "output_type": "stream",
     "text": [
      " 79%|███████▉  | 264/333 [40:45<02:45,  2.40s/it]"
     ]
    },
    {
     "name": "stdout",
     "output_type": "stream",
     "text": [
      "skipping https://reviews.webmd.com/drugs/drugreview-64674-insulin-protamine-zn-pork-pure-suspension: page not found\n"
     ]
    },
    {
     "name": "stderr",
     "output_type": "stream",
     "text": [
      " 80%|███████▉  | 265/333 [40:47<02:33,  2.26s/it]"
     ]
    },
    {
     "name": "stdout",
     "output_type": "stream",
     "text": [
      "skipping https://reviews.webmd.com/drugs/drugreview-64675-insulin-protamine-zn-beef-pork-suspension: page not found\n"
     ]
    },
    {
     "name": "stderr",
     "output_type": "stream",
     "text": [
      " 80%|███████▉  | 266/333 [40:49<02:28,  2.22s/it]"
     ]
    },
    {
     "name": "stdout",
     "output_type": "stream",
     "text": [
      "skipping https://reviews.webmd.com/drugs/drugreview-64676-insulin-isophane-beef-suspension: page not found\n"
     ]
    },
    {
     "name": "stderr",
     "output_type": "stream",
     "text": [
      " 80%|████████  | 267/333 [40:51<02:23,  2.17s/it]"
     ]
    },
    {
     "name": "stdout",
     "output_type": "stream",
     "text": [
      "skipping https://reviews.webmd.com/drugs/drugreview-64677-insulin-isophane-beef-pure-suspension: page not found\n",
      "https://reviews.webmd.com/drugs/drugreview-64678-insulin-nph-human-semi-syn-suspension\n"
     ]
    },
    {
     "name": "stderr",
     "output_type": "stream",
     "text": [
      "100%|██████████| 1/1 [00:01<00:00,  1.79s/it]\n",
      " 81%|████████  | 269/333 [40:59<02:56,  2.76s/it]"
     ]
    },
    {
     "name": "stdout",
     "output_type": "stream",
     "text": [
      "skipping https://reviews.webmd.com/drugs/drugreview-64679-ins-zn-bf-pure-ins-pk-pure-suspension: page not found\n"
     ]
    },
    {
     "name": "stderr",
     "output_type": "stream",
     "text": [
      " 81%|████████  | 270/333 [41:01<02:35,  2.48s/it]"
     ]
    },
    {
     "name": "stdout",
     "output_type": "stream",
     "text": [
      "skipping https://reviews.webmd.com/drugs/drugreview-64680-insulin-zinc-beef-suspension: page not found\n"
     ]
    },
    {
     "name": "stderr",
     "output_type": "stream",
     "text": [
      " 81%|████████▏ | 271/333 [41:02<02:22,  2.30s/it]"
     ]
    },
    {
     "name": "stdout",
     "output_type": "stream",
     "text": [
      "skipping https://reviews.webmd.com/drugs/drugreview-64681-insulin-zinc-beef-purified-suspension: page not found\n"
     ]
    },
    {
     "name": "stderr",
     "output_type": "stream",
     "text": [
      " 82%|████████▏ | 272/333 [41:04<02:11,  2.16s/it]"
     ]
    },
    {
     "name": "stdout",
     "output_type": "stream",
     "text": [
      "skipping https://reviews.webmd.com/drugs/drugreview-64682-insulin-zinc-human-semi-syn-suspension: page not found\n"
     ]
    },
    {
     "name": "stderr",
     "output_type": "stream",
     "text": [
      " 82%|████████▏ | 273/333 [41:06<02:09,  2.16s/it]"
     ]
    },
    {
     "name": "stdout",
     "output_type": "stream",
     "text": [
      "skipping https://reviews.webmd.com/drugs/drugreview-64683-insulin-zinc-extended-beef-suspension: page not found\n"
     ]
    },
    {
     "name": "stderr",
     "output_type": "stream",
     "text": [
      " 82%|████████▏ | 274/333 [41:08<02:02,  2.07s/it]"
     ]
    },
    {
     "name": "stdout",
     "output_type": "stream",
     "text": [
      "skipping https://reviews.webmd.com/drugs/drugreview-64684-insulin-zinc-ext-beef-pure-suspension: page not found\n"
     ]
    },
    {
     "name": "stderr",
     "output_type": "stream",
     "text": [
      " 83%|████████▎ | 275/333 [41:10<01:56,  2.02s/it]"
     ]
    },
    {
     "name": "stdout",
     "output_type": "stream",
     "text": [
      "skipping https://reviews.webmd.com/drugs/drugreview-64685-insulin-zinc-ext-beef-pork-suspension: page not found\n"
     ]
    },
    {
     "name": "stderr",
     "output_type": "stream",
     "text": [
      " 83%|████████▎ | 276/333 [41:12<01:54,  2.00s/it]"
     ]
    },
    {
     "name": "stdout",
     "output_type": "stream",
     "text": [
      "skipping https://reviews.webmd.com/drugs/drugreview-64686-insulin-zinc-prompt-beef-suspension: page not found\n"
     ]
    },
    {
     "name": "stderr",
     "output_type": "stream",
     "text": [
      " 83%|████████▎ | 277/333 [41:14<01:53,  2.02s/it]"
     ]
    },
    {
     "name": "stdout",
     "output_type": "stream",
     "text": [
      "skipping https://reviews.webmd.com/drugs/drugreview-64687-insulin-zinc-prompt-pork-pure-suspension: page not found\n"
     ]
    },
    {
     "name": "stderr",
     "output_type": "stream",
     "text": [
      " 83%|████████▎ | 278/333 [41:16<01:49,  1.98s/it]"
     ]
    },
    {
     "name": "stdout",
     "output_type": "stream",
     "text": [
      "skipping https://reviews.webmd.com/drugs/drugreview-64688-insulin-zinc-prompt-beef-pork-suspension: page not found\n",
      "https://reviews.webmd.com/drugs/drugreview-64858-novolog-flexpen-insulin-pen\n"
     ]
    },
    {
     "name": "stderr",
     "output_type": "stream",
     "text": [
      "100%|██████████| 3/3 [00:06<00:00,  2.09s/it]\n",
      " 84%|████████▍ | 279/333 [41:26<03:56,  4.38s/it]"
     ]
    },
    {
     "name": "stdout",
     "output_type": "stream",
     "text": [
      "https://reviews.webmd.com/drugs/drugreview-6614-repaglinide\n"
     ]
    },
    {
     "name": "stderr",
     "output_type": "stream",
     "text": [
      "100%|██████████| 1/1 [00:02<00:00,  2.00s/it]\n",
      " 84%|████████▍ | 280/333 [41:31<04:01,  4.57s/it]"
     ]
    },
    {
     "name": "stdout",
     "output_type": "stream",
     "text": [
      "https://reviews.webmd.com/drugs/drugreview-6639-prandin-tablet\n"
     ]
    },
    {
     "name": "stderr",
     "output_type": "stream",
     "text": [
      "100%|██████████| 2/2 [00:03<00:00,  1.94s/it]\n",
      " 84%|████████▍ | 281/333 [41:39<04:47,  5.54s/it]"
     ]
    },
    {
     "name": "stdout",
     "output_type": "stream",
     "text": [
      "https://reviews.webmd.com/drugs/drugreview-6836-iletin-ii-nph-pork-suspension\n"
     ]
    },
    {
     "name": "stderr",
     "output_type": "stream",
     "text": [
      " 85%|████████▍ | 282/333 [41:42<04:00,  4.72s/it]"
     ]
    },
    {
     "name": "stdout",
     "output_type": "stream",
     "text": [
      "https://reviews.webmd.com/drugs/drugreview-6837-insulin-isophane-pork-pure-suspension\n"
     ]
    },
    {
     "name": "stderr",
     "output_type": "stream",
     "text": [
      " 85%|████████▌ | 284/333 [41:47<02:52,  3.53s/it]"
     ]
    },
    {
     "name": "stdout",
     "output_type": "stream",
     "text": [
      "skipping https://reviews.webmd.com/drugs/drugreview-6842-insulin-purified-lente-pork-suspension: page not found\n"
     ]
    },
    {
     "name": "stderr",
     "output_type": "stream",
     "text": [
      " 86%|████████▌ | 285/333 [41:49<02:26,  3.04s/it]"
     ]
    },
    {
     "name": "stdout",
     "output_type": "stream",
     "text": [
      "skipping https://reviews.webmd.com/drugs/drugreview-6843-insulin-zinc-pork-purified-suspension: page not found\n"
     ]
    },
    {
     "name": "stderr",
     "output_type": "stream",
     "text": [
      " 86%|████████▌ | 286/333 [41:50<02:05,  2.68s/it]"
     ]
    },
    {
     "name": "stdout",
     "output_type": "stream",
     "text": [
      "skipping https://reviews.webmd.com/drugs/drugreview-7359-humulin-u-insulin-suspension: page not found\n"
     ]
    },
    {
     "name": "stderr",
     "output_type": "stream",
     "text": [
      " 86%|████████▌ | 287/333 [41:52<01:55,  2.50s/it]"
     ]
    },
    {
     "name": "stdout",
     "output_type": "stream",
     "text": [
      "skipping https://reviews.webmd.com/drugs/drugreview-7360-insulin-zinc-extended-human-suspension: page not found\n"
     ]
    },
    {
     "name": "stderr",
     "output_type": "stream",
     "text": [
      " 86%|████████▋ | 288/333 [41:55<01:46,  2.38s/it]"
     ]
    },
    {
     "name": "stdout",
     "output_type": "stream",
     "text": [
      "skipping https://reviews.webmd.com/drugs/drugreview-7599-iletin-i-nph-suspension: page not found\n"
     ]
    },
    {
     "name": "stderr",
     "output_type": "stream",
     "text": [
      " 87%|████████▋ | 289/333 [41:56<01:38,  2.24s/it]"
     ]
    },
    {
     "name": "stdout",
     "output_type": "stream",
     "text": [
      "skipping https://reviews.webmd.com/drugs/drugreview-7600-insulin-nph-beef-pork-suspension: page not found\n"
     ]
    },
    {
     "name": "stderr",
     "output_type": "stream",
     "text": [
      " 87%|████████▋ | 290/333 [42:00<01:47,  2.49s/it]"
     ]
    },
    {
     "name": "stdout",
     "output_type": "stream",
     "text": [
      "skipping https://reviews.webmd.com/drugs/drugreview-76307-novolin-l-suspension: page not found\n",
      "https://reviews.webmd.com/drugs/drugreview-76308-novolin-n-vial\n"
     ]
    },
    {
     "name": "stderr",
     "output_type": "stream",
     "text": [
      "100%|██████████| 1/1 [00:01<00:00,  1.74s/it]\n",
      " 87%|████████▋ | 291/333 [42:05<02:21,  3.38s/it]"
     ]
    },
    {
     "name": "stdout",
     "output_type": "stream",
     "text": [
      "https://reviews.webmd.com/drugs/drugreview-77963-riomet\n"
     ]
    },
    {
     "name": "stderr",
     "output_type": "stream",
     "text": [
      "100%|██████████| 1/1 [00:03<00:00,  3.19s/it]\n",
      " 88%|████████▊ | 292/333 [42:11<02:55,  4.28s/it]"
     ]
    },
    {
     "name": "stdout",
     "output_type": "stream",
     "text": [
      "https://reviews.webmd.com/drugs/drugreview-78112-insulin-nph-innolet-pen\n"
     ]
    },
    {
     "name": "stderr",
     "output_type": "stream",
     "text": [
      " 88%|████████▊ | 293/333 [42:14<02:34,  3.87s/it]"
     ]
    },
    {
     "name": "stdout",
     "output_type": "stream",
     "text": [
      "https://reviews.webmd.com/drugs/drugreview-78113-insulin-nph-reg-innolet-pen\n"
     ]
    },
    {
     "name": "stderr",
     "output_type": "stream",
     "text": [
      " 88%|████████▊ | 294/333 [42:18<02:24,  3.70s/it]"
     ]
    },
    {
     "name": "stdout",
     "output_type": "stream",
     "text": [
      "https://reviews.webmd.com/drugs/drugreview-8068-micronase-tablet\n"
     ]
    },
    {
     "name": "stderr",
     "output_type": "stream",
     "text": [
      "100%|██████████| 1/1 [00:01<00:00,  1.71s/it]\n",
      " 89%|████████▉ | 296/333 [42:25<02:09,  3.51s/it]"
     ]
    },
    {
     "name": "stdout",
     "output_type": "stream",
     "text": [
      "skipping https://reviews.webmd.com/drugs/drugreview-8635-chlorpropamide-tablet: page not found\n"
     ]
    },
    {
     "name": "stderr",
     "output_type": "stream",
     "text": [
      " 89%|████████▉ | 297/333 [42:27<01:50,  3.06s/it]"
     ]
    },
    {
     "name": "stdout",
     "output_type": "stream",
     "text": [
      "skipping https://reviews.webmd.com/drugs/drugreview-8719-tolazamide-tablet: page not found\n",
      "https://reviews.webmd.com/drugs/drugreview-88973-novolin-70-30-innolet-insulin-pen\n"
     ]
    },
    {
     "name": "stderr",
     "output_type": "stream",
     "text": [
      "100%|██████████| 1/1 [00:01<00:00,  1.82s/it]\n",
      " 89%|████████▉ | 298/333 [42:32<02:08,  3.67s/it]"
     ]
    },
    {
     "name": "stdout",
     "output_type": "stream",
     "text": [
      "https://reviews.webmd.com/drugs/drugreview-89227-fortamet\n"
     ]
    },
    {
     "name": "stderr",
     "output_type": "stream",
     "text": [
      "100%|██████████| 2/2 [00:03<00:00,  1.93s/it]\n",
      " 90%|████████▉ | 299/333 [42:40<02:46,  4.89s/it]"
     ]
    },
    {
     "name": "stdout",
     "output_type": "stream",
     "text": [
      "https://reviews.webmd.com/drugs/drugreview-90540-glipizide-xl-tablet-osmotic-push-tablet-er-push\n"
     ]
    },
    {
     "name": "stderr",
     "output_type": "stream",
     "text": [
      " 90%|█████████ | 301/333 [42:46<02:01,  3.81s/it]"
     ]
    },
    {
     "name": "stdout",
     "output_type": "stream",
     "text": [
      "skipping https://reviews.webmd.com/drugs/drugreview-90872-insulin-lente-beef-suspension: page not found\n"
     ]
    },
    {
     "name": "stderr",
     "output_type": "stream",
     "text": [
      " 91%|█████████ | 302/333 [42:48<01:46,  3.43s/it]"
     ]
    },
    {
     "name": "stdout",
     "output_type": "stream",
     "text": [
      "skipping https://reviews.webmd.com/drugs/drugreview-90873-insulin-nph-beef-suspension: page not found\n"
     ]
    },
    {
     "name": "stderr",
     "output_type": "stream",
     "text": [
      " 91%|█████████ | 303/333 [42:50<01:30,  3.03s/it]"
     ]
    },
    {
     "name": "stdout",
     "output_type": "stream",
     "text": [
      "skipping https://reviews.webmd.com/drugs/drugreview-91890-iletin-i-protamine-zinc-suspension: page not found\n"
     ]
    },
    {
     "name": "stderr",
     "output_type": "stream",
     "text": [
      " 91%|█████████▏| 304/333 [42:52<01:19,  2.72s/it]"
     ]
    },
    {
     "name": "stdout",
     "output_type": "stream",
     "text": [
      "skipping https://reviews.webmd.com/drugs/drugreview-91891-iletin-ii-protamine-zincpork-suspension: page not found\n"
     ]
    },
    {
     "name": "stderr",
     "output_type": "stream",
     "text": [
      " 92%|█████████▏| 305/333 [42:54<01:09,  2.50s/it]"
     ]
    },
    {
     "name": "stdout",
     "output_type": "stream",
     "text": [
      "skipping https://reviews.webmd.com/drugs/drugreview-91892-iletin-ii-protamine-zincbeef-suspension: page not found\n"
     ]
    },
    {
     "name": "stderr",
     "output_type": "stream",
     "text": [
      " 92%|█████████▏| 306/333 [42:56<01:03,  2.34s/it]"
     ]
    },
    {
     "name": "stdout",
     "output_type": "stream",
     "text": [
      "skipping https://reviews.webmd.com/drugs/drugreview-91893-iletin-ii-regularbeef-solution: page not found\n"
     ]
    },
    {
     "name": "stderr",
     "output_type": "stream",
     "text": [
      " 92%|█████████▏| 307/333 [42:58<00:56,  2.17s/it]"
     ]
    },
    {
     "name": "stdout",
     "output_type": "stream",
     "text": [
      "skipping https://reviews.webmd.com/drugs/drugreview-91895-iletin-ii-lentebeef-suspension: page not found\n"
     ]
    },
    {
     "name": "stderr",
     "output_type": "stream",
     "text": [
      " 92%|█████████▏| 308/333 [43:00<00:52,  2.08s/it]"
     ]
    },
    {
     "name": "stdout",
     "output_type": "stream",
     "text": [
      "skipping https://reviews.webmd.com/drugs/drugreview-91896-iletin-ii-regularporkconc-solution: page not found\n"
     ]
    },
    {
     "name": "stderr",
     "output_type": "stream",
     "text": [
      " 93%|█████████▎| 309/333 [43:02<00:49,  2.06s/it]"
     ]
    },
    {
     "name": "stdout",
     "output_type": "stream",
     "text": [
      "skipping https://reviews.webmd.com/drugs/drugreview-91897-iletin-i-semilente-suspension: page not found\n"
     ]
    },
    {
     "name": "stderr",
     "output_type": "stream",
     "text": [
      " 93%|█████████▎| 310/333 [43:04<00:48,  2.09s/it]"
     ]
    },
    {
     "name": "stdout",
     "output_type": "stream",
     "text": [
      "skipping https://reviews.webmd.com/drugs/drugreview-91898-iletin-i-ultralente-suspension: page not found\n",
      "https://reviews.webmd.com/drugs/drugreview-91900-insulatard-human-n-suspension\n"
     ]
    },
    {
     "name": "stderr",
     "output_type": "stream",
     "text": [
      " 94%|█████████▎| 312/333 [43:09<00:46,  2.22s/it]"
     ]
    },
    {
     "name": "stdout",
     "output_type": "stream",
     "text": [
      "skipping https://reviews.webmd.com/drugs/drugreview-91915-mixtard-70-30-solution: page not found\n"
     ]
    },
    {
     "name": "stderr",
     "output_type": "stream",
     "text": [
      " 94%|█████████▍| 313/333 [43:11<00:45,  2.25s/it]"
     ]
    },
    {
     "name": "stdout",
     "output_type": "stream",
     "text": [
      "skipping https://reviews.webmd.com/drugs/drugreview-91917-mixtard-human-70-30-solution: page not found\n"
     ]
    },
    {
     "name": "stderr",
     "output_type": "stream",
     "text": [
      " 94%|█████████▍| 314/333 [43:13<00:40,  2.14s/it]"
     ]
    },
    {
     "name": "stdout",
     "output_type": "stream",
     "text": [
      "skipping https://reviews.webmd.com/drugs/drugreview-91932-monotard-human-lente-suspension: page not found\n"
     ]
    },
    {
     "name": "stderr",
     "output_type": "stream",
     "text": [
      " 95%|█████████▍| 315/333 [43:15<00:37,  2.09s/it]"
     ]
    },
    {
     "name": "stdout",
     "output_type": "stream",
     "text": [
      "skipping https://reviews.webmd.com/drugs/drugreview-91935-lentard-insulin-purified-suspension: page not found\n",
      "https://reviews.webmd.com/drugs/drugreview-93223-exenatide-pen-injector\n"
     ]
    },
    {
     "name": "stderr",
     "output_type": "stream",
     "text": [
      "100%|██████████| 1/1 [00:01<00:00,  1.56s/it]\n",
      " 95%|█████████▍| 316/333 [43:20<00:48,  2.85s/it]"
     ]
    },
    {
     "name": "stdout",
     "output_type": "stream",
     "text": [
      "https://reviews.webmd.com/drugs/drugreview-93242-byetta-pen-injector\n"
     ]
    },
    {
     "name": "stderr",
     "output_type": "stream",
     "text": [
      "100%|██████████| 21/21 [00:45<00:00,  2.18s/it]\n",
      " 95%|█████████▌| 317/333 [44:09<04:27, 16.72s/it]"
     ]
    },
    {
     "name": "stdout",
     "output_type": "stream",
     "text": [
      "https://reviews.webmd.com/drugs/drugreview-93248-novolin-r-innolet-insulin-pen\n"
     ]
    },
    {
     "name": "stderr",
     "output_type": "stream",
     "text": [
      " 95%|█████████▌| 318/333 [44:12<03:09, 12.63s/it]"
     ]
    },
    {
     "name": "stdout",
     "output_type": "stream",
     "text": [
      "https://reviews.webmd.com/drugs/drugreview-94011-insulin-detemir-u-solution\n"
     ]
    },
    {
     "name": "stderr",
     "output_type": "stream",
     "text": [
      "100%|██████████| 1/1 [00:03<00:00,  3.01s/it]\n",
      " 96%|█████████▌| 319/333 [44:18<02:29, 10.69s/it]"
     ]
    },
    {
     "name": "stdout",
     "output_type": "stream",
     "text": [
      "https://reviews.webmd.com/drugs/drugreview-94092-novolog-mix-70-30-flexpen-insulin-pen\n"
     ]
    },
    {
     "name": "stderr",
     "output_type": "stream",
     "text": [
      "100%|██████████| 2/2 [00:04<00:00,  2.02s/it]\n",
      " 96%|█████████▌| 320/333 [44:26<02:07,  9.79s/it]"
     ]
    },
    {
     "name": "stdout",
     "output_type": "stream",
     "text": [
      "https://reviews.webmd.com/drugs/drugreview-94097-pioglitazone-metformin\n"
     ]
    },
    {
     "name": "stderr",
     "output_type": "stream",
     "text": [
      "100%|██████████| 1/1 [00:02<00:00,  2.05s/it]\n",
      " 96%|█████████▋| 321/333 [44:31<01:41,  8.47s/it]"
     ]
    },
    {
     "name": "stdout",
     "output_type": "stream",
     "text": [
      "https://reviews.webmd.com/drugs/drugreview-94140-actoplus-met\n"
     ]
    },
    {
     "name": "stderr",
     "output_type": "stream",
     "text": [
      "100%|██████████| 4/4 [00:07<00:00,  1.97s/it]\n",
      " 97%|█████████▋| 322/333 [44:44<01:47,  9.73s/it]"
     ]
    },
    {
     "name": "stdout",
     "output_type": "stream",
     "text": [
      "https://reviews.webmd.com/drugs/drugreview-94376-novolin-n-innolet-insulin-pen\n"
     ]
    },
    {
     "name": "stderr",
     "output_type": "stream",
     "text": [
      "100%|██████████| 1/1 [00:01<00:00,  1.63s/it]\n",
      " 97%|█████████▋| 324/333 [44:50<00:57,  6.37s/it]"
     ]
    },
    {
     "name": "stdout",
     "output_type": "stream",
     "text": [
      "skipping https://reviews.webmd.com/drugs/drugreview-94692-rosiglitazone-glimepiride-tablet: page not found\n"
     ]
    },
    {
     "name": "stderr",
     "output_type": "stream",
     "text": [
      " 98%|█████████▊| 325/333 [44:53<00:40,  5.09s/it]"
     ]
    },
    {
     "name": "stdout",
     "output_type": "stream",
     "text": [
      "skipping https://reviews.webmd.com/drugs/drugreview-94833-avandaryl-tablet: page not found\n",
      "https://reviews.webmd.com/drugs/drugreview-94838-insulin-glulisine-u-solution\n"
     ]
    },
    {
     "name": "stderr",
     "output_type": "stream",
     "text": [
      " 98%|█████████▊| 326/333 [44:57<00:33,  4.79s/it]"
     ]
    },
    {
     "name": "stdout",
     "output_type": "stream",
     "text": [
      "https://reviews.webmd.com/drugs/drugreview-94890-apidra-vial\n"
     ]
    },
    {
     "name": "stderr",
     "output_type": "stream",
     "text": [
      "100%|██████████| 1/1 [00:02<00:00,  2.07s/it]\n",
      " 98%|█████████▊| 327/333 [45:03<00:31,  5.31s/it]"
     ]
    },
    {
     "name": "stdout",
     "output_type": "stream",
     "text": [
      "https://reviews.webmd.com/drugs/drugreview-94930-humalog-mix-50-50-vial\n"
     ]
    },
    {
     "name": "stderr",
     "output_type": "stream",
     "text": [
      "100%|██████████| 1/1 [00:02<00:00,  2.34s/it]\n",
      " 99%|█████████▉| 329/333 [45:11<00:17,  4.34s/it]"
     ]
    },
    {
     "name": "stdout",
     "output_type": "stream",
     "text": [
      "skipping https://reviews.webmd.com/drugs/drugreview-94948-novolin-70-30-semi-synthetic-cartridge: page not found\n",
      "https://reviews.webmd.com/drugs/drugreview-95012-insulin-regular-human-cartridge-with-inhaler\n"
     ]
    },
    {
     "name": "stderr",
     "output_type": "stream",
     "text": [
      "100%|██████████| 1/1 [00:01<00:00,  1.84s/it]\n",
      " 99%|█████████▉| 330/333 [45:16<00:13,  4.59s/it]"
     ]
    },
    {
     "name": "stdout",
     "output_type": "stream",
     "text": [
      "https://reviews.webmd.com/drugs/drugreview-95095-levemir-vial\n"
     ]
    },
    {
     "name": "stderr",
     "output_type": "stream",
     "text": [
      "100%|██████████| 3/3 [00:06<00:00,  2.03s/it]\n",
      " 99%|█████████▉| 331/333 [45:26<00:12,  6.24s/it]"
     ]
    },
    {
     "name": "stdout",
     "output_type": "stream",
     "text": [
      "https://reviews.webmd.com/drugs/drugreview-95096-levemir-flexpen-insulin-pen\n"
     ]
    },
    {
     "name": "stderr",
     "output_type": "stream",
     "text": [
      "100%|██████████| 11/11 [00:22<00:00,  2.03s/it]\n",
      "100%|██████████| 333/333 [45:54<00:00,  8.27s/it]"
     ]
    },
    {
     "name": "stdout",
     "output_type": "stream",
     "text": [
      "skipping https://reviews.webmd.com/drugs/drugreview-9724-insulase-tablet: page not found\n"
     ]
    },
    {
     "name": "stderr",
     "output_type": "stream",
     "text": [
      "\n"
     ]
    }
   ],
   "source": [
    "#all drugs\n",
    "for review_url in tqdm(review_urls):\n",
    "    response = requests.get(review_url, headers=headers)\n",
    "    if response.url == 'https://www.webmd.com/404':\n",
    "        print(f'skipping {review_url}: page not found')\n",
    "    else:\n",
    "        print(review_url)\n",
    "        reviews_df = crawl_reviews_pages(review_url, reviews_df)\n",
    "        \n",
    "reviews_df.to_csv('../../data/datasets/t2diabetes_reviews.csv')\n"
   ]
  }
 ],
 "metadata": {
  "kernelspec": {
   "display_name": "rioxarray_env",
   "language": "python",
   "name": "python3"
  },
  "language_info": {
   "codemirror_mode": {
    "name": "ipython",
    "version": 3
   },
   "file_extension": ".py",
   "mimetype": "text/x-python",
   "name": "python",
   "nbconvert_exporter": "python",
   "pygments_lexer": "ipython3",
   "version": "3.9.18"
  }
 },
 "nbformat": 4,
 "nbformat_minor": 2
}
