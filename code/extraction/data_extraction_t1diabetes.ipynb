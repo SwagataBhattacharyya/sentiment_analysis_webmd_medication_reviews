{
 "cells": [
  {
   "cell_type": "markdown",
   "metadata": {},
   "source": [
    "Medication reviews extracted from webmd for diabetes type 2 mellitus.\n",
    "\n",
    "Source code applied to extract reviews from web.MD: 'https://github.com/sepidehparhami/scraping-webmd-drug-reviews/tree/main'. "
   ]
  },
  {
   "cell_type": "code",
   "execution_count": 1,
   "metadata": {},
   "outputs": [
    {
     "data": {
      "text/plain": [
       "array(['https://reviews.webmd.com/drugs/drugreview-11926-insulin-reg-human-buffered-solution',\n",
       "       'https://reviews.webmd.com/drugs/drugreview-11965-insulin-regular-beef-pork-solution',\n",
       "       'https://reviews.webmd.com/drugs/drugreview-11967-insulin-zinc-beef-pork-suspension',\n",
       "       'https://reviews.webmd.com/drugs/drugreview-11968-iletin-i-lente-suspension',\n",
       "       'https://reviews.webmd.com/drugs/drugreview-11969-iletin-i-regular-solution',\n",
       "       'https://reviews.webmd.com/drugs/drugreview-11970-iletin-ii-lente-pork-suspension',\n",
       "       'https://reviews.webmd.com/drugs/drugreview-11971-insulin-purified-nph-pork-suspension',\n",
       "       'https://reviews.webmd.com/drugs/drugreview-11981-insulin-regular-pork-solution',\n",
       "       'https://reviews.webmd.com/drugs/drugreview-11982-iletin-ii-regular-pork-solution',\n",
       "       'https://reviews.webmd.com/drugs/drugreview-13818-humalog-cartridge',\n",
       "       'https://reviews.webmd.com/drugs/drugreview-144565-insulin-combo-pack-combination-package',\n",
       "       'https://reviews.webmd.com/drugs/drugreview-144567-insulin-kit-inhaler',\n",
       "       'https://reviews.webmd.com/drugs/drugreview-144581-exubera-kit-inhaler',\n",
       "       'https://reviews.webmd.com/drugs/drugreview-144582-exubera-combination-pack-15-package',\n",
       "       'https://reviews.webmd.com/drugs/drugreview-144583-exubera-combination-pack-12-package',\n",
       "       'https://reviews.webmd.com/drugs/drugreview-14461-humulin-l-suspension',\n",
       "       'https://reviews.webmd.com/drugs/drugreview-14536-insulin-regular-human-pen',\n",
       "       'https://reviews.webmd.com/drugs/drugreview-1468-novolin-70-30-vial',\n",
       "       'https://reviews.webmd.com/drugs/drugreview-1469-novolin-l-semi-synthetic-suspension',\n",
       "       'https://reviews.webmd.com/drugs/drugreview-1470-novolin-n-semi-synthetic-suspension',\n",
       "       'https://reviews.webmd.com/drugs/drugreview-1471-novolin-r-vial',\n",
       "       'https://reviews.webmd.com/drugs/drugreview-147838-exubera-patient-pack-combination-package',\n",
       "       'https://reviews.webmd.com/drugs/drugreview-14850-humulin-50-50-suspension',\n",
       "       'https://reviews.webmd.com/drugs/drugreview-148652-lantus-solostar-insulin-pen',\n",
       "       'https://reviews.webmd.com/drugs/drugreview-149828-humalog-kwikpen-u-100-insulin-pen',\n",
       "       'https://reviews.webmd.com/drugs/drugreview-149829-humalog-mix-75-25-kwikpen-insulin-pen',\n",
       "       'https://reviews.webmd.com/drugs/drugreview-149830-humalog-mix-50-50-kwikpen-insulin-pen',\n",
       "       'https://reviews.webmd.com/drugs/drugreview-152040-apidra-solostar-insulin-pen',\n",
       "       'https://reviews.webmd.com/drugs/drugreview-155005-novolog-penfill-cartridge',\n",
       "       'https://reviews.webmd.com/drugs/drugreview-164719-novolin-r-penfill-semi-synth-cartridge',\n",
       "       'https://reviews.webmd.com/drugs/drugreview-165589-insulin-degludec-pen-u-200',\n",
       "       'https://reviews.webmd.com/drugs/drugreview-165658-humulin-70-30-kwikpen-insulin-pen',\n",
       "       'https://reviews.webmd.com/drugs/drugreview-165659-humulin-n-kwikpen-insulin-pen',\n",
       "       'https://reviews.webmd.com/drugs/drugreview-166327-levemir-flextouch-insulin-pen',\n",
       "       'https://reviews.webmd.com/drugs/drugreview-167500-afrezza-cartridge-with-inhaler',\n",
       "       'https://reviews.webmd.com/drugs/drugreview-167874-toujeo-solostar-insulin-pen',\n",
       "       'https://reviews.webmd.com/drugs/drugreview-16873-humulin-70-30-insulin-pen-syringe',\n",
       "       'https://reviews.webmd.com/drugs/drugreview-16874-humulin-n-pen-syringe',\n",
       "       'https://reviews.webmd.com/drugs/drugreview-16875-humalog-pen-insulin',\n",
       "       'https://reviews.webmd.com/drugs/drugreview-16875-humalog-pen-syringe',\n",
       "       'https://reviews.webmd.com/drugs/drugreview-170029-tresiba-flextouch-u-100-insulin-pen',\n",
       "       'https://reviews.webmd.com/drugs/drugreview-170030-tresiba-flextouch-u-200-insulin-pen',\n",
       "       'https://reviews.webmd.com/drugs/drugreview-170716-basaglar-kwikpen-u-100-insulin-pen',\n",
       "       'https://reviews.webmd.com/drugs/drugreview-173266-insulin-aspart-niacinamide-cartridge',\n",
       "       'https://reviews.webmd.com/drugs/drugreview-173268-fiasp-vial',\n",
       "       'https://reviews.webmd.com/drugs/drugreview-173286-fiasp-flextouch-insulin-pen',\n",
       "       'https://reviews.webmd.com/drugs/drugreview-173287-fiasp-penfill-cartridge',\n",
       "       'https://reviews.webmd.com/drugs/drugreview-174012-humalog-junior-kwikpen-insulin-pen-half-unit',\n",
       "       'https://reviews.webmd.com/drugs/drugreview-17424-insulin-lispro-protamine-mix-pen',\n",
       "       'https://reviews.webmd.com/drugs/drugreview-174575-admelog-vial',\n",
       "       'https://reviews.webmd.com/drugs/drugreview-174576-admelog-solostar-insulin-pen',\n",
       "       'https://reviews.webmd.com/drugs/drugreview-175027-toujeo-max-solostar-insulin-pen',\n",
       "       'https://reviews.webmd.com/drugs/drugreview-175773-insulin-glargine-solostar-pen',\n",
       "       'https://reviews.webmd.com/drugs/drugreview-176248-novolin-70-30-flexpen-insulin-pen',\n",
       "       'https://reviews.webmd.com/drugs/drugreview-176683-tresiba-vial',\n",
       "       'https://reviews.webmd.com/drugs/drugreview-17744-velosulin-br-solution',\n",
       "       'https://reviews.webmd.com/drugs/drugreview-17746-velosulin-br-rdna-solution',\n",
       "       'https://reviews.webmd.com/drugs/drugreview-177465-insulin-regular-in-0-9-nacl-solution',\n",
       "       'https://reviews.webmd.com/drugs/drugreview-177940-myxredlin-plastic-bag-injection',\n",
       "       'https://reviews.webmd.com/drugs/drugreview-178494-novolin-n-flexpen-insulin-pen',\n",
       "       'https://reviews.webmd.com/drugs/drugreview-178502-novolin-r-flexpen-insulin-pen',\n",
       "       'https://reviews.webmd.com/drugs/drugreview-178887-semglee-vial',\n",
       "       'https://reviews.webmd.com/drugs/drugreview-179541-insulin-lispro-aabc-solution',\n",
       "       'https://reviews.webmd.com/drugs/drugreview-179553-lyumjev-vial',\n",
       "       'https://reviews.webmd.com/drugs/drugreview-179554-lyumjev-kwikpen-u-100-insulin-pen',\n",
       "       'https://reviews.webmd.com/drugs/drugreview-179555-lyumjev-kwikpen-u-200-insulin-pen',\n",
       "       'https://reviews.webmd.com/drugs/drugreview-180007-semglee-pen-insulin',\n",
       "       'https://reviews.webmd.com/drugs/drugreview-181317-basaglar-tempo-pen-u-100-insulin-pen-sensor',\n",
       "       'https://reviews.webmd.com/drugs/drugreview-181342-humalog-tempo-pen-u-100-insulin-pen-sensor',\n",
       "       'https://reviews.webmd.com/drugs/drugreview-18179-novolin-70-30-penfill-cartridge',\n",
       "       'https://reviews.webmd.com/drugs/drugreview-18180-novolin-n-penfill-cartridge',\n",
       "       'https://reviews.webmd.com/drugs/drugreview-18181-novolin-r-penfill-cartridge',\n",
       "       'https://reviews.webmd.com/drugs/drugreview-182013-insulin-glargine-yfgn-vial',\n",
       "       'https://reviews.webmd.com/drugs/drugreview-182372-semglee-yfgn-pen-insulin',\n",
       "       'https://reviews.webmd.com/drugs/drugreview-182373-semglee-yfgn-vial',\n",
       "       'https://reviews.webmd.com/drugs/drugreview-183194-insulin-glargine-aglr-pen',\n",
       "       'https://reviews.webmd.com/drugs/drugreview-185382-lyumjev-tempo-pen-u-100-insulin-pen-sensor',\n",
       "       'https://reviews.webmd.com/drugs/drugreview-186157-rezvoglar-kwikpen-insulin-pen',\n",
       "       'https://reviews.webmd.com/drugs/drugreview-187104-donislecel-jujn-suspension',\n",
       "       'https://reviews.webmd.com/drugs/drugreview-187400-insulin-aspart-b3-pump-cart-cartridge',\n",
       "       'https://reviews.webmd.com/drugs/drugreview-187431-fiasp-pumpcart-cartridge',\n",
       "       'https://reviews.webmd.com/drugs/drugreview-187492-lantidra-plastic-bag',\n",
       "       'https://reviews.webmd.com/drugs/drugreview-19895-relion-n-innolet-suspension',\n",
       "       'https://reviews.webmd.com/drugs/drugreview-19896-relion-r-solution',\n",
       "       'https://reviews.webmd.com/drugs/drugreview-19897-insulin-70-30-suspension',\n",
       "       'https://reviews.webmd.com/drugs/drugreview-20224-humalog-mix-75-25-vial',\n",
       "       'https://reviews.webmd.com/drugs/drugreview-20805-insulin-glargine-solostar-pen',\n",
       "       'https://reviews.webmd.com/drugs/drugreview-20815-lantus-vial',\n",
       "       'https://reviews.webmd.com/drugs/drugreview-21774-insulin-aspart-penfill-cartridge',\n",
       "       'https://reviews.webmd.com/drugs/drugreview-21781-novolog-vial',\n",
       "       'https://reviews.webmd.com/drugs/drugreview-3365-insulin-purified-regularpork-solution',\n",
       "       'https://reviews.webmd.com/drugs/drugreview-3448-humulin-70-30-vial',\n",
       "       'https://reviews.webmd.com/drugs/drugreview-3486-insulin-lispro-kwikpen-u-100-pen',\n",
       "       'https://reviews.webmd.com/drugs/drugreview-5218-humulin-r-vial',\n",
       "       'https://reviews.webmd.com/drugs/drugreview-5233-insulin-regular-human-solution',\n",
       "       'https://reviews.webmd.com/drugs/drugreview-53435-velosulin-r-solution',\n",
       "       'https://reviews.webmd.com/drugs/drugreview-53436-insulin-r-purified-pork-solution',\n",
       "       'https://reviews.webmd.com/drugs/drugreview-53437-purified-pork-insulin-solution',\n",
       "       'https://reviews.webmd.com/drugs/drugreview-53438-insulin-regular-purified-pork-solution',\n",
       "       'https://reviews.webmd.com/drugs/drugreview-53439-iletin-ii-regularpork-solution',\n",
       "       'https://reviews.webmd.com/drugs/drugreview-53440-insulatard-n-suspension',\n",
       "       'https://reviews.webmd.com/drugs/drugreview-53441-insulin-n-purified-pork-suspension',\n",
       "       'https://reviews.webmd.com/drugs/drugreview-53442-insulin-nph-purified-pork-suspension',\n",
       "       'https://reviews.webmd.com/drugs/drugreview-53443-iletin-ii-regularpork-suspension',\n",
       "       'https://reviews.webmd.com/drugs/drugreview-53444-insulin-l-pork-purified-suspension',\n",
       "       'https://reviews.webmd.com/drugs/drugreview-53445-insulin-r-pork-purified-suspension',\n",
       "       'https://reviews.webmd.com/drugs/drugreview-53446-iletin-ii-nphpork-suspension',\n",
       "       'https://reviews.webmd.com/drugs/drugreview-53447-insulin-l-purified-pork-suspension',\n",
       "       'https://reviews.webmd.com/drugs/drugreview-53448-insulin-lente-purified-pork-suspension',\n",
       "       'https://reviews.webmd.com/drugs/drugreview-53449-velosulin-human-r-solution',\n",
       "       'https://reviews.webmd.com/drugs/drugreview-53450-velosulin-human-br-solution',\n",
       "       'https://reviews.webmd.com/drugs/drugreview-53451-velosulin-human-solution',\n",
       "       'https://reviews.webmd.com/drugs/drugreview-53452-humulin-br-solution',\n",
       "       'https://reviews.webmd.com/drugs/drugreview-5953-humulin-n-vial',\n",
       "       'https://reviews.webmd.com/drugs/drugreview-6021-insulin-zinc-human-recomb-suspension',\n",
       "       'https://reviews.webmd.com/drugs/drugreview-6158-insulin-nph-isoph-u-human-suspension',\n",
       "       'https://reviews.webmd.com/drugs/drugreview-6159-insulin-nph-and-regular-human-suspension',\n",
       "       'https://reviews.webmd.com/drugs/drugreview-63178-humulin-suspension',\n",
       "       'https://reviews.webmd.com/drugs/drugreview-63549-insulin-beef-solution',\n",
       "       'https://reviews.webmd.com/drugs/drugreview-63550-insulin-regular-human-semi-syn-cartridge',\n",
       "       'https://reviews.webmd.com/drugs/drugreview-63552-insulin-pork-solution',\n",
       "       'https://reviews.webmd.com/drugs/drugreview-63742-insulin-70-30-innolet-suspension',\n",
       "       'https://reviews.webmd.com/drugs/drugreview-64070-insulin-aspart-prot-mix-70-30-pen',\n",
       "       'https://reviews.webmd.com/drugs/drugreview-64071-novolog-mix-70-30-vial',\n",
       "       'https://reviews.webmd.com/drugs/drugreview-64227-insulin-regular-pork-conc-solution',\n",
       "       'https://reviews.webmd.com/drugs/drugreview-64670-insulin-nph-regular-hum-s-syn-cartridge',\n",
       "       'https://reviews.webmd.com/drugs/drugreview-64671-insulin-nph-regular-pork-pure-solution',\n",
       "       'https://reviews.webmd.com/drugs/drugreview-64672-insulin-protamine-zinc-beef-suspension',\n",
       "       'https://reviews.webmd.com/drugs/drugreview-64673-insulin-protamine-zn-beef-pure-suspension',\n",
       "       'https://reviews.webmd.com/drugs/drugreview-64674-insulin-protamine-zn-pork-pure-suspension',\n",
       "       'https://reviews.webmd.com/drugs/drugreview-64675-insulin-protamine-zn-beef-pork-suspension',\n",
       "       'https://reviews.webmd.com/drugs/drugreview-64676-insulin-isophane-beef-suspension',\n",
       "       'https://reviews.webmd.com/drugs/drugreview-64677-insulin-isophane-beef-pure-suspension',\n",
       "       'https://reviews.webmd.com/drugs/drugreview-64678-insulin-nph-human-semi-syn-suspension',\n",
       "       'https://reviews.webmd.com/drugs/drugreview-64679-ins-zn-bf-pure-ins-pk-pure-suspension',\n",
       "       'https://reviews.webmd.com/drugs/drugreview-64680-insulin-zinc-beef-suspension',\n",
       "       'https://reviews.webmd.com/drugs/drugreview-64681-insulin-zinc-beef-purified-suspension',\n",
       "       'https://reviews.webmd.com/drugs/drugreview-64682-insulin-zinc-human-semi-syn-suspension',\n",
       "       'https://reviews.webmd.com/drugs/drugreview-64683-insulin-zinc-extended-beef-suspension',\n",
       "       'https://reviews.webmd.com/drugs/drugreview-64684-insulin-zinc-ext-beef-pure-suspension',\n",
       "       'https://reviews.webmd.com/drugs/drugreview-64685-insulin-zinc-ext-beef-pork-suspension',\n",
       "       'https://reviews.webmd.com/drugs/drugreview-64686-insulin-zinc-prompt-beef-suspension',\n",
       "       'https://reviews.webmd.com/drugs/drugreview-64687-insulin-zinc-prompt-pork-pure-suspension',\n",
       "       'https://reviews.webmd.com/drugs/drugreview-64688-insulin-zinc-prompt-beef-pork-suspension',\n",
       "       'https://reviews.webmd.com/drugs/drugreview-64858-novolog-flexpen-insulin-pen',\n",
       "       'https://reviews.webmd.com/drugs/drugreview-6836-iletin-ii-nph-pork-suspension',\n",
       "       'https://reviews.webmd.com/drugs/drugreview-6837-insulin-isophane-pork-pure-suspension',\n",
       "       'https://reviews.webmd.com/drugs/drugreview-6842-insulin-purified-lente-pork-suspension',\n",
       "       'https://reviews.webmd.com/drugs/drugreview-6843-insulin-zinc-pork-purified-suspension',\n",
       "       'https://reviews.webmd.com/drugs/drugreview-7359-humulin-u-insulin-suspension',\n",
       "       'https://reviews.webmd.com/drugs/drugreview-7360-insulin-zinc-extended-human-suspension',\n",
       "       'https://reviews.webmd.com/drugs/drugreview-7599-iletin-i-nph-suspension',\n",
       "       'https://reviews.webmd.com/drugs/drugreview-7600-insulin-nph-beef-pork-suspension',\n",
       "       'https://reviews.webmd.com/drugs/drugreview-76307-novolin-l-suspension',\n",
       "       'https://reviews.webmd.com/drugs/drugreview-76308-novolin-n-vial',\n",
       "       'https://reviews.webmd.com/drugs/drugreview-78112-insulin-nph-innolet-pen',\n",
       "       'https://reviews.webmd.com/drugs/drugreview-78113-insulin-nph-reg-innolet-pen',\n",
       "       'https://reviews.webmd.com/drugs/drugreview-88973-novolin-70-30-innolet-insulin-pen',\n",
       "       'https://reviews.webmd.com/drugs/drugreview-90872-insulin-lente-beef-suspension',\n",
       "       'https://reviews.webmd.com/drugs/drugreview-90873-insulin-nph-beef-suspension',\n",
       "       'https://reviews.webmd.com/drugs/drugreview-91890-iletin-i-protamine-zinc-suspension',\n",
       "       'https://reviews.webmd.com/drugs/drugreview-91891-iletin-ii-protamine-zincpork-suspension',\n",
       "       'https://reviews.webmd.com/drugs/drugreview-91892-iletin-ii-protamine-zincbeef-suspension',\n",
       "       'https://reviews.webmd.com/drugs/drugreview-91893-iletin-ii-regularbeef-solution',\n",
       "       'https://reviews.webmd.com/drugs/drugreview-91895-iletin-ii-lentebeef-suspension',\n",
       "       'https://reviews.webmd.com/drugs/drugreview-91896-iletin-ii-regularporkconc-solution',\n",
       "       'https://reviews.webmd.com/drugs/drugreview-91897-iletin-i-semilente-suspension',\n",
       "       'https://reviews.webmd.com/drugs/drugreview-91898-iletin-i-ultralente-suspension',\n",
       "       'https://reviews.webmd.com/drugs/drugreview-91900-insulatard-human-n-suspension',\n",
       "       'https://reviews.webmd.com/drugs/drugreview-91915-mixtard-70-30-solution',\n",
       "       'https://reviews.webmd.com/drugs/drugreview-91917-mixtard-human-70-30-solution',\n",
       "       'https://reviews.webmd.com/drugs/drugreview-91932-monotard-human-lente-suspension',\n",
       "       'https://reviews.webmd.com/drugs/drugreview-91935-lentard-insulin-purified-suspension',\n",
       "       'https://reviews.webmd.com/drugs/drugreview-93248-novolin-r-innolet-insulin-pen',\n",
       "       'https://reviews.webmd.com/drugs/drugreview-94011-insulin-detemir-u-solution',\n",
       "       'https://reviews.webmd.com/drugs/drugreview-94092-novolog-mix-70-30-flexpen-insulin-pen',\n",
       "       'https://reviews.webmd.com/drugs/drugreview-94376-novolin-n-innolet-insulin-pen',\n",
       "       'https://reviews.webmd.com/drugs/drugreview-94838-insulin-glulisine-u-solution',\n",
       "       'https://reviews.webmd.com/drugs/drugreview-94890-apidra-vial',\n",
       "       'https://reviews.webmd.com/drugs/drugreview-94930-humalog-mix-50-50-vial',\n",
       "       'https://reviews.webmd.com/drugs/drugreview-94948-novolin-70-30-semi-synthetic-cartridge',\n",
       "       'https://reviews.webmd.com/drugs/drugreview-95012-insulin-regular-human-cartridge-with-inhaler',\n",
       "       'https://reviews.webmd.com/drugs/drugreview-95095-levemir-vial',\n",
       "       'https://reviews.webmd.com/drugs/drugreview-95096-levemir-flexpen-insulin-pen'],\n",
       "      dtype='<U94')"
      ]
     },
     "execution_count": 1,
     "metadata": {},
     "output_type": "execute_result"
    }
   ],
   "source": [
    "# imports\n",
    "import requests\n",
    "import numpy as np\n",
    "import pandas as pd\n",
    "import regex as re\n",
    "import tqdm\n",
    "\n",
    "#Functions\n",
    "# regular expressions for parsing data from a single review\n",
    "# elements found in review-details div\n",
    "def regex_date(review):\n",
    "    '''Parses the date of the review in format dd/mm/yyyy'''\n",
    "    return re.findall(r'\\d+/\\d+/\\d+', review.find('div', class_='date').text)[0]\n",
    "\n",
    "def regex_condition(review):\n",
    "    '''Parses the condition for which the medication is used'''\n",
    "    condition_element = review.find('strong', class_='condition')\n",
    "    condition_listed = condition_element is not None\n",
    "    if condition_listed:\n",
    "        # TODO: be able to match ''\"Change of Life\" Signs' condition\n",
    "        condition_match = re.findall(r'(?<=Condition:\\s)\\w+(?:\\s\\w+)*', condition_element.text)\n",
    "    return condition_match[0] if (condition_listed and len(condition_match) > 0) else np.nan\n",
    "\n",
    "def regex_rating_overall(review):\n",
    "    '''Parses the overall rating, the average of 3 categories'''\n",
    "    rating_overall_line = review.find('div', class_='overall-rating').strong.text\n",
    "    return re.findall(r'\\d+.\\d+', rating_overall_line)\n",
    "\n",
    "def regex_rating_category(review, ind_cat):\n",
    "    '''Parses the rating for the category at index ind_cat in ['effectiveness', 'ease_of_use', 'satisfaction']'''\n",
    "    rating_categories = review.find('div', class_='categories').find_all('section')\n",
    "    div = rating_categories[ind_cat].find('div', class_='webmd-rate on-mobile')\n",
    "    return int(div.get('aria-valuenow'))\n",
    "\n",
    "def regex_text(review):\n",
    "    '''Parses the free response text review for the drug'''\n",
    "    text_line = review.find('p', class_='description-text')\n",
    "    return text_line.text if text_line is not None else np.nan\n",
    "# regular expressions for parsing data from a single review\n",
    "# elements found in details div\n",
    "def regex_age(details):\n",
    "    '''Parses the age of the medication user'''\n",
    "    age_match = re.findall(r'(?<=\\|\\s+)\\d+-\\d+', details)\n",
    "    return age_match[0] if len(age_match) > 0 else np.nan\n",
    "\n",
    "def regex_gender(details):\n",
    "    '''Parses the gender of the medication user'''\n",
    "    gender_match = re.findall(r'(?<=\\|\\s+)Male|Female', details)\n",
    "    return gender_match[0] if len(gender_match) > 0 else np.nan\n",
    "\n",
    "def regex_time(details):\n",
    "    '''Parses the duration of time on drug'''\n",
    "    time_match = re.findall(r'(?<=On\\smedication\\sfor\\s)\\w+(?:\\s\\w+)*', details)\n",
    "    return time_match[0] if len(time_match) > 0 else np.nan\n",
    "\n",
    "def regex_reviewer(details):\n",
    "    '''Parses the type of reviewer'''\n",
    "    reviewer_match = re.findall(r'(?<=\\|\\s+)\\w+(?:\\s\\w+)*(?=\\s*$)', details)\n",
    "    return reviewer_match[0] if len(reviewer_match) > 0 else np.nan\n",
    "# parse the reviews on a single webpage\n",
    "def parse_reviews_page(soup, reviews_df):\n",
    "    '''Populates reviews_df data frame with records from 1 page's reviews\n",
    "    \n",
    "    Parameters:\n",
    "    reviews_html (str): HTML for the webpage extracted using BeautifulSoup\n",
    "    drug_name (str): the name of the drug being reviewed\n",
    "    reviews_df (pd.DataFrame): dataframe with one row per review\n",
    "    \n",
    "    Returns:\n",
    "    pd.DataFrame: reviews_df dataframe with new records appended\n",
    "    \n",
    "    '''\n",
    "    reviews_html = soup.find_all('div', class_='review-details') # get elements that hold each review\n",
    "    drug_name = re.findall(r'(.*)(?=\\sReviews)', soup.title.text)[0] # page title is drug name\n",
    "    \n",
    "    # loop over reviews from a single page\n",
    "    for i, review in enumerate(reviews_html):\n",
    "        to_append = pd.DataFrame([pd.Series([None]*len(cols), index=cols)])\n",
    "        \n",
    "        details = review.find('div', class_='details').text\n",
    "\n",
    "        to_append['drug_name'] = drug_name\n",
    "        to_append['date'] = regex_date(review)\n",
    "        to_append['age'] = regex_age(details)\n",
    "        to_append['gender'] = regex_gender(details)\n",
    "        to_append['time_on_drug'] = regex_time(details)\n",
    "        to_append['reviewer_type'] = regex_reviewer(details)\n",
    "        to_append['condition'] = regex_condition(review)\n",
    "        to_append['rating_overall'] = regex_rating_overall(review)\n",
    "        \n",
    "        for ind_cat, cat in enumerate(['effectiveness', 'ease_of_use', 'satisfaction']):\n",
    "            to_append[f'rating_{cat}'] = regex_rating_category(review, ind_cat)\n",
    "    \n",
    "        to_append['text'] = regex_text(review)\n",
    "        reviews_df = pd.concat([reviews_df, to_append], ignore_index=True)\n",
    "        \n",
    "    return reviews_df\n",
    "def get_soup(review_url, page):\n",
    "    curr_url = review_url + f'&page={page}'\n",
    "    response = requests.get(curr_url, headers=headers).content\n",
    "    return BeautifulSoup(response, 'lxml')\n",
    "# crawl over the review pages for one drug\n",
    "from tqdm import tqdm # progress bar\n",
    "\n",
    "def crawl_reviews_pages(review_url, reviews_df):\n",
    "    '''Crawls a drug's reviews page-by-page, saving each page's reviews into reviews_df\n",
    "    \n",
    "    Parameters:\n",
    "    reviews_df (pd.DataFrame): dataframe with one row per review\n",
    "    \n",
    "    Returns:\n",
    "    pd.DataFrame: reviews_df dataframe with new records appended\n",
    "    \n",
    "    '''\n",
    "    # find how many review pages there are total for the drug by parsing it from the first page\n",
    "    soup = get_soup(review_url, 1)\n",
    "    pages = soup.find('ul', class_='pagination')\n",
    "    \n",
    "    # proceed only if there is at least 1 review\n",
    "    if pages is not None:\n",
    "        last_page = int(pages.find_all('li', class_='page-item')[-1].text.strip())\n",
    "\n",
    "        for i in tqdm(range(1, last_page+1)):\n",
    "            soup = get_soup(review_url, 1)\n",
    "            reviews_df = parse_reviews_page(soup, reviews_df)\n",
    "\n",
    "    return reviews_df\n",
    "#Scrape Drugs by Condition from WebMD Search\n",
    "# need to spoof a browser in order to not get blocked when making request\n",
    "# https://bar.rady.ucsd.edu/Web_Scraping.html\n",
    "from bs4 import BeautifulSoup\n",
    "\n",
    "headers = requests.utils.default_headers()\n",
    "agent = 'Mozilla/5.0 (X11; Ubuntu; Linux x86_64; rv:52.0) Gecko/20100101 Firefox/52.0'\n",
    "headers.update({\n",
    "    'User-Agent': agent,\n",
    "})\n",
    "# make empty data frame to contain values and full text from each review\n",
    "cols = ['drug_name',\n",
    "       'date',\n",
    "       'age',\n",
    "       'gender',\n",
    "       'time_on_drug',\n",
    "       'reviewer_type',\n",
    "       'condition',\n",
    "       'rating_overall',\n",
    "       'rating_effectiveness',\n",
    "       'rating_ease_of_use',\n",
    "       'rating_satisfaction',\n",
    "       'text']\n",
    "\n",
    "reviews_df = pd.DataFrame(columns=cols, index=[])\n",
    "# # list of depression drugs from WebMD\n",
    "# url = 'https://www.webmd.com/depression/depression-medications-antidepressants'\n",
    "# response = requests.get(url, headers=headers).content\n",
    "# soup = BeautifulSoup(response, 'lxml')\n",
    "# drugs_section = soup.find('div', class_='article-page active-page')\n",
    "# use WebMD's search to find drugs by illness\n",
    "review_urls = []\n",
    "\n",
    "conditions = {\n",
    "              'type1diabetesmellitus':'https://www.webmd.com/drugs/2/condition-595/type-1-diabetes-mellitus'\n",
    "              }\n",
    "\n",
    "for url in conditions.values():\n",
    "    response = requests.get(url, headers=headers).content\n",
    "    soup = BeautifulSoup(response, 'lxml')\n",
    "    drugs_section = soup.find('div', class_='medication-results-list')\n",
    "\n",
    "    for drug_review_element in drugs_section.find_all('span', class_='reviews-url'):\n",
    "        review_urls.append(drug_review_element.a.get('href'))\n",
    "\n",
    "# because there is a lot of overlap in medications between conditions, get unique values\n",
    "review_urls = np.unique(review_urls)\n",
    "review_urls"
   ]
  },
  {
   "cell_type": "code",
   "execution_count": 2,
   "metadata": {},
   "outputs": [
    {
     "name": "stderr",
     "output_type": "stream",
     "text": [
      "  1%|          | 1/184 [00:08<27:10,  8.91s/it]"
     ]
    },
    {
     "name": "stdout",
     "output_type": "stream",
     "text": [
      "skipping https://reviews.webmd.com/drugs/drugreview-11926-insulin-reg-human-buffered-solution: page not found\n"
     ]
    },
    {
     "name": "stderr",
     "output_type": "stream",
     "text": [
      "  1%|          | 2/184 [00:10<14:17,  4.71s/it]"
     ]
    },
    {
     "name": "stdout",
     "output_type": "stream",
     "text": [
      "skipping https://reviews.webmd.com/drugs/drugreview-11965-insulin-regular-beef-pork-solution: page not found\n"
     ]
    },
    {
     "name": "stderr",
     "output_type": "stream",
     "text": [
      "  2%|▏         | 3/184 [00:12<10:50,  3.60s/it]"
     ]
    },
    {
     "name": "stdout",
     "output_type": "stream",
     "text": [
      "skipping https://reviews.webmd.com/drugs/drugreview-11967-insulin-zinc-beef-pork-suspension: page not found\n"
     ]
    },
    {
     "name": "stderr",
     "output_type": "stream",
     "text": [
      "  2%|▏         | 4/184 [00:15<08:59,  3.00s/it]"
     ]
    },
    {
     "name": "stdout",
     "output_type": "stream",
     "text": [
      "skipping https://reviews.webmd.com/drugs/drugreview-11968-iletin-i-lente-suspension: page not found\n"
     ]
    },
    {
     "name": "stderr",
     "output_type": "stream",
     "text": [
      "  3%|▎         | 5/184 [00:17<07:52,  2.64s/it]"
     ]
    },
    {
     "name": "stdout",
     "output_type": "stream",
     "text": [
      "skipping https://reviews.webmd.com/drugs/drugreview-11969-iletin-i-regular-solution: page not found\n"
     ]
    },
    {
     "name": "stderr",
     "output_type": "stream",
     "text": [
      "  3%|▎         | 6/184 [00:19<07:10,  2.42s/it]"
     ]
    },
    {
     "name": "stdout",
     "output_type": "stream",
     "text": [
      "skipping https://reviews.webmd.com/drugs/drugreview-11970-iletin-ii-lente-pork-suspension: page not found\n",
      "https://reviews.webmd.com/drugs/drugreview-11971-insulin-purified-nph-pork-suspension\n"
     ]
    },
    {
     "name": "stderr",
     "output_type": "stream",
     "text": [
      "  4%|▍         | 7/184 [00:23<08:52,  3.01s/it]"
     ]
    },
    {
     "name": "stdout",
     "output_type": "stream",
     "text": [
      "https://reviews.webmd.com/drugs/drugreview-11981-insulin-regular-pork-solution\n"
     ]
    },
    {
     "name": "stderr",
     "output_type": "stream",
     "text": [
      "  4%|▍         | 8/184 [00:26<09:13,  3.15s/it]"
     ]
    },
    {
     "name": "stdout",
     "output_type": "stream",
     "text": [
      "https://reviews.webmd.com/drugs/drugreview-11982-iletin-ii-regular-pork-solution\n"
     ]
    },
    {
     "name": "stderr",
     "output_type": "stream",
     "text": [
      "  5%|▍         | 9/184 [00:30<09:59,  3.42s/it]"
     ]
    },
    {
     "name": "stdout",
     "output_type": "stream",
     "text": [
      "https://reviews.webmd.com/drugs/drugreview-13818-humalog-cartridge\n"
     ]
    },
    {
     "name": "stderr",
     "output_type": "stream",
     "text": [
      "100%|██████████| 2/2 [00:04<00:00,  2.42s/it]\n",
      "  6%|▌         | 11/184 [00:41<11:44,  4.07s/it]"
     ]
    },
    {
     "name": "stdout",
     "output_type": "stream",
     "text": [
      "skipping https://reviews.webmd.com/drugs/drugreview-144565-insulin-combo-pack-combination-package: page not found\n"
     ]
    },
    {
     "name": "stderr",
     "output_type": "stream",
     "text": [
      "  7%|▋         | 12/184 [00:42<09:42,  3.39s/it]"
     ]
    },
    {
     "name": "stdout",
     "output_type": "stream",
     "text": [
      "skipping https://reviews.webmd.com/drugs/drugreview-144567-insulin-kit-inhaler: page not found\n"
     ]
    },
    {
     "name": "stderr",
     "output_type": "stream",
     "text": [
      "  7%|▋         | 13/184 [00:44<08:24,  2.95s/it]"
     ]
    },
    {
     "name": "stdout",
     "output_type": "stream",
     "text": [
      "skipping https://reviews.webmd.com/drugs/drugreview-144581-exubera-kit-inhaler: page not found\n"
     ]
    },
    {
     "name": "stderr",
     "output_type": "stream",
     "text": [
      "  8%|▊         | 14/184 [00:46<07:35,  2.68s/it]"
     ]
    },
    {
     "name": "stdout",
     "output_type": "stream",
     "text": [
      "skipping https://reviews.webmd.com/drugs/drugreview-144582-exubera-combination-pack-15-package: page not found\n"
     ]
    },
    {
     "name": "stderr",
     "output_type": "stream",
     "text": [
      "  8%|▊         | 15/184 [00:48<06:54,  2.45s/it]"
     ]
    },
    {
     "name": "stdout",
     "output_type": "stream",
     "text": [
      "skipping https://reviews.webmd.com/drugs/drugreview-144583-exubera-combination-pack-12-package: page not found\n"
     ]
    },
    {
     "name": "stderr",
     "output_type": "stream",
     "text": [
      "  9%|▊         | 16/184 [00:50<06:25,  2.29s/it]"
     ]
    },
    {
     "name": "stdout",
     "output_type": "stream",
     "text": [
      "skipping https://reviews.webmd.com/drugs/drugreview-14461-humulin-l-suspension: page not found\n",
      "https://reviews.webmd.com/drugs/drugreview-14536-insulin-regular-human-pen\n"
     ]
    },
    {
     "name": "stderr",
     "output_type": "stream",
     "text": [
      "  9%|▉         | 17/184 [00:54<07:46,  2.79s/it]"
     ]
    },
    {
     "name": "stdout",
     "output_type": "stream",
     "text": [
      "https://reviews.webmd.com/drugs/drugreview-1468-novolin-70-30-vial\n"
     ]
    },
    {
     "name": "stderr",
     "output_type": "stream",
     "text": [
      "100%|██████████| 1/1 [00:01<00:00,  1.80s/it]\n",
      " 10%|█         | 19/184 [01:03<09:13,  3.35s/it]"
     ]
    },
    {
     "name": "stdout",
     "output_type": "stream",
     "text": [
      "skipping https://reviews.webmd.com/drugs/drugreview-1469-novolin-l-semi-synthetic-suspension: page not found\n",
      "https://reviews.webmd.com/drugs/drugreview-1470-novolin-n-semi-synthetic-suspension\n"
     ]
    },
    {
     "name": "stderr",
     "output_type": "stream",
     "text": [
      "100%|██████████| 1/1 [00:01<00:00,  1.69s/it]\n",
      " 11%|█         | 20/184 [01:08<10:25,  3.81s/it]"
     ]
    },
    {
     "name": "stdout",
     "output_type": "stream",
     "text": [
      "https://reviews.webmd.com/drugs/drugreview-1471-novolin-r-vial\n"
     ]
    },
    {
     "name": "stderr",
     "output_type": "stream",
     "text": [
      "100%|██████████| 1/1 [00:03<00:00,  3.08s/it]\n",
      " 12%|█▏        | 22/184 [01:17<10:32,  3.90s/it]"
     ]
    },
    {
     "name": "stdout",
     "output_type": "stream",
     "text": [
      "skipping https://reviews.webmd.com/drugs/drugreview-147838-exubera-patient-pack-combination-package: page not found\n",
      "https://reviews.webmd.com/drugs/drugreview-14850-humulin-50-50-suspension\n"
     ]
    },
    {
     "name": "stderr",
     "output_type": "stream",
     "text": [
      "100%|██████████| 1/1 [00:02<00:00,  2.69s/it]\n",
      " 12%|█▎        | 23/184 [01:24<13:02,  4.86s/it]"
     ]
    },
    {
     "name": "stdout",
     "output_type": "stream",
     "text": [
      "https://reviews.webmd.com/drugs/drugreview-148652-lantus-solostar-insulin-pen\n"
     ]
    },
    {
     "name": "stderr",
     "output_type": "stream",
     "text": [
      "100%|██████████| 6/6 [00:12<00:00,  2.12s/it]\n",
      " 13%|█▎        | 24/184 [01:40<22:03,  8.27s/it]"
     ]
    },
    {
     "name": "stdout",
     "output_type": "stream",
     "text": [
      "https://reviews.webmd.com/drugs/drugreview-149828-humalog-kwikpen-u-100-insulin-pen\n"
     ]
    },
    {
     "name": "stderr",
     "output_type": "stream",
     "text": [
      "100%|██████████| 2/2 [00:05<00:00,  2.70s/it]\n",
      " 14%|█▎        | 25/184 [01:49<22:19,  8.42s/it]"
     ]
    },
    {
     "name": "stdout",
     "output_type": "stream",
     "text": [
      "https://reviews.webmd.com/drugs/drugreview-149829-humalog-mix-75-25-kwikpen-insulin-pen\n"
     ]
    },
    {
     "name": "stderr",
     "output_type": "stream",
     "text": [
      "100%|██████████| 1/1 [00:03<00:00,  3.02s/it]\n",
      " 14%|█▍        | 26/184 [01:55<20:26,  7.76s/it]"
     ]
    },
    {
     "name": "stdout",
     "output_type": "stream",
     "text": [
      "https://reviews.webmd.com/drugs/drugreview-149830-humalog-mix-50-50-kwikpen-insulin-pen\n"
     ]
    },
    {
     "name": "stderr",
     "output_type": "stream",
     "text": [
      "100%|██████████| 1/1 [00:01<00:00,  1.87s/it]\n",
      " 15%|█▍        | 27/184 [02:00<17:58,  6.87s/it]"
     ]
    },
    {
     "name": "stdout",
     "output_type": "stream",
     "text": [
      "https://reviews.webmd.com/drugs/drugreview-152040-apidra-solostar-insulin-pen\n"
     ]
    },
    {
     "name": "stderr",
     "output_type": "stream",
     "text": [
      "100%|██████████| 1/1 [00:01<00:00,  1.75s/it]\n",
      " 15%|█▌        | 28/184 [02:06<17:40,  6.80s/it]"
     ]
    },
    {
     "name": "stdout",
     "output_type": "stream",
     "text": [
      "https://reviews.webmd.com/drugs/drugreview-155005-novolog-penfill-cartridge\n"
     ]
    },
    {
     "name": "stderr",
     "output_type": "stream",
     "text": [
      "100%|██████████| 1/1 [00:03<00:00,  3.13s/it]\n",
      " 16%|█▋        | 30/184 [02:15<13:31,  5.27s/it]"
     ]
    },
    {
     "name": "stdout",
     "output_type": "stream",
     "text": [
      "skipping https://reviews.webmd.com/drugs/drugreview-164719-novolin-r-penfill-semi-synth-cartridge: page not found\n",
      "https://reviews.webmd.com/drugs/drugreview-165589-insulin-degludec-pen-u-200\n"
     ]
    },
    {
     "name": "stderr",
     "output_type": "stream",
     "text": [
      " 17%|█▋        | 31/184 [02:18<11:37,  4.56s/it]"
     ]
    },
    {
     "name": "stdout",
     "output_type": "stream",
     "text": [
      "https://reviews.webmd.com/drugs/drugreview-165658-humulin-70-30-kwikpen-insulin-pen\n"
     ]
    },
    {
     "name": "stderr",
     "output_type": "stream",
     "text": [
      "100%|██████████| 1/1 [00:02<00:00,  2.05s/it]\n",
      " 17%|█▋        | 32/184 [02:23<12:29,  4.93s/it]"
     ]
    },
    {
     "name": "stdout",
     "output_type": "stream",
     "text": [
      "https://reviews.webmd.com/drugs/drugreview-165659-humulin-n-kwikpen-insulin-pen\n"
     ]
    },
    {
     "name": "stderr",
     "output_type": "stream",
     "text": [
      "100%|██████████| 1/1 [00:01<00:00,  1.62s/it]\n",
      " 18%|█▊        | 33/184 [02:28<12:19,  4.90s/it]"
     ]
    },
    {
     "name": "stdout",
     "output_type": "stream",
     "text": [
      "https://reviews.webmd.com/drugs/drugreview-166327-levemir-flextouch-insulin-pen\n"
     ]
    },
    {
     "name": "stderr",
     "output_type": "stream",
     "text": [
      "100%|██████████| 3/3 [00:06<00:00,  2.03s/it]\n",
      " 18%|█▊        | 34/184 [02:38<16:03,  6.43s/it]"
     ]
    },
    {
     "name": "stdout",
     "output_type": "stream",
     "text": [
      "https://reviews.webmd.com/drugs/drugreview-167500-afrezza-cartridge-with-inhaler\n"
     ]
    },
    {
     "name": "stderr",
     "output_type": "stream",
     "text": [
      "100%|██████████| 4/4 [00:08<00:00,  2.05s/it]\n",
      " 19%|█▉        | 35/184 [02:50<19:58,  8.05s/it]"
     ]
    },
    {
     "name": "stdout",
     "output_type": "stream",
     "text": [
      "https://reviews.webmd.com/drugs/drugreview-167874-toujeo-solostar-insulin-pen\n"
     ]
    },
    {
     "name": "stderr",
     "output_type": "stream",
     "text": [
      "100%|██████████| 2/2 [00:05<00:00,  2.59s/it]\n",
      " 20%|█▉        | 36/184 [02:58<20:02,  8.12s/it]"
     ]
    },
    {
     "name": "stdout",
     "output_type": "stream",
     "text": [
      "https://reviews.webmd.com/drugs/drugreview-16873-humulin-70-30-insulin-pen-syringe\n"
     ]
    },
    {
     "name": "stderr",
     "output_type": "stream",
     "text": [
      "100%|██████████| 1/1 [00:01<00:00,  1.88s/it]\n",
      " 20%|██        | 37/184 [03:04<18:07,  7.40s/it]"
     ]
    },
    {
     "name": "stdout",
     "output_type": "stream",
     "text": [
      "https://reviews.webmd.com/drugs/drugreview-16874-humulin-n-pen-syringe\n"
     ]
    },
    {
     "name": "stderr",
     "output_type": "stream",
     "text": [
      "100%|██████████| 1/1 [00:02<00:00,  2.02s/it]\n",
      " 21%|██        | 38/184 [03:10<16:47,  6.90s/it]"
     ]
    },
    {
     "name": "stdout",
     "output_type": "stream",
     "text": [
      "https://reviews.webmd.com/drugs/drugreview-16875-humalog-pen-insulin\n"
     ]
    },
    {
     "name": "stderr",
     "output_type": "stream",
     "text": [
      "100%|██████████| 1/1 [00:02<00:00,  2.07s/it]\n",
      " 21%|██        | 39/184 [03:17<16:41,  6.91s/it]"
     ]
    },
    {
     "name": "stdout",
     "output_type": "stream",
     "text": [
      "https://reviews.webmd.com/drugs/drugreview-16875-humalog-pen-syringe\n"
     ]
    },
    {
     "name": "stderr",
     "output_type": "stream",
     "text": [
      "100%|██████████| 1/1 [00:01<00:00,  1.64s/it]\n",
      " 22%|██▏       | 40/184 [03:23<15:54,  6.63s/it]"
     ]
    },
    {
     "name": "stdout",
     "output_type": "stream",
     "text": [
      "https://reviews.webmd.com/drugs/drugreview-170029-tresiba-flextouch-u-100-insulin-pen\n"
     ]
    },
    {
     "name": "stderr",
     "output_type": "stream",
     "text": [
      "100%|██████████| 1/1 [00:01<00:00,  1.71s/it]\n",
      " 22%|██▏       | 41/184 [03:28<14:41,  6.17s/it]"
     ]
    },
    {
     "name": "stdout",
     "output_type": "stream",
     "text": [
      "https://reviews.webmd.com/drugs/drugreview-170030-tresiba-flextouch-u-200-insulin-pen\n"
     ]
    },
    {
     "name": "stderr",
     "output_type": "stream",
     "text": [
      "100%|██████████| 1/1 [00:03<00:00,  3.00s/it]\n",
      " 23%|██▎       | 42/184 [03:34<14:53,  6.29s/it]"
     ]
    },
    {
     "name": "stdout",
     "output_type": "stream",
     "text": [
      "https://reviews.webmd.com/drugs/drugreview-170716-basaglar-kwikpen-u-100-insulin-pen\n"
     ]
    },
    {
     "name": "stderr",
     "output_type": "stream",
     "text": [
      "100%|██████████| 1/1 [00:01<00:00,  1.63s/it]\n",
      " 23%|██▎       | 43/184 [03:39<13:30,  5.75s/it]"
     ]
    },
    {
     "name": "stdout",
     "output_type": "stream",
     "text": [
      "https://reviews.webmd.com/drugs/drugreview-173266-insulin-aspart-niacinamide-cartridge\n"
     ]
    },
    {
     "name": "stderr",
     "output_type": "stream",
     "text": [
      " 24%|██▍       | 44/184 [03:42<11:31,  4.94s/it]"
     ]
    },
    {
     "name": "stdout",
     "output_type": "stream",
     "text": [
      "https://reviews.webmd.com/drugs/drugreview-173268-fiasp-vial\n"
     ]
    },
    {
     "name": "stderr",
     "output_type": "stream",
     "text": [
      "100%|██████████| 1/1 [00:01<00:00,  1.68s/it]\n",
      " 24%|██▍       | 45/184 [03:47<11:25,  4.93s/it]"
     ]
    },
    {
     "name": "stdout",
     "output_type": "stream",
     "text": [
      "https://reviews.webmd.com/drugs/drugreview-173286-fiasp-flextouch-insulin-pen\n"
     ]
    },
    {
     "name": "stderr",
     "output_type": "stream",
     "text": [
      " 25%|██▌       | 46/184 [03:50<10:07,  4.40s/it]"
     ]
    },
    {
     "name": "stdout",
     "output_type": "stream",
     "text": [
      "https://reviews.webmd.com/drugs/drugreview-173287-fiasp-penfill-cartridge\n"
     ]
    },
    {
     "name": "stderr",
     "output_type": "stream",
     "text": [
      " 26%|██▌       | 47/184 [03:54<09:30,  4.16s/it]"
     ]
    },
    {
     "name": "stdout",
     "output_type": "stream",
     "text": [
      "https://reviews.webmd.com/drugs/drugreview-174012-humalog-junior-kwikpen-insulin-pen-half-unit\n"
     ]
    },
    {
     "name": "stderr",
     "output_type": "stream",
     "text": [
      " 26%|██▌       | 48/184 [03:58<09:23,  4.14s/it]"
     ]
    },
    {
     "name": "stdout",
     "output_type": "stream",
     "text": [
      "https://reviews.webmd.com/drugs/drugreview-17424-insulin-lispro-protamine-mix-pen\n"
     ]
    },
    {
     "name": "stderr",
     "output_type": "stream",
     "text": [
      "100%|██████████| 1/1 [00:01<00:00,  1.58s/it]\n",
      " 27%|██▋       | 49/184 [04:03<09:46,  4.34s/it]"
     ]
    },
    {
     "name": "stdout",
     "output_type": "stream",
     "text": [
      "https://reviews.webmd.com/drugs/drugreview-174575-admelog-vial\n"
     ]
    },
    {
     "name": "stderr",
     "output_type": "stream",
     "text": [
      "100%|██████████| 3/3 [00:05<00:00,  1.87s/it]\n",
      " 27%|██▋       | 50/184 [04:11<12:46,  5.72s/it]"
     ]
    },
    {
     "name": "stdout",
     "output_type": "stream",
     "text": [
      "https://reviews.webmd.com/drugs/drugreview-174576-admelog-solostar-insulin-pen\n"
     ]
    },
    {
     "name": "stderr",
     "output_type": "stream",
     "text": [
      "100%|██████████| 1/1 [00:02<00:00,  2.26s/it]\n",
      " 28%|██▊       | 51/184 [04:18<13:09,  5.94s/it]"
     ]
    },
    {
     "name": "stdout",
     "output_type": "stream",
     "text": [
      "https://reviews.webmd.com/drugs/drugreview-175027-toujeo-max-solostar-insulin-pen\n"
     ]
    },
    {
     "name": "stderr",
     "output_type": "stream",
     "text": [
      " 28%|██▊       | 52/184 [04:21<11:06,  5.05s/it]"
     ]
    },
    {
     "name": "stdout",
     "output_type": "stream",
     "text": [
      "https://reviews.webmd.com/drugs/drugreview-175773-insulin-glargine-solostar-pen\n"
     ]
    },
    {
     "name": "stderr",
     "output_type": "stream",
     "text": [
      " 29%|██▉       | 53/184 [04:24<09:29,  4.34s/it]"
     ]
    },
    {
     "name": "stdout",
     "output_type": "stream",
     "text": [
      "https://reviews.webmd.com/drugs/drugreview-176248-novolin-70-30-flexpen-insulin-pen\n"
     ]
    },
    {
     "name": "stderr",
     "output_type": "stream",
     "text": [
      " 29%|██▉       | 54/184 [04:27<08:32,  3.94s/it]"
     ]
    },
    {
     "name": "stdout",
     "output_type": "stream",
     "text": [
      "https://reviews.webmd.com/drugs/drugreview-176683-tresiba-vial\n"
     ]
    },
    {
     "name": "stderr",
     "output_type": "stream",
     "text": [
      " 30%|███       | 56/184 [04:32<07:01,  3.30s/it]"
     ]
    },
    {
     "name": "stdout",
     "output_type": "stream",
     "text": [
      "skipping https://reviews.webmd.com/drugs/drugreview-17744-velosulin-br-solution: page not found\n"
     ]
    },
    {
     "name": "stderr",
     "output_type": "stream",
     "text": [
      " 31%|███       | 57/184 [04:34<06:17,  2.97s/it]"
     ]
    },
    {
     "name": "stdout",
     "output_type": "stream",
     "text": [
      "skipping https://reviews.webmd.com/drugs/drugreview-17746-velosulin-br-rdna-solution: page not found\n"
     ]
    },
    {
     "name": "stderr",
     "output_type": "stream",
     "text": [
      " 32%|███▏      | 58/184 [04:37<05:45,  2.74s/it]"
     ]
    },
    {
     "name": "stdout",
     "output_type": "stream",
     "text": [
      "skipping https://reviews.webmd.com/drugs/drugreview-177465-insulin-regular-in-0-9-nacl-solution: page not found\n"
     ]
    },
    {
     "name": "stderr",
     "output_type": "stream",
     "text": [
      " 32%|███▏      | 59/184 [04:39<05:23,  2.59s/it]"
     ]
    },
    {
     "name": "stdout",
     "output_type": "stream",
     "text": [
      "skipping https://reviews.webmd.com/drugs/drugreview-177940-myxredlin-plastic-bag-injection: page not found\n",
      "https://reviews.webmd.com/drugs/drugreview-178494-novolin-n-flexpen-insulin-pen\n"
     ]
    },
    {
     "name": "stderr",
     "output_type": "stream",
     "text": [
      " 33%|███▎      | 60/184 [04:42<06:00,  2.91s/it]"
     ]
    },
    {
     "name": "stdout",
     "output_type": "stream",
     "text": [
      "https://reviews.webmd.com/drugs/drugreview-178502-novolin-r-flexpen-insulin-pen\n"
     ]
    },
    {
     "name": "stderr",
     "output_type": "stream",
     "text": [
      " 33%|███▎      | 61/184 [04:46<06:28,  3.16s/it]"
     ]
    },
    {
     "name": "stdout",
     "output_type": "stream",
     "text": [
      "https://reviews.webmd.com/drugs/drugreview-178887-semglee-vial\n"
     ]
    },
    {
     "name": "stderr",
     "output_type": "stream",
     "text": [
      "100%|██████████| 1/1 [00:02<00:00,  2.05s/it]\n",
      " 34%|███▎      | 62/184 [04:53<08:49,  4.34s/it]"
     ]
    },
    {
     "name": "stdout",
     "output_type": "stream",
     "text": [
      "https://reviews.webmd.com/drugs/drugreview-179541-insulin-lispro-aabc-solution\n"
     ]
    },
    {
     "name": "stderr",
     "output_type": "stream",
     "text": [
      " 34%|███▍      | 63/184 [04:56<08:01,  3.98s/it]"
     ]
    },
    {
     "name": "stdout",
     "output_type": "stream",
     "text": [
      "https://reviews.webmd.com/drugs/drugreview-179553-lyumjev-vial\n"
     ]
    },
    {
     "name": "stderr",
     "output_type": "stream",
     "text": [
      " 35%|███▍      | 64/184 [05:00<07:30,  3.76s/it]"
     ]
    },
    {
     "name": "stdout",
     "output_type": "stream",
     "text": [
      "https://reviews.webmd.com/drugs/drugreview-179554-lyumjev-kwikpen-u-100-insulin-pen\n"
     ]
    },
    {
     "name": "stderr",
     "output_type": "stream",
     "text": [
      " 35%|███▌      | 65/184 [05:03<07:22,  3.72s/it]"
     ]
    },
    {
     "name": "stdout",
     "output_type": "stream",
     "text": [
      "https://reviews.webmd.com/drugs/drugreview-179555-lyumjev-kwikpen-u-200-insulin-pen\n"
     ]
    },
    {
     "name": "stderr",
     "output_type": "stream",
     "text": [
      " 36%|███▌      | 66/184 [05:06<06:58,  3.54s/it]"
     ]
    },
    {
     "name": "stdout",
     "output_type": "stream",
     "text": [
      "https://reviews.webmd.com/drugs/drugreview-180007-semglee-pen-insulin\n"
     ]
    },
    {
     "name": "stderr",
     "output_type": "stream",
     "text": [
      "100%|██████████| 1/1 [00:01<00:00,  1.78s/it]\n",
      " 36%|███▋      | 67/184 [05:12<07:48,  4.00s/it]"
     ]
    },
    {
     "name": "stdout",
     "output_type": "stream",
     "text": [
      "https://reviews.webmd.com/drugs/drugreview-181317-basaglar-tempo-pen-u-100-insulin-pen-sensor\n"
     ]
    },
    {
     "name": "stderr",
     "output_type": "stream",
     "text": [
      "100%|██████████| 1/1 [00:01<00:00,  1.59s/it]\n",
      " 37%|███▋      | 68/184 [05:17<08:17,  4.29s/it]"
     ]
    },
    {
     "name": "stdout",
     "output_type": "stream",
     "text": [
      "https://reviews.webmd.com/drugs/drugreview-181342-humalog-tempo-pen-u-100-insulin-pen-sensor\n"
     ]
    },
    {
     "name": "stderr",
     "output_type": "stream",
     "text": [
      " 38%|███▊      | 69/184 [05:20<07:48,  4.08s/it]"
     ]
    },
    {
     "name": "stdout",
     "output_type": "stream",
     "text": [
      "https://reviews.webmd.com/drugs/drugreview-18179-novolin-70-30-penfill-cartridge\n"
     ]
    },
    {
     "name": "stderr",
     "output_type": "stream",
     "text": [
      "100%|██████████| 1/1 [00:01<00:00,  1.67s/it]\n",
      " 38%|███▊      | 70/184 [05:25<07:58,  4.20s/it]"
     ]
    },
    {
     "name": "stdout",
     "output_type": "stream",
     "text": [
      "https://reviews.webmd.com/drugs/drugreview-18180-novolin-n-penfill-cartridge\n"
     ]
    },
    {
     "name": "stderr",
     "output_type": "stream",
     "text": [
      " 39%|███▊      | 71/184 [05:28<07:15,  3.85s/it]"
     ]
    },
    {
     "name": "stdout",
     "output_type": "stream",
     "text": [
      "https://reviews.webmd.com/drugs/drugreview-18181-novolin-r-penfill-cartridge\n"
     ]
    },
    {
     "name": "stderr",
     "output_type": "stream",
     "text": [
      "100%|██████████| 1/1 [00:01<00:00,  1.80s/it]\n",
      " 39%|███▉      | 72/184 [05:33<07:46,  4.17s/it]"
     ]
    },
    {
     "name": "stdout",
     "output_type": "stream",
     "text": [
      "https://reviews.webmd.com/drugs/drugreview-182013-insulin-glargine-yfgn-vial\n"
     ]
    },
    {
     "name": "stderr",
     "output_type": "stream",
     "text": [
      " 40%|███▉      | 73/184 [05:37<07:43,  4.18s/it]"
     ]
    },
    {
     "name": "stdout",
     "output_type": "stream",
     "text": [
      "https://reviews.webmd.com/drugs/drugreview-182372-semglee-yfgn-pen-insulin\n"
     ]
    },
    {
     "name": "stderr",
     "output_type": "stream",
     "text": [
      "100%|██████████| 1/1 [00:01<00:00,  1.98s/it]\n",
      " 40%|████      | 74/184 [05:42<08:16,  4.52s/it]"
     ]
    },
    {
     "name": "stdout",
     "output_type": "stream",
     "text": [
      "https://reviews.webmd.com/drugs/drugreview-182373-semglee-yfgn-vial\n"
     ]
    },
    {
     "name": "stderr",
     "output_type": "stream",
     "text": [
      " 41%|████      | 75/184 [05:46<07:58,  4.39s/it]"
     ]
    },
    {
     "name": "stdout",
     "output_type": "stream",
     "text": [
      "https://reviews.webmd.com/drugs/drugreview-183194-insulin-glargine-aglr-pen\n"
     ]
    },
    {
     "name": "stderr",
     "output_type": "stream",
     "text": [
      " 41%|████▏     | 76/184 [05:49<07:17,  4.05s/it]"
     ]
    },
    {
     "name": "stdout",
     "output_type": "stream",
     "text": [
      "https://reviews.webmd.com/drugs/drugreview-185382-lyumjev-tempo-pen-u-100-insulin-pen-sensor\n"
     ]
    },
    {
     "name": "stderr",
     "output_type": "stream",
     "text": [
      " 42%|████▏     | 77/184 [05:53<07:03,  3.96s/it]"
     ]
    },
    {
     "name": "stdout",
     "output_type": "stream",
     "text": [
      "https://reviews.webmd.com/drugs/drugreview-186157-rezvoglar-kwikpen-insulin-pen\n"
     ]
    },
    {
     "name": "stderr",
     "output_type": "stream",
     "text": [
      " 43%|████▎     | 79/184 [05:58<05:24,  3.09s/it]"
     ]
    },
    {
     "name": "stdout",
     "output_type": "stream",
     "text": [
      "skipping https://reviews.webmd.com/drugs/drugreview-187104-donislecel-jujn-suspension: page not found\n",
      "https://reviews.webmd.com/drugs/drugreview-187400-insulin-aspart-b3-pump-cart-cartridge\n"
     ]
    },
    {
     "name": "stderr",
     "output_type": "stream",
     "text": [
      " 43%|████▎     | 80/184 [06:01<05:14,  3.02s/it]"
     ]
    },
    {
     "name": "stdout",
     "output_type": "stream",
     "text": [
      "https://reviews.webmd.com/drugs/drugreview-187431-fiasp-pumpcart-cartridge\n"
     ]
    },
    {
     "name": "stderr",
     "output_type": "stream",
     "text": [
      " 45%|████▍     | 82/184 [06:05<04:25,  2.60s/it]"
     ]
    },
    {
     "name": "stdout",
     "output_type": "stream",
     "text": [
      "skipping https://reviews.webmd.com/drugs/drugreview-187492-lantidra-plastic-bag: page not found\n",
      "https://reviews.webmd.com/drugs/drugreview-19895-relion-n-innolet-suspension\n"
     ]
    },
    {
     "name": "stderr",
     "output_type": "stream",
     "text": [
      " 45%|████▌     | 83/184 [06:08<04:29,  2.67s/it]"
     ]
    },
    {
     "name": "stdout",
     "output_type": "stream",
     "text": [
      "https://reviews.webmd.com/drugs/drugreview-19896-relion-r-solution\n"
     ]
    },
    {
     "name": "stderr",
     "output_type": "stream",
     "text": [
      " 46%|████▌     | 84/184 [06:11<04:36,  2.76s/it]"
     ]
    },
    {
     "name": "stdout",
     "output_type": "stream",
     "text": [
      "https://reviews.webmd.com/drugs/drugreview-19897-insulin-70-30-suspension\n"
     ]
    },
    {
     "name": "stderr",
     "output_type": "stream",
     "text": [
      " 46%|████▌     | 85/184 [06:14<04:37,  2.81s/it]"
     ]
    },
    {
     "name": "stdout",
     "output_type": "stream",
     "text": [
      "https://reviews.webmd.com/drugs/drugreview-20224-humalog-mix-75-25-vial\n"
     ]
    },
    {
     "name": "stderr",
     "output_type": "stream",
     "text": [
      "100%|██████████| 1/1 [00:01<00:00,  1.86s/it]\n",
      " 47%|████▋     | 86/184 [06:20<06:05,  3.73s/it]"
     ]
    },
    {
     "name": "stdout",
     "output_type": "stream",
     "text": [
      "https://reviews.webmd.com/drugs/drugreview-20805-insulin-glargine-solostar-pen\n"
     ]
    },
    {
     "name": "stderr",
     "output_type": "stream",
     "text": [
      "100%|██████████| 1/1 [00:01<00:00,  1.62s/it]\n",
      " 47%|████▋     | 87/184 [06:26<07:03,  4.37s/it]"
     ]
    },
    {
     "name": "stdout",
     "output_type": "stream",
     "text": [
      "https://reviews.webmd.com/drugs/drugreview-20815-lantus-vial\n"
     ]
    },
    {
     "name": "stderr",
     "output_type": "stream",
     "text": [
      "100%|██████████| 6/6 [00:14<00:00,  2.49s/it]\n",
      " 48%|████▊     | 88/184 [06:44<13:41,  8.56s/it]"
     ]
    },
    {
     "name": "stdout",
     "output_type": "stream",
     "text": [
      "https://reviews.webmd.com/drugs/drugreview-21774-insulin-aspart-penfill-cartridge\n"
     ]
    },
    {
     "name": "stderr",
     "output_type": "stream",
     "text": [
      "100%|██████████| 1/1 [00:01<00:00,  1.86s/it]\n",
      " 48%|████▊     | 89/184 [06:49<11:45,  7.43s/it]"
     ]
    },
    {
     "name": "stdout",
     "output_type": "stream",
     "text": [
      "https://reviews.webmd.com/drugs/drugreview-21781-novolog-vial\n"
     ]
    },
    {
     "name": "stderr",
     "output_type": "stream",
     "text": [
      "100%|██████████| 2/2 [00:03<00:00,  1.97s/it]\n",
      " 49%|████▉     | 90/184 [06:56<11:33,  7.38s/it]"
     ]
    },
    {
     "name": "stdout",
     "output_type": "stream",
     "text": [
      "https://reviews.webmd.com/drugs/drugreview-3365-insulin-purified-regularpork-solution\n"
     ]
    },
    {
     "name": "stderr",
     "output_type": "stream",
     "text": [
      " 49%|████▉     | 91/184 [06:59<09:30,  6.14s/it]"
     ]
    },
    {
     "name": "stdout",
     "output_type": "stream",
     "text": [
      "https://reviews.webmd.com/drugs/drugreview-3448-humulin-70-30-vial\n"
     ]
    },
    {
     "name": "stderr",
     "output_type": "stream",
     "text": [
      "100%|██████████| 1/1 [00:01<00:00,  1.79s/it]\n",
      " 50%|█████     | 92/184 [07:05<09:13,  6.02s/it]"
     ]
    },
    {
     "name": "stdout",
     "output_type": "stream",
     "text": [
      "https://reviews.webmd.com/drugs/drugreview-3486-insulin-lispro-kwikpen-u-100-pen\n"
     ]
    },
    {
     "name": "stderr",
     "output_type": "stream",
     "text": [
      "100%|██████████| 1/1 [00:01<00:00,  1.96s/it]\n",
      " 51%|█████     | 93/184 [07:11<08:56,  5.89s/it]"
     ]
    },
    {
     "name": "stdout",
     "output_type": "stream",
     "text": [
      "https://reviews.webmd.com/drugs/drugreview-5218-humulin-r-vial\n"
     ]
    },
    {
     "name": "stderr",
     "output_type": "stream",
     "text": [
      "100%|██████████| 1/1 [00:01<00:00,  1.75s/it]\n",
      " 51%|█████     | 94/184 [07:16<08:27,  5.64s/it]"
     ]
    },
    {
     "name": "stdout",
     "output_type": "stream",
     "text": [
      "https://reviews.webmd.com/drugs/drugreview-5233-insulin-regular-human-solution\n"
     ]
    },
    {
     "name": "stderr",
     "output_type": "stream",
     "text": [
      "100%|██████████| 1/1 [00:01<00:00,  1.71s/it]\n",
      " 52%|█████▏    | 95/184 [07:21<08:02,  5.42s/it]"
     ]
    },
    {
     "name": "stdout",
     "output_type": "stream",
     "text": [
      "https://reviews.webmd.com/drugs/drugreview-53435-velosulin-r-solution\n"
     ]
    },
    {
     "name": "stderr",
     "output_type": "stream",
     "text": [
      " 52%|█████▏    | 96/184 [07:23<06:46,  4.62s/it]"
     ]
    },
    {
     "name": "stdout",
     "output_type": "stream",
     "text": [
      "https://reviews.webmd.com/drugs/drugreview-53436-insulin-r-purified-pork-solution\n"
     ]
    },
    {
     "name": "stderr",
     "output_type": "stream",
     "text": [
      " 53%|█████▎    | 97/184 [07:26<05:59,  4.13s/it]"
     ]
    },
    {
     "name": "stdout",
     "output_type": "stream",
     "text": [
      "https://reviews.webmd.com/drugs/drugreview-53437-purified-pork-insulin-solution\n"
     ]
    },
    {
     "name": "stderr",
     "output_type": "stream",
     "text": [
      " 53%|█████▎    | 98/184 [07:29<05:22,  3.75s/it]"
     ]
    },
    {
     "name": "stdout",
     "output_type": "stream",
     "text": [
      "https://reviews.webmd.com/drugs/drugreview-53438-insulin-regular-purified-pork-solution\n"
     ]
    },
    {
     "name": "stderr",
     "output_type": "stream",
     "text": [
      " 54%|█████▍    | 99/184 [07:32<04:55,  3.47s/it]"
     ]
    },
    {
     "name": "stdout",
     "output_type": "stream",
     "text": [
      "https://reviews.webmd.com/drugs/drugreview-53439-iletin-ii-regularpork-solution\n"
     ]
    },
    {
     "name": "stderr",
     "output_type": "stream",
     "text": [
      " 54%|█████▍    | 100/184 [07:35<04:44,  3.39s/it]"
     ]
    },
    {
     "name": "stdout",
     "output_type": "stream",
     "text": [
      "https://reviews.webmd.com/drugs/drugreview-53440-insulatard-n-suspension\n"
     ]
    },
    {
     "name": "stderr",
     "output_type": "stream",
     "text": [
      " 55%|█████▍    | 101/184 [07:39<04:41,  3.39s/it]"
     ]
    },
    {
     "name": "stdout",
     "output_type": "stream",
     "text": [
      "https://reviews.webmd.com/drugs/drugreview-53441-insulin-n-purified-pork-suspension\n"
     ]
    },
    {
     "name": "stderr",
     "output_type": "stream",
     "text": [
      " 55%|█████▌    | 102/184 [07:42<04:36,  3.38s/it]"
     ]
    },
    {
     "name": "stdout",
     "output_type": "stream",
     "text": [
      "https://reviews.webmd.com/drugs/drugreview-53442-insulin-nph-purified-pork-suspension\n"
     ]
    },
    {
     "name": "stderr",
     "output_type": "stream",
     "text": [
      " 56%|█████▌    | 103/184 [07:45<04:25,  3.27s/it]"
     ]
    },
    {
     "name": "stdout",
     "output_type": "stream",
     "text": [
      "https://reviews.webmd.com/drugs/drugreview-53443-iletin-ii-regularpork-suspension\n"
     ]
    },
    {
     "name": "stderr",
     "output_type": "stream",
     "text": [
      " 57%|█████▋    | 104/184 [07:48<04:17,  3.22s/it]"
     ]
    },
    {
     "name": "stdout",
     "output_type": "stream",
     "text": [
      "https://reviews.webmd.com/drugs/drugreview-53444-insulin-l-pork-purified-suspension\n"
     ]
    },
    {
     "name": "stderr",
     "output_type": "stream",
     "text": [
      " 57%|█████▋    | 105/184 [07:51<04:11,  3.19s/it]"
     ]
    },
    {
     "name": "stdout",
     "output_type": "stream",
     "text": [
      "https://reviews.webmd.com/drugs/drugreview-53445-insulin-r-pork-purified-suspension\n"
     ]
    },
    {
     "name": "stderr",
     "output_type": "stream",
     "text": [
      " 58%|█████▊    | 106/184 [07:54<04:03,  3.13s/it]"
     ]
    },
    {
     "name": "stdout",
     "output_type": "stream",
     "text": [
      "https://reviews.webmd.com/drugs/drugreview-53446-iletin-ii-nphpork-suspension\n"
     ]
    },
    {
     "name": "stderr",
     "output_type": "stream",
     "text": [
      " 59%|█████▊    | 108/184 [07:59<03:26,  2.72s/it]"
     ]
    },
    {
     "name": "stdout",
     "output_type": "stream",
     "text": [
      "skipping https://reviews.webmd.com/drugs/drugreview-53447-insulin-l-purified-pork-suspension: page not found\n"
     ]
    },
    {
     "name": "stderr",
     "output_type": "stream",
     "text": [
      " 59%|█████▉    | 109/184 [08:01<03:07,  2.50s/it]"
     ]
    },
    {
     "name": "stdout",
     "output_type": "stream",
     "text": [
      "skipping https://reviews.webmd.com/drugs/drugreview-53448-insulin-lente-purified-pork-suspension: page not found\n"
     ]
    },
    {
     "name": "stderr",
     "output_type": "stream",
     "text": [
      " 60%|█████▉    | 110/184 [08:03<02:50,  2.30s/it]"
     ]
    },
    {
     "name": "stdout",
     "output_type": "stream",
     "text": [
      "skipping https://reviews.webmd.com/drugs/drugreview-53449-velosulin-human-r-solution: page not found\n"
     ]
    },
    {
     "name": "stderr",
     "output_type": "stream",
     "text": [
      " 60%|██████    | 111/184 [08:05<02:47,  2.29s/it]"
     ]
    },
    {
     "name": "stdout",
     "output_type": "stream",
     "text": [
      "skipping https://reviews.webmd.com/drugs/drugreview-53450-velosulin-human-br-solution: page not found\n"
     ]
    },
    {
     "name": "stderr",
     "output_type": "stream",
     "text": [
      " 61%|██████    | 112/184 [08:07<02:36,  2.17s/it]"
     ]
    },
    {
     "name": "stdout",
     "output_type": "stream",
     "text": [
      "skipping https://reviews.webmd.com/drugs/drugreview-53451-velosulin-human-solution: page not found\n"
     ]
    },
    {
     "name": "stderr",
     "output_type": "stream",
     "text": [
      " 61%|██████▏   | 113/184 [08:09<02:27,  2.08s/it]"
     ]
    },
    {
     "name": "stdout",
     "output_type": "stream",
     "text": [
      "skipping https://reviews.webmd.com/drugs/drugreview-53452-humulin-br-solution: page not found\n",
      "https://reviews.webmd.com/drugs/drugreview-5953-humulin-n-vial\n"
     ]
    },
    {
     "name": "stderr",
     "output_type": "stream",
     "text": [
      "100%|██████████| 1/1 [00:01<00:00,  1.82s/it]\n",
      " 62%|██████▎   | 115/184 [08:16<03:06,  2.71s/it]"
     ]
    },
    {
     "name": "stdout",
     "output_type": "stream",
     "text": [
      "skipping https://reviews.webmd.com/drugs/drugreview-6021-insulin-zinc-human-recomb-suspension: page not found\n",
      "https://reviews.webmd.com/drugs/drugreview-6158-insulin-nph-isoph-u-human-suspension\n"
     ]
    },
    {
     "name": "stderr",
     "output_type": "stream",
     "text": [
      "100%|██████████| 1/1 [00:01<00:00,  1.72s/it]\n",
      " 63%|██████▎   | 116/184 [08:21<03:47,  3.35s/it]"
     ]
    },
    {
     "name": "stdout",
     "output_type": "stream",
     "text": [
      "https://reviews.webmd.com/drugs/drugreview-6159-insulin-nph-and-regular-human-suspension\n"
     ]
    },
    {
     "name": "stderr",
     "output_type": "stream",
     "text": [
      "100%|██████████| 1/1 [00:01<00:00,  1.91s/it]\n",
      " 64%|██████▎   | 117/184 [08:26<04:17,  3.85s/it]"
     ]
    },
    {
     "name": "stdout",
     "output_type": "stream",
     "text": [
      "https://reviews.webmd.com/drugs/drugreview-63178-humulin-suspension\n"
     ]
    },
    {
     "name": "stderr",
     "output_type": "stream",
     "text": [
      " 65%|██████▍   | 119/184 [08:31<03:18,  3.05s/it]"
     ]
    },
    {
     "name": "stdout",
     "output_type": "stream",
     "text": [
      "skipping https://reviews.webmd.com/drugs/drugreview-63549-insulin-beef-solution: page not found\n"
     ]
    },
    {
     "name": "stderr",
     "output_type": "stream",
     "text": [
      " 65%|██████▌   | 120/184 [08:32<02:52,  2.70s/it]"
     ]
    },
    {
     "name": "stdout",
     "output_type": "stream",
     "text": [
      "skipping https://reviews.webmd.com/drugs/drugreview-63550-insulin-regular-human-semi-syn-cartridge: page not found\n"
     ]
    },
    {
     "name": "stderr",
     "output_type": "stream",
     "text": [
      " 66%|██████▌   | 121/184 [08:34<02:33,  2.43s/it]"
     ]
    },
    {
     "name": "stdout",
     "output_type": "stream",
     "text": [
      "skipping https://reviews.webmd.com/drugs/drugreview-63552-insulin-pork-solution: page not found\n",
      "https://reviews.webmd.com/drugs/drugreview-63742-insulin-70-30-innolet-suspension\n"
     ]
    },
    {
     "name": "stderr",
     "output_type": "stream",
     "text": [
      " 66%|██████▋   | 122/184 [08:37<02:38,  2.56s/it]"
     ]
    },
    {
     "name": "stdout",
     "output_type": "stream",
     "text": [
      "https://reviews.webmd.com/drugs/drugreview-64070-insulin-aspart-prot-mix-70-30-pen\n"
     ]
    },
    {
     "name": "stderr",
     "output_type": "stream",
     "text": [
      "100%|██████████| 1/1 [00:01<00:00,  1.70s/it]\n",
      " 67%|██████▋   | 123/184 [08:42<03:13,  3.17s/it]"
     ]
    },
    {
     "name": "stdout",
     "output_type": "stream",
     "text": [
      "https://reviews.webmd.com/drugs/drugreview-64071-novolog-mix-70-30-vial\n"
     ]
    },
    {
     "name": "stderr",
     "output_type": "stream",
     "text": [
      "100%|██████████| 1/1 [00:01<00:00,  1.77s/it]\n",
      " 68%|██████▊   | 125/184 [08:50<03:22,  3.44s/it]"
     ]
    },
    {
     "name": "stdout",
     "output_type": "stream",
     "text": [
      "skipping https://reviews.webmd.com/drugs/drugreview-64227-insulin-regular-pork-conc-solution: page not found\n"
     ]
    },
    {
     "name": "stderr",
     "output_type": "stream",
     "text": [
      " 68%|██████▊   | 126/184 [08:52<02:54,  3.02s/it]"
     ]
    },
    {
     "name": "stdout",
     "output_type": "stream",
     "text": [
      "skipping https://reviews.webmd.com/drugs/drugreview-64670-insulin-nph-regular-hum-s-syn-cartridge: page not found\n"
     ]
    },
    {
     "name": "stderr",
     "output_type": "stream",
     "text": [
      " 69%|██████▉   | 127/184 [08:54<02:37,  2.76s/it]"
     ]
    },
    {
     "name": "stdout",
     "output_type": "stream",
     "text": [
      "skipping https://reviews.webmd.com/drugs/drugreview-64671-insulin-nph-regular-pork-pure-solution: page not found\n"
     ]
    },
    {
     "name": "stderr",
     "output_type": "stream",
     "text": [
      " 70%|██████▉   | 128/184 [08:56<02:19,  2.49s/it]"
     ]
    },
    {
     "name": "stdout",
     "output_type": "stream",
     "text": [
      "skipping https://reviews.webmd.com/drugs/drugreview-64672-insulin-protamine-zinc-beef-suspension: page not found\n"
     ]
    },
    {
     "name": "stderr",
     "output_type": "stream",
     "text": [
      " 70%|███████   | 129/184 [08:58<02:06,  2.31s/it]"
     ]
    },
    {
     "name": "stdout",
     "output_type": "stream",
     "text": [
      "skipping https://reviews.webmd.com/drugs/drugreview-64673-insulin-protamine-zn-beef-pure-suspension: page not found\n"
     ]
    },
    {
     "name": "stderr",
     "output_type": "stream",
     "text": [
      " 71%|███████   | 130/184 [09:00<01:58,  2.19s/it]"
     ]
    },
    {
     "name": "stdout",
     "output_type": "stream",
     "text": [
      "skipping https://reviews.webmd.com/drugs/drugreview-64674-insulin-protamine-zn-pork-pure-suspension: page not found\n"
     ]
    },
    {
     "name": "stderr",
     "output_type": "stream",
     "text": [
      " 71%|███████   | 131/184 [09:01<01:48,  2.05s/it]"
     ]
    },
    {
     "name": "stdout",
     "output_type": "stream",
     "text": [
      "skipping https://reviews.webmd.com/drugs/drugreview-64675-insulin-protamine-zn-beef-pork-suspension: page not found\n"
     ]
    },
    {
     "name": "stderr",
     "output_type": "stream",
     "text": [
      " 72%|███████▏  | 132/184 [09:03<01:48,  2.08s/it]"
     ]
    },
    {
     "name": "stdout",
     "output_type": "stream",
     "text": [
      "skipping https://reviews.webmd.com/drugs/drugreview-64676-insulin-isophane-beef-suspension: page not found\n"
     ]
    },
    {
     "name": "stderr",
     "output_type": "stream",
     "text": [
      " 72%|███████▏  | 133/184 [09:05<01:43,  2.02s/it]"
     ]
    },
    {
     "name": "stdout",
     "output_type": "stream",
     "text": [
      "skipping https://reviews.webmd.com/drugs/drugreview-64677-insulin-isophane-beef-pure-suspension: page not found\n",
      "https://reviews.webmd.com/drugs/drugreview-64678-insulin-nph-human-semi-syn-suspension\n"
     ]
    },
    {
     "name": "stderr",
     "output_type": "stream",
     "text": [
      "100%|██████████| 1/1 [00:01<00:00,  1.63s/it]\n",
      " 73%|███████▎  | 135/184 [09:12<02:03,  2.52s/it]"
     ]
    },
    {
     "name": "stdout",
     "output_type": "stream",
     "text": [
      "skipping https://reviews.webmd.com/drugs/drugreview-64679-ins-zn-bf-pure-ins-pk-pure-suspension: page not found\n"
     ]
    },
    {
     "name": "stderr",
     "output_type": "stream",
     "text": [
      " 74%|███████▍  | 136/184 [09:14<01:50,  2.29s/it]"
     ]
    },
    {
     "name": "stdout",
     "output_type": "stream",
     "text": [
      "skipping https://reviews.webmd.com/drugs/drugreview-64680-insulin-zinc-beef-suspension: page not found\n"
     ]
    },
    {
     "name": "stderr",
     "output_type": "stream",
     "text": [
      " 74%|███████▍  | 137/184 [09:16<01:42,  2.17s/it]"
     ]
    },
    {
     "name": "stdout",
     "output_type": "stream",
     "text": [
      "skipping https://reviews.webmd.com/drugs/drugreview-64681-insulin-zinc-beef-purified-suspension: page not found\n"
     ]
    },
    {
     "name": "stderr",
     "output_type": "stream",
     "text": [
      " 75%|███████▌  | 138/184 [09:18<01:38,  2.14s/it]"
     ]
    },
    {
     "name": "stdout",
     "output_type": "stream",
     "text": [
      "skipping https://reviews.webmd.com/drugs/drugreview-64682-insulin-zinc-human-semi-syn-suspension: page not found\n"
     ]
    },
    {
     "name": "stderr",
     "output_type": "stream",
     "text": [
      " 76%|███████▌  | 139/184 [09:20<01:33,  2.09s/it]"
     ]
    },
    {
     "name": "stdout",
     "output_type": "stream",
     "text": [
      "skipping https://reviews.webmd.com/drugs/drugreview-64683-insulin-zinc-extended-beef-suspension: page not found\n"
     ]
    },
    {
     "name": "stderr",
     "output_type": "stream",
     "text": [
      " 76%|███████▌  | 140/184 [09:21<01:29,  2.03s/it]"
     ]
    },
    {
     "name": "stdout",
     "output_type": "stream",
     "text": [
      "skipping https://reviews.webmd.com/drugs/drugreview-64684-insulin-zinc-ext-beef-pure-suspension: page not found\n"
     ]
    },
    {
     "name": "stderr",
     "output_type": "stream",
     "text": [
      " 77%|███████▋  | 141/184 [09:23<01:25,  1.98s/it]"
     ]
    },
    {
     "name": "stdout",
     "output_type": "stream",
     "text": [
      "skipping https://reviews.webmd.com/drugs/drugreview-64685-insulin-zinc-ext-beef-pork-suspension: page not found\n"
     ]
    },
    {
     "name": "stderr",
     "output_type": "stream",
     "text": [
      " 77%|███████▋  | 142/184 [09:25<01:24,  2.01s/it]"
     ]
    },
    {
     "name": "stdout",
     "output_type": "stream",
     "text": [
      "skipping https://reviews.webmd.com/drugs/drugreview-64686-insulin-zinc-prompt-beef-suspension: page not found\n"
     ]
    },
    {
     "name": "stderr",
     "output_type": "stream",
     "text": [
      " 78%|███████▊  | 143/184 [09:28<01:24,  2.07s/it]"
     ]
    },
    {
     "name": "stdout",
     "output_type": "stream",
     "text": [
      "skipping https://reviews.webmd.com/drugs/drugreview-64687-insulin-zinc-prompt-pork-pure-suspension: page not found\n"
     ]
    },
    {
     "name": "stderr",
     "output_type": "stream",
     "text": [
      " 78%|███████▊  | 144/184 [09:30<01:30,  2.26s/it]"
     ]
    },
    {
     "name": "stdout",
     "output_type": "stream",
     "text": [
      "skipping https://reviews.webmd.com/drugs/drugreview-64688-insulin-zinc-prompt-beef-pork-suspension: page not found\n",
      "https://reviews.webmd.com/drugs/drugreview-64858-novolog-flexpen-insulin-pen\n"
     ]
    },
    {
     "name": "stderr",
     "output_type": "stream",
     "text": [
      "100%|██████████| 3/3 [00:05<00:00,  1.98s/it]\n",
      " 79%|███████▉  | 145/184 [09:40<02:53,  4.44s/it]"
     ]
    },
    {
     "name": "stdout",
     "output_type": "stream",
     "text": [
      "https://reviews.webmd.com/drugs/drugreview-6836-iletin-ii-nph-pork-suspension\n"
     ]
    },
    {
     "name": "stderr",
     "output_type": "stream",
     "text": [
      " 79%|███████▉  | 146/184 [09:44<02:40,  4.23s/it]"
     ]
    },
    {
     "name": "stdout",
     "output_type": "stream",
     "text": [
      "https://reviews.webmd.com/drugs/drugreview-6837-insulin-isophane-pork-pure-suspension\n"
     ]
    },
    {
     "name": "stderr",
     "output_type": "stream",
     "text": [
      " 80%|████████  | 148/184 [09:48<01:55,  3.20s/it]"
     ]
    },
    {
     "name": "stdout",
     "output_type": "stream",
     "text": [
      "skipping https://reviews.webmd.com/drugs/drugreview-6842-insulin-purified-lente-pork-suspension: page not found\n"
     ]
    },
    {
     "name": "stderr",
     "output_type": "stream",
     "text": [
      " 81%|████████  | 149/184 [09:50<01:38,  2.82s/it]"
     ]
    },
    {
     "name": "stdout",
     "output_type": "stream",
     "text": [
      "skipping https://reviews.webmd.com/drugs/drugreview-6843-insulin-zinc-pork-purified-suspension: page not found\n"
     ]
    },
    {
     "name": "stderr",
     "output_type": "stream",
     "text": [
      " 82%|████████▏ | 150/184 [09:52<01:26,  2.53s/it]"
     ]
    },
    {
     "name": "stdout",
     "output_type": "stream",
     "text": [
      "skipping https://reviews.webmd.com/drugs/drugreview-7359-humulin-u-insulin-suspension: page not found\n"
     ]
    },
    {
     "name": "stderr",
     "output_type": "stream",
     "text": [
      " 82%|████████▏ | 151/184 [09:54<01:18,  2.39s/it]"
     ]
    },
    {
     "name": "stdout",
     "output_type": "stream",
     "text": [
      "skipping https://reviews.webmd.com/drugs/drugreview-7360-insulin-zinc-extended-human-suspension: page not found\n"
     ]
    },
    {
     "name": "stderr",
     "output_type": "stream",
     "text": [
      " 83%|████████▎ | 152/184 [09:56<01:14,  2.32s/it]"
     ]
    },
    {
     "name": "stdout",
     "output_type": "stream",
     "text": [
      "skipping https://reviews.webmd.com/drugs/drugreview-7599-iletin-i-nph-suspension: page not found\n"
     ]
    },
    {
     "name": "stderr",
     "output_type": "stream",
     "text": [
      " 83%|████████▎ | 153/184 [09:58<01:08,  2.21s/it]"
     ]
    },
    {
     "name": "stdout",
     "output_type": "stream",
     "text": [
      "skipping https://reviews.webmd.com/drugs/drugreview-7600-insulin-nph-beef-pork-suspension: page not found\n"
     ]
    },
    {
     "name": "stderr",
     "output_type": "stream",
     "text": [
      " 84%|████████▎ | 154/184 [10:00<01:03,  2.11s/it]"
     ]
    },
    {
     "name": "stdout",
     "output_type": "stream",
     "text": [
      "skipping https://reviews.webmd.com/drugs/drugreview-76307-novolin-l-suspension: page not found\n",
      "https://reviews.webmd.com/drugs/drugreview-76308-novolin-n-vial\n"
     ]
    },
    {
     "name": "stderr",
     "output_type": "stream",
     "text": [
      "100%|██████████| 1/1 [00:02<00:00,  2.61s/it]\n",
      " 84%|████████▍ | 155/184 [10:06<01:32,  3.20s/it]"
     ]
    },
    {
     "name": "stdout",
     "output_type": "stream",
     "text": [
      "https://reviews.webmd.com/drugs/drugreview-78112-insulin-nph-innolet-pen\n"
     ]
    },
    {
     "name": "stderr",
     "output_type": "stream",
     "text": [
      " 85%|████████▍ | 156/184 [10:10<01:35,  3.42s/it]"
     ]
    },
    {
     "name": "stdout",
     "output_type": "stream",
     "text": [
      "https://reviews.webmd.com/drugs/drugreview-78113-insulin-nph-reg-innolet-pen\n"
     ]
    },
    {
     "name": "stderr",
     "output_type": "stream",
     "text": [
      " 85%|████████▌ | 157/184 [10:13<01:33,  3.46s/it]"
     ]
    },
    {
     "name": "stdout",
     "output_type": "stream",
     "text": [
      "https://reviews.webmd.com/drugs/drugreview-88973-novolin-70-30-innolet-insulin-pen\n"
     ]
    },
    {
     "name": "stderr",
     "output_type": "stream",
     "text": [
      "100%|██████████| 1/1 [00:02<00:00,  2.69s/it]\n",
      " 86%|████████▋ | 159/184 [10:23<01:38,  3.96s/it]"
     ]
    },
    {
     "name": "stdout",
     "output_type": "stream",
     "text": [
      "skipping https://reviews.webmd.com/drugs/drugreview-90872-insulin-lente-beef-suspension: page not found\n"
     ]
    },
    {
     "name": "stderr",
     "output_type": "stream",
     "text": [
      " 87%|████████▋ | 160/184 [10:25<01:20,  3.36s/it]"
     ]
    },
    {
     "name": "stdout",
     "output_type": "stream",
     "text": [
      "skipping https://reviews.webmd.com/drugs/drugreview-90873-insulin-nph-beef-suspension: page not found\n"
     ]
    },
    {
     "name": "stderr",
     "output_type": "stream",
     "text": [
      " 88%|████████▊ | 161/184 [10:27<01:07,  2.93s/it]"
     ]
    },
    {
     "name": "stdout",
     "output_type": "stream",
     "text": [
      "skipping https://reviews.webmd.com/drugs/drugreview-91890-iletin-i-protamine-zinc-suspension: page not found\n"
     ]
    },
    {
     "name": "stderr",
     "output_type": "stream",
     "text": [
      " 88%|████████▊ | 162/184 [10:29<00:57,  2.61s/it]"
     ]
    },
    {
     "name": "stdout",
     "output_type": "stream",
     "text": [
      "skipping https://reviews.webmd.com/drugs/drugreview-91891-iletin-ii-protamine-zincpork-suspension: page not found\n"
     ]
    },
    {
     "name": "stderr",
     "output_type": "stream",
     "text": [
      " 89%|████████▊ | 163/184 [10:31<00:51,  2.43s/it]"
     ]
    },
    {
     "name": "stdout",
     "output_type": "stream",
     "text": [
      "skipping https://reviews.webmd.com/drugs/drugreview-91892-iletin-ii-protamine-zincbeef-suspension: page not found\n"
     ]
    },
    {
     "name": "stderr",
     "output_type": "stream",
     "text": [
      " 89%|████████▉ | 164/184 [10:33<00:45,  2.26s/it]"
     ]
    },
    {
     "name": "stdout",
     "output_type": "stream",
     "text": [
      "skipping https://reviews.webmd.com/drugs/drugreview-91893-iletin-ii-regularbeef-solution: page not found\n"
     ]
    },
    {
     "name": "stderr",
     "output_type": "stream",
     "text": [
      " 90%|████████▉ | 165/184 [10:35<00:41,  2.17s/it]"
     ]
    },
    {
     "name": "stdout",
     "output_type": "stream",
     "text": [
      "skipping https://reviews.webmd.com/drugs/drugreview-91895-iletin-ii-lentebeef-suspension: page not found\n"
     ]
    },
    {
     "name": "stderr",
     "output_type": "stream",
     "text": [
      " 90%|█████████ | 166/184 [10:37<00:37,  2.08s/it]"
     ]
    },
    {
     "name": "stdout",
     "output_type": "stream",
     "text": [
      "skipping https://reviews.webmd.com/drugs/drugreview-91896-iletin-ii-regularporkconc-solution: page not found\n"
     ]
    },
    {
     "name": "stderr",
     "output_type": "stream",
     "text": [
      " 91%|█████████ | 167/184 [10:39<00:35,  2.06s/it]"
     ]
    },
    {
     "name": "stdout",
     "output_type": "stream",
     "text": [
      "skipping https://reviews.webmd.com/drugs/drugreview-91897-iletin-i-semilente-suspension: page not found\n"
     ]
    },
    {
     "name": "stderr",
     "output_type": "stream",
     "text": [
      " 91%|█████████▏| 168/184 [10:41<00:32,  2.05s/it]"
     ]
    },
    {
     "name": "stdout",
     "output_type": "stream",
     "text": [
      "skipping https://reviews.webmd.com/drugs/drugreview-91898-iletin-i-ultralente-suspension: page not found\n",
      "https://reviews.webmd.com/drugs/drugreview-91900-insulatard-human-n-suspension\n"
     ]
    },
    {
     "name": "stderr",
     "output_type": "stream",
     "text": [
      " 92%|█████████▏| 170/184 [10:46<00:31,  2.25s/it]"
     ]
    },
    {
     "name": "stdout",
     "output_type": "stream",
     "text": [
      "skipping https://reviews.webmd.com/drugs/drugreview-91915-mixtard-70-30-solution: page not found\n"
     ]
    },
    {
     "name": "stderr",
     "output_type": "stream",
     "text": [
      " 93%|█████████▎| 171/184 [10:48<00:27,  2.15s/it]"
     ]
    },
    {
     "name": "stdout",
     "output_type": "stream",
     "text": [
      "skipping https://reviews.webmd.com/drugs/drugreview-91917-mixtard-human-70-30-solution: page not found\n"
     ]
    },
    {
     "name": "stderr",
     "output_type": "stream",
     "text": [
      " 93%|█████████▎| 172/184 [10:50<00:24,  2.08s/it]"
     ]
    },
    {
     "name": "stdout",
     "output_type": "stream",
     "text": [
      "skipping https://reviews.webmd.com/drugs/drugreview-91932-monotard-human-lente-suspension: page not found\n"
     ]
    },
    {
     "name": "stderr",
     "output_type": "stream",
     "text": [
      " 94%|█████████▍| 173/184 [10:51<00:22,  2.03s/it]"
     ]
    },
    {
     "name": "stdout",
     "output_type": "stream",
     "text": [
      "skipping https://reviews.webmd.com/drugs/drugreview-91935-lentard-insulin-purified-suspension: page not found\n",
      "https://reviews.webmd.com/drugs/drugreview-93248-novolin-r-innolet-insulin-pen\n"
     ]
    },
    {
     "name": "stderr",
     "output_type": "stream",
     "text": [
      " 95%|█████████▍| 174/184 [10:55<00:24,  2.48s/it]"
     ]
    },
    {
     "name": "stdout",
     "output_type": "stream",
     "text": [
      "https://reviews.webmd.com/drugs/drugreview-94011-insulin-detemir-u-solution\n"
     ]
    },
    {
     "name": "stderr",
     "output_type": "stream",
     "text": [
      "100%|██████████| 1/1 [00:01<00:00,  1.70s/it]\n",
      " 95%|█████████▌| 175/184 [11:00<00:28,  3.17s/it]"
     ]
    },
    {
     "name": "stdout",
     "output_type": "stream",
     "text": [
      "https://reviews.webmd.com/drugs/drugreview-94092-novolog-mix-70-30-flexpen-insulin-pen\n"
     ]
    },
    {
     "name": "stderr",
     "output_type": "stream",
     "text": [
      "100%|██████████| 2/2 [00:05<00:00,  2.59s/it]\n",
      " 96%|█████████▌| 176/184 [11:09<00:38,  4.85s/it]"
     ]
    },
    {
     "name": "stdout",
     "output_type": "stream",
     "text": [
      "https://reviews.webmd.com/drugs/drugreview-94376-novolin-n-innolet-insulin-pen\n"
     ]
    },
    {
     "name": "stderr",
     "output_type": "stream",
     "text": [
      "100%|██████████| 1/1 [00:01<00:00,  1.77s/it]\n",
      " 96%|█████████▌| 177/184 [11:14<00:34,  4.97s/it]"
     ]
    },
    {
     "name": "stdout",
     "output_type": "stream",
     "text": [
      "https://reviews.webmd.com/drugs/drugreview-94838-insulin-glulisine-u-solution\n"
     ]
    },
    {
     "name": "stderr",
     "output_type": "stream",
     "text": [
      " 97%|█████████▋| 178/184 [11:17<00:26,  4.40s/it]"
     ]
    },
    {
     "name": "stdout",
     "output_type": "stream",
     "text": [
      "https://reviews.webmd.com/drugs/drugreview-94890-apidra-vial\n"
     ]
    },
    {
     "name": "stderr",
     "output_type": "stream",
     "text": [
      "100%|██████████| 1/1 [00:02<00:00,  2.27s/it]\n",
      " 97%|█████████▋| 179/184 [11:24<00:25,  5.14s/it]"
     ]
    },
    {
     "name": "stdout",
     "output_type": "stream",
     "text": [
      "https://reviews.webmd.com/drugs/drugreview-94930-humalog-mix-50-50-vial\n"
     ]
    },
    {
     "name": "stderr",
     "output_type": "stream",
     "text": [
      "100%|██████████| 1/1 [00:01<00:00,  1.68s/it]\n",
      " 98%|█████████▊| 181/184 [11:31<00:12,  4.17s/it]"
     ]
    },
    {
     "name": "stdout",
     "output_type": "stream",
     "text": [
      "skipping https://reviews.webmd.com/drugs/drugreview-94948-novolin-70-30-semi-synthetic-cartridge: page not found\n",
      "https://reviews.webmd.com/drugs/drugreview-95012-insulin-regular-human-cartridge-with-inhaler\n"
     ]
    },
    {
     "name": "stderr",
     "output_type": "stream",
     "text": [
      "100%|██████████| 1/1 [00:01<00:00,  1.63s/it]\n",
      " 99%|█████████▉| 182/184 [11:35<00:08,  4.29s/it]"
     ]
    },
    {
     "name": "stdout",
     "output_type": "stream",
     "text": [
      "https://reviews.webmd.com/drugs/drugreview-95095-levemir-vial\n"
     ]
    },
    {
     "name": "stderr",
     "output_type": "stream",
     "text": [
      "100%|██████████| 3/3 [00:07<00:00,  2.48s/it]\n",
      " 99%|█████████▉| 183/184 [11:46<00:06,  6.33s/it]"
     ]
    },
    {
     "name": "stdout",
     "output_type": "stream",
     "text": [
      "https://reviews.webmd.com/drugs/drugreview-95096-levemir-flexpen-insulin-pen\n"
     ]
    },
    {
     "name": "stderr",
     "output_type": "stream",
     "text": [
      "100%|██████████| 11/11 [00:21<00:00,  1.98s/it]\n",
      "100%|██████████| 184/184 [12:12<00:00,  3.98s/it]\n"
     ]
    }
   ],
   "source": [
    "#all drugs\n",
    "for review_url in tqdm(review_urls):\n",
    "    response = requests.get(review_url, headers=headers)\n",
    "    if response.url == 'https://www.webmd.com/404':\n",
    "        print(f'skipping {review_url}: page not found')\n",
    "    else:\n",
    "        print(review_url)\n",
    "        reviews_df = crawl_reviews_pages(review_url, reviews_df)\n",
    "        \n",
    "reviews_df.to_csv('../../data/datasets/t1diabetes_reviews.csv')\n"
   ]
  }
 ],
 "metadata": {
  "kernelspec": {
   "display_name": "rioxarray_env",
   "language": "python",
   "name": "python3"
  },
  "language_info": {
   "codemirror_mode": {
    "name": "ipython",
    "version": 3
   },
   "file_extension": ".py",
   "mimetype": "text/x-python",
   "name": "python",
   "nbconvert_exporter": "python",
   "pygments_lexer": "ipython3",
   "version": "3.9.18"
  }
 },
 "nbformat": 4,
 "nbformat_minor": 2
}
