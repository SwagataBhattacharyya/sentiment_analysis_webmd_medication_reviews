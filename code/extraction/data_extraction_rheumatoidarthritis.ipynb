{
 "cells": [
  {
   "cell_type": "markdown",
   "metadata": {},
   "source": [
    "Medication reviews extracted from webmd for diabetes type 2 mellitus.\n",
    "\n",
    "Source code applied to extract reviews from web.MD: 'https://github.com/sepidehparhami/scraping-webmd-drug-reviews/tree/main'. "
   ]
  },
  {
   "cell_type": "code",
   "execution_count": 1,
   "metadata": {},
   "outputs": [
    {
     "data": {
      "text/plain": [
       "array(['https://reviews.webmd.com/drugs/drugreview-10132-hydrocortisone-alcohol-lotion',\n",
       "       'https://reviews.webmd.com/drugs/drugreview-10140-cotacort-lotion',\n",
       "       'https://reviews.webmd.com/drugs/drugreview-10402-hydrocortisone-cream',\n",
       "       'https://reviews.webmd.com/drugs/drugreview-10402-hydrocortisone-cream-with-perineal-applicator',\n",
       "       'https://reviews.webmd.com/drugs/drugreview-10431-ala-scalp-lotion',\n",
       "       'https://reviews.webmd.com/drugs/drugreview-10438-cetacort-lotion',\n",
       "       'https://reviews.webmd.com/drugs/drugreview-10447-gly-cort-lotion',\n",
       "       'https://reviews.webmd.com/drugs/drugreview-10464-rederm-lotion',\n",
       "       'https://reviews.webmd.com/drugs/drugreview-10472-ala-cort-cream',\n",
       "       'https://reviews.webmd.com/drugs/drugreview-10477-hc-cream',\n",
       "       'https://reviews.webmd.com/drugs/drugreview-10499-cortane-lotion',\n",
       "       'https://reviews.webmd.com/drugs/drugreview-10533-corticreme-cream',\n",
       "       'https://reviews.webmd.com/drugs/drugreview-10614-recort-plus-lotion',\n",
       "       'https://reviews.webmd.com/drugs/drugreview-10629-neutrogena-t-scalp-solution',\n",
       "       'https://reviews.webmd.com/drugs/drugreview-10681-yeast-x-external-cream',\n",
       "       'https://reviews.webmd.com/drugs/drugreview-10682-demarest-dricort-cream',\n",
       "       'https://reviews.webmd.com/drugs/drugreview-10817-hm-hydrocort-cream',\n",
       "       'https://reviews.webmd.com/drugs/drugreview-10818-mdl-hydrocortisone-cream',\n",
       "       'https://reviews.webmd.com/drugs/drugreview-10819-fv-hydrocortisone-acetate-cream',\n",
       "       'https://reviews.webmd.com/drugs/drugreview-10820-hm-hydrocortisone-acetate-cream',\n",
       "       'https://reviews.webmd.com/drugs/drugreview-10923-mdl-hydrocortisone-aloe-cream',\n",
       "       'https://reviews.webmd.com/drugs/drugreview-11199-synemol-cream',\n",
       "       'https://reviews.webmd.com/drugs/drugreview-11440-aquanil-hc-lotion',\n",
       "       'https://reviews.webmd.com/drugs/drugreview-1201-aristocort-r-cream',\n",
       "       'https://reviews.webmd.com/drugs/drugreview-1212-diprolene-gel',\n",
       "       'https://reviews.webmd.com/drugs/drugreview-12194-theracort-lotion',\n",
       "       'https://reviews.webmd.com/drugs/drugreview-13450-sarnol-hc-lotion',\n",
       "       'https://reviews.webmd.com/drugs/drugreview-13720-hy-pam-capsule',\n",
       "       'https://reviews.webmd.com/drugs/drugreview-13780-instacort-scalp-lotion',\n",
       "       'https://reviews.webmd.com/drugs/drugreview-13840-instacort-0-gel',\n",
       "       'https://reviews.webmd.com/drugs/drugreview-14028-preparation-h-cream',\n",
       "       'https://reviews.webmd.com/drugs/drugreview-14227-thsc-hydroxyzine-hcl-tablet',\n",
       "       'https://reviews.webmd.com/drugs/drugreview-14248-thsc-hydrocortisone-acetate-cream',\n",
       "       'https://reviews.webmd.com/drugs/drugreview-14371-fluex-cream',\n",
       "       'https://reviews.webmd.com/drugs/drugreview-1447-fluocinolone-acetonide-oil',\n",
       "       'https://reviews.webmd.com/drugs/drugreview-1447-fluocinolone-acetonide-ointment',\n",
       "       'https://reviews.webmd.com/drugs/drugreview-1447-fluocinolone-shampoo',\n",
       "       'https://reviews.webmd.com/drugs/drugreview-145116-cortisone-lotion',\n",
       "       'https://reviews.webmd.com/drugs/drugreview-145577-verdeso-foam',\n",
       "       'https://reviews.webmd.com/drugs/drugreview-1456-triamcinolone-acetonide-cream',\n",
       "       'https://reviews.webmd.com/drugs/drugreview-147284-desonate-gel',\n",
       "       'https://reviews.webmd.com/drugs/drugreview-148380-anti-itch-cream',\n",
       "       'https://reviews.webmd.com/drugs/drugreview-149091-triamcin-skin-clnsr-6-emoll-27-kit',\n",
       "       'https://reviews.webmd.com/drugs/drugreview-149099-zytopic-kit',\n",
       "       'https://reviews.webmd.com/drugs/drugreview-149423-anti-itch-hc-with-oatmeal-cream',\n",
       "       'https://reviews.webmd.com/drugs/drugreview-149434-hydrocortisone-aloe-vits-a-d-e-cream',\n",
       "       'https://reviews.webmd.com/drugs/drugreview-149436-hydrocortisone-oatmeal-aloe-e-cream',\n",
       "       'https://reviews.webmd.com/drugs/drugreview-149487-anti-itch-hc-with-aloe-vit-e-cream',\n",
       "       'https://reviews.webmd.com/drugs/drugreview-149599-nu-derm-tolereen-lotion',\n",
       "       'https://reviews.webmd.com/drugs/drugreview-150250-desonide-emollient-combo-no-28-kit-lotion-and-cream-emollient',\n",
       "       'https://reviews.webmd.com/drugs/drugreview-150353-itch-x-hc-lotion',\n",
       "       'https://reviews.webmd.com/drugs/drugreview-150631-halobetasol-ammonium-lactate-combination-package-ointment-and-lotion-comb-lotion',\n",
       "       'https://reviews.webmd.com/drugs/drugreview-150632-ultravate-pac-combination-package-ointment-and-lotion-comb-lotion',\n",
       "       'https://reviews.webmd.com/drugs/drugreview-150640-desonide-emollient-combo-30-kit-cream-and-lotion-emollient',\n",
       "       'https://reviews.webmd.com/drugs/drugreview-150642-desowen-cream-and-lotion-kit-lotion-emollient',\n",
       "       'https://reviews.webmd.com/drugs/drugreview-150643-desowen-ointment-and-lotion-kit-lotion-emollient',\n",
       "       'https://reviews.webmd.com/drugs/drugreview-150710-hydrocortisone-plus-2-cream',\n",
       "       'https://reviews.webmd.com/drugs/drugreview-150808-corticool-gel',\n",
       "       'https://reviews.webmd.com/drugs/drugreview-151317-ferncort-hc-acetate-lotion',\n",
       "       'https://reviews.webmd.com/drugs/drugreview-151707-scalacort-lotion',\n",
       "       'https://reviews.webmd.com/drugs/drugreview-151954-balneol-for-her-lotion',\n",
       "       'https://reviews.webmd.com/drugs/drugreview-153093-pediaderm-hc-kit-lotion-and-cream-emollient',\n",
       "       'https://reviews.webmd.com/drugs/drugreview-153105-hydrocortisone-emollient-no-45-kit-lotion-and-cream-emollient',\n",
       "       'https://reviews.webmd.com/drugs/drugreview-153289-halonate-combination-package-ointment-and-foam-comb-foam',\n",
       "       'https://reviews.webmd.com/drugs/drugreview-153349-noble-formula-hc-cream',\n",
       "       'https://reviews.webmd.com/drugs/drugreview-153979-halonate-pac-combination-package-ointment-and-lotion-comb-lotion',\n",
       "       'https://reviews.webmd.com/drugs/drugreview-154431-cortisone-gel',\n",
       "       'https://reviews.webmd.com/drugs/drugreview-154496-desonide-emollient-combo-no-3-combination-package-ointment-and-cream-comb-cream',\n",
       "       'https://reviews.webmd.com/drugs/drugreview-154511-desonil-plus-cream',\n",
       "       'https://reviews.webmd.com/drugs/drugreview-154683-triamcinolone-emollient-comb45-cream',\n",
       "       'https://reviews.webmd.com/drugs/drugreview-154693-pediaderm-ta-cream',\n",
       "       'https://reviews.webmd.com/drugs/drugreview-154878-halac-combination-package-ointment-and-lotion-comb-lotion',\n",
       "       'https://reviews.webmd.com/drugs/drugreview-154937-hydroskin-lotion',\n",
       "       'https://reviews.webmd.com/drugs/drugreview-155139-hydrocream-cream',\n",
       "       'https://reviews.webmd.com/drugs/drugreview-155999-trianex-ointment',\n",
       "       'https://reviews.webmd.com/drugs/drugreview-156060-desonil-cream',\n",
       "       'https://reviews.webmd.com/drugs/drugreview-161224-neosporin-anti-itch-cream',\n",
       "       'https://reviews.webmd.com/drugs/drugreview-161559-halobetasol-lactic-acid-combination-package-ointment-and-cream-comb-cream',\n",
       "       'https://reviews.webmd.com/drugs/drugreview-161571-ultravate-x-combination-package-ointment-and-cream-comb-cream',\n",
       "       'https://reviews.webmd.com/drugs/drugreview-161986-rhulicort-hydrocort-acetate-cream',\n",
       "       'https://reviews.webmd.com/drugs/drugreview-162429-fluocinolone-skin-clnsr28-kit',\n",
       "       'https://reviews.webmd.com/drugs/drugreview-162471-synalar-ts-kit',\n",
       "       'https://reviews.webmd.com/drugs/drugreview-1628-delonide-cream',\n",
       "       'https://reviews.webmd.com/drugs/drugreview-163024-fluocinolone-emol-cmb65-cream',\n",
       "       'https://reviews.webmd.com/drugs/drugreview-163089-synalar-cream',\n",
       "       'https://reviews.webmd.com/drugs/drugreview-163091-synalar-combination-package-ointment-and-cream',\n",
       "       'https://reviews.webmd.com/drugs/drugreview-163845-anti-itch-plus-cream',\n",
       "       'https://reviews.webmd.com/drugs/drugreview-164029-eczema-anti-itch-cream',\n",
       "       'https://reviews.webmd.com/drugs/drugreview-164039-dermarest-eczema-lotion',\n",
       "       'https://reviews.webmd.com/drugs/drugreview-164246-soothing-care-hydrocortisone-cream',\n",
       "       'https://reviews.webmd.com/drugs/drugreview-16431-fluocinolone-emollient-kit',\n",
       "       'https://reviews.webmd.com/drugs/drugreview-16434-derma-smoothe-fs-atopic-pak-kit',\n",
       "       'https://reviews.webmd.com/drugs/drugreview-164349-cortisone-with-aloe-cream',\n",
       "       'https://reviews.webmd.com/drugs/drugreview-164351-cortaid-hydrocortisone-acet-lotion',\n",
       "       'https://reviews.webmd.com/drugs/drugreview-16473-hydrocortisone-scalp-solution',\n",
       "       'https://reviews.webmd.com/drugs/drugreview-16534-meijer-hydrocortisone-cream',\n",
       "       'https://reviews.webmd.com/drugs/drugreview-165472-triamcinolone-emollient-comb86-cream',\n",
       "       'https://reviews.webmd.com/drugs/drugreview-165475-hydrocortisone-skin-clnsr-35-combination-package-cleanser-and-cream-comb-cream',\n",
       "       'https://reviews.webmd.com/drugs/drugreview-165487-dermasorb-hc-complete-kit-combination-package-cleanser-and-cream-comb-cream',\n",
       "       'https://reviews.webmd.com/drugs/drugreview-165488-dermasorb-ta-complete-kit-cream',\n",
       "       'https://reviews.webmd.com/drugs/drugreview-165498-proctocream-hc-cream',\n",
       "       'https://reviews.webmd.com/drugs/drugreview-165499-proctozone-hc-cream',\n",
       "       'https://reviews.webmd.com/drugs/drugreview-166125-halcinonide-emollient-cream',\n",
       "       'https://reviews.webmd.com/drugs/drugreview-166263-cordran-tape-medicated',\n",
       "       'https://reviews.webmd.com/drugs/drugreview-166264-cordran-tape-small-roll',\n",
       "       'https://reviews.webmd.com/drugs/drugreview-16741-hydrocortisone-max-st-cream',\n",
       "       'https://reviews.webmd.com/drugs/drugreview-16741-hydrocortisone-max-st-ointment',\n",
       "       'https://reviews.webmd.com/drugs/drugreview-16863-psorcon-e-ointment',\n",
       "       'https://reviews.webmd.com/drugs/drugreview-168985-scalpicin-solution-non',\n",
       "       'https://reviews.webmd.com/drugs/drugreview-169043-triamcinolone-dimeth-silicone-kit',\n",
       "       'https://reviews.webmd.com/drugs/drugreview-169055-dermacinrx-silapak-kit',\n",
       "       'https://reviews.webmd.com/drugs/drugreview-169395-dermasilkrx-sds-kit',\n",
       "       'https://reviews.webmd.com/drugs/drugreview-169496-hydroskin-with-aloe-cream',\n",
       "       'https://reviews.webmd.com/drugs/drugreview-170023-whytederm-tdpak-kit',\n",
       "       'https://reviews.webmd.com/drugs/drugreview-170182-aveeno-cream',\n",
       "       'https://reviews.webmd.com/drugs/drugreview-170417-sanadermrx-kit',\n",
       "       'https://reviews.webmd.com/drugs/drugreview-170527-whytederm-trilasil-pak-kit',\n",
       "       'https://reviews.webmd.com/drugs/drugreview-17062-dr-smiths-anti-itch-lotion',\n",
       "       'https://reviews.webmd.com/drugs/drugreview-171302-dermawerx-sds-kit',\n",
       "       'https://reviews.webmd.com/drugs/drugreview-171416-sure-result-tac-pak-kit',\n",
       "       'https://reviews.webmd.com/drugs/drugreview-171898-tri-sila-kit',\n",
       "       'https://reviews.webmd.com/drugs/drugreview-172432-anusol-hc-cream',\n",
       "       'https://reviews.webmd.com/drugs/drugreview-172432-anusol-hc-cream-with-perineal-applicator',\n",
       "       'https://reviews.webmd.com/drugs/drugreview-172493-proctocort-cream',\n",
       "       'https://reviews.webmd.com/drugs/drugreview-172501-nutriarx-kit',\n",
       "       'https://reviews.webmd.com/drugs/drugreview-173294-triamcinolone-dimethicone-kit-ointment-and-cream',\n",
       "       'https://reviews.webmd.com/drugs/drugreview-173356-ellzia-pak-kit-ointment-and-cream',\n",
       "       'https://reviews.webmd.com/drugs/drugreview-173537-cortizone-10-with-aloe-cream',\n",
       "       'https://reviews.webmd.com/drugs/drugreview-173708-nolix-cream',\n",
       "       'https://reviews.webmd.com/drugs/drugreview-1759-aquaphilic-triamcinolone-ointment',\n",
       "       'https://reviews.webmd.com/drugs/drugreview-176820-anti-itch-with-aloe-cream',\n",
       "       'https://reviews.webmd.com/drugs/drugreview-17689-hca-max-st-hydrocortisone-cream',\n",
       "       'https://reviews.webmd.com/drugs/drugreview-176954-vanicream-hc-cream',\n",
       "       'https://reviews.webmd.com/drugs/drugreview-177176-beser-lotion',\n",
       "       'https://reviews.webmd.com/drugs/drugreview-177278-fluticasone-emollient-no-65-kit-lotion-and-cream-emollient',\n",
       "       'https://reviews.webmd.com/drugs/drugreview-177287-beser-kit-kit-lotion-and-cream-emollient',\n",
       "       'https://reviews.webmd.com/drugs/drugreview-179303-trivix-kit',\n",
       "       'https://reviews.webmd.com/drugs/drugreview-179573-fluocinonide-dimethicone-kit',\n",
       "       'https://reviews.webmd.com/drugs/drugreview-179592-fluopar-kit',\n",
       "       'https://reviews.webmd.com/drugs/drugreview-180277-diprolene-ointment',\n",
       "       'https://reviews.webmd.com/drugs/drugreview-180916-aquaphor-itch-relief-ointment',\n",
       "       'https://reviews.webmd.com/drugs/drugreview-181396-tritocin-ointment',\n",
       "       'https://reviews.webmd.com/drugs/drugreview-181397-desrx-gel',\n",
       "       'https://reviews.webmd.com/drugs/drugreview-182294-triheal-80-kit',\n",
       "       'https://reviews.webmd.com/drugs/drugreview-182352-triadime-80-kit',\n",
       "       'https://reviews.webmd.com/drugs/drugreview-184356-monistat-care-cream',\n",
       "       'https://reviews.webmd.com/drugs/drugreview-18545-hydrocortisone-aloe-cream',\n",
       "       'https://reviews.webmd.com/drugs/drugreview-186225-scalp-relief-solution-non',\n",
       "       'https://reviews.webmd.com/drugs/drugreview-186323-cortizone-10-feminine-itch-cream',\n",
       "       'https://reviews.webmd.com/drugs/drugreview-186818-triadime-kit',\n",
       "       'https://reviews.webmd.com/drugs/drugreview-187219-hydrocortisone-skin-cleanser-combination-package',\n",
       "       'https://reviews.webmd.com/drugs/drugreview-187255-hydrocort-lotion-complete-combination-package',\n",
       "       'https://reviews.webmd.com/drugs/drugreview-187257-hydroxym-gel',\n",
       "       'https://reviews.webmd.com/drugs/drugreview-18814-lanacort-cream',\n",
       "       'https://reviews.webmd.com/drugs/drugreview-19278-hydrocortisone-with-aloe-cream',\n",
       "       'https://reviews.webmd.com/drugs/drugreview-19748-caldecort-cream',\n",
       "       'https://reviews.webmd.com/drugs/drugreview-203-osco-hydrocortisone-cream',\n",
       "       'https://reviews.webmd.com/drugs/drugreview-20548-mp-hydrocort-cream',\n",
       "       'https://reviews.webmd.com/drugs/drugreview-20729-albacort-cream',\n",
       "       'https://reviews.webmd.com/drugs/drugreview-21201-longs-hydrocortisone-cream',\n",
       "       'https://reviews.webmd.com/drugs/drugreview-21367-sb-hydrocortisone-cream',\n",
       "       'https://reviews.webmd.com/drugs/drugreview-21648-hca-hydrocortisone-ointment',\n",
       "       'https://reviews.webmd.com/drugs/drugreview-21879-ra-hydrocortisone-cream',\n",
       "       'https://reviews.webmd.com/drugs/drugreview-2245-cordran-lotion',\n",
       "       'https://reviews.webmd.com/drugs/drugreview-2245-cordran-tape',\n",
       "       'https://reviews.webmd.com/drugs/drugreview-2246-cordran-patch-adhesive-patch-medicated',\n",
       "       'https://reviews.webmd.com/drugs/drugreview-2251-cortaid-faststick-max-st-solution',\n",
       "       'https://reviews.webmd.com/drugs/drugreview-22720-ra-hydrocortisone-plus-2-cream',\n",
       "       'https://reviews.webmd.com/drugs/drugreview-228-osco-hydorcortisone-cream',\n",
       "       'https://reviews.webmd.com/drugs/drugreview-2292-desowen-cream',\n",
       "       'https://reviews.webmd.com/drugs/drugreview-2292-desowen-lotion',\n",
       "       'https://reviews.webmd.com/drugs/drugreview-249-hydrocortisone-cream',\n",
       "       'https://reviews.webmd.com/drugs/drugreview-2525-hydrocortisone-aloe-cream',\n",
       "       'https://reviews.webmd.com/drugs/drugreview-3196-v-r-hydrocortisone-aloe-cream',\n",
       "       'https://reviews.webmd.com/drugs/drugreview-3342-westcort-ointment',\n",
       "       'https://reviews.webmd.com/drugs/drugreview-3392-betamethasone-diprop-augmented-gel',\n",
       "       'https://reviews.webmd.com/drugs/drugreview-3392-betamethasone-diprop-augmented-lotion',\n",
       "       'https://reviews.webmd.com/drugs/drugreview-359-hydrocortisone-probutate-cream',\n",
       "       'https://reviews.webmd.com/drugs/drugreview-3714-cordran-sp-cream',\n",
       "       'https://reviews.webmd.com/drugs/drugreview-3736-lidex-e-cream',\n",
       "       'https://reviews.webmd.com/drugs/drugreview-3739-maxivate-cream',\n",
       "       'https://reviews.webmd.com/drugs/drugreview-375-cortaid-intensive-therapy-cream',\n",
       "       'https://reviews.webmd.com/drugs/drugreview-3751-flurandrenolide-cream',\n",
       "       'https://reviews.webmd.com/drugs/drugreview-3751-flurandrenolide-tape',\n",
       "       'https://reviews.webmd.com/drugs/drugreview-3765-nutracort-lotion',\n",
       "       'https://reviews.webmd.com/drugs/drugreview-3786-lidex-cream',\n",
       "       'https://reviews.webmd.com/drugs/drugreview-3788-synalar-solution-non',\n",
       "       'https://reviews.webmd.com/drugs/drugreview-383-pandel-cream',\n",
       "       'https://reviews.webmd.com/drugs/drugreview-3916-triamcinolone-in-absorbase-ointment',\n",
       "       'https://reviews.webmd.com/drugs/drugreview-3993-aristocort-hp-cream',\n",
       "       'https://reviews.webmd.com/drugs/drugreview-3994-hycort-ointment',\n",
       "       'https://reviews.webmd.com/drugs/drugreview-4079-desonide-foam',\n",
       "       'https://reviews.webmd.com/drugs/drugreview-4079-desonide-lotion',\n",
       "       'https://reviews.webmd.com/drugs/drugreview-4079-desonide-ointment',\n",
       "       'https://reviews.webmd.com/drugs/drugreview-4128-fluocinonide-e-cream',\n",
       "       'https://reviews.webmd.com/drugs/drugreview-4272-desoximetasone-cream',\n",
       "       'https://reviews.webmd.com/drugs/drugreview-4272-desoximetasone-spray-non-aerosol',\n",
       "       'https://reviews.webmd.com/drugs/drugreview-4399-instacort-cream',\n",
       "       'https://reviews.webmd.com/drugs/drugreview-4565-procort-cream',\n",
       "       'https://reviews.webmd.com/drugs/drugreview-4706-nupercainal-hc-cream',\n",
       "       'https://reviews.webmd.com/drugs/drugreview-4735-delta-tritex-cream',\n",
       "       'https://reviews.webmd.com/drugs/drugreview-4736-dermol-hc-cream',\n",
       "       'https://reviews.webmd.com/drugs/drugreview-4740-teladar-cream',\n",
       "       'https://reviews.webmd.com/drugs/drugreview-4835-elocon-cream',\n",
       "       'https://reviews.webmd.com/drugs/drugreview-4897-betamethasone-valerate-cream',\n",
       "       'https://reviews.webmd.com/drugs/drugreview-4897-betamethasone-valerate-foam',\n",
       "       'https://reviews.webmd.com/drugs/drugreview-4900-aristocort-a-cream',\n",
       "       'https://reviews.webmd.com/drugs/drugreview-4917-synalar-hp-cream',\n",
       "       'https://reviews.webmd.com/drugs/drugreview-4940-ultravate-lotion',\n",
       "       'https://reviews.webmd.com/drugs/drugreview-500-hydrocortisone-acetate-cream',\n",
       "       'https://reviews.webmd.com/drugs/drugreview-500-hydrocortisone-acetate-cream-with-perineal-applicator',\n",
       "       'https://reviews.webmd.com/drugs/drugreview-5087-sg-hydrocortisone-aloe-cream',\n",
       "       'https://reviews.webmd.com/drugs/drugreview-5088-sg-hydrocortisone-cream',\n",
       "       'https://reviews.webmd.com/drugs/drugreview-5096-medipad-h-plus-pads-medicated',\n",
       "       'https://reviews.webmd.com/drugs/drugreview-5097-medigel-h-plus-gel',\n",
       "       'https://reviews.webmd.com/drugs/drugreview-5212-aricin-cream',\n",
       "       'https://reviews.webmd.com/drugs/drugreview-5217-triamcinolone-acetonide-top-cream',\n",
       "       'https://reviews.webmd.com/drugs/drugreview-5220-kenalog-aerosol',\n",
       "       'https://reviews.webmd.com/drugs/drugreview-5227-triacet-cream',\n",
       "       'https://reviews.webmd.com/drugs/drugreview-5228-triderm-cream',\n",
       "       'https://reviews.webmd.com/drugs/drugreview-5256-locoid-lipocream-cream',\n",
       "       'https://reviews.webmd.com/drugs/drugreview-5338-cortaid-cream',\n",
       "       'https://reviews.webmd.com/drugs/drugreview-5511-atarax-tablet',\n",
       "       'https://reviews.webmd.com/drugs/drugreview-5524-v-r-hydrocortisone-ointment',\n",
       "       'https://reviews.webmd.com/drugs/drugreview-57034-durrax-tablet',\n",
       "       'https://reviews.webmd.com/drugs/drugreview-57035-traxin-tablet',\n",
       "       'https://reviews.webmd.com/drugs/drugreview-57036-adroxazine-tablet',\n",
       "       'https://reviews.webmd.com/drugs/drugreview-57037-spenrax-tablet',\n",
       "       'https://reviews.webmd.com/drugs/drugreview-57038-atrazine-tablet',\n",
       "       'https://reviews.webmd.com/drugs/drugreview-57039-dermrax-tablet',\n",
       "       'https://reviews.webmd.com/drugs/drugreview-57040-adroxyzine-solution',\n",
       "       'https://reviews.webmd.com/drugs/drugreview-57041-atozine-solution',\n",
       "       'https://reviews.webmd.com/drugs/drugreview-57061-vistapam-capsule',\n",
       "       'https://reviews.webmd.com/drugs/drugreview-57062-vamate-capsule',\n",
       "       'https://reviews.webmd.com/drugs/drugreview-5857-hydrocortisone-ace-aerosol',\n",
       "       'https://reviews.webmd.com/drugs/drugreview-5857-hydrocortisone-ace-cream',\n",
       "       'https://reviews.webmd.com/drugs/drugreview-5900-halobetasol-propionate-foam',\n",
       "       'https://reviews.webmd.com/drugs/drugreview-5900-halobetasol-propionate-ointment',\n",
       "       'https://reviews.webmd.com/drugs/drugreview-5901-hydrocortisone-valerate-cream',\n",
       "       'https://reviews.webmd.com/drugs/drugreview-5904-mometasone-furoate-ointment',\n",
       "       'https://reviews.webmd.com/drugs/drugreview-5949-topicort-ointment',\n",
       "       'https://reviews.webmd.com/drugs/drugreview-5949-topicort-spray-non-aerosol',\n",
       "       'https://reviews.webmd.com/drugs/drugreview-5985-prednicarbate-cream',\n",
       "       'https://reviews.webmd.com/drugs/drugreview-5985-prednicarbate-ointment',\n",
       "       'https://reviews.webmd.com/drugs/drugreview-5990-cortaid-maximum-strength-cream',\n",
       "       'https://reviews.webmd.com/drugs/drugreview-5990-cortaid-maximum-strength-ointment',\n",
       "       'https://reviews.webmd.com/drugs/drugreview-6126-del-beta-cream',\n",
       "       'https://reviews.webmd.com/drugs/drugreview-6128-halcinonide-cream',\n",
       "       'https://reviews.webmd.com/drugs/drugreview-6129-halog-e-cream',\n",
       "       'https://reviews.webmd.com/drugs/drugreview-61320-gmd-cream',\n",
       "       'https://reviews.webmd.com/drugs/drugreview-61320-gmd-lotion',\n",
       "       'https://reviews.webmd.com/drugs/drugreview-6144-vistaril',\n",
       "       'https://reviews.webmd.com/drugs/drugreview-61448-psorion-cream',\n",
       "       'https://reviews.webmd.com/drugs/drugreview-61449-betanate-cream',\n",
       "       'https://reviews.webmd.com/drugs/drugreview-61450-valisone-cream',\n",
       "       'https://reviews.webmd.com/drugs/drugreview-61451-beta-derm-cream',\n",
       "       'https://reviews.webmd.com/drugs/drugreview-61452-betaderm-cream',\n",
       "       'https://reviews.webmd.com/drugs/drugreview-61453-betaval-cream',\n",
       "       'https://reviews.webmd.com/drugs/drugreview-61454-d-r-betasone-cream',\n",
       "       'https://reviews.webmd.com/drugs/drugreview-61456-ak-syn-solution',\n",
       "       'https://reviews.webmd.com/drugs/drugreview-61457-bio-syn-cream',\n",
       "       'https://reviews.webmd.com/drugs/drugreview-61458-psoranide-cream',\n",
       "       'https://reviews.webmd.com/drugs/drugreview-61459-fluonex-cream',\n",
       "       'https://reviews.webmd.com/drugs/drugreview-61460-vasoderm-cream',\n",
       "       'https://reviews.webmd.com/drugs/drugreview-61461-topsyn-gel',\n",
       "       'https://reviews.webmd.com/drugs/drugreview-61462-cort-dome-cream',\n",
       "       'https://reviews.webmd.com/drugs/drugreview-61463-q-u-cort-cream',\n",
       "       'https://reviews.webmd.com/drugs/drugreview-61464-rhulicort-cream',\n",
       "       'https://reviews.webmd.com/drugs/drugreview-61465-pro-cort-cream',\n",
       "       'https://reviews.webmd.com/drugs/drugreview-61466-dermolate-anti-itch-cream',\n",
       "       'https://reviews.webmd.com/drugs/drugreview-61467-racet-se-cream',\n",
       "       'https://reviews.webmd.com/drugs/drugreview-61468-ulcort-cream',\n",
       "       'https://reviews.webmd.com/drugs/drugreview-61469-allersone-cream',\n",
       "       'https://reviews.webmd.com/drugs/drugreview-61470-hydrososone-cream',\n",
       "       'https://reviews.webmd.com/drugs/drugreview-61471-tri-cin-cream',\n",
       "       'https://reviews.webmd.com/drugs/drugreview-61472-pharmacort-cream',\n",
       "       'https://reviews.webmd.com/drugs/drugreview-61473-cremesone-cream',\n",
       "       'https://reviews.webmd.com/drugs/drugreview-61474-a-cream',\n",
       "       'https://reviews.webmd.com/drugs/drugreview-61475-prepcort-cream',\n",
       "       'https://reviews.webmd.com/drugs/drugreview-61476-hydrocort-cream',\n",
       "       'https://reviews.webmd.com/drugs/drugreview-61477-apro-cort-cream',\n",
       "       'https://reviews.webmd.com/drugs/drugreview-61478-h2-cort-cream',\n",
       "       'https://reviews.webmd.com/drugs/drugreview-61478-h2-cort-lotion',\n",
       "       'https://reviews.webmd.com/drugs/drugreview-61479-dofscort-cream',\n",
       "       'https://reviews.webmd.com/drugs/drugreview-61480-recort-cream',\n",
       "       'https://reviews.webmd.com/drugs/drugreview-61481-dermicort-cream',\n",
       "       'https://reviews.webmd.com/drugs/drugreview-61482-cortizone-5-cream',\n",
       "       'https://reviews.webmd.com/drugs/drugreview-61483-bactine-hydrocortisone-cream',\n",
       "       'https://reviews.webmd.com/drugs/drugreview-61484-ak-cort-cream',\n",
       "       'https://reviews.webmd.com/drugs/drugreview-61485-cortifair-cream',\n",
       "       'https://reviews.webmd.com/drugs/drugreview-61486-pc-hc-cream',\n",
       "       'https://reviews.webmd.com/drugs/drugreview-61487-lemoderm-cream',\n",
       "       'https://reviews.webmd.com/drugs/drugreview-61488-hydro-tex-cream',\n",
       "       'https://reviews.webmd.com/drugs/drugreview-61489-clocort-cream',\n",
       "       'https://reviews.webmd.com/drugs/drugreview-61490-ridisone-cream',\n",
       "       'https://reviews.webmd.com/drugs/drugreview-61491-cortizone-for-kids-cream',\n",
       "       'https://reviews.webmd.com/drugs/drugreview-61492-synacort-cream',\n",
       "       'https://reviews.webmd.com/drugs/drugreview-61493-yeast-x-cream',\n",
       "       'https://reviews.webmd.com/drugs/drugreview-61494-eldecort-cream',\n",
       "       'https://reviews.webmd.com/drugs/drugreview-61495-tega-cort-cream',\n",
       "       'https://reviews.webmd.com/drugs/drugreview-61496-hi-cor-cream',\n",
       "       'https://reviews.webmd.com/drugs/drugreview-61497-kort-cream',\n",
       "       'https://reviews.webmd.com/drugs/drugreview-61498-episone-cream',\n",
       "       'https://reviews.webmd.com/drugs/drugreview-61499-cortizone-10-ointment',\n",
       "       'https://reviews.webmd.com/drugs/drugreview-61500-hydrocortex-cream',\n",
       "       'https://reviews.webmd.com/drugs/drugreview-61501-hydromar-cream',\n",
       "       'https://reviews.webmd.com/drugs/drugreview-61502-dermasone-cream',\n",
       "       'https://reviews.webmd.com/drugs/drugreview-61503-nogenic-hc-cream',\n",
       "       'https://reviews.webmd.com/drugs/drugreview-61504-allercort-cream',\n",
       "       'https://reviews.webmd.com/drugs/drugreview-61505-beta-cort-cream',\n",
       "       'https://reviews.webmd.com/drugs/drugreview-61506-d-r-hydrocort-cream',\n",
       "       'https://reviews.webmd.com/drugs/drugreview-61507-complex-a-cream',\n",
       "       'https://reviews.webmd.com/drugs/drugreview-61509-hc-jel-gel',\n",
       "       'https://reviews.webmd.com/drugs/drugreview-61510-medigel-h-gel',\n",
       "       'https://reviews.webmd.com/drugs/drugreview-61511-clearaid-cream',\n",
       "       'https://reviews.webmd.com/drugs/drugreview-61511-clearaid-lotion',\n",
       "       'https://reviews.webmd.com/drugs/drugreview-61512-dermolate-scalp-itch-lotion',\n",
       "       'https://reviews.webmd.com/drugs/drugreview-61513-tega-cort-lotion',\n",
       "       'https://reviews.webmd.com/drugs/drugreview-61514-solar-cort-lotion',\n",
       "       'https://reviews.webmd.com/drugs/drugreview-61515-lexocort-lotion',\n",
       "       'https://reviews.webmd.com/drugs/drugreview-61516-s-t-cort-lotion',\n",
       "       'https://reviews.webmd.com/drugs/drugreview-61517-delacort-lotion',\n",
       "       'https://reviews.webmd.com/drugs/drugreview-61518-ivocort-lotion',\n",
       "       'https://reviews.webmd.com/drugs/drugreview-61519-my-cort-lotion',\n",
       "       'https://reviews.webmd.com/drugs/drugreview-61520-ferncort-lotion',\n",
       "       'https://reviews.webmd.com/drugs/drugreview-61521-epicort-lotion',\n",
       "       'https://reviews.webmd.com/drugs/drugreview-61522-hydrocortisol-lotion',\n",
       "       'https://reviews.webmd.com/drugs/drugreview-61523-cortinal-lotion',\n",
       "       'https://reviews.webmd.com/drugs/drugreview-61524-caladryl-hydrocortisone-lotion',\n",
       "       'https://reviews.webmd.com/drugs/drugreview-61525-texacort-scalp-lotion',\n",
       "       'https://reviews.webmd.com/drugs/drugreview-61526-acticort-lotion',\n",
       "       'https://reviews.webmd.com/drugs/drugreview-61527-anti-itch-scalp-relief-lotion',\n",
       "       'https://reviews.webmd.com/drugs/drugreview-61528-tega-cort-forte-lotion',\n",
       "       'https://reviews.webmd.com/drugs/drugreview-61529-lexocort-forte-lotion',\n",
       "       'https://reviews.webmd.com/drugs/drugreview-61530-scalp-aid-lotion',\n",
       "       'https://reviews.webmd.com/drugs/drugreview-61531-p-p-c-lotion',\n",
       "       'https://reviews.webmd.com/drugs/drugreview-61532-scalp-cort-lotion',\n",
       "       'https://reviews.webmd.com/drugs/drugreview-61533-cortizone-0-scalp-itch-relief-lotion',\n",
       "       'https://reviews.webmd.com/drugs/drugreview-61534-ivocort-dp-lotion',\n",
       "       'https://reviews.webmd.com/drugs/drugreview-61535-scalp-cort-lotion',\n",
       "       'https://reviews.webmd.com/drugs/drugreview-61536-beta-hc-lotion',\n",
       "       'https://reviews.webmd.com/drugs/drugreview-61537-dermolate-anal-itch-ointment',\n",
       "       'https://reviews.webmd.com/drugs/drugreview-61538-cortril-ointment',\n",
       "       'https://reviews.webmd.com/drugs/drugreview-61539-tegrin-hc-psoriasis-ointment',\n",
       "       'https://reviews.webmd.com/drugs/drugreview-61540-medipads-h-pads-medicated',\n",
       "       'https://reviews.webmd.com/drugs/drugreview-61542-foillecort-hc-aerosol-spray',\n",
       "       'https://reviews.webmd.com/drugs/drugreview-61543-cortef-feminine-itch-cream',\n",
       "       'https://reviews.webmd.com/drugs/drugreview-61544-genasone-cream',\n",
       "       'https://reviews.webmd.com/drugs/drugreview-61545-gynecort-cream',\n",
       "       'https://reviews.webmd.com/drugs/drugreview-61546-hydrocortisone-antipruritic-cream',\n",
       "       'https://reviews.webmd.com/drugs/drugreview-61547-cortef-rectal-itch-ointment',\n",
       "       'https://reviews.webmd.com/drugs/drugreview-61549-hydrocortone-acetate-ointment',\n",
       "       'https://reviews.webmd.com/drugs/drugreview-61550-cortef-acetate-ointment',\n",
       "       'https://reviews.webmd.com/drugs/drugreview-61553-aristocort-cream',\n",
       "       'https://reviews.webmd.com/drugs/drugreview-61554-trymex-cream',\n",
       "       'https://reviews.webmd.com/drugs/drugreview-61555-ta-cream',\n",
       "       'https://reviews.webmd.com/drugs/drugreview-61556-trilone-cream',\n",
       "       'https://reviews.webmd.com/drugs/drugreview-61557-spencort-cream',\n",
       "       'https://reviews.webmd.com/drugs/drugreview-61558-aristalog-cream',\n",
       "       'https://reviews.webmd.com/drugs/drugreview-61559-triamcinair-cream',\n",
       "       'https://reviews.webmd.com/drugs/drugreview-61560-flutex-cream',\n",
       "       'https://reviews.webmd.com/drugs/drugreview-61561-kenac-cream',\n",
       "       'https://reviews.webmd.com/drugs/drugreview-61562-kenonel-cream',\n",
       "       'https://reviews.webmd.com/drugs/drugreview-61563-aristolog-cream',\n",
       "       'https://reviews.webmd.com/drugs/drugreview-61564-ak-cinolone-cream',\n",
       "       'https://reviews.webmd.com/drugs/drugreview-61565-kenalog-h-cream',\n",
       "       'https://reviews.webmd.com/drugs/drugreview-61566-spencort-hp-cream',\n",
       "       'https://reviews.webmd.com/drugs/drugreview-61567-cinalog-cream',\n",
       "       'https://reviews.webmd.com/drugs/drugreview-61570-hydrocortisone-w-aloe-cream',\n",
       "       'https://reviews.webmd.com/drugs/drugreview-61571-dermtex-hc-cream',\n",
       "       'https://reviews.webmd.com/drugs/drugreview-61572-aloe-cort-cream',\n",
       "       'https://reviews.webmd.com/drugs/drugreview-61577-carmol-hc-cream',\n",
       "       'https://reviews.webmd.com/drugs/drugreview-61578-u-cort-cream',\n",
       "       'https://reviews.webmd.com/drugs/drugreview-61579-hydrocortisone-acetate-w-urea-cream',\n",
       "       'https://reviews.webmd.com/drugs/drugreview-63394-triamcinolone-urea-hydrophilic-ointment',\n",
       "       'https://reviews.webmd.com/drugs/drugreview-64303-hydrocortisone-plus-cream',\n",
       "       'https://reviews.webmd.com/drugs/drugreview-64317-fp-hydrocortisone-cream',\n",
       "       'https://reviews.webmd.com/drugs/drugreview-6463-anx-tablet',\n",
       "       'https://reviews.webmd.com/drugs/drugreview-6474-dermatop-e-cream',\n",
       "       'https://reviews.webmd.com/drugs/drugreview-6474-dermatop-e-ointment',\n",
       "       'https://reviews.webmd.com/drugs/drugreview-65-med-derm-hydrocortisone-cream',\n",
       "       'https://reviews.webmd.com/drugs/drugreview-6511-rezine-tablet',\n",
       "       'https://reviews.webmd.com/drugs/drugreview-6619-carmol-hc-cream',\n",
       "       'https://reviews.webmd.com/drugs/drugreview-6620-hydrocortisone-urea-cream',\n",
       "       'https://reviews.webmd.com/drugs/drugreview-6760-diprosone-cream',\n",
       "       'https://reviews.webmd.com/drugs/drugreview-6803-florone-cream',\n",
       "       'https://reviews.webmd.com/drugs/drugreview-6804-diflorasone-diacetate-ointment',\n",
       "       'https://reviews.webmd.com/drugs/drugreview-6805-fluonid-solution',\n",
       "       'https://reviews.webmd.com/drugs/drugreview-6833-hytone-lotion',\n",
       "       'https://reviews.webmd.com/drugs/drugreview-6896-maxiflor-ointment',\n",
       "       'https://reviews.webmd.com/drugs/drugreview-6972-penecort-cream',\n",
       "       'https://reviews.webmd.com/drugs/drugreview-7040-texacort-solution-non',\n",
       "       'https://reviews.webmd.com/drugs/drugreview-7053-topicort-lp-cream',\n",
       "       'https://reviews.webmd.com/drugs/drugreview-7067-tridesilon-cream',\n",
       "       'https://reviews.webmd.com/drugs/drugreview-7092-hydroxyzine-pamoate',\n",
       "       'https://reviews.webmd.com/drugs/drugreview-7130-lacticare-hc-lotion',\n",
       "       'https://reviews.webmd.com/drugs/drugreview-7163-aristocort-lp-cream',\n",
       "       'https://reviews.webmd.com/drugs/drugreview-7321-dermacort-lotion',\n",
       "       'https://reviews.webmd.com/drugs/drugreview-7395-cyclocort-lotion',\n",
       "       'https://reviews.webmd.com/drugs/drugreview-7396-amcinonide-ointment',\n",
       "       'https://reviews.webmd.com/drugs/drugreview-7461-diprolene-af-cream',\n",
       "       'https://reviews.webmd.com/drugs/drugreview-7558-corticaine-cream',\n",
       "       'https://reviews.webmd.com/drugs/drugreview-76168-diflorasone-emollient-cream',\n",
       "       'https://reviews.webmd.com/drugs/drugreview-76175-triamcinolone-acetonide-l-s-b-cream',\n",
       "       'https://reviews.webmd.com/drugs/drugreview-76176-triamcinolone-hydrophilic-base-ointment',\n",
       "       'https://reviews.webmd.com/drugs/drugreview-76392-lokara-lotion',\n",
       "       'https://reviews.webmd.com/drugs/drugreview-76478-hydrocortisone-min-oil-wht-pet-ointment',\n",
       "       'https://reviews.webmd.com/drugs/drugreview-7681-hydroxyzine-hcl',\n",
       "       'https://reviews.webmd.com/drugs/drugreview-7694-itch-x-foam',\n",
       "       'https://reviews.webmd.com/drugs/drugreview-77242-dermatop-cream',\n",
       "       'https://reviews.webmd.com/drugs/drugreview-77242-dermatop-ointment',\n",
       "       'https://reviews.webmd.com/drugs/drugreview-77544-apexicon-ointment',\n",
       "       'https://reviews.webmd.com/drugs/drugreview-77545-apexicon-e-cream',\n",
       "       'https://reviews.webmd.com/drugs/drugreview-77842-hydrocortisone-butyrate-cream',\n",
       "       'https://reviews.webmd.com/drugs/drugreview-7807-medi-cortisone-cream',\n",
       "       'https://reviews.webmd.com/drugs/drugreview-7909-aclovate-cream',\n",
       "       'https://reviews.webmd.com/drugs/drugreview-7910-alclometasone-dipropionate-ointment',\n",
       "       'https://reviews.webmd.com/drugs/drugreview-8062-florone-e-cream',\n",
       "       'https://reviews.webmd.com/drugs/drugreview-8069-psorcon-cream',\n",
       "       'https://reviews.webmd.com/drugs/drugreview-8150-dermacin-cream',\n",
       "       'https://reviews.webmd.com/drugs/drugreview-831-pramosone-lotion',\n",
       "       'https://reviews.webmd.com/drugs/drugreview-831-pramosone-ointment',\n",
       "       'https://reviews.webmd.com/drugs/drugreview-8533-acticort-00-lotion',\n",
       "       'https://reviews.webmd.com/drugs/drugreview-86512-aquaphilic-with-taccarbamide-ointment',\n",
       "       'https://reviews.webmd.com/drugs/drugreview-8758-clocortolone-pivalate-cream',\n",
       "       'https://reviews.webmd.com/drugs/drugreview-8786-fluticasone-propionate-ointment',\n",
       "       'https://reviews.webmd.com/drugs/drugreview-8791-hydrocortisone-butyrate-lotion',\n",
       "       'https://reviews.webmd.com/drugs/drugreview-89053-cortizone-10-plus-cream',\n",
       "       'https://reviews.webmd.com/drugs/drugreview-89091-summers-eve-cream',\n",
       "       'https://reviews.webmd.com/drugs/drugreview-89091-summers-eve-lotion',\n",
       "       'https://reviews.webmd.com/drugs/drugreview-89091-summers-eve-powder',\n",
       "       'https://reviews.webmd.com/drugs/drugreview-89355-fluocinonide-e-cream',\n",
       "       'https://reviews.webmd.com/drugs/drugreview-8980-alphatrex-cream',\n",
       "       'https://reviews.webmd.com/drugs/drugreview-9009-atazine-tablet',\n",
       "       'https://reviews.webmd.com/drugs/drugreview-9021-beta-val-cream',\n",
       "       'https://reviews.webmd.com/drugs/drugreview-9024-betatrex-cream',\n",
       "       'https://reviews.webmd.com/drugs/drugreview-9085-cloderm-cream',\n",
       "       'https://reviews.webmd.com/drugs/drugreview-9200-flurosyn-cream',\n",
       "       'https://reviews.webmd.com/drugs/drugreview-9229-halog-ointment',\n",
       "       'https://reviews.webmd.com/drugs/drugreview-924-hm-hydrocortisone-ointment',\n",
       "       'https://reviews.webmd.com/drugs/drugreview-9292-locoid-lotion',\n",
       "       'https://reviews.webmd.com/drugs/drugreview-93156-gynecort-maximum-strength-cream',\n",
       "       'https://reviews.webmd.com/drugs/drugreview-9461-qualisone-cream',\n",
       "       'https://reviews.webmd.com/drugs/drugreview-95129-keratol-hc-cream',\n",
       "       'https://reviews.webmd.com/drugs/drugreview-96-fluocinonide-cream',\n",
       "       'https://reviews.webmd.com/drugs/drugreview-9624-cutivate-cream',\n",
       "       'https://reviews.webmd.com/drugs/drugreview-9738-nupercainal-cream',\n",
       "       'https://reviews.webmd.com/drugs/drugreview-978-betamethasone-dipropionate-aerosol-spray-with-pump',\n",
       "       'https://reviews.webmd.com/drugs/drugreview-978-betamethasone-dipropionate-cream',\n",
       "       'https://reviews.webmd.com/drugs/drugreview-988-dr-smiths-anti-itch-cream'],\n",
       "      dtype='<U130')"
      ]
     },
     "execution_count": 1,
     "metadata": {},
     "output_type": "execute_result"
    }
   ],
   "source": [
    "# imports\n",
    "import requests\n",
    "import numpy as np\n",
    "import pandas as pd\n",
    "import regex as re\n",
    "#Functions\n",
    "# regular expressions for parsing data from a single review\n",
    "# elements found in review-details div\n",
    "def regex_date(review):\n",
    "    '''Parses the date of the review in format dd/mm/yyyy'''\n",
    "    return re.findall(r'\\d+/\\d+/\\d+', review.find('div', class_='date').text)[0]\n",
    "\n",
    "def regex_condition(review):\n",
    "    '''Parses the condition for which the medication is used'''\n",
    "    condition_element = review.find('strong', class_='condition')\n",
    "    condition_listed = condition_element is not None\n",
    "    if condition_listed:\n",
    "        # TODO: be able to match ''\"Change of Life\" Signs' condition\n",
    "        condition_match = re.findall(r'(?<=Condition:\\s)\\w+(?:\\s\\w+)*', condition_element.text)\n",
    "    return condition_match[0] if (condition_listed and len(condition_match) > 0) else np.nan\n",
    "\n",
    "def regex_rating_overall(review):\n",
    "    '''Parses the overall rating, the average of 3 categories'''\n",
    "    rating_overall_line = review.find('div', class_='overall-rating').strong.text\n",
    "    return re.findall(r'\\d+.\\d+', rating_overall_line)\n",
    "\n",
    "def regex_rating_category(review, ind_cat):\n",
    "    '''Parses the rating for the category at index ind_cat in ['effectiveness', 'ease_of_use', 'satisfaction']'''\n",
    "    rating_categories = review.find('div', class_='categories').find_all('section')\n",
    "    div = rating_categories[ind_cat].find('div', class_='webmd-rate on-mobile')\n",
    "    return int(div.get('aria-valuenow'))\n",
    "\n",
    "def regex_text(review):\n",
    "    '''Parses the free response text review for the drug'''\n",
    "    text_line = review.find('p', class_='description-text')\n",
    "    return text_line.text if text_line is not None else np.nan\n",
    "# regular expressions for parsing data from a single review\n",
    "# elements found in details div\n",
    "def regex_age(details):\n",
    "    '''Parses the age of the medication user'''\n",
    "    age_match = re.findall(r'(?<=\\|\\s+)\\d+-\\d+', details)\n",
    "    return age_match[0] if len(age_match) > 0 else np.nan\n",
    "\n",
    "def regex_gender(details):\n",
    "    '''Parses the gender of the medication user'''\n",
    "    gender_match = re.findall(r'(?<=\\|\\s+)Male|Female', details)\n",
    "    return gender_match[0] if len(gender_match) > 0 else np.nan\n",
    "\n",
    "def regex_time(details):\n",
    "    '''Parses the duration of time on drug'''\n",
    "    time_match = re.findall(r'(?<=On\\smedication\\sfor\\s)\\w+(?:\\s\\w+)*', details)\n",
    "    return time_match[0] if len(time_match) > 0 else np.nan\n",
    "\n",
    "def regex_reviewer(details):\n",
    "    '''Parses the type of reviewer'''\n",
    "    reviewer_match = re.findall(r'(?<=\\|\\s+)\\w+(?:\\s\\w+)*(?=\\s*$)', details)\n",
    "    return reviewer_match[0] if len(reviewer_match) > 0 else np.nan\n",
    "# parse the reviews on a single webpage\n",
    "def parse_reviews_page(soup, reviews_df):\n",
    "    '''Populates reviews_df data frame with records from 1 page's reviews\n",
    "    \n",
    "    Parameters:\n",
    "    reviews_html (str): HTML for the webpage extracted using BeautifulSoup\n",
    "    drug_name (str): the name of the drug being reviewed\n",
    "    reviews_df (pd.DataFrame): dataframe with one row per review\n",
    "    \n",
    "    Returns:\n",
    "    pd.DataFrame: reviews_df dataframe with new records appended\n",
    "    \n",
    "    '''\n",
    "    reviews_html = soup.find_all('div', class_='review-details') # get elements that hold each review\n",
    "    drug_name = re.findall(r'(.*)(?=\\sReviews)', soup.title.text)[0] # page title is drug name\n",
    "    \n",
    "    # loop over reviews from a single page\n",
    "    for i, review in enumerate(reviews_html):\n",
    "        to_append = pd.DataFrame([pd.Series([None]*len(cols), index=cols)])\n",
    "        \n",
    "        details = review.find('div', class_='details').text\n",
    "\n",
    "        to_append['drug_name'] = drug_name\n",
    "        to_append['date'] = regex_date(review)\n",
    "        to_append['age'] = regex_age(details)\n",
    "        to_append['gender'] = regex_gender(details)\n",
    "        to_append['time_on_drug'] = regex_time(details)\n",
    "        to_append['reviewer_type'] = regex_reviewer(details)\n",
    "        to_append['condition'] = regex_condition(review)\n",
    "        to_append['rating_overall'] = regex_rating_overall(review)\n",
    "        \n",
    "        for ind_cat, cat in enumerate(['effectiveness', 'ease_of_use', 'satisfaction']):\n",
    "            to_append[f'rating_{cat}'] = regex_rating_category(review, ind_cat)\n",
    "    \n",
    "        to_append['text'] = regex_text(review)\n",
    "        reviews_df = pd.concat([reviews_df, to_append], ignore_index=True)\n",
    "        \n",
    "    return reviews_df\n",
    "def get_soup(review_url, page):\n",
    "    curr_url = review_url + f'&page={page}'\n",
    "    response = requests.get(curr_url, headers=headers).content\n",
    "    return BeautifulSoup(response, 'lxml')\n",
    "# crawl over the review pages for one drug\n",
    "from tqdm import tqdm # progress bar\n",
    "\n",
    "def crawl_reviews_pages(review_url, reviews_df):\n",
    "    '''Crawls a drug's reviews page-by-page, saving each page's reviews into reviews_df\n",
    "    \n",
    "    Parameters:\n",
    "    reviews_df (pd.DataFrame): dataframe with one row per review\n",
    "    \n",
    "    Returns:\n",
    "    pd.DataFrame: reviews_df dataframe with new records appended\n",
    "    \n",
    "    '''\n",
    "    # find how many review pages there are total for the drug by parsing it from the first page\n",
    "    soup = get_soup(review_url, 1)\n",
    "    pages = soup.find('ul', class_='pagination')\n",
    "    \n",
    "    # proceed only if there is at least 1 review\n",
    "    if pages is not None:\n",
    "        last_page = int(pages.find_all('li', class_='page-item')[-1].text.strip())\n",
    "\n",
    "        for i in tqdm(range(1, last_page+1)):\n",
    "            soup = get_soup(review_url, 1)\n",
    "            reviews_df = parse_reviews_page(soup, reviews_df)\n",
    "\n",
    "    return reviews_df\n",
    "#Scrape Drugs by Condition from WebMD Search\n",
    "# need to spoof a browser in order to not get blocked when making request\n",
    "# https://bar.rady.ucsd.edu/Web_Scraping.html\n",
    "from bs4 import BeautifulSoup\n",
    "\n",
    "headers = requests.utils.default_headers()\n",
    "agent = 'Mozilla/5.0 (X11; Ubuntu; Linux x86_64; rv:52.0) Gecko/20100101 Firefox/52.0'\n",
    "headers.update({\n",
    "    'User-Agent': agent,\n",
    "})\n",
    "# make empty data frame to contain values and full text from each review\n",
    "cols = ['drug_name',\n",
    "       'date',\n",
    "       'age',\n",
    "       'gender',\n",
    "       'time_on_drug',\n",
    "       'reviewer_type',\n",
    "       'condition',\n",
    "       'rating_overall',\n",
    "       'rating_effectiveness',\n",
    "       'rating_ease_of_use',\n",
    "       'rating_satisfaction',\n",
    "       'text']\n",
    "\n",
    "reviews_df = pd.DataFrame(columns=cols, index=[])\n",
    "# # list of depression drugs from WebMD\n",
    "# url = 'https://www.webmd.com/depression/depression-medications-antidepressants'\n",
    "# response = requests.get(url, headers=headers).content\n",
    "# soup = BeautifulSoup(response, 'lxml')\n",
    "# drugs_section = soup.find('div', class_='article-page active-page')\n",
    "# use WebMD's search to find drugs by illness\n",
    "review_urls = []\n",
    "\n",
    "conditions = {'rheumatoidarthritis': 'https://www.webmd.com/drugs/2/condition-2805/rheumatoid-arthritis'\n",
    "              }\n",
    "\n",
    "for url in conditions.values():\n",
    "    response = requests.get(url, headers=headers).content\n",
    "    soup = BeautifulSoup(response, 'lxml')\n",
    "    drugs_section = soup.find('div', class_='medication-results-list')\n",
    "\n",
    "    for drug_review_element in drugs_section.find_all('span', class_='reviews-url'):\n",
    "        review_urls.append(drug_review_element.a.get('href'))\n",
    "\n",
    "# because there is a lot of overlap in medications between conditions, get unique values\n",
    "review_urls = np.unique(review_urls)\n",
    "review_urls"
   ]
  },
  {
   "cell_type": "code",
   "execution_count": 2,
   "metadata": {},
   "outputs": [
    {
     "name": "stderr",
     "output_type": "stream",
     "text": [
      "  0%|          | 0/450 [00:00<?, ?it/s]"
     ]
    },
    {
     "name": "stdout",
     "output_type": "stream",
     "text": [
      "https://reviews.webmd.com/drugs/drugreview-10132-hydrocortisone-alcohol-lotion\n"
     ]
    },
    {
     "name": "stderr",
     "output_type": "stream",
     "text": [
      "  0%|          | 1/450 [00:02<20:11,  2.70s/it]"
     ]
    },
    {
     "name": "stdout",
     "output_type": "stream",
     "text": [
      "https://reviews.webmd.com/drugs/drugreview-10140-cotacort-lotion\n"
     ]
    },
    {
     "name": "stderr",
     "output_type": "stream",
     "text": [
      "  0%|          | 2/450 [00:06<24:52,  3.33s/it]"
     ]
    },
    {
     "name": "stdout",
     "output_type": "stream",
     "text": [
      "https://reviews.webmd.com/drugs/drugreview-10402-hydrocortisone-cream\n"
     ]
    },
    {
     "name": "stderr",
     "output_type": "stream",
     "text": [
      "100%|██████████| 2/2 [00:04<00:00,  2.11s/it]\n",
      "  1%|          | 3/450 [00:14<40:00,  5.37s/it]"
     ]
    },
    {
     "name": "stdout",
     "output_type": "stream",
     "text": [
      "https://reviews.webmd.com/drugs/drugreview-10402-hydrocortisone-cream-with-perineal-applicator\n"
     ]
    },
    {
     "name": "stderr",
     "output_type": "stream",
     "text": [
      "100%|██████████| 2/2 [00:05<00:00,  2.85s/it]\n",
      "  1%|          | 4/450 [00:23<51:30,  6.93s/it]"
     ]
    },
    {
     "name": "stdout",
     "output_type": "stream",
     "text": [
      "https://reviews.webmd.com/drugs/drugreview-10431-ala-scalp-lotion\n"
     ]
    },
    {
     "name": "stderr",
     "output_type": "stream",
     "text": [
      "  1%|          | 5/450 [00:27<42:36,  5.75s/it]"
     ]
    },
    {
     "name": "stdout",
     "output_type": "stream",
     "text": [
      "https://reviews.webmd.com/drugs/drugreview-10438-cetacort-lotion\n"
     ]
    },
    {
     "name": "stderr",
     "output_type": "stream",
     "text": [
      "  1%|▏         | 6/450 [00:29<34:38,  4.68s/it]"
     ]
    },
    {
     "name": "stdout",
     "output_type": "stream",
     "text": [
      "https://reviews.webmd.com/drugs/drugreview-10447-gly-cort-lotion\n"
     ]
    },
    {
     "name": "stderr",
     "output_type": "stream",
     "text": [
      "  2%|▏         | 7/450 [00:32<29:56,  4.06s/it]"
     ]
    },
    {
     "name": "stdout",
     "output_type": "stream",
     "text": [
      "https://reviews.webmd.com/drugs/drugreview-10464-rederm-lotion\n"
     ]
    },
    {
     "name": "stderr",
     "output_type": "stream",
     "text": [
      "  2%|▏         | 8/450 [00:35<28:16,  3.84s/it]"
     ]
    },
    {
     "name": "stdout",
     "output_type": "stream",
     "text": [
      "https://reviews.webmd.com/drugs/drugreview-10472-ala-cort-cream\n"
     ]
    },
    {
     "name": "stderr",
     "output_type": "stream",
     "text": [
      "  2%|▏         | 9/450 [00:38<25:47,  3.51s/it]"
     ]
    },
    {
     "name": "stdout",
     "output_type": "stream",
     "text": [
      "https://reviews.webmd.com/drugs/drugreview-10477-hc-cream\n"
     ]
    },
    {
     "name": "stderr",
     "output_type": "stream",
     "text": [
      "  2%|▏         | 10/450 [00:41<23:43,  3.23s/it]"
     ]
    },
    {
     "name": "stdout",
     "output_type": "stream",
     "text": [
      "https://reviews.webmd.com/drugs/drugreview-10499-cortane-lotion\n"
     ]
    },
    {
     "name": "stderr",
     "output_type": "stream",
     "text": [
      "  2%|▏         | 11/450 [00:44<23:15,  3.18s/it]"
     ]
    },
    {
     "name": "stdout",
     "output_type": "stream",
     "text": [
      "https://reviews.webmd.com/drugs/drugreview-10533-corticreme-cream\n"
     ]
    },
    {
     "name": "stderr",
     "output_type": "stream",
     "text": [
      "  3%|▎         | 12/450 [00:47<22:32,  3.09s/it]"
     ]
    },
    {
     "name": "stdout",
     "output_type": "stream",
     "text": [
      "https://reviews.webmd.com/drugs/drugreview-10614-recort-plus-lotion\n"
     ]
    },
    {
     "name": "stderr",
     "output_type": "stream",
     "text": [
      "  3%|▎         | 13/450 [00:50<22:48,  3.13s/it]"
     ]
    },
    {
     "name": "stdout",
     "output_type": "stream",
     "text": [
      "https://reviews.webmd.com/drugs/drugreview-10629-neutrogena-t-scalp-solution\n"
     ]
    },
    {
     "name": "stderr",
     "output_type": "stream",
     "text": [
      "  3%|▎         | 14/450 [00:53<22:25,  3.09s/it]"
     ]
    },
    {
     "name": "stdout",
     "output_type": "stream",
     "text": [
      "https://reviews.webmd.com/drugs/drugreview-10681-yeast-x-external-cream\n"
     ]
    },
    {
     "name": "stderr",
     "output_type": "stream",
     "text": [
      "  3%|▎         | 15/450 [00:56<22:14,  3.07s/it]"
     ]
    },
    {
     "name": "stdout",
     "output_type": "stream",
     "text": [
      "https://reviews.webmd.com/drugs/drugreview-10682-demarest-dricort-cream\n"
     ]
    },
    {
     "name": "stderr",
     "output_type": "stream",
     "text": [
      "  4%|▎         | 16/450 [00:59<22:01,  3.05s/it]"
     ]
    },
    {
     "name": "stdout",
     "output_type": "stream",
     "text": [
      "https://reviews.webmd.com/drugs/drugreview-10817-hm-hydrocort-cream\n"
     ]
    },
    {
     "name": "stderr",
     "output_type": "stream",
     "text": [
      "  4%|▍         | 17/450 [01:02<21:39,  3.00s/it]"
     ]
    },
    {
     "name": "stdout",
     "output_type": "stream",
     "text": [
      "https://reviews.webmd.com/drugs/drugreview-10818-mdl-hydrocortisone-cream\n"
     ]
    },
    {
     "name": "stderr",
     "output_type": "stream",
     "text": [
      "  4%|▍         | 18/450 [01:05<21:13,  2.95s/it]"
     ]
    },
    {
     "name": "stdout",
     "output_type": "stream",
     "text": [
      "https://reviews.webmd.com/drugs/drugreview-10819-fv-hydrocortisone-acetate-cream\n"
     ]
    },
    {
     "name": "stderr",
     "output_type": "stream",
     "text": [
      "  4%|▍         | 19/450 [01:08<21:48,  3.04s/it]"
     ]
    },
    {
     "name": "stdout",
     "output_type": "stream",
     "text": [
      "https://reviews.webmd.com/drugs/drugreview-10820-hm-hydrocortisone-acetate-cream\n"
     ]
    },
    {
     "name": "stderr",
     "output_type": "stream",
     "text": [
      "  4%|▍         | 20/450 [01:11<22:24,  3.13s/it]"
     ]
    },
    {
     "name": "stdout",
     "output_type": "stream",
     "text": [
      "https://reviews.webmd.com/drugs/drugreview-10923-mdl-hydrocortisone-aloe-cream\n"
     ]
    },
    {
     "name": "stderr",
     "output_type": "stream",
     "text": [
      "  5%|▍         | 22/450 [01:16<18:22,  2.58s/it]"
     ]
    },
    {
     "name": "stdout",
     "output_type": "stream",
     "text": [
      "skipping https://reviews.webmd.com/drugs/drugreview-11199-synemol-cream: page not found\n",
      "https://reviews.webmd.com/drugs/drugreview-11440-aquanil-hc-lotion\n"
     ]
    },
    {
     "name": "stderr",
     "output_type": "stream",
     "text": [
      "100%|██████████| 1/1 [00:01<00:00,  1.86s/it]\n",
      "  5%|▌         | 23/450 [01:20<22:35,  3.17s/it]"
     ]
    },
    {
     "name": "stdout",
     "output_type": "stream",
     "text": [
      "https://reviews.webmd.com/drugs/drugreview-1201-aristocort-r-cream\n"
     ]
    },
    {
     "name": "stderr",
     "output_type": "stream",
     "text": [
      "100%|██████████| 1/1 [00:01<00:00,  1.75s/it]\n",
      "  5%|▌         | 24/450 [01:25<25:31,  3.59s/it]"
     ]
    },
    {
     "name": "stdout",
     "output_type": "stream",
     "text": [
      "https://reviews.webmd.com/drugs/drugreview-1212-diprolene-gel\n"
     ]
    },
    {
     "name": "stderr",
     "output_type": "stream",
     "text": [
      "100%|██████████| 1/1 [00:01<00:00,  1.64s/it]\n",
      "  6%|▌         | 25/450 [01:29<27:36,  3.90s/it]"
     ]
    },
    {
     "name": "stdout",
     "output_type": "stream",
     "text": [
      "https://reviews.webmd.com/drugs/drugreview-12194-theracort-lotion\n"
     ]
    },
    {
     "name": "stderr",
     "output_type": "stream",
     "text": [
      "  6%|▌         | 26/450 [01:32<25:18,  3.58s/it]"
     ]
    },
    {
     "name": "stdout",
     "output_type": "stream",
     "text": [
      "https://reviews.webmd.com/drugs/drugreview-13450-sarnol-hc-lotion\n"
     ]
    },
    {
     "name": "stderr",
     "output_type": "stream",
     "text": [
      "  6%|▌         | 27/450 [01:35<23:39,  3.36s/it]"
     ]
    },
    {
     "name": "stdout",
     "output_type": "stream",
     "text": [
      "https://reviews.webmd.com/drugs/drugreview-13720-hy-pam-capsule\n"
     ]
    },
    {
     "name": "stderr",
     "output_type": "stream",
     "text": [
      "  6%|▌         | 28/450 [01:38<22:29,  3.20s/it]"
     ]
    },
    {
     "name": "stdout",
     "output_type": "stream",
     "text": [
      "https://reviews.webmd.com/drugs/drugreview-13780-instacort-scalp-lotion\n"
     ]
    },
    {
     "name": "stderr",
     "output_type": "stream",
     "text": [
      "  6%|▋         | 29/450 [01:41<21:42,  3.09s/it]"
     ]
    },
    {
     "name": "stdout",
     "output_type": "stream",
     "text": [
      "https://reviews.webmd.com/drugs/drugreview-13840-instacort-0-gel\n"
     ]
    },
    {
     "name": "stderr",
     "output_type": "stream",
     "text": [
      "  7%|▋         | 30/450 [01:44<21:44,  3.11s/it]"
     ]
    },
    {
     "name": "stdout",
     "output_type": "stream",
     "text": [
      "https://reviews.webmd.com/drugs/drugreview-14028-preparation-h-cream\n"
     ]
    },
    {
     "name": "stderr",
     "output_type": "stream",
     "text": [
      "100%|██████████| 1/1 [00:01<00:00,  1.72s/it]\n",
      "  7%|▋         | 31/450 [01:50<27:08,  3.89s/it]"
     ]
    },
    {
     "name": "stdout",
     "output_type": "stream",
     "text": [
      "https://reviews.webmd.com/drugs/drugreview-14227-thsc-hydroxyzine-hcl-tablet\n"
     ]
    },
    {
     "name": "stderr",
     "output_type": "stream",
     "text": [
      "  7%|▋         | 32/450 [01:54<27:37,  3.96s/it]"
     ]
    },
    {
     "name": "stdout",
     "output_type": "stream",
     "text": [
      "https://reviews.webmd.com/drugs/drugreview-14248-thsc-hydrocortisone-acetate-cream\n"
     ]
    },
    {
     "name": "stderr",
     "output_type": "stream",
     "text": [
      "  7%|▋         | 33/450 [01:57<26:09,  3.76s/it]"
     ]
    },
    {
     "name": "stdout",
     "output_type": "stream",
     "text": [
      "https://reviews.webmd.com/drugs/drugreview-14371-fluex-cream\n"
     ]
    },
    {
     "name": "stderr",
     "output_type": "stream",
     "text": [
      "  8%|▊         | 34/450 [02:00<24:11,  3.49s/it]"
     ]
    },
    {
     "name": "stdout",
     "output_type": "stream",
     "text": [
      "https://reviews.webmd.com/drugs/drugreview-1447-fluocinolone-acetonide-oil\n"
     ]
    },
    {
     "name": "stderr",
     "output_type": "stream",
     "text": [
      "100%|██████████| 1/1 [00:02<00:00,  2.54s/it]\n",
      "  8%|▊         | 35/450 [02:06<29:36,  4.28s/it]"
     ]
    },
    {
     "name": "stdout",
     "output_type": "stream",
     "text": [
      "https://reviews.webmd.com/drugs/drugreview-1447-fluocinolone-acetonide-ointment\n"
     ]
    },
    {
     "name": "stderr",
     "output_type": "stream",
     "text": [
      "100%|██████████| 1/1 [00:01<00:00,  1.86s/it]\n",
      "  8%|▊         | 36/450 [02:11<31:23,  4.55s/it]"
     ]
    },
    {
     "name": "stdout",
     "output_type": "stream",
     "text": [
      "https://reviews.webmd.com/drugs/drugreview-1447-fluocinolone-shampoo\n"
     ]
    },
    {
     "name": "stderr",
     "output_type": "stream",
     "text": [
      "100%|██████████| 1/1 [00:02<00:00,  2.06s/it]\n",
      "  8%|▊         | 37/450 [02:16<32:35,  4.73s/it]"
     ]
    },
    {
     "name": "stdout",
     "output_type": "stream",
     "text": [
      "https://reviews.webmd.com/drugs/drugreview-145116-cortisone-lotion\n"
     ]
    },
    {
     "name": "stderr",
     "output_type": "stream",
     "text": [
      "100%|██████████| 1/1 [00:01<00:00,  1.62s/it]\n",
      "  8%|▊         | 38/450 [02:21<32:20,  4.71s/it]"
     ]
    },
    {
     "name": "stdout",
     "output_type": "stream",
     "text": [
      "https://reviews.webmd.com/drugs/drugreview-145577-verdeso-foam\n"
     ]
    },
    {
     "name": "stderr",
     "output_type": "stream",
     "text": [
      "100%|██████████| 1/1 [00:01<00:00,  1.64s/it]\n",
      "  9%|▊         | 39/450 [02:27<34:12,  4.99s/it]"
     ]
    },
    {
     "name": "stdout",
     "output_type": "stream",
     "text": [
      "https://reviews.webmd.com/drugs/drugreview-1456-triamcinolone-acetonide-cream\n"
     ]
    },
    {
     "name": "stderr",
     "output_type": "stream",
     "text": [
      "100%|██████████| 14/14 [00:27<00:00,  1.96s/it]\n",
      "  9%|▉         | 40/450 [02:58<1:27:45, 12.84s/it]"
     ]
    },
    {
     "name": "stdout",
     "output_type": "stream",
     "text": [
      "https://reviews.webmd.com/drugs/drugreview-147284-desonate-gel\n"
     ]
    },
    {
     "name": "stderr",
     "output_type": "stream",
     "text": [
      "100%|██████████| 1/1 [00:01<00:00,  1.92s/it]\n",
      "  9%|▉         | 41/450 [03:03<1:11:08, 10.44s/it]"
     ]
    },
    {
     "name": "stdout",
     "output_type": "stream",
     "text": [
      "https://reviews.webmd.com/drugs/drugreview-148380-anti-itch-cream\n"
     ]
    },
    {
     "name": "stderr",
     "output_type": "stream",
     "text": [
      "100%|██████████| 1/1 [00:03<00:00,  3.10s/it]\n",
      " 10%|▉         | 43/450 [03:12<48:48,  7.20s/it]  "
     ]
    },
    {
     "name": "stdout",
     "output_type": "stream",
     "text": [
      "skipping https://reviews.webmd.com/drugs/drugreview-149091-triamcin-skin-clnsr-6-emoll-27-kit: page not found\n"
     ]
    },
    {
     "name": "stderr",
     "output_type": "stream",
     "text": [
      " 10%|▉         | 44/450 [03:14<38:27,  5.68s/it]"
     ]
    },
    {
     "name": "stdout",
     "output_type": "stream",
     "text": [
      "skipping https://reviews.webmd.com/drugs/drugreview-149099-zytopic-kit: page not found\n",
      "https://reviews.webmd.com/drugs/drugreview-149423-anti-itch-hc-with-oatmeal-cream\n"
     ]
    },
    {
     "name": "stderr",
     "output_type": "stream",
     "text": [
      " 10%|█         | 45/450 [03:17<33:11,  4.92s/it]"
     ]
    },
    {
     "name": "stdout",
     "output_type": "stream",
     "text": [
      "https://reviews.webmd.com/drugs/drugreview-149434-hydrocortisone-aloe-vits-a-d-e-cream\n"
     ]
    },
    {
     "name": "stderr",
     "output_type": "stream",
     "text": [
      " 10%|█         | 46/450 [03:20<30:00,  4.46s/it]"
     ]
    },
    {
     "name": "stdout",
     "output_type": "stream",
     "text": [
      "https://reviews.webmd.com/drugs/drugreview-149436-hydrocortisone-oatmeal-aloe-e-cream\n"
     ]
    },
    {
     "name": "stderr",
     "output_type": "stream",
     "text": [
      " 10%|█         | 47/450 [03:23<26:58,  4.02s/it]"
     ]
    },
    {
     "name": "stdout",
     "output_type": "stream",
     "text": [
      "https://reviews.webmd.com/drugs/drugreview-149487-anti-itch-hc-with-aloe-vit-e-cream\n"
     ]
    },
    {
     "name": "stderr",
     "output_type": "stream",
     "text": [
      " 11%|█         | 48/450 [03:27<26:22,  3.94s/it]"
     ]
    },
    {
     "name": "stdout",
     "output_type": "stream",
     "text": [
      "https://reviews.webmd.com/drugs/drugreview-149599-nu-derm-tolereen-lotion\n"
     ]
    },
    {
     "name": "stderr",
     "output_type": "stream",
     "text": [
      " 11%|█         | 49/450 [03:30<24:05,  3.60s/it]"
     ]
    },
    {
     "name": "stdout",
     "output_type": "stream",
     "text": [
      "https://reviews.webmd.com/drugs/drugreview-150250-desonide-emollient-combo-no-28-kit-lotion-and-cream-emollient\n"
     ]
    },
    {
     "name": "stderr",
     "output_type": "stream",
     "text": [
      "100%|██████████| 1/1 [00:02<00:00,  2.06s/it]\n",
      " 11%|█         | 50/450 [03:36<28:41,  4.30s/it]"
     ]
    },
    {
     "name": "stdout",
     "output_type": "stream",
     "text": [
      "https://reviews.webmd.com/drugs/drugreview-150353-itch-x-hc-lotion\n"
     ]
    },
    {
     "name": "stderr",
     "output_type": "stream",
     "text": [
      "100%|██████████| 1/1 [00:01<00:00,  1.55s/it]\n",
      " 11%|█▏        | 51/450 [03:40<29:15,  4.40s/it]"
     ]
    },
    {
     "name": "stdout",
     "output_type": "stream",
     "text": [
      "https://reviews.webmd.com/drugs/drugreview-150631-halobetasol-ammonium-lactate-combination-package-ointment-and-lotion-comb-lotion\n"
     ]
    },
    {
     "name": "stderr",
     "output_type": "stream",
     "text": [
      "100%|██████████| 1/1 [00:01<00:00,  1.81s/it]\n",
      " 12%|█▏        | 52/450 [03:45<29:52,  4.50s/it]"
     ]
    },
    {
     "name": "stdout",
     "output_type": "stream",
     "text": [
      "https://reviews.webmd.com/drugs/drugreview-150632-ultravate-pac-combination-package-ointment-and-lotion-comb-lotion\n"
     ]
    },
    {
     "name": "stderr",
     "output_type": "stream",
     "text": [
      "100%|██████████| 1/1 [00:01<00:00,  1.84s/it]\n",
      " 12%|█▏        | 53/450 [03:50<30:20,  4.58s/it]"
     ]
    },
    {
     "name": "stdout",
     "output_type": "stream",
     "text": [
      "https://reviews.webmd.com/drugs/drugreview-150640-desonide-emollient-combo-30-kit-cream-and-lotion-emollient\n"
     ]
    },
    {
     "name": "stderr",
     "output_type": "stream",
     "text": [
      "100%|██████████| 1/1 [00:01<00:00,  1.71s/it]\n",
      " 12%|█▏        | 54/450 [03:55<30:51,  4.68s/it]"
     ]
    },
    {
     "name": "stdout",
     "output_type": "stream",
     "text": [
      "https://reviews.webmd.com/drugs/drugreview-150642-desowen-cream-and-lotion-kit-lotion-emollient\n"
     ]
    },
    {
     "name": "stderr",
     "output_type": "stream",
     "text": [
      "100%|██████████| 1/1 [00:01<00:00,  1.80s/it]\n",
      " 12%|█▏        | 55/450 [04:00<31:12,  4.74s/it]"
     ]
    },
    {
     "name": "stdout",
     "output_type": "stream",
     "text": [
      "https://reviews.webmd.com/drugs/drugreview-150643-desowen-ointment-and-lotion-kit-lotion-emollient\n"
     ]
    },
    {
     "name": "stderr",
     "output_type": "stream",
     "text": [
      " 12%|█▏        | 56/450 [04:04<29:25,  4.48s/it]"
     ]
    },
    {
     "name": "stdout",
     "output_type": "stream",
     "text": [
      "https://reviews.webmd.com/drugs/drugreview-150710-hydrocortisone-plus-2-cream\n"
     ]
    },
    {
     "name": "stderr",
     "output_type": "stream",
     "text": [
      " 13%|█▎        | 57/450 [04:09<30:23,  4.64s/it]"
     ]
    },
    {
     "name": "stdout",
     "output_type": "stream",
     "text": [
      "https://reviews.webmd.com/drugs/drugreview-150808-corticool-gel\n"
     ]
    },
    {
     "name": "stderr",
     "output_type": "stream",
     "text": [
      "100%|██████████| 1/1 [00:01<00:00,  1.56s/it]\n",
      " 13%|█▎        | 58/450 [04:13<30:03,  4.60s/it]"
     ]
    },
    {
     "name": "stdout",
     "output_type": "stream",
     "text": [
      "https://reviews.webmd.com/drugs/drugreview-151317-ferncort-hc-acetate-lotion\n"
     ]
    },
    {
     "name": "stderr",
     "output_type": "stream",
     "text": [
      " 13%|█▎        | 59/450 [04:16<27:39,  4.25s/it]"
     ]
    },
    {
     "name": "stdout",
     "output_type": "stream",
     "text": [
      "https://reviews.webmd.com/drugs/drugreview-151707-scalacort-lotion\n"
     ]
    },
    {
     "name": "stderr",
     "output_type": "stream",
     "text": [
      " 13%|█▎        | 60/450 [04:19<24:32,  3.78s/it]"
     ]
    },
    {
     "name": "stdout",
     "output_type": "stream",
     "text": [
      "https://reviews.webmd.com/drugs/drugreview-151954-balneol-for-her-lotion\n"
     ]
    },
    {
     "name": "stderr",
     "output_type": "stream",
     "text": [
      " 14%|█▎        | 61/450 [04:22<22:30,  3.47s/it]"
     ]
    },
    {
     "name": "stdout",
     "output_type": "stream",
     "text": [
      "https://reviews.webmd.com/drugs/drugreview-153093-pediaderm-hc-kit-lotion-and-cream-emollient\n"
     ]
    },
    {
     "name": "stderr",
     "output_type": "stream",
     "text": [
      "100%|██████████| 1/1 [00:02<00:00,  2.26s/it]\n",
      " 14%|█▍        | 62/450 [04:27<26:14,  4.06s/it]"
     ]
    },
    {
     "name": "stdout",
     "output_type": "stream",
     "text": [
      "https://reviews.webmd.com/drugs/drugreview-153105-hydrocortisone-emollient-no-45-kit-lotion-and-cream-emollient\n"
     ]
    },
    {
     "name": "stderr",
     "output_type": "stream",
     "text": [
      " 14%|█▍        | 63/450 [04:30<23:42,  3.67s/it]"
     ]
    },
    {
     "name": "stdout",
     "output_type": "stream",
     "text": [
      "https://reviews.webmd.com/drugs/drugreview-153289-halonate-combination-package-ointment-and-foam-comb-foam\n"
     ]
    },
    {
     "name": "stderr",
     "output_type": "stream",
     "text": [
      "100%|██████████| 1/1 [00:01<00:00,  1.68s/it]\n",
      " 14%|█▍        | 64/450 [04:35<25:31,  3.97s/it]"
     ]
    },
    {
     "name": "stdout",
     "output_type": "stream",
     "text": [
      "https://reviews.webmd.com/drugs/drugreview-153349-noble-formula-hc-cream\n"
     ]
    },
    {
     "name": "stderr",
     "output_type": "stream",
     "text": [
      " 14%|█▍        | 65/450 [04:38<23:42,  3.69s/it]"
     ]
    },
    {
     "name": "stdout",
     "output_type": "stream",
     "text": [
      "https://reviews.webmd.com/drugs/drugreview-153979-halonate-pac-combination-package-ointment-and-lotion-comb-lotion\n"
     ]
    },
    {
     "name": "stderr",
     "output_type": "stream",
     "text": [
      " 15%|█▍        | 66/450 [04:41<22:25,  3.50s/it]"
     ]
    },
    {
     "name": "stdout",
     "output_type": "stream",
     "text": [
      "https://reviews.webmd.com/drugs/drugreview-154431-cortisone-gel\n"
     ]
    },
    {
     "name": "stderr",
     "output_type": "stream",
     "text": [
      " 15%|█▌        | 68/450 [04:46<19:22,  3.04s/it]"
     ]
    },
    {
     "name": "stdout",
     "output_type": "stream",
     "text": [
      "skipping https://reviews.webmd.com/drugs/drugreview-154496-desonide-emollient-combo-no-3-combination-package-ointment-and-cream-comb-cream: page not found\n"
     ]
    },
    {
     "name": "stderr",
     "output_type": "stream",
     "text": [
      " 15%|█▌        | 69/450 [04:48<16:53,  2.66s/it]"
     ]
    },
    {
     "name": "stdout",
     "output_type": "stream",
     "text": [
      "skipping https://reviews.webmd.com/drugs/drugreview-154511-desonil-plus-cream: page not found\n",
      "https://reviews.webmd.com/drugs/drugreview-154683-triamcinolone-emollient-comb45-cream\n"
     ]
    },
    {
     "name": "stderr",
     "output_type": "stream",
     "text": [
      " 16%|█▌        | 70/450 [04:53<20:35,  3.25s/it]"
     ]
    },
    {
     "name": "stdout",
     "output_type": "stream",
     "text": [
      "https://reviews.webmd.com/drugs/drugreview-154693-pediaderm-ta-cream\n"
     ]
    },
    {
     "name": "stderr",
     "output_type": "stream",
     "text": [
      " 16%|█▌        | 71/450 [04:56<21:06,  3.34s/it]"
     ]
    },
    {
     "name": "stdout",
     "output_type": "stream",
     "text": [
      "https://reviews.webmd.com/drugs/drugreview-154878-halac-combination-package-ointment-and-lotion-comb-lotion\n"
     ]
    },
    {
     "name": "stderr",
     "output_type": "stream",
     "text": [
      " 16%|█▌        | 72/450 [04:59<20:02,  3.18s/it]"
     ]
    },
    {
     "name": "stdout",
     "output_type": "stream",
     "text": [
      "https://reviews.webmd.com/drugs/drugreview-154937-hydroskin-lotion\n"
     ]
    },
    {
     "name": "stderr",
     "output_type": "stream",
     "text": [
      " 16%|█▌        | 73/450 [05:02<19:16,  3.07s/it]"
     ]
    },
    {
     "name": "stdout",
     "output_type": "stream",
     "text": [
      "https://reviews.webmd.com/drugs/drugreview-155139-hydrocream-cream\n"
     ]
    },
    {
     "name": "stderr",
     "output_type": "stream",
     "text": [
      " 16%|█▋        | 74/450 [05:05<18:53,  3.01s/it]"
     ]
    },
    {
     "name": "stdout",
     "output_type": "stream",
     "text": [
      "https://reviews.webmd.com/drugs/drugreview-155999-trianex-ointment\n"
     ]
    },
    {
     "name": "stderr",
     "output_type": "stream",
     "text": [
      "100%|██████████| 1/1 [00:01<00:00,  1.45s/it]\n",
      " 17%|█▋        | 76/450 [05:12<19:11,  3.08s/it]"
     ]
    },
    {
     "name": "stdout",
     "output_type": "stream",
     "text": [
      "skipping https://reviews.webmd.com/drugs/drugreview-156060-desonil-cream: page not found\n",
      "https://reviews.webmd.com/drugs/drugreview-161224-neosporin-anti-itch-cream\n"
     ]
    },
    {
     "name": "stderr",
     "output_type": "stream",
     "text": [
      "100%|██████████| 1/1 [00:01<00:00,  1.75s/it]\n",
      " 17%|█▋        | 77/450 [05:17<22:48,  3.67s/it]"
     ]
    },
    {
     "name": "stdout",
     "output_type": "stream",
     "text": [
      "https://reviews.webmd.com/drugs/drugreview-161559-halobetasol-lactic-acid-combination-package-ointment-and-cream-comb-cream\n"
     ]
    },
    {
     "name": "stderr",
     "output_type": "stream",
     "text": [
      " 17%|█▋        | 78/450 [05:20<22:38,  3.65s/it]"
     ]
    },
    {
     "name": "stdout",
     "output_type": "stream",
     "text": [
      "https://reviews.webmd.com/drugs/drugreview-161571-ultravate-x-combination-package-ointment-and-cream-comb-cream\n"
     ]
    },
    {
     "name": "stderr",
     "output_type": "stream",
     "text": [
      "100%|██████████| 1/1 [00:01<00:00,  1.83s/it]\n",
      " 18%|█▊        | 79/450 [05:25<24:48,  4.01s/it]"
     ]
    },
    {
     "name": "stdout",
     "output_type": "stream",
     "text": [
      "https://reviews.webmd.com/drugs/drugreview-161986-rhulicort-hydrocort-acetate-cream\n"
     ]
    },
    {
     "name": "stderr",
     "output_type": "stream",
     "text": [
      " 18%|█▊        | 80/450 [05:28<23:06,  3.75s/it]"
     ]
    },
    {
     "name": "stdout",
     "output_type": "stream",
     "text": [
      "https://reviews.webmd.com/drugs/drugreview-162429-fluocinolone-skin-clnsr28-kit\n"
     ]
    },
    {
     "name": "stderr",
     "output_type": "stream",
     "text": [
      " 18%|█▊        | 81/450 [05:33<24:54,  4.05s/it]"
     ]
    },
    {
     "name": "stdout",
     "output_type": "stream",
     "text": [
      "https://reviews.webmd.com/drugs/drugreview-162471-synalar-ts-kit\n"
     ]
    },
    {
     "name": "stderr",
     "output_type": "stream",
     "text": [
      "100%|██████████| 1/1 [00:01<00:00,  1.67s/it]\n",
      " 18%|█▊        | 82/450 [05:38<27:10,  4.43s/it]"
     ]
    },
    {
     "name": "stdout",
     "output_type": "stream",
     "text": [
      "https://reviews.webmd.com/drugs/drugreview-1628-delonide-cream\n"
     ]
    },
    {
     "name": "stderr",
     "output_type": "stream",
     "text": [
      " 18%|█▊        | 83/450 [05:41<23:56,  3.91s/it]"
     ]
    },
    {
     "name": "stdout",
     "output_type": "stream",
     "text": [
      "https://reviews.webmd.com/drugs/drugreview-163024-fluocinolone-emol-cmb65-cream\n"
     ]
    },
    {
     "name": "stderr",
     "output_type": "stream",
     "text": [
      " 19%|█▊        | 84/450 [05:44<21:33,  3.53s/it]"
     ]
    },
    {
     "name": "stdout",
     "output_type": "stream",
     "text": [
      "https://reviews.webmd.com/drugs/drugreview-163089-synalar-cream\n"
     ]
    },
    {
     "name": "stderr",
     "output_type": "stream",
     "text": [
      "100%|██████████| 1/1 [00:01<00:00,  1.92s/it]\n",
      " 19%|█▉        | 85/450 [05:49<23:55,  3.93s/it]"
     ]
    },
    {
     "name": "stdout",
     "output_type": "stream",
     "text": [
      "https://reviews.webmd.com/drugs/drugreview-163091-synalar-combination-package-ointment-and-cream\n"
     ]
    },
    {
     "name": "stderr",
     "output_type": "stream",
     "text": [
      "100%|██████████| 1/1 [00:01<00:00,  1.49s/it]\n",
      " 19%|█▉        | 86/450 [05:53<24:40,  4.07s/it]"
     ]
    },
    {
     "name": "stdout",
     "output_type": "stream",
     "text": [
      "https://reviews.webmd.com/drugs/drugreview-163845-anti-itch-plus-cream\n"
     ]
    },
    {
     "name": "stderr",
     "output_type": "stream",
     "text": [
      " 19%|█▉        | 87/450 [05:56<22:10,  3.67s/it]"
     ]
    },
    {
     "name": "stdout",
     "output_type": "stream",
     "text": [
      "https://reviews.webmd.com/drugs/drugreview-164029-eczema-anti-itch-cream\n"
     ]
    },
    {
     "name": "stderr",
     "output_type": "stream",
     "text": [
      " 20%|█▉        | 88/450 [05:59<21:22,  3.54s/it]"
     ]
    },
    {
     "name": "stdout",
     "output_type": "stream",
     "text": [
      "https://reviews.webmd.com/drugs/drugreview-164039-dermarest-eczema-lotion\n"
     ]
    },
    {
     "name": "stderr",
     "output_type": "stream",
     "text": [
      " 20%|█▉        | 89/450 [06:02<20:02,  3.33s/it]"
     ]
    },
    {
     "name": "stdout",
     "output_type": "stream",
     "text": [
      "https://reviews.webmd.com/drugs/drugreview-164246-soothing-care-hydrocortisone-cream\n"
     ]
    },
    {
     "name": "stderr",
     "output_type": "stream",
     "text": [
      " 20%|██        | 91/450 [06:08<18:17,  3.06s/it]"
     ]
    },
    {
     "name": "stdout",
     "output_type": "stream",
     "text": [
      "skipping https://reviews.webmd.com/drugs/drugreview-16431-fluocinolone-emollient-kit: page not found\n"
     ]
    },
    {
     "name": "stderr",
     "output_type": "stream",
     "text": [
      " 20%|██        | 92/450 [06:09<16:13,  2.72s/it]"
     ]
    },
    {
     "name": "stdout",
     "output_type": "stream",
     "text": [
      "skipping https://reviews.webmd.com/drugs/drugreview-16434-derma-smoothe-fs-atopic-pak-kit: page not found\n",
      "https://reviews.webmd.com/drugs/drugreview-164349-cortisone-with-aloe-cream\n"
     ]
    },
    {
     "name": "stderr",
     "output_type": "stream",
     "text": [
      " 21%|██        | 93/450 [06:12<15:54,  2.67s/it]"
     ]
    },
    {
     "name": "stdout",
     "output_type": "stream",
     "text": [
      "https://reviews.webmd.com/drugs/drugreview-164351-cortaid-hydrocortisone-acet-lotion\n"
     ]
    },
    {
     "name": "stderr",
     "output_type": "stream",
     "text": [
      " 21%|██        | 94/450 [06:17<19:53,  3.35s/it]"
     ]
    },
    {
     "name": "stdout",
     "output_type": "stream",
     "text": [
      "https://reviews.webmd.com/drugs/drugreview-16473-hydrocortisone-scalp-solution\n"
     ]
    },
    {
     "name": "stderr",
     "output_type": "stream",
     "text": [
      "100%|██████████| 1/1 [00:01<00:00,  1.72s/it]\n",
      " 21%|██        | 95/450 [06:22<23:32,  3.98s/it]"
     ]
    },
    {
     "name": "stdout",
     "output_type": "stream",
     "text": [
      "https://reviews.webmd.com/drugs/drugreview-16534-meijer-hydrocortisone-cream\n"
     ]
    },
    {
     "name": "stderr",
     "output_type": "stream",
     "text": [
      " 21%|██▏       | 96/450 [06:25<21:46,  3.69s/it]"
     ]
    },
    {
     "name": "stdout",
     "output_type": "stream",
     "text": [
      "https://reviews.webmd.com/drugs/drugreview-165472-triamcinolone-emollient-comb86-cream\n"
     ]
    },
    {
     "name": "stderr",
     "output_type": "stream",
     "text": [
      " 22%|██▏       | 97/450 [06:29<20:53,  3.55s/it]"
     ]
    },
    {
     "name": "stdout",
     "output_type": "stream",
     "text": [
      "https://reviews.webmd.com/drugs/drugreview-165475-hydrocortisone-skin-clnsr-35-combination-package-cleanser-and-cream-comb-cream\n"
     ]
    },
    {
     "name": "stderr",
     "output_type": "stream",
     "text": [
      " 22%|██▏       | 98/450 [06:31<19:29,  3.32s/it]"
     ]
    },
    {
     "name": "stdout",
     "output_type": "stream",
     "text": [
      "https://reviews.webmd.com/drugs/drugreview-165487-dermasorb-hc-complete-kit-combination-package-cleanser-and-cream-comb-cream\n"
     ]
    },
    {
     "name": "stderr",
     "output_type": "stream",
     "text": [
      "100%|██████████| 1/1 [00:01<00:00,  1.48s/it]\n",
      " 22%|██▏       | 99/450 [06:36<21:19,  3.65s/it]"
     ]
    },
    {
     "name": "stdout",
     "output_type": "stream",
     "text": [
      "https://reviews.webmd.com/drugs/drugreview-165488-dermasorb-ta-complete-kit-cream\n"
     ]
    },
    {
     "name": "stderr",
     "output_type": "stream",
     "text": [
      "100%|██████████| 1/1 [00:01<00:00,  1.91s/it]\n",
      " 22%|██▏       | 100/450 [06:41<24:19,  4.17s/it]"
     ]
    },
    {
     "name": "stdout",
     "output_type": "stream",
     "text": [
      "https://reviews.webmd.com/drugs/drugreview-165498-proctocream-hc-cream\n"
     ]
    },
    {
     "name": "stderr",
     "output_type": "stream",
     "text": [
      " 22%|██▏       | 101/450 [06:44<21:58,  3.78s/it]"
     ]
    },
    {
     "name": "stdout",
     "output_type": "stream",
     "text": [
      "https://reviews.webmd.com/drugs/drugreview-165499-proctozone-hc-cream\n"
     ]
    },
    {
     "name": "stderr",
     "output_type": "stream",
     "text": [
      " 23%|██▎       | 103/450 [06:50<18:45,  3.24s/it]"
     ]
    },
    {
     "name": "stdout",
     "output_type": "stream",
     "text": [
      "skipping https://reviews.webmd.com/drugs/drugreview-166125-halcinonide-emollient-cream: page not found\n",
      "https://reviews.webmd.com/drugs/drugreview-166263-cordran-tape-medicated\n"
     ]
    },
    {
     "name": "stderr",
     "output_type": "stream",
     "text": [
      "100%|██████████| 1/1 [00:01<00:00,  1.68s/it]\n",
      " 23%|██▎       | 104/450 [06:55<21:35,  3.74s/it]"
     ]
    },
    {
     "name": "stdout",
     "output_type": "stream",
     "text": [
      "https://reviews.webmd.com/drugs/drugreview-166264-cordran-tape-small-roll\n"
     ]
    },
    {
     "name": "stderr",
     "output_type": "stream",
     "text": [
      "100%|██████████| 1/1 [00:03<00:00,  3.10s/it]\n",
      " 23%|██▎       | 105/450 [07:01<25:48,  4.49s/it]"
     ]
    },
    {
     "name": "stdout",
     "output_type": "stream",
     "text": [
      "https://reviews.webmd.com/drugs/drugreview-16741-hydrocortisone-max-st-cream\n"
     ]
    },
    {
     "name": "stderr",
     "output_type": "stream",
     "text": [
      " 24%|██▎       | 106/450 [07:04<23:04,  4.02s/it]"
     ]
    },
    {
     "name": "stdout",
     "output_type": "stream",
     "text": [
      "https://reviews.webmd.com/drugs/drugreview-16741-hydrocortisone-max-st-ointment\n"
     ]
    },
    {
     "name": "stderr",
     "output_type": "stream",
     "text": [
      " 24%|██▍       | 108/450 [07:09<18:00,  3.16s/it]"
     ]
    },
    {
     "name": "stdout",
     "output_type": "stream",
     "text": [
      "skipping https://reviews.webmd.com/drugs/drugreview-16863-psorcon-e-ointment: page not found\n",
      "https://reviews.webmd.com/drugs/drugreview-168985-scalpicin-solution-non\n"
     ]
    },
    {
     "name": "stderr",
     "output_type": "stream",
     "text": [
      "100%|██████████| 1/1 [00:01<00:00,  1.83s/it]\n",
      " 24%|██▍       | 109/450 [07:14<21:11,  3.73s/it]"
     ]
    },
    {
     "name": "stdout",
     "output_type": "stream",
     "text": [
      "https://reviews.webmd.com/drugs/drugreview-169043-triamcinolone-dimeth-silicone-kit\n"
     ]
    },
    {
     "name": "stderr",
     "output_type": "stream",
     "text": [
      "100%|██████████| 1/1 [00:01<00:00,  1.64s/it]\n",
      " 24%|██▍       | 110/450 [07:19<23:25,  4.14s/it]"
     ]
    },
    {
     "name": "stdout",
     "output_type": "stream",
     "text": [
      "https://reviews.webmd.com/drugs/drugreview-169055-dermacinrx-silapak-kit\n"
     ]
    },
    {
     "name": "stderr",
     "output_type": "stream",
     "text": [
      " 25%|██▍       | 111/450 [07:22<21:49,  3.86s/it]"
     ]
    },
    {
     "name": "stdout",
     "output_type": "stream",
     "text": [
      "https://reviews.webmd.com/drugs/drugreview-169395-dermasilkrx-sds-kit\n"
     ]
    },
    {
     "name": "stderr",
     "output_type": "stream",
     "text": [
      " 25%|██▍       | 112/450 [07:25<20:33,  3.65s/it]"
     ]
    },
    {
     "name": "stdout",
     "output_type": "stream",
     "text": [
      "https://reviews.webmd.com/drugs/drugreview-169496-hydroskin-with-aloe-cream\n"
     ]
    },
    {
     "name": "stderr",
     "output_type": "stream",
     "text": [
      " 25%|██▌       | 113/450 [07:28<19:03,  3.39s/it]"
     ]
    },
    {
     "name": "stdout",
     "output_type": "stream",
     "text": [
      "https://reviews.webmd.com/drugs/drugreview-170023-whytederm-tdpak-kit\n"
     ]
    },
    {
     "name": "stderr",
     "output_type": "stream",
     "text": [
      " 25%|██▌       | 114/450 [07:31<18:09,  3.24s/it]"
     ]
    },
    {
     "name": "stdout",
     "output_type": "stream",
     "text": [
      "https://reviews.webmd.com/drugs/drugreview-170182-aveeno-cream\n"
     ]
    },
    {
     "name": "stderr",
     "output_type": "stream",
     "text": [
      "100%|██████████| 1/1 [00:01<00:00,  1.84s/it]\n",
      " 26%|██▌       | 115/450 [07:36<20:17,  3.64s/it]"
     ]
    },
    {
     "name": "stdout",
     "output_type": "stream",
     "text": [
      "https://reviews.webmd.com/drugs/drugreview-170417-sanadermrx-kit\n"
     ]
    },
    {
     "name": "stderr",
     "output_type": "stream",
     "text": [
      " 26%|██▌       | 116/450 [07:38<18:35,  3.34s/it]"
     ]
    },
    {
     "name": "stdout",
     "output_type": "stream",
     "text": [
      "https://reviews.webmd.com/drugs/drugreview-170527-whytederm-trilasil-pak-kit\n"
     ]
    },
    {
     "name": "stderr",
     "output_type": "stream",
     "text": [
      " 26%|██▌       | 117/450 [07:41<17:20,  3.13s/it]"
     ]
    },
    {
     "name": "stdout",
     "output_type": "stream",
     "text": [
      "https://reviews.webmd.com/drugs/drugreview-17062-dr-smiths-anti-itch-lotion\n"
     ]
    },
    {
     "name": "stderr",
     "output_type": "stream",
     "text": [
      " 26%|██▌       | 118/450 [07:44<17:27,  3.15s/it]"
     ]
    },
    {
     "name": "stdout",
     "output_type": "stream",
     "text": [
      "https://reviews.webmd.com/drugs/drugreview-171302-dermawerx-sds-kit\n"
     ]
    },
    {
     "name": "stderr",
     "output_type": "stream",
     "text": [
      " 26%|██▋       | 119/450 [07:47<16:21,  2.97s/it]"
     ]
    },
    {
     "name": "stdout",
     "output_type": "stream",
     "text": [
      "https://reviews.webmd.com/drugs/drugreview-171416-sure-result-tac-pak-kit\n"
     ]
    },
    {
     "name": "stderr",
     "output_type": "stream",
     "text": [
      " 27%|██▋       | 120/450 [07:49<15:31,  2.82s/it]"
     ]
    },
    {
     "name": "stdout",
     "output_type": "stream",
     "text": [
      "https://reviews.webmd.com/drugs/drugreview-171898-tri-sila-kit\n"
     ]
    },
    {
     "name": "stderr",
     "output_type": "stream",
     "text": [
      " 27%|██▋       | 121/450 [07:52<15:15,  2.78s/it]"
     ]
    },
    {
     "name": "stdout",
     "output_type": "stream",
     "text": [
      "https://reviews.webmd.com/drugs/drugreview-172432-anusol-hc-cream\n"
     ]
    },
    {
     "name": "stderr",
     "output_type": "stream",
     "text": [
      " 27%|██▋       | 122/450 [07:54<14:49,  2.71s/it]"
     ]
    },
    {
     "name": "stdout",
     "output_type": "stream",
     "text": [
      "https://reviews.webmd.com/drugs/drugreview-172432-anusol-hc-cream-with-perineal-applicator\n"
     ]
    },
    {
     "name": "stderr",
     "output_type": "stream",
     "text": [
      " 27%|██▋       | 123/450 [07:57<14:50,  2.72s/it]"
     ]
    },
    {
     "name": "stdout",
     "output_type": "stream",
     "text": [
      "https://reviews.webmd.com/drugs/drugreview-172493-proctocort-cream\n"
     ]
    },
    {
     "name": "stderr",
     "output_type": "stream",
     "text": [
      " 28%|██▊       | 124/450 [08:00<14:50,  2.73s/it]"
     ]
    },
    {
     "name": "stdout",
     "output_type": "stream",
     "text": [
      "https://reviews.webmd.com/drugs/drugreview-172501-nutriarx-kit\n"
     ]
    },
    {
     "name": "stderr",
     "output_type": "stream",
     "text": [
      " 28%|██▊       | 125/450 [08:02<14:29,  2.68s/it]"
     ]
    },
    {
     "name": "stdout",
     "output_type": "stream",
     "text": [
      "https://reviews.webmd.com/drugs/drugreview-173294-triamcinolone-dimethicone-kit-ointment-and-cream\n"
     ]
    },
    {
     "name": "stderr",
     "output_type": "stream",
     "text": [
      " 28%|██▊       | 126/450 [08:06<15:51,  2.94s/it]"
     ]
    },
    {
     "name": "stdout",
     "output_type": "stream",
     "text": [
      "https://reviews.webmd.com/drugs/drugreview-173356-ellzia-pak-kit-ointment-and-cream\n"
     ]
    },
    {
     "name": "stderr",
     "output_type": "stream",
     "text": [
      " 28%|██▊       | 127/450 [08:09<15:14,  2.83s/it]"
     ]
    },
    {
     "name": "stdout",
     "output_type": "stream",
     "text": [
      "https://reviews.webmd.com/drugs/drugreview-173537-cortizone-10-with-aloe-cream\n"
     ]
    },
    {
     "name": "stderr",
     "output_type": "stream",
     "text": [
      " 28%|██▊       | 128/450 [08:12<15:59,  2.98s/it]"
     ]
    },
    {
     "name": "stdout",
     "output_type": "stream",
     "text": [
      "https://reviews.webmd.com/drugs/drugreview-173708-nolix-cream\n"
     ]
    },
    {
     "name": "stderr",
     "output_type": "stream",
     "text": [
      " 29%|██▉       | 130/450 [08:16<13:18,  2.49s/it]"
     ]
    },
    {
     "name": "stdout",
     "output_type": "stream",
     "text": [
      "skipping https://reviews.webmd.com/drugs/drugreview-1759-aquaphilic-triamcinolone-ointment: page not found\n",
      "https://reviews.webmd.com/drugs/drugreview-176820-anti-itch-with-aloe-cream\n"
     ]
    },
    {
     "name": "stderr",
     "output_type": "stream",
     "text": [
      " 29%|██▉       | 131/450 [08:20<15:24,  2.90s/it]"
     ]
    },
    {
     "name": "stdout",
     "output_type": "stream",
     "text": [
      "https://reviews.webmd.com/drugs/drugreview-17689-hca-max-st-hydrocortisone-cream\n"
     ]
    },
    {
     "name": "stderr",
     "output_type": "stream",
     "text": [
      " 29%|██▉       | 132/450 [08:23<14:53,  2.81s/it]"
     ]
    },
    {
     "name": "stdout",
     "output_type": "stream",
     "text": [
      "https://reviews.webmd.com/drugs/drugreview-176954-vanicream-hc-cream\n"
     ]
    },
    {
     "name": "stderr",
     "output_type": "stream",
     "text": [
      " 30%|██▉       | 133/450 [08:25<14:51,  2.81s/it]"
     ]
    },
    {
     "name": "stdout",
     "output_type": "stream",
     "text": [
      "https://reviews.webmd.com/drugs/drugreview-177176-beser-lotion\n"
     ]
    },
    {
     "name": "stderr",
     "output_type": "stream",
     "text": [
      " 30%|██▉       | 134/450 [08:28<15:13,  2.89s/it]"
     ]
    },
    {
     "name": "stdout",
     "output_type": "stream",
     "text": [
      "https://reviews.webmd.com/drugs/drugreview-177278-fluticasone-emollient-no-65-kit-lotion-and-cream-emollient\n"
     ]
    },
    {
     "name": "stderr",
     "output_type": "stream",
     "text": [
      " 30%|███       | 135/450 [08:31<14:37,  2.78s/it]"
     ]
    },
    {
     "name": "stdout",
     "output_type": "stream",
     "text": [
      "https://reviews.webmd.com/drugs/drugreview-177287-beser-kit-kit-lotion-and-cream-emollient\n"
     ]
    },
    {
     "name": "stderr",
     "output_type": "stream",
     "text": [
      " 30%|███       | 136/450 [08:33<14:05,  2.69s/it]"
     ]
    },
    {
     "name": "stdout",
     "output_type": "stream",
     "text": [
      "https://reviews.webmd.com/drugs/drugreview-179303-trivix-kit\n"
     ]
    },
    {
     "name": "stderr",
     "output_type": "stream",
     "text": [
      " 30%|███       | 137/450 [08:36<13:44,  2.63s/it]"
     ]
    },
    {
     "name": "stdout",
     "output_type": "stream",
     "text": [
      "https://reviews.webmd.com/drugs/drugreview-179573-fluocinonide-dimethicone-kit\n"
     ]
    },
    {
     "name": "stderr",
     "output_type": "stream",
     "text": [
      " 31%|███       | 138/450 [08:39<14:37,  2.81s/it]"
     ]
    },
    {
     "name": "stdout",
     "output_type": "stream",
     "text": [
      "https://reviews.webmd.com/drugs/drugreview-179592-fluopar-kit\n"
     ]
    },
    {
     "name": "stderr",
     "output_type": "stream",
     "text": [
      " 31%|███       | 139/450 [08:42<14:41,  2.84s/it]"
     ]
    },
    {
     "name": "stdout",
     "output_type": "stream",
     "text": [
      "https://reviews.webmd.com/drugs/drugreview-180277-diprolene-ointment\n"
     ]
    },
    {
     "name": "stderr",
     "output_type": "stream",
     "text": [
      " 31%|███       | 140/450 [08:46<15:45,  3.05s/it]"
     ]
    },
    {
     "name": "stdout",
     "output_type": "stream",
     "text": [
      "https://reviews.webmd.com/drugs/drugreview-180916-aquaphor-itch-relief-ointment\n"
     ]
    },
    {
     "name": "stderr",
     "output_type": "stream",
     "text": [
      " 31%|███▏      | 141/450 [08:48<15:12,  2.95s/it]"
     ]
    },
    {
     "name": "stdout",
     "output_type": "stream",
     "text": [
      "https://reviews.webmd.com/drugs/drugreview-181396-tritocin-ointment\n"
     ]
    },
    {
     "name": "stderr",
     "output_type": "stream",
     "text": [
      " 32%|███▏      | 142/450 [08:51<15:02,  2.93s/it]"
     ]
    },
    {
     "name": "stdout",
     "output_type": "stream",
     "text": [
      "https://reviews.webmd.com/drugs/drugreview-181397-desrx-gel\n"
     ]
    },
    {
     "name": "stderr",
     "output_type": "stream",
     "text": [
      " 32%|███▏      | 143/450 [08:54<15:26,  3.02s/it]"
     ]
    },
    {
     "name": "stdout",
     "output_type": "stream",
     "text": [
      "https://reviews.webmd.com/drugs/drugreview-182294-triheal-80-kit\n"
     ]
    },
    {
     "name": "stderr",
     "output_type": "stream",
     "text": [
      " 32%|███▏      | 144/450 [08:57<14:39,  2.87s/it]"
     ]
    },
    {
     "name": "stdout",
     "output_type": "stream",
     "text": [
      "https://reviews.webmd.com/drugs/drugreview-182352-triadime-80-kit\n"
     ]
    },
    {
     "name": "stderr",
     "output_type": "stream",
     "text": [
      " 32%|███▏      | 145/450 [09:00<14:26,  2.84s/it]"
     ]
    },
    {
     "name": "stdout",
     "output_type": "stream",
     "text": [
      "https://reviews.webmd.com/drugs/drugreview-184356-monistat-care-cream\n"
     ]
    },
    {
     "name": "stderr",
     "output_type": "stream",
     "text": [
      " 32%|███▏      | 146/450 [09:03<15:29,  3.06s/it]"
     ]
    },
    {
     "name": "stdout",
     "output_type": "stream",
     "text": [
      "https://reviews.webmd.com/drugs/drugreview-18545-hydrocortisone-aloe-cream\n"
     ]
    },
    {
     "name": "stderr",
     "output_type": "stream",
     "text": [
      " 33%|███▎      | 147/450 [09:06<15:34,  3.08s/it]"
     ]
    },
    {
     "name": "stdout",
     "output_type": "stream",
     "text": [
      "https://reviews.webmd.com/drugs/drugreview-186225-scalp-relief-solution-non\n"
     ]
    },
    {
     "name": "stderr",
     "output_type": "stream",
     "text": [
      " 33%|███▎      | 148/450 [09:09<14:59,  2.98s/it]"
     ]
    },
    {
     "name": "stdout",
     "output_type": "stream",
     "text": [
      "https://reviews.webmd.com/drugs/drugreview-186323-cortizone-10-feminine-itch-cream\n"
     ]
    },
    {
     "name": "stderr",
     "output_type": "stream",
     "text": [
      " 33%|███▎      | 149/450 [09:13<15:59,  3.19s/it]"
     ]
    },
    {
     "name": "stdout",
     "output_type": "stream",
     "text": [
      "https://reviews.webmd.com/drugs/drugreview-186818-triadime-kit\n"
     ]
    },
    {
     "name": "stderr",
     "output_type": "stream",
     "text": [
      " 34%|███▎      | 151/450 [09:17<13:00,  2.61s/it]"
     ]
    },
    {
     "name": "stdout",
     "output_type": "stream",
     "text": [
      "skipping https://reviews.webmd.com/drugs/drugreview-187219-hydrocortisone-skin-cleanser-combination-package: page not found\n"
     ]
    },
    {
     "name": "stderr",
     "output_type": "stream",
     "text": [
      " 34%|███▍      | 152/450 [09:19<11:24,  2.30s/it]"
     ]
    },
    {
     "name": "stdout",
     "output_type": "stream",
     "text": [
      "skipping https://reviews.webmd.com/drugs/drugreview-187255-hydrocort-lotion-complete-combination-package: page not found\n",
      "https://reviews.webmd.com/drugs/drugreview-187257-hydroxym-gel\n"
     ]
    },
    {
     "name": "stderr",
     "output_type": "stream",
     "text": [
      " 34%|███▍      | 153/450 [09:22<12:33,  2.54s/it]"
     ]
    },
    {
     "name": "stdout",
     "output_type": "stream",
     "text": [
      "https://reviews.webmd.com/drugs/drugreview-18814-lanacort-cream\n"
     ]
    },
    {
     "name": "stderr",
     "output_type": "stream",
     "text": [
      " 34%|███▍      | 154/450 [09:25<12:42,  2.58s/it]"
     ]
    },
    {
     "name": "stdout",
     "output_type": "stream",
     "text": [
      "https://reviews.webmd.com/drugs/drugreview-19278-hydrocortisone-with-aloe-cream\n"
     ]
    },
    {
     "name": "stderr",
     "output_type": "stream",
     "text": [
      "100%|██████████| 1/1 [00:01<00:00,  1.38s/it]\n",
      " 34%|███▍      | 155/450 [09:29<15:02,  3.06s/it]"
     ]
    },
    {
     "name": "stdout",
     "output_type": "stream",
     "text": [
      "https://reviews.webmd.com/drugs/drugreview-19748-caldecort-cream\n"
     ]
    },
    {
     "name": "stderr",
     "output_type": "stream",
     "text": [
      " 35%|███▍      | 156/450 [09:31<14:32,  2.97s/it]"
     ]
    },
    {
     "name": "stdout",
     "output_type": "stream",
     "text": [
      "https://reviews.webmd.com/drugs/drugreview-203-osco-hydrocortisone-cream\n"
     ]
    },
    {
     "name": "stderr",
     "output_type": "stream",
     "text": [
      " 35%|███▍      | 157/450 [09:34<14:07,  2.89s/it]"
     ]
    },
    {
     "name": "stdout",
     "output_type": "stream",
     "text": [
      "https://reviews.webmd.com/drugs/drugreview-20548-mp-hydrocort-cream\n"
     ]
    },
    {
     "name": "stderr",
     "output_type": "stream",
     "text": [
      " 35%|███▌      | 158/450 [09:37<14:03,  2.89s/it]"
     ]
    },
    {
     "name": "stdout",
     "output_type": "stream",
     "text": [
      "https://reviews.webmd.com/drugs/drugreview-20729-albacort-cream\n"
     ]
    },
    {
     "name": "stderr",
     "output_type": "stream",
     "text": [
      " 35%|███▌      | 159/450 [09:40<13:24,  2.77s/it]"
     ]
    },
    {
     "name": "stdout",
     "output_type": "stream",
     "text": [
      "https://reviews.webmd.com/drugs/drugreview-21201-longs-hydrocortisone-cream\n"
     ]
    },
    {
     "name": "stderr",
     "output_type": "stream",
     "text": [
      " 36%|███▌      | 160/450 [09:42<12:54,  2.67s/it]"
     ]
    },
    {
     "name": "stdout",
     "output_type": "stream",
     "text": [
      "https://reviews.webmd.com/drugs/drugreview-21367-sb-hydrocortisone-cream\n"
     ]
    },
    {
     "name": "stderr",
     "output_type": "stream",
     "text": [
      " 36%|███▌      | 161/450 [09:46<14:49,  3.08s/it]"
     ]
    },
    {
     "name": "stdout",
     "output_type": "stream",
     "text": [
      "https://reviews.webmd.com/drugs/drugreview-21648-hca-hydrocortisone-ointment\n"
     ]
    },
    {
     "name": "stderr",
     "output_type": "stream",
     "text": [
      " 36%|███▌      | 162/450 [09:48<13:53,  2.89s/it]"
     ]
    },
    {
     "name": "stdout",
     "output_type": "stream",
     "text": [
      "https://reviews.webmd.com/drugs/drugreview-21879-ra-hydrocortisone-cream\n"
     ]
    },
    {
     "name": "stderr",
     "output_type": "stream",
     "text": [
      " 36%|███▌      | 163/450 [09:51<13:31,  2.83s/it]"
     ]
    },
    {
     "name": "stdout",
     "output_type": "stream",
     "text": [
      "https://reviews.webmd.com/drugs/drugreview-2245-cordran-lotion\n"
     ]
    },
    {
     "name": "stderr",
     "output_type": "stream",
     "text": [
      "100%|██████████| 1/1 [00:01<00:00,  1.61s/it]\n",
      " 36%|███▋      | 164/450 [09:55<15:36,  3.28s/it]"
     ]
    },
    {
     "name": "stdout",
     "output_type": "stream",
     "text": [
      "https://reviews.webmd.com/drugs/drugreview-2245-cordran-tape\n"
     ]
    },
    {
     "name": "stderr",
     "output_type": "stream",
     "text": [
      "100%|██████████| 1/1 [00:01<00:00,  1.65s/it]\n",
      " 37%|███▋      | 166/450 [10:02<15:10,  3.21s/it]"
     ]
    },
    {
     "name": "stdout",
     "output_type": "stream",
     "text": [
      "skipping https://reviews.webmd.com/drugs/drugreview-2246-cordran-patch-adhesive-patch-medicated: page not found\n"
     ]
    },
    {
     "name": "stderr",
     "output_type": "stream",
     "text": [
      " 37%|███▋      | 167/450 [10:04<12:55,  2.74s/it]"
     ]
    },
    {
     "name": "stdout",
     "output_type": "stream",
     "text": [
      "skipping https://reviews.webmd.com/drugs/drugreview-2251-cortaid-faststick-max-st-solution: page not found\n",
      "https://reviews.webmd.com/drugs/drugreview-22720-ra-hydrocortisone-plus-2-cream\n"
     ]
    },
    {
     "name": "stderr",
     "output_type": "stream",
     "text": [
      " 37%|███▋      | 168/450 [10:06<12:38,  2.69s/it]"
     ]
    },
    {
     "name": "stdout",
     "output_type": "stream",
     "text": [
      "https://reviews.webmd.com/drugs/drugreview-228-osco-hydorcortisone-cream\n"
     ]
    },
    {
     "name": "stderr",
     "output_type": "stream",
     "text": [
      " 38%|███▊      | 169/450 [10:09<12:42,  2.71s/it]"
     ]
    },
    {
     "name": "stdout",
     "output_type": "stream",
     "text": [
      "https://reviews.webmd.com/drugs/drugreview-2292-desowen-cream\n"
     ]
    },
    {
     "name": "stderr",
     "output_type": "stream",
     "text": [
      "100%|██████████| 1/1 [00:01<00:00,  1.62s/it]\n",
      " 38%|███▊      | 170/450 [10:14<15:57,  3.42s/it]"
     ]
    },
    {
     "name": "stdout",
     "output_type": "stream",
     "text": [
      "https://reviews.webmd.com/drugs/drugreview-2292-desowen-lotion\n"
     ]
    },
    {
     "name": "stderr",
     "output_type": "stream",
     "text": [
      "100%|██████████| 1/1 [00:01<00:00,  1.51s/it]\n",
      " 38%|███▊      | 171/450 [10:18<16:51,  3.63s/it]"
     ]
    },
    {
     "name": "stdout",
     "output_type": "stream",
     "text": [
      "https://reviews.webmd.com/drugs/drugreview-249-hydrocortisone-cream\n"
     ]
    },
    {
     "name": "stderr",
     "output_type": "stream",
     "text": [
      " 38%|███▊      | 172/450 [10:21<15:25,  3.33s/it]"
     ]
    },
    {
     "name": "stdout",
     "output_type": "stream",
     "text": [
      "https://reviews.webmd.com/drugs/drugreview-2525-hydrocortisone-aloe-cream\n"
     ]
    },
    {
     "name": "stderr",
     "output_type": "stream",
     "text": [
      " 38%|███▊      | 173/450 [10:23<14:11,  3.07s/it]"
     ]
    },
    {
     "name": "stdout",
     "output_type": "stream",
     "text": [
      "https://reviews.webmd.com/drugs/drugreview-3196-v-r-hydrocortisone-aloe-cream\n"
     ]
    },
    {
     "name": "stderr",
     "output_type": "stream",
     "text": [
      " 39%|███▊      | 174/450 [10:26<13:52,  3.02s/it]"
     ]
    },
    {
     "name": "stdout",
     "output_type": "stream",
     "text": [
      "https://reviews.webmd.com/drugs/drugreview-3342-westcort-ointment\n"
     ]
    },
    {
     "name": "stderr",
     "output_type": "stream",
     "text": [
      "100%|██████████| 1/1 [00:01<00:00,  1.63s/it]\n",
      " 39%|███▉      | 175/450 [10:31<16:06,  3.51s/it]"
     ]
    },
    {
     "name": "stdout",
     "output_type": "stream",
     "text": [
      "https://reviews.webmd.com/drugs/drugreview-3392-betamethasone-diprop-augmented-gel\n"
     ]
    },
    {
     "name": "stderr",
     "output_type": "stream",
     "text": [
      "100%|██████████| 1/1 [00:01<00:00,  1.46s/it]\n",
      " 39%|███▉      | 176/450 [10:35<17:03,  3.74s/it]"
     ]
    },
    {
     "name": "stdout",
     "output_type": "stream",
     "text": [
      "https://reviews.webmd.com/drugs/drugreview-3392-betamethasone-diprop-augmented-lotion\n"
     ]
    },
    {
     "name": "stderr",
     "output_type": "stream",
     "text": [
      "100%|██████████| 1/1 [00:01<00:00,  1.42s/it]\n",
      " 39%|███▉      | 177/450 [10:39<17:35,  3.87s/it]"
     ]
    },
    {
     "name": "stdout",
     "output_type": "stream",
     "text": [
      "https://reviews.webmd.com/drugs/drugreview-359-hydrocortisone-probutate-cream\n"
     ]
    },
    {
     "name": "stderr",
     "output_type": "stream",
     "text": [
      " 40%|███▉      | 178/450 [10:43<17:06,  3.78s/it]"
     ]
    },
    {
     "name": "stdout",
     "output_type": "stream",
     "text": [
      "https://reviews.webmd.com/drugs/drugreview-3714-cordran-sp-cream\n"
     ]
    },
    {
     "name": "stderr",
     "output_type": "stream",
     "text": [
      "100%|██████████| 1/1 [00:01<00:00,  1.46s/it]\n",
      " 40%|███▉      | 179/450 [10:47<17:54,  3.97s/it]"
     ]
    },
    {
     "name": "stdout",
     "output_type": "stream",
     "text": [
      "https://reviews.webmd.com/drugs/drugreview-3736-lidex-e-cream\n"
     ]
    },
    {
     "name": "stderr",
     "output_type": "stream",
     "text": [
      "100%|██████████| 1/1 [00:01<00:00,  1.70s/it]\n",
      " 40%|████      | 180/450 [10:53<19:50,  4.41s/it]"
     ]
    },
    {
     "name": "stdout",
     "output_type": "stream",
     "text": [
      "https://reviews.webmd.com/drugs/drugreview-3739-maxivate-cream\n"
     ]
    },
    {
     "name": "stderr",
     "output_type": "stream",
     "text": [
      " 40%|████      | 181/450 [10:55<17:12,  3.84s/it]"
     ]
    },
    {
     "name": "stdout",
     "output_type": "stream",
     "text": [
      "https://reviews.webmd.com/drugs/drugreview-375-cortaid-intensive-therapy-cream\n"
     ]
    },
    {
     "name": "stderr",
     "output_type": "stream",
     "text": [
      " 40%|████      | 182/450 [10:58<15:53,  3.56s/it]"
     ]
    },
    {
     "name": "stdout",
     "output_type": "stream",
     "text": [
      "https://reviews.webmd.com/drugs/drugreview-3751-flurandrenolide-cream\n"
     ]
    },
    {
     "name": "stderr",
     "output_type": "stream",
     "text": [
      "100%|██████████| 1/1 [00:01<00:00,  1.75s/it]\n",
      " 41%|████      | 183/450 [11:03<17:09,  3.86s/it]"
     ]
    },
    {
     "name": "stdout",
     "output_type": "stream",
     "text": [
      "https://reviews.webmd.com/drugs/drugreview-3751-flurandrenolide-tape\n"
     ]
    },
    {
     "name": "stderr",
     "output_type": "stream",
     "text": [
      "100%|██████████| 1/1 [00:01<00:00,  1.93s/it]\n",
      " 41%|████      | 184/450 [11:08<18:44,  4.23s/it]"
     ]
    },
    {
     "name": "stdout",
     "output_type": "stream",
     "text": [
      "https://reviews.webmd.com/drugs/drugreview-3765-nutracort-lotion\n"
     ]
    },
    {
     "name": "stderr",
     "output_type": "stream",
     "text": [
      " 41%|████      | 185/450 [11:11<16:59,  3.85s/it]"
     ]
    },
    {
     "name": "stdout",
     "output_type": "stream",
     "text": [
      "https://reviews.webmd.com/drugs/drugreview-3786-lidex-cream\n"
     ]
    },
    {
     "name": "stderr",
     "output_type": "stream",
     "text": [
      "100%|██████████| 1/1 [00:01<00:00,  1.80s/it]\n",
      " 41%|████▏     | 186/450 [11:16<18:23,  4.18s/it]"
     ]
    },
    {
     "name": "stdout",
     "output_type": "stream",
     "text": [
      "https://reviews.webmd.com/drugs/drugreview-3788-synalar-solution-non\n"
     ]
    },
    {
     "name": "stderr",
     "output_type": "stream",
     "text": [
      "100%|██████████| 1/1 [00:01<00:00,  1.71s/it]\n",
      " 42%|████▏     | 187/450 [11:21<19:16,  4.40s/it]"
     ]
    },
    {
     "name": "stdout",
     "output_type": "stream",
     "text": [
      "https://reviews.webmd.com/drugs/drugreview-383-pandel-cream\n"
     ]
    },
    {
     "name": "stderr",
     "output_type": "stream",
     "text": [
      "100%|██████████| 1/1 [00:01<00:00,  1.85s/it]\n",
      " 42%|████▏     | 188/450 [11:25<19:38,  4.50s/it]"
     ]
    },
    {
     "name": "stdout",
     "output_type": "stream",
     "text": [
      "https://reviews.webmd.com/drugs/drugreview-3916-triamcinolone-in-absorbase-ointment\n"
     ]
    },
    {
     "name": "stderr",
     "output_type": "stream",
     "text": [
      " 42%|████▏     | 189/450 [11:28<17:10,  3.95s/it]"
     ]
    },
    {
     "name": "stdout",
     "output_type": "stream",
     "text": [
      "https://reviews.webmd.com/drugs/drugreview-3993-aristocort-hp-cream\n"
     ]
    },
    {
     "name": "stderr",
     "output_type": "stream",
     "text": [
      " 42%|████▏     | 190/450 [11:31<15:37,  3.61s/it]"
     ]
    },
    {
     "name": "stdout",
     "output_type": "stream",
     "text": [
      "https://reviews.webmd.com/drugs/drugreview-3994-hycort-ointment\n"
     ]
    },
    {
     "name": "stderr",
     "output_type": "stream",
     "text": [
      " 42%|████▏     | 191/450 [11:34<14:32,  3.37s/it]"
     ]
    },
    {
     "name": "stdout",
     "output_type": "stream",
     "text": [
      "https://reviews.webmd.com/drugs/drugreview-4079-desonide-foam\n"
     ]
    },
    {
     "name": "stderr",
     "output_type": "stream",
     "text": [
      "100%|██████████| 4/4 [00:10<00:00,  2.53s/it]\n",
      " 43%|████▎     | 192/450 [11:47<27:35,  6.42s/it]"
     ]
    },
    {
     "name": "stdout",
     "output_type": "stream",
     "text": [
      "https://reviews.webmd.com/drugs/drugreview-4079-desonide-lotion\n"
     ]
    },
    {
     "name": "stderr",
     "output_type": "stream",
     "text": [
      "100%|██████████| 4/4 [00:07<00:00,  1.98s/it]\n",
      " 43%|████▎     | 193/450 [11:59<34:16,  8.00s/it]"
     ]
    },
    {
     "name": "stdout",
     "output_type": "stream",
     "text": [
      "https://reviews.webmd.com/drugs/drugreview-4079-desonide-ointment\n"
     ]
    },
    {
     "name": "stderr",
     "output_type": "stream",
     "text": [
      "100%|██████████| 4/4 [00:07<00:00,  1.96s/it]\n",
      " 43%|████▎     | 194/450 [12:10<38:19,  8.98s/it]"
     ]
    },
    {
     "name": "stdout",
     "output_type": "stream",
     "text": [
      "https://reviews.webmd.com/drugs/drugreview-4128-fluocinonide-e-cream\n"
     ]
    },
    {
     "name": "stderr",
     "output_type": "stream",
     "text": [
      "100%|██████████| 1/1 [00:02<00:00,  2.35s/it]\n",
      " 43%|████▎     | 195/450 [12:16<33:46,  7.95s/it]"
     ]
    },
    {
     "name": "stdout",
     "output_type": "stream",
     "text": [
      "https://reviews.webmd.com/drugs/drugreview-4272-desoximetasone-cream\n"
     ]
    },
    {
     "name": "stderr",
     "output_type": "stream",
     "text": [
      "100%|██████████| 2/2 [00:04<00:00,  2.15s/it]\n",
      " 44%|████▎     | 196/450 [12:24<34:33,  8.17s/it]"
     ]
    },
    {
     "name": "stdout",
     "output_type": "stream",
     "text": [
      "https://reviews.webmd.com/drugs/drugreview-4272-desoximetasone-spray-non-aerosol\n"
     ]
    },
    {
     "name": "stderr",
     "output_type": "stream",
     "text": [
      "100%|██████████| 2/2 [00:03<00:00,  1.99s/it]\n",
      " 44%|████▍     | 197/450 [12:32<33:33,  7.96s/it]"
     ]
    },
    {
     "name": "stdout",
     "output_type": "stream",
     "text": [
      "https://reviews.webmd.com/drugs/drugreview-4399-instacort-cream\n"
     ]
    },
    {
     "name": "stderr",
     "output_type": "stream",
     "text": [
      " 44%|████▍     | 198/450 [12:35<26:54,  6.41s/it]"
     ]
    },
    {
     "name": "stdout",
     "output_type": "stream",
     "text": [
      "https://reviews.webmd.com/drugs/drugreview-4565-procort-cream\n"
     ]
    },
    {
     "name": "stderr",
     "output_type": "stream",
     "text": [
      " 44%|████▍     | 199/450 [12:37<22:01,  5.27s/it]"
     ]
    },
    {
     "name": "stdout",
     "output_type": "stream",
     "text": [
      "https://reviews.webmd.com/drugs/drugreview-4706-nupercainal-hc-cream\n"
     ]
    },
    {
     "name": "stderr",
     "output_type": "stream",
     "text": [
      " 44%|████▍     | 200/450 [12:40<18:27,  4.43s/it]"
     ]
    },
    {
     "name": "stdout",
     "output_type": "stream",
     "text": [
      "https://reviews.webmd.com/drugs/drugreview-4735-delta-tritex-cream\n"
     ]
    },
    {
     "name": "stderr",
     "output_type": "stream",
     "text": [
      " 45%|████▍     | 201/450 [12:43<16:55,  4.08s/it]"
     ]
    },
    {
     "name": "stdout",
     "output_type": "stream",
     "text": [
      "https://reviews.webmd.com/drugs/drugreview-4736-dermol-hc-cream\n"
     ]
    },
    {
     "name": "stderr",
     "output_type": "stream",
     "text": [
      " 45%|████▍     | 202/450 [12:46<15:05,  3.65s/it]"
     ]
    },
    {
     "name": "stdout",
     "output_type": "stream",
     "text": [
      "https://reviews.webmd.com/drugs/drugreview-4740-teladar-cream\n"
     ]
    },
    {
     "name": "stderr",
     "output_type": "stream",
     "text": [
      " 45%|████▌     | 203/450 [12:48<13:45,  3.34s/it]"
     ]
    },
    {
     "name": "stdout",
     "output_type": "stream",
     "text": [
      "https://reviews.webmd.com/drugs/drugreview-4835-elocon-cream\n"
     ]
    },
    {
     "name": "stderr",
     "output_type": "stream",
     "text": [
      "100%|██████████| 2/2 [00:03<00:00,  1.95s/it]\n",
      " 45%|████▌     | 204/450 [12:56<18:58,  4.63s/it]"
     ]
    },
    {
     "name": "stdout",
     "output_type": "stream",
     "text": [
      "https://reviews.webmd.com/drugs/drugreview-4897-betamethasone-valerate-cream\n"
     ]
    },
    {
     "name": "stderr",
     "output_type": "stream",
     "text": [
      "100%|██████████| 2/2 [00:03<00:00,  1.87s/it]\n",
      " 46%|████▌     | 205/450 [13:03<22:25,  5.49s/it]"
     ]
    },
    {
     "name": "stdout",
     "output_type": "stream",
     "text": [
      "https://reviews.webmd.com/drugs/drugreview-4897-betamethasone-valerate-foam\n"
     ]
    },
    {
     "name": "stderr",
     "output_type": "stream",
     "text": [
      "100%|██████████| 2/2 [00:03<00:00,  1.91s/it]\n",
      " 46%|████▌     | 206/450 [13:11<24:22,  5.99s/it]"
     ]
    },
    {
     "name": "stdout",
     "output_type": "stream",
     "text": [
      "https://reviews.webmd.com/drugs/drugreview-4900-aristocort-a-cream\n"
     ]
    },
    {
     "name": "stderr",
     "output_type": "stream",
     "text": [
      "100%|██████████| 1/1 [00:01<00:00,  1.66s/it]\n",
      " 46%|████▌     | 207/450 [13:15<22:09,  5.47s/it]"
     ]
    },
    {
     "name": "stdout",
     "output_type": "stream",
     "text": [
      "https://reviews.webmd.com/drugs/drugreview-4917-synalar-hp-cream\n"
     ]
    },
    {
     "name": "stderr",
     "output_type": "stream",
     "text": [
      " 46%|████▌     | 208/450 [13:18<18:45,  4.65s/it]"
     ]
    },
    {
     "name": "stdout",
     "output_type": "stream",
     "text": [
      "https://reviews.webmd.com/drugs/drugreview-4940-ultravate-lotion\n"
     ]
    },
    {
     "name": "stderr",
     "output_type": "stream",
     "text": [
      "100%|██████████| 1/1 [00:01<00:00,  1.66s/it]\n",
      " 46%|████▋     | 209/450 [13:22<18:53,  4.70s/it]"
     ]
    },
    {
     "name": "stdout",
     "output_type": "stream",
     "text": [
      "https://reviews.webmd.com/drugs/drugreview-500-hydrocortisone-acetate-cream\n"
     ]
    },
    {
     "name": "stderr",
     "output_type": "stream",
     "text": [
      "100%|██████████| 1/1 [00:01<00:00,  1.39s/it]\n",
      " 47%|████▋     | 210/450 [13:26<17:57,  4.49s/it]"
     ]
    },
    {
     "name": "stdout",
     "output_type": "stream",
     "text": [
      "https://reviews.webmd.com/drugs/drugreview-500-hydrocortisone-acetate-cream-with-perineal-applicator\n"
     ]
    },
    {
     "name": "stderr",
     "output_type": "stream",
     "text": [
      "100%|██████████| 1/1 [00:03<00:00,  3.36s/it]\n",
      " 47%|████▋     | 211/450 [13:32<19:35,  4.92s/it]"
     ]
    },
    {
     "name": "stdout",
     "output_type": "stream",
     "text": [
      "https://reviews.webmd.com/drugs/drugreview-5087-sg-hydrocortisone-aloe-cream\n"
     ]
    },
    {
     "name": "stderr",
     "output_type": "stream",
     "text": [
      " 47%|████▋     | 212/450 [13:35<16:57,  4.27s/it]"
     ]
    },
    {
     "name": "stdout",
     "output_type": "stream",
     "text": [
      "https://reviews.webmd.com/drugs/drugreview-5088-sg-hydrocortisone-cream\n"
     ]
    },
    {
     "name": "stderr",
     "output_type": "stream",
     "text": [
      " 48%|████▊     | 214/450 [13:40<12:34,  3.20s/it]"
     ]
    },
    {
     "name": "stdout",
     "output_type": "stream",
     "text": [
      "skipping https://reviews.webmd.com/drugs/drugreview-5096-medipad-h-plus-pads-medicated: page not found\n",
      "https://reviews.webmd.com/drugs/drugreview-5097-medigel-h-plus-gel\n"
     ]
    },
    {
     "name": "stderr",
     "output_type": "stream",
     "text": [
      " 48%|████▊     | 215/450 [13:42<12:07,  3.10s/it]"
     ]
    },
    {
     "name": "stdout",
     "output_type": "stream",
     "text": [
      "https://reviews.webmd.com/drugs/drugreview-5212-aricin-cream\n"
     ]
    },
    {
     "name": "stderr",
     "output_type": "stream",
     "text": [
      " 48%|████▊     | 216/450 [13:45<11:24,  2.93s/it]"
     ]
    },
    {
     "name": "stdout",
     "output_type": "stream",
     "text": [
      "https://reviews.webmd.com/drugs/drugreview-5217-triamcinolone-acetonide-top-cream\n"
     ]
    },
    {
     "name": "stderr",
     "output_type": "stream",
     "text": [
      " 48%|████▊     | 217/450 [13:48<11:25,  2.94s/it]"
     ]
    },
    {
     "name": "stdout",
     "output_type": "stream",
     "text": [
      "https://reviews.webmd.com/drugs/drugreview-5220-kenalog-aerosol\n"
     ]
    },
    {
     "name": "stderr",
     "output_type": "stream",
     "text": [
      "100%|██████████| 1/1 [00:01<00:00,  1.45s/it]\n",
      " 48%|████▊     | 218/450 [13:52<13:07,  3.39s/it]"
     ]
    },
    {
     "name": "stdout",
     "output_type": "stream",
     "text": [
      "https://reviews.webmd.com/drugs/drugreview-5227-triacet-cream\n"
     ]
    },
    {
     "name": "stderr",
     "output_type": "stream",
     "text": [
      " 49%|████▊     | 219/450 [13:55<12:04,  3.14s/it]"
     ]
    },
    {
     "name": "stdout",
     "output_type": "stream",
     "text": [
      "https://reviews.webmd.com/drugs/drugreview-5228-triderm-cream\n"
     ]
    },
    {
     "name": "stderr",
     "output_type": "stream",
     "text": [
      "100%|██████████| 1/1 [00:01<00:00,  1.78s/it]\n",
      " 49%|████▉     | 220/450 [14:00<13:40,  3.57s/it]"
     ]
    },
    {
     "name": "stdout",
     "output_type": "stream",
     "text": [
      "https://reviews.webmd.com/drugs/drugreview-5256-locoid-lipocream-cream\n"
     ]
    },
    {
     "name": "stderr",
     "output_type": "stream",
     "text": [
      "100%|██████████| 2/2 [00:03<00:00,  1.88s/it]\n",
      " 49%|████▉     | 221/450 [14:07<18:37,  4.88s/it]"
     ]
    },
    {
     "name": "stdout",
     "output_type": "stream",
     "text": [
      "https://reviews.webmd.com/drugs/drugreview-5338-cortaid-cream\n"
     ]
    },
    {
     "name": "stderr",
     "output_type": "stream",
     "text": [
      "100%|██████████| 1/1 [00:01<00:00,  1.83s/it]\n",
      " 49%|████▉     | 222/450 [14:12<18:04,  4.76s/it]"
     ]
    },
    {
     "name": "stdout",
     "output_type": "stream",
     "text": [
      "https://reviews.webmd.com/drugs/drugreview-5511-atarax-tablet\n"
     ]
    },
    {
     "name": "stderr",
     "output_type": "stream",
     "text": [
      "100%|██████████| 11/11 [00:20<00:00,  1.85s/it]\n",
      " 50%|████▉     | 223/450 [14:35<39:07, 10.34s/it]"
     ]
    },
    {
     "name": "stdout",
     "output_type": "stream",
     "text": [
      "https://reviews.webmd.com/drugs/drugreview-5524-v-r-hydrocortisone-ointment\n"
     ]
    },
    {
     "name": "stderr",
     "output_type": "stream",
     "text": [
      " 50%|████▉     | 224/450 [14:40<32:17,  8.57s/it]"
     ]
    },
    {
     "name": "stdout",
     "output_type": "stream",
     "text": [
      "https://reviews.webmd.com/drugs/drugreview-57034-durrax-tablet\n"
     ]
    },
    {
     "name": "stderr",
     "output_type": "stream",
     "text": [
      " 50%|█████     | 225/450 [14:42<25:36,  6.83s/it]"
     ]
    },
    {
     "name": "stdout",
     "output_type": "stream",
     "text": [
      "https://reviews.webmd.com/drugs/drugreview-57035-traxin-tablet\n"
     ]
    },
    {
     "name": "stderr",
     "output_type": "stream",
     "text": [
      " 50%|█████     | 226/450 [14:46<21:40,  5.81s/it]"
     ]
    },
    {
     "name": "stdout",
     "output_type": "stream",
     "text": [
      "https://reviews.webmd.com/drugs/drugreview-57036-adroxazine-tablet\n"
     ]
    },
    {
     "name": "stderr",
     "output_type": "stream",
     "text": [
      " 50%|█████     | 227/450 [14:50<19:39,  5.29s/it]"
     ]
    },
    {
     "name": "stdout",
     "output_type": "stream",
     "text": [
      "https://reviews.webmd.com/drugs/drugreview-57037-spenrax-tablet\n"
     ]
    },
    {
     "name": "stderr",
     "output_type": "stream",
     "text": [
      " 51%|█████     | 228/450 [14:53<16:40,  4.51s/it]"
     ]
    },
    {
     "name": "stdout",
     "output_type": "stream",
     "text": [
      "https://reviews.webmd.com/drugs/drugreview-57038-atrazine-tablet\n"
     ]
    },
    {
     "name": "stderr",
     "output_type": "stream",
     "text": [
      "100%|██████████| 1/1 [00:01<00:00,  1.67s/it]\n",
      " 51%|█████     | 229/450 [14:57<16:39,  4.52s/it]"
     ]
    },
    {
     "name": "stdout",
     "output_type": "stream",
     "text": [
      "https://reviews.webmd.com/drugs/drugreview-57039-dermrax-tablet\n"
     ]
    },
    {
     "name": "stderr",
     "output_type": "stream",
     "text": [
      " 51%|█████     | 230/450 [15:00<15:05,  4.12s/it]"
     ]
    },
    {
     "name": "stdout",
     "output_type": "stream",
     "text": [
      "https://reviews.webmd.com/drugs/drugreview-57040-adroxyzine-solution\n"
     ]
    },
    {
     "name": "stderr",
     "output_type": "stream",
     "text": [
      " 51%|█████▏    | 231/450 [15:03<13:27,  3.69s/it]"
     ]
    },
    {
     "name": "stdout",
     "output_type": "stream",
     "text": [
      "https://reviews.webmd.com/drugs/drugreview-57041-atozine-solution\n"
     ]
    },
    {
     "name": "stderr",
     "output_type": "stream",
     "text": [
      " 52%|█████▏    | 232/450 [15:06<12:17,  3.38s/it]"
     ]
    },
    {
     "name": "stdout",
     "output_type": "stream",
     "text": [
      "https://reviews.webmd.com/drugs/drugreview-57061-vistapam-capsule\n"
     ]
    },
    {
     "name": "stderr",
     "output_type": "stream",
     "text": [
      " 52%|█████▏    | 233/450 [15:09<12:26,  3.44s/it]"
     ]
    },
    {
     "name": "stdout",
     "output_type": "stream",
     "text": [
      "https://reviews.webmd.com/drugs/drugreview-57062-vamate-capsule\n"
     ]
    },
    {
     "name": "stderr",
     "output_type": "stream",
     "text": [
      " 52%|█████▏    | 234/450 [15:12<11:51,  3.29s/it]"
     ]
    },
    {
     "name": "stdout",
     "output_type": "stream",
     "text": [
      "https://reviews.webmd.com/drugs/drugreview-5857-hydrocortisone-ace-aerosol\n"
     ]
    },
    {
     "name": "stderr",
     "output_type": "stream",
     "text": [
      " 52%|█████▏    | 235/450 [15:15<11:08,  3.11s/it]"
     ]
    },
    {
     "name": "stdout",
     "output_type": "stream",
     "text": [
      "https://reviews.webmd.com/drugs/drugreview-5857-hydrocortisone-ace-cream\n"
     ]
    },
    {
     "name": "stderr",
     "output_type": "stream",
     "text": [
      " 52%|█████▏    | 236/450 [15:18<10:28,  2.94s/it]"
     ]
    },
    {
     "name": "stdout",
     "output_type": "stream",
     "text": [
      "https://reviews.webmd.com/drugs/drugreview-5900-halobetasol-propionate-foam\n"
     ]
    },
    {
     "name": "stderr",
     "output_type": "stream",
     "text": [
      "100%|██████████| 2/2 [00:03<00:00,  1.80s/it]\n",
      " 53%|█████▎    | 237/450 [15:24<14:17,  4.03s/it]"
     ]
    },
    {
     "name": "stdout",
     "output_type": "stream",
     "text": [
      "https://reviews.webmd.com/drugs/drugreview-5900-halobetasol-propionate-ointment\n"
     ]
    },
    {
     "name": "stderr",
     "output_type": "stream",
     "text": [
      "100%|██████████| 2/2 [00:03<00:00,  1.61s/it]\n",
      " 53%|█████▎    | 238/450 [15:30<16:43,  4.73s/it]"
     ]
    },
    {
     "name": "stdout",
     "output_type": "stream",
     "text": [
      "https://reviews.webmd.com/drugs/drugreview-5901-hydrocortisone-valerate-cream\n"
     ]
    },
    {
     "name": "stderr",
     "output_type": "stream",
     "text": [
      "100%|██████████| 1/1 [00:01<00:00,  1.60s/it]\n",
      " 53%|█████▎    | 239/450 [15:36<17:18,  4.92s/it]"
     ]
    },
    {
     "name": "stdout",
     "output_type": "stream",
     "text": [
      "https://reviews.webmd.com/drugs/drugreview-5904-mometasone-furoate-ointment\n"
     ]
    },
    {
     "name": "stderr",
     "output_type": "stream",
     "text": [
      "100%|██████████| 3/3 [00:05<00:00,  1.84s/it]\n",
      " 53%|█████▎    | 240/450 [15:45<21:52,  6.25s/it]"
     ]
    },
    {
     "name": "stdout",
     "output_type": "stream",
     "text": [
      "https://reviews.webmd.com/drugs/drugreview-5949-topicort-ointment\n"
     ]
    },
    {
     "name": "stderr",
     "output_type": "stream",
     "text": [
      "100%|██████████| 1/1 [00:01<00:00,  1.58s/it]\n",
      " 54%|█████▎    | 241/450 [15:50<19:51,  5.70s/it]"
     ]
    },
    {
     "name": "stdout",
     "output_type": "stream",
     "text": [
      "https://reviews.webmd.com/drugs/drugreview-5949-topicort-spray-non-aerosol\n"
     ]
    },
    {
     "name": "stderr",
     "output_type": "stream",
     "text": [
      "100%|██████████| 1/1 [00:01<00:00,  1.80s/it]\n",
      " 54%|█████▍    | 242/450 [15:54<18:46,  5.42s/it]"
     ]
    },
    {
     "name": "stdout",
     "output_type": "stream",
     "text": [
      "https://reviews.webmd.com/drugs/drugreview-5985-prednicarbate-cream\n"
     ]
    },
    {
     "name": "stderr",
     "output_type": "stream",
     "text": [
      " 54%|█████▍    | 243/450 [15:57<15:41,  4.55s/it]"
     ]
    },
    {
     "name": "stdout",
     "output_type": "stream",
     "text": [
      "https://reviews.webmd.com/drugs/drugreview-5985-prednicarbate-ointment\n"
     ]
    },
    {
     "name": "stderr",
     "output_type": "stream",
     "text": [
      " 54%|█████▍    | 244/450 [15:59<13:35,  3.96s/it]"
     ]
    },
    {
     "name": "stdout",
     "output_type": "stream",
     "text": [
      "https://reviews.webmd.com/drugs/drugreview-5990-cortaid-maximum-strength-cream\n"
     ]
    },
    {
     "name": "stderr",
     "output_type": "stream",
     "text": [
      " 54%|█████▍    | 245/450 [16:02<12:15,  3.59s/it]"
     ]
    },
    {
     "name": "stdout",
     "output_type": "stream",
     "text": [
      "https://reviews.webmd.com/drugs/drugreview-5990-cortaid-maximum-strength-ointment\n"
     ]
    },
    {
     "name": "stderr",
     "output_type": "stream",
     "text": [
      " 55%|█████▍    | 246/450 [16:05<11:19,  3.33s/it]"
     ]
    },
    {
     "name": "stdout",
     "output_type": "stream",
     "text": [
      "https://reviews.webmd.com/drugs/drugreview-6126-del-beta-cream\n"
     ]
    },
    {
     "name": "stderr",
     "output_type": "stream",
     "text": [
      " 55%|█████▍    | 247/450 [16:09<11:38,  3.44s/it]"
     ]
    },
    {
     "name": "stdout",
     "output_type": "stream",
     "text": [
      "https://reviews.webmd.com/drugs/drugreview-6128-halcinonide-cream\n"
     ]
    },
    {
     "name": "stderr",
     "output_type": "stream",
     "text": [
      "100%|██████████| 1/1 [00:01<00:00,  1.56s/it]\n",
      " 55%|█████▌    | 248/450 [16:14<13:37,  4.05s/it]"
     ]
    },
    {
     "name": "stdout",
     "output_type": "stream",
     "text": [
      "https://reviews.webmd.com/drugs/drugreview-6129-halog-e-cream\n"
     ]
    },
    {
     "name": "stderr",
     "output_type": "stream",
     "text": [
      " 55%|█████▌    | 249/450 [16:17<12:01,  3.59s/it]"
     ]
    },
    {
     "name": "stdout",
     "output_type": "stream",
     "text": [
      "https://reviews.webmd.com/drugs/drugreview-61320-gmd-cream\n"
     ]
    },
    {
     "name": "stderr",
     "output_type": "stream",
     "text": [
      " 56%|█████▌    | 250/450 [16:20<11:49,  3.55s/it]"
     ]
    },
    {
     "name": "stdout",
     "output_type": "stream",
     "text": [
      "https://reviews.webmd.com/drugs/drugreview-61320-gmd-lotion\n"
     ]
    },
    {
     "name": "stderr",
     "output_type": "stream",
     "text": [
      " 56%|█████▌    | 251/450 [16:23<10:53,  3.29s/it]"
     ]
    },
    {
     "name": "stdout",
     "output_type": "stream",
     "text": [
      "https://reviews.webmd.com/drugs/drugreview-6144-vistaril\n"
     ]
    },
    {
     "name": "stderr",
     "output_type": "stream",
     "text": [
      "100%|██████████| 19/19 [00:36<00:00,  1.93s/it]\n",
      " 56%|█████▌    | 252/450 [17:03<47:29, 14.39s/it]"
     ]
    },
    {
     "name": "stdout",
     "output_type": "stream",
     "text": [
      "https://reviews.webmd.com/drugs/drugreview-61448-psorion-cream\n"
     ]
    },
    {
     "name": "stderr",
     "output_type": "stream",
     "text": [
      " 56%|█████▌    | 253/450 [17:06<35:36, 10.85s/it]"
     ]
    },
    {
     "name": "stdout",
     "output_type": "stream",
     "text": [
      "https://reviews.webmd.com/drugs/drugreview-61449-betanate-cream\n"
     ]
    },
    {
     "name": "stderr",
     "output_type": "stream",
     "text": [
      " 56%|█████▋    | 254/450 [17:08<27:36,  8.45s/it]"
     ]
    },
    {
     "name": "stdout",
     "output_type": "stream",
     "text": [
      "https://reviews.webmd.com/drugs/drugreview-61450-valisone-cream\n"
     ]
    },
    {
     "name": "stderr",
     "output_type": "stream",
     "text": [
      "100%|██████████| 1/1 [00:01<00:00,  1.55s/it]\n",
      " 57%|█████▋    | 255/450 [17:14<24:09,  7.43s/it]"
     ]
    },
    {
     "name": "stdout",
     "output_type": "stream",
     "text": [
      "https://reviews.webmd.com/drugs/drugreview-61451-beta-derm-cream\n"
     ]
    },
    {
     "name": "stderr",
     "output_type": "stream",
     "text": [
      " 57%|█████▋    | 256/450 [17:16<19:27,  6.02s/it]"
     ]
    },
    {
     "name": "stdout",
     "output_type": "stream",
     "text": [
      "https://reviews.webmd.com/drugs/drugreview-61452-betaderm-cream\n"
     ]
    },
    {
     "name": "stderr",
     "output_type": "stream",
     "text": [
      "100%|██████████| 1/1 [00:01<00:00,  1.60s/it]\n",
      " 57%|█████▋    | 257/450 [17:21<17:57,  5.58s/it]"
     ]
    },
    {
     "name": "stdout",
     "output_type": "stream",
     "text": [
      "https://reviews.webmd.com/drugs/drugreview-61453-betaval-cream\n"
     ]
    },
    {
     "name": "stderr",
     "output_type": "stream",
     "text": [
      " 57%|█████▋    | 258/450 [17:25<16:14,  5.08s/it]"
     ]
    },
    {
     "name": "stdout",
     "output_type": "stream",
     "text": [
      "https://reviews.webmd.com/drugs/drugreview-61454-d-r-betasone-cream\n"
     ]
    },
    {
     "name": "stderr",
     "output_type": "stream",
     "text": [
      " 58%|█████▊    | 259/450 [17:27<13:39,  4.29s/it]"
     ]
    },
    {
     "name": "stdout",
     "output_type": "stream",
     "text": [
      "https://reviews.webmd.com/drugs/drugreview-61456-ak-syn-solution\n"
     ]
    },
    {
     "name": "stderr",
     "output_type": "stream",
     "text": [
      " 58%|█████▊    | 260/450 [17:31<13:05,  4.14s/it]"
     ]
    },
    {
     "name": "stdout",
     "output_type": "stream",
     "text": [
      "https://reviews.webmd.com/drugs/drugreview-61457-bio-syn-cream\n"
     ]
    },
    {
     "name": "stderr",
     "output_type": "stream",
     "text": [
      " 58%|█████▊    | 261/450 [17:34<11:38,  3.70s/it]"
     ]
    },
    {
     "name": "stdout",
     "output_type": "stream",
     "text": [
      "https://reviews.webmd.com/drugs/drugreview-61458-psoranide-cream\n"
     ]
    },
    {
     "name": "stderr",
     "output_type": "stream",
     "text": [
      " 58%|█████▊    | 262/450 [17:37<11:18,  3.61s/it]"
     ]
    },
    {
     "name": "stdout",
     "output_type": "stream",
     "text": [
      "https://reviews.webmd.com/drugs/drugreview-61459-fluonex-cream\n"
     ]
    },
    {
     "name": "stderr",
     "output_type": "stream",
     "text": [
      " 58%|█████▊    | 263/450 [17:41<11:13,  3.60s/it]"
     ]
    },
    {
     "name": "stdout",
     "output_type": "stream",
     "text": [
      "https://reviews.webmd.com/drugs/drugreview-61460-vasoderm-cream\n"
     ]
    },
    {
     "name": "stderr",
     "output_type": "stream",
     "text": [
      " 59%|█████▊    | 264/450 [17:43<10:18,  3.33s/it]"
     ]
    },
    {
     "name": "stdout",
     "output_type": "stream",
     "text": [
      "https://reviews.webmd.com/drugs/drugreview-61461-topsyn-gel\n"
     ]
    },
    {
     "name": "stderr",
     "output_type": "stream",
     "text": [
      "100%|██████████| 1/1 [00:01<00:00,  1.59s/it]\n",
      " 59%|█████▉    | 265/450 [17:48<11:32,  3.74s/it]"
     ]
    },
    {
     "name": "stdout",
     "output_type": "stream",
     "text": [
      "https://reviews.webmd.com/drugs/drugreview-61462-cort-dome-cream\n"
     ]
    },
    {
     "name": "stderr",
     "output_type": "stream",
     "text": [
      " 59%|█████▉    | 266/450 [17:50<10:21,  3.38s/it]"
     ]
    },
    {
     "name": "stdout",
     "output_type": "stream",
     "text": [
      "https://reviews.webmd.com/drugs/drugreview-61463-q-u-cort-cream\n"
     ]
    },
    {
     "name": "stderr",
     "output_type": "stream",
     "text": [
      " 59%|█████▉    | 267/450 [17:53<09:43,  3.19s/it]"
     ]
    },
    {
     "name": "stdout",
     "output_type": "stream",
     "text": [
      "https://reviews.webmd.com/drugs/drugreview-61464-rhulicort-cream\n"
     ]
    },
    {
     "name": "stderr",
     "output_type": "stream",
     "text": [
      " 60%|█████▉    | 268/450 [17:56<09:21,  3.08s/it]"
     ]
    },
    {
     "name": "stdout",
     "output_type": "stream",
     "text": [
      "https://reviews.webmd.com/drugs/drugreview-61465-pro-cort-cream\n"
     ]
    },
    {
     "name": "stderr",
     "output_type": "stream",
     "text": [
      " 60%|█████▉    | 269/450 [17:59<08:52,  2.94s/it]"
     ]
    },
    {
     "name": "stdout",
     "output_type": "stream",
     "text": [
      "https://reviews.webmd.com/drugs/drugreview-61466-dermolate-anti-itch-cream\n"
     ]
    },
    {
     "name": "stderr",
     "output_type": "stream",
     "text": [
      " 60%|██████    | 270/450 [18:01<08:34,  2.86s/it]"
     ]
    },
    {
     "name": "stdout",
     "output_type": "stream",
     "text": [
      "https://reviews.webmd.com/drugs/drugreview-61467-racet-se-cream\n"
     ]
    },
    {
     "name": "stderr",
     "output_type": "stream",
     "text": [
      " 60%|██████    | 271/450 [18:04<08:08,  2.73s/it]"
     ]
    },
    {
     "name": "stdout",
     "output_type": "stream",
     "text": [
      "https://reviews.webmd.com/drugs/drugreview-61468-ulcort-cream\n"
     ]
    },
    {
     "name": "stderr",
     "output_type": "stream",
     "text": [
      " 60%|██████    | 272/450 [18:07<08:11,  2.76s/it]"
     ]
    },
    {
     "name": "stdout",
     "output_type": "stream",
     "text": [
      "https://reviews.webmd.com/drugs/drugreview-61469-allersone-cream\n"
     ]
    },
    {
     "name": "stderr",
     "output_type": "stream",
     "text": [
      "100%|██████████| 1/1 [00:01<00:00,  1.92s/it]\n",
      " 61%|██████    | 273/450 [18:11<09:38,  3.27s/it]"
     ]
    },
    {
     "name": "stdout",
     "output_type": "stream",
     "text": [
      "https://reviews.webmd.com/drugs/drugreview-61470-hydrososone-cream\n"
     ]
    },
    {
     "name": "stderr",
     "output_type": "stream",
     "text": [
      " 61%|██████    | 274/450 [18:14<08:57,  3.05s/it]"
     ]
    },
    {
     "name": "stdout",
     "output_type": "stream",
     "text": [
      "https://reviews.webmd.com/drugs/drugreview-61471-tri-cin-cream\n"
     ]
    },
    {
     "name": "stderr",
     "output_type": "stream",
     "text": [
      " 61%|██████    | 275/450 [18:17<09:35,  3.29s/it]"
     ]
    },
    {
     "name": "stdout",
     "output_type": "stream",
     "text": [
      "https://reviews.webmd.com/drugs/drugreview-61472-pharmacort-cream\n"
     ]
    },
    {
     "name": "stderr",
     "output_type": "stream",
     "text": [
      " 61%|██████▏   | 276/450 [18:20<08:52,  3.06s/it]"
     ]
    },
    {
     "name": "stdout",
     "output_type": "stream",
     "text": [
      "https://reviews.webmd.com/drugs/drugreview-61473-cremesone-cream\n"
     ]
    },
    {
     "name": "stderr",
     "output_type": "stream",
     "text": [
      " 62%|██████▏   | 277/450 [18:23<08:34,  2.97s/it]"
     ]
    },
    {
     "name": "stdout",
     "output_type": "stream",
     "text": [
      "https://reviews.webmd.com/drugs/drugreview-61474-a-cream\n"
     ]
    },
    {
     "name": "stderr",
     "output_type": "stream",
     "text": [
      "100%|██████████| 1/1 [00:01<00:00,  1.75s/it]\n",
      " 62%|██████▏   | 278/450 [18:28<10:32,  3.68s/it]"
     ]
    },
    {
     "name": "stdout",
     "output_type": "stream",
     "text": [
      "https://reviews.webmd.com/drugs/drugreview-61475-prepcort-cream\n"
     ]
    },
    {
     "name": "stderr",
     "output_type": "stream",
     "text": [
      " 62%|██████▏   | 279/450 [18:31<09:26,  3.31s/it]"
     ]
    },
    {
     "name": "stdout",
     "output_type": "stream",
     "text": [
      "https://reviews.webmd.com/drugs/drugreview-61476-hydrocort-cream\n"
     ]
    },
    {
     "name": "stderr",
     "output_type": "stream",
     "text": [
      " 62%|██████▏   | 280/450 [18:33<08:42,  3.07s/it]"
     ]
    },
    {
     "name": "stdout",
     "output_type": "stream",
     "text": [
      "https://reviews.webmd.com/drugs/drugreview-61477-apro-cort-cream\n"
     ]
    },
    {
     "name": "stderr",
     "output_type": "stream",
     "text": [
      " 62%|██████▏   | 281/450 [18:36<08:42,  3.09s/it]"
     ]
    },
    {
     "name": "stdout",
     "output_type": "stream",
     "text": [
      "https://reviews.webmd.com/drugs/drugreview-61478-h2-cort-cream\n"
     ]
    },
    {
     "name": "stderr",
     "output_type": "stream",
     "text": [
      " 63%|██████▎   | 282/450 [18:39<08:32,  3.05s/it]"
     ]
    },
    {
     "name": "stdout",
     "output_type": "stream",
     "text": [
      "https://reviews.webmd.com/drugs/drugreview-61478-h2-cort-lotion\n"
     ]
    },
    {
     "name": "stderr",
     "output_type": "stream",
     "text": [
      " 63%|██████▎   | 283/450 [18:42<08:03,  2.90s/it]"
     ]
    },
    {
     "name": "stdout",
     "output_type": "stream",
     "text": [
      "https://reviews.webmd.com/drugs/drugreview-61479-dofscort-cream\n"
     ]
    },
    {
     "name": "stderr",
     "output_type": "stream",
     "text": [
      " 63%|██████▎   | 284/450 [18:45<07:56,  2.87s/it]"
     ]
    },
    {
     "name": "stdout",
     "output_type": "stream",
     "text": [
      "https://reviews.webmd.com/drugs/drugreview-61480-recort-cream\n"
     ]
    },
    {
     "name": "stderr",
     "output_type": "stream",
     "text": [
      " 63%|██████▎   | 285/450 [18:47<07:35,  2.76s/it]"
     ]
    },
    {
     "name": "stdout",
     "output_type": "stream",
     "text": [
      "https://reviews.webmd.com/drugs/drugreview-61481-dermicort-cream\n"
     ]
    },
    {
     "name": "stderr",
     "output_type": "stream",
     "text": [
      " 64%|██████▎   | 286/450 [18:50<07:38,  2.80s/it]"
     ]
    },
    {
     "name": "stdout",
     "output_type": "stream",
     "text": [
      "https://reviews.webmd.com/drugs/drugreview-61482-cortizone-5-cream\n"
     ]
    },
    {
     "name": "stderr",
     "output_type": "stream",
     "text": [
      " 64%|██████▍   | 287/450 [18:53<08:10,  3.01s/it]"
     ]
    },
    {
     "name": "stdout",
     "output_type": "stream",
     "text": [
      "https://reviews.webmd.com/drugs/drugreview-61483-bactine-hydrocortisone-cream\n"
     ]
    },
    {
     "name": "stderr",
     "output_type": "stream",
     "text": [
      " 64%|██████▍   | 288/450 [18:56<07:48,  2.89s/it]"
     ]
    },
    {
     "name": "stdout",
     "output_type": "stream",
     "text": [
      "https://reviews.webmd.com/drugs/drugreview-61484-ak-cort-cream\n"
     ]
    },
    {
     "name": "stderr",
     "output_type": "stream",
     "text": [
      " 64%|██████▍   | 289/450 [19:00<08:32,  3.19s/it]"
     ]
    },
    {
     "name": "stdout",
     "output_type": "stream",
     "text": [
      "https://reviews.webmd.com/drugs/drugreview-61485-cortifair-cream\n"
     ]
    },
    {
     "name": "stderr",
     "output_type": "stream",
     "text": [
      " 64%|██████▍   | 290/450 [19:02<08:00,  3.00s/it]"
     ]
    },
    {
     "name": "stdout",
     "output_type": "stream",
     "text": [
      "https://reviews.webmd.com/drugs/drugreview-61486-pc-hc-cream\n"
     ]
    },
    {
     "name": "stderr",
     "output_type": "stream",
     "text": [
      " 65%|██████▍   | 291/450 [19:05<07:35,  2.87s/it]"
     ]
    },
    {
     "name": "stdout",
     "output_type": "stream",
     "text": [
      "https://reviews.webmd.com/drugs/drugreview-61487-lemoderm-cream\n"
     ]
    },
    {
     "name": "stderr",
     "output_type": "stream",
     "text": [
      " 65%|██████▍   | 292/450 [19:08<07:21,  2.79s/it]"
     ]
    },
    {
     "name": "stdout",
     "output_type": "stream",
     "text": [
      "https://reviews.webmd.com/drugs/drugreview-61488-hydro-tex-cream\n"
     ]
    },
    {
     "name": "stderr",
     "output_type": "stream",
     "text": [
      " 65%|██████▌   | 293/450 [19:10<07:10,  2.74s/it]"
     ]
    },
    {
     "name": "stdout",
     "output_type": "stream",
     "text": [
      "https://reviews.webmd.com/drugs/drugreview-61489-clocort-cream\n"
     ]
    },
    {
     "name": "stderr",
     "output_type": "stream",
     "text": [
      " 65%|██████▌   | 294/450 [19:13<07:07,  2.74s/it]"
     ]
    },
    {
     "name": "stdout",
     "output_type": "stream",
     "text": [
      "https://reviews.webmd.com/drugs/drugreview-61490-ridisone-cream\n"
     ]
    },
    {
     "name": "stderr",
     "output_type": "stream",
     "text": [
      " 66%|██████▌   | 295/450 [19:16<07:03,  2.73s/it]"
     ]
    },
    {
     "name": "stdout",
     "output_type": "stream",
     "text": [
      "https://reviews.webmd.com/drugs/drugreview-61491-cortizone-for-kids-cream\n"
     ]
    },
    {
     "name": "stderr",
     "output_type": "stream",
     "text": [
      " 66%|██████▌   | 296/450 [19:19<07:05,  2.76s/it]"
     ]
    },
    {
     "name": "stdout",
     "output_type": "stream",
     "text": [
      "https://reviews.webmd.com/drugs/drugreview-61492-synacort-cream\n"
     ]
    },
    {
     "name": "stderr",
     "output_type": "stream",
     "text": [
      " 66%|██████▌   | 297/450 [19:21<06:55,  2.71s/it]"
     ]
    },
    {
     "name": "stdout",
     "output_type": "stream",
     "text": [
      "https://reviews.webmd.com/drugs/drugreview-61493-yeast-x-cream\n"
     ]
    },
    {
     "name": "stderr",
     "output_type": "stream",
     "text": [
      " 66%|██████▌   | 298/450 [19:24<06:48,  2.69s/it]"
     ]
    },
    {
     "name": "stdout",
     "output_type": "stream",
     "text": [
      "https://reviews.webmd.com/drugs/drugreview-61494-eldecort-cream\n"
     ]
    },
    {
     "name": "stderr",
     "output_type": "stream",
     "text": [
      " 66%|██████▋   | 299/450 [19:27<07:13,  2.87s/it]"
     ]
    },
    {
     "name": "stdout",
     "output_type": "stream",
     "text": [
      "https://reviews.webmd.com/drugs/drugreview-61495-tega-cort-cream\n"
     ]
    },
    {
     "name": "stderr",
     "output_type": "stream",
     "text": [
      " 67%|██████▋   | 300/450 [19:30<07:07,  2.85s/it]"
     ]
    },
    {
     "name": "stdout",
     "output_type": "stream",
     "text": [
      "https://reviews.webmd.com/drugs/drugreview-61496-hi-cor-cream\n"
     ]
    },
    {
     "name": "stderr",
     "output_type": "stream",
     "text": [
      " 67%|██████▋   | 301/450 [19:33<06:56,  2.79s/it]"
     ]
    },
    {
     "name": "stdout",
     "output_type": "stream",
     "text": [
      "https://reviews.webmd.com/drugs/drugreview-61497-kort-cream\n"
     ]
    },
    {
     "name": "stderr",
     "output_type": "stream",
     "text": [
      " 67%|██████▋   | 302/450 [19:35<06:41,  2.71s/it]"
     ]
    },
    {
     "name": "stdout",
     "output_type": "stream",
     "text": [
      "https://reviews.webmd.com/drugs/drugreview-61498-episone-cream\n"
     ]
    },
    {
     "name": "stderr",
     "output_type": "stream",
     "text": [
      " 67%|██████▋   | 303/450 [19:38<07:04,  2.89s/it]"
     ]
    },
    {
     "name": "stdout",
     "output_type": "stream",
     "text": [
      "https://reviews.webmd.com/drugs/drugreview-61499-cortizone-10-ointment\n"
     ]
    },
    {
     "name": "stderr",
     "output_type": "stream",
     "text": [
      "100%|██████████| 1/1 [00:01<00:00,  1.56s/it]\n",
      " 68%|██████▊   | 304/450 [19:43<08:36,  3.54s/it]"
     ]
    },
    {
     "name": "stdout",
     "output_type": "stream",
     "text": [
      "https://reviews.webmd.com/drugs/drugreview-61500-hydrocortex-cream\n"
     ]
    },
    {
     "name": "stderr",
     "output_type": "stream",
     "text": [
      " 68%|██████▊   | 305/450 [19:46<08:08,  3.37s/it]"
     ]
    },
    {
     "name": "stdout",
     "output_type": "stream",
     "text": [
      "https://reviews.webmd.com/drugs/drugreview-61501-hydromar-cream\n"
     ]
    },
    {
     "name": "stderr",
     "output_type": "stream",
     "text": [
      " 68%|██████▊   | 306/450 [19:50<07:54,  3.30s/it]"
     ]
    },
    {
     "name": "stdout",
     "output_type": "stream",
     "text": [
      "https://reviews.webmd.com/drugs/drugreview-61502-dermasone-cream\n"
     ]
    },
    {
     "name": "stderr",
     "output_type": "stream",
     "text": [
      " 68%|██████▊   | 307/450 [19:52<07:13,  3.03s/it]"
     ]
    },
    {
     "name": "stdout",
     "output_type": "stream",
     "text": [
      "https://reviews.webmd.com/drugs/drugreview-61503-nogenic-hc-cream\n"
     ]
    },
    {
     "name": "stderr",
     "output_type": "stream",
     "text": [
      " 68%|██████▊   | 308/450 [19:55<07:06,  3.00s/it]"
     ]
    },
    {
     "name": "stdout",
     "output_type": "stream",
     "text": [
      "https://reviews.webmd.com/drugs/drugreview-61504-allercort-cream\n"
     ]
    },
    {
     "name": "stderr",
     "output_type": "stream",
     "text": [
      " 69%|██████▊   | 309/450 [19:58<07:19,  3.12s/it]"
     ]
    },
    {
     "name": "stdout",
     "output_type": "stream",
     "text": [
      "https://reviews.webmd.com/drugs/drugreview-61505-beta-cort-cream\n"
     ]
    },
    {
     "name": "stderr",
     "output_type": "stream",
     "text": [
      " 69%|██████▉   | 310/450 [20:01<07:05,  3.04s/it]"
     ]
    },
    {
     "name": "stdout",
     "output_type": "stream",
     "text": [
      "https://reviews.webmd.com/drugs/drugreview-61506-d-r-hydrocort-cream\n"
     ]
    },
    {
     "name": "stderr",
     "output_type": "stream",
     "text": [
      " 69%|██████▉   | 311/450 [20:04<06:42,  2.89s/it]"
     ]
    },
    {
     "name": "stdout",
     "output_type": "stream",
     "text": [
      "https://reviews.webmd.com/drugs/drugreview-61507-complex-a-cream\n"
     ]
    },
    {
     "name": "stderr",
     "output_type": "stream",
     "text": [
      " 69%|██████▉   | 312/450 [20:07<06:55,  3.01s/it]"
     ]
    },
    {
     "name": "stdout",
     "output_type": "stream",
     "text": [
      "https://reviews.webmd.com/drugs/drugreview-61509-hc-jel-gel\n"
     ]
    },
    {
     "name": "stderr",
     "output_type": "stream",
     "text": [
      " 70%|██████▉   | 313/450 [20:10<06:34,  2.88s/it]"
     ]
    },
    {
     "name": "stdout",
     "output_type": "stream",
     "text": [
      "https://reviews.webmd.com/drugs/drugreview-61510-medigel-h-gel\n"
     ]
    },
    {
     "name": "stderr",
     "output_type": "stream",
     "text": [
      " 70%|██████▉   | 314/450 [20:12<06:18,  2.78s/it]"
     ]
    },
    {
     "name": "stdout",
     "output_type": "stream",
     "text": [
      "https://reviews.webmd.com/drugs/drugreview-61511-clearaid-cream\n"
     ]
    },
    {
     "name": "stderr",
     "output_type": "stream",
     "text": [
      " 70%|███████   | 315/450 [20:15<06:19,  2.81s/it]"
     ]
    },
    {
     "name": "stdout",
     "output_type": "stream",
     "text": [
      "https://reviews.webmd.com/drugs/drugreview-61511-clearaid-lotion\n"
     ]
    },
    {
     "name": "stderr",
     "output_type": "stream",
     "text": [
      " 70%|███████   | 316/450 [20:19<06:54,  3.10s/it]"
     ]
    },
    {
     "name": "stdout",
     "output_type": "stream",
     "text": [
      "https://reviews.webmd.com/drugs/drugreview-61512-dermolate-scalp-itch-lotion\n"
     ]
    },
    {
     "name": "stderr",
     "output_type": "stream",
     "text": [
      " 70%|███████   | 317/450 [20:22<06:46,  3.06s/it]"
     ]
    },
    {
     "name": "stdout",
     "output_type": "stream",
     "text": [
      "https://reviews.webmd.com/drugs/drugreview-61513-tega-cort-lotion\n"
     ]
    },
    {
     "name": "stderr",
     "output_type": "stream",
     "text": [
      " 71%|███████   | 318/450 [20:25<06:38,  3.02s/it]"
     ]
    },
    {
     "name": "stdout",
     "output_type": "stream",
     "text": [
      "https://reviews.webmd.com/drugs/drugreview-61514-solar-cort-lotion\n"
     ]
    },
    {
     "name": "stderr",
     "output_type": "stream",
     "text": [
      " 71%|███████   | 319/450 [20:27<06:23,  2.93s/it]"
     ]
    },
    {
     "name": "stdout",
     "output_type": "stream",
     "text": [
      "https://reviews.webmd.com/drugs/drugreview-61515-lexocort-lotion\n"
     ]
    },
    {
     "name": "stderr",
     "output_type": "stream",
     "text": [
      " 71%|███████   | 320/450 [20:30<06:11,  2.86s/it]"
     ]
    },
    {
     "name": "stdout",
     "output_type": "stream",
     "text": [
      "https://reviews.webmd.com/drugs/drugreview-61516-s-t-cort-lotion\n"
     ]
    },
    {
     "name": "stderr",
     "output_type": "stream",
     "text": [
      " 71%|███████▏  | 321/450 [20:33<06:04,  2.83s/it]"
     ]
    },
    {
     "name": "stdout",
     "output_type": "stream",
     "text": [
      "https://reviews.webmd.com/drugs/drugreview-61517-delacort-lotion\n"
     ]
    },
    {
     "name": "stderr",
     "output_type": "stream",
     "text": [
      " 72%|███████▏  | 322/450 [20:35<05:55,  2.78s/it]"
     ]
    },
    {
     "name": "stdout",
     "output_type": "stream",
     "text": [
      "https://reviews.webmd.com/drugs/drugreview-61518-ivocort-lotion\n"
     ]
    },
    {
     "name": "stderr",
     "output_type": "stream",
     "text": [
      " 72%|███████▏  | 323/450 [20:39<06:16,  2.96s/it]"
     ]
    },
    {
     "name": "stdout",
     "output_type": "stream",
     "text": [
      "https://reviews.webmd.com/drugs/drugreview-61519-my-cort-lotion\n"
     ]
    },
    {
     "name": "stderr",
     "output_type": "stream",
     "text": [
      " 72%|███████▏  | 324/450 [20:41<05:53,  2.81s/it]"
     ]
    },
    {
     "name": "stdout",
     "output_type": "stream",
     "text": [
      "https://reviews.webmd.com/drugs/drugreview-61520-ferncort-lotion\n"
     ]
    },
    {
     "name": "stderr",
     "output_type": "stream",
     "text": [
      " 72%|███████▏  | 325/450 [20:45<06:08,  2.95s/it]"
     ]
    },
    {
     "name": "stdout",
     "output_type": "stream",
     "text": [
      "https://reviews.webmd.com/drugs/drugreview-61521-epicort-lotion\n"
     ]
    },
    {
     "name": "stderr",
     "output_type": "stream",
     "text": [
      " 72%|███████▏  | 326/450 [20:47<05:52,  2.84s/it]"
     ]
    },
    {
     "name": "stdout",
     "output_type": "stream",
     "text": [
      "https://reviews.webmd.com/drugs/drugreview-61522-hydrocortisol-lotion\n"
     ]
    },
    {
     "name": "stderr",
     "output_type": "stream",
     "text": [
      " 73%|███████▎  | 327/450 [20:50<05:40,  2.77s/it]"
     ]
    },
    {
     "name": "stdout",
     "output_type": "stream",
     "text": [
      "https://reviews.webmd.com/drugs/drugreview-61523-cortinal-lotion\n"
     ]
    },
    {
     "name": "stderr",
     "output_type": "stream",
     "text": [
      " 73%|███████▎  | 328/450 [20:53<05:41,  2.80s/it]"
     ]
    },
    {
     "name": "stdout",
     "output_type": "stream",
     "text": [
      "https://reviews.webmd.com/drugs/drugreview-61524-caladryl-hydrocortisone-lotion\n"
     ]
    },
    {
     "name": "stderr",
     "output_type": "stream",
     "text": [
      " 73%|███████▎  | 329/450 [20:55<05:33,  2.76s/it]"
     ]
    },
    {
     "name": "stdout",
     "output_type": "stream",
     "text": [
      "https://reviews.webmd.com/drugs/drugreview-61525-texacort-scalp-lotion\n"
     ]
    },
    {
     "name": "stderr",
     "output_type": "stream",
     "text": [
      " 73%|███████▎  | 330/450 [20:58<05:33,  2.78s/it]"
     ]
    },
    {
     "name": "stdout",
     "output_type": "stream",
     "text": [
      "https://reviews.webmd.com/drugs/drugreview-61526-acticort-lotion\n"
     ]
    },
    {
     "name": "stderr",
     "output_type": "stream",
     "text": [
      " 74%|███████▎  | 331/450 [21:01<05:39,  2.85s/it]"
     ]
    },
    {
     "name": "stdout",
     "output_type": "stream",
     "text": [
      "https://reviews.webmd.com/drugs/drugreview-61527-anti-itch-scalp-relief-lotion\n"
     ]
    },
    {
     "name": "stderr",
     "output_type": "stream",
     "text": [
      " 74%|███████▍  | 332/450 [21:04<05:33,  2.83s/it]"
     ]
    },
    {
     "name": "stdout",
     "output_type": "stream",
     "text": [
      "https://reviews.webmd.com/drugs/drugreview-61528-tega-cort-forte-lotion\n"
     ]
    },
    {
     "name": "stderr",
     "output_type": "stream",
     "text": [
      " 74%|███████▍  | 333/450 [21:07<05:27,  2.80s/it]"
     ]
    },
    {
     "name": "stdout",
     "output_type": "stream",
     "text": [
      "https://reviews.webmd.com/drugs/drugreview-61529-lexocort-forte-lotion\n"
     ]
    },
    {
     "name": "stderr",
     "output_type": "stream",
     "text": [
      " 74%|███████▍  | 334/450 [21:10<05:34,  2.88s/it]"
     ]
    },
    {
     "name": "stdout",
     "output_type": "stream",
     "text": [
      "https://reviews.webmd.com/drugs/drugreview-61530-scalp-aid-lotion\n"
     ]
    },
    {
     "name": "stderr",
     "output_type": "stream",
     "text": [
      " 74%|███████▍  | 335/450 [21:12<05:19,  2.78s/it]"
     ]
    },
    {
     "name": "stdout",
     "output_type": "stream",
     "text": [
      "https://reviews.webmd.com/drugs/drugreview-61531-p-p-c-lotion\n"
     ]
    },
    {
     "name": "stderr",
     "output_type": "stream",
     "text": [
      " 75%|███████▍  | 336/450 [21:15<05:25,  2.85s/it]"
     ]
    },
    {
     "name": "stdout",
     "output_type": "stream",
     "text": [
      "https://reviews.webmd.com/drugs/drugreview-61532-scalp-cort-lotion\n"
     ]
    },
    {
     "name": "stderr",
     "output_type": "stream",
     "text": [
      " 75%|███████▍  | 337/450 [21:18<05:16,  2.80s/it]"
     ]
    },
    {
     "name": "stdout",
     "output_type": "stream",
     "text": [
      "https://reviews.webmd.com/drugs/drugreview-61533-cortizone-0-scalp-itch-relief-lotion\n"
     ]
    },
    {
     "name": "stderr",
     "output_type": "stream",
     "text": [
      " 75%|███████▌  | 338/450 [21:20<05:01,  2.69s/it]"
     ]
    },
    {
     "name": "stdout",
     "output_type": "stream",
     "text": [
      "https://reviews.webmd.com/drugs/drugreview-61534-ivocort-dp-lotion\n"
     ]
    },
    {
     "name": "stderr",
     "output_type": "stream",
     "text": [
      " 75%|███████▌  | 339/450 [21:23<05:01,  2.72s/it]"
     ]
    },
    {
     "name": "stdout",
     "output_type": "stream",
     "text": [
      "https://reviews.webmd.com/drugs/drugreview-61535-scalp-cort-lotion\n"
     ]
    },
    {
     "name": "stderr",
     "output_type": "stream",
     "text": [
      " 76%|███████▌  | 340/450 [21:26<04:54,  2.68s/it]"
     ]
    },
    {
     "name": "stdout",
     "output_type": "stream",
     "text": [
      "https://reviews.webmd.com/drugs/drugreview-61536-beta-hc-lotion\n"
     ]
    },
    {
     "name": "stderr",
     "output_type": "stream",
     "text": [
      " 76%|███████▌  | 341/450 [21:28<04:50,  2.66s/it]"
     ]
    },
    {
     "name": "stdout",
     "output_type": "stream",
     "text": [
      "https://reviews.webmd.com/drugs/drugreview-61537-dermolate-anal-itch-ointment\n"
     ]
    },
    {
     "name": "stderr",
     "output_type": "stream",
     "text": [
      " 76%|███████▌  | 342/450 [21:31<04:56,  2.74s/it]"
     ]
    },
    {
     "name": "stdout",
     "output_type": "stream",
     "text": [
      "https://reviews.webmd.com/drugs/drugreview-61538-cortril-ointment\n"
     ]
    },
    {
     "name": "stderr",
     "output_type": "stream",
     "text": [
      " 76%|███████▌  | 343/450 [21:34<04:50,  2.72s/it]"
     ]
    },
    {
     "name": "stdout",
     "output_type": "stream",
     "text": [
      "https://reviews.webmd.com/drugs/drugreview-61539-tegrin-hc-psoriasis-ointment\n"
     ]
    },
    {
     "name": "stderr",
     "output_type": "stream",
     "text": [
      " 77%|███████▋  | 345/450 [21:38<04:11,  2.40s/it]"
     ]
    },
    {
     "name": "stdout",
     "output_type": "stream",
     "text": [
      "skipping https://reviews.webmd.com/drugs/drugreview-61540-medipads-h-pads-medicated: page not found\n",
      "https://reviews.webmd.com/drugs/drugreview-61542-foillecort-hc-aerosol-spray\n"
     ]
    },
    {
     "name": "stderr",
     "output_type": "stream",
     "text": [
      " 77%|███████▋  | 346/450 [21:42<04:37,  2.67s/it]"
     ]
    },
    {
     "name": "stdout",
     "output_type": "stream",
     "text": [
      "https://reviews.webmd.com/drugs/drugreview-61543-cortef-feminine-itch-cream\n"
     ]
    },
    {
     "name": "stderr",
     "output_type": "stream",
     "text": [
      " 77%|███████▋  | 347/450 [21:44<04:29,  2.62s/it]"
     ]
    },
    {
     "name": "stdout",
     "output_type": "stream",
     "text": [
      "https://reviews.webmd.com/drugs/drugreview-61544-genasone-cream\n"
     ]
    },
    {
     "name": "stderr",
     "output_type": "stream",
     "text": [
      " 77%|███████▋  | 348/450 [21:47<04:20,  2.55s/it]"
     ]
    },
    {
     "name": "stdout",
     "output_type": "stream",
     "text": [
      "https://reviews.webmd.com/drugs/drugreview-61545-gynecort-cream\n"
     ]
    },
    {
     "name": "stderr",
     "output_type": "stream",
     "text": [
      "100%|██████████| 1/1 [00:01<00:00,  1.65s/it]\n",
      " 78%|███████▊  | 349/450 [21:51<05:18,  3.16s/it]"
     ]
    },
    {
     "name": "stdout",
     "output_type": "stream",
     "text": [
      "https://reviews.webmd.com/drugs/drugreview-61546-hydrocortisone-antipruritic-cream\n"
     ]
    },
    {
     "name": "stderr",
     "output_type": "stream",
     "text": [
      "100%|██████████| 1/1 [00:01<00:00,  1.38s/it]\n",
      " 78%|███████▊  | 350/450 [21:56<06:08,  3.69s/it]"
     ]
    },
    {
     "name": "stdout",
     "output_type": "stream",
     "text": [
      "https://reviews.webmd.com/drugs/drugreview-61547-cortef-rectal-itch-ointment\n"
     ]
    },
    {
     "name": "stderr",
     "output_type": "stream",
     "text": [
      " 78%|███████▊  | 351/450 [21:59<05:29,  3.33s/it]"
     ]
    },
    {
     "name": "stdout",
     "output_type": "stream",
     "text": [
      "https://reviews.webmd.com/drugs/drugreview-61549-hydrocortone-acetate-ointment\n"
     ]
    },
    {
     "name": "stderr",
     "output_type": "stream",
     "text": [
      " 78%|███████▊  | 352/450 [22:01<05:03,  3.09s/it]"
     ]
    },
    {
     "name": "stdout",
     "output_type": "stream",
     "text": [
      "https://reviews.webmd.com/drugs/drugreview-61550-cortef-acetate-ointment\n"
     ]
    },
    {
     "name": "stderr",
     "output_type": "stream",
     "text": [
      " 78%|███████▊  | 353/450 [22:05<05:21,  3.31s/it]"
     ]
    },
    {
     "name": "stdout",
     "output_type": "stream",
     "text": [
      "https://reviews.webmd.com/drugs/drugreview-61553-aristocort-cream\n"
     ]
    },
    {
     "name": "stderr",
     "output_type": "stream",
     "text": [
      " 79%|███████▊  | 354/450 [22:08<05:19,  3.32s/it]"
     ]
    },
    {
     "name": "stdout",
     "output_type": "stream",
     "text": [
      "https://reviews.webmd.com/drugs/drugreview-61554-trymex-cream\n"
     ]
    },
    {
     "name": "stderr",
     "output_type": "stream",
     "text": [
      " 79%|███████▉  | 355/450 [22:11<04:52,  3.08s/it]"
     ]
    },
    {
     "name": "stdout",
     "output_type": "stream",
     "text": [
      "https://reviews.webmd.com/drugs/drugreview-61555-ta-cream\n"
     ]
    },
    {
     "name": "stderr",
     "output_type": "stream",
     "text": [
      " 79%|███████▉  | 356/450 [22:13<04:32,  2.90s/it]"
     ]
    },
    {
     "name": "stdout",
     "output_type": "stream",
     "text": [
      "https://reviews.webmd.com/drugs/drugreview-61556-trilone-cream\n"
     ]
    },
    {
     "name": "stderr",
     "output_type": "stream",
     "text": [
      " 79%|███████▉  | 357/450 [22:16<04:29,  2.90s/it]"
     ]
    },
    {
     "name": "stdout",
     "output_type": "stream",
     "text": [
      "https://reviews.webmd.com/drugs/drugreview-61557-spencort-cream\n"
     ]
    },
    {
     "name": "stderr",
     "output_type": "stream",
     "text": [
      " 80%|███████▉  | 358/450 [22:19<04:19,  2.83s/it]"
     ]
    },
    {
     "name": "stdout",
     "output_type": "stream",
     "text": [
      "https://reviews.webmd.com/drugs/drugreview-61558-aristalog-cream\n"
     ]
    },
    {
     "name": "stderr",
     "output_type": "stream",
     "text": [
      " 80%|███████▉  | 359/450 [22:21<04:10,  2.75s/it]"
     ]
    },
    {
     "name": "stdout",
     "output_type": "stream",
     "text": [
      "https://reviews.webmd.com/drugs/drugreview-61559-triamcinair-cream\n"
     ]
    },
    {
     "name": "stderr",
     "output_type": "stream",
     "text": [
      "100%|██████████| 1/1 [00:01<00:00,  1.40s/it]\n",
      " 80%|████████  | 360/450 [22:26<04:51,  3.24s/it]"
     ]
    },
    {
     "name": "stdout",
     "output_type": "stream",
     "text": [
      "https://reviews.webmd.com/drugs/drugreview-61560-flutex-cream\n"
     ]
    },
    {
     "name": "stderr",
     "output_type": "stream",
     "text": [
      " 80%|████████  | 361/450 [22:28<04:33,  3.07s/it]"
     ]
    },
    {
     "name": "stdout",
     "output_type": "stream",
     "text": [
      "https://reviews.webmd.com/drugs/drugreview-61561-kenac-cream\n"
     ]
    },
    {
     "name": "stderr",
     "output_type": "stream",
     "text": [
      " 80%|████████  | 362/450 [22:31<04:17,  2.92s/it]"
     ]
    },
    {
     "name": "stdout",
     "output_type": "stream",
     "text": [
      "https://reviews.webmd.com/drugs/drugreview-61562-kenonel-cream\n"
     ]
    },
    {
     "name": "stderr",
     "output_type": "stream",
     "text": [
      " 81%|████████  | 363/450 [22:34<04:22,  3.01s/it]"
     ]
    },
    {
     "name": "stdout",
     "output_type": "stream",
     "text": [
      "https://reviews.webmd.com/drugs/drugreview-61563-aristolog-cream\n"
     ]
    },
    {
     "name": "stderr",
     "output_type": "stream",
     "text": [
      " 81%|████████  | 364/450 [22:37<04:15,  2.97s/it]"
     ]
    },
    {
     "name": "stdout",
     "output_type": "stream",
     "text": [
      "https://reviews.webmd.com/drugs/drugreview-61564-ak-cinolone-cream\n"
     ]
    },
    {
     "name": "stderr",
     "output_type": "stream",
     "text": [
      "100%|██████████| 1/1 [00:01<00:00,  1.45s/it]\n",
      " 81%|████████  | 365/450 [22:41<04:36,  3.25s/it]"
     ]
    },
    {
     "name": "stdout",
     "output_type": "stream",
     "text": [
      "https://reviews.webmd.com/drugs/drugreview-61565-kenalog-h-cream\n"
     ]
    },
    {
     "name": "stderr",
     "output_type": "stream",
     "text": [
      "100%|██████████| 1/1 [00:01<00:00,  1.47s/it]\n",
      " 81%|████████▏ | 366/450 [22:45<04:52,  3.49s/it]"
     ]
    },
    {
     "name": "stdout",
     "output_type": "stream",
     "text": [
      "https://reviews.webmd.com/drugs/drugreview-61566-spencort-hp-cream\n"
     ]
    },
    {
     "name": "stderr",
     "output_type": "stream",
     "text": [
      " 82%|████████▏ | 367/450 [22:48<04:24,  3.19s/it]"
     ]
    },
    {
     "name": "stdout",
     "output_type": "stream",
     "text": [
      "https://reviews.webmd.com/drugs/drugreview-61567-cinalog-cream\n"
     ]
    },
    {
     "name": "stderr",
     "output_type": "stream",
     "text": [
      " 82%|████████▏ | 368/450 [22:50<04:09,  3.04s/it]"
     ]
    },
    {
     "name": "stdout",
     "output_type": "stream",
     "text": [
      "https://reviews.webmd.com/drugs/drugreview-61570-hydrocortisone-w-aloe-cream\n"
     ]
    },
    {
     "name": "stderr",
     "output_type": "stream",
     "text": [
      " 82%|████████▏ | 369/450 [22:53<04:03,  3.01s/it]"
     ]
    },
    {
     "name": "stdout",
     "output_type": "stream",
     "text": [
      "https://reviews.webmd.com/drugs/drugreview-61571-dermtex-hc-cream\n"
     ]
    },
    {
     "name": "stderr",
     "output_type": "stream",
     "text": [
      " 82%|████████▏ | 370/450 [22:56<03:46,  2.84s/it]"
     ]
    },
    {
     "name": "stdout",
     "output_type": "stream",
     "text": [
      "https://reviews.webmd.com/drugs/drugreview-61572-aloe-cort-cream\n"
     ]
    },
    {
     "name": "stderr",
     "output_type": "stream",
     "text": [
      " 83%|████████▎ | 372/450 [23:00<03:11,  2.45s/it]"
     ]
    },
    {
     "name": "stdout",
     "output_type": "stream",
     "text": [
      "skipping https://reviews.webmd.com/drugs/drugreview-61577-carmol-hc-cream: page not found\n"
     ]
    },
    {
     "name": "stderr",
     "output_type": "stream",
     "text": [
      " 83%|████████▎ | 373/450 [23:01<02:47,  2.17s/it]"
     ]
    },
    {
     "name": "stdout",
     "output_type": "stream",
     "text": [
      "skipping https://reviews.webmd.com/drugs/drugreview-61578-u-cort-cream: page not found\n"
     ]
    },
    {
     "name": "stderr",
     "output_type": "stream",
     "text": [
      " 83%|████████▎ | 374/450 [23:03<02:36,  2.06s/it]"
     ]
    },
    {
     "name": "stdout",
     "output_type": "stream",
     "text": [
      "skipping https://reviews.webmd.com/drugs/drugreview-61579-hydrocortisone-acetate-w-urea-cream: page not found\n"
     ]
    },
    {
     "name": "stderr",
     "output_type": "stream",
     "text": [
      " 83%|████████▎ | 375/450 [23:05<02:25,  1.94s/it]"
     ]
    },
    {
     "name": "stdout",
     "output_type": "stream",
     "text": [
      "skipping https://reviews.webmd.com/drugs/drugreview-63394-triamcinolone-urea-hydrophilic-ointment: page not found\n",
      "https://reviews.webmd.com/drugs/drugreview-64303-hydrocortisone-plus-cream\n"
     ]
    },
    {
     "name": "stderr",
     "output_type": "stream",
     "text": [
      " 84%|████████▎ | 376/450 [23:09<03:13,  2.61s/it]"
     ]
    },
    {
     "name": "stdout",
     "output_type": "stream",
     "text": [
      "https://reviews.webmd.com/drugs/drugreview-64317-fp-hydrocortisone-cream\n"
     ]
    },
    {
     "name": "stderr",
     "output_type": "stream",
     "text": [
      " 84%|████████▍ | 377/450 [23:12<03:14,  2.67s/it]"
     ]
    },
    {
     "name": "stdout",
     "output_type": "stream",
     "text": [
      "https://reviews.webmd.com/drugs/drugreview-6463-anx-tablet\n"
     ]
    },
    {
     "name": "stderr",
     "output_type": "stream",
     "text": [
      " 84%|████████▍ | 378/450 [23:15<03:22,  2.82s/it]"
     ]
    },
    {
     "name": "stdout",
     "output_type": "stream",
     "text": [
      "https://reviews.webmd.com/drugs/drugreview-6474-dermatop-e-cream\n"
     ]
    },
    {
     "name": "stderr",
     "output_type": "stream",
     "text": [
      " 84%|████████▍ | 379/450 [23:18<03:29,  2.94s/it]"
     ]
    },
    {
     "name": "stdout",
     "output_type": "stream",
     "text": [
      "https://reviews.webmd.com/drugs/drugreview-6474-dermatop-e-ointment\n"
     ]
    },
    {
     "name": "stderr",
     "output_type": "stream",
     "text": [
      " 84%|████████▍ | 380/450 [23:22<03:39,  3.14s/it]"
     ]
    },
    {
     "name": "stdout",
     "output_type": "stream",
     "text": [
      "https://reviews.webmd.com/drugs/drugreview-65-med-derm-hydrocortisone-cream\n"
     ]
    },
    {
     "name": "stderr",
     "output_type": "stream",
     "text": [
      " 85%|████████▍ | 381/450 [23:25<03:33,  3.10s/it]"
     ]
    },
    {
     "name": "stdout",
     "output_type": "stream",
     "text": [
      "https://reviews.webmd.com/drugs/drugreview-6511-rezine-tablet\n"
     ]
    },
    {
     "name": "stderr",
     "output_type": "stream",
     "text": [
      "100%|██████████| 1/1 [00:01<00:00,  1.47s/it]\n",
      " 85%|████████▌ | 383/450 [23:32<03:32,  3.17s/it]"
     ]
    },
    {
     "name": "stdout",
     "output_type": "stream",
     "text": [
      "skipping https://reviews.webmd.com/drugs/drugreview-6619-carmol-hc-cream: page not found\n"
     ]
    },
    {
     "name": "stderr",
     "output_type": "stream",
     "text": [
      " 85%|████████▌ | 384/450 [23:34<02:58,  2.70s/it]"
     ]
    },
    {
     "name": "stdout",
     "output_type": "stream",
     "text": [
      "skipping https://reviews.webmd.com/drugs/drugreview-6620-hydrocortisone-urea-cream: page not found\n",
      "https://reviews.webmd.com/drugs/drugreview-6760-diprosone-cream\n"
     ]
    },
    {
     "name": "stderr",
     "output_type": "stream",
     "text": [
      "100%|██████████| 1/1 [00:01<00:00,  1.64s/it]\n",
      " 86%|████████▌ | 385/450 [23:39<03:40,  3.39s/it]"
     ]
    },
    {
     "name": "stdout",
     "output_type": "stream",
     "text": [
      "https://reviews.webmd.com/drugs/drugreview-6803-florone-cream\n"
     ]
    },
    {
     "name": "stderr",
     "output_type": "stream",
     "text": [
      " 86%|████████▌ | 386/450 [23:41<03:18,  3.11s/it]"
     ]
    },
    {
     "name": "stdout",
     "output_type": "stream",
     "text": [
      "https://reviews.webmd.com/drugs/drugreview-6804-diflorasone-diacetate-ointment\n"
     ]
    },
    {
     "name": "stderr",
     "output_type": "stream",
     "text": [
      "100%|██████████| 1/1 [00:01<00:00,  1.50s/it]\n",
      " 86%|████████▌ | 387/450 [23:47<03:58,  3.79s/it]"
     ]
    },
    {
     "name": "stdout",
     "output_type": "stream",
     "text": [
      "https://reviews.webmd.com/drugs/drugreview-6805-fluonid-solution\n"
     ]
    },
    {
     "name": "stderr",
     "output_type": "stream",
     "text": [
      " 86%|████████▌ | 388/450 [23:50<03:45,  3.63s/it]"
     ]
    },
    {
     "name": "stdout",
     "output_type": "stream",
     "text": [
      "https://reviews.webmd.com/drugs/drugreview-6833-hytone-lotion\n"
     ]
    },
    {
     "name": "stderr",
     "output_type": "stream",
     "text": [
      " 86%|████████▋ | 389/450 [23:52<03:24,  3.35s/it]"
     ]
    },
    {
     "name": "stdout",
     "output_type": "stream",
     "text": [
      "https://reviews.webmd.com/drugs/drugreview-6896-maxiflor-ointment\n"
     ]
    },
    {
     "name": "stderr",
     "output_type": "stream",
     "text": [
      " 87%|████████▋ | 390/450 [23:55<03:08,  3.14s/it]"
     ]
    },
    {
     "name": "stdout",
     "output_type": "stream",
     "text": [
      "https://reviews.webmd.com/drugs/drugreview-6972-penecort-cream\n"
     ]
    },
    {
     "name": "stderr",
     "output_type": "stream",
     "text": [
      " 87%|████████▋ | 391/450 [23:59<03:15,  3.32s/it]"
     ]
    },
    {
     "name": "stdout",
     "output_type": "stream",
     "text": [
      "https://reviews.webmd.com/drugs/drugreview-7040-texacort-solution-non\n"
     ]
    },
    {
     "name": "stderr",
     "output_type": "stream",
     "text": [
      " 87%|████████▋ | 392/450 [24:02<03:02,  3.15s/it]"
     ]
    },
    {
     "name": "stdout",
     "output_type": "stream",
     "text": [
      "https://reviews.webmd.com/drugs/drugreview-7053-topicort-lp-cream\n"
     ]
    },
    {
     "name": "stderr",
     "output_type": "stream",
     "text": [
      "100%|██████████| 1/1 [00:01<00:00,  1.49s/it]\n",
      " 87%|████████▋ | 393/450 [24:06<03:17,  3.47s/it]"
     ]
    },
    {
     "name": "stdout",
     "output_type": "stream",
     "text": [
      "https://reviews.webmd.com/drugs/drugreview-7067-tridesilon-cream\n"
     ]
    },
    {
     "name": "stderr",
     "output_type": "stream",
     "text": [
      " 88%|████████▊ | 394/450 [24:09<03:03,  3.28s/it]"
     ]
    },
    {
     "name": "stdout",
     "output_type": "stream",
     "text": [
      "https://reviews.webmd.com/drugs/drugreview-7092-hydroxyzine-pamoate\n"
     ]
    },
    {
     "name": "stderr",
     "output_type": "stream",
     "text": [
      "100%|██████████| 14/14 [00:27<00:00,  1.98s/it]\n",
      " 88%|████████▊ | 395/450 [24:40<10:36, 11.57s/it]"
     ]
    },
    {
     "name": "stdout",
     "output_type": "stream",
     "text": [
      "https://reviews.webmd.com/drugs/drugreview-7130-lacticare-hc-lotion\n"
     ]
    },
    {
     "name": "stderr",
     "output_type": "stream",
     "text": [
      " 88%|████████▊ | 396/450 [24:42<08:02,  8.94s/it]"
     ]
    },
    {
     "name": "stdout",
     "output_type": "stream",
     "text": [
      "https://reviews.webmd.com/drugs/drugreview-7163-aristocort-lp-cream\n"
     ]
    },
    {
     "name": "stderr",
     "output_type": "stream",
     "text": [
      " 88%|████████▊ | 397/450 [24:45<06:13,  7.04s/it]"
     ]
    },
    {
     "name": "stdout",
     "output_type": "stream",
     "text": [
      "https://reviews.webmd.com/drugs/drugreview-7321-dermacort-lotion\n"
     ]
    },
    {
     "name": "stderr",
     "output_type": "stream",
     "text": [
      "100%|██████████| 1/1 [00:01<00:00,  1.72s/it]\n",
      " 88%|████████▊ | 398/450 [24:50<05:27,  6.30s/it]"
     ]
    },
    {
     "name": "stdout",
     "output_type": "stream",
     "text": [
      "https://reviews.webmd.com/drugs/drugreview-7395-cyclocort-lotion\n"
     ]
    },
    {
     "name": "stderr",
     "output_type": "stream",
     "text": [
      "100%|██████████| 1/1 [00:01<00:00,  1.43s/it]\n",
      " 89%|████████▊ | 399/450 [24:54<04:49,  5.67s/it]"
     ]
    },
    {
     "name": "stdout",
     "output_type": "stream",
     "text": [
      "https://reviews.webmd.com/drugs/drugreview-7396-amcinonide-ointment\n"
     ]
    },
    {
     "name": "stderr",
     "output_type": "stream",
     "text": [
      "100%|██████████| 1/1 [00:01<00:00,  1.45s/it]\n",
      " 89%|████████▉ | 400/450 [24:58<04:20,  5.21s/it]"
     ]
    },
    {
     "name": "stdout",
     "output_type": "stream",
     "text": [
      "https://reviews.webmd.com/drugs/drugreview-7461-diprolene-af-cream\n"
     ]
    },
    {
     "name": "stderr",
     "output_type": "stream",
     "text": [
      "100%|██████████| 1/1 [00:01<00:00,  1.67s/it]\n",
      " 89%|████████▉ | 401/450 [25:03<04:16,  5.23s/it]"
     ]
    },
    {
     "name": "stdout",
     "output_type": "stream",
     "text": [
      "https://reviews.webmd.com/drugs/drugreview-7558-corticaine-cream\n"
     ]
    },
    {
     "name": "stderr",
     "output_type": "stream",
     "text": [
      " 90%|████████▉ | 403/450 [25:08<02:51,  3.65s/it]"
     ]
    },
    {
     "name": "stdout",
     "output_type": "stream",
     "text": [
      "skipping https://reviews.webmd.com/drugs/drugreview-76168-diflorasone-emollient-cream: page not found\n",
      "https://reviews.webmd.com/drugs/drugreview-76175-triamcinolone-acetonide-l-s-b-cream\n"
     ]
    },
    {
     "name": "stderr",
     "output_type": "stream",
     "text": [
      "100%|██████████| 1/1 [00:01<00:00,  1.39s/it]\n",
      " 90%|█████████ | 405/450 [25:14<02:24,  3.21s/it]"
     ]
    },
    {
     "name": "stdout",
     "output_type": "stream",
     "text": [
      "skipping https://reviews.webmd.com/drugs/drugreview-76176-triamcinolone-hydrophilic-base-ointment: page not found\n",
      "https://reviews.webmd.com/drugs/drugreview-76392-lokara-lotion\n"
     ]
    },
    {
     "name": "stderr",
     "output_type": "stream",
     "text": [
      "100%|██████████| 1/1 [00:01<00:00,  1.43s/it]\n",
      " 90%|█████████ | 406/450 [25:18<02:41,  3.66s/it]"
     ]
    },
    {
     "name": "stdout",
     "output_type": "stream",
     "text": [
      "https://reviews.webmd.com/drugs/drugreview-76478-hydrocortisone-min-oil-wht-pet-ointment\n"
     ]
    },
    {
     "name": "stderr",
     "output_type": "stream",
     "text": [
      " 90%|█████████ | 407/450 [25:21<02:24,  3.35s/it]"
     ]
    },
    {
     "name": "stdout",
     "output_type": "stream",
     "text": [
      "https://reviews.webmd.com/drugs/drugreview-7681-hydroxyzine-hcl\n"
     ]
    },
    {
     "name": "stderr",
     "output_type": "stream",
     "text": [
      "100%|██████████| 35/35 [01:05<00:00,  1.87s/it]\n",
      " 91%|█████████ | 408/450 [26:30<16:06, 23.01s/it]"
     ]
    },
    {
     "name": "stdout",
     "output_type": "stream",
     "text": [
      "https://reviews.webmd.com/drugs/drugreview-7694-itch-x-foam\n"
     ]
    },
    {
     "name": "stderr",
     "output_type": "stream",
     "text": [
      "100%|██████████| 1/1 [00:01<00:00,  1.50s/it]\n",
      " 91%|█████████ | 409/450 [26:34<11:52, 17.39s/it]"
     ]
    },
    {
     "name": "stdout",
     "output_type": "stream",
     "text": [
      "https://reviews.webmd.com/drugs/drugreview-77242-dermatop-cream\n"
     ]
    },
    {
     "name": "stderr",
     "output_type": "stream",
     "text": [
      "100%|██████████| 1/1 [00:01<00:00,  1.61s/it]\n",
      " 91%|█████████ | 410/450 [26:39<09:06, 13.66s/it]"
     ]
    },
    {
     "name": "stdout",
     "output_type": "stream",
     "text": [
      "https://reviews.webmd.com/drugs/drugreview-77242-dermatop-ointment\n"
     ]
    },
    {
     "name": "stderr",
     "output_type": "stream",
     "text": [
      "100%|██████████| 1/1 [00:01<00:00,  1.42s/it]\n",
      " 91%|█████████▏| 411/450 [26:43<07:02, 10.84s/it]"
     ]
    },
    {
     "name": "stdout",
     "output_type": "stream",
     "text": [
      "https://reviews.webmd.com/drugs/drugreview-77544-apexicon-ointment\n"
     ]
    },
    {
     "name": "stderr",
     "output_type": "stream",
     "text": [
      "100%|██████████| 1/1 [00:01<00:00,  1.64s/it]\n",
      " 92%|█████████▏| 413/450 [26:50<04:17,  6.96s/it]"
     ]
    },
    {
     "name": "stdout",
     "output_type": "stream",
     "text": [
      "skipping https://reviews.webmd.com/drugs/drugreview-77545-apexicon-e-cream: page not found\n",
      "https://reviews.webmd.com/drugs/drugreview-77842-hydrocortisone-butyrate-cream\n"
     ]
    },
    {
     "name": "stderr",
     "output_type": "stream",
     "text": [
      " 92%|█████████▏| 414/450 [26:53<03:24,  5.68s/it]"
     ]
    },
    {
     "name": "stdout",
     "output_type": "stream",
     "text": [
      "https://reviews.webmd.com/drugs/drugreview-7807-medi-cortisone-cream\n"
     ]
    },
    {
     "name": "stderr",
     "output_type": "stream",
     "text": [
      " 92%|█████████▏| 415/450 [26:56<02:47,  4.77s/it]"
     ]
    },
    {
     "name": "stdout",
     "output_type": "stream",
     "text": [
      "https://reviews.webmd.com/drugs/drugreview-7909-aclovate-cream\n"
     ]
    },
    {
     "name": "stderr",
     "output_type": "stream",
     "text": [
      "100%|██████████| 1/1 [00:01<00:00,  1.52s/it]\n",
      " 92%|█████████▏| 416/450 [27:00<02:37,  4.64s/it]"
     ]
    },
    {
     "name": "stdout",
     "output_type": "stream",
     "text": [
      "https://reviews.webmd.com/drugs/drugreview-7910-alclometasone-dipropionate-ointment\n"
     ]
    },
    {
     "name": "stderr",
     "output_type": "stream",
     "text": [
      "100%|██████████| 1/1 [00:01<00:00,  1.78s/it]\n",
      " 93%|█████████▎| 418/450 [27:07<02:00,  3.76s/it]"
     ]
    },
    {
     "name": "stdout",
     "output_type": "stream",
     "text": [
      "skipping https://reviews.webmd.com/drugs/drugreview-8062-florone-e-cream: page not found\n",
      "https://reviews.webmd.com/drugs/drugreview-8069-psorcon-cream\n"
     ]
    },
    {
     "name": "stderr",
     "output_type": "stream",
     "text": [
      "100%|██████████| 1/1 [00:01<00:00,  1.32s/it]\n",
      " 93%|█████████▎| 419/450 [27:11<01:59,  3.85s/it]"
     ]
    },
    {
     "name": "stdout",
     "output_type": "stream",
     "text": [
      "https://reviews.webmd.com/drugs/drugreview-8150-dermacin-cream\n"
     ]
    },
    {
     "name": "stderr",
     "output_type": "stream",
     "text": [
      "100%|██████████| 1/1 [00:01<00:00,  1.79s/it]\n",
      " 93%|█████████▎| 420/450 [27:15<02:01,  4.04s/it]"
     ]
    },
    {
     "name": "stdout",
     "output_type": "stream",
     "text": [
      "https://reviews.webmd.com/drugs/drugreview-831-pramosone-lotion\n"
     ]
    },
    {
     "name": "stderr",
     "output_type": "stream",
     "text": [
      "100%|██████████| 1/1 [00:01<00:00,  1.78s/it]\n",
      " 94%|█████████▎| 421/450 [27:20<02:05,  4.32s/it]"
     ]
    },
    {
     "name": "stdout",
     "output_type": "stream",
     "text": [
      "https://reviews.webmd.com/drugs/drugreview-831-pramosone-ointment\n"
     ]
    },
    {
     "name": "stderr",
     "output_type": "stream",
     "text": [
      "100%|██████████| 1/1 [00:01<00:00,  1.57s/it]\n",
      " 94%|█████████▍| 422/450 [27:24<02:00,  4.30s/it]"
     ]
    },
    {
     "name": "stdout",
     "output_type": "stream",
     "text": [
      "https://reviews.webmd.com/drugs/drugreview-8533-acticort-00-lotion\n"
     ]
    },
    {
     "name": "stderr",
     "output_type": "stream",
     "text": [
      "100%|██████████| 1/1 [00:01<00:00,  1.61s/it]\n",
      " 94%|█████████▍| 424/450 [27:30<01:32,  3.56s/it]"
     ]
    },
    {
     "name": "stdout",
     "output_type": "stream",
     "text": [
      "skipping https://reviews.webmd.com/drugs/drugreview-86512-aquaphilic-with-taccarbamide-ointment: page not found\n",
      "https://reviews.webmd.com/drugs/drugreview-8758-clocortolone-pivalate-cream\n"
     ]
    },
    {
     "name": "stderr",
     "output_type": "stream",
     "text": [
      "100%|██████████| 1/1 [00:02<00:00,  2.23s/it]\n",
      " 94%|█████████▍| 425/450 [27:38<01:56,  4.66s/it]"
     ]
    },
    {
     "name": "stdout",
     "output_type": "stream",
     "text": [
      "https://reviews.webmd.com/drugs/drugreview-8786-fluticasone-propionate-ointment\n"
     ]
    },
    {
     "name": "stderr",
     "output_type": "stream",
     "text": [
      "100%|██████████| 1/1 [00:01<00:00,  1.71s/it]\n",
      " 95%|█████████▍| 426/450 [27:42<01:50,  4.59s/it]"
     ]
    },
    {
     "name": "stdout",
     "output_type": "stream",
     "text": [
      "https://reviews.webmd.com/drugs/drugreview-8791-hydrocortisone-butyrate-lotion\n"
     ]
    },
    {
     "name": "stderr",
     "output_type": "stream",
     "text": [
      "100%|██████████| 1/1 [00:01<00:00,  1.65s/it]\n",
      " 95%|█████████▍| 427/450 [27:47<01:45,  4.60s/it]"
     ]
    },
    {
     "name": "stdout",
     "output_type": "stream",
     "text": [
      "https://reviews.webmd.com/drugs/drugreview-89053-cortizone-10-plus-cream\n"
     ]
    },
    {
     "name": "stderr",
     "output_type": "stream",
     "text": [
      "100%|██████████| 1/1 [00:01<00:00,  1.49s/it]\n",
      " 95%|█████████▌| 428/450 [27:51<01:39,  4.50s/it]"
     ]
    },
    {
     "name": "stdout",
     "output_type": "stream",
     "text": [
      "https://reviews.webmd.com/drugs/drugreview-89091-summers-eve-cream\n"
     ]
    },
    {
     "name": "stderr",
     "output_type": "stream",
     "text": [
      " 95%|█████████▌| 429/450 [27:54<01:21,  3.90s/it]"
     ]
    },
    {
     "name": "stdout",
     "output_type": "stream",
     "text": [
      "https://reviews.webmd.com/drugs/drugreview-89091-summers-eve-lotion\n"
     ]
    },
    {
     "name": "stderr",
     "output_type": "stream",
     "text": [
      " 96%|█████████▌| 430/450 [27:57<01:14,  3.75s/it]"
     ]
    },
    {
     "name": "stdout",
     "output_type": "stream",
     "text": [
      "https://reviews.webmd.com/drugs/drugreview-89091-summers-eve-powder\n"
     ]
    },
    {
     "name": "stderr",
     "output_type": "stream",
     "text": [
      " 96%|█████████▌| 431/450 [28:00<01:05,  3.42s/it]"
     ]
    },
    {
     "name": "stdout",
     "output_type": "stream",
     "text": [
      "https://reviews.webmd.com/drugs/drugreview-89355-fluocinonide-e-cream\n"
     ]
    },
    {
     "name": "stderr",
     "output_type": "stream",
     "text": [
      "100%|██████████| 1/1 [00:01<00:00,  1.65s/it]\n",
      " 96%|█████████▌| 432/450 [28:04<01:07,  3.74s/it]"
     ]
    },
    {
     "name": "stdout",
     "output_type": "stream",
     "text": [
      "https://reviews.webmd.com/drugs/drugreview-8980-alphatrex-cream\n"
     ]
    },
    {
     "name": "stderr",
     "output_type": "stream",
     "text": [
      " 96%|█████████▌| 433/450 [28:07<00:59,  3.51s/it]"
     ]
    },
    {
     "name": "stdout",
     "output_type": "stream",
     "text": [
      "https://reviews.webmd.com/drugs/drugreview-9009-atazine-tablet\n"
     ]
    },
    {
     "name": "stderr",
     "output_type": "stream",
     "text": [
      " 96%|█████████▋| 434/450 [28:11<00:57,  3.58s/it]"
     ]
    },
    {
     "name": "stdout",
     "output_type": "stream",
     "text": [
      "https://reviews.webmd.com/drugs/drugreview-9021-beta-val-cream\n"
     ]
    },
    {
     "name": "stderr",
     "output_type": "stream",
     "text": [
      "100%|██████████| 1/1 [00:01<00:00,  1.60s/it]\n",
      " 97%|█████████▋| 435/450 [28:15<00:56,  3.80s/it]"
     ]
    },
    {
     "name": "stdout",
     "output_type": "stream",
     "text": [
      "https://reviews.webmd.com/drugs/drugreview-9024-betatrex-cream\n"
     ]
    },
    {
     "name": "stderr",
     "output_type": "stream",
     "text": [
      " 97%|█████████▋| 436/450 [28:18<00:47,  3.42s/it]"
     ]
    },
    {
     "name": "stdout",
     "output_type": "stream",
     "text": [
      "https://reviews.webmd.com/drugs/drugreview-9085-cloderm-cream\n"
     ]
    },
    {
     "name": "stderr",
     "output_type": "stream",
     "text": [
      "100%|██████████| 1/1 [00:01<00:00,  1.77s/it]\n",
      " 97%|█████████▋| 437/450 [28:23<00:52,  4.07s/it]"
     ]
    },
    {
     "name": "stdout",
     "output_type": "stream",
     "text": [
      "https://reviews.webmd.com/drugs/drugreview-9200-flurosyn-cream\n"
     ]
    },
    {
     "name": "stderr",
     "output_type": "stream",
     "text": [
      " 97%|█████████▋| 438/450 [28:26<00:43,  3.61s/it]"
     ]
    },
    {
     "name": "stdout",
     "output_type": "stream",
     "text": [
      "https://reviews.webmd.com/drugs/drugreview-9229-halog-ointment\n"
     ]
    },
    {
     "name": "stderr",
     "output_type": "stream",
     "text": [
      "100%|██████████| 1/1 [00:01<00:00,  1.51s/it]\n",
      " 98%|█████████▊| 439/450 [28:30<00:42,  3.88s/it]"
     ]
    },
    {
     "name": "stdout",
     "output_type": "stream",
     "text": [
      "https://reviews.webmd.com/drugs/drugreview-924-hm-hydrocortisone-ointment\n"
     ]
    },
    {
     "name": "stderr",
     "output_type": "stream",
     "text": [
      " 98%|█████████▊| 440/450 [28:33<00:36,  3.61s/it]"
     ]
    },
    {
     "name": "stdout",
     "output_type": "stream",
     "text": [
      "https://reviews.webmd.com/drugs/drugreview-9292-locoid-lotion\n"
     ]
    },
    {
     "name": "stderr",
     "output_type": "stream",
     "text": [
      "100%|██████████| 1/1 [00:01<00:00,  1.45s/it]\n",
      " 98%|█████████▊| 441/450 [28:37<00:33,  3.76s/it]"
     ]
    },
    {
     "name": "stdout",
     "output_type": "stream",
     "text": [
      "https://reviews.webmd.com/drugs/drugreview-93156-gynecort-maximum-strength-cream\n"
     ]
    },
    {
     "name": "stderr",
     "output_type": "stream",
     "text": [
      "100%|██████████| 1/1 [00:01<00:00,  1.68s/it]\n",
      " 98%|█████████▊| 442/450 [28:42<00:31,  3.97s/it]"
     ]
    },
    {
     "name": "stdout",
     "output_type": "stream",
     "text": [
      "https://reviews.webmd.com/drugs/drugreview-9461-qualisone-cream\n"
     ]
    },
    {
     "name": "stderr",
     "output_type": "stream",
     "text": [
      " 99%|█████████▊| 444/450 [28:46<00:18,  3.03s/it]"
     ]
    },
    {
     "name": "stdout",
     "output_type": "stream",
     "text": [
      "skipping https://reviews.webmd.com/drugs/drugreview-95129-keratol-hc-cream: page not found\n",
      "https://reviews.webmd.com/drugs/drugreview-96-fluocinonide-cream\n"
     ]
    },
    {
     "name": "stderr",
     "output_type": "stream",
     "text": [
      "100%|██████████| 4/4 [00:07<00:00,  1.81s/it]\n",
      " 99%|█████████▉| 445/450 [28:56<00:25,  5.19s/it]"
     ]
    },
    {
     "name": "stdout",
     "output_type": "stream",
     "text": [
      "https://reviews.webmd.com/drugs/drugreview-9624-cutivate-cream\n"
     ]
    },
    {
     "name": "stderr",
     "output_type": "stream",
     "text": [
      "100%|██████████| 1/1 [00:01<00:00,  1.93s/it]\n",
      " 99%|█████████▉| 447/450 [29:03<00:12,  4.06s/it]"
     ]
    },
    {
     "name": "stdout",
     "output_type": "stream",
     "text": [
      "skipping https://reviews.webmd.com/drugs/drugreview-9738-nupercainal-cream: page not found\n",
      "https://reviews.webmd.com/drugs/drugreview-978-betamethasone-dipropionate-aerosol-spray-with-pump\n"
     ]
    },
    {
     "name": "stderr",
     "output_type": "stream",
     "text": [
      "100%|██████████| 4/4 [00:07<00:00,  1.91s/it]\n",
      "100%|█████████▉| 448/450 [29:14<00:12,  6.05s/it]"
     ]
    },
    {
     "name": "stdout",
     "output_type": "stream",
     "text": [
      "https://reviews.webmd.com/drugs/drugreview-978-betamethasone-dipropionate-cream\n"
     ]
    },
    {
     "name": "stderr",
     "output_type": "stream",
     "text": [
      "100%|██████████| 4/4 [00:07<00:00,  1.79s/it]\n",
      "100%|█████████▉| 449/450 [29:24<00:07,  7.44s/it]"
     ]
    },
    {
     "name": "stdout",
     "output_type": "stream",
     "text": [
      "https://reviews.webmd.com/drugs/drugreview-988-dr-smiths-anti-itch-cream\n"
     ]
    },
    {
     "name": "stderr",
     "output_type": "stream",
     "text": [
      "100%|██████████| 450/450 [29:27<00:00,  3.93s/it]\n"
     ]
    }
   ],
   "source": [
    "#all drugs\n",
    "for review_url in tqdm(review_urls):\n",
    "    response = requests.get(review_url, headers=headers)\n",
    "    if response.url == 'https://www.webmd.com/404':\n",
    "        print(f'skipping {review_url}: page not found')\n",
    "    else:\n",
    "        print(review_url)\n",
    "        reviews_df = crawl_reviews_pages(review_url, reviews_df)\n",
    "        \n",
    "reviews_df.to_csv('../../data/datasets/allergydermatitis_reviews.csv')\n"
   ]
  }
 ],
 "metadata": {
  "kernelspec": {
   "display_name": "rioxarray_env",
   "language": "python",
   "name": "python3"
  },
  "language_info": {
   "codemirror_mode": {
    "name": "ipython",
    "version": 3
   },
   "file_extension": ".py",
   "mimetype": "text/x-python",
   "name": "python",
   "nbconvert_exporter": "python",
   "pygments_lexer": "ipython3",
   "version": "3.9.18"
  }
 },
 "nbformat": 4,
 "nbformat_minor": 2
}
