{
 "cells": [
  {
   "cell_type": "markdown",
   "metadata": {},
   "source": [
    "Medication reviews extracted from webmd for diabetes type 2 mellitus.\n",
    "\n",
    "Source code applied to extract reviews from web.MD: 'https://github.com/sepidehparhami/scraping-webmd-drug-reviews/tree/main'. "
   ]
  },
  {
   "cell_type": "code",
   "execution_count": 1,
   "metadata": {},
   "outputs": [
    {
     "data": {
      "text/plain": [
       "array(['https://reviews.webmd.com/drugs/drugreview-10326-triamterene',\n",
       "       'https://reviews.webmd.com/drugs/drugreview-10404-propranolol-capsule-24-hr-capsule-er-hr',\n",
       "       'https://reviews.webmd.com/drugs/drugreview-10404-propranolol-hcl',\n",
       "       'https://reviews.webmd.com/drugs/drugreview-10404-propranolol-hcl-er',\n",
       "       'https://reviews.webmd.com/drugs/drugreview-10404-propranolol-solution',\n",
       "       'https://reviews.webmd.com/drugs/drugreview-10461-pronol-tablet',\n",
       "       'https://reviews.webmd.com/drugs/drugreview-10482-calan-tablet',\n",
       "       'https://reviews.webmd.com/drugs/drugreview-10671-guanethidine-tablet',\n",
       "       'https://reviews.webmd.com/drugs/drugreview-11035-atenolol',\n",
       "       'https://reviews.webmd.com/drugs/drugreview-11063-methyldopate-hcl-vial',\n",
       "       'https://reviews.webmd.com/drugs/drugreview-11086-ismelin-tablet',\n",
       "       'https://reviews.webmd.com/drugs/drugreview-11125-procardia-xl',\n",
       "       'https://reviews.webmd.com/drugs/drugreview-11207-metoprolol-tartrate',\n",
       "       'https://reviews.webmd.com/drugs/drugreview-11247-perindopril-erbumine',\n",
       "       'https://reviews.webmd.com/drugs/drugreview-11441-univasc-tablet',\n",
       "       'https://reviews.webmd.com/drugs/drugreview-11442-moexipril-hcl',\n",
       "       'https://reviews.webmd.com/drugs/drugreview-11481-amiloride-hcl',\n",
       "       'https://reviews.webmd.com/drugs/drugreview-11524-amlodipine-besylate-benazepril',\n",
       "       'https://reviews.webmd.com/drugs/drugreview-11528-cozaar',\n",
       "       'https://reviews.webmd.com/drugs/drugreview-11578-propranolol-hcl-cr-capsule-er',\n",
       "       'https://reviews.webmd.com/drugs/drugreview-11754-clonidine-hcl',\n",
       "       'https://reviews.webmd.com/drugs/drugreview-11754-clonidine-hcl-er',\n",
       "       'https://reviews.webmd.com/drugs/drugreview-11754-clonidine-hcl-er-tablet-24-hr',\n",
       "       'https://reviews.webmd.com/drugs/drugreview-11755-nadolol',\n",
       "       'https://reviews.webmd.com/drugs/drugreview-12067-nisoldipine',\n",
       "       'https://reviews.webmd.com/drugs/drugreview-12067-nisoldipine-tablet-er-24-hr',\n",
       "       'https://reviews.webmd.com/drugs/drugreview-12134-sular',\n",
       "       'https://reviews.webmd.com/drugs/drugreview-12134-sular-tablet-er-24-hr',\n",
       "       'https://reviews.webmd.com/drugs/drugreview-12360-indapamide',\n",
       "       'https://reviews.webmd.com/drugs/drugreview-12430-trandolapril',\n",
       "       'https://reviews.webmd.com/drugs/drugreview-12566-mavik-tablet',\n",
       "       'https://reviews.webmd.com/drugs/drugreview-134-senormin-tablet',\n",
       "       'https://reviews.webmd.com/drugs/drugreview-13774-covera-hs-tablet-er-24-hr',\n",
       "       'https://reviews.webmd.com/drugs/drugreview-14061-cardene-capsule',\n",
       "       'https://reviews.webmd.com/drugs/drugreview-14206-bisoprolol-fumarate',\n",
       "       'https://reviews.webmd.com/drugs/drugreview-14207-torsemide-solution',\n",
       "       'https://reviews.webmd.com/drugs/drugreview-14219-thsc-hydrochlorothiazide-tablet',\n",
       "       'https://reviews.webmd.com/drugs/drugreview-14222-thsc-atenolol-tablet',\n",
       "       'https://reviews.webmd.com/drugs/drugreview-14225-thsc-propranolol-hcl-tablet',\n",
       "       'https://reviews.webmd.com/drugs/drugreview-14230-thsc-nifedipine-cr-tablet-er',\n",
       "       'https://reviews.webmd.com/drugs/drugreview-14233-thsc-furosemide-tablet',\n",
       "       'https://reviews.webmd.com/drugs/drugreview-14239-thsc-verapamil-hcl-cr-tablet-er',\n",
       "       'https://reviews.webmd.com/drugs/drugreview-14240-thsc-lisinopril-tablet',\n",
       "       'https://reviews.webmd.com/drugs/drugreview-14244-thsc-captopril-tablet',\n",
       "       'https://reviews.webmd.com/drugs/drugreview-14251-thsc-metoprolol-tartrate-tablet',\n",
       "       'https://reviews.webmd.com/drugs/drugreview-14338-trandolapril-verapamil-er',\n",
       "       'https://reviews.webmd.com/drugs/drugreview-14386-pindolol',\n",
       "       'https://reviews.webmd.com/drugs/drugreview-14575-bumetanide',\n",
       "       'https://reviews.webmd.com/drugs/drugreview-14592-propranolol-hcl-intensol-drops',\n",
       "       'https://reviews.webmd.com/drugs/drugreview-14634-microzide-capsule',\n",
       "       'https://reviews.webmd.com/drugs/drugreview-14750-enalapril-maleate-felodipine-tablet-er',\n",
       "       'https://reviews.webmd.com/drugs/drugreview-147671-aliskiren',\n",
       "       'https://reviews.webmd.com/drugs/drugreview-147683-tekturna',\n",
       "       'https://reviews.webmd.com/drugs/drugreview-14797-cam-ap-es-tablet',\n",
       "       'https://reviews.webmd.com/drugs/drugreview-14851-hydrap-es-tablet',\n",
       "       'https://reviews.webmd.com/drugs/drugreview-148561-amlodipine-valsartan',\n",
       "       'https://reviews.webmd.com/drugs/drugreview-148564-exforge',\n",
       "       'https://reviews.webmd.com/drugs/drugreview-148915-naldol-tablet',\n",
       "       'https://reviews.webmd.com/drugs/drugreview-14916-serpazide-tablet',\n",
       "       'https://reviews.webmd.com/drugs/drugreview-149214-amlodipine-olmesartan',\n",
       "       'https://reviews.webmd.com/drugs/drugreview-149217-azor',\n",
       "       'https://reviews.webmd.com/drugs/drugreview-1494-cardizem-cd',\n",
       "       'https://reviews.webmd.com/drugs/drugreview-14942-uni-serp-tablet',\n",
       "       'https://reviews.webmd.com/drugs/drugreview-1495-dilacor-xr-capsule-er',\n",
       "       'https://reviews.webmd.com/drugs/drugreview-14968-3h-w-r-tablet',\n",
       "       'https://reviews.webmd.com/drugs/drugreview-14977-hyserp-tablet',\n",
       "       'https://reviews.webmd.com/drugs/drugreview-149866-nebivolol-hcl',\n",
       "       'https://reviews.webmd.com/drugs/drugreview-149883-bystolic',\n",
       "       'https://reviews.webmd.com/drugs/drugreview-149962-aliskiren-hydrochlorothiazide-tablet',\n",
       "       'https://reviews.webmd.com/drugs/drugreview-149976-tekturna-hct',\n",
       "       'https://reviews.webmd.com/drugs/drugreview-1504-tiazac',\n",
       "       'https://reviews.webmd.com/drugs/drugreview-151180-clevidipine-emulsion',\n",
       "       'https://reviews.webmd.com/drugs/drugreview-151192-cleviprex-vial',\n",
       "       'https://reviews.webmd.com/drugs/drugreview-151788-diltzac-er-capsule-24-hr-capsule-hr',\n",
       "       'https://reviews.webmd.com/drugs/drugreview-152357-amlodipine-valsartan-hctz',\n",
       "       'https://reviews.webmd.com/drugs/drugreview-152359-exforge-hct',\n",
       "       'https://reviews.webmd.com/drugs/drugreview-153008-aliskiren-valsartan-tablet',\n",
       "       'https://reviews.webmd.com/drugs/drugreview-153012-valturna-tablet',\n",
       "       'https://reviews.webmd.com/drugs/drugreview-153181-telmisartan-amlodipine',\n",
       "       'https://reviews.webmd.com/drugs/drugreview-153194-twynsta-tablet',\n",
       "       'https://reviews.webmd.com/drugs/drugreview-154436-olmesartan-amlodipine-hctz',\n",
       "       'https://reviews.webmd.com/drugs/drugreview-154439-tribenzor',\n",
       "       'https://reviews.webmd.com/drugs/drugreview-154589-aliskiren-amlodipine-tablet',\n",
       "       'https://reviews.webmd.com/drugs/drugreview-154590-tekamlo-tablet',\n",
       "       'https://reviews.webmd.com/drugs/drugreview-155068-matzim-la-tablet-er-24-hr',\n",
       "       'https://reviews.webmd.com/drugs/drugreview-155086-kapvay',\n",
       "       'https://reviews.webmd.com/drugs/drugreview-155114-nexiclon-xr',\n",
       "       'https://reviews.webmd.com/drugs/drugreview-155198-aliskiren-amlodipin-hcthiazide-tablet',\n",
       "       'https://reviews.webmd.com/drugs/drugreview-155202-amturnide-tablet',\n",
       "       'https://reviews.webmd.com/drugs/drugreview-155740-matzim-la',\n",
       "       'https://reviews.webmd.com/drugs/drugreview-15620-ser-a-gen-tablet',\n",
       "       'https://reviews.webmd.com/drugs/drugreview-15632-tri-hydroserpine-tablet',\n",
       "       'https://reviews.webmd.com/drugs/drugreview-15636-hyzaar',\n",
       "       'https://reviews.webmd.com/drugs/drugreview-15679-aldoril-d30-tablet',\n",
       "       'https://reviews.webmd.com/drugs/drugreview-15680-combipres-2-tablet',\n",
       "       'https://reviews.webmd.com/drugs/drugreview-15681-combipres-3-tablet',\n",
       "       'https://reviews.webmd.com/drugs/drugreview-15682-aldoril-d50-tablet',\n",
       "       'https://reviews.webmd.com/drugs/drugreview-15764-aldoril-25-tablet',\n",
       "       'https://reviews.webmd.com/drugs/drugreview-157991-perindopril-arginin-amlodipine-tablet',\n",
       "       'https://reviews.webmd.com/drugs/drugreview-159107-metoprolol-su-hydrochlorothiaz-tablet-er-24-hr',\n",
       "       'https://reviews.webmd.com/drugs/drugreview-159118-dutoprol',\n",
       "       'https://reviews.webmd.com/drugs/drugreview-159143-azilsartan-med-chlorthalidone-tablet',\n",
       "       'https://reviews.webmd.com/drugs/drugreview-159144-edarbyclor',\n",
       "       'https://reviews.webmd.com/drugs/drugreview-16147-lexxel-tablet-er',\n",
       "       'https://reviews.webmd.com/drugs/drugreview-161550-nicardipine-in-5-dextrose-solution',\n",
       "       'https://reviews.webmd.com/drugs/drugreview-16164-aldoclor-tablet',\n",
       "       'https://reviews.webmd.com/drugs/drugreview-16165-prinzide-tablet',\n",
       "       'https://reviews.webmd.com/drugs/drugreview-16167-l-dopres-hydrochlorothiazide-tablet',\n",
       "       'https://reviews.webmd.com/drugs/drugreview-16168-minizide-capsule',\n",
       "       'https://reviews.webmd.com/drugs/drugreview-16169-lotensin-hct',\n",
       "       'https://reviews.webmd.com/drugs/drugreview-16188-lotrel',\n",
       "       'https://reviews.webmd.com/drugs/drugreview-16200-ziac',\n",
       "       'https://reviews.webmd.com/drugs/drugreview-162073-kapvay-dose-pack-tablet-er-tablet-pack',\n",
       "       'https://reviews.webmd.com/drugs/drugreview-16209-tarka',\n",
       "       'https://reviews.webmd.com/drugs/drugreview-16214-tenoretic-50',\n",
       "       'https://reviews.webmd.com/drugs/drugreview-1634-coreg',\n",
       "       'https://reviews.webmd.com/drugs/drugreview-164098-vecamyl',\n",
       "       'https://reviews.webmd.com/drugs/drugreview-164927-epaned',\n",
       "       'https://reviews.webmd.com/drugs/drugreview-165673-cardene-i-v-solution-piggyback',\n",
       "       'https://reviews.webmd.com/drugs/drugreview-165806-inderal-xl',\n",
       "       'https://reviews.webmd.com/drugs/drugreview-16595-atacand',\n",
       "       'https://reviews.webmd.com/drugs/drugreview-168-verapamil-hcl-cr-capsule-24-hr-capsule-er-hr',\n",
       "       'https://reviews.webmd.com/drugs/drugreview-168-verapamil-hcl-cr-tablet-er',\n",
       "       'https://reviews.webmd.com/drugs/drugreview-16800-telmisartan',\n",
       "       'https://reviews.webmd.com/drugs/drugreview-16806-micardis',\n",
       "       'https://reviews.webmd.com/drugs/drugreview-169332-prestalia',\n",
       "       'https://reviews.webmd.com/drugs/drugreview-16976-verelan-pm',\n",
       "       'https://reviews.webmd.com/drugs/drugreview-171994-nebivolol-valsartan-tablet',\n",
       "       'https://reviews.webmd.com/drugs/drugreview-17200-irbesartan-hydrochlorothiazide',\n",
       "       'https://reviews.webmd.com/drugs/drugreview-17211-avalide',\n",
       "       'https://reviews.webmd.com/drugs/drugreview-172271-byvalson-tablet',\n",
       "       'https://reviews.webmd.com/drugs/drugreview-172307-qbrelis',\n",
       "       'https://reviews.webmd.com/drugs/drugreview-17319-cartia-xt',\n",
       "       'https://reviews.webmd.com/drugs/drugreview-17339-aceon-tablet',\n",
       "       'https://reviews.webmd.com/drugs/drugreview-17555-eprosartan-mesylate',\n",
       "       'https://reviews.webmd.com/drugs/drugreview-175675-kapspargo-sprinkle',\n",
       "       'https://reviews.webmd.com/drugs/drugreview-17572-teveten-tablet',\n",
       "       'https://reviews.webmd.com/drugs/drugreview-177547-amlodipine-benzoate-suspension',\n",
       "       'https://reviews.webmd.com/drugs/drugreview-177569-katerzia',\n",
       "       'https://reviews.webmd.com/drugs/drugreview-178341-tiadylt-er',\n",
       "       'https://reviews.webmd.com/drugs/drugreview-1785-corgard',\n",
       "       'https://reviews.webmd.com/drugs/drugreview-178575-levamlodipine-maleate',\n",
       "       'https://reviews.webmd.com/drugs/drugreview-180121-conjupri',\n",
       "       'https://reviews.webmd.com/drugs/drugreview-180390-labetalol-hcl-nacl-plastic-bag-injection',\n",
       "       'https://reviews.webmd.com/drugs/drugreview-180397-labetalol-hcl-dextrose-plastic-bag-injection',\n",
       "       'https://reviews.webmd.com/drugs/drugreview-1806-dynacirc-capsule',\n",
       "       'https://reviews.webmd.com/drugs/drugreview-18136-monopril-hct-tablet',\n",
       "       'https://reviews.webmd.com/drugs/drugreview-1814-moduretic-tablet',\n",
       "       'https://reviews.webmd.com/drugs/drugreview-18141-accuretic',\n",
       "       'https://reviews.webmd.com/drugs/drugreview-183996-norliqva',\n",
       "       'https://reviews.webmd.com/drugs/drugreview-19007-hydralazine-plus-50-50-capsule',\n",
       "       'https://reviews.webmd.com/drugs/drugreview-19036-hhr-tablet',\n",
       "       'https://reviews.webmd.com/drugs/drugreview-1909-amiloride-hydrochlorothiazide',\n",
       "       'https://reviews.webmd.com/drugs/drugreview-19158-ser-ap-es-tablet',\n",
       "       'https://reviews.webmd.com/drugs/drugreview-19345-diuretic-ap-es-tablet',\n",
       "       'https://reviews.webmd.com/drugs/drugreview-19479-inversine-tablet',\n",
       "       'https://reviews.webmd.com/drugs/drugreview-19480-mecamylamine-tablet',\n",
       "       'https://reviews.webmd.com/drugs/drugreview-1955-atenolol-chlorthalidone',\n",
       "       'https://reviews.webmd.com/drugs/drugreview-19751-nifedipine-cr-osmotic-tablet-push-tablet-er-push',\n",
       "       'https://reviews.webmd.com/drugs/drugreview-19784-diltiazem-cd-capsule-er',\n",
       "       'https://reviews.webmd.com/drugs/drugreview-19953-candesartan-hydrochlorothiazid',\n",
       "       'https://reviews.webmd.com/drugs/drugreview-19955-bisoprolol-fumarate-hctz-tablet',\n",
       "       'https://reviews.webmd.com/drugs/drugreview-19957-atacand-hct',\n",
       "       'https://reviews.webmd.com/drugs/drugreview-20226-nifedical-xl-tablet-er-24-hr',\n",
       "       'https://reviews.webmd.com/drugs/drugreview-20317-telmisartan-hydrochlorothiazid',\n",
       "       'https://reviews.webmd.com/drugs/drugreview-20318-micardis-hct',\n",
       "       'https://reviews.webmd.com/drugs/drugreview-2069-benazepril-hydrochlorothiazide',\n",
       "       'https://reviews.webmd.com/drugs/drugreview-2077-bisoprolol-hydrochlorothiazide',\n",
       "       'https://reviews.webmd.com/drugs/drugreview-20938-diltiazem-hcl-er-capsule-12-hr-capsule-hr',\n",
       "       'https://reviews.webmd.com/drugs/drugreview-21133-dilt-xr-capsule-degradable-capsule-er-degradable',\n",
       "       'https://reviews.webmd.com/drugs/drugreview-2119-captopril-hctz-tablet',\n",
       "       'https://reviews.webmd.com/drugs/drugreview-2123-cardene-i-v-ampul',\n",
       "       'https://reviews.webmd.com/drugs/drugreview-21422-spironolactone-hctz-tablet',\n",
       "       'https://reviews.webmd.com/drugs/drugreview-2228-clonidine-chlorthalidone-tablet',\n",
       "       'https://reviews.webmd.com/drugs/drugreview-2329-sodium-diuril-vial',\n",
       "       'https://reviews.webmd.com/drugs/drugreview-2352-dynacirc-cr-tablet-er-24-hr',\n",
       "       'https://reviews.webmd.com/drugs/drugreview-2359-enalapril-hydrochlorothiazide',\n",
       "       'https://reviews.webmd.com/drugs/drugreview-2447-fosinopril-hydrochlorothiazide',\n",
       "       'https://reviews.webmd.com/drugs/drugreview-2471-guanethidine-hydrochlorothiazd-tablet',\n",
       "       'https://reviews.webmd.com/drugs/drugreview-2519-hydralazine-hydrochlorothiazid-capsule',\n",
       "       'https://reviews.webmd.com/drugs/drugreview-2520-hydralazine-reserpin-hcthiazid-tablet',\n",
       "       'https://reviews.webmd.com/drugs/drugreview-2521-hydro-par-tablet',\n",
       "       'https://reviews.webmd.com/drugs/drugreview-2622-lisinopril-hydrochlorothiazide',\n",
       "       'https://reviews.webmd.com/drugs/drugreview-2626-losartan-hydrochlorothiazide',\n",
       "       'https://reviews.webmd.com/drugs/drugreview-2674-methyldopa-chlorothiazide-tablet',\n",
       "       'https://reviews.webmd.com/drugs/drugreview-2675-methyldopa-hydrochlorothiazide',\n",
       "       'https://reviews.webmd.com/drugs/drugreview-2676-metoprolol-hydrochlorothiazide',\n",
       "       'https://reviews.webmd.com/drugs/drugreview-2728-nadolol-bendroflumethiazide-tablet',\n",
       "       'https://reviews.webmd.com/drugs/drugreview-2906-prazosin-polythiazide-capsule',\n",
       "       'https://reviews.webmd.com/drugs/drugreview-2930-propranolol-hydrochlorothiazid',\n",
       "       'https://reviews.webmd.com/drugs/drugreview-3043-spironolactone-hctz',\n",
       "       'https://reviews.webmd.com/drugs/drugreview-3132-timolol-hydrochlorothiazide-tablet',\n",
       "       'https://reviews.webmd.com/drugs/drugreview-3154-triamterene-hydrochlorothiazid',\n",
       "       'https://reviews.webmd.com/drugs/drugreview-3340-vasotec',\n",
       "       'https://reviews.webmd.com/drugs/drugreview-3517-quinapril-hydrochlorothiazide',\n",
       "       'https://reviews.webmd.com/drugs/drugreview-3710-cardura',\n",
       "       'https://reviews.webmd.com/drugs/drugreview-3750-doxazosin-mesylate',\n",
       "       'https://reviews.webmd.com/drugs/drugreview-3750-doxazosin-tablet-er-2-hr',\n",
       "       'https://reviews.webmd.com/drugs/drugreview-3776-lasix',\n",
       "       'https://reviews.webmd.com/drugs/drugreview-3776-lasix-solution',\n",
       "       'https://reviews.webmd.com/drugs/drugreview-3783-diltiazem-12hr-er',\n",
       "       'https://reviews.webmd.com/drugs/drugreview-3783-diltiazem-24hr-er',\n",
       "       'https://reviews.webmd.com/drugs/drugreview-3783-diltiazem-24hr-er-cd',\n",
       "       'https://reviews.webmd.com/drugs/drugreview-3783-diltiazem-24hr-er-la',\n",
       "       'https://reviews.webmd.com/drugs/drugreview-3783-diltiazem-24hr-er-xr',\n",
       "       'https://reviews.webmd.com/drugs/drugreview-3783-diltiazem-hcl',\n",
       "       'https://reviews.webmd.com/drugs/drugreview-3924-cardizem-sr-capsule-12-hr-capsule-er-hr',\n",
       "       'https://reviews.webmd.com/drugs/drugreview-3926-diltiazem-hcl-cr-capsule-12-hr-capsule-er-hr',\n",
       "       'https://reviews.webmd.com/drugs/drugreview-3926-diltiazem-hcl-cr-capsule-er',\n",
       "       'https://reviews.webmd.com/drugs/drugreview-3951-chlorthalidone',\n",
       "       'https://reviews.webmd.com/drugs/drugreview-3971-accupril',\n",
       "       'https://reviews.webmd.com/drugs/drugreview-4030-moexipril-hydrochlorothiazide-tablet',\n",
       "       'https://reviews.webmd.com/drugs/drugreview-4365-acebutolol-hcl',\n",
       "       'https://reviews.webmd.com/drugs/drugreview-4477-uniretic-tablet',\n",
       "       'https://reviews.webmd.com/drugs/drugreview-4479-esimil-tablet',\n",
       "       'https://reviews.webmd.com/drugs/drugreview-4682-benazepril-hcl',\n",
       "       'https://reviews.webmd.com/drugs/drugreview-4714-thalitone',\n",
       "       'https://reviews.webmd.com/drugs/drugreview-4720-irbesartan',\n",
       "       'https://reviews.webmd.com/drugs/drugreview-4729-avapro',\n",
       "       'https://reviews.webmd.com/drugs/drugreview-4760-diltia-xt-capsule-er',\n",
       "       'https://reviews.webmd.com/drugs/drugreview-4826-capoten-tablet',\n",
       "       'https://reviews.webmd.com/drugs/drugreview-494-inderal-la',\n",
       "       'https://reviews.webmd.com/drugs/drugreview-520-isoptin-sr-tablet-er',\n",
       "       'https://reviews.webmd.com/drugs/drugreview-53558-procard-tablet',\n",
       "       'https://reviews.webmd.com/drugs/drugreview-53559-lorol-tablet',\n",
       "       'https://reviews.webmd.com/drugs/drugreview-53560-tenormin-calendar-pak-tablet',\n",
       "       'https://reviews.webmd.com/drugs/drugreview-53561-isoptin-s-r-tablet-er',\n",
       "       'https://reviews.webmd.com/drugs/drugreview-53587-catapres-tts-2-patch-weekly',\n",
       "       'https://reviews.webmd.com/drugs/drugreview-53588-catapres-tts-3-patch-weekly',\n",
       "       'https://reviews.webmd.com/drugs/drugreview-53589-aldomet-solution',\n",
       "       'https://reviews.webmd.com/drugs/drugreview-53590-aldomet-ester-hcl-injection-solution',\n",
       "       'https://reviews.webmd.com/drugs/drugreview-53591-ingadine-tablet',\n",
       "       'https://reviews.webmd.com/drugs/drugreview-53592-sandril-tablet',\n",
       "       'https://reviews.webmd.com/drugs/drugreview-53593-serpasil-tablet',\n",
       "       'https://reviews.webmd.com/drugs/drugreview-53594-serpate-tablet',\n",
       "       'https://reviews.webmd.com/drugs/drugreview-53595-serpalan-tablet',\n",
       "       'https://reviews.webmd.com/drugs/drugreview-53596-sk-reserpine-tablet',\n",
       "       'https://reviews.webmd.com/drugs/drugreview-53597-reserpoid-tablet',\n",
       "       'https://reviews.webmd.com/drugs/drugreview-53598-serpatab-tablet',\n",
       "       'https://reviews.webmd.com/drugs/drugreview-53599-resa-tablet',\n",
       "       'https://reviews.webmd.com/drugs/drugreview-53600-sertina-tablet',\n",
       "       'https://reviews.webmd.com/drugs/drugreview-53601-serpanray-tablet',\n",
       "       'https://reviews.webmd.com/drugs/drugreview-53602-zepine-tablet',\n",
       "       'https://reviews.webmd.com/drugs/drugreview-53603-adrolazine-tablet',\n",
       "       'https://reviews.webmd.com/drugs/drugreview-53604-apresrex-tablet',\n",
       "       'https://reviews.webmd.com/drugs/drugreview-53605-hydralyn-tablet',\n",
       "       'https://reviews.webmd.com/drugs/drugreview-53606-aprex-tablet',\n",
       "       'https://reviews.webmd.com/drugs/drugreview-53607-hydralyn-tablet',\n",
       "       'https://reviews.webmd.com/drugs/drugreview-53608-aprex-tablet',\n",
       "       'https://reviews.webmd.com/drugs/drugreview-53609-minodyl-tablet',\n",
       "       'https://reviews.webmd.com/drugs/drugreview-53672-hctz-reserpine-hydralazine-tablet',\n",
       "       'https://reviews.webmd.com/drugs/drugreview-53673-unipres-tablet',\n",
       "       'https://reviews.webmd.com/drugs/drugreview-53674-sae-tablet',\n",
       "       'https://reviews.webmd.com/drugs/drugreview-53675-serpex-tablet',\n",
       "       'https://reviews.webmd.com/drugs/drugreview-53676-seragen-tablet',\n",
       "       'https://reviews.webmd.com/drugs/drugreview-53677-hydroserpazine-tablet',\n",
       "       'https://reviews.webmd.com/drugs/drugreview-53678-cherapas-tablet',\n",
       "       'https://reviews.webmd.com/drugs/drugreview-53679-panpres-tablet',\n",
       "       'https://reviews.webmd.com/drugs/drugreview-53680-seralazide-tablet',\n",
       "       'https://reviews.webmd.com/drugs/drugreview-53681-serapine-tablet',\n",
       "       'https://reviews.webmd.com/drugs/drugreview-53682-marpres-tablet',\n",
       "       'https://reviews.webmd.com/drugs/drugreview-53683-serathide-tablet',\n",
       "       'https://reviews.webmd.com/drugs/drugreview-53684-d-pres-tablet',\n",
       "       'https://reviews.webmd.com/drugs/drugreview-53685-hrh-tablet',\n",
       "       'https://reviews.webmd.com/drugs/drugreview-53686-serge-tablet',\n",
       "       'https://reviews.webmd.com/drugs/drugreview-53687-hydroap-es-tablet',\n",
       "       'https://reviews.webmd.com/drugs/drugreview-53688-hydroserpine-plus-tablet',\n",
       "       'https://reviews.webmd.com/drugs/drugreview-53689-atenolol-w-chlorthalidone-tablet',\n",
       "       'https://reviews.webmd.com/drugs/drugreview-53690-propranolol-hcl-w-hctz-tablet',\n",
       "       'https://reviews.webmd.com/drugs/drugreview-53691-inderide-40-25-tablet',\n",
       "       'https://reviews.webmd.com/drugs/drugreview-53692-inderide-80-25-tablet',\n",
       "       'https://reviews.webmd.com/drugs/drugreview-53693-clonidine-hcl-w-chlorthalidone-tablet',\n",
       "       'https://reviews.webmd.com/drugs/drugreview-53694-clonidine-w-chlorthalidone-tablet',\n",
       "       'https://reviews.webmd.com/drugs/drugreview-53695-combipres-tablet',\n",
       "       'https://reviews.webmd.com/drugs/drugreview-53696-methyldopa-w-chlorothiazide-tablet',\n",
       "       'https://reviews.webmd.com/drugs/drugreview-53697-minizide-2-capsule',\n",
       "       'https://reviews.webmd.com/drugs/drugreview-53698-hydralazine-w-hctz-capsule',\n",
       "       'https://reviews.webmd.com/drugs/drugreview-53699-hydrazide-capsule',\n",
       "       'https://reviews.webmd.com/drugs/drugreview-53700-hy-zide-capsule',\n",
       "       'https://reviews.webmd.com/drugs/drugreview-53701-hydra-zide-capsule',\n",
       "       'https://reviews.webmd.com/drugs/drugreview-53705-lasimide-tablet',\n",
       "       'https://reviews.webmd.com/drugs/drugreview-53706-fumide-tablet',\n",
       "       'https://reviews.webmd.com/drugs/drugreview-53707-delone-tablet',\n",
       "       'https://reviews.webmd.com/drugs/drugreview-53708-lo-aqua-tablet',\n",
       "       'https://reviews.webmd.com/drugs/drugreview-53709-furoben-tablet',\n",
       "       'https://reviews.webmd.com/drugs/drugreview-53710-detue-tablet',\n",
       "       'https://reviews.webmd.com/drugs/drugreview-53717-altex-tablet',\n",
       "       'https://reviews.webmd.com/drugs/drugreview-53718-spirazone-tablet',\n",
       "       'https://reviews.webmd.com/drugs/drugreview-53719-naturetin-tablet',\n",
       "       'https://reviews.webmd.com/drugs/drugreview-53720-sk-chlorothiazide-tablet',\n",
       "       'https://reviews.webmd.com/drugs/drugreview-53721-dithirex-tablet',\n",
       "       'https://reviews.webmd.com/drugs/drugreview-53722-diurigen-tablet',\n",
       "       'https://reviews.webmd.com/drugs/drugreview-53723-chlorulan-tablet',\n",
       "       'https://reviews.webmd.com/drugs/drugreview-53724-kenuril-tablet',\n",
       "       'https://reviews.webmd.com/drugs/drugreview-53725-kenuril-tablet',\n",
       "       'https://reviews.webmd.com/drugs/drugreview-53726-biogroton-tablet',\n",
       "       'https://reviews.webmd.com/drugs/drugreview-53727-hylidone-tablet',\n",
       "       'https://reviews.webmd.com/drugs/drugreview-53728-sk-hydrochlorothiazide-tablet',\n",
       "       'https://reviews.webmd.com/drugs/drugreview-53729-hydrorex-tablet',\n",
       "       'https://reviews.webmd.com/drugs/drugreview-53730-icn-hythide-tablet',\n",
       "       'https://reviews.webmd.com/drugs/drugreview-53731-hydrochlorulan-tablet',\n",
       "       'https://reviews.webmd.com/drugs/drugreview-53732-hydoril-tablet',\n",
       "       'https://reviews.webmd.com/drugs/drugreview-53733-hyazide-tablet',\n",
       "       'https://reviews.webmd.com/drugs/drugreview-53734-hydro-d-tablet',\n",
       "       'https://reviews.webmd.com/drugs/drugreview-53735-loqua-tablet',\n",
       "       'https://reviews.webmd.com/drugs/drugreview-53736-kenazide-h-tablet',\n",
       "       'https://reviews.webmd.com/drugs/drugreview-53737-m-zide-tablet',\n",
       "       'https://reviews.webmd.com/drugs/drugreview-53738-hydroaca-tablet',\n",
       "       'https://reviews.webmd.com/drugs/drugreview-53739-hyclar-tablet',\n",
       "       'https://reviews.webmd.com/drugs/drugreview-53740-tri-zide-tablet',\n",
       "       'https://reviews.webmd.com/drugs/drugreview-53741-hydromal-tablet',\n",
       "       'https://reviews.webmd.com/drugs/drugreview-53742-hydro-z-tablet',\n",
       "       'https://reviews.webmd.com/drugs/drugreview-53743-hydro-chlor-tablet',\n",
       "       'https://reviews.webmd.com/drugs/drugreview-53744-hydrozide-tablet',\n",
       "       'https://reviews.webmd.com/drugs/drugreview-53745-tenzide-tablet',\n",
       "       'https://reviews.webmd.com/drugs/drugreview-53746-aqua-cen-tablet',\n",
       "       'https://reviews.webmd.com/drugs/drugreview-53747-hydro-t-tablet',\n",
       "       'https://reviews.webmd.com/drugs/drugreview-53748-j-zide-tablet',\n",
       "       'https://reviews.webmd.com/drugs/drugreview-53749-loqua-tablet',\n",
       "       'https://reviews.webmd.com/drugs/drugreview-53750-diurazide-tablet',\n",
       "       'https://reviews.webmd.com/drugs/drugreview-53751-kenazide-h-tablet',\n",
       "       'https://reviews.webmd.com/drugs/drugreview-53752-kenazide-e-tablet',\n",
       "       'https://reviews.webmd.com/drugs/drugreview-53753-diaqua-tablet',\n",
       "       'https://reviews.webmd.com/drugs/drugreview-53754-aquamet-tablet',\n",
       "       'https://reviews.webmd.com/drugs/drugreview-53755-hyclar-tablet',\n",
       "       'https://reviews.webmd.com/drugs/drugreview-53756-hychlor-tablet',\n",
       "       'https://reviews.webmd.com/drugs/drugreview-53757-hydrozide-tablet',\n",
       "       'https://reviews.webmd.com/drugs/drugreview-53758-aquazide-h-tablet',\n",
       "       'https://reviews.webmd.com/drugs/drugreview-53759-hydroben-tablet',\n",
       "       'https://reviews.webmd.com/drugs/drugreview-53760-sonazide-tablet',\n",
       "       'https://reviews.webmd.com/drugs/drugreview-53761-diulo-tablet',\n",
       "       'https://reviews.webmd.com/drugs/drugreview-53768-aquazide-tablet',\n",
       "       'https://reviews.webmd.com/drugs/drugreview-53772-amiloride-hcl-w-hctz-tablet',\n",
       "       'https://reviews.webmd.com/drugs/drugreview-53773-spironolactone-w-hctz-tablet',\n",
       "       'https://reviews.webmd.com/drugs/drugreview-53774-aldarex-plus-tablet',\n",
       "       'https://reviews.webmd.com/drugs/drugreview-53775-spironazide-tablet',\n",
       "       'https://reviews.webmd.com/drugs/drugreview-53776-altexide-tablet',\n",
       "       'https://reviews.webmd.com/drugs/drugreview-53777-spirozide-tablet',\n",
       "       'https://reviews.webmd.com/drugs/drugreview-53778-decozide-tablet',\n",
       "       'https://reviews.webmd.com/drugs/drugreview-53779-spirochlor-tablet',\n",
       "       'https://reviews.webmd.com/drugs/drugreview-53780-hydrotone-tablet',\n",
       "       'https://reviews.webmd.com/drugs/drugreview-53781-triamterene-w-hctz-capsule',\n",
       "       'https://reviews.webmd.com/drugs/drugreview-53782-triamtazide-capsule',\n",
       "       'https://reviews.webmd.com/drugs/drugreview-53784-trimax-tablet',\n",
       "       'https://reviews.webmd.com/drugs/drugreview-5574-carvedilol',\n",
       "       'https://reviews.webmd.com/drugs/drugreview-5588-apresazide-capsule',\n",
       "       'https://reviews.webmd.com/drugs/drugreview-5591-zestoretic',\n",
       "       'https://reviews.webmd.com/drugs/drugreview-5734-saluron-tablet',\n",
       "       'https://reviews.webmd.com/drugs/drugreview-5891-amlodipine-besylate',\n",
       "       'https://reviews.webmd.com/drugs/drugreview-5942-norvasc',\n",
       "       'https://reviews.webmd.com/drugs/drugreview-5943-oretic-tablet',\n",
       "       'https://reviews.webmd.com/drugs/drugreview-6010-adalat-cc-tablet-er',\n",
       "       'https://reviews.webmd.com/drugs/drugreview-6036-fosinopril-sodium',\n",
       "       'https://reviews.webmd.com/drugs/drugreview-6254-quinapril-hcl',\n",
       "       'https://reviews.webmd.com/drugs/drugreview-6288-spironolactone',\n",
       "       'https://reviews.webmd.com/drugs/drugreview-6301-enalapril-maleate',\n",
       "       'https://reviews.webmd.com/drugs/drugreview-6301-enalapril-maleate-solution',\n",
       "       'https://reviews.webmd.com/drugs/drugreview-6305-chlorothiazide-suspension',\n",
       "       'https://reviews.webmd.com/drugs/drugreview-6314-diovan',\n",
       "       'https://reviews.webmd.com/drugs/drugreview-63172-olmesartan-medoxomil',\n",
       "       'https://reviews.webmd.com/drugs/drugreview-63173-benicar',\n",
       "       'https://reviews.webmd.com/drugs/drugreview-63953-diltiazem-er-capsule-degradable-capsule-degradable',\n",
       "       'https://reviews.webmd.com/drugs/drugreview-64014-terazosin-capsule',\n",
       "       'https://reviews.webmd.com/drugs/drugreview-64218-eplerenone',\n",
       "       'https://reviews.webmd.com/drugs/drugreview-64443-nifedipine-er-tablet',\n",
       "       'https://reviews.webmd.com/drugs/drugreview-64443-nifedipine-er-tablet-osmotic-push-tablet-push',\n",
       "       'https://reviews.webmd.com/drugs/drugreview-64639-eprosartan-hydrochlorothiazide-tablet',\n",
       "       'https://reviews.webmd.com/drugs/drugreview-64640-teveten-hct-tablet',\n",
       "       'https://reviews.webmd.com/drugs/drugreview-6468-ezide-tablet',\n",
       "       'https://reviews.webmd.com/drugs/drugreview-6559-edecrin',\n",
       "       'https://reviews.webmd.com/drugs/drugreview-6616-losartan-potassium',\n",
       "       'https://reviews.webmd.com/drugs/drugreview-6670-aldactazide',\n",
       "       'https://reviews.webmd.com/drugs/drugreview-6671-aldactone',\n",
       "       'https://reviews.webmd.com/drugs/drugreview-6672-aldomet-tablet',\n",
       "       'https://reviews.webmd.com/drugs/drugreview-6673-aldoril-15-tablet',\n",
       "       'https://reviews.webmd.com/drugs/drugreview-6680-apresoline-tablet',\n",
       "       'https://reviews.webmd.com/drugs/drugreview-6709-cardizem',\n",
       "       'https://reviews.webmd.com/drugs/drugreview-6712-cartrol-tablet',\n",
       "       'https://reviews.webmd.com/drugs/drugreview-6713-carteolol-tablet',\n",
       "       'https://reviews.webmd.com/drugs/drugreview-6714-catapres-tablet',\n",
       "       'https://reviews.webmd.com/drugs/drugreview-6715-catapres-tts-3-patch-weekly',\n",
       "       'https://reviews.webmd.com/drugs/drugreview-6716-clonidine-patch-weekly',\n",
       "       'https://reviews.webmd.com/drugs/drugreview-6729-combipres-1-tablet',\n",
       "       'https://reviews.webmd.com/drugs/drugreview-6762-diuril',\n",
       "       'https://reviews.webmd.com/drugs/drugreview-6831-hygroton-tablet',\n",
       "       'https://reviews.webmd.com/drugs/drugreview-6834-terazosin-hcl',\n",
       "       'https://reviews.webmd.com/drugs/drugreview-6835-hytrin-tablet',\n",
       "       'https://reviews.webmd.com/drugs/drugreview-6840-inderal-tablet',\n",
       "       'https://reviews.webmd.com/drugs/drugreview-6841-inderide-tablet',\n",
       "       'https://reviews.webmd.com/drugs/drugreview-6860-kerlone-tablet',\n",
       "       'https://reviews.webmd.com/drugs/drugreview-6861-betaxolol-hcl',\n",
       "       'https://reviews.webmd.com/drugs/drugreview-6873-lisinopril',\n",
       "       'https://reviews.webmd.com/drugs/drugreview-6873-lisinopril-solution',\n",
       "       'https://reviews.webmd.com/drugs/drugreview-6877-loniten-tablet',\n",
       "       'https://reviews.webmd.com/drugs/drugreview-6879-lopressor',\n",
       "       'https://reviews.webmd.com/drugs/drugreview-6883-lotensin',\n",
       "       'https://reviews.webmd.com/drugs/drugreview-6884-lozol-tablet',\n",
       "       'https://reviews.webmd.com/drugs/drugreview-6904-midamor-tablet',\n",
       "       'https://reviews.webmd.com/drugs/drugreview-6921-naturetin-tablet',\n",
       "       'https://reviews.webmd.com/drugs/drugreview-6922-bendroflumethiazide-tablet',\n",
       "       'https://reviews.webmd.com/drugs/drugreview-6993-prinivil',\n",
       "       'https://reviews.webmd.com/drugs/drugreview-7023-sectral-capsule',\n",
       "       'https://reviews.webmd.com/drugs/drugreview-7037-tenex-tablet',\n",
       "       'https://reviews.webmd.com/drugs/drugreview-7085-verelan',\n",
       "       'https://reviews.webmd.com/drugs/drugreview-7086-verapamil-er',\n",
       "       'https://reviews.webmd.com/drugs/drugreview-7086-verapamil-hcl',\n",
       "       'https://reviews.webmd.com/drugs/drugreview-7086-verapamil-sr',\n",
       "       'https://reviews.webmd.com/drugs/drugreview-7091-visken-tablet',\n",
       "       'https://reviews.webmd.com/drugs/drugreview-7094-wytensin-tablet',\n",
       "       'https://reviews.webmd.com/drugs/drugreview-7101-zestril',\n",
       "       'https://reviews.webmd.com/drugs/drugreview-7113-h-h-r-tablet',\n",
       "       'https://reviews.webmd.com/drugs/drugreview-7115-catapres-tts-2-patch-weekly',\n",
       "       'https://reviews.webmd.com/drugs/drugreview-7117-dyazide-capsule',\n",
       "       'https://reviews.webmd.com/drugs/drugreview-7119-tenoretic-100',\n",
       "       'https://reviews.webmd.com/drugs/drugreview-7120-vaseretic',\n",
       "       'https://reviews.webmd.com/drugs/drugreview-7123-corzide-tablet',\n",
       "       'https://reviews.webmd.com/drugs/drugreview-7124-inderide-la-capsule-er',\n",
       "       'https://reviews.webmd.com/drugs/drugreview-7144-hydrodiuril-tablet',\n",
       "       'https://reviews.webmd.com/drugs/drugreview-7194-diovan-hct',\n",
       "       'https://reviews.webmd.com/drugs/drugreview-7195-valsartan-hydrochlorothiazide',\n",
       "       'https://reviews.webmd.com/drugs/drugreview-7211-normodyne-tablet',\n",
       "       'https://reviews.webmd.com/drugs/drugreview-7212-labetalol-hcl',\n",
       "       'https://reviews.webmd.com/drugs/drugreview-7214-trandate-tablet',\n",
       "       'https://reviews.webmd.com/drugs/drugreview-7235-tiamate-tablet-er-24-hr',\n",
       "       'https://reviews.webmd.com/drugs/drugreview-7236-diltiazem-malate-tablet-er',\n",
       "       'https://reviews.webmd.com/drugs/drugreview-7243-plendil-tablet-er-24-hr',\n",
       "       'https://reviews.webmd.com/drugs/drugreview-7244-felodipine-er',\n",
       "       'https://reviews.webmd.com/drugs/drugreview-7376-maxzide',\n",
       "       'https://reviews.webmd.com/drugs/drugreview-7456-catapres-tts-1-patch-weekly',\n",
       "       'https://reviews.webmd.com/drugs/drugreview-74894-cardizem-la',\n",
       "       'https://reviews.webmd.com/drugs/drugreview-74923-amiloride-hcl-hctz-tablet',\n",
       "       'https://reviews.webmd.com/drugs/drugreview-74943-isoptin-s-r-tablet-er',\n",
       "       'https://reviews.webmd.com/drugs/drugreview-75025-innopran-xl',\n",
       "       'https://reviews.webmd.com/drugs/drugreview-75092-taztia-xt',\n",
       "       'https://reviews.webmd.com/drugs/drugreview-75213-afeditab-cr-tablet-er',\n",
       "       'https://reviews.webmd.com/drugs/drugreview-75511-triamterene-hctz-capsule',\n",
       "       'https://reviews.webmd.com/drugs/drugreview-7637-sodium-edecrin-vial',\n",
       "       'https://reviews.webmd.com/drugs/drugreview-7638-ethacrynate-sodium-vial',\n",
       "       'https://reviews.webmd.com/drugs/drugreview-76390-olmesartan-hydrochlorothiazide',\n",
       "       'https://reviews.webmd.com/drugs/drugreview-76391-benicar-hct',\n",
       "       'https://reviews.webmd.com/drugs/drugreview-77327-betachron-capsule-24-hr-capsule-er-hr',\n",
       "       'https://reviews.webmd.com/drugs/drugreview-7764-blocadren-tablet',\n",
       "       'https://reviews.webmd.com/drugs/drugreview-77809-inspra',\n",
       "       'https://reviews.webmd.com/drugs/drugreview-78139-nifediac-cc-tablet-er',\n",
       "       'https://reviews.webmd.com/drugs/drugreview-78636-amlodipine-atorvastatin',\n",
       "       'https://reviews.webmd.com/drugs/drugreview-7985-guanabenz-tablet',\n",
       "       'https://reviews.webmd.com/drugs/drugreview-8043-cardene-sr-capsule-er',\n",
       "       'https://reviews.webmd.com/drugs/drugreview-8044-nicardipine-hcl',\n",
       "       'https://reviews.webmd.com/drugs/drugreview-8070-timolide-tablet',\n",
       "       'https://reviews.webmd.com/drugs/drugreview-8148-rose-tablet',\n",
       "       'https://reviews.webmd.com/drugs/drugreview-8183-candesartan-cilexetil',\n",
       "       'https://reviews.webmd.com/drugs/drugreview-8340-methyclothiazide-tablet',\n",
       "       'https://reviews.webmd.com/drugs/drugreview-8427-hylorel-tablet',\n",
       "       'https://reviews.webmd.com/drugs/drugreview-8428-guanadrel-tablet',\n",
       "       'https://reviews.webmd.com/drugs/drugreview-8430-mykrox-tablet',\n",
       "       'https://reviews.webmd.com/drugs/drugreview-8431-metolazone',\n",
       "       'https://reviews.webmd.com/drugs/drugreview-8434-zaroxolyn-tablet',\n",
       "       'https://reviews.webmd.com/drugs/drugreview-849-valsartan',\n",
       "       'https://reviews.webmd.com/drugs/drugreview-8662-hydralazine-hcl',\n",
       "       'https://reviews.webmd.com/drugs/drugreview-8678-methyldopa',\n",
       "       'https://reviews.webmd.com/drugs/drugreview-8680-minoxidil',\n",
       "       'https://reviews.webmd.com/drugs/drugreview-8681-nifedipine',\n",
       "       'https://reviews.webmd.com/drugs/drugreview-8681-nifedipine-er',\n",
       "       'https://reviews.webmd.com/drugs/drugreview-8681-nifedipine-er-tablet',\n",
       "       'https://reviews.webmd.com/drugs/drugreview-8695-prazosin-hcl',\n",
       "       'https://reviews.webmd.com/drugs/drugreview-8703-reserpine-tablet',\n",
       "       'https://reviews.webmd.com/drugs/drugreview-8752-chlorothiazide-sodium-vial',\n",
       "       'https://reviews.webmd.com/drugs/drugreview-8778-ethacrynic-acid',\n",
       "       'https://reviews.webmd.com/drugs/drugreview-8798-labetalol-hcl-vial',\n",
       "       'https://reviews.webmd.com/drugs/drugreview-8814-metoprolol-succinate',\n",
       "       'https://reviews.webmd.com/drugs/drugreview-8814-metoprolol-succinate-capsule-sprinkle-er-24-hr-dose-pack-capsule-sprinkle-ext-rel-24hr-pack',\n",
       "       'https://reviews.webmd.com/drugs/drugreview-8843-ramipril',\n",
       "       'https://reviews.webmd.com/drugs/drugreview-8865-enalaprilat-vial',\n",
       "       'https://reviews.webmd.com/drugs/drugreview-88964-caduet',\n",
       "       'https://reviews.webmd.com/drugs/drugreview-89348-quinaretic-tablet',\n",
       "       'https://reviews.webmd.com/drugs/drugreview-8941-hydralazine-hcl-vial',\n",
       "       'https://reviews.webmd.com/drugs/drugreview-8982-altace',\n",
       "       'https://reviews.webmd.com/drugs/drugreview-9062-carozide-tablet',\n",
       "       'https://reviews.webmd.com/drugs/drugreview-9140-diucardin-tablet',\n",
       "       'https://reviews.webmd.com/drugs/drugreview-91420-apresoline-esidrix-tablet',\n",
       "       'https://reviews.webmd.com/drugs/drugreview-91422-hydralazide-tablet',\n",
       "       'https://reviews.webmd.com/drugs/drugreview-9152-dyrenium',\n",
       "       'https://reviews.webmd.com/drugs/drugreview-91539-apresodrex-tablet',\n",
       "       'https://reviews.webmd.com/drugs/drugreview-91540-apresodex-tablet',\n",
       "       'https://reviews.webmd.com/drugs/drugreview-91541-hy-es-tablet',\n",
       "       'https://reviews.webmd.com/drugs/drugreview-9160-enduron-tablet',\n",
       "       'https://reviews.webmd.com/drugs/drugreview-9169-esidrix-tablet',\n",
       "       'https://reviews.webmd.com/drugs/drugreview-9242-hydone-tablet',\n",
       "       'https://reviews.webmd.com/drugs/drugreview-9281-l-dopres-tablet',\n",
       "       'https://reviews.webmd.com/drugs/drugreview-9375-normodyne-solution',\n",
       "       'https://reviews.webmd.com/drugs/drugreview-9533-tenormin',\n",
       "       'https://reviews.webmd.com/drugs/drugreview-9548-toprol-xl',\n",
       "       'https://reviews.webmd.com/drugs/drugreview-9554-trandate-solution',\n",
       "       'https://reviews.webmd.com/drugs/drugreview-9613-zide-tablet',\n",
       "       'https://reviews.webmd.com/drugs/drugreview-964-captopril',\n",
       "       'https://reviews.webmd.com/drugs/drugreview-9683-vasotec-solution',\n",
       "       'https://reviews.webmd.com/drugs/drugreview-9798-zebeta-tablet',\n",
       "       'https://reviews.webmd.com/drugs/drugreview-9850-demadex-solution',\n",
       "       'https://reviews.webmd.com/drugs/drugreview-9997-nicardipine-hcl-vial'],\n",
       "      dtype='<U139')"
      ]
     },
     "execution_count": 1,
     "metadata": {},
     "output_type": "execute_result"
    }
   ],
   "source": [
    "# imports\n",
    "import requests\n",
    "import numpy as np\n",
    "import pandas as pd\n",
    "import regex as re\n",
    "import tqdm\n",
    "\n",
    "#Functions\n",
    "# regular expressions for parsing data from a single review\n",
    "# elements found in review-details div\n",
    "def regex_date(review):\n",
    "    '''Parses the date of the review in format dd/mm/yyyy'''\n",
    "    return re.findall(r'\\d+/\\d+/\\d+', review.find('div', class_='date').text)[0]\n",
    "\n",
    "def regex_condition(review):\n",
    "    '''Parses the condition for which the medication is used'''\n",
    "    condition_element = review.find('strong', class_='condition')\n",
    "    condition_listed = condition_element is not None\n",
    "    if condition_listed:\n",
    "        # TODO: be able to match ''\"Change of Life\" Signs' condition\n",
    "        condition_match = re.findall(r'(?<=Condition:\\s)\\w+(?:\\s\\w+)*', condition_element.text)\n",
    "    return condition_match[0] if (condition_listed and len(condition_match) > 0) else np.nan\n",
    "\n",
    "def regex_rating_overall(review):\n",
    "    '''Parses the overall rating, the average of 3 categories'''\n",
    "    rating_overall_line = review.find('div', class_='overall-rating').strong.text\n",
    "    return re.findall(r'\\d+.\\d+', rating_overall_line)\n",
    "\n",
    "def regex_rating_category(review, ind_cat):\n",
    "    '''Parses the rating for the category at index ind_cat in ['effectiveness', 'ease_of_use', 'satisfaction']'''\n",
    "    rating_categories = review.find('div', class_='categories').find_all('section')\n",
    "    div = rating_categories[ind_cat].find('div', class_='webmd-rate on-mobile')\n",
    "    return int(div.get('aria-valuenow'))\n",
    "\n",
    "def regex_text(review):\n",
    "    '''Parses the free response text review for the drug'''\n",
    "    text_line = review.find('p', class_='description-text')\n",
    "    return text_line.text if text_line is not None else np.nan\n",
    "# regular expressions for parsing data from a single review\n",
    "# elements found in details div\n",
    "def regex_age(details):\n",
    "    '''Parses the age of the medication user'''\n",
    "    age_match = re.findall(r'(?<=\\|\\s+)\\d+-\\d+', details)\n",
    "    return age_match[0] if len(age_match) > 0 else np.nan\n",
    "\n",
    "def regex_gender(details):\n",
    "    '''Parses the gender of the medication user'''\n",
    "    gender_match = re.findall(r'(?<=\\|\\s+)Male|Female', details)\n",
    "    return gender_match[0] if len(gender_match) > 0 else np.nan\n",
    "\n",
    "def regex_time(details):\n",
    "    '''Parses the duration of time on drug'''\n",
    "    time_match = re.findall(r'(?<=On\\smedication\\sfor\\s)\\w+(?:\\s\\w+)*', details)\n",
    "    return time_match[0] if len(time_match) > 0 else np.nan\n",
    "\n",
    "def regex_reviewer(details):\n",
    "    '''Parses the type of reviewer'''\n",
    "    reviewer_match = re.findall(r'(?<=\\|\\s+)\\w+(?:\\s\\w+)*(?=\\s*$)', details)\n",
    "    return reviewer_match[0] if len(reviewer_match) > 0 else np.nan\n",
    "# parse the reviews on a single webpage\n",
    "def parse_reviews_page(soup, reviews_df):\n",
    "    '''Populates reviews_df data frame with records from 1 page's reviews\n",
    "    \n",
    "    Parameters:\n",
    "    reviews_html (str): HTML for the webpage extracted using BeautifulSoup\n",
    "    drug_name (str): the name of the drug being reviewed\n",
    "    reviews_df (pd.DataFrame): dataframe with one row per review\n",
    "    \n",
    "    Returns:\n",
    "    pd.DataFrame: reviews_df dataframe with new records appended\n",
    "    \n",
    "    '''\n",
    "    reviews_html = soup.find_all('div', class_='review-details') # get elements that hold each review\n",
    "    drug_name = re.findall(r'(.*)(?=\\sReviews)', soup.title.text)[0] # page title is drug name\n",
    "    \n",
    "    # loop over reviews from a single page\n",
    "    for i, review in enumerate(reviews_html):\n",
    "        to_append = pd.DataFrame([pd.Series([None]*len(cols), index=cols)])\n",
    "        \n",
    "        details = review.find('div', class_='details').text\n",
    "\n",
    "        to_append['drug_name'] = drug_name\n",
    "        to_append['date'] = regex_date(review)\n",
    "        to_append['age'] = regex_age(details)\n",
    "        to_append['gender'] = regex_gender(details)\n",
    "        to_append['time_on_drug'] = regex_time(details)\n",
    "        to_append['reviewer_type'] = regex_reviewer(details)\n",
    "        to_append['condition'] = regex_condition(review)\n",
    "        to_append['rating_overall'] = regex_rating_overall(review)\n",
    "        \n",
    "        for ind_cat, cat in enumerate(['effectiveness', 'ease_of_use', 'satisfaction']):\n",
    "            to_append[f'rating_{cat}'] = regex_rating_category(review, ind_cat)\n",
    "    \n",
    "        to_append['text'] = regex_text(review)\n",
    "        reviews_df = pd.concat([reviews_df, to_append], ignore_index=True)\n",
    "        \n",
    "    return reviews_df\n",
    "def get_soup(review_url, page):\n",
    "    curr_url = review_url + f'&page={page}'\n",
    "    response = requests.get(curr_url, headers=headers).content\n",
    "    return BeautifulSoup(response, 'lxml')\n",
    "# crawl over the review pages for one drug\n",
    "from tqdm import tqdm # progress bar\n",
    "\n",
    "def crawl_reviews_pages(review_url, reviews_df):\n",
    "    '''Crawls a drug's reviews page-by-page, saving each page's reviews into reviews_df\n",
    "    \n",
    "    Parameters:\n",
    "    reviews_df (pd.DataFrame): dataframe with one row per review\n",
    "    \n",
    "    Returns:\n",
    "    pd.DataFrame: reviews_df dataframe with new records appended\n",
    "    \n",
    "    '''\n",
    "    # find how many review pages there are total for the drug by parsing it from the first page\n",
    "    soup = get_soup(review_url, 1)\n",
    "    pages = soup.find('ul', class_='pagination')\n",
    "    \n",
    "    # proceed only if there is at least 1 review\n",
    "    if pages is not None:\n",
    "        last_page = int(pages.find_all('li', class_='page-item')[-1].text.strip())\n",
    "\n",
    "        for i in tqdm(range(1, last_page+1)):\n",
    "            soup = get_soup(review_url, 1)\n",
    "            reviews_df = parse_reviews_page(soup, reviews_df)\n",
    "\n",
    "    return reviews_df\n",
    "#Scrape Drugs by Condition from WebMD Search\n",
    "# need to spoof a browser in order to not get blocked when making request\n",
    "# https://bar.rady.ucsd.edu/Web_Scraping.html\n",
    "from bs4 import BeautifulSoup\n",
    "\n",
    "headers = requests.utils.default_headers()\n",
    "agent = 'Mozilla/5.0 (X11; Ubuntu; Linux x86_64; rv:52.0) Gecko/20100101 Firefox/52.0'\n",
    "headers.update({\n",
    "    'User-Agent': agent,\n",
    "})\n",
    "# make empty data frame to contain values and full text from each review\n",
    "cols = ['drug_name',\n",
    "       'date',\n",
    "       'age',\n",
    "       'gender',\n",
    "       'time_on_drug',\n",
    "       'reviewer_type',\n",
    "       'condition',\n",
    "       'rating_overall',\n",
    "       'rating_effectiveness',\n",
    "       'rating_ease_of_use',\n",
    "       'rating_satisfaction',\n",
    "       'text']\n",
    "\n",
    "reviews_df = pd.DataFrame(columns=cols, index=[])\n",
    "# # list of depression drugs from WebMD\n",
    "# url = 'https://www.webmd.com/depression/depression-medications-antidepressants'\n",
    "# response = requests.get(url, headers=headers).content\n",
    "# soup = BeautifulSoup(response, 'lxml')\n",
    "# drugs_section = soup.find('div', class_='article-page active-page')\n",
    "# use WebMD's search to find drugs by illness\n",
    "review_urls = []\n",
    "\n",
    "conditions = {'hypertension':'https://www.webmd.com/drugs/2/condition-1432/hypertension'\n",
    "              }\n",
    "\n",
    "for url in conditions.values():\n",
    "    response = requests.get(url, headers=headers).content\n",
    "    soup = BeautifulSoup(response, 'lxml')\n",
    "    drugs_section = soup.find('div', class_='medication-results-list')\n",
    "\n",
    "    for drug_review_element in drugs_section.find_all('span', class_='reviews-url'):\n",
    "        review_urls.append(drug_review_element.a.get('href'))\n",
    "\n",
    "# because there is a lot of overlap in medications between conditions, get unique values\n",
    "review_urls = np.unique(review_urls)\n",
    "review_urls"
   ]
  },
  {
   "cell_type": "code",
   "execution_count": 2,
   "metadata": {},
   "outputs": [
    {
     "name": "stderr",
     "output_type": "stream",
     "text": [
      "  0%|          | 0/499 [00:00<?, ?it/s]"
     ]
    },
    {
     "name": "stdout",
     "output_type": "stream",
     "text": [
      "https://reviews.webmd.com/drugs/drugreview-10326-triamterene\n"
     ]
    },
    {
     "name": "stderr",
     "output_type": "stream",
     "text": [
      "100%|██████████| 6/6 [00:10<00:00,  1.78s/it]\n",
      "  0%|          | 1/499 [00:13<1:54:41, 13.82s/it]"
     ]
    },
    {
     "name": "stdout",
     "output_type": "stream",
     "text": [
      "https://reviews.webmd.com/drugs/drugreview-10404-propranolol-capsule-24-hr-capsule-er-hr\n"
     ]
    },
    {
     "name": "stderr",
     "output_type": "stream",
     "text": [
      "100%|██████████| 21/21 [00:39<00:00,  1.90s/it]\n",
      "  0%|          | 2/499 [00:56<4:17:00, 31.03s/it]"
     ]
    },
    {
     "name": "stdout",
     "output_type": "stream",
     "text": [
      "https://reviews.webmd.com/drugs/drugreview-10404-propranolol-hcl\n"
     ]
    },
    {
     "name": "stderr",
     "output_type": "stream",
     "text": [
      "100%|██████████| 21/21 [00:39<00:00,  1.86s/it]\n",
      "  1%|          | 3/499 [01:39<4:58:40, 36.13s/it]"
     ]
    },
    {
     "name": "stdout",
     "output_type": "stream",
     "text": [
      "https://reviews.webmd.com/drugs/drugreview-10404-propranolol-hcl-er\n"
     ]
    },
    {
     "name": "stderr",
     "output_type": "stream",
     "text": [
      "100%|██████████| 21/21 [00:39<00:00,  1.88s/it]\n",
      "  1%|          | 4/499 [02:22<5:21:29, 38.97s/it]"
     ]
    },
    {
     "name": "stdout",
     "output_type": "stream",
     "text": [
      "https://reviews.webmd.com/drugs/drugreview-10404-propranolol-solution\n"
     ]
    },
    {
     "name": "stderr",
     "output_type": "stream",
     "text": [
      "100%|██████████| 21/21 [00:39<00:00,  1.88s/it]\n",
      "  1%|          | 5/499 [03:05<5:32:16, 40.36s/it]"
     ]
    },
    {
     "name": "stdout",
     "output_type": "stream",
     "text": [
      "https://reviews.webmd.com/drugs/drugreview-10461-pronol-tablet\n"
     ]
    },
    {
     "name": "stderr",
     "output_type": "stream",
     "text": [
      "  1%|          | 6/499 [03:07<3:46:19, 27.54s/it]"
     ]
    },
    {
     "name": "stdout",
     "output_type": "stream",
     "text": [
      "https://reviews.webmd.com/drugs/drugreview-10482-calan-tablet\n"
     ]
    },
    {
     "name": "stderr",
     "output_type": "stream",
     "text": [
      "100%|██████████| 1/1 [00:01<00:00,  1.61s/it]\n",
      "  2%|▏         | 8/499 [03:14<1:56:09, 14.20s/it]"
     ]
    },
    {
     "name": "stdout",
     "output_type": "stream",
     "text": [
      "skipping https://reviews.webmd.com/drugs/drugreview-10671-guanethidine-tablet: page not found\n",
      "https://reviews.webmd.com/drugs/drugreview-11035-atenolol\n"
     ]
    },
    {
     "name": "stderr",
     "output_type": "stream",
     "text": [
      "100%|██████████| 64/64 [02:05<00:00,  1.97s/it]\n",
      "  2%|▏         | 10/499 [05:25<4:48:18, 35.38s/it]"
     ]
    },
    {
     "name": "stdout",
     "output_type": "stream",
     "text": [
      "skipping https://reviews.webmd.com/drugs/drugreview-11063-methyldopate-hcl-vial: page not found\n"
     ]
    },
    {
     "name": "stderr",
     "output_type": "stream",
     "text": [
      "  2%|▏         | 11/499 [05:27<3:24:13, 25.11s/it]"
     ]
    },
    {
     "name": "stdout",
     "output_type": "stream",
     "text": [
      "skipping https://reviews.webmd.com/drugs/drugreview-11086-ismelin-tablet: page not found\n",
      "https://reviews.webmd.com/drugs/drugreview-11125-procardia-xl\n"
     ]
    },
    {
     "name": "stderr",
     "output_type": "stream",
     "text": [
      "100%|██████████| 3/3 [00:05<00:00,  1.98s/it]\n",
      "  2%|▏         | 12/499 [05:37<2:45:26, 20.38s/it]"
     ]
    },
    {
     "name": "stdout",
     "output_type": "stream",
     "text": [
      "https://reviews.webmd.com/drugs/drugreview-11207-metoprolol-tartrate\n"
     ]
    },
    {
     "name": "stderr",
     "output_type": "stream",
     "text": [
      "100%|██████████| 31/31 [01:00<00:00,  1.94s/it]\n",
      "  3%|▎         | 13/499 [06:40<4:30:47, 33.43s/it]"
     ]
    },
    {
     "name": "stdout",
     "output_type": "stream",
     "text": [
      "https://reviews.webmd.com/drugs/drugreview-11247-perindopril-erbumine\n"
     ]
    },
    {
     "name": "stderr",
     "output_type": "stream",
     "text": [
      "100%|██████████| 2/2 [00:03<00:00,  1.93s/it]\n",
      "  3%|▎         | 14/499 [06:48<3:26:40, 25.57s/it]"
     ]
    },
    {
     "name": "stdout",
     "output_type": "stream",
     "text": [
      "https://reviews.webmd.com/drugs/drugreview-11441-univasc-tablet\n"
     ]
    },
    {
     "name": "stderr",
     "output_type": "stream",
     "text": [
      "100%|██████████| 1/1 [00:01<00:00,  1.50s/it]\n",
      "  3%|▎         | 15/499 [06:52<2:35:15, 19.25s/it]"
     ]
    },
    {
     "name": "stdout",
     "output_type": "stream",
     "text": [
      "https://reviews.webmd.com/drugs/drugreview-11442-moexipril-hcl\n"
     ]
    },
    {
     "name": "stderr",
     "output_type": "stream",
     "text": [
      "100%|██████████| 1/1 [00:01<00:00,  1.71s/it]\n",
      "  3%|▎         | 16/499 [06:57<1:59:27, 14.84s/it]"
     ]
    },
    {
     "name": "stdout",
     "output_type": "stream",
     "text": [
      "https://reviews.webmd.com/drugs/drugreview-11481-amiloride-hcl\n"
     ]
    },
    {
     "name": "stderr",
     "output_type": "stream",
     "text": [
      "100%|██████████| 1/1 [00:01<00:00,  1.54s/it]\n",
      "  3%|▎         | 17/499 [07:02<1:35:11, 11.85s/it]"
     ]
    },
    {
     "name": "stdout",
     "output_type": "stream",
     "text": [
      "https://reviews.webmd.com/drugs/drugreview-11524-amlodipine-besylate-benazepril\n"
     ]
    },
    {
     "name": "stderr",
     "output_type": "stream",
     "text": [
      "100%|██████████| 8/8 [00:14<00:00,  1.86s/it]\n",
      "  4%|▎         | 18/499 [07:20<1:51:20, 13.89s/it]"
     ]
    },
    {
     "name": "stdout",
     "output_type": "stream",
     "text": [
      "https://reviews.webmd.com/drugs/drugreview-11528-cozaar\n"
     ]
    },
    {
     "name": "stderr",
     "output_type": "stream",
     "text": [
      "100%|██████████| 21/21 [00:37<00:00,  1.80s/it]\n",
      "  4%|▍         | 19/499 [08:02<2:57:50, 22.23s/it]"
     ]
    },
    {
     "name": "stdout",
     "output_type": "stream",
     "text": [
      "https://reviews.webmd.com/drugs/drugreview-11578-propranolol-hcl-cr-capsule-er\n"
     ]
    },
    {
     "name": "stderr",
     "output_type": "stream",
     "text": [
      "  4%|▍         | 20/499 [08:05<2:11:52, 16.52s/it]"
     ]
    },
    {
     "name": "stdout",
     "output_type": "stream",
     "text": [
      "https://reviews.webmd.com/drugs/drugreview-11754-clonidine-hcl\n"
     ]
    },
    {
     "name": "stderr",
     "output_type": "stream",
     "text": [
      "100%|██████████| 23/23 [00:42<00:00,  1.85s/it]\n",
      "  4%|▍         | 21/499 [08:51<3:22:29, 25.42s/it]"
     ]
    },
    {
     "name": "stdout",
     "output_type": "stream",
     "text": [
      "https://reviews.webmd.com/drugs/drugreview-11754-clonidine-hcl-er\n"
     ]
    },
    {
     "name": "stderr",
     "output_type": "stream",
     "text": [
      "100%|██████████| 23/23 [00:43<00:00,  1.89s/it]\n",
      "  4%|▍         | 22/499 [09:39<4:13:45, 31.92s/it]"
     ]
    },
    {
     "name": "stdout",
     "output_type": "stream",
     "text": [
      "https://reviews.webmd.com/drugs/drugreview-11754-clonidine-hcl-er-tablet-24-hr\n"
     ]
    },
    {
     "name": "stderr",
     "output_type": "stream",
     "text": [
      "100%|██████████| 23/23 [00:44<00:00,  1.95s/it]\n",
      "  5%|▍         | 23/499 [10:27<4:52:28, 36.87s/it]"
     ]
    },
    {
     "name": "stdout",
     "output_type": "stream",
     "text": [
      "https://reviews.webmd.com/drugs/drugreview-11755-nadolol\n"
     ]
    },
    {
     "name": "stderr",
     "output_type": "stream",
     "text": [
      "100%|██████████| 3/3 [00:06<00:00,  2.24s/it]\n",
      "  5%|▍         | 24/499 [10:37<3:47:34, 28.75s/it]"
     ]
    },
    {
     "name": "stdout",
     "output_type": "stream",
     "text": [
      "https://reviews.webmd.com/drugs/drugreview-12067-nisoldipine\n"
     ]
    },
    {
     "name": "stderr",
     "output_type": "stream",
     "text": [
      "100%|██████████| 1/1 [00:01<00:00,  1.83s/it]\n",
      "  5%|▌         | 25/499 [10:42<2:50:47, 21.62s/it]"
     ]
    },
    {
     "name": "stdout",
     "output_type": "stream",
     "text": [
      "https://reviews.webmd.com/drugs/drugreview-12067-nisoldipine-tablet-er-24-hr\n"
     ]
    },
    {
     "name": "stderr",
     "output_type": "stream",
     "text": [
      "100%|██████████| 1/1 [00:01<00:00,  1.90s/it]\n",
      "  5%|▌         | 26/499 [10:47<2:10:47, 16.59s/it]"
     ]
    },
    {
     "name": "stdout",
     "output_type": "stream",
     "text": [
      "https://reviews.webmd.com/drugs/drugreview-12134-sular\n"
     ]
    },
    {
     "name": "stderr",
     "output_type": "stream",
     "text": [
      "100%|██████████| 2/2 [00:03<00:00,  1.87s/it]\n",
      "  5%|▌         | 27/499 [10:54<1:48:23, 13.78s/it]"
     ]
    },
    {
     "name": "stdout",
     "output_type": "stream",
     "text": [
      "https://reviews.webmd.com/drugs/drugreview-12134-sular-tablet-er-24-hr\n"
     ]
    },
    {
     "name": "stderr",
     "output_type": "stream",
     "text": [
      "100%|██████████| 2/2 [00:03<00:00,  1.89s/it]\n",
      "  6%|▌         | 28/499 [11:01<1:33:01, 11.85s/it]"
     ]
    },
    {
     "name": "stdout",
     "output_type": "stream",
     "text": [
      "https://reviews.webmd.com/drugs/drugreview-12360-indapamide\n"
     ]
    },
    {
     "name": "stderr",
     "output_type": "stream",
     "text": [
      "100%|██████████| 2/2 [00:03<00:00,  1.96s/it]\n",
      "  6%|▌         | 29/499 [11:09<1:22:35, 10.54s/it]"
     ]
    },
    {
     "name": "stdout",
     "output_type": "stream",
     "text": [
      "https://reviews.webmd.com/drugs/drugreview-12430-trandolapril\n"
     ]
    },
    {
     "name": "stderr",
     "output_type": "stream",
     "text": [
      "100%|██████████| 1/1 [00:01<00:00,  1.88s/it]\n",
      "  6%|▌         | 30/499 [11:13<1:08:40,  8.79s/it]"
     ]
    },
    {
     "name": "stdout",
     "output_type": "stream",
     "text": [
      "https://reviews.webmd.com/drugs/drugreview-12566-mavik-tablet\n"
     ]
    },
    {
     "name": "stderr",
     "output_type": "stream",
     "text": [
      "100%|██████████| 2/2 [00:03<00:00,  1.81s/it]\n",
      "  6%|▌         | 31/499 [11:20<1:04:00,  8.21s/it]"
     ]
    },
    {
     "name": "stdout",
     "output_type": "stream",
     "text": [
      "https://reviews.webmd.com/drugs/drugreview-134-senormin-tablet\n"
     ]
    },
    {
     "name": "stderr",
     "output_type": "stream",
     "text": [
      "  7%|▋         | 33/499 [11:25<40:32,  5.22s/it]  "
     ]
    },
    {
     "name": "stdout",
     "output_type": "stream",
     "text": [
      "skipping https://reviews.webmd.com/drugs/drugreview-13774-covera-hs-tablet-er-24-hr: page not found\n",
      "https://reviews.webmd.com/drugs/drugreview-14061-cardene-capsule\n"
     ]
    },
    {
     "name": "stderr",
     "output_type": "stream",
     "text": [
      "  7%|▋         | 34/499 [11:28<35:57,  4.64s/it]"
     ]
    },
    {
     "name": "stdout",
     "output_type": "stream",
     "text": [
      "https://reviews.webmd.com/drugs/drugreview-14206-bisoprolol-fumarate\n"
     ]
    },
    {
     "name": "stderr",
     "output_type": "stream",
     "text": [
      "100%|██████████| 5/5 [00:10<00:00,  2.11s/it]\n",
      "  7%|▋         | 36/499 [11:44<44:13,  5.73s/it]"
     ]
    },
    {
     "name": "stdout",
     "output_type": "stream",
     "text": [
      "skipping https://reviews.webmd.com/drugs/drugreview-14207-torsemide-solution: page not found\n",
      "https://reviews.webmd.com/drugs/drugreview-14219-thsc-hydrochlorothiazide-tablet\n"
     ]
    },
    {
     "name": "stderr",
     "output_type": "stream",
     "text": [
      "  7%|▋         | 37/499 [11:47<37:35,  4.88s/it]"
     ]
    },
    {
     "name": "stdout",
     "output_type": "stream",
     "text": [
      "https://reviews.webmd.com/drugs/drugreview-14222-thsc-atenolol-tablet\n"
     ]
    },
    {
     "name": "stderr",
     "output_type": "stream",
     "text": [
      "  8%|▊         | 38/499 [11:50<33:14,  4.33s/it]"
     ]
    },
    {
     "name": "stdout",
     "output_type": "stream",
     "text": [
      "https://reviews.webmd.com/drugs/drugreview-14225-thsc-propranolol-hcl-tablet\n"
     ]
    },
    {
     "name": "stderr",
     "output_type": "stream",
     "text": [
      "  8%|▊         | 39/499 [11:53<29:45,  3.88s/it]"
     ]
    },
    {
     "name": "stdout",
     "output_type": "stream",
     "text": [
      "https://reviews.webmd.com/drugs/drugreview-14230-thsc-nifedipine-cr-tablet-er\n"
     ]
    },
    {
     "name": "stderr",
     "output_type": "stream",
     "text": [
      "  8%|▊         | 40/499 [11:57<30:13,  3.95s/it]"
     ]
    },
    {
     "name": "stdout",
     "output_type": "stream",
     "text": [
      "https://reviews.webmd.com/drugs/drugreview-14233-thsc-furosemide-tablet\n"
     ]
    },
    {
     "name": "stderr",
     "output_type": "stream",
     "text": [
      "  8%|▊         | 41/499 [12:00<27:33,  3.61s/it]"
     ]
    },
    {
     "name": "stdout",
     "output_type": "stream",
     "text": [
      "https://reviews.webmd.com/drugs/drugreview-14239-thsc-verapamil-hcl-cr-tablet-er\n"
     ]
    },
    {
     "name": "stderr",
     "output_type": "stream",
     "text": [
      "  8%|▊         | 42/499 [12:03<26:24,  3.47s/it]"
     ]
    },
    {
     "name": "stdout",
     "output_type": "stream",
     "text": [
      "https://reviews.webmd.com/drugs/drugreview-14240-thsc-lisinopril-tablet\n"
     ]
    },
    {
     "name": "stderr",
     "output_type": "stream",
     "text": [
      "  9%|▊         | 43/499 [12:06<25:17,  3.33s/it]"
     ]
    },
    {
     "name": "stdout",
     "output_type": "stream",
     "text": [
      "https://reviews.webmd.com/drugs/drugreview-14244-thsc-captopril-tablet\n"
     ]
    },
    {
     "name": "stderr",
     "output_type": "stream",
     "text": [
      "  9%|▉         | 44/499 [12:09<24:49,  3.27s/it]"
     ]
    },
    {
     "name": "stdout",
     "output_type": "stream",
     "text": [
      "https://reviews.webmd.com/drugs/drugreview-14251-thsc-metoprolol-tartrate-tablet\n"
     ]
    },
    {
     "name": "stderr",
     "output_type": "stream",
     "text": [
      "  9%|▉         | 45/499 [12:12<23:49,  3.15s/it]"
     ]
    },
    {
     "name": "stdout",
     "output_type": "stream",
     "text": [
      "https://reviews.webmd.com/drugs/drugreview-14338-trandolapril-verapamil-er\n"
     ]
    },
    {
     "name": "stderr",
     "output_type": "stream",
     "text": [
      "100%|██████████| 1/1 [00:01<00:00,  1.75s/it]\n",
      "  9%|▉         | 46/499 [12:17<27:55,  3.70s/it]"
     ]
    },
    {
     "name": "stdout",
     "output_type": "stream",
     "text": [
      "https://reviews.webmd.com/drugs/drugreview-14386-pindolol\n"
     ]
    },
    {
     "name": "stderr",
     "output_type": "stream",
     "text": [
      "100%|██████████| 1/1 [00:02<00:00,  2.14s/it]\n",
      "  9%|▉         | 47/499 [12:22<31:53,  4.23s/it]"
     ]
    },
    {
     "name": "stdout",
     "output_type": "stream",
     "text": [
      "https://reviews.webmd.com/drugs/drugreview-14575-bumetanide\n"
     ]
    },
    {
     "name": "stderr",
     "output_type": "stream",
     "text": [
      "100%|██████████| 2/2 [00:03<00:00,  1.97s/it]\n",
      " 10%|▉         | 48/499 [12:30<39:09,  5.21s/it]"
     ]
    },
    {
     "name": "stdout",
     "output_type": "stream",
     "text": [
      "https://reviews.webmd.com/drugs/drugreview-14592-propranolol-hcl-intensol-drops\n"
     ]
    },
    {
     "name": "stderr",
     "output_type": "stream",
     "text": [
      " 10%|▉         | 49/499 [12:34<35:53,  4.79s/it]"
     ]
    },
    {
     "name": "stdout",
     "output_type": "stream",
     "text": [
      "https://reviews.webmd.com/drugs/drugreview-14634-microzide-capsule\n"
     ]
    },
    {
     "name": "stderr",
     "output_type": "stream",
     "text": [
      "100%|██████████| 2/2 [00:03<00:00,  1.80s/it]\n",
      " 10%|█         | 51/499 [12:42<32:35,  4.36s/it]"
     ]
    },
    {
     "name": "stdout",
     "output_type": "stream",
     "text": [
      "skipping https://reviews.webmd.com/drugs/drugreview-14750-enalapril-maleate-felodipine-tablet-er: page not found\n",
      "https://reviews.webmd.com/drugs/drugreview-147671-aliskiren\n"
     ]
    },
    {
     "name": "stderr",
     "output_type": "stream",
     "text": [
      "100%|██████████| 1/1 [00:01<00:00,  1.73s/it]\n",
      " 10%|█         | 52/499 [12:47<32:57,  4.42s/it]"
     ]
    },
    {
     "name": "stdout",
     "output_type": "stream",
     "text": [
      "https://reviews.webmd.com/drugs/drugreview-147683-tekturna\n"
     ]
    },
    {
     "name": "stderr",
     "output_type": "stream",
     "text": [
      "100%|██████████| 9/9 [00:16<00:00,  1.87s/it]\n",
      " 11%|█         | 54/499 [13:09<50:57,  6.87s/it]  "
     ]
    },
    {
     "name": "stdout",
     "output_type": "stream",
     "text": [
      "skipping https://reviews.webmd.com/drugs/drugreview-14797-cam-ap-es-tablet: page not found\n"
     ]
    },
    {
     "name": "stderr",
     "output_type": "stream",
     "text": [
      " 11%|█         | 55/499 [13:10<39:28,  5.33s/it]"
     ]
    },
    {
     "name": "stdout",
     "output_type": "stream",
     "text": [
      "skipping https://reviews.webmd.com/drugs/drugreview-14851-hydrap-es-tablet: page not found\n",
      "https://reviews.webmd.com/drugs/drugreview-148561-amlodipine-valsartan\n"
     ]
    },
    {
     "name": "stderr",
     "output_type": "stream",
     "text": [
      "100%|██████████| 1/1 [00:02<00:00,  2.21s/it]\n",
      " 11%|█         | 56/499 [13:16<39:36,  5.36s/it]"
     ]
    },
    {
     "name": "stdout",
     "output_type": "stream",
     "text": [
      "https://reviews.webmd.com/drugs/drugreview-148564-exforge\n"
     ]
    },
    {
     "name": "stderr",
     "output_type": "stream",
     "text": [
      "100%|██████████| 13/13 [00:24<00:00,  1.92s/it]\n",
      " 11%|█▏        | 57/499 [13:45<1:31:27, 12.41s/it]"
     ]
    },
    {
     "name": "stdout",
     "output_type": "stream",
     "text": [
      "https://reviews.webmd.com/drugs/drugreview-148915-naldol-tablet\n"
     ]
    },
    {
     "name": "stderr",
     "output_type": "stream",
     "text": [
      "100%|██████████| 1/1 [00:01<00:00,  1.59s/it]\n",
      " 12%|█▏        | 59/499 [13:51<55:27,  7.56s/it]  "
     ]
    },
    {
     "name": "stdout",
     "output_type": "stream",
     "text": [
      "skipping https://reviews.webmd.com/drugs/drugreview-14916-serpazide-tablet: page not found\n",
      "https://reviews.webmd.com/drugs/drugreview-149214-amlodipine-olmesartan\n"
     ]
    },
    {
     "name": "stderr",
     "output_type": "stream",
     "text": [
      "100%|██████████| 1/1 [00:01<00:00,  1.51s/it]\n",
      " 12%|█▏        | 60/499 [13:55<48:22,  6.61s/it]"
     ]
    },
    {
     "name": "stdout",
     "output_type": "stream",
     "text": [
      "https://reviews.webmd.com/drugs/drugreview-149217-azor\n"
     ]
    },
    {
     "name": "stderr",
     "output_type": "stream",
     "text": [
      "100%|██████████| 16/16 [00:29<00:00,  1.85s/it]\n",
      " 12%|█▏        | 61/499 [14:28<1:46:10, 14.54s/it]"
     ]
    },
    {
     "name": "stdout",
     "output_type": "stream",
     "text": [
      "https://reviews.webmd.com/drugs/drugreview-1494-cardizem-cd\n"
     ]
    },
    {
     "name": "stderr",
     "output_type": "stream",
     "text": [
      "100%|██████████| 4/4 [00:08<00:00,  2.03s/it]\n",
      " 13%|█▎        | 63/499 [14:41<1:12:57, 10.04s/it]"
     ]
    },
    {
     "name": "stdout",
     "output_type": "stream",
     "text": [
      "skipping https://reviews.webmd.com/drugs/drugreview-14942-uni-serp-tablet: page not found\n",
      "https://reviews.webmd.com/drugs/drugreview-1495-dilacor-xr-capsule-er\n"
     ]
    },
    {
     "name": "stderr",
     "output_type": "stream",
     "text": [
      "100%|██████████| 1/1 [00:01<00:00,  1.84s/it]\n",
      " 13%|█▎        | 65/499 [14:49<48:00,  6.64s/it]  "
     ]
    },
    {
     "name": "stdout",
     "output_type": "stream",
     "text": [
      "skipping https://reviews.webmd.com/drugs/drugreview-14968-3h-w-r-tablet: page not found\n"
     ]
    },
    {
     "name": "stderr",
     "output_type": "stream",
     "text": [
      " 13%|█▎        | 66/499 [14:51<37:14,  5.16s/it]"
     ]
    },
    {
     "name": "stdout",
     "output_type": "stream",
     "text": [
      "skipping https://reviews.webmd.com/drugs/drugreview-14977-hyserp-tablet: page not found\n",
      "https://reviews.webmd.com/drugs/drugreview-149866-nebivolol-hcl\n"
     ]
    },
    {
     "name": "stderr",
     "output_type": "stream",
     "text": [
      "100%|██████████| 2/2 [00:03<00:00,  1.97s/it]\n",
      " 13%|█▎        | 67/499 [14:58<42:39,  5.92s/it]"
     ]
    },
    {
     "name": "stdout",
     "output_type": "stream",
     "text": [
      "https://reviews.webmd.com/drugs/drugreview-149883-bystolic\n"
     ]
    },
    {
     "name": "stderr",
     "output_type": "stream",
     "text": [
      "100%|██████████| 45/45 [01:29<00:00,  1.99s/it]\n",
      " 14%|█▎        | 68/499 [16:32<3:51:34, 32.24s/it]"
     ]
    },
    {
     "name": "stdout",
     "output_type": "stream",
     "text": [
      "https://reviews.webmd.com/drugs/drugreview-149962-aliskiren-hydrochlorothiazide-tablet\n"
     ]
    },
    {
     "name": "stderr",
     "output_type": "stream",
     "text": [
      " 14%|█▍        | 69/499 [16:35<2:47:46, 23.41s/it]"
     ]
    },
    {
     "name": "stdout",
     "output_type": "stream",
     "text": [
      "https://reviews.webmd.com/drugs/drugreview-149976-tekturna-hct\n"
     ]
    },
    {
     "name": "stderr",
     "output_type": "stream",
     "text": [
      "100%|██████████| 3/3 [00:06<00:00,  2.06s/it]\n",
      " 14%|█▍        | 70/499 [16:44<2:17:36, 19.25s/it]"
     ]
    },
    {
     "name": "stdout",
     "output_type": "stream",
     "text": [
      "https://reviews.webmd.com/drugs/drugreview-1504-tiazac\n"
     ]
    },
    {
     "name": "stderr",
     "output_type": "stream",
     "text": [
      "100%|██████████| 2/2 [00:03<00:00,  1.61s/it]\n",
      " 14%|█▍        | 72/499 [16:53<1:21:21, 11.43s/it]"
     ]
    },
    {
     "name": "stdout",
     "output_type": "stream",
     "text": [
      "skipping https://reviews.webmd.com/drugs/drugreview-151180-clevidipine-emulsion: page not found\n"
     ]
    },
    {
     "name": "stderr",
     "output_type": "stream",
     "text": [
      " 15%|█▍        | 73/499 [16:56<1:02:26,  8.80s/it]"
     ]
    },
    {
     "name": "stdout",
     "output_type": "stream",
     "text": [
      "skipping https://reviews.webmd.com/drugs/drugreview-151192-cleviprex-vial: page not found\n",
      "https://reviews.webmd.com/drugs/drugreview-151788-diltzac-er-capsule-24-hr-capsule-hr\n"
     ]
    },
    {
     "name": "stderr",
     "output_type": "stream",
     "text": [
      "100%|██████████| 1/1 [00:01<00:00,  1.48s/it]\n",
      " 15%|█▍        | 74/499 [17:00<53:50,  7.60s/it]  "
     ]
    },
    {
     "name": "stdout",
     "output_type": "stream",
     "text": [
      "https://reviews.webmd.com/drugs/drugreview-152357-amlodipine-valsartan-hctz\n"
     ]
    },
    {
     "name": "stderr",
     "output_type": "stream",
     "text": [
      "100%|██████████| 1/1 [00:01<00:00,  1.50s/it]\n",
      " 15%|█▌        | 75/499 [17:05<47:32,  6.73s/it]"
     ]
    },
    {
     "name": "stdout",
     "output_type": "stream",
     "text": [
      "https://reviews.webmd.com/drugs/drugreview-152359-exforge-hct\n"
     ]
    },
    {
     "name": "stderr",
     "output_type": "stream",
     "text": [
      "100%|██████████| 3/3 [00:05<00:00,  1.71s/it]\n",
      " 15%|█▌        | 77/499 [17:15<39:19,  5.59s/it]"
     ]
    },
    {
     "name": "stdout",
     "output_type": "stream",
     "text": [
      "skipping https://reviews.webmd.com/drugs/drugreview-153008-aliskiren-valsartan-tablet: page not found\n"
     ]
    },
    {
     "name": "stderr",
     "output_type": "stream",
     "text": [
      " 16%|█▌        | 78/499 [17:17<31:17,  4.46s/it]"
     ]
    },
    {
     "name": "stdout",
     "output_type": "stream",
     "text": [
      "skipping https://reviews.webmd.com/drugs/drugreview-153012-valturna-tablet: page not found\n",
      "https://reviews.webmd.com/drugs/drugreview-153181-telmisartan-amlodipine\n"
     ]
    },
    {
     "name": "stderr",
     "output_type": "stream",
     "text": [
      "100%|██████████| 1/1 [00:01<00:00,  1.70s/it]\n",
      " 16%|█▌        | 79/499 [17:22<31:36,  4.51s/it]"
     ]
    },
    {
     "name": "stdout",
     "output_type": "stream",
     "text": [
      "https://reviews.webmd.com/drugs/drugreview-153194-twynsta-tablet\n"
     ]
    },
    {
     "name": "stderr",
     "output_type": "stream",
     "text": [
      "100%|██████████| 2/2 [00:03<00:00,  1.92s/it]\n",
      " 16%|█▌        | 80/499 [17:29<37:52,  5.42s/it]"
     ]
    },
    {
     "name": "stdout",
     "output_type": "stream",
     "text": [
      "https://reviews.webmd.com/drugs/drugreview-154436-olmesartan-amlodipine-hctz\n"
     ]
    },
    {
     "name": "stderr",
     "output_type": "stream",
     "text": [
      "100%|██████████| 1/1 [00:01<00:00,  1.77s/it]\n",
      " 16%|█▌        | 81/499 [17:34<36:17,  5.21s/it]"
     ]
    },
    {
     "name": "stdout",
     "output_type": "stream",
     "text": [
      "https://reviews.webmd.com/drugs/drugreview-154439-tribenzor\n"
     ]
    },
    {
     "name": "stderr",
     "output_type": "stream",
     "text": [
      "100%|██████████| 6/6 [00:12<00:00,  2.03s/it]\n",
      " 17%|█▋        | 83/499 [17:51<43:40,  6.30s/it]"
     ]
    },
    {
     "name": "stdout",
     "output_type": "stream",
     "text": [
      "skipping https://reviews.webmd.com/drugs/drugreview-154589-aliskiren-amlodipine-tablet: page not found\n"
     ]
    },
    {
     "name": "stderr",
     "output_type": "stream",
     "text": [
      " 17%|█▋        | 84/499 [17:53<34:20,  4.96s/it]"
     ]
    },
    {
     "name": "stdout",
     "output_type": "stream",
     "text": [
      "skipping https://reviews.webmd.com/drugs/drugreview-154590-tekamlo-tablet: page not found\n",
      "https://reviews.webmd.com/drugs/drugreview-155068-matzim-la-tablet-er-24-hr\n"
     ]
    },
    {
     "name": "stderr",
     "output_type": "stream",
     "text": [
      "100%|██████████| 1/1 [00:01<00:00,  1.73s/it]\n",
      " 17%|█▋        | 85/499 [17:58<33:56,  4.92s/it]"
     ]
    },
    {
     "name": "stdout",
     "output_type": "stream",
     "text": [
      "https://reviews.webmd.com/drugs/drugreview-155086-kapvay\n"
     ]
    },
    {
     "name": "stderr",
     "output_type": "stream",
     "text": [
      "100%|██████████| 1/1 [00:01<00:00,  1.61s/it]\n",
      " 17%|█▋        | 86/499 [18:02<33:26,  4.86s/it]"
     ]
    },
    {
     "name": "stdout",
     "output_type": "stream",
     "text": [
      "https://reviews.webmd.com/drugs/drugreview-155114-nexiclon-xr\n"
     ]
    },
    {
     "name": "stderr",
     "output_type": "stream",
     "text": [
      "100%|██████████| 1/1 [00:01<00:00,  1.53s/it]\n",
      " 18%|█▊        | 88/499 [18:10<28:47,  4.20s/it]"
     ]
    },
    {
     "name": "stdout",
     "output_type": "stream",
     "text": [
      "skipping https://reviews.webmd.com/drugs/drugreview-155198-aliskiren-amlodipin-hcthiazide-tablet: page not found\n"
     ]
    },
    {
     "name": "stderr",
     "output_type": "stream",
     "text": [
      " 18%|█▊        | 89/499 [18:12<23:53,  3.50s/it]"
     ]
    },
    {
     "name": "stdout",
     "output_type": "stream",
     "text": [
      "skipping https://reviews.webmd.com/drugs/drugreview-155202-amturnide-tablet: page not found\n",
      "https://reviews.webmd.com/drugs/drugreview-155740-matzim-la\n"
     ]
    },
    {
     "name": "stderr",
     "output_type": "stream",
     "text": [
      "100%|██████████| 1/1 [00:01<00:00,  1.91s/it]\n",
      " 18%|█▊        | 91/499 [18:20<23:28,  3.45s/it]"
     ]
    },
    {
     "name": "stdout",
     "output_type": "stream",
     "text": [
      "skipping https://reviews.webmd.com/drugs/drugreview-15620-ser-a-gen-tablet: page not found\n"
     ]
    },
    {
     "name": "stderr",
     "output_type": "stream",
     "text": [
      " 18%|█▊        | 92/499 [18:21<20:06,  2.96s/it]"
     ]
    },
    {
     "name": "stdout",
     "output_type": "stream",
     "text": [
      "skipping https://reviews.webmd.com/drugs/drugreview-15632-tri-hydroserpine-tablet: page not found\n",
      "https://reviews.webmd.com/drugs/drugreview-15636-hyzaar\n"
     ]
    },
    {
     "name": "stderr",
     "output_type": "stream",
     "text": [
      "100%|██████████| 10/10 [00:19<00:00,  1.97s/it]\n",
      " 19%|█▊        | 93/499 [18:45<1:00:51,  8.99s/it]"
     ]
    },
    {
     "name": "stdout",
     "output_type": "stream",
     "text": [
      "https://reviews.webmd.com/drugs/drugreview-15679-aldoril-d30-tablet\n"
     ]
    },
    {
     "name": "stderr",
     "output_type": "stream",
     "text": [
      "100%|██████████| 1/1 [00:01<00:00,  1.79s/it]\n",
      " 19%|█▉        | 95/499 [18:52<40:38,  6.04s/it]  "
     ]
    },
    {
     "name": "stdout",
     "output_type": "stream",
     "text": [
      "skipping https://reviews.webmd.com/drugs/drugreview-15680-combipres-2-tablet: page not found\n"
     ]
    },
    {
     "name": "stderr",
     "output_type": "stream",
     "text": [
      " 19%|█▉        | 96/499 [18:53<31:53,  4.75s/it]"
     ]
    },
    {
     "name": "stdout",
     "output_type": "stream",
     "text": [
      "skipping https://reviews.webmd.com/drugs/drugreview-15681-combipres-3-tablet: page not found\n",
      "https://reviews.webmd.com/drugs/drugreview-15682-aldoril-d50-tablet\n"
     ]
    },
    {
     "name": "stderr",
     "output_type": "stream",
     "text": [
      "100%|██████████| 1/1 [00:01<00:00,  1.71s/it]\n",
      " 19%|█▉        | 97/499 [18:58<31:08,  4.65s/it]"
     ]
    },
    {
     "name": "stdout",
     "output_type": "stream",
     "text": [
      "https://reviews.webmd.com/drugs/drugreview-15764-aldoril-25-tablet\n"
     ]
    },
    {
     "name": "stderr",
     "output_type": "stream",
     "text": [
      " 20%|█▉        | 98/499 [19:00<27:19,  4.09s/it]"
     ]
    },
    {
     "name": "stdout",
     "output_type": "stream",
     "text": [
      "https://reviews.webmd.com/drugs/drugreview-157991-perindopril-arginin-amlodipine-tablet\n"
     ]
    },
    {
     "name": "stderr",
     "output_type": "stream",
     "text": [
      "100%|██████████| 1/1 [00:01<00:00,  1.84s/it]\n",
      " 20%|██        | 100/499 [19:07<23:36,  3.55s/it]"
     ]
    },
    {
     "name": "stdout",
     "output_type": "stream",
     "text": [
      "skipping https://reviews.webmd.com/drugs/drugreview-159107-metoprolol-su-hydrochlorothiaz-tablet-er-24-hr: page not found\n"
     ]
    },
    {
     "name": "stderr",
     "output_type": "stream",
     "text": [
      " 20%|██        | 101/499 [19:09<19:42,  2.97s/it]"
     ]
    },
    {
     "name": "stdout",
     "output_type": "stream",
     "text": [
      "skipping https://reviews.webmd.com/drugs/drugreview-159118-dutoprol: page not found\n",
      "https://reviews.webmd.com/drugs/drugreview-159143-azilsartan-med-chlorthalidone-tablet\n"
     ]
    },
    {
     "name": "stderr",
     "output_type": "stream",
     "text": [
      "100%|██████████| 1/1 [00:01<00:00,  1.82s/it]\n",
      " 20%|██        | 102/499 [19:13<23:07,  3.49s/it]"
     ]
    },
    {
     "name": "stdout",
     "output_type": "stream",
     "text": [
      "https://reviews.webmd.com/drugs/drugreview-159144-edarbyclor\n"
     ]
    },
    {
     "name": "stderr",
     "output_type": "stream",
     "text": [
      "100%|██████████| 4/4 [00:08<00:00,  2.09s/it]\n",
      " 21%|██        | 104/499 [19:27<31:02,  4.71s/it]"
     ]
    },
    {
     "name": "stdout",
     "output_type": "stream",
     "text": [
      "skipping https://reviews.webmd.com/drugs/drugreview-16147-lexxel-tablet-er: page not found\n"
     ]
    },
    {
     "name": "stderr",
     "output_type": "stream",
     "text": [
      " 21%|██        | 105/499 [19:29<25:12,  3.84s/it]"
     ]
    },
    {
     "name": "stdout",
     "output_type": "stream",
     "text": [
      "skipping https://reviews.webmd.com/drugs/drugreview-161550-nicardipine-in-5-dextrose-solution: page not found\n"
     ]
    },
    {
     "name": "stderr",
     "output_type": "stream",
     "text": [
      " 21%|██        | 106/499 [19:30<21:08,  3.23s/it]"
     ]
    },
    {
     "name": "stdout",
     "output_type": "stream",
     "text": [
      "skipping https://reviews.webmd.com/drugs/drugreview-16164-aldoclor-tablet: page not found\n",
      "https://reviews.webmd.com/drugs/drugreview-16165-prinzide-tablet\n"
     ]
    },
    {
     "name": "stderr",
     "output_type": "stream",
     "text": [
      "100%|██████████| 2/2 [00:03<00:00,  1.83s/it]\n",
      " 21%|██▏       | 107/499 [19:37<28:10,  4.31s/it]"
     ]
    },
    {
     "name": "stdout",
     "output_type": "stream",
     "text": [
      "https://reviews.webmd.com/drugs/drugreview-16167-l-dopres-hydrochlorothiazide-tablet\n"
     ]
    },
    {
     "name": "stderr",
     "output_type": "stream",
     "text": [
      " 22%|██▏       | 109/499 [19:42<21:13,  3.27s/it]"
     ]
    },
    {
     "name": "stdout",
     "output_type": "stream",
     "text": [
      "skipping https://reviews.webmd.com/drugs/drugreview-16168-minizide-capsule: page not found\n",
      "https://reviews.webmd.com/drugs/drugreview-16169-lotensin-hct\n"
     ]
    },
    {
     "name": "stderr",
     "output_type": "stream",
     "text": [
      "100%|██████████| 2/2 [00:03<00:00,  1.75s/it]\n",
      " 22%|██▏       | 110/499 [19:49<28:08,  4.34s/it]"
     ]
    },
    {
     "name": "stdout",
     "output_type": "stream",
     "text": [
      "https://reviews.webmd.com/drugs/drugreview-16188-lotrel\n"
     ]
    },
    {
     "name": "stderr",
     "output_type": "stream",
     "text": [
      "100%|██████████| 12/12 [00:23<00:00,  1.92s/it]\n",
      " 22%|██▏       | 111/499 [20:15<1:10:37, 10.92s/it]"
     ]
    },
    {
     "name": "stdout",
     "output_type": "stream",
     "text": [
      "https://reviews.webmd.com/drugs/drugreview-16200-ziac\n"
     ]
    },
    {
     "name": "stderr",
     "output_type": "stream",
     "text": [
      "100%|██████████| 4/4 [00:07<00:00,  1.76s/it]\n",
      " 22%|██▏       | 112/499 [20:25<1:09:08, 10.72s/it]"
     ]
    },
    {
     "name": "stdout",
     "output_type": "stream",
     "text": [
      "https://reviews.webmd.com/drugs/drugreview-162073-kapvay-dose-pack-tablet-er-tablet-pack\n"
     ]
    },
    {
     "name": "stderr",
     "output_type": "stream",
     "text": [
      " 23%|██▎       | 113/499 [20:28<53:50,  8.37s/it]  "
     ]
    },
    {
     "name": "stdout",
     "output_type": "stream",
     "text": [
      "https://reviews.webmd.com/drugs/drugreview-16209-tarka\n"
     ]
    },
    {
     "name": "stderr",
     "output_type": "stream",
     "text": [
      "100%|██████████| 2/2 [00:04<00:00,  2.29s/it]\n",
      " 23%|██▎       | 114/499 [20:37<53:58,  8.41s/it]"
     ]
    },
    {
     "name": "stdout",
     "output_type": "stream",
     "text": [
      "https://reviews.webmd.com/drugs/drugreview-16214-tenoretic-50\n"
     ]
    },
    {
     "name": "stderr",
     "output_type": "stream",
     "text": [
      "100%|██████████| 1/1 [00:02<00:00,  2.14s/it]\n",
      " 23%|██▎       | 115/499 [20:43<48:51,  7.63s/it]"
     ]
    },
    {
     "name": "stdout",
     "output_type": "stream",
     "text": [
      "https://reviews.webmd.com/drugs/drugreview-1634-coreg\n"
     ]
    },
    {
     "name": "stderr",
     "output_type": "stream",
     "text": [
      "100%|██████████| 17/17 [00:35<00:00,  2.10s/it]\n",
      " 23%|██▎       | 116/499 [21:22<1:49:23, 17.14s/it]"
     ]
    },
    {
     "name": "stdout",
     "output_type": "stream",
     "text": [
      "https://reviews.webmd.com/drugs/drugreview-164098-vecamyl\n"
     ]
    },
    {
     "name": "stderr",
     "output_type": "stream",
     "text": [
      "100%|██████████| 1/1 [00:01<00:00,  1.70s/it]\n",
      " 23%|██▎       | 117/499 [21:26<1:24:54, 13.34s/it]"
     ]
    },
    {
     "name": "stdout",
     "output_type": "stream",
     "text": [
      "https://reviews.webmd.com/drugs/drugreview-164927-epaned\n"
     ]
    },
    {
     "name": "stderr",
     "output_type": "stream",
     "text": [
      " 24%|██▍       | 119/499 [21:31<49:01,  7.74s/it]  "
     ]
    },
    {
     "name": "stdout",
     "output_type": "stream",
     "text": [
      "skipping https://reviews.webmd.com/drugs/drugreview-165673-cardene-i-v-solution-piggyback: page not found\n",
      "https://reviews.webmd.com/drugs/drugreview-165806-inderal-xl\n"
     ]
    },
    {
     "name": "stderr",
     "output_type": "stream",
     "text": [
      "100%|██████████| 1/1 [00:01<00:00,  1.56s/it]\n",
      " 24%|██▍       | 120/499 [21:37<44:28,  7.04s/it]"
     ]
    },
    {
     "name": "stdout",
     "output_type": "stream",
     "text": [
      "https://reviews.webmd.com/drugs/drugreview-16595-atacand\n"
     ]
    },
    {
     "name": "stderr",
     "output_type": "stream",
     "text": [
      "100%|██████████| 6/6 [00:11<00:00,  1.86s/it]\n",
      " 24%|██▍       | 121/499 [21:51<58:19,  9.26s/it]"
     ]
    },
    {
     "name": "stdout",
     "output_type": "stream",
     "text": [
      "https://reviews.webmd.com/drugs/drugreview-168-verapamil-hcl-cr-capsule-24-hr-capsule-er-hr\n"
     ]
    },
    {
     "name": "stderr",
     "output_type": "stream",
     "text": [
      " 24%|██▍       | 122/499 [21:55<47:28,  7.55s/it]"
     ]
    },
    {
     "name": "stdout",
     "output_type": "stream",
     "text": [
      "https://reviews.webmd.com/drugs/drugreview-168-verapamil-hcl-cr-tablet-er\n"
     ]
    },
    {
     "name": "stderr",
     "output_type": "stream",
     "text": [
      " 25%|██▍       | 123/499 [21:58<38:43,  6.18s/it]"
     ]
    },
    {
     "name": "stdout",
     "output_type": "stream",
     "text": [
      "https://reviews.webmd.com/drugs/drugreview-16800-telmisartan\n"
     ]
    },
    {
     "name": "stderr",
     "output_type": "stream",
     "text": [
      "100%|██████████| 3/3 [00:05<00:00,  1.83s/it]\n",
      " 25%|██▍       | 124/499 [22:07<45:04,  7.21s/it]"
     ]
    },
    {
     "name": "stdout",
     "output_type": "stream",
     "text": [
      "https://reviews.webmd.com/drugs/drugreview-16806-micardis\n"
     ]
    },
    {
     "name": "stderr",
     "output_type": "stream",
     "text": [
      "100%|██████████| 9/9 [00:16<00:00,  1.89s/it]\n",
      " 25%|██▌       | 125/499 [22:27<1:08:35, 11.01s/it]"
     ]
    },
    {
     "name": "stdout",
     "output_type": "stream",
     "text": [
      "https://reviews.webmd.com/drugs/drugreview-169332-prestalia\n"
     ]
    },
    {
     "name": "stderr",
     "output_type": "stream",
     "text": [
      " 25%|██▌       | 126/499 [22:30<52:38,  8.47s/it]  "
     ]
    },
    {
     "name": "stdout",
     "output_type": "stream",
     "text": [
      "https://reviews.webmd.com/drugs/drugreview-16976-verelan-pm\n"
     ]
    },
    {
     "name": "stderr",
     "output_type": "stream",
     "text": [
      "100%|██████████| 1/1 [00:01<00:00,  1.78s/it]\n",
      " 26%|██▌       | 128/499 [22:38<37:31,  6.07s/it]"
     ]
    },
    {
     "name": "stdout",
     "output_type": "stream",
     "text": [
      "skipping https://reviews.webmd.com/drugs/drugreview-171994-nebivolol-valsartan-tablet: page not found\n",
      "https://reviews.webmd.com/drugs/drugreview-17200-irbesartan-hydrochlorothiazide\n"
     ]
    },
    {
     "name": "stderr",
     "output_type": "stream",
     "text": [
      "100%|██████████| 2/2 [00:04<00:00,  2.08s/it]\n",
      " 26%|██▌       | 129/499 [22:45<39:59,  6.49s/it]"
     ]
    },
    {
     "name": "stdout",
     "output_type": "stream",
     "text": [
      "https://reviews.webmd.com/drugs/drugreview-17211-avalide\n"
     ]
    },
    {
     "name": "stderr",
     "output_type": "stream",
     "text": [
      "100%|██████████| 8/8 [00:16<00:00,  2.06s/it]\n",
      " 26%|██▋       | 131/499 [23:08<49:18,  8.04s/it]  "
     ]
    },
    {
     "name": "stdout",
     "output_type": "stream",
     "text": [
      "skipping https://reviews.webmd.com/drugs/drugreview-172271-byvalson-tablet: page not found\n",
      "https://reviews.webmd.com/drugs/drugreview-172307-qbrelis\n"
     ]
    },
    {
     "name": "stderr",
     "output_type": "stream",
     "text": [
      " 26%|██▋       | 132/499 [23:11<40:18,  6.59s/it]"
     ]
    },
    {
     "name": "stdout",
     "output_type": "stream",
     "text": [
      "https://reviews.webmd.com/drugs/drugreview-17319-cartia-xt\n"
     ]
    },
    {
     "name": "stderr",
     "output_type": "stream",
     "text": [
      "100%|██████████| 5/5 [00:09<00:00,  1.93s/it]\n",
      " 27%|██▋       | 133/499 [23:24<52:50,  8.66s/it]"
     ]
    },
    {
     "name": "stdout",
     "output_type": "stream",
     "text": [
      "https://reviews.webmd.com/drugs/drugreview-17339-aceon-tablet\n"
     ]
    },
    {
     "name": "stderr",
     "output_type": "stream",
     "text": [
      "100%|██████████| 1/1 [00:02<00:00,  2.24s/it]\n",
      " 27%|██▋       | 134/499 [23:30<46:51,  7.70s/it]"
     ]
    },
    {
     "name": "stdout",
     "output_type": "stream",
     "text": [
      "https://reviews.webmd.com/drugs/drugreview-17555-eprosartan-mesylate\n"
     ]
    },
    {
     "name": "stderr",
     "output_type": "stream",
     "text": [
      "100%|██████████| 1/1 [00:01<00:00,  1.84s/it]\n",
      " 27%|██▋       | 135/499 [23:35<41:45,  6.88s/it]"
     ]
    },
    {
     "name": "stdout",
     "output_type": "stream",
     "text": [
      "https://reviews.webmd.com/drugs/drugreview-175675-kapspargo-sprinkle\n"
     ]
    },
    {
     "name": "stderr",
     "output_type": "stream",
     "text": [
      " 27%|██▋       | 136/499 [23:38<34:55,  5.77s/it]"
     ]
    },
    {
     "name": "stdout",
     "output_type": "stream",
     "text": [
      "https://reviews.webmd.com/drugs/drugreview-17572-teveten-tablet\n"
     ]
    },
    {
     "name": "stderr",
     "output_type": "stream",
     "text": [
      "100%|██████████| 2/2 [00:03<00:00,  1.81s/it]\n",
      " 27%|██▋       | 137/499 [23:45<36:47,  6.10s/it]"
     ]
    },
    {
     "name": "stdout",
     "output_type": "stream",
     "text": [
      "https://reviews.webmd.com/drugs/drugreview-177547-amlodipine-benzoate-suspension\n"
     ]
    },
    {
     "name": "stderr",
     "output_type": "stream",
     "text": [
      " 28%|██▊       | 138/499 [23:48<31:08,  5.17s/it]"
     ]
    },
    {
     "name": "stdout",
     "output_type": "stream",
     "text": [
      "https://reviews.webmd.com/drugs/drugreview-177569-katerzia\n"
     ]
    },
    {
     "name": "stderr",
     "output_type": "stream",
     "text": [
      " 28%|██▊       | 139/499 [23:51<26:50,  4.47s/it]"
     ]
    },
    {
     "name": "stdout",
     "output_type": "stream",
     "text": [
      "https://reviews.webmd.com/drugs/drugreview-178341-tiadylt-er\n"
     ]
    },
    {
     "name": "stderr",
     "output_type": "stream",
     "text": [
      " 28%|██▊       | 140/499 [23:55<25:42,  4.30s/it]"
     ]
    },
    {
     "name": "stdout",
     "output_type": "stream",
     "text": [
      "https://reviews.webmd.com/drugs/drugreview-1785-corgard\n"
     ]
    },
    {
     "name": "stderr",
     "output_type": "stream",
     "text": [
      "100%|██████████| 1/1 [00:01<00:00,  1.87s/it]\n",
      " 28%|██▊       | 141/499 [24:01<28:29,  4.78s/it]"
     ]
    },
    {
     "name": "stdout",
     "output_type": "stream",
     "text": [
      "https://reviews.webmd.com/drugs/drugreview-178575-levamlodipine-maleate\n"
     ]
    },
    {
     "name": "stderr",
     "output_type": "stream",
     "text": [
      " 28%|██▊       | 142/499 [24:04<25:23,  4.27s/it]"
     ]
    },
    {
     "name": "stdout",
     "output_type": "stream",
     "text": [
      "https://reviews.webmd.com/drugs/drugreview-180121-conjupri\n"
     ]
    },
    {
     "name": "stderr",
     "output_type": "stream",
     "text": [
      " 29%|██▉       | 144/499 [24:09<19:31,  3.30s/it]"
     ]
    },
    {
     "name": "stdout",
     "output_type": "stream",
     "text": [
      "skipping https://reviews.webmd.com/drugs/drugreview-180390-labetalol-hcl-nacl-plastic-bag-injection: page not found\n"
     ]
    },
    {
     "name": "stderr",
     "output_type": "stream",
     "text": [
      " 29%|██▉       | 145/499 [24:10<16:28,  2.79s/it]"
     ]
    },
    {
     "name": "stdout",
     "output_type": "stream",
     "text": [
      "skipping https://reviews.webmd.com/drugs/drugreview-180397-labetalol-hcl-dextrose-plastic-bag-injection: page not found\n",
      "https://reviews.webmd.com/drugs/drugreview-1806-dynacirc-capsule\n"
     ]
    },
    {
     "name": "stderr",
     "output_type": "stream",
     "text": [
      "100%|██████████| 1/1 [00:01<00:00,  1.82s/it]\n",
      " 29%|██▉       | 146/499 [24:15<20:23,  3.47s/it]"
     ]
    },
    {
     "name": "stdout",
     "output_type": "stream",
     "text": [
      "https://reviews.webmd.com/drugs/drugreview-18136-monopril-hct-tablet\n"
     ]
    },
    {
     "name": "stderr",
     "output_type": "stream",
     "text": [
      "100%|██████████| 1/1 [00:01<00:00,  1.61s/it]\n",
      " 29%|██▉       | 147/499 [24:20<22:32,  3.84s/it]"
     ]
    },
    {
     "name": "stdout",
     "output_type": "stream",
     "text": [
      "https://reviews.webmd.com/drugs/drugreview-1814-moduretic-tablet\n"
     ]
    },
    {
     "name": "stderr",
     "output_type": "stream",
     "text": [
      "100%|██████████| 1/1 [00:01<00:00,  1.82s/it]\n",
      " 30%|██▉       | 148/499 [24:25<25:30,  4.36s/it]"
     ]
    },
    {
     "name": "stdout",
     "output_type": "stream",
     "text": [
      "https://reviews.webmd.com/drugs/drugreview-18141-accuretic\n"
     ]
    },
    {
     "name": "stderr",
     "output_type": "stream",
     "text": [
      "100%|██████████| 1/1 [00:01<00:00,  1.65s/it]\n",
      " 30%|██▉       | 149/499 [24:31<27:31,  4.72s/it]"
     ]
    },
    {
     "name": "stdout",
     "output_type": "stream",
     "text": [
      "https://reviews.webmd.com/drugs/drugreview-183996-norliqva\n"
     ]
    },
    {
     "name": "stderr",
     "output_type": "stream",
     "text": [
      " 30%|███       | 151/499 [24:37<21:55,  3.78s/it]"
     ]
    },
    {
     "name": "stdout",
     "output_type": "stream",
     "text": [
      "skipping https://reviews.webmd.com/drugs/drugreview-19007-hydralazine-plus-50-50-capsule: page not found\n"
     ]
    },
    {
     "name": "stderr",
     "output_type": "stream",
     "text": [
      " 30%|███       | 152/499 [24:39<18:19,  3.17s/it]"
     ]
    },
    {
     "name": "stdout",
     "output_type": "stream",
     "text": [
      "skipping https://reviews.webmd.com/drugs/drugreview-19036-hhr-tablet: page not found\n",
      "https://reviews.webmd.com/drugs/drugreview-1909-amiloride-hydrochlorothiazide\n"
     ]
    },
    {
     "name": "stderr",
     "output_type": "stream",
     "text": [
      "100%|██████████| 1/1 [00:02<00:00,  2.03s/it]\n",
      " 31%|███       | 154/499 [24:46<18:30,  3.22s/it]"
     ]
    },
    {
     "name": "stdout",
     "output_type": "stream",
     "text": [
      "skipping https://reviews.webmd.com/drugs/drugreview-19158-ser-ap-es-tablet: page not found\n"
     ]
    },
    {
     "name": "stderr",
     "output_type": "stream",
     "text": [
      " 31%|███       | 155/499 [24:47<15:53,  2.77s/it]"
     ]
    },
    {
     "name": "stdout",
     "output_type": "stream",
     "text": [
      "skipping https://reviews.webmd.com/drugs/drugreview-19345-diuretic-ap-es-tablet: page not found\n",
      "https://reviews.webmd.com/drugs/drugreview-19479-inversine-tablet\n"
     ]
    },
    {
     "name": "stderr",
     "output_type": "stream",
     "text": [
      " 31%|███▏      | 156/499 [24:50<15:37,  2.73s/it]"
     ]
    },
    {
     "name": "stdout",
     "output_type": "stream",
     "text": [
      "https://reviews.webmd.com/drugs/drugreview-19480-mecamylamine-tablet\n"
     ]
    },
    {
     "name": "stderr",
     "output_type": "stream",
     "text": [
      " 31%|███▏      | 157/499 [24:53<15:52,  2.79s/it]"
     ]
    },
    {
     "name": "stdout",
     "output_type": "stream",
     "text": [
      "https://reviews.webmd.com/drugs/drugreview-1955-atenolol-chlorthalidone\n"
     ]
    },
    {
     "name": "stderr",
     "output_type": "stream",
     "text": [
      "100%|██████████| 4/4 [00:07<00:00,  1.99s/it]\n",
      " 32%|███▏      | 158/499 [25:05<30:46,  5.42s/it]"
     ]
    },
    {
     "name": "stdout",
     "output_type": "stream",
     "text": [
      "https://reviews.webmd.com/drugs/drugreview-19751-nifedipine-cr-osmotic-tablet-push-tablet-er-push\n"
     ]
    },
    {
     "name": "stderr",
     "output_type": "stream",
     "text": [
      " 32%|███▏      | 159/499 [25:08<26:35,  4.69s/it]"
     ]
    },
    {
     "name": "stdout",
     "output_type": "stream",
     "text": [
      "https://reviews.webmd.com/drugs/drugreview-19784-diltiazem-cd-capsule-er\n"
     ]
    },
    {
     "name": "stderr",
     "output_type": "stream",
     "text": [
      " 32%|███▏      | 160/499 [25:11<23:56,  4.24s/it]"
     ]
    },
    {
     "name": "stdout",
     "output_type": "stream",
     "text": [
      "https://reviews.webmd.com/drugs/drugreview-19953-candesartan-hydrochlorothiazid\n"
     ]
    },
    {
     "name": "stderr",
     "output_type": "stream",
     "text": [
      "100%|██████████| 1/1 [00:01<00:00,  1.82s/it]\n",
      " 32%|███▏      | 161/499 [25:16<24:52,  4.41s/it]"
     ]
    },
    {
     "name": "stdout",
     "output_type": "stream",
     "text": [
      "https://reviews.webmd.com/drugs/drugreview-19955-bisoprolol-fumarate-hctz-tablet\n"
     ]
    },
    {
     "name": "stderr",
     "output_type": "stream",
     "text": [
      " 32%|███▏      | 162/499 [25:20<24:13,  4.31s/it]"
     ]
    },
    {
     "name": "stdout",
     "output_type": "stream",
     "text": [
      "https://reviews.webmd.com/drugs/drugreview-19957-atacand-hct\n"
     ]
    },
    {
     "name": "stderr",
     "output_type": "stream",
     "text": [
      "100%|██████████| 2/2 [00:04<00:00,  2.09s/it]\n",
      " 33%|███▎      | 163/499 [25:27<29:56,  5.35s/it]"
     ]
    },
    {
     "name": "stdout",
     "output_type": "stream",
     "text": [
      "https://reviews.webmd.com/drugs/drugreview-20226-nifedical-xl-tablet-er-24-hr\n"
     ]
    },
    {
     "name": "stderr",
     "output_type": "stream",
     "text": [
      "100%|██████████| 3/3 [00:06<00:00,  2.04s/it]\n",
      " 33%|███▎      | 164/499 [25:37<36:56,  6.62s/it]"
     ]
    },
    {
     "name": "stdout",
     "output_type": "stream",
     "text": [
      "https://reviews.webmd.com/drugs/drugreview-20317-telmisartan-hydrochlorothiazid\n"
     ]
    },
    {
     "name": "stderr",
     "output_type": "stream",
     "text": [
      "100%|██████████| 1/1 [00:01<00:00,  1.98s/it]\n",
      " 33%|███▎      | 165/499 [25:43<35:44,  6.42s/it]"
     ]
    },
    {
     "name": "stdout",
     "output_type": "stream",
     "text": [
      "https://reviews.webmd.com/drugs/drugreview-20318-micardis-hct\n"
     ]
    },
    {
     "name": "stderr",
     "output_type": "stream",
     "text": [
      "100%|██████████| 8/8 [00:15<00:00,  1.88s/it]\n",
      " 33%|███▎      | 166/499 [26:02<56:54, 10.25s/it]"
     ]
    },
    {
     "name": "stdout",
     "output_type": "stream",
     "text": [
      "https://reviews.webmd.com/drugs/drugreview-2069-benazepril-hydrochlorothiazide\n"
     ]
    },
    {
     "name": "stderr",
     "output_type": "stream",
     "text": [
      "100%|██████████| 3/3 [00:05<00:00,  1.87s/it]\n",
      " 33%|███▎      | 167/499 [26:11<54:56,  9.93s/it]"
     ]
    },
    {
     "name": "stdout",
     "output_type": "stream",
     "text": [
      "https://reviews.webmd.com/drugs/drugreview-2077-bisoprolol-hydrochlorothiazide\n"
     ]
    },
    {
     "name": "stderr",
     "output_type": "stream",
     "text": [
      "100%|██████████| 2/2 [00:04<00:00,  2.22s/it]\n",
      " 34%|███▎      | 168/499 [26:19<51:53,  9.41s/it]"
     ]
    },
    {
     "name": "stdout",
     "output_type": "stream",
     "text": [
      "https://reviews.webmd.com/drugs/drugreview-20938-diltiazem-hcl-er-capsule-12-hr-capsule-hr\n"
     ]
    },
    {
     "name": "stderr",
     "output_type": "stream",
     "text": [
      " 34%|███▍      | 169/499 [26:23<42:00,  7.64s/it]"
     ]
    },
    {
     "name": "stdout",
     "output_type": "stream",
     "text": [
      "https://reviews.webmd.com/drugs/drugreview-21133-dilt-xr-capsule-degradable-capsule-er-degradable\n"
     ]
    },
    {
     "name": "stderr",
     "output_type": "stream",
     "text": [
      " 34%|███▍      | 170/499 [26:26<34:13,  6.24s/it]"
     ]
    },
    {
     "name": "stdout",
     "output_type": "stream",
     "text": [
      "https://reviews.webmd.com/drugs/drugreview-2119-captopril-hctz-tablet\n"
     ]
    },
    {
     "name": "stderr",
     "output_type": "stream",
     "text": [
      " 34%|███▍      | 172/499 [26:30<22:31,  4.13s/it]"
     ]
    },
    {
     "name": "stdout",
     "output_type": "stream",
     "text": [
      "skipping https://reviews.webmd.com/drugs/drugreview-2123-cardene-i-v-ampul: page not found\n",
      "https://reviews.webmd.com/drugs/drugreview-21422-spironolactone-hctz-tablet\n"
     ]
    },
    {
     "name": "stderr",
     "output_type": "stream",
     "text": [
      " 35%|███▍      | 174/499 [26:35<17:02,  3.14s/it]"
     ]
    },
    {
     "name": "stdout",
     "output_type": "stream",
     "text": [
      "skipping https://reviews.webmd.com/drugs/drugreview-2228-clonidine-chlorthalidone-tablet: page not found\n"
     ]
    },
    {
     "name": "stderr",
     "output_type": "stream",
     "text": [
      " 35%|███▌      | 175/499 [26:37<14:37,  2.71s/it]"
     ]
    },
    {
     "name": "stdout",
     "output_type": "stream",
     "text": [
      "skipping https://reviews.webmd.com/drugs/drugreview-2329-sodium-diuril-vial: page not found\n"
     ]
    },
    {
     "name": "stderr",
     "output_type": "stream",
     "text": [
      " 35%|███▌      | 176/499 [26:39<13:23,  2.49s/it]"
     ]
    },
    {
     "name": "stdout",
     "output_type": "stream",
     "text": [
      "skipping https://reviews.webmd.com/drugs/drugreview-2352-dynacirc-cr-tablet-er-24-hr: page not found\n",
      "https://reviews.webmd.com/drugs/drugreview-2359-enalapril-hydrochlorothiazide\n"
     ]
    },
    {
     "name": "stderr",
     "output_type": "stream",
     "text": [
      "100%|██████████| 1/1 [00:01<00:00,  1.86s/it]\n",
      " 35%|███▌      | 177/499 [26:43<17:04,  3.18s/it]"
     ]
    },
    {
     "name": "stdout",
     "output_type": "stream",
     "text": [
      "https://reviews.webmd.com/drugs/drugreview-2447-fosinopril-hydrochlorothiazide\n"
     ]
    },
    {
     "name": "stderr",
     "output_type": "stream",
     "text": [
      "100%|██████████| 1/1 [00:02<00:00,  2.32s/it]\n",
      " 36%|███▌      | 179/499 [26:51<17:20,  3.25s/it]"
     ]
    },
    {
     "name": "stdout",
     "output_type": "stream",
     "text": [
      "skipping https://reviews.webmd.com/drugs/drugreview-2471-guanethidine-hydrochlorothiazd-tablet: page not found\n"
     ]
    },
    {
     "name": "stderr",
     "output_type": "stream",
     "text": [
      " 36%|███▌      | 180/499 [26:52<14:55,  2.81s/it]"
     ]
    },
    {
     "name": "stdout",
     "output_type": "stream",
     "text": [
      "skipping https://reviews.webmd.com/drugs/drugreview-2519-hydralazine-hydrochlorothiazid-capsule: page not found\n"
     ]
    },
    {
     "name": "stderr",
     "output_type": "stream",
     "text": [
      " 36%|███▋      | 181/499 [26:54<13:08,  2.48s/it]"
     ]
    },
    {
     "name": "stdout",
     "output_type": "stream",
     "text": [
      "skipping https://reviews.webmd.com/drugs/drugreview-2520-hydralazine-reserpin-hcthiazid-tablet: page not found\n",
      "https://reviews.webmd.com/drugs/drugreview-2521-hydro-par-tablet\n"
     ]
    },
    {
     "name": "stderr",
     "output_type": "stream",
     "text": [
      " 36%|███▋      | 182/499 [26:57<13:48,  2.61s/it]"
     ]
    },
    {
     "name": "stdout",
     "output_type": "stream",
     "text": [
      "https://reviews.webmd.com/drugs/drugreview-2622-lisinopril-hydrochlorothiazide\n"
     ]
    },
    {
     "name": "stderr",
     "output_type": "stream",
     "text": [
      "100%|██████████| 26/26 [00:51<00:00,  1.99s/it]\n",
      " 37%|███▋      | 183/499 [27:52<1:36:50, 18.39s/it]"
     ]
    },
    {
     "name": "stdout",
     "output_type": "stream",
     "text": [
      "https://reviews.webmd.com/drugs/drugreview-2626-losartan-hydrochlorothiazide\n"
     ]
    },
    {
     "name": "stderr",
     "output_type": "stream",
     "text": [
      "100%|██████████| 10/10 [00:20<00:00,  2.08s/it]\n",
      " 37%|███▋      | 185/499 [28:18<1:16:20, 14.59s/it]"
     ]
    },
    {
     "name": "stdout",
     "output_type": "stream",
     "text": [
      "skipping https://reviews.webmd.com/drugs/drugreview-2674-methyldopa-chlorothiazide-tablet: page not found\n",
      "https://reviews.webmd.com/drugs/drugreview-2675-methyldopa-hydrochlorothiazide\n"
     ]
    },
    {
     "name": "stderr",
     "output_type": "stream",
     "text": [
      "100%|██████████| 1/1 [00:01<00:00,  1.64s/it]\n",
      " 37%|███▋      | 186/499 [28:23<1:00:52, 11.67s/it]"
     ]
    },
    {
     "name": "stdout",
     "output_type": "stream",
     "text": [
      "https://reviews.webmd.com/drugs/drugreview-2676-metoprolol-hydrochlorothiazide\n"
     ]
    },
    {
     "name": "stderr",
     "output_type": "stream",
     "text": [
      "100%|██████████| 1/1 [00:01<00:00,  1.82s/it]\n",
      " 38%|███▊      | 188/499 [28:30<37:54,  7.31s/it]  "
     ]
    },
    {
     "name": "stdout",
     "output_type": "stream",
     "text": [
      "skipping https://reviews.webmd.com/drugs/drugreview-2728-nadolol-bendroflumethiazide-tablet: page not found\n"
     ]
    },
    {
     "name": "stderr",
     "output_type": "stream",
     "text": [
      " 38%|███▊      | 189/499 [28:32<29:18,  5.67s/it]"
     ]
    },
    {
     "name": "stdout",
     "output_type": "stream",
     "text": [
      "skipping https://reviews.webmd.com/drugs/drugreview-2906-prazosin-polythiazide-capsule: page not found\n",
      "https://reviews.webmd.com/drugs/drugreview-2930-propranolol-hydrochlorothiazid\n"
     ]
    },
    {
     "name": "stderr",
     "output_type": "stream",
     "text": [
      "100%|██████████| 1/1 [00:02<00:00,  2.39s/it]\n",
      " 38%|███▊      | 190/499 [28:37<28:36,  5.56s/it]"
     ]
    },
    {
     "name": "stdout",
     "output_type": "stream",
     "text": [
      "https://reviews.webmd.com/drugs/drugreview-3043-spironolactone-hctz\n"
     ]
    },
    {
     "name": "stderr",
     "output_type": "stream",
     "text": [
      "100%|██████████| 1/1 [00:01<00:00,  1.69s/it]\n",
      " 38%|███▊      | 192/499 [28:43<21:47,  4.26s/it]"
     ]
    },
    {
     "name": "stdout",
     "output_type": "stream",
     "text": [
      "skipping https://reviews.webmd.com/drugs/drugreview-3132-timolol-hydrochlorothiazide-tablet: page not found\n",
      "https://reviews.webmd.com/drugs/drugreview-3154-triamterene-hydrochlorothiazid\n"
     ]
    },
    {
     "name": "stderr",
     "output_type": "stream",
     "text": [
      "100%|██████████| 9/9 [00:18<00:00,  2.04s/it]\n",
      " 39%|███▊      | 193/499 [29:05<48:10,  9.45s/it]"
     ]
    },
    {
     "name": "stdout",
     "output_type": "stream",
     "text": [
      "https://reviews.webmd.com/drugs/drugreview-3340-vasotec\n"
     ]
    },
    {
     "name": "stderr",
     "output_type": "stream",
     "text": [
      "100%|██████████| 3/3 [00:05<00:00,  1.97s/it]\n",
      " 39%|███▉      | 194/499 [29:14<47:27,  9.33s/it]"
     ]
    },
    {
     "name": "stdout",
     "output_type": "stream",
     "text": [
      "https://reviews.webmd.com/drugs/drugreview-3517-quinapril-hydrochlorothiazide\n"
     ]
    },
    {
     "name": "stderr",
     "output_type": "stream",
     "text": [
      "100%|██████████| 1/1 [00:01<00:00,  1.82s/it]\n",
      " 39%|███▉      | 195/499 [29:19<39:59,  7.89s/it]"
     ]
    },
    {
     "name": "stdout",
     "output_type": "stream",
     "text": [
      "https://reviews.webmd.com/drugs/drugreview-3710-cardura\n"
     ]
    },
    {
     "name": "stderr",
     "output_type": "stream",
     "text": [
      "100%|██████████| 3/3 [00:05<00:00,  1.82s/it]\n",
      " 39%|███▉      | 196/499 [29:29<44:07,  8.74s/it]"
     ]
    },
    {
     "name": "stdout",
     "output_type": "stream",
     "text": [
      "https://reviews.webmd.com/drugs/drugreview-3750-doxazosin-mesylate\n"
     ]
    },
    {
     "name": "stderr",
     "output_type": "stream",
     "text": [
      "100%|██████████| 6/6 [00:12<00:00,  2.02s/it]\n",
      " 39%|███▉      | 197/499 [29:45<54:36, 10.85s/it]"
     ]
    },
    {
     "name": "stdout",
     "output_type": "stream",
     "text": [
      "https://reviews.webmd.com/drugs/drugreview-3750-doxazosin-tablet-er-2-hr\n"
     ]
    },
    {
     "name": "stderr",
     "output_type": "stream",
     "text": [
      "100%|██████████| 6/6 [00:12<00:00,  2.16s/it]\n",
      " 40%|███▉      | 198/499 [30:01<1:02:17, 12.42s/it]"
     ]
    },
    {
     "name": "stdout",
     "output_type": "stream",
     "text": [
      "https://reviews.webmd.com/drugs/drugreview-3776-lasix\n"
     ]
    },
    {
     "name": "stderr",
     "output_type": "stream",
     "text": [
      "100%|██████████| 10/10 [00:19<00:00,  1.95s/it]\n",
      " 40%|███▉      | 199/499 [30:24<1:17:34, 15.51s/it]"
     ]
    },
    {
     "name": "stdout",
     "output_type": "stream",
     "text": [
      "https://reviews.webmd.com/drugs/drugreview-3776-lasix-solution\n"
     ]
    },
    {
     "name": "stderr",
     "output_type": "stream",
     "text": [
      "100%|██████████| 10/10 [00:21<00:00,  2.18s/it]\n",
      " 40%|████      | 200/499 [30:49<1:31:37, 18.39s/it]"
     ]
    },
    {
     "name": "stdout",
     "output_type": "stream",
     "text": [
      "https://reviews.webmd.com/drugs/drugreview-3783-diltiazem-12hr-er\n"
     ]
    },
    {
     "name": "stderr",
     "output_type": "stream",
     "text": [
      "100%|██████████| 10/10 [00:20<00:00,  2.07s/it]\n",
      " 40%|████      | 201/499 [31:13<1:39:48, 20.10s/it]"
     ]
    },
    {
     "name": "stdout",
     "output_type": "stream",
     "text": [
      "https://reviews.webmd.com/drugs/drugreview-3783-diltiazem-24hr-er\n"
     ]
    },
    {
     "name": "stderr",
     "output_type": "stream",
     "text": [
      "100%|██████████| 10/10 [00:20<00:00,  2.09s/it]\n",
      " 40%|████      | 202/499 [31:37<1:45:37, 21.34s/it]"
     ]
    },
    {
     "name": "stdout",
     "output_type": "stream",
     "text": [
      "https://reviews.webmd.com/drugs/drugreview-3783-diltiazem-24hr-er-cd\n"
     ]
    },
    {
     "name": "stderr",
     "output_type": "stream",
     "text": [
      "100%|██████████| 10/10 [00:20<00:00,  2.01s/it]\n",
      " 41%|████      | 203/499 [32:01<1:48:15, 21.95s/it]"
     ]
    },
    {
     "name": "stdout",
     "output_type": "stream",
     "text": [
      "https://reviews.webmd.com/drugs/drugreview-3783-diltiazem-24hr-er-la\n"
     ]
    },
    {
     "name": "stderr",
     "output_type": "stream",
     "text": [
      "100%|██████████| 10/10 [00:22<00:00,  2.24s/it]\n",
      " 41%|████      | 204/499 [32:26<1:53:07, 23.01s/it]"
     ]
    },
    {
     "name": "stdout",
     "output_type": "stream",
     "text": [
      "https://reviews.webmd.com/drugs/drugreview-3783-diltiazem-24hr-er-xr\n"
     ]
    },
    {
     "name": "stderr",
     "output_type": "stream",
     "text": [
      "100%|██████████| 10/10 [00:20<00:00,  2.04s/it]\n",
      " 41%|████      | 205/499 [32:50<1:53:34, 23.18s/it]"
     ]
    },
    {
     "name": "stdout",
     "output_type": "stream",
     "text": [
      "https://reviews.webmd.com/drugs/drugreview-3783-diltiazem-hcl\n"
     ]
    },
    {
     "name": "stderr",
     "output_type": "stream",
     "text": [
      "100%|██████████| 10/10 [00:20<00:00,  2.08s/it]\n",
      " 41%|████▏     | 206/499 [33:15<1:56:42, 23.90s/it]"
     ]
    },
    {
     "name": "stdout",
     "output_type": "stream",
     "text": [
      "https://reviews.webmd.com/drugs/drugreview-3924-cardizem-sr-capsule-12-hr-capsule-er-hr\n"
     ]
    },
    {
     "name": "stderr",
     "output_type": "stream",
     "text": [
      "100%|██████████| 1/1 [00:01<00:00,  1.53s/it]\n",
      " 41%|████▏     | 207/499 [33:20<1:28:39, 18.22s/it]"
     ]
    },
    {
     "name": "stdout",
     "output_type": "stream",
     "text": [
      "https://reviews.webmd.com/drugs/drugreview-3926-diltiazem-hcl-cr-capsule-12-hr-capsule-er-hr\n"
     ]
    },
    {
     "name": "stderr",
     "output_type": "stream",
     "text": [
      " 42%|████▏     | 208/499 [33:24<1:06:52, 13.79s/it]"
     ]
    },
    {
     "name": "stdout",
     "output_type": "stream",
     "text": [
      "https://reviews.webmd.com/drugs/drugreview-3926-diltiazem-hcl-cr-capsule-er\n"
     ]
    },
    {
     "name": "stderr",
     "output_type": "stream",
     "text": [
      " 42%|████▏     | 209/499 [33:27<50:39, 10.48s/it]  "
     ]
    },
    {
     "name": "stdout",
     "output_type": "stream",
     "text": [
      "https://reviews.webmd.com/drugs/drugreview-3951-chlorthalidone\n"
     ]
    },
    {
     "name": "stderr",
     "output_type": "stream",
     "text": [
      "100%|██████████| 5/5 [00:13<00:00,  2.80s/it]\n",
      " 42%|████▏     | 210/499 [33:44<1:00:37, 12.59s/it]"
     ]
    },
    {
     "name": "stdout",
     "output_type": "stream",
     "text": [
      "https://reviews.webmd.com/drugs/drugreview-3971-accupril\n"
     ]
    },
    {
     "name": "stderr",
     "output_type": "stream",
     "text": [
      "100%|██████████| 3/3 [00:06<00:00,  2.04s/it]\n",
      " 42%|████▏     | 212/499 [33:55<41:56,  8.77s/it]  "
     ]
    },
    {
     "name": "stdout",
     "output_type": "stream",
     "text": [
      "skipping https://reviews.webmd.com/drugs/drugreview-4030-moexipril-hydrochlorothiazide-tablet: page not found\n",
      "https://reviews.webmd.com/drugs/drugreview-4365-acebutolol-hcl\n"
     ]
    },
    {
     "name": "stderr",
     "output_type": "stream",
     "text": [
      "100%|██████████| 1/1 [00:02<00:00,  2.05s/it]\n",
      " 43%|████▎     | 214/499 [34:03<28:24,  5.98s/it]"
     ]
    },
    {
     "name": "stdout",
     "output_type": "stream",
     "text": [
      "skipping https://reviews.webmd.com/drugs/drugreview-4477-uniretic-tablet: page not found\n"
     ]
    },
    {
     "name": "stderr",
     "output_type": "stream",
     "text": [
      " 43%|████▎     | 215/499 [34:04<22:10,  4.68s/it]"
     ]
    },
    {
     "name": "stdout",
     "output_type": "stream",
     "text": [
      "skipping https://reviews.webmd.com/drugs/drugreview-4479-esimil-tablet: page not found\n",
      "https://reviews.webmd.com/drugs/drugreview-4682-benazepril-hcl\n"
     ]
    },
    {
     "name": "stderr",
     "output_type": "stream",
     "text": [
      "100%|██████████| 6/6 [00:12<00:00,  2.09s/it]\n",
      " 43%|████▎     | 216/499 [34:20<37:58,  8.05s/it]"
     ]
    },
    {
     "name": "stdout",
     "output_type": "stream",
     "text": [
      "https://reviews.webmd.com/drugs/drugreview-4714-thalitone\n"
     ]
    },
    {
     "name": "stderr",
     "output_type": "stream",
     "text": [
      "100%|██████████| 1/1 [00:02<00:00,  2.41s/it]\n",
      " 43%|████▎     | 217/499 [34:26<34:27,  7.33s/it]"
     ]
    },
    {
     "name": "stdout",
     "output_type": "stream",
     "text": [
      "https://reviews.webmd.com/drugs/drugreview-4720-irbesartan\n"
     ]
    },
    {
     "name": "stderr",
     "output_type": "stream",
     "text": [
      "100%|██████████| 3/3 [00:05<00:00,  1.97s/it]\n",
      " 44%|████▎     | 218/499 [34:35<37:22,  7.98s/it]"
     ]
    },
    {
     "name": "stdout",
     "output_type": "stream",
     "text": [
      "https://reviews.webmd.com/drugs/drugreview-4729-avapro\n"
     ]
    },
    {
     "name": "stderr",
     "output_type": "stream",
     "text": [
      "100%|██████████| 12/12 [00:25<00:00,  2.13s/it]\n",
      " 44%|████▍     | 219/499 [35:05<1:06:57, 14.35s/it]"
     ]
    },
    {
     "name": "stdout",
     "output_type": "stream",
     "text": [
      "https://reviews.webmd.com/drugs/drugreview-4760-diltia-xt-capsule-er\n"
     ]
    },
    {
     "name": "stderr",
     "output_type": "stream",
     "text": [
      " 44%|████▍     | 220/499 [35:08<50:49, 10.93s/it]  "
     ]
    },
    {
     "name": "stdout",
     "output_type": "stream",
     "text": [
      "https://reviews.webmd.com/drugs/drugreview-4826-capoten-tablet\n"
     ]
    },
    {
     "name": "stderr",
     "output_type": "stream",
     "text": [
      "100%|██████████| 1/1 [00:01<00:00,  1.54s/it]\n",
      " 44%|████▍     | 221/499 [35:12<42:01,  9.07s/it]"
     ]
    },
    {
     "name": "stdout",
     "output_type": "stream",
     "text": [
      "https://reviews.webmd.com/drugs/drugreview-494-inderal-la\n"
     ]
    },
    {
     "name": "stderr",
     "output_type": "stream",
     "text": [
      "100%|██████████| 3/3 [00:05<00:00,  1.91s/it]\n",
      " 44%|████▍     | 222/499 [35:23<43:44,  9.47s/it]"
     ]
    },
    {
     "name": "stdout",
     "output_type": "stream",
     "text": [
      "https://reviews.webmd.com/drugs/drugreview-520-isoptin-sr-tablet-er\n"
     ]
    },
    {
     "name": "stderr",
     "output_type": "stream",
     "text": [
      "100%|██████████| 1/1 [00:01<00:00,  1.71s/it]\n",
      " 45%|████▍     | 223/499 [35:29<38:28,  8.37s/it]"
     ]
    },
    {
     "name": "stdout",
     "output_type": "stream",
     "text": [
      "https://reviews.webmd.com/drugs/drugreview-53558-procard-tablet\n"
     ]
    },
    {
     "name": "stderr",
     "output_type": "stream",
     "text": [
      "100%|██████████| 1/1 [00:01<00:00,  1.55s/it]\n",
      " 45%|████▍     | 224/499 [35:33<32:43,  7.14s/it]"
     ]
    },
    {
     "name": "stdout",
     "output_type": "stream",
     "text": [
      "https://reviews.webmd.com/drugs/drugreview-53559-lorol-tablet\n"
     ]
    },
    {
     "name": "stderr",
     "output_type": "stream",
     "text": [
      " 45%|████▌     | 225/499 [35:36<26:36,  5.83s/it]"
     ]
    },
    {
     "name": "stdout",
     "output_type": "stream",
     "text": [
      "https://reviews.webmd.com/drugs/drugreview-53560-tenormin-calendar-pak-tablet\n"
     ]
    },
    {
     "name": "stderr",
     "output_type": "stream",
     "text": [
      "100%|██████████| 1/1 [00:01<00:00,  1.61s/it]\n",
      " 45%|████▌     | 226/499 [35:41<25:27,  5.59s/it]"
     ]
    },
    {
     "name": "stdout",
     "output_type": "stream",
     "text": [
      "https://reviews.webmd.com/drugs/drugreview-53561-isoptin-s-r-tablet-er\n"
     ]
    },
    {
     "name": "stderr",
     "output_type": "stream",
     "text": [
      " 45%|████▌     | 227/499 [35:44<21:46,  4.80s/it]"
     ]
    },
    {
     "name": "stdout",
     "output_type": "stream",
     "text": [
      "https://reviews.webmd.com/drugs/drugreview-53587-catapres-tts-2-patch-weekly\n"
     ]
    },
    {
     "name": "stderr",
     "output_type": "stream",
     "text": [
      " 46%|████▌     | 228/499 [35:48<20:39,  4.57s/it]"
     ]
    },
    {
     "name": "stdout",
     "output_type": "stream",
     "text": [
      "https://reviews.webmd.com/drugs/drugreview-53588-catapres-tts-3-patch-weekly\n"
     ]
    },
    {
     "name": "stderr",
     "output_type": "stream",
     "text": [
      " 46%|████▌     | 230/499 [35:53<15:49,  3.53s/it]"
     ]
    },
    {
     "name": "stdout",
     "output_type": "stream",
     "text": [
      "skipping https://reviews.webmd.com/drugs/drugreview-53589-aldomet-solution: page not found\n"
     ]
    },
    {
     "name": "stderr",
     "output_type": "stream",
     "text": [
      " 46%|████▋     | 231/499 [35:55<13:21,  2.99s/it]"
     ]
    },
    {
     "name": "stdout",
     "output_type": "stream",
     "text": [
      "skipping https://reviews.webmd.com/drugs/drugreview-53590-aldomet-ester-hcl-injection-solution: page not found\n"
     ]
    },
    {
     "name": "stderr",
     "output_type": "stream",
     "text": [
      " 46%|████▋     | 232/499 [35:56<11:43,  2.63s/it]"
     ]
    },
    {
     "name": "stdout",
     "output_type": "stream",
     "text": [
      "skipping https://reviews.webmd.com/drugs/drugreview-53591-ingadine-tablet: page not found\n"
     ]
    },
    {
     "name": "stderr",
     "output_type": "stream",
     "text": [
      " 47%|████▋     | 233/499 [35:58<10:41,  2.41s/it]"
     ]
    },
    {
     "name": "stdout",
     "output_type": "stream",
     "text": [
      "skipping https://reviews.webmd.com/drugs/drugreview-53592-sandril-tablet: page not found\n"
     ]
    },
    {
     "name": "stderr",
     "output_type": "stream",
     "text": [
      " 47%|████▋     | 234/499 [36:00<09:45,  2.21s/it]"
     ]
    },
    {
     "name": "stdout",
     "output_type": "stream",
     "text": [
      "skipping https://reviews.webmd.com/drugs/drugreview-53593-serpasil-tablet: page not found\n"
     ]
    },
    {
     "name": "stderr",
     "output_type": "stream",
     "text": [
      " 47%|████▋     | 235/499 [36:02<09:22,  2.13s/it]"
     ]
    },
    {
     "name": "stdout",
     "output_type": "stream",
     "text": [
      "skipping https://reviews.webmd.com/drugs/drugreview-53594-serpate-tablet: page not found\n"
     ]
    },
    {
     "name": "stderr",
     "output_type": "stream",
     "text": [
      " 47%|████▋     | 236/499 [36:04<08:44,  2.00s/it]"
     ]
    },
    {
     "name": "stdout",
     "output_type": "stream",
     "text": [
      "skipping https://reviews.webmd.com/drugs/drugreview-53595-serpalan-tablet: page not found\n"
     ]
    },
    {
     "name": "stderr",
     "output_type": "stream",
     "text": [
      " 47%|████▋     | 237/499 [36:06<08:27,  1.94s/it]"
     ]
    },
    {
     "name": "stdout",
     "output_type": "stream",
     "text": [
      "skipping https://reviews.webmd.com/drugs/drugreview-53596-sk-reserpine-tablet: page not found\n"
     ]
    },
    {
     "name": "stderr",
     "output_type": "stream",
     "text": [
      " 48%|████▊     | 238/499 [36:07<08:02,  1.85s/it]"
     ]
    },
    {
     "name": "stdout",
     "output_type": "stream",
     "text": [
      "skipping https://reviews.webmd.com/drugs/drugreview-53597-reserpoid-tablet: page not found\n"
     ]
    },
    {
     "name": "stderr",
     "output_type": "stream",
     "text": [
      " 48%|████▊     | 239/499 [36:09<07:44,  1.79s/it]"
     ]
    },
    {
     "name": "stdout",
     "output_type": "stream",
     "text": [
      "skipping https://reviews.webmd.com/drugs/drugreview-53598-serpatab-tablet: page not found\n"
     ]
    },
    {
     "name": "stderr",
     "output_type": "stream",
     "text": [
      " 48%|████▊     | 240/499 [36:11<08:34,  1.99s/it]"
     ]
    },
    {
     "name": "stdout",
     "output_type": "stream",
     "text": [
      "skipping https://reviews.webmd.com/drugs/drugreview-53599-resa-tablet: page not found\n"
     ]
    },
    {
     "name": "stderr",
     "output_type": "stream",
     "text": [
      " 48%|████▊     | 241/499 [36:13<08:26,  1.96s/it]"
     ]
    },
    {
     "name": "stdout",
     "output_type": "stream",
     "text": [
      "skipping https://reviews.webmd.com/drugs/drugreview-53600-sertina-tablet: page not found\n"
     ]
    },
    {
     "name": "stderr",
     "output_type": "stream",
     "text": [
      " 48%|████▊     | 242/499 [36:15<08:02,  1.88s/it]"
     ]
    },
    {
     "name": "stdout",
     "output_type": "stream",
     "text": [
      "skipping https://reviews.webmd.com/drugs/drugreview-53601-serpanray-tablet: page not found\n"
     ]
    },
    {
     "name": "stderr",
     "output_type": "stream",
     "text": [
      " 49%|████▊     | 243/499 [36:17<07:57,  1.87s/it]"
     ]
    },
    {
     "name": "stdout",
     "output_type": "stream",
     "text": [
      "skipping https://reviews.webmd.com/drugs/drugreview-53602-zepine-tablet: page not found\n",
      "https://reviews.webmd.com/drugs/drugreview-53603-adrolazine-tablet\n"
     ]
    },
    {
     "name": "stderr",
     "output_type": "stream",
     "text": [
      " 49%|████▉     | 244/499 [36:20<09:28,  2.23s/it]"
     ]
    },
    {
     "name": "stdout",
     "output_type": "stream",
     "text": [
      "https://reviews.webmd.com/drugs/drugreview-53604-apresrex-tablet\n"
     ]
    },
    {
     "name": "stderr",
     "output_type": "stream",
     "text": [
      " 49%|████▉     | 245/499 [36:23<10:57,  2.59s/it]"
     ]
    },
    {
     "name": "stdout",
     "output_type": "stream",
     "text": [
      "https://reviews.webmd.com/drugs/drugreview-53605-hydralyn-tablet\n"
     ]
    },
    {
     "name": "stderr",
     "output_type": "stream",
     "text": [
      " 49%|████▉     | 246/499 [36:27<12:55,  3.07s/it]"
     ]
    },
    {
     "name": "stdout",
     "output_type": "stream",
     "text": [
      "https://reviews.webmd.com/drugs/drugreview-53606-aprex-tablet\n"
     ]
    },
    {
     "name": "stderr",
     "output_type": "stream",
     "text": [
      " 49%|████▉     | 247/499 [36:30<12:51,  3.06s/it]"
     ]
    },
    {
     "name": "stdout",
     "output_type": "stream",
     "text": [
      "https://reviews.webmd.com/drugs/drugreview-53607-hydralyn-tablet\n"
     ]
    },
    {
     "name": "stderr",
     "output_type": "stream",
     "text": [
      " 50%|████▉     | 248/499 [36:33<12:40,  3.03s/it]"
     ]
    },
    {
     "name": "stdout",
     "output_type": "stream",
     "text": [
      "https://reviews.webmd.com/drugs/drugreview-53608-aprex-tablet\n"
     ]
    },
    {
     "name": "stderr",
     "output_type": "stream",
     "text": [
      " 50%|████▉     | 249/499 [36:36<12:26,  2.99s/it]"
     ]
    },
    {
     "name": "stdout",
     "output_type": "stream",
     "text": [
      "https://reviews.webmd.com/drugs/drugreview-53609-minodyl-tablet\n"
     ]
    },
    {
     "name": "stderr",
     "output_type": "stream",
     "text": [
      " 50%|█████     | 251/499 [36:41<11:04,  2.68s/it]"
     ]
    },
    {
     "name": "stdout",
     "output_type": "stream",
     "text": [
      "skipping https://reviews.webmd.com/drugs/drugreview-53672-hctz-reserpine-hydralazine-tablet: page not found\n"
     ]
    },
    {
     "name": "stderr",
     "output_type": "stream",
     "text": [
      " 51%|█████     | 252/499 [36:43<09:52,  2.40s/it]"
     ]
    },
    {
     "name": "stdout",
     "output_type": "stream",
     "text": [
      "skipping https://reviews.webmd.com/drugs/drugreview-53673-unipres-tablet: page not found\n"
     ]
    },
    {
     "name": "stderr",
     "output_type": "stream",
     "text": [
      " 51%|█████     | 253/499 [36:46<10:16,  2.51s/it]"
     ]
    },
    {
     "name": "stdout",
     "output_type": "stream",
     "text": [
      "skipping https://reviews.webmd.com/drugs/drugreview-53674-sae-tablet: page not found\n"
     ]
    },
    {
     "name": "stderr",
     "output_type": "stream",
     "text": [
      " 51%|█████     | 254/499 [36:47<09:11,  2.25s/it]"
     ]
    },
    {
     "name": "stdout",
     "output_type": "stream",
     "text": [
      "skipping https://reviews.webmd.com/drugs/drugreview-53675-serpex-tablet: page not found\n"
     ]
    },
    {
     "name": "stderr",
     "output_type": "stream",
     "text": [
      " 51%|█████     | 255/499 [36:49<08:31,  2.10s/it]"
     ]
    },
    {
     "name": "stdout",
     "output_type": "stream",
     "text": [
      "skipping https://reviews.webmd.com/drugs/drugreview-53676-seragen-tablet: page not found\n"
     ]
    },
    {
     "name": "stderr",
     "output_type": "stream",
     "text": [
      " 51%|█████▏    | 256/499 [36:51<08:10,  2.02s/it]"
     ]
    },
    {
     "name": "stdout",
     "output_type": "stream",
     "text": [
      "skipping https://reviews.webmd.com/drugs/drugreview-53677-hydroserpazine-tablet: page not found\n"
     ]
    },
    {
     "name": "stderr",
     "output_type": "stream",
     "text": [
      " 52%|█████▏    | 257/499 [36:54<08:49,  2.19s/it]"
     ]
    },
    {
     "name": "stdout",
     "output_type": "stream",
     "text": [
      "skipping https://reviews.webmd.com/drugs/drugreview-53678-cherapas-tablet: page not found\n"
     ]
    },
    {
     "name": "stderr",
     "output_type": "stream",
     "text": [
      " 52%|█████▏    | 258/499 [36:56<08:27,  2.11s/it]"
     ]
    },
    {
     "name": "stdout",
     "output_type": "stream",
     "text": [
      "skipping https://reviews.webmd.com/drugs/drugreview-53679-panpres-tablet: page not found\n"
     ]
    },
    {
     "name": "stderr",
     "output_type": "stream",
     "text": [
      " 52%|█████▏    | 259/499 [36:58<09:05,  2.27s/it]"
     ]
    },
    {
     "name": "stdout",
     "output_type": "stream",
     "text": [
      "skipping https://reviews.webmd.com/drugs/drugreview-53680-seralazide-tablet: page not found\n"
     ]
    },
    {
     "name": "stderr",
     "output_type": "stream",
     "text": [
      " 52%|█████▏    | 260/499 [37:00<08:40,  2.18s/it]"
     ]
    },
    {
     "name": "stdout",
     "output_type": "stream",
     "text": [
      "skipping https://reviews.webmd.com/drugs/drugreview-53681-serapine-tablet: page not found\n"
     ]
    },
    {
     "name": "stderr",
     "output_type": "stream",
     "text": [
      " 52%|█████▏    | 261/499 [37:02<08:14,  2.08s/it]"
     ]
    },
    {
     "name": "stdout",
     "output_type": "stream",
     "text": [
      "skipping https://reviews.webmd.com/drugs/drugreview-53682-marpres-tablet: page not found\n"
     ]
    },
    {
     "name": "stderr",
     "output_type": "stream",
     "text": [
      " 53%|█████▎    | 262/499 [37:04<08:15,  2.09s/it]"
     ]
    },
    {
     "name": "stdout",
     "output_type": "stream",
     "text": [
      "skipping https://reviews.webmd.com/drugs/drugreview-53683-serathide-tablet: page not found\n"
     ]
    },
    {
     "name": "stderr",
     "output_type": "stream",
     "text": [
      " 53%|█████▎    | 263/499 [37:06<07:44,  1.97s/it]"
     ]
    },
    {
     "name": "stdout",
     "output_type": "stream",
     "text": [
      "skipping https://reviews.webmd.com/drugs/drugreview-53684-d-pres-tablet: page not found\n"
     ]
    },
    {
     "name": "stderr",
     "output_type": "stream",
     "text": [
      " 53%|█████▎    | 264/499 [37:08<07:31,  1.92s/it]"
     ]
    },
    {
     "name": "stdout",
     "output_type": "stream",
     "text": [
      "skipping https://reviews.webmd.com/drugs/drugreview-53685-hrh-tablet: page not found\n"
     ]
    },
    {
     "name": "stderr",
     "output_type": "stream",
     "text": [
      " 53%|█████▎    | 265/499 [37:09<07:26,  1.91s/it]"
     ]
    },
    {
     "name": "stdout",
     "output_type": "stream",
     "text": [
      "skipping https://reviews.webmd.com/drugs/drugreview-53686-serge-tablet: page not found\n"
     ]
    },
    {
     "name": "stderr",
     "output_type": "stream",
     "text": [
      " 53%|█████▎    | 266/499 [37:11<07:09,  1.84s/it]"
     ]
    },
    {
     "name": "stdout",
     "output_type": "stream",
     "text": [
      "skipping https://reviews.webmd.com/drugs/drugreview-53687-hydroap-es-tablet: page not found\n"
     ]
    },
    {
     "name": "stderr",
     "output_type": "stream",
     "text": [
      " 54%|█████▎    | 267/499 [37:13<07:02,  1.82s/it]"
     ]
    },
    {
     "name": "stdout",
     "output_type": "stream",
     "text": [
      "skipping https://reviews.webmd.com/drugs/drugreview-53688-hydroserpine-plus-tablet: page not found\n",
      "https://reviews.webmd.com/drugs/drugreview-53689-atenolol-w-chlorthalidone-tablet\n"
     ]
    },
    {
     "name": "stderr",
     "output_type": "stream",
     "text": [
      " 54%|█████▎    | 268/499 [37:16<08:16,  2.15s/it]"
     ]
    },
    {
     "name": "stdout",
     "output_type": "stream",
     "text": [
      "https://reviews.webmd.com/drugs/drugreview-53690-propranolol-hcl-w-hctz-tablet\n"
     ]
    },
    {
     "name": "stderr",
     "output_type": "stream",
     "text": [
      " 54%|█████▍    | 269/499 [37:19<09:26,  2.46s/it]"
     ]
    },
    {
     "name": "stdout",
     "output_type": "stream",
     "text": [
      "https://reviews.webmd.com/drugs/drugreview-53691-inderide-40-25-tablet\n"
     ]
    },
    {
     "name": "stderr",
     "output_type": "stream",
     "text": [
      " 54%|█████▍    | 270/499 [37:23<11:40,  3.06s/it]"
     ]
    },
    {
     "name": "stdout",
     "output_type": "stream",
     "text": [
      "https://reviews.webmd.com/drugs/drugreview-53692-inderide-80-25-tablet\n"
     ]
    },
    {
     "name": "stderr",
     "output_type": "stream",
     "text": [
      " 55%|█████▍    | 272/499 [37:29<10:26,  2.76s/it]"
     ]
    },
    {
     "name": "stdout",
     "output_type": "stream",
     "text": [
      "skipping https://reviews.webmd.com/drugs/drugreview-53693-clonidine-hcl-w-chlorthalidone-tablet: page not found\n"
     ]
    },
    {
     "name": "stderr",
     "output_type": "stream",
     "text": [
      " 55%|█████▍    | 273/499 [37:31<09:28,  2.51s/it]"
     ]
    },
    {
     "name": "stdout",
     "output_type": "stream",
     "text": [
      "skipping https://reviews.webmd.com/drugs/drugreview-53694-clonidine-w-chlorthalidone-tablet: page not found\n"
     ]
    },
    {
     "name": "stderr",
     "output_type": "stream",
     "text": [
      " 55%|█████▍    | 274/499 [37:32<08:40,  2.31s/it]"
     ]
    },
    {
     "name": "stdout",
     "output_type": "stream",
     "text": [
      "skipping https://reviews.webmd.com/drugs/drugreview-53695-combipres-tablet: page not found\n"
     ]
    },
    {
     "name": "stderr",
     "output_type": "stream",
     "text": [
      " 55%|█████▌    | 275/499 [37:34<07:52,  2.11s/it]"
     ]
    },
    {
     "name": "stdout",
     "output_type": "stream",
     "text": [
      "skipping https://reviews.webmd.com/drugs/drugreview-53696-methyldopa-w-chlorothiazide-tablet: page not found\n"
     ]
    },
    {
     "name": "stderr",
     "output_type": "stream",
     "text": [
      " 55%|█████▌    | 276/499 [37:36<07:27,  2.01s/it]"
     ]
    },
    {
     "name": "stdout",
     "output_type": "stream",
     "text": [
      "skipping https://reviews.webmd.com/drugs/drugreview-53697-minizide-2-capsule: page not found\n"
     ]
    },
    {
     "name": "stderr",
     "output_type": "stream",
     "text": [
      " 56%|█████▌    | 277/499 [37:38<07:00,  1.90s/it]"
     ]
    },
    {
     "name": "stdout",
     "output_type": "stream",
     "text": [
      "skipping https://reviews.webmd.com/drugs/drugreview-53698-hydralazine-w-hctz-capsule: page not found\n"
     ]
    },
    {
     "name": "stderr",
     "output_type": "stream",
     "text": [
      " 56%|█████▌    | 278/499 [37:40<07:36,  2.07s/it]"
     ]
    },
    {
     "name": "stdout",
     "output_type": "stream",
     "text": [
      "skipping https://reviews.webmd.com/drugs/drugreview-53699-hydrazide-capsule: page not found\n"
     ]
    },
    {
     "name": "stderr",
     "output_type": "stream",
     "text": [
      " 56%|█████▌    | 279/499 [37:42<07:34,  2.07s/it]"
     ]
    },
    {
     "name": "stdout",
     "output_type": "stream",
     "text": [
      "skipping https://reviews.webmd.com/drugs/drugreview-53700-hy-zide-capsule: page not found\n"
     ]
    },
    {
     "name": "stderr",
     "output_type": "stream",
     "text": [
      " 56%|█████▌    | 280/499 [37:44<07:21,  2.02s/it]"
     ]
    },
    {
     "name": "stdout",
     "output_type": "stream",
     "text": [
      "skipping https://reviews.webmd.com/drugs/drugreview-53701-hydra-zide-capsule: page not found\n",
      "https://reviews.webmd.com/drugs/drugreview-53705-lasimide-tablet\n"
     ]
    },
    {
     "name": "stderr",
     "output_type": "stream",
     "text": [
      "100%|██████████| 1/1 [00:01<00:00,  1.78s/it]\n",
      " 56%|█████▋    | 281/499 [37:49<10:36,  2.92s/it]"
     ]
    },
    {
     "name": "stdout",
     "output_type": "stream",
     "text": [
      "https://reviews.webmd.com/drugs/drugreview-53706-fumide-tablet\n"
     ]
    },
    {
     "name": "stderr",
     "output_type": "stream",
     "text": [
      " 57%|█████▋    | 282/499 [37:52<10:28,  2.90s/it]"
     ]
    },
    {
     "name": "stdout",
     "output_type": "stream",
     "text": [
      "https://reviews.webmd.com/drugs/drugreview-53707-delone-tablet\n"
     ]
    },
    {
     "name": "stderr",
     "output_type": "stream",
     "text": [
      " 57%|█████▋    | 283/499 [37:56<11:16,  3.13s/it]"
     ]
    },
    {
     "name": "stdout",
     "output_type": "stream",
     "text": [
      "https://reviews.webmd.com/drugs/drugreview-53708-lo-aqua-tablet\n"
     ]
    },
    {
     "name": "stderr",
     "output_type": "stream",
     "text": [
      " 57%|█████▋    | 284/499 [38:00<12:30,  3.49s/it]"
     ]
    },
    {
     "name": "stdout",
     "output_type": "stream",
     "text": [
      "https://reviews.webmd.com/drugs/drugreview-53709-furoben-tablet\n"
     ]
    },
    {
     "name": "stderr",
     "output_type": "stream",
     "text": [
      "100%|██████████| 1/1 [00:01<00:00,  1.55s/it]\n",
      " 57%|█████▋    | 285/499 [38:04<13:26,  3.77s/it]"
     ]
    },
    {
     "name": "stdout",
     "output_type": "stream",
     "text": [
      "https://reviews.webmd.com/drugs/drugreview-53710-detue-tablet\n"
     ]
    },
    {
     "name": "stderr",
     "output_type": "stream",
     "text": [
      " 57%|█████▋    | 286/499 [38:08<13:36,  3.83s/it]"
     ]
    },
    {
     "name": "stdout",
     "output_type": "stream",
     "text": [
      "https://reviews.webmd.com/drugs/drugreview-53717-altex-tablet\n"
     ]
    },
    {
     "name": "stderr",
     "output_type": "stream",
     "text": [
      " 58%|█████▊    | 287/499 [38:11<12:37,  3.57s/it]"
     ]
    },
    {
     "name": "stdout",
     "output_type": "stream",
     "text": [
      "https://reviews.webmd.com/drugs/drugreview-53718-spirazone-tablet\n"
     ]
    },
    {
     "name": "stderr",
     "output_type": "stream",
     "text": [
      " 58%|█████▊    | 289/499 [38:16<10:21,  2.96s/it]"
     ]
    },
    {
     "name": "stdout",
     "output_type": "stream",
     "text": [
      "skipping https://reviews.webmd.com/drugs/drugreview-53719-naturetin-tablet: page not found\n",
      "https://reviews.webmd.com/drugs/drugreview-53720-sk-chlorothiazide-tablet\n"
     ]
    },
    {
     "name": "stderr",
     "output_type": "stream",
     "text": [
      " 58%|█████▊    | 290/499 [38:21<12:17,  3.53s/it]"
     ]
    },
    {
     "name": "stdout",
     "output_type": "stream",
     "text": [
      "https://reviews.webmd.com/drugs/drugreview-53721-dithirex-tablet\n"
     ]
    },
    {
     "name": "stderr",
     "output_type": "stream",
     "text": [
      " 58%|█████▊    | 291/499 [38:25<12:47,  3.69s/it]"
     ]
    },
    {
     "name": "stdout",
     "output_type": "stream",
     "text": [
      "https://reviews.webmd.com/drugs/drugreview-53722-diurigen-tablet\n"
     ]
    },
    {
     "name": "stderr",
     "output_type": "stream",
     "text": [
      " 59%|█████▊    | 292/499 [38:28<11:51,  3.44s/it]"
     ]
    },
    {
     "name": "stdout",
     "output_type": "stream",
     "text": [
      "https://reviews.webmd.com/drugs/drugreview-53723-chlorulan-tablet\n"
     ]
    },
    {
     "name": "stderr",
     "output_type": "stream",
     "text": [
      " 59%|█████▊    | 293/499 [38:31<11:14,  3.27s/it]"
     ]
    },
    {
     "name": "stdout",
     "output_type": "stream",
     "text": [
      "https://reviews.webmd.com/drugs/drugreview-53724-kenuril-tablet\n"
     ]
    },
    {
     "name": "stderr",
     "output_type": "stream",
     "text": [
      " 59%|█████▉    | 294/499 [38:34<10:50,  3.18s/it]"
     ]
    },
    {
     "name": "stdout",
     "output_type": "stream",
     "text": [
      "https://reviews.webmd.com/drugs/drugreview-53725-kenuril-tablet\n"
     ]
    },
    {
     "name": "stderr",
     "output_type": "stream",
     "text": [
      " 59%|█████▉    | 295/499 [38:37<10:48,  3.18s/it]"
     ]
    },
    {
     "name": "stdout",
     "output_type": "stream",
     "text": [
      "https://reviews.webmd.com/drugs/drugreview-53726-biogroton-tablet\n"
     ]
    },
    {
     "name": "stderr",
     "output_type": "stream",
     "text": [
      " 59%|█████▉    | 296/499 [38:39<10:08,  3.00s/it]"
     ]
    },
    {
     "name": "stdout",
     "output_type": "stream",
     "text": [
      "https://reviews.webmd.com/drugs/drugreview-53727-hylidone-tablet\n"
     ]
    },
    {
     "name": "stderr",
     "output_type": "stream",
     "text": [
      " 60%|█████▉    | 297/499 [38:42<10:02,  2.98s/it]"
     ]
    },
    {
     "name": "stdout",
     "output_type": "stream",
     "text": [
      "https://reviews.webmd.com/drugs/drugreview-53728-sk-hydrochlorothiazide-tablet\n"
     ]
    },
    {
     "name": "stderr",
     "output_type": "stream",
     "text": [
      " 60%|█████▉    | 298/499 [38:45<10:04,  3.01s/it]"
     ]
    },
    {
     "name": "stdout",
     "output_type": "stream",
     "text": [
      "https://reviews.webmd.com/drugs/drugreview-53729-hydrorex-tablet\n"
     ]
    },
    {
     "name": "stderr",
     "output_type": "stream",
     "text": [
      " 60%|█████▉    | 299/499 [38:48<09:53,  2.97s/it]"
     ]
    },
    {
     "name": "stdout",
     "output_type": "stream",
     "text": [
      "https://reviews.webmd.com/drugs/drugreview-53730-icn-hythide-tablet\n"
     ]
    },
    {
     "name": "stderr",
     "output_type": "stream",
     "text": [
      " 60%|██████    | 300/499 [38:51<09:44,  2.94s/it]"
     ]
    },
    {
     "name": "stdout",
     "output_type": "stream",
     "text": [
      "https://reviews.webmd.com/drugs/drugreview-53731-hydrochlorulan-tablet\n"
     ]
    },
    {
     "name": "stderr",
     "output_type": "stream",
     "text": [
      " 60%|██████    | 301/499 [38:55<10:26,  3.16s/it]"
     ]
    },
    {
     "name": "stdout",
     "output_type": "stream",
     "text": [
      "https://reviews.webmd.com/drugs/drugreview-53732-hydoril-tablet\n"
     ]
    },
    {
     "name": "stderr",
     "output_type": "stream",
     "text": [
      " 61%|██████    | 302/499 [38:58<10:12,  3.11s/it]"
     ]
    },
    {
     "name": "stdout",
     "output_type": "stream",
     "text": [
      "https://reviews.webmd.com/drugs/drugreview-53733-hyazide-tablet\n"
     ]
    },
    {
     "name": "stderr",
     "output_type": "stream",
     "text": [
      " 61%|██████    | 303/499 [39:01<09:57,  3.05s/it]"
     ]
    },
    {
     "name": "stdout",
     "output_type": "stream",
     "text": [
      "https://reviews.webmd.com/drugs/drugreview-53734-hydro-d-tablet\n"
     ]
    },
    {
     "name": "stderr",
     "output_type": "stream",
     "text": [
      " 61%|██████    | 304/499 [39:04<09:41,  2.98s/it]"
     ]
    },
    {
     "name": "stdout",
     "output_type": "stream",
     "text": [
      "https://reviews.webmd.com/drugs/drugreview-53735-loqua-tablet\n"
     ]
    },
    {
     "name": "stderr",
     "output_type": "stream",
     "text": [
      " 61%|██████    | 305/499 [39:07<09:43,  3.01s/it]"
     ]
    },
    {
     "name": "stdout",
     "output_type": "stream",
     "text": [
      "https://reviews.webmd.com/drugs/drugreview-53736-kenazide-h-tablet\n"
     ]
    },
    {
     "name": "stderr",
     "output_type": "stream",
     "text": [
      " 61%|██████▏   | 306/499 [39:11<10:28,  3.26s/it]"
     ]
    },
    {
     "name": "stdout",
     "output_type": "stream",
     "text": [
      "https://reviews.webmd.com/drugs/drugreview-53737-m-zide-tablet\n"
     ]
    },
    {
     "name": "stderr",
     "output_type": "stream",
     "text": [
      " 62%|██████▏   | 307/499 [39:13<09:52,  3.08s/it]"
     ]
    },
    {
     "name": "stdout",
     "output_type": "stream",
     "text": [
      "https://reviews.webmd.com/drugs/drugreview-53738-hydroaca-tablet\n"
     ]
    },
    {
     "name": "stderr",
     "output_type": "stream",
     "text": [
      " 62%|██████▏   | 308/499 [39:16<09:44,  3.06s/it]"
     ]
    },
    {
     "name": "stdout",
     "output_type": "stream",
     "text": [
      "https://reviews.webmd.com/drugs/drugreview-53739-hyclar-tablet\n"
     ]
    },
    {
     "name": "stderr",
     "output_type": "stream",
     "text": [
      " 62%|██████▏   | 309/499 [39:19<09:29,  3.00s/it]"
     ]
    },
    {
     "name": "stdout",
     "output_type": "stream",
     "text": [
      "https://reviews.webmd.com/drugs/drugreview-53740-tri-zide-tablet\n"
     ]
    },
    {
     "name": "stderr",
     "output_type": "stream",
     "text": [
      " 62%|██████▏   | 310/499 [39:22<09:32,  3.03s/it]"
     ]
    },
    {
     "name": "stdout",
     "output_type": "stream",
     "text": [
      "https://reviews.webmd.com/drugs/drugreview-53741-hydromal-tablet\n"
     ]
    },
    {
     "name": "stderr",
     "output_type": "stream",
     "text": [
      " 62%|██████▏   | 311/499 [39:25<09:24,  3.00s/it]"
     ]
    },
    {
     "name": "stdout",
     "output_type": "stream",
     "text": [
      "https://reviews.webmd.com/drugs/drugreview-53742-hydro-z-tablet\n"
     ]
    },
    {
     "name": "stderr",
     "output_type": "stream",
     "text": [
      " 63%|██████▎   | 312/499 [39:28<09:37,  3.09s/it]"
     ]
    },
    {
     "name": "stdout",
     "output_type": "stream",
     "text": [
      "https://reviews.webmd.com/drugs/drugreview-53743-hydro-chlor-tablet\n"
     ]
    },
    {
     "name": "stderr",
     "output_type": "stream",
     "text": [
      "100%|██████████| 1/1 [00:01<00:00,  1.84s/it]\n",
      " 63%|██████▎   | 313/499 [39:33<11:11,  3.61s/it]"
     ]
    },
    {
     "name": "stdout",
     "output_type": "stream",
     "text": [
      "https://reviews.webmd.com/drugs/drugreview-53744-hydrozide-tablet\n"
     ]
    },
    {
     "name": "stderr",
     "output_type": "stream",
     "text": [
      " 63%|██████▎   | 314/499 [39:36<10:36,  3.44s/it]"
     ]
    },
    {
     "name": "stdout",
     "output_type": "stream",
     "text": [
      "https://reviews.webmd.com/drugs/drugreview-53745-tenzide-tablet\n"
     ]
    },
    {
     "name": "stderr",
     "output_type": "stream",
     "text": [
      " 63%|██████▎   | 315/499 [39:40<11:15,  3.67s/it]"
     ]
    },
    {
     "name": "stdout",
     "output_type": "stream",
     "text": [
      "https://reviews.webmd.com/drugs/drugreview-53746-aqua-cen-tablet\n"
     ]
    },
    {
     "name": "stderr",
     "output_type": "stream",
     "text": [
      " 63%|██████▎   | 316/499 [39:44<11:11,  3.67s/it]"
     ]
    },
    {
     "name": "stdout",
     "output_type": "stream",
     "text": [
      "https://reviews.webmd.com/drugs/drugreview-53747-hydro-t-tablet\n"
     ]
    },
    {
     "name": "stderr",
     "output_type": "stream",
     "text": [
      " 64%|██████▎   | 317/499 [39:47<10:41,  3.53s/it]"
     ]
    },
    {
     "name": "stdout",
     "output_type": "stream",
     "text": [
      "https://reviews.webmd.com/drugs/drugreview-53748-j-zide-tablet\n"
     ]
    },
    {
     "name": "stderr",
     "output_type": "stream",
     "text": [
      " 64%|██████▎   | 318/499 [39:50<09:55,  3.29s/it]"
     ]
    },
    {
     "name": "stdout",
     "output_type": "stream",
     "text": [
      "https://reviews.webmd.com/drugs/drugreview-53749-loqua-tablet\n"
     ]
    },
    {
     "name": "stderr",
     "output_type": "stream",
     "text": [
      " 64%|██████▍   | 319/499 [39:53<09:30,  3.17s/it]"
     ]
    },
    {
     "name": "stdout",
     "output_type": "stream",
     "text": [
      "https://reviews.webmd.com/drugs/drugreview-53750-diurazide-tablet\n"
     ]
    },
    {
     "name": "stderr",
     "output_type": "stream",
     "text": [
      " 64%|██████▍   | 320/499 [39:57<09:51,  3.30s/it]"
     ]
    },
    {
     "name": "stdout",
     "output_type": "stream",
     "text": [
      "https://reviews.webmd.com/drugs/drugreview-53751-kenazide-h-tablet\n"
     ]
    },
    {
     "name": "stderr",
     "output_type": "stream",
     "text": [
      " 64%|██████▍   | 321/499 [40:00<09:35,  3.23s/it]"
     ]
    },
    {
     "name": "stdout",
     "output_type": "stream",
     "text": [
      "https://reviews.webmd.com/drugs/drugreview-53752-kenazide-e-tablet\n"
     ]
    },
    {
     "name": "stderr",
     "output_type": "stream",
     "text": [
      " 65%|██████▍   | 322/499 [40:03<09:20,  3.17s/it]"
     ]
    },
    {
     "name": "stdout",
     "output_type": "stream",
     "text": [
      "https://reviews.webmd.com/drugs/drugreview-53753-diaqua-tablet\n"
     ]
    },
    {
     "name": "stderr",
     "output_type": "stream",
     "text": [
      " 65%|██████▍   | 323/499 [40:06<09:08,  3.12s/it]"
     ]
    },
    {
     "name": "stdout",
     "output_type": "stream",
     "text": [
      "https://reviews.webmd.com/drugs/drugreview-53754-aquamet-tablet\n"
     ]
    },
    {
     "name": "stderr",
     "output_type": "stream",
     "text": [
      " 65%|██████▍   | 324/499 [40:09<08:57,  3.07s/it]"
     ]
    },
    {
     "name": "stdout",
     "output_type": "stream",
     "text": [
      "https://reviews.webmd.com/drugs/drugreview-53755-hyclar-tablet\n"
     ]
    },
    {
     "name": "stderr",
     "output_type": "stream",
     "text": [
      " 65%|██████▌   | 325/499 [40:13<09:53,  3.41s/it]"
     ]
    },
    {
     "name": "stdout",
     "output_type": "stream",
     "text": [
      "https://reviews.webmd.com/drugs/drugreview-53756-hychlor-tablet\n"
     ]
    },
    {
     "name": "stderr",
     "output_type": "stream",
     "text": [
      "100%|██████████| 1/1 [00:01<00:00,  1.77s/it]\n",
      " 65%|██████▌   | 326/499 [40:18<11:00,  3.82s/it]"
     ]
    },
    {
     "name": "stdout",
     "output_type": "stream",
     "text": [
      "https://reviews.webmd.com/drugs/drugreview-53757-hydrozide-tablet\n"
     ]
    },
    {
     "name": "stderr",
     "output_type": "stream",
     "text": [
      " 66%|██████▌   | 327/499 [40:21<10:15,  3.58s/it]"
     ]
    },
    {
     "name": "stdout",
     "output_type": "stream",
     "text": [
      "https://reviews.webmd.com/drugs/drugreview-53758-aquazide-h-tablet\n"
     ]
    },
    {
     "name": "stderr",
     "output_type": "stream",
     "text": [
      "100%|██████████| 1/1 [00:01<00:00,  1.84s/it]\n",
      " 66%|██████▌   | 328/499 [40:25<11:05,  3.89s/it]"
     ]
    },
    {
     "name": "stdout",
     "output_type": "stream",
     "text": [
      "https://reviews.webmd.com/drugs/drugreview-53759-hydroben-tablet\n"
     ]
    },
    {
     "name": "stderr",
     "output_type": "stream",
     "text": [
      " 66%|██████▌   | 330/499 [40:31<09:06,  3.24s/it]"
     ]
    },
    {
     "name": "stdout",
     "output_type": "stream",
     "text": [
      "skipping https://reviews.webmd.com/drugs/drugreview-53760-sonazide-tablet: page not found\n",
      "https://reviews.webmd.com/drugs/drugreview-53761-diulo-tablet\n"
     ]
    },
    {
     "name": "stderr",
     "output_type": "stream",
     "text": [
      " 66%|██████▋   | 331/499 [40:34<08:55,  3.19s/it]"
     ]
    },
    {
     "name": "stdout",
     "output_type": "stream",
     "text": [
      "https://reviews.webmd.com/drugs/drugreview-53768-aquazide-tablet\n"
     ]
    },
    {
     "name": "stderr",
     "output_type": "stream",
     "text": [
      "100%|██████████| 1/1 [00:01<00:00,  1.95s/it]\n",
      " 67%|██████▋   | 332/499 [40:39<10:25,  3.75s/it]"
     ]
    },
    {
     "name": "stdout",
     "output_type": "stream",
     "text": [
      "https://reviews.webmd.com/drugs/drugreview-53772-amiloride-hcl-w-hctz-tablet\n"
     ]
    },
    {
     "name": "stderr",
     "output_type": "stream",
     "text": [
      " 67%|██████▋   | 333/499 [40:42<09:36,  3.48s/it]"
     ]
    },
    {
     "name": "stdout",
     "output_type": "stream",
     "text": [
      "https://reviews.webmd.com/drugs/drugreview-53773-spironolactone-w-hctz-tablet\n"
     ]
    },
    {
     "name": "stderr",
     "output_type": "stream",
     "text": [
      " 67%|██████▋   | 334/499 [40:45<09:01,  3.28s/it]"
     ]
    },
    {
     "name": "stdout",
     "output_type": "stream",
     "text": [
      "https://reviews.webmd.com/drugs/drugreview-53774-aldarex-plus-tablet\n"
     ]
    },
    {
     "name": "stderr",
     "output_type": "stream",
     "text": [
      " 67%|██████▋   | 335/499 [40:48<09:05,  3.32s/it]"
     ]
    },
    {
     "name": "stdout",
     "output_type": "stream",
     "text": [
      "https://reviews.webmd.com/drugs/drugreview-53775-spironazide-tablet\n"
     ]
    },
    {
     "name": "stderr",
     "output_type": "stream",
     "text": [
      "100%|██████████| 1/1 [00:01<00:00,  1.55s/it]\n",
      " 67%|██████▋   | 336/499 [40:53<10:00,  3.68s/it]"
     ]
    },
    {
     "name": "stdout",
     "output_type": "stream",
     "text": [
      "https://reviews.webmd.com/drugs/drugreview-53776-altexide-tablet\n"
     ]
    },
    {
     "name": "stderr",
     "output_type": "stream",
     "text": [
      " 68%|██████▊   | 337/499 [40:55<09:11,  3.40s/it]"
     ]
    },
    {
     "name": "stdout",
     "output_type": "stream",
     "text": [
      "https://reviews.webmd.com/drugs/drugreview-53777-spirozide-tablet\n"
     ]
    },
    {
     "name": "stderr",
     "output_type": "stream",
     "text": [
      " 68%|██████▊   | 338/499 [40:59<08:56,  3.33s/it]"
     ]
    },
    {
     "name": "stdout",
     "output_type": "stream",
     "text": [
      "https://reviews.webmd.com/drugs/drugreview-53778-decozide-tablet\n"
     ]
    },
    {
     "name": "stderr",
     "output_type": "stream",
     "text": [
      " 68%|██████▊   | 339/499 [41:01<08:35,  3.22s/it]"
     ]
    },
    {
     "name": "stdout",
     "output_type": "stream",
     "text": [
      "https://reviews.webmd.com/drugs/drugreview-53779-spirochlor-tablet\n"
     ]
    },
    {
     "name": "stderr",
     "output_type": "stream",
     "text": [
      "100%|██████████| 1/1 [00:02<00:00,  2.76s/it]\n",
      " 68%|██████▊   | 340/499 [41:08<10:47,  4.07s/it]"
     ]
    },
    {
     "name": "stdout",
     "output_type": "stream",
     "text": [
      "https://reviews.webmd.com/drugs/drugreview-53780-hydrotone-tablet\n"
     ]
    },
    {
     "name": "stderr",
     "output_type": "stream",
     "text": [
      " 68%|██████▊   | 341/499 [41:11<10:05,  3.83s/it]"
     ]
    },
    {
     "name": "stdout",
     "output_type": "stream",
     "text": [
      "https://reviews.webmd.com/drugs/drugreview-53781-triamterene-w-hctz-capsule\n"
     ]
    },
    {
     "name": "stderr",
     "output_type": "stream",
     "text": [
      " 69%|██████▊   | 342/499 [41:15<10:09,  3.88s/it]"
     ]
    },
    {
     "name": "stdout",
     "output_type": "stream",
     "text": [
      "https://reviews.webmd.com/drugs/drugreview-53782-triamtazide-capsule\n"
     ]
    },
    {
     "name": "stderr",
     "output_type": "stream",
     "text": [
      "100%|██████████| 1/1 [00:01<00:00,  1.48s/it]\n",
      " 69%|██████▊   | 343/499 [41:19<10:35,  4.07s/it]"
     ]
    },
    {
     "name": "stdout",
     "output_type": "stream",
     "text": [
      "https://reviews.webmd.com/drugs/drugreview-53784-trimax-tablet\n"
     ]
    },
    {
     "name": "stderr",
     "output_type": "stream",
     "text": [
      "100%|██████████| 1/1 [00:01<00:00,  1.99s/it]\n",
      " 69%|██████▉   | 344/499 [41:25<11:36,  4.49s/it]"
     ]
    },
    {
     "name": "stdout",
     "output_type": "stream",
     "text": [
      "https://reviews.webmd.com/drugs/drugreview-5574-carvedilol\n"
     ]
    },
    {
     "name": "stderr",
     "output_type": "stream",
     "text": [
      "100%|██████████| 19/19 [00:40<00:00,  2.12s/it]\n",
      " 69%|██████▉   | 346/499 [42:12<31:06, 12.20s/it]"
     ]
    },
    {
     "name": "stdout",
     "output_type": "stream",
     "text": [
      "skipping https://reviews.webmd.com/drugs/drugreview-5588-apresazide-capsule: page not found\n",
      "https://reviews.webmd.com/drugs/drugreview-5591-zestoretic\n"
     ]
    },
    {
     "name": "stderr",
     "output_type": "stream",
     "text": [
      "100%|██████████| 3/3 [00:05<00:00,  1.99s/it]\n",
      " 70%|██████▉   | 348/499 [42:23<21:33,  8.56s/it]"
     ]
    },
    {
     "name": "stdout",
     "output_type": "stream",
     "text": [
      "skipping https://reviews.webmd.com/drugs/drugreview-5734-saluron-tablet: page not found\n",
      "https://reviews.webmd.com/drugs/drugreview-5891-amlodipine-besylate\n"
     ]
    },
    {
     "name": "stderr",
     "output_type": "stream",
     "text": [
      "100%|██████████| 47/47 [01:37<00:00,  2.07s/it]\n",
      " 70%|██████▉   | 349/499 [44:04<1:30:37, 36.25s/it]"
     ]
    },
    {
     "name": "stdout",
     "output_type": "stream",
     "text": [
      "https://reviews.webmd.com/drugs/drugreview-5942-norvasc\n"
     ]
    },
    {
     "name": "stderr",
     "output_type": "stream",
     "text": [
      "100%|██████████| 34/34 [01:10<00:00,  2.09s/it]\n",
      " 70%|███████   | 350/499 [45:18<1:58:15, 47.62s/it]"
     ]
    },
    {
     "name": "stdout",
     "output_type": "stream",
     "text": [
      "https://reviews.webmd.com/drugs/drugreview-5943-oretic-tablet\n"
     ]
    },
    {
     "name": "stderr",
     "output_type": "stream",
     "text": [
      "100%|██████████| 1/1 [00:01<00:00,  1.70s/it]\n",
      " 70%|███████   | 351/499 [45:23<1:25:54, 34.83s/it]"
     ]
    },
    {
     "name": "stdout",
     "output_type": "stream",
     "text": [
      "https://reviews.webmd.com/drugs/drugreview-6010-adalat-cc-tablet-er\n"
     ]
    },
    {
     "name": "stderr",
     "output_type": "stream",
     "text": [
      "100%|██████████| 1/1 [00:01<00:00,  1.73s/it]\n",
      " 71%|███████   | 352/499 [45:28<1:03:30, 25.92s/it]"
     ]
    },
    {
     "name": "stdout",
     "output_type": "stream",
     "text": [
      "https://reviews.webmd.com/drugs/drugreview-6036-fosinopril-sodium\n"
     ]
    },
    {
     "name": "stderr",
     "output_type": "stream",
     "text": [
      "100%|██████████| 2/2 [00:03<00:00,  1.92s/it]\n",
      " 71%|███████   | 353/499 [45:37<50:21, 20.70s/it]  "
     ]
    },
    {
     "name": "stdout",
     "output_type": "stream",
     "text": [
      "https://reviews.webmd.com/drugs/drugreview-6254-quinapril-hcl\n"
     ]
    },
    {
     "name": "stderr",
     "output_type": "stream",
     "text": [
      "100%|██████████| 3/3 [00:06<00:00,  2.09s/it]\n",
      " 71%|███████   | 354/499 [45:47<42:06, 17.43s/it]"
     ]
    },
    {
     "name": "stdout",
     "output_type": "stream",
     "text": [
      "https://reviews.webmd.com/drugs/drugreview-6288-spironolactone\n"
     ]
    },
    {
     "name": "stderr",
     "output_type": "stream",
     "text": [
      "100%|██████████| 22/22 [00:47<00:00,  2.18s/it]\n",
      " 71%|███████   | 355/499 [46:38<1:06:32, 27.73s/it]"
     ]
    },
    {
     "name": "stdout",
     "output_type": "stream",
     "text": [
      "https://reviews.webmd.com/drugs/drugreview-6301-enalapril-maleate\n"
     ]
    },
    {
     "name": "stderr",
     "output_type": "stream",
     "text": [
      "100%|██████████| 9/9 [00:20<00:00,  2.23s/it]\n",
      " 71%|███████▏  | 356/499 [47:02<1:03:11, 26.51s/it]"
     ]
    },
    {
     "name": "stdout",
     "output_type": "stream",
     "text": [
      "https://reviews.webmd.com/drugs/drugreview-6301-enalapril-maleate-solution\n"
     ]
    },
    {
     "name": "stderr",
     "output_type": "stream",
     "text": [
      "100%|██████████| 9/9 [00:18<00:00,  2.09s/it]\n",
      " 72%|███████▏  | 357/499 [47:25<1:00:12, 25.44s/it]"
     ]
    },
    {
     "name": "stdout",
     "output_type": "stream",
     "text": [
      "https://reviews.webmd.com/drugs/drugreview-6305-chlorothiazide-suspension\n"
     ]
    },
    {
     "name": "stderr",
     "output_type": "stream",
     "text": [
      "100%|██████████| 1/1 [00:03<00:00,  3.02s/it]\n",
      " 72%|███████▏  | 358/499 [47:31<46:18, 19.71s/it]  "
     ]
    },
    {
     "name": "stdout",
     "output_type": "stream",
     "text": [
      "https://reviews.webmd.com/drugs/drugreview-6314-diovan\n"
     ]
    },
    {
     "name": "stderr",
     "output_type": "stream",
     "text": [
      "100%|██████████| 43/43 [01:32<00:00,  2.15s/it]\n",
      " 72%|███████▏  | 359/499 [49:08<1:39:45, 42.75s/it]"
     ]
    },
    {
     "name": "stdout",
     "output_type": "stream",
     "text": [
      "https://reviews.webmd.com/drugs/drugreview-63172-olmesartan-medoxomil\n"
     ]
    },
    {
     "name": "stderr",
     "output_type": "stream",
     "text": [
      "100%|██████████| 3/3 [00:05<00:00,  1.92s/it]\n",
      " 72%|███████▏  | 360/499 [49:17<1:15:33, 32.61s/it]"
     ]
    },
    {
     "name": "stdout",
     "output_type": "stream",
     "text": [
      "https://reviews.webmd.com/drugs/drugreview-63173-benicar\n"
     ]
    },
    {
     "name": "stderr",
     "output_type": "stream",
     "text": [
      "100%|██████████| 30/30 [01:02<00:00,  2.09s/it]\n",
      " 72%|███████▏  | 361/499 [50:24<1:38:47, 42.95s/it]"
     ]
    },
    {
     "name": "stdout",
     "output_type": "stream",
     "text": [
      "https://reviews.webmd.com/drugs/drugreview-63953-diltiazem-er-capsule-degradable-capsule-degradable\n"
     ]
    },
    {
     "name": "stderr",
     "output_type": "stream",
     "text": [
      "100%|██████████| 1/1 [00:01<00:00,  1.99s/it]\n",
      " 73%|███████▎  | 362/499 [50:29<1:12:16, 31.65s/it]"
     ]
    },
    {
     "name": "stdout",
     "output_type": "stream",
     "text": [
      "https://reviews.webmd.com/drugs/drugreview-64014-terazosin-capsule\n"
     ]
    },
    {
     "name": "stderr",
     "output_type": "stream",
     "text": [
      " 73%|███████▎  | 363/499 [50:32<52:09, 23.01s/it]  "
     ]
    },
    {
     "name": "stdout",
     "output_type": "stream",
     "text": [
      "https://reviews.webmd.com/drugs/drugreview-64218-eplerenone\n"
     ]
    },
    {
     "name": "stderr",
     "output_type": "stream",
     "text": [
      "100%|██████████| 1/1 [00:01<00:00,  1.79s/it]\n",
      " 73%|███████▎  | 364/499 [50:37<39:29, 17.56s/it]"
     ]
    },
    {
     "name": "stdout",
     "output_type": "stream",
     "text": [
      "https://reviews.webmd.com/drugs/drugreview-64443-nifedipine-er-tablet\n"
     ]
    },
    {
     "name": "stderr",
     "output_type": "stream",
     "text": [
      "100%|██████████| 1/1 [00:01<00:00,  1.85s/it]\n",
      " 73%|███████▎  | 365/499 [50:42<30:46, 13.78s/it]"
     ]
    },
    {
     "name": "stdout",
     "output_type": "stream",
     "text": [
      "https://reviews.webmd.com/drugs/drugreview-64443-nifedipine-er-tablet-osmotic-push-tablet-push\n"
     ]
    },
    {
     "name": "stderr",
     "output_type": "stream",
     "text": [
      "100%|██████████| 1/1 [00:01<00:00,  1.64s/it]\n",
      " 73%|███████▎  | 366/499 [50:47<24:58, 11.27s/it]"
     ]
    },
    {
     "name": "stdout",
     "output_type": "stream",
     "text": [
      "https://reviews.webmd.com/drugs/drugreview-64639-eprosartan-hydrochlorothiazide-tablet\n"
     ]
    },
    {
     "name": "stderr",
     "output_type": "stream",
     "text": [
      "100%|██████████| 1/1 [00:01<00:00,  1.66s/it]\n",
      " 74%|███████▎  | 367/499 [50:52<20:23,  9.27s/it]"
     ]
    },
    {
     "name": "stdout",
     "output_type": "stream",
     "text": [
      "https://reviews.webmd.com/drugs/drugreview-64640-teveten-hct-tablet\n"
     ]
    },
    {
     "name": "stderr",
     "output_type": "stream",
     "text": [
      "100%|██████████| 1/1 [00:01<00:00,  1.59s/it]\n",
      " 74%|███████▎  | 368/499 [50:57<17:31,  8.03s/it]"
     ]
    },
    {
     "name": "stdout",
     "output_type": "stream",
     "text": [
      "https://reviews.webmd.com/drugs/drugreview-6468-ezide-tablet\n"
     ]
    },
    {
     "name": "stderr",
     "output_type": "stream",
     "text": [
      " 74%|███████▍  | 369/499 [51:00<14:07,  6.52s/it]"
     ]
    },
    {
     "name": "stdout",
     "output_type": "stream",
     "text": [
      "https://reviews.webmd.com/drugs/drugreview-6559-edecrin\n"
     ]
    },
    {
     "name": "stderr",
     "output_type": "stream",
     "text": [
      "100%|██████████| 1/1 [00:02<00:00,  2.92s/it]\n",
      " 74%|███████▍  | 370/499 [51:07<14:31,  6.75s/it]"
     ]
    },
    {
     "name": "stdout",
     "output_type": "stream",
     "text": [
      "https://reviews.webmd.com/drugs/drugreview-6616-losartan-potassium\n"
     ]
    },
    {
     "name": "stderr",
     "output_type": "stream",
     "text": [
      "100%|██████████| 36/36 [01:19<00:00,  2.19s/it]\n",
      " 74%|███████▍  | 371/499 [52:30<1:02:47, 29.44s/it]"
     ]
    },
    {
     "name": "stdout",
     "output_type": "stream",
     "text": [
      "https://reviews.webmd.com/drugs/drugreview-6670-aldactazide\n"
     ]
    },
    {
     "name": "stderr",
     "output_type": "stream",
     "text": [
      "100%|██████████| 1/1 [00:01<00:00,  1.97s/it]\n",
      " 75%|███████▍  | 372/499 [52:35<46:57, 22.19s/it]  "
     ]
    },
    {
     "name": "stdout",
     "output_type": "stream",
     "text": [
      "https://reviews.webmd.com/drugs/drugreview-6671-aldactone\n"
     ]
    },
    {
     "name": "stderr",
     "output_type": "stream",
     "text": [
      "100%|██████████| 4/4 [00:08<00:00,  2.18s/it]\n",
      " 75%|███████▍  | 373/499 [52:48<40:48, 19.43s/it]"
     ]
    },
    {
     "name": "stdout",
     "output_type": "stream",
     "text": [
      "https://reviews.webmd.com/drugs/drugreview-6672-aldomet-tablet\n"
     ]
    },
    {
     "name": "stderr",
     "output_type": "stream",
     "text": [
      "100%|██████████| 2/2 [00:04<00:00,  2.12s/it]\n",
      " 75%|███████▍  | 374/499 [52:56<33:09, 15.92s/it]"
     ]
    },
    {
     "name": "stdout",
     "output_type": "stream",
     "text": [
      "https://reviews.webmd.com/drugs/drugreview-6673-aldoril-15-tablet\n"
     ]
    },
    {
     "name": "stderr",
     "output_type": "stream",
     "text": [
      " 75%|███████▌  | 375/499 [52:59<25:04, 12.13s/it]"
     ]
    },
    {
     "name": "stdout",
     "output_type": "stream",
     "text": [
      "https://reviews.webmd.com/drugs/drugreview-6680-apresoline-tablet\n"
     ]
    },
    {
     "name": "stderr",
     "output_type": "stream",
     "text": [
      "100%|██████████| 1/1 [00:01<00:00,  1.93s/it]\n",
      " 75%|███████▌  | 376/499 [53:04<20:48, 10.15s/it]"
     ]
    },
    {
     "name": "stdout",
     "output_type": "stream",
     "text": [
      "https://reviews.webmd.com/drugs/drugreview-6709-cardizem\n"
     ]
    },
    {
     "name": "stderr",
     "output_type": "stream",
     "text": [
      "100%|██████████| 3/3 [00:05<00:00,  1.86s/it]\n",
      " 76%|███████▌  | 378/499 [53:17<16:03,  7.96s/it]"
     ]
    },
    {
     "name": "stdout",
     "output_type": "stream",
     "text": [
      "skipping https://reviews.webmd.com/drugs/drugreview-6712-cartrol-tablet: page not found\n"
     ]
    },
    {
     "name": "stderr",
     "output_type": "stream",
     "text": [
      " 76%|███████▌  | 379/499 [53:19<12:15,  6.13s/it]"
     ]
    },
    {
     "name": "stdout",
     "output_type": "stream",
     "text": [
      "skipping https://reviews.webmd.com/drugs/drugreview-6713-carteolol-tablet: page not found\n",
      "https://reviews.webmd.com/drugs/drugreview-6714-catapres-tablet\n"
     ]
    },
    {
     "name": "stderr",
     "output_type": "stream",
     "text": [
      "100%|██████████| 3/3 [00:06<00:00,  2.02s/it]\n",
      " 76%|███████▌  | 380/499 [53:29<14:15,  7.19s/it]"
     ]
    },
    {
     "name": "stdout",
     "output_type": "stream",
     "text": [
      "https://reviews.webmd.com/drugs/drugreview-6715-catapres-tts-3-patch-weekly\n"
     ]
    },
    {
     "name": "stderr",
     "output_type": "stream",
     "text": [
      "100%|██████████| 1/1 [00:01<00:00,  1.62s/it]\n",
      " 76%|███████▋  | 381/499 [53:34<12:50,  6.53s/it]"
     ]
    },
    {
     "name": "stdout",
     "output_type": "stream",
     "text": [
      "https://reviews.webmd.com/drugs/drugreview-6716-clonidine-patch-weekly\n"
     ]
    },
    {
     "name": "stderr",
     "output_type": "stream",
     "text": [
      "100%|██████████| 2/2 [00:03<00:00,  1.85s/it]\n",
      " 77%|███████▋  | 383/499 [53:43<10:21,  5.36s/it]"
     ]
    },
    {
     "name": "stdout",
     "output_type": "stream",
     "text": [
      "skipping https://reviews.webmd.com/drugs/drugreview-6729-combipres-1-tablet: page not found\n",
      "https://reviews.webmd.com/drugs/drugreview-6762-diuril\n"
     ]
    },
    {
     "name": "stderr",
     "output_type": "stream",
     "text": [
      "100%|██████████| 1/1 [00:01<00:00,  1.87s/it]\n",
      " 77%|███████▋  | 384/499 [53:49<10:09,  5.30s/it]"
     ]
    },
    {
     "name": "stdout",
     "output_type": "stream",
     "text": [
      "https://reviews.webmd.com/drugs/drugreview-6831-hygroton-tablet\n"
     ]
    },
    {
     "name": "stderr",
     "output_type": "stream",
     "text": [
      "100%|██████████| 1/1 [00:02<00:00,  2.01s/it]\n",
      " 77%|███████▋  | 385/499 [53:54<09:54,  5.22s/it]"
     ]
    },
    {
     "name": "stdout",
     "output_type": "stream",
     "text": [
      "https://reviews.webmd.com/drugs/drugreview-6834-terazosin-hcl\n"
     ]
    },
    {
     "name": "stderr",
     "output_type": "stream",
     "text": [
      "100%|██████████| 8/8 [00:16<00:00,  2.04s/it]\n",
      " 77%|███████▋  | 386/499 [54:13<18:01,  9.57s/it]"
     ]
    },
    {
     "name": "stdout",
     "output_type": "stream",
     "text": [
      "https://reviews.webmd.com/drugs/drugreview-6835-hytrin-tablet\n"
     ]
    },
    {
     "name": "stderr",
     "output_type": "stream",
     "text": [
      "100%|██████████| 3/3 [00:06<00:00,  2.07s/it]\n",
      " 78%|███████▊  | 387/499 [54:23<17:50,  9.56s/it]"
     ]
    },
    {
     "name": "stdout",
     "output_type": "stream",
     "text": [
      "https://reviews.webmd.com/drugs/drugreview-6840-inderal-tablet\n"
     ]
    },
    {
     "name": "stderr",
     "output_type": "stream",
     "text": [
      "100%|██████████| 10/10 [00:23<00:00,  2.31s/it]\n",
      " 78%|███████▊  | 388/499 [54:50<27:23, 14.81s/it]"
     ]
    },
    {
     "name": "stdout",
     "output_type": "stream",
     "text": [
      "https://reviews.webmd.com/drugs/drugreview-6841-inderide-tablet\n"
     ]
    },
    {
     "name": "stderr",
     "output_type": "stream",
     "text": [
      " 78%|███████▊  | 389/499 [54:53<20:36, 11.24s/it]"
     ]
    },
    {
     "name": "stdout",
     "output_type": "stream",
     "text": [
      "https://reviews.webmd.com/drugs/drugreview-6860-kerlone-tablet\n"
     ]
    },
    {
     "name": "stderr",
     "output_type": "stream",
     "text": [
      "100%|██████████| 1/1 [00:01<00:00,  1.63s/it]\n",
      " 78%|███████▊  | 390/499 [54:57<16:45,  9.23s/it]"
     ]
    },
    {
     "name": "stdout",
     "output_type": "stream",
     "text": [
      "https://reviews.webmd.com/drugs/drugreview-6861-betaxolol-hcl\n"
     ]
    },
    {
     "name": "stderr",
     "output_type": "stream",
     "text": [
      "100%|██████████| 1/1 [00:01<00:00,  1.71s/it]\n",
      " 78%|███████▊  | 391/499 [55:02<14:15,  7.92s/it]"
     ]
    },
    {
     "name": "stdout",
     "output_type": "stream",
     "text": [
      "https://reviews.webmd.com/drugs/drugreview-6873-lisinopril\n"
     ]
    },
    {
     "name": "stderr",
     "output_type": "stream",
     "text": [
      "100%|██████████| 216/216 [08:16<00:00,  2.30s/it]\n",
      " 79%|███████▊  | 392/499 [1:03:23<4:37:38, 155.69s/it]"
     ]
    },
    {
     "name": "stdout",
     "output_type": "stream",
     "text": [
      "https://reviews.webmd.com/drugs/drugreview-6873-lisinopril-solution\n"
     ]
    },
    {
     "name": "stderr",
     "output_type": "stream",
     "text": [
      "100%|██████████| 216/216 [08:31<00:00,  2.37s/it]\n",
      " 79%|███████▉  | 393/499 [1:11:58<7:45:34, 263.53s/it]"
     ]
    },
    {
     "name": "stdout",
     "output_type": "stream",
     "text": [
      "https://reviews.webmd.com/drugs/drugreview-6877-loniten-tablet\n"
     ]
    },
    {
     "name": "stderr",
     "output_type": "stream",
     "text": [
      " 79%|███████▉  | 394/499 [1:12:01<5:24:25, 185.39s/it]"
     ]
    },
    {
     "name": "stdout",
     "output_type": "stream",
     "text": [
      "https://reviews.webmd.com/drugs/drugreview-6879-lopressor\n"
     ]
    },
    {
     "name": "stderr",
     "output_type": "stream",
     "text": [
      "100%|██████████| 9/9 [00:20<00:00,  2.25s/it]\n",
      " 79%|███████▉  | 395/499 [1:12:24<3:57:03, 136.76s/it]"
     ]
    },
    {
     "name": "stdout",
     "output_type": "stream",
     "text": [
      "https://reviews.webmd.com/drugs/drugreview-6883-lotensin\n"
     ]
    },
    {
     "name": "stderr",
     "output_type": "stream",
     "text": [
      "100%|██████████| 1/1 [00:01<00:00,  1.91s/it]\n",
      " 79%|███████▉  | 396/499 [1:12:29<2:46:56, 97.25s/it] "
     ]
    },
    {
     "name": "stdout",
     "output_type": "stream",
     "text": [
      "https://reviews.webmd.com/drugs/drugreview-6884-lozol-tablet\n"
     ]
    },
    {
     "name": "stderr",
     "output_type": "stream",
     "text": [
      "100%|██████████| 1/1 [00:01<00:00,  1.67s/it]\n",
      " 80%|███████▉  | 397/499 [1:12:36<1:59:09, 70.09s/it]"
     ]
    },
    {
     "name": "stdout",
     "output_type": "stream",
     "text": [
      "https://reviews.webmd.com/drugs/drugreview-6904-midamor-tablet\n"
     ]
    },
    {
     "name": "stderr",
     "output_type": "stream",
     "text": [
      "100%|██████████| 1/1 [00:01<00:00,  1.88s/it]\n",
      " 80%|███████▉  | 399/499 [1:12:43<59:58, 35.98s/it]  "
     ]
    },
    {
     "name": "stdout",
     "output_type": "stream",
     "text": [
      "skipping https://reviews.webmd.com/drugs/drugreview-6921-naturetin-tablet: page not found\n"
     ]
    },
    {
     "name": "stderr",
     "output_type": "stream",
     "text": [
      " 80%|████████  | 400/499 [1:12:45<42:26, 25.72s/it]"
     ]
    },
    {
     "name": "stdout",
     "output_type": "stream",
     "text": [
      "skipping https://reviews.webmd.com/drugs/drugreview-6922-bendroflumethiazide-tablet: page not found\n",
      "https://reviews.webmd.com/drugs/drugreview-6993-prinivil\n"
     ]
    },
    {
     "name": "stderr",
     "output_type": "stream",
     "text": [
      "100%|██████████| 4/4 [00:09<00:00,  2.41s/it]\n",
      " 80%|████████  | 401/499 [1:12:58<36:05, 22.10s/it]"
     ]
    },
    {
     "name": "stdout",
     "output_type": "stream",
     "text": [
      "https://reviews.webmd.com/drugs/drugreview-7023-sectral-capsule\n"
     ]
    },
    {
     "name": "stderr",
     "output_type": "stream",
     "text": [
      "100%|██████████| 1/1 [00:01<00:00,  1.96s/it]\n",
      " 81%|████████  | 402/499 [1:13:04<27:39, 17.11s/it]"
     ]
    },
    {
     "name": "stdout",
     "output_type": "stream",
     "text": [
      "https://reviews.webmd.com/drugs/drugreview-7037-tenex-tablet\n"
     ]
    },
    {
     "name": "stderr",
     "output_type": "stream",
     "text": [
      "100%|██████████| 4/4 [00:08<00:00,  2.24s/it]\n",
      " 81%|████████  | 403/499 [1:13:16<25:07, 15.71s/it]"
     ]
    },
    {
     "name": "stdout",
     "output_type": "stream",
     "text": [
      "https://reviews.webmd.com/drugs/drugreview-7085-verelan\n"
     ]
    },
    {
     "name": "stderr",
     "output_type": "stream",
     "text": [
      "100%|██████████| 1/1 [00:01<00:00,  1.75s/it]\n",
      " 81%|████████  | 404/499 [1:13:22<19:53, 12.56s/it]"
     ]
    },
    {
     "name": "stdout",
     "output_type": "stream",
     "text": [
      "https://reviews.webmd.com/drugs/drugreview-7086-verapamil-er\n"
     ]
    },
    {
     "name": "stderr",
     "output_type": "stream",
     "text": [
      "100%|██████████| 12/12 [00:25<00:00,  2.11s/it]\n",
      " 81%|████████  | 405/499 [1:13:50<27:17, 17.42s/it]"
     ]
    },
    {
     "name": "stdout",
     "output_type": "stream",
     "text": [
      "https://reviews.webmd.com/drugs/drugreview-7086-verapamil-hcl\n"
     ]
    },
    {
     "name": "stderr",
     "output_type": "stream",
     "text": [
      "100%|██████████| 12/12 [00:24<00:00,  2.08s/it]\n",
      " 81%|████████▏ | 406/499 [1:14:19<32:03, 20.68s/it]"
     ]
    },
    {
     "name": "stdout",
     "output_type": "stream",
     "text": [
      "https://reviews.webmd.com/drugs/drugreview-7086-verapamil-sr\n"
     ]
    },
    {
     "name": "stderr",
     "output_type": "stream",
     "text": [
      "100%|██████████| 12/12 [00:26<00:00,  2.18s/it]\n",
      " 82%|████████▏ | 407/499 [1:14:48<35:38, 23.25s/it]"
     ]
    },
    {
     "name": "stdout",
     "output_type": "stream",
     "text": [
      "https://reviews.webmd.com/drugs/drugreview-7091-visken-tablet\n"
     ]
    },
    {
     "name": "stderr",
     "output_type": "stream",
     "text": [
      "100%|██████████| 1/1 [00:01<00:00,  1.76s/it]\n",
      " 82%|████████▏ | 409/499 [1:15:01<22:32, 15.03s/it]"
     ]
    },
    {
     "name": "stdout",
     "output_type": "stream",
     "text": [
      "skipping https://reviews.webmd.com/drugs/drugreview-7094-wytensin-tablet: page not found\n",
      "https://reviews.webmd.com/drugs/drugreview-7101-zestril\n"
     ]
    },
    {
     "name": "stderr",
     "output_type": "stream",
     "text": [
      "100%|██████████| 4/4 [00:08<00:00,  2.14s/it]\n",
      " 82%|████████▏ | 411/499 [1:15:15<15:12, 10.37s/it]"
     ]
    },
    {
     "name": "stdout",
     "output_type": "stream",
     "text": [
      "skipping https://reviews.webmd.com/drugs/drugreview-7113-h-h-r-tablet: page not found\n",
      "https://reviews.webmd.com/drugs/drugreview-7115-catapres-tts-2-patch-weekly\n"
     ]
    },
    {
     "name": "stderr",
     "output_type": "stream",
     "text": [
      "100%|██████████| 1/1 [00:01<00:00,  1.89s/it]\n",
      " 83%|████████▎ | 412/499 [1:15:20<12:42,  8.77s/it]"
     ]
    },
    {
     "name": "stdout",
     "output_type": "stream",
     "text": [
      "https://reviews.webmd.com/drugs/drugreview-7117-dyazide-capsule\n"
     ]
    },
    {
     "name": "stderr",
     "output_type": "stream",
     "text": [
      "100%|██████████| 4/4 [00:08<00:00,  2.03s/it]\n",
      " 83%|████████▎ | 413/499 [1:15:31<13:35,  9.48s/it]"
     ]
    },
    {
     "name": "stdout",
     "output_type": "stream",
     "text": [
      "https://reviews.webmd.com/drugs/drugreview-7119-tenoretic-100\n"
     ]
    },
    {
     "name": "stderr",
     "output_type": "stream",
     "text": [
      "100%|██████████| 1/1 [00:01<00:00,  1.90s/it]\n",
      " 83%|████████▎ | 414/499 [1:15:37<11:50,  8.36s/it]"
     ]
    },
    {
     "name": "stdout",
     "output_type": "stream",
     "text": [
      "https://reviews.webmd.com/drugs/drugreview-7120-vaseretic\n"
     ]
    },
    {
     "name": "stderr",
     "output_type": "stream",
     "text": [
      "100%|██████████| 1/1 [00:01<00:00,  1.80s/it]\n",
      " 83%|████████▎ | 416/499 [1:15:44<08:05,  5.84s/it]"
     ]
    },
    {
     "name": "stdout",
     "output_type": "stream",
     "text": [
      "skipping https://reviews.webmd.com/drugs/drugreview-7123-corzide-tablet: page not found\n"
     ]
    },
    {
     "name": "stderr",
     "output_type": "stream",
     "text": [
      " 84%|████████▎ | 417/499 [1:15:46<06:21,  4.65s/it]"
     ]
    },
    {
     "name": "stdout",
     "output_type": "stream",
     "text": [
      "skipping https://reviews.webmd.com/drugs/drugreview-7124-inderide-la-capsule-er: page not found\n",
      "https://reviews.webmd.com/drugs/drugreview-7144-hydrodiuril-tablet\n"
     ]
    },
    {
     "name": "stderr",
     "output_type": "stream",
     "text": [
      "100%|██████████| 1/1 [00:02<00:00,  2.48s/it]\n",
      " 84%|████████▍ | 418/499 [1:15:52<06:48,  5.05s/it]"
     ]
    },
    {
     "name": "stdout",
     "output_type": "stream",
     "text": [
      "https://reviews.webmd.com/drugs/drugreview-7194-diovan-hct\n"
     ]
    },
    {
     "name": "stderr",
     "output_type": "stream",
     "text": [
      "100%|██████████| 21/21 [00:43<00:00,  2.07s/it]\n",
      " 84%|████████▍ | 419/499 [1:16:39<23:36, 17.71s/it]"
     ]
    },
    {
     "name": "stdout",
     "output_type": "stream",
     "text": [
      "https://reviews.webmd.com/drugs/drugreview-7195-valsartan-hydrochlorothiazide\n"
     ]
    },
    {
     "name": "stderr",
     "output_type": "stream",
     "text": [
      "100%|██████████| 3/3 [00:06<00:00,  2.12s/it]\n",
      " 84%|████████▍ | 420/499 [1:16:49<20:18, 15.43s/it]"
     ]
    },
    {
     "name": "stdout",
     "output_type": "stream",
     "text": [
      "https://reviews.webmd.com/drugs/drugreview-7211-normodyne-tablet\n"
     ]
    },
    {
     "name": "stderr",
     "output_type": "stream",
     "text": [
      "100%|██████████| 1/1 [00:02<00:00,  2.07s/it]\n",
      " 84%|████████▍ | 421/499 [1:16:55<16:04, 12.36s/it]"
     ]
    },
    {
     "name": "stdout",
     "output_type": "stream",
     "text": [
      "https://reviews.webmd.com/drugs/drugreview-7212-labetalol-hcl\n"
     ]
    },
    {
     "name": "stderr",
     "output_type": "stream",
     "text": [
      "100%|██████████| 9/9 [00:18<00:00,  2.05s/it]\n",
      " 85%|████████▍ | 422/499 [1:17:16<19:27, 15.17s/it]"
     ]
    },
    {
     "name": "stdout",
     "output_type": "stream",
     "text": [
      "https://reviews.webmd.com/drugs/drugreview-7214-trandate-tablet\n"
     ]
    },
    {
     "name": "stderr",
     "output_type": "stream",
     "text": [
      "100%|██████████| 1/1 [00:01<00:00,  1.72s/it]\n",
      " 85%|████████▍ | 424/499 [1:17:23<11:20,  9.08s/it]"
     ]
    },
    {
     "name": "stdout",
     "output_type": "stream",
     "text": [
      "skipping https://reviews.webmd.com/drugs/drugreview-7235-tiamate-tablet-er-24-hr: page not found\n"
     ]
    },
    {
     "name": "stderr",
     "output_type": "stream",
     "text": [
      " 85%|████████▌ | 425/499 [1:17:25<08:36,  6.98s/it]"
     ]
    },
    {
     "name": "stdout",
     "output_type": "stream",
     "text": [
      "skipping https://reviews.webmd.com/drugs/drugreview-7236-diltiazem-malate-tablet-er: page not found\n",
      "https://reviews.webmd.com/drugs/drugreview-7243-plendil-tablet-er-24-hr\n"
     ]
    },
    {
     "name": "stderr",
     "output_type": "stream",
     "text": [
      "100%|██████████| 2/2 [00:04<00:00,  2.04s/it]\n",
      " 85%|████████▌ | 426/499 [1:17:34<08:56,  7.35s/it]"
     ]
    },
    {
     "name": "stdout",
     "output_type": "stream",
     "text": [
      "https://reviews.webmd.com/drugs/drugreview-7244-felodipine-er\n"
     ]
    },
    {
     "name": "stderr",
     "output_type": "stream",
     "text": [
      "100%|██████████| 3/3 [00:05<00:00,  1.88s/it]\n",
      " 86%|████████▌ | 427/499 [1:17:44<09:50,  8.20s/it]"
     ]
    },
    {
     "name": "stdout",
     "output_type": "stream",
     "text": [
      "https://reviews.webmd.com/drugs/drugreview-7376-maxzide\n"
     ]
    },
    {
     "name": "stderr",
     "output_type": "stream",
     "text": [
      "100%|██████████| 4/4 [00:07<00:00,  1.84s/it]\n",
      " 86%|████████▌ | 428/499 [1:17:54<10:34,  8.93s/it]"
     ]
    },
    {
     "name": "stdout",
     "output_type": "stream",
     "text": [
      "https://reviews.webmd.com/drugs/drugreview-7456-catapres-tts-1-patch-weekly\n"
     ]
    },
    {
     "name": "stderr",
     "output_type": "stream",
     "text": [
      "100%|██████████| 1/1 [00:01<00:00,  1.85s/it]\n",
      " 86%|████████▌ | 429/499 [1:17:59<09:00,  7.73s/it]"
     ]
    },
    {
     "name": "stdout",
     "output_type": "stream",
     "text": [
      "https://reviews.webmd.com/drugs/drugreview-74894-cardizem-la\n"
     ]
    },
    {
     "name": "stderr",
     "output_type": "stream",
     "text": [
      "100%|██████████| 1/1 [00:02<00:00,  2.14s/it]\n",
      " 86%|████████▌ | 430/499 [1:18:05<08:11,  7.12s/it]"
     ]
    },
    {
     "name": "stdout",
     "output_type": "stream",
     "text": [
      "https://reviews.webmd.com/drugs/drugreview-74923-amiloride-hcl-hctz-tablet\n"
     ]
    },
    {
     "name": "stderr",
     "output_type": "stream",
     "text": [
      " 86%|████████▋ | 431/499 [1:18:09<06:52,  6.06s/it]"
     ]
    },
    {
     "name": "stdout",
     "output_type": "stream",
     "text": [
      "https://reviews.webmd.com/drugs/drugreview-74943-isoptin-s-r-tablet-er\n"
     ]
    },
    {
     "name": "stderr",
     "output_type": "stream",
     "text": [
      " 87%|████████▋ | 432/499 [1:18:12<05:47,  5.18s/it]"
     ]
    },
    {
     "name": "stdout",
     "output_type": "stream",
     "text": [
      "https://reviews.webmd.com/drugs/drugreview-75025-innopran-xl\n"
     ]
    },
    {
     "name": "stderr",
     "output_type": "stream",
     "text": [
      "100%|██████████| 1/1 [00:01<00:00,  1.96s/it]\n",
      " 87%|████████▋ | 433/499 [1:18:17<05:50,  5.30s/it]"
     ]
    },
    {
     "name": "stdout",
     "output_type": "stream",
     "text": [
      "https://reviews.webmd.com/drugs/drugreview-75092-taztia-xt\n"
     ]
    },
    {
     "name": "stderr",
     "output_type": "stream",
     "text": [
      "100%|██████████| 2/2 [00:04<00:00,  2.18s/it]\n",
      " 87%|████████▋ | 434/499 [1:18:25<06:39,  6.14s/it]"
     ]
    },
    {
     "name": "stdout",
     "output_type": "stream",
     "text": [
      "https://reviews.webmd.com/drugs/drugreview-75213-afeditab-cr-tablet-er\n"
     ]
    },
    {
     "name": "stderr",
     "output_type": "stream",
     "text": [
      "100%|██████████| 1/1 [00:01<00:00,  1.68s/it]\n",
      " 87%|████████▋ | 435/499 [1:18:30<06:03,  5.68s/it]"
     ]
    },
    {
     "name": "stdout",
     "output_type": "stream",
     "text": [
      "https://reviews.webmd.com/drugs/drugreview-75511-triamterene-hctz-capsule\n"
     ]
    },
    {
     "name": "stderr",
     "output_type": "stream",
     "text": [
      " 87%|████████▋ | 436/499 [1:18:33<05:09,  4.92s/it]"
     ]
    },
    {
     "name": "stdout",
     "output_type": "stream",
     "text": [
      "https://reviews.webmd.com/drugs/drugreview-7637-sodium-edecrin-vial\n"
     ]
    },
    {
     "name": "stderr",
     "output_type": "stream",
     "text": [
      "100%|██████████| 1/1 [00:01<00:00,  1.74s/it]\n",
      " 88%|████████▊ | 437/499 [1:18:39<05:16,  5.10s/it]"
     ]
    },
    {
     "name": "stdout",
     "output_type": "stream",
     "text": [
      "https://reviews.webmd.com/drugs/drugreview-7638-ethacrynate-sodium-vial\n"
     ]
    },
    {
     "name": "stderr",
     "output_type": "stream",
     "text": [
      " 88%|████████▊ | 438/499 [1:18:42<04:32,  4.46s/it]"
     ]
    },
    {
     "name": "stdout",
     "output_type": "stream",
     "text": [
      "https://reviews.webmd.com/drugs/drugreview-76390-olmesartan-hydrochlorothiazide\n"
     ]
    },
    {
     "name": "stderr",
     "output_type": "stream",
     "text": [
      "100%|██████████| 1/1 [00:01<00:00,  1.90s/it]\n",
      " 88%|████████▊ | 439/499 [1:18:47<04:44,  4.75s/it]"
     ]
    },
    {
     "name": "stdout",
     "output_type": "stream",
     "text": [
      "https://reviews.webmd.com/drugs/drugreview-76391-benicar-hct\n"
     ]
    },
    {
     "name": "stderr",
     "output_type": "stream",
     "text": [
      "100%|██████████| 15/15 [00:30<00:00,  2.05s/it]\n",
      " 88%|████████▊ | 440/499 [1:19:21<13:20, 13.57s/it]"
     ]
    },
    {
     "name": "stdout",
     "output_type": "stream",
     "text": [
      "https://reviews.webmd.com/drugs/drugreview-77327-betachron-capsule-24-hr-capsule-er-hr\n"
     ]
    },
    {
     "name": "stderr",
     "output_type": "stream",
     "text": [
      " 88%|████████▊ | 441/499 [1:19:24<10:03, 10.41s/it]"
     ]
    },
    {
     "name": "stdout",
     "output_type": "stream",
     "text": [
      "https://reviews.webmd.com/drugs/drugreview-7764-blocadren-tablet\n"
     ]
    },
    {
     "name": "stderr",
     "output_type": "stream",
     "text": [
      "100%|██████████| 1/1 [00:01<00:00,  1.55s/it]\n",
      " 89%|████████▊ | 442/499 [1:19:29<08:08,  8.58s/it]"
     ]
    },
    {
     "name": "stdout",
     "output_type": "stream",
     "text": [
      "https://reviews.webmd.com/drugs/drugreview-77809-inspra\n"
     ]
    },
    {
     "name": "stderr",
     "output_type": "stream",
     "text": [
      "100%|██████████| 1/1 [00:02<00:00,  2.18s/it]\n",
      " 89%|████████▉ | 443/499 [1:19:34<07:05,  7.59s/it]"
     ]
    },
    {
     "name": "stdout",
     "output_type": "stream",
     "text": [
      "https://reviews.webmd.com/drugs/drugreview-78139-nifediac-cc-tablet-er\n"
     ]
    },
    {
     "name": "stderr",
     "output_type": "stream",
     "text": [
      "100%|██████████| 2/2 [00:03<00:00,  1.90s/it]\n",
      " 89%|████████▉ | 444/499 [1:19:41<06:51,  7.49s/it]"
     ]
    },
    {
     "name": "stdout",
     "output_type": "stream",
     "text": [
      "https://reviews.webmd.com/drugs/drugreview-78636-amlodipine-atorvastatin\n"
     ]
    },
    {
     "name": "stderr",
     "output_type": "stream",
     "text": [
      "100%|██████████| 1/1 [00:01<00:00,  1.82s/it]\n",
      " 89%|████████▉ | 446/499 [1:19:49<04:54,  5.56s/it]"
     ]
    },
    {
     "name": "stdout",
     "output_type": "stream",
     "text": [
      "skipping https://reviews.webmd.com/drugs/drugreview-7985-guanabenz-tablet: page not found\n"
     ]
    },
    {
     "name": "stderr",
     "output_type": "stream",
     "text": [
      " 90%|████████▉ | 447/499 [1:19:51<03:50,  4.43s/it]"
     ]
    },
    {
     "name": "stdout",
     "output_type": "stream",
     "text": [
      "skipping https://reviews.webmd.com/drugs/drugreview-8043-cardene-sr-capsule-er: page not found\n",
      "https://reviews.webmd.com/drugs/drugreview-8044-nicardipine-hcl\n"
     ]
    },
    {
     "name": "stderr",
     "output_type": "stream",
     "text": [
      "100%|██████████| 1/1 [00:01<00:00,  1.66s/it]\n",
      " 90%|████████▉ | 449/499 [1:19:58<03:10,  3.80s/it]"
     ]
    },
    {
     "name": "stdout",
     "output_type": "stream",
     "text": [
      "skipping https://reviews.webmd.com/drugs/drugreview-8070-timolide-tablet: page not found\n",
      "https://reviews.webmd.com/drugs/drugreview-8148-rose-tablet\n"
     ]
    },
    {
     "name": "stderr",
     "output_type": "stream",
     "text": [
      " 90%|█████████ | 450/499 [1:20:01<02:59,  3.66s/it]"
     ]
    },
    {
     "name": "stdout",
     "output_type": "stream",
     "text": [
      "https://reviews.webmd.com/drugs/drugreview-8183-candesartan-cilexetil\n"
     ]
    },
    {
     "name": "stderr",
     "output_type": "stream",
     "text": [
      "100%|██████████| 2/2 [00:04<00:00,  2.00s/it]\n",
      " 91%|█████████ | 452/499 [1:20:10<03:01,  3.87s/it]"
     ]
    },
    {
     "name": "stdout",
     "output_type": "stream",
     "text": [
      "skipping https://reviews.webmd.com/drugs/drugreview-8340-methyclothiazide-tablet: page not found\n"
     ]
    },
    {
     "name": "stderr",
     "output_type": "stream",
     "text": [
      " 91%|█████████ | 453/499 [1:20:12<02:27,  3.21s/it]"
     ]
    },
    {
     "name": "stdout",
     "output_type": "stream",
     "text": [
      "skipping https://reviews.webmd.com/drugs/drugreview-8427-hylorel-tablet: page not found\n"
     ]
    },
    {
     "name": "stderr",
     "output_type": "stream",
     "text": [
      " 91%|█████████ | 454/499 [1:20:13<02:03,  2.75s/it]"
     ]
    },
    {
     "name": "stdout",
     "output_type": "stream",
     "text": [
      "skipping https://reviews.webmd.com/drugs/drugreview-8428-guanadrel-tablet: page not found\n",
      "https://reviews.webmd.com/drugs/drugreview-8430-mykrox-tablet\n"
     ]
    },
    {
     "name": "stderr",
     "output_type": "stream",
     "text": [
      " 91%|█████████ | 455/499 [1:20:16<02:03,  2.80s/it]"
     ]
    },
    {
     "name": "stdout",
     "output_type": "stream",
     "text": [
      "https://reviews.webmd.com/drugs/drugreview-8431-metolazone\n"
     ]
    },
    {
     "name": "stderr",
     "output_type": "stream",
     "text": [
      "100%|██████████| 2/2 [00:03<00:00,  1.94s/it]\n",
      " 91%|█████████▏| 456/499 [1:20:23<02:57,  4.12s/it]"
     ]
    },
    {
     "name": "stdout",
     "output_type": "stream",
     "text": [
      "https://reviews.webmd.com/drugs/drugreview-8434-zaroxolyn-tablet\n"
     ]
    },
    {
     "name": "stderr",
     "output_type": "stream",
     "text": [
      "100%|██████████| 1/1 [00:01<00:00,  1.62s/it]\n",
      " 92%|█████████▏| 457/499 [1:20:28<03:03,  4.36s/it]"
     ]
    },
    {
     "name": "stdout",
     "output_type": "stream",
     "text": [
      "https://reviews.webmd.com/drugs/drugreview-849-valsartan\n"
     ]
    },
    {
     "name": "stderr",
     "output_type": "stream",
     "text": [
      "100%|██████████| 1/1 [00:01<00:00,  1.84s/it]\n",
      " 92%|█████████▏| 458/499 [1:20:33<03:06,  4.54s/it]"
     ]
    },
    {
     "name": "stdout",
     "output_type": "stream",
     "text": [
      "https://reviews.webmd.com/drugs/drugreview-8662-hydralazine-hcl\n"
     ]
    },
    {
     "name": "stderr",
     "output_type": "stream",
     "text": [
      "100%|██████████| 8/8 [00:16<00:00,  2.09s/it]\n",
      " 92%|█████████▏| 459/499 [1:20:55<06:26,  9.67s/it]"
     ]
    },
    {
     "name": "stdout",
     "output_type": "stream",
     "text": [
      "https://reviews.webmd.com/drugs/drugreview-8678-methyldopa\n"
     ]
    },
    {
     "name": "stderr",
     "output_type": "stream",
     "text": [
      "100%|██████████| 2/2 [00:04<00:00,  2.43s/it]\n",
      " 92%|█████████▏| 460/499 [1:21:03<05:57,  9.16s/it]"
     ]
    },
    {
     "name": "stdout",
     "output_type": "stream",
     "text": [
      "https://reviews.webmd.com/drugs/drugreview-8680-minoxidil\n"
     ]
    },
    {
     "name": "stderr",
     "output_type": "stream",
     "text": [
      "100%|██████████| 2/2 [00:03<00:00,  1.93s/it]\n",
      " 92%|█████████▏| 461/499 [1:21:10<05:25,  8.57s/it]"
     ]
    },
    {
     "name": "stdout",
     "output_type": "stream",
     "text": [
      "https://reviews.webmd.com/drugs/drugreview-8681-nifedipine\n"
     ]
    },
    {
     "name": "stderr",
     "output_type": "stream",
     "text": [
      "100%|██████████| 5/5 [00:10<00:00,  2.10s/it]\n",
      " 93%|█████████▎| 462/499 [1:21:25<06:26, 10.46s/it]"
     ]
    },
    {
     "name": "stdout",
     "output_type": "stream",
     "text": [
      "https://reviews.webmd.com/drugs/drugreview-8681-nifedipine-er\n"
     ]
    },
    {
     "name": "stderr",
     "output_type": "stream",
     "text": [
      "100%|██████████| 5/5 [00:10<00:00,  2.06s/it]\n",
      " 93%|█████████▎| 463/499 [1:21:39<06:49, 11.37s/it]"
     ]
    },
    {
     "name": "stdout",
     "output_type": "stream",
     "text": [
      "https://reviews.webmd.com/drugs/drugreview-8681-nifedipine-er-tablet\n"
     ]
    },
    {
     "name": "stderr",
     "output_type": "stream",
     "text": [
      "100%|██████████| 5/5 [00:10<00:00,  2.12s/it]\n",
      " 93%|█████████▎| 464/499 [1:21:52<07:04, 12.14s/it]"
     ]
    },
    {
     "name": "stdout",
     "output_type": "stream",
     "text": [
      "https://reviews.webmd.com/drugs/drugreview-8695-prazosin-hcl\n"
     ]
    },
    {
     "name": "stderr",
     "output_type": "stream",
     "text": [
      "100%|██████████| 5/5 [00:12<00:00,  2.48s/it]\n",
      " 93%|█████████▎| 466/499 [1:22:10<05:21,  9.75s/it]"
     ]
    },
    {
     "name": "stdout",
     "output_type": "stream",
     "text": [
      "skipping https://reviews.webmd.com/drugs/drugreview-8703-reserpine-tablet: page not found\n"
     ]
    },
    {
     "name": "stderr",
     "output_type": "stream",
     "text": [
      " 94%|█████████▎| 467/499 [1:22:12<03:55,  7.34s/it]"
     ]
    },
    {
     "name": "stdout",
     "output_type": "stream",
     "text": [
      "skipping https://reviews.webmd.com/drugs/drugreview-8752-chlorothiazide-sodium-vial: page not found\n",
      "https://reviews.webmd.com/drugs/drugreview-8778-ethacrynic-acid\n"
     ]
    },
    {
     "name": "stderr",
     "output_type": "stream",
     "text": [
      " 94%|█████████▍| 469/499 [1:22:16<02:24,  4.82s/it]"
     ]
    },
    {
     "name": "stdout",
     "output_type": "stream",
     "text": [
      "skipping https://reviews.webmd.com/drugs/drugreview-8798-labetalol-hcl-vial: page not found\n",
      "https://reviews.webmd.com/drugs/drugreview-8814-metoprolol-succinate\n"
     ]
    },
    {
     "name": "stderr",
     "output_type": "stream",
     "text": [
      "100%|██████████| 40/40 [01:28<00:00,  2.21s/it]\n",
      " 94%|█████████▍| 470/499 [1:23:49<14:59, 31.03s/it]"
     ]
    },
    {
     "name": "stdout",
     "output_type": "stream",
     "text": [
      "https://reviews.webmd.com/drugs/drugreview-8814-metoprolol-succinate-capsule-sprinkle-er-24-hr-dose-pack-capsule-sprinkle-ext-rel-24hr-pack\n"
     ]
    },
    {
     "name": "stderr",
     "output_type": "stream",
     "text": [
      "100%|██████████| 40/40 [01:27<00:00,  2.20s/it]\n",
      " 94%|█████████▍| 471/499 [1:25:21<23:03, 49.43s/it]"
     ]
    },
    {
     "name": "stdout",
     "output_type": "stream",
     "text": [
      "https://reviews.webmd.com/drugs/drugreview-8843-ramipril\n"
     ]
    },
    {
     "name": "stderr",
     "output_type": "stream",
     "text": [
      "100%|██████████| 9/9 [00:17<00:00,  2.00s/it]\n",
      " 95%|█████████▍| 473/499 [1:25:44<12:40, 29.25s/it]"
     ]
    },
    {
     "name": "stdout",
     "output_type": "stream",
     "text": [
      "skipping https://reviews.webmd.com/drugs/drugreview-8865-enalaprilat-vial: page not found\n",
      "https://reviews.webmd.com/drugs/drugreview-88964-caduet\n"
     ]
    },
    {
     "name": "stderr",
     "output_type": "stream",
     "text": [
      "100%|██████████| 3/3 [00:05<00:00,  1.96s/it]\n",
      " 95%|█████████▍| 474/499 [1:25:55<09:52, 23.70s/it]"
     ]
    },
    {
     "name": "stdout",
     "output_type": "stream",
     "text": [
      "https://reviews.webmd.com/drugs/drugreview-89348-quinaretic-tablet\n"
     ]
    },
    {
     "name": "stderr",
     "output_type": "stream",
     "text": [
      "100%|██████████| 1/1 [00:01<00:00,  1.59s/it]\n",
      " 95%|█████████▌| 476/499 [1:26:02<05:05, 13.30s/it]"
     ]
    },
    {
     "name": "stdout",
     "output_type": "stream",
     "text": [
      "skipping https://reviews.webmd.com/drugs/drugreview-8941-hydralazine-hcl-vial: page not found\n",
      "https://reviews.webmd.com/drugs/drugreview-8982-altace\n"
     ]
    },
    {
     "name": "stderr",
     "output_type": "stream",
     "text": [
      "100%|██████████| 8/8 [00:16<00:00,  2.09s/it]\n",
      " 96%|█████████▌| 477/499 [1:26:22<05:37, 15.33s/it]"
     ]
    },
    {
     "name": "stdout",
     "output_type": "stream",
     "text": [
      "https://reviews.webmd.com/drugs/drugreview-9062-carozide-tablet\n"
     ]
    },
    {
     "name": "stderr",
     "output_type": "stream",
     "text": [
      " 96%|█████████▌| 479/499 [1:26:28<02:56,  8.81s/it]"
     ]
    },
    {
     "name": "stdout",
     "output_type": "stream",
     "text": [
      "skipping https://reviews.webmd.com/drugs/drugreview-9140-diucardin-tablet: page not found\n"
     ]
    },
    {
     "name": "stderr",
     "output_type": "stream",
     "text": [
      " 96%|█████████▌| 480/499 [1:26:29<02:06,  6.68s/it]"
     ]
    },
    {
     "name": "stdout",
     "output_type": "stream",
     "text": [
      "skipping https://reviews.webmd.com/drugs/drugreview-91420-apresoline-esidrix-tablet: page not found\n"
     ]
    },
    {
     "name": "stderr",
     "output_type": "stream",
     "text": [
      " 96%|█████████▋| 481/499 [1:26:31<01:34,  5.23s/it]"
     ]
    },
    {
     "name": "stdout",
     "output_type": "stream",
     "text": [
      "skipping https://reviews.webmd.com/drugs/drugreview-91422-hydralazide-tablet: page not found\n",
      "https://reviews.webmd.com/drugs/drugreview-9152-dyrenium\n"
     ]
    },
    {
     "name": "stderr",
     "output_type": "stream",
     "text": [
      "100%|██████████| 1/1 [00:01<00:00,  1.91s/it]\n",
      " 97%|█████████▋| 483/499 [1:26:39<01:08,  4.30s/it]"
     ]
    },
    {
     "name": "stdout",
     "output_type": "stream",
     "text": [
      "skipping https://reviews.webmd.com/drugs/drugreview-91539-apresodrex-tablet: page not found\n"
     ]
    },
    {
     "name": "stderr",
     "output_type": "stream",
     "text": [
      " 97%|█████████▋| 484/499 [1:26:41<00:53,  3.57s/it]"
     ]
    },
    {
     "name": "stdout",
     "output_type": "stream",
     "text": [
      "skipping https://reviews.webmd.com/drugs/drugreview-91540-apresodex-tablet: page not found\n"
     ]
    },
    {
     "name": "stderr",
     "output_type": "stream",
     "text": [
      " 97%|█████████▋| 485/499 [1:26:42<00:42,  3.04s/it]"
     ]
    },
    {
     "name": "stdout",
     "output_type": "stream",
     "text": [
      "skipping https://reviews.webmd.com/drugs/drugreview-91541-hy-es-tablet: page not found\n"
     ]
    },
    {
     "name": "stderr",
     "output_type": "stream",
     "text": [
      " 97%|█████████▋| 486/499 [1:26:44<00:34,  2.63s/it]"
     ]
    },
    {
     "name": "stdout",
     "output_type": "stream",
     "text": [
      "skipping https://reviews.webmd.com/drugs/drugreview-9160-enduron-tablet: page not found\n",
      "https://reviews.webmd.com/drugs/drugreview-9169-esidrix-tablet\n"
     ]
    },
    {
     "name": "stderr",
     "output_type": "stream",
     "text": [
      "100%|██████████| 1/1 [00:01<00:00,  1.45s/it]\n",
      " 98%|█████████▊| 487/499 [1:26:49<00:38,  3.22s/it]"
     ]
    },
    {
     "name": "stdout",
     "output_type": "stream",
     "text": [
      "https://reviews.webmd.com/drugs/drugreview-9242-hydone-tablet\n"
     ]
    },
    {
     "name": "stderr",
     "output_type": "stream",
     "text": [
      " 98%|█████████▊| 488/499 [1:26:52<00:35,  3.22s/it]"
     ]
    },
    {
     "name": "stdout",
     "output_type": "stream",
     "text": [
      "https://reviews.webmd.com/drugs/drugreview-9281-l-dopres-tablet\n"
     ]
    },
    {
     "name": "stderr",
     "output_type": "stream",
     "text": [
      " 98%|█████████▊| 490/499 [1:26:57<00:26,  2.92s/it]"
     ]
    },
    {
     "name": "stdout",
     "output_type": "stream",
     "text": [
      "skipping https://reviews.webmd.com/drugs/drugreview-9375-normodyne-solution: page not found\n",
      "https://reviews.webmd.com/drugs/drugreview-9533-tenormin\n"
     ]
    },
    {
     "name": "stderr",
     "output_type": "stream",
     "text": [
      "100%|██████████| 4/4 [00:08<00:00,  2.01s/it]\n",
      " 98%|█████████▊| 491/499 [1:27:09<00:44,  5.54s/it]"
     ]
    },
    {
     "name": "stdout",
     "output_type": "stream",
     "text": [
      "https://reviews.webmd.com/drugs/drugreview-9548-toprol-xl\n"
     ]
    },
    {
     "name": "stderr",
     "output_type": "stream",
     "text": [
      "100%|██████████| 33/33 [01:10<00:00,  2.14s/it]\n",
      " 99%|█████████▉| 493/499 [1:28:26<01:53, 18.93s/it]"
     ]
    },
    {
     "name": "stdout",
     "output_type": "stream",
     "text": [
      "skipping https://reviews.webmd.com/drugs/drugreview-9554-trandate-solution: page not found\n",
      "https://reviews.webmd.com/drugs/drugreview-9613-zide-tablet\n"
     ]
    },
    {
     "name": "stderr",
     "output_type": "stream",
     "text": [
      " 99%|█████████▉| 494/499 [1:28:28<01:10, 14.08s/it]"
     ]
    },
    {
     "name": "stdout",
     "output_type": "stream",
     "text": [
      "https://reviews.webmd.com/drugs/drugreview-964-captopril\n"
     ]
    },
    {
     "name": "stderr",
     "output_type": "stream",
     "text": [
      "100%|██████████| 2/2 [00:03<00:00,  1.89s/it]\n",
      " 99%|█████████▉| 496/499 [1:28:37<00:26,  8.93s/it]"
     ]
    },
    {
     "name": "stdout",
     "output_type": "stream",
     "text": [
      "skipping https://reviews.webmd.com/drugs/drugreview-9683-vasotec-solution: page not found\n",
      "https://reviews.webmd.com/drugs/drugreview-9798-zebeta-tablet\n"
     ]
    },
    {
     "name": "stderr",
     "output_type": "stream",
     "text": [
      "100%|██████████| 2/2 [00:05<00:00,  2.58s/it]\n",
      "100%|█████████▉| 498/499 [1:28:49<00:06,  6.98s/it]"
     ]
    },
    {
     "name": "stdout",
     "output_type": "stream",
     "text": [
      "skipping https://reviews.webmd.com/drugs/drugreview-9850-demadex-solution: page not found\n"
     ]
    },
    {
     "name": "stderr",
     "output_type": "stream",
     "text": [
      "100%|██████████| 499/499 [1:28:50<00:00, 10.68s/it]"
     ]
    },
    {
     "name": "stdout",
     "output_type": "stream",
     "text": [
      "skipping https://reviews.webmd.com/drugs/drugreview-9997-nicardipine-hcl-vial: page not found\n"
     ]
    },
    {
     "name": "stderr",
     "output_type": "stream",
     "text": [
      "\n"
     ]
    }
   ],
   "source": [
    "#all drugs\n",
    "for review_url in tqdm(review_urls):\n",
    "    response = requests.get(review_url, headers=headers)\n",
    "    if response.url == 'https://www.webmd.com/404':\n",
    "        print(f'skipping {review_url}: page not found')\n",
    "    else:\n",
    "        print(review_url)\n",
    "        reviews_df = crawl_reviews_pages(review_url, reviews_df)\n",
    "        \n",
    "reviews_df.to_csv('../../data/datasets/hypertension_reviews.csv')\n"
   ]
  }
 ],
 "metadata": {
  "kernelspec": {
   "display_name": "rioxarray_env",
   "language": "python",
   "name": "python3"
  },
  "language_info": {
   "codemirror_mode": {
    "name": "ipython",
    "version": 3
   },
   "file_extension": ".py",
   "mimetype": "text/x-python",
   "name": "python",
   "nbconvert_exporter": "python",
   "pygments_lexer": "ipython3",
   "version": "3.9.18"
  }
 },
 "nbformat": 4,
 "nbformat_minor": 2
}
