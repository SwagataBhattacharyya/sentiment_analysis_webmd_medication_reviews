{
 "cells": [
  {
   "cell_type": "markdown",
   "metadata": {},
   "source": [
    "Medication reviews extracted from webmd for diabetes type 2 mellitus.\n",
    "\n",
    "Source code applied to extract reviews from web.MD: 'https://github.com/sepidehparhami/scraping-webmd-drug-reviews/tree/main'. "
   ]
  },
  {
   "cell_type": "code",
   "execution_count": 3,
   "metadata": {},
   "outputs": [
    {
     "data": {
      "text/plain": [
       "array(['https://reviews.webmd.com/drugs/drugreview-1-sertraline-hcl',\n",
       "       'https://reviews.webmd.com/drugs/drugreview-10024-vanatrip-tablet',\n",
       "       'https://reviews.webmd.com/drugs/drugreview-1049-fluvoxamine-maleate',\n",
       "       'https://reviews.webmd.com/drugs/drugreview-1049-fluvoxamine-maleate-er',\n",
       "       'https://reviews.webmd.com/drugs/drugreview-10710-nortriptyline-hcl',\n",
       "       'https://reviews.webmd.com/drugs/drugreview-1089-luvox-tablet',\n",
       "       'https://reviews.webmd.com/drugs/drugreview-11034-amoxapine',\n",
       "       'https://reviews.webmd.com/drugs/drugreview-11108-elavil-solution',\n",
       "       'https://reviews.webmd.com/drugs/drugreview-12167-protriptyline-hcl',\n",
       "       'https://reviews.webmd.com/drugs/drugreview-12169-vivactil-tablet',\n",
       "       'https://reviews.webmd.com/drugs/drugreview-1305-clomipramine-hcl',\n",
       "       'https://reviews.webmd.com/drugs/drugreview-13507-bupropion-hcl',\n",
       "       'https://reviews.webmd.com/drugs/drugreview-13507-bupropion-hcl-sr',\n",
       "       'https://reviews.webmd.com/drugs/drugreview-13507-bupropion-xl',\n",
       "       'https://reviews.webmd.com/drugs/drugreview-13509-wellbutrin-tablet',\n",
       "       'https://reviews.webmd.com/drugs/drugreview-14211-wellbutrin-sr',\n",
       "       'https://reviews.webmd.com/drugs/drugreview-14218-thsc-desipramine-hcl-tablet',\n",
       "       'https://reviews.webmd.com/drugs/drugreview-14349-amitriptyline-solution',\n",
       "       'https://reviews.webmd.com/drugs/drugreview-146637-budeprion-xl-tablet-er-24-hr',\n",
       "       'https://reviews.webmd.com/drugs/drugreview-14829-etrafon-forte-tablet',\n",
       "       'https://reviews.webmd.com/drugs/drugreview-150188-luvox-cr-capsule-24-hr-capsule-er-hr',\n",
       "       'https://reviews.webmd.com/drugs/drugreview-150519-selfemra-capsule',\n",
       "       'https://reviews.webmd.com/drugs/drugreview-151959-bupropion-hbr-tablet-er-24-hr',\n",
       "       'https://reviews.webmd.com/drugs/drugreview-151973-aplenzin',\n",
       "       'https://reviews.webmd.com/drugs/drugreview-15609-duo-vil-tablet',\n",
       "       'https://reviews.webmd.com/drugs/drugreview-15610-duo-vil-tablet',\n",
       "       'https://reviews.webmd.com/drugs/drugreview-16020-limbitrol-ds-tablet',\n",
       "       'https://reviews.webmd.com/drugs/drugreview-1609-zyban-tablet-er-12-hr',\n",
       "       'https://reviews.webmd.com/drugs/drugreview-1610-bupropion-smoking-deter-tablet-er',\n",
       "       'https://reviews.webmd.com/drugs/drugreview-16109-etrafon-tablet',\n",
       "       'https://reviews.webmd.com/drugs/drugreview-162178-forfivo-xl',\n",
       "       'https://reviews.webmd.com/drugs/drugreview-168839-irenka-capsule-delayed-release-enteric-coated-capsule-delayed-e-c',\n",
       "       'https://reviews.webmd.com/drugs/drugreview-1701-citalopram-hbr',\n",
       "       'https://reviews.webmd.com/drugs/drugreview-171383-bupropion-hcl-sr',\n",
       "       'https://reviews.webmd.com/drugs/drugreview-1774-fluoxetine-dr',\n",
       "       'https://reviews.webmd.com/drugs/drugreview-1774-fluoxetine-hcl',\n",
       "       'https://reviews.webmd.com/drugs/drugreview-1776-anafranil',\n",
       "       'https://reviews.webmd.com/drugs/drugreview-177632-drizalma-sprinkle',\n",
       "       'https://reviews.webmd.com/drugs/drugreview-1807-elavil-tablet',\n",
       "       'https://reviews.webmd.com/drugs/drugreview-1820-pamelor',\n",
       "       'https://reviews.webmd.com/drugs/drugreview-184446-venlafaxine-besylate-er',\n",
       "       'https://reviews.webmd.com/drugs/drugreview-1919-chlordiazepoxide-amitriptyline',\n",
       "       'https://reviews.webmd.com/drugs/drugreview-19825-sarafem-capsule',\n",
       "       'https://reviews.webmd.com/drugs/drugreview-209-adapin-capsule',\n",
       "       'https://reviews.webmd.com/drugs/drugreview-21670-fluoxetine-capsule',\n",
       "       'https://reviews.webmd.com/drugs/drugreview-21672-rapiflux-tablet',\n",
       "       'https://reviews.webmd.com/drugs/drugreview-2202-chlordiazepoxide-amitriptyline-tablet',\n",
       "       'https://reviews.webmd.com/drugs/drugreview-22834-paxil-cr-tablet-er-24-hr',\n",
       "       'https://reviews.webmd.com/drugs/drugreview-2846-perphenazine-amitriptyline',\n",
       "       'https://reviews.webmd.com/drugs/drugreview-32900-paxil-cr',\n",
       "       'https://reviews.webmd.com/drugs/drugreview-3335-sinequan-capsule',\n",
       "       'https://reviews.webmd.com/drugs/drugreview-3335-sinequan-concentrate',\n",
       "       'https://reviews.webmd.com/drugs/drugreview-35-zoloft',\n",
       "       'https://reviews.webmd.com/drugs/drugreview-4870-venlafaxine-hcl',\n",
       "       'https://reviews.webmd.com/drugs/drugreview-4870-venlafaxine-hcl-er',\n",
       "       'https://reviews.webmd.com/drugs/drugreview-4896-effexor-xr',\n",
       "       'https://reviews.webmd.com/drugs/drugreview-57075-amitid-tablet',\n",
       "       'https://reviews.webmd.com/drugs/drugreview-57076-sk-amitriptyline-tablet',\n",
       "       'https://reviews.webmd.com/drugs/drugreview-57077-q-e-l-tablet',\n",
       "       'https://reviews.webmd.com/drugs/drugreview-57078-kenvil-tablet',\n",
       "       'https://reviews.webmd.com/drugs/drugreview-57079-e-vill-tablet',\n",
       "       'https://reviews.webmd.com/drugs/drugreview-57080-stabanil-tablet',\n",
       "       'https://reviews.webmd.com/drugs/drugreview-57081-e-vill-tablet',\n",
       "       'https://reviews.webmd.com/drugs/drugreview-57082-re-live-tablet',\n",
       "       'https://reviews.webmd.com/drugs/drugreview-57083-emitrip-tablet',\n",
       "       'https://reviews.webmd.com/drugs/drugreview-57084-e-vill-tablet',\n",
       "       'https://reviews.webmd.com/drugs/drugreview-57085-e-vill-tablet',\n",
       "       'https://reviews.webmd.com/drugs/drugreview-57086-e-vill-tablet',\n",
       "       'https://reviews.webmd.com/drugs/drugreview-57087-enovil-solution',\n",
       "       'https://reviews.webmd.com/drugs/drugreview-57088-sk-pramine-tablet',\n",
       "       'https://reviews.webmd.com/drugs/drugreview-57089-janimine-tablet',\n",
       "       'https://reviews.webmd.com/drugs/drugreview-57090-etnofril-tablet',\n",
       "       'https://reviews.webmd.com/drugs/drugreview-57091-imavate-tablet',\n",
       "       'https://reviews.webmd.com/drugs/drugreview-57092-norfranil-tablet',\n",
       "       'https://reviews.webmd.com/drugs/drugreview-57093-deconil-tablet',\n",
       "       'https://reviews.webmd.com/drugs/drugreview-57094-aventyl-hcl-do-not-use-capsule',\n",
       "       'https://reviews.webmd.com/drugs/drugreview-57375-amitriptyline-chlordiazepoxide-tablet',\n",
       "       'https://reviews.webmd.com/drugs/drugreview-57376-amitriptyline-w-perphenazine-tablet',\n",
       "       'https://reviews.webmd.com/drugs/drugreview-57377-per-trip-tablet',\n",
       "       'https://reviews.webmd.com/drugs/drugreview-57378-triavil-tablet',\n",
       "       'https://reviews.webmd.com/drugs/drugreview-57379-etrafon-a-tablet',\n",
       "       'https://reviews.webmd.com/drugs/drugreview-57380-triavil-tablet',\n",
       "       'https://reviews.webmd.com/drugs/drugreview-6171-asendin-tablet',\n",
       "       'https://reviews.webmd.com/drugs/drugreview-6172-aventyl-capsule',\n",
       "       'https://reviews.webmd.com/drugs/drugreview-6316-limbitrol-tablet',\n",
       "       'https://reviews.webmd.com/drugs/drugreview-63989-escitalopram-oxalate',\n",
       "       'https://reviews.webmd.com/drugs/drugreview-63990-lexapro',\n",
       "       'https://reviews.webmd.com/drugs/drugreview-6790-etrafon-tablet',\n",
       "       'https://reviews.webmd.com/drugs/drugreview-6886-ludiomil-tablet',\n",
       "       'https://reviews.webmd.com/drugs/drugreview-6936-norpramin',\n",
       "       'https://reviews.webmd.com/drugs/drugreview-6968-paxil',\n",
       "       'https://reviews.webmd.com/drugs/drugreview-6968-paxil-tablet',\n",
       "       'https://reviews.webmd.com/drugs/drugreview-6969-paroxetine-er',\n",
       "       'https://reviews.webmd.com/drugs/drugreview-6969-paroxetine-hcl',\n",
       "       'https://reviews.webmd.com/drugs/drugreview-6969-paroxetine-hcl-suspension-final-dose-form',\n",
       "       'https://reviews.webmd.com/drugs/drugreview-6997-prozac',\n",
       "       'https://reviews.webmd.com/drugs/drugreview-6997-prozac-capsule',\n",
       "       'https://reviews.webmd.com/drugs/drugreview-7031-surmontil-capsule',\n",
       "       'https://reviews.webmd.com/drugs/drugreview-7032-trimipramine-maleate',\n",
       "       'https://reviews.webmd.com/drugs/drugreview-7047-tofranil-tablet',\n",
       "       'https://reviews.webmd.com/drugs/drugreview-7048-tofranil-pm-capsule',\n",
       "       'https://reviews.webmd.com/drugs/drugreview-7049-imipramine-pamoate',\n",
       "       'https://reviews.webmd.com/drugs/drugreview-7064-triavil-tablet',\n",
       "       'https://reviews.webmd.com/drugs/drugreview-7065-triavil-tablet',\n",
       "       'https://reviews.webmd.com/drugs/drugreview-7066-triavil-tablet',\n",
       "       'https://reviews.webmd.com/drugs/drugreview-76851-wellbutrin-xl',\n",
       "       'https://reviews.webmd.com/drugs/drugreview-78093-paroxetine-mesylate-tablet',\n",
       "       'https://reviews.webmd.com/drugs/drugreview-78102-pexeva',\n",
       "       'https://reviews.webmd.com/drugs/drugreview-78613-budeprion-sr-tablet-sustained-release-12-hr',\n",
       "       'https://reviews.webmd.com/drugs/drugreview-8115-alprazolam-intensol',\n",
       "       'https://reviews.webmd.com/drugs/drugreview-8171-alprazolam',\n",
       "       'https://reviews.webmd.com/drugs/drugreview-8171-alprazolam-concentrate',\n",
       "       'https://reviews.webmd.com/drugs/drugreview-8171-alprazolam-er',\n",
       "       'https://reviews.webmd.com/drugs/drugreview-8171-alprazolam-odt',\n",
       "       'https://reviews.webmd.com/drugs/drugreview-8323-desipramine-hcl',\n",
       "       'https://reviews.webmd.com/drugs/drugreview-8603-celexa',\n",
       "       'https://reviews.webmd.com/drugs/drugreview-8611-amitriptyline-hcl',\n",
       "       'https://reviews.webmd.com/drugs/drugreview-8647-doxepin-hcl',\n",
       "       'https://reviews.webmd.com/drugs/drugreview-8647-doxepin-hcl-capsule',\n",
       "       'https://reviews.webmd.com/drugs/drugreview-8647-doxepin-hcl-concentrate',\n",
       "       'https://reviews.webmd.com/drugs/drugreview-8664-imipramine-hcl',\n",
       "       'https://reviews.webmd.com/drugs/drugreview-8672-maprotiline-tablet',\n",
       "       'https://reviews.webmd.com/drugs/drugreview-8827-phenelzine-sulfate',\n",
       "       'https://reviews.webmd.com/drugs/drugreview-89444-buproban-tablet-er-12-hr',\n",
       "       'https://reviews.webmd.com/drugs/drugreview-91490-duloxetine-capsule-delayed-release-sprinkle',\n",
       "       'https://reviews.webmd.com/drugs/drugreview-91490-duloxetine-hcl',\n",
       "       'https://reviews.webmd.com/drugs/drugreview-91491-cymbalta',\n",
       "       'https://reviews.webmd.com/drugs/drugreview-9159-endep-tablet',\n",
       "       'https://reviews.webmd.com/drugs/drugreview-92783-niravam-tablet-disintegrating',\n",
       "       'https://reviews.webmd.com/drugs/drugreview-9353-nardil',\n",
       "       'https://reviews.webmd.com/drugs/drugreview-9824-xanax'],\n",
       "      dtype='<U115')"
      ]
     },
     "execution_count": 3,
     "metadata": {},
     "output_type": "execute_result"
    }
   ],
   "source": [
    "# imports\n",
    "import requests\n",
    "import numpy as np\n",
    "import pandas as pd\n",
    "import regex as re\n",
    "import tqdm\n",
    "\n",
    "#Functions\n",
    "# regular expressions for parsing data from a single review\n",
    "# elements found in review-details div\n",
    "def regex_date(review):\n",
    "    '''Parses the date of the review in format dd/mm/yyyy'''\n",
    "    return re.findall(r'\\d+/\\d+/\\d+', review.find('div', class_='date').text)[0]\n",
    "\n",
    "def regex_condition(review):\n",
    "    '''Parses the condition for which the medication is used'''\n",
    "    condition_element = review.find('strong', class_='condition')\n",
    "    condition_listed = condition_element is not None\n",
    "    if condition_listed:\n",
    "        # TODO: be able to match ''\"Change of Life\" Signs' condition\n",
    "        condition_match = re.findall(r'(?<=Condition:\\s)\\w+(?:\\s\\w+)*', condition_element.text)\n",
    "    return condition_match[0] if (condition_listed and len(condition_match) > 0) else np.nan\n",
    "\n",
    "def regex_rating_overall(review):\n",
    "    '''Parses the overall rating, the average of 3 categories'''\n",
    "    rating_overall_line = review.find('div', class_='overall-rating').strong.text\n",
    "    return re.findall(r'\\d+.\\d+', rating_overall_line)\n",
    "\n",
    "def regex_rating_category(review, ind_cat):\n",
    "    '''Parses the rating for the category at index ind_cat in ['effectiveness', 'ease_of_use', 'satisfaction']'''\n",
    "    rating_categories = review.find('div', class_='categories').find_all('section')\n",
    "    div = rating_categories[ind_cat].find('div', class_='webmd-rate on-mobile')\n",
    "    return int(div.get('aria-valuenow'))\n",
    "\n",
    "def regex_text(review):\n",
    "    '''Parses the free response text review for the drug'''\n",
    "    text_line = review.find('p', class_='description-text')\n",
    "    return text_line.text if text_line is not None else np.nan\n",
    "# regular expressions for parsing data from a single review\n",
    "# elements found in details div\n",
    "def regex_age(details):\n",
    "    '''Parses the age of the medication user'''\n",
    "    age_match = re.findall(r'(?<=\\|\\s+)\\d+-\\d+', details)\n",
    "    return age_match[0] if len(age_match) > 0 else np.nan\n",
    "\n",
    "def regex_gender(details):\n",
    "    '''Parses the gender of the medication user'''\n",
    "    gender_match = re.findall(r'(?<=\\|\\s+)Male|Female', details)\n",
    "    return gender_match[0] if len(gender_match) > 0 else np.nan\n",
    "\n",
    "def regex_time(details):\n",
    "    '''Parses the duration of time on drug'''\n",
    "    time_match = re.findall(r'(?<=On\\smedication\\sfor\\s)\\w+(?:\\s\\w+)*', details)\n",
    "    return time_match[0] if len(time_match) > 0 else np.nan\n",
    "\n",
    "def regex_reviewer(details):\n",
    "    '''Parses the type of reviewer'''\n",
    "    reviewer_match = re.findall(r'(?<=\\|\\s+)\\w+(?:\\s\\w+)*(?=\\s*$)', details)\n",
    "    return reviewer_match[0] if len(reviewer_match) > 0 else np.nan\n",
    "# parse the reviews on a single webpage\n",
    "def parse_reviews_page(soup, reviews_df):\n",
    "    '''Populates reviews_df data frame with records from 1 page's reviews\n",
    "    \n",
    "    Parameters:\n",
    "    reviews_html (str): HTML for the webpage extracted using BeautifulSoup\n",
    "    drug_name (str): the name of the drug being reviewed\n",
    "    reviews_df (pd.DataFrame): dataframe with one row per review\n",
    "    \n",
    "    Returns:\n",
    "    pd.DataFrame: reviews_df dataframe with new records appended\n",
    "    \n",
    "    '''\n",
    "    reviews_html = soup.find_all('div', class_='review-details') # get elements that hold each review\n",
    "    drug_name = re.findall(r'(.*)(?=\\sReviews)', soup.title.text)[0] # page title is drug name\n",
    "    \n",
    "    # loop over reviews from a single page\n",
    "    for i, review in enumerate(reviews_html):\n",
    "        to_append = pd.DataFrame([pd.Series([None]*len(cols), index=cols)])\n",
    "        \n",
    "        details = review.find('div', class_='details').text\n",
    "\n",
    "        to_append['drug_name'] = drug_name\n",
    "        to_append['date'] = regex_date(review)\n",
    "        to_append['age'] = regex_age(details)\n",
    "        to_append['gender'] = regex_gender(details)\n",
    "        to_append['time_on_drug'] = regex_time(details)\n",
    "        to_append['reviewer_type'] = regex_reviewer(details)\n",
    "        to_append['condition'] = regex_condition(review)\n",
    "        to_append['rating_overall'] = regex_rating_overall(review)\n",
    "        \n",
    "        for ind_cat, cat in enumerate(['effectiveness', 'ease_of_use', 'satisfaction']):\n",
    "            to_append[f'rating_{cat}'] = regex_rating_category(review, ind_cat)\n",
    "    \n",
    "        to_append['text'] = regex_text(review)\n",
    "        reviews_df = pd.concat([reviews_df, to_append], ignore_index=True)\n",
    "        \n",
    "    return reviews_df\n",
    "def get_soup(review_url, page):\n",
    "    curr_url = review_url + f'&page={page}'\n",
    "    response = requests.get(curr_url, headers=headers).content\n",
    "    return BeautifulSoup(response, 'lxml')\n",
    "# crawl over the review pages for one drug\n",
    "from tqdm import tqdm # progress bar\n",
    "\n",
    "def crawl_reviews_pages(review_url, reviews_df):\n",
    "    '''Crawls a drug's reviews page-by-page, saving each page's reviews into reviews_df\n",
    "    \n",
    "    Parameters:\n",
    "    reviews_df (pd.DataFrame): dataframe with one row per review\n",
    "    \n",
    "    Returns:\n",
    "    pd.DataFrame: reviews_df dataframe with new records appended\n",
    "    \n",
    "    '''\n",
    "    # find how many review pages there are total for the drug by parsing it from the first page\n",
    "    soup = get_soup(review_url, 1)\n",
    "    pages = soup.find('ul', class_='pagination')\n",
    "    \n",
    "    # proceed only if there is at least 1 review\n",
    "    if pages is not None:\n",
    "        last_page = int(pages.find_all('li', class_='page-item')[-1].text.strip())\n",
    "\n",
    "        for i in tqdm(range(1, last_page+1)):\n",
    "            soup = get_soup(review_url, 1)\n",
    "            reviews_df = parse_reviews_page(soup, reviews_df)\n",
    "\n",
    "    return reviews_df\n",
    "#Scrape Drugs by Condition from WebMD Search\n",
    "# need to spoof a browser in order to not get blocked when making request\n",
    "# https://bar.rady.ucsd.edu/Web_Scraping.html\n",
    "from bs4 import BeautifulSoup\n",
    "\n",
    "headers = requests.utils.default_headers()\n",
    "agent = 'Mozilla/5.0 (X11; Ubuntu; Linux x86_64; rv:52.0) Gecko/20100101 Firefox/52.0'\n",
    "headers.update({\n",
    "    'User-Agent': agent,\n",
    "})\n",
    "# make empty data frame to contain values and full text from each review\n",
    "cols = ['drug_name',\n",
    "       'date',\n",
    "       'age',\n",
    "       'gender',\n",
    "       'time_on_drug',\n",
    "       'reviewer_type',\n",
    "       'condition',\n",
    "       'rating_overall',\n",
    "       'rating_effectiveness',\n",
    "       'rating_ease_of_use',\n",
    "       'rating_satisfaction',\n",
    "       'text']\n",
    "\n",
    "reviews_df = pd.DataFrame(columns=cols, index=[])\n",
    "# # list of depression drugs from WebMD\n",
    "# url = 'https://www.webmd.com/depression/depression-medications-antidepressants'\n",
    "# response = requests.get(url, headers=headers).content\n",
    "# soup = BeautifulSoup(response, 'lxml')\n",
    "# drugs_section = soup.find('div', class_='article-page active-page')\n",
    "# use WebMD's search to find drugs by illness\n",
    "review_urls = []\n",
    "\n",
    "conditions = {\n",
    "             'depression': 'https://www.webmd.com/drugs/2/condition-1022/depression',\n",
    "             'anxiety with depression': 'https://www.webmd.com/drugs/2/condition-978/anxiety-with-depression'\n",
    "              }\n",
    "\n",
    "for url in conditions.values():\n",
    "    response = requests.get(url, headers=headers).content\n",
    "    soup = BeautifulSoup(response, 'lxml')\n",
    "    drugs_section = soup.find('div', class_='medication-results-list')\n",
    "\n",
    "    for drug_review_element in drugs_section.find_all('span', class_='reviews-url'):\n",
    "        review_urls.append(drug_review_element.a.get('href'))\n",
    "\n",
    "# because there is a lot of overlap in medications between conditions, get unique values\n",
    "review_urls = np.unique(review_urls)\n",
    "review_urls"
   ]
  },
  {
   "cell_type": "code",
   "execution_count": 4,
   "metadata": {},
   "outputs": [
    {
     "name": "stderr",
     "output_type": "stream",
     "text": [
      "  0%|          | 0/131 [00:00<?, ?it/s]"
     ]
    },
    {
     "name": "stdout",
     "output_type": "stream",
     "text": [
      "https://reviews.webmd.com/drugs/drugreview-1-sertraline-hcl\n"
     ]
    },
    {
     "name": "stderr",
     "output_type": "stream",
     "text": [
      "100%|██████████| 31/31 [01:02<00:00,  2.02s/it]\n",
      "  1%|          | 1/131 [01:06<2:23:49, 66.38s/it]"
     ]
    },
    {
     "name": "stdout",
     "output_type": "stream",
     "text": [
      "https://reviews.webmd.com/drugs/drugreview-10024-vanatrip-tablet\n"
     ]
    },
    {
     "name": "stderr",
     "output_type": "stream",
     "text": [
      "100%|██████████| 1/1 [00:01<00:00,  1.90s/it]\n",
      "  2%|▏         | 2/131 [01:11<1:05:25, 30.43s/it]"
     ]
    },
    {
     "name": "stdout",
     "output_type": "stream",
     "text": [
      "https://reviews.webmd.com/drugs/drugreview-1049-fluvoxamine-maleate\n"
     ]
    },
    {
     "name": "stderr",
     "output_type": "stream",
     "text": [
      "100%|██████████| 4/4 [00:07<00:00,  1.86s/it]\n",
      "  2%|▏         | 3/131 [01:22<45:55, 21.53s/it]  "
     ]
    },
    {
     "name": "stdout",
     "output_type": "stream",
     "text": [
      "https://reviews.webmd.com/drugs/drugreview-1049-fluvoxamine-maleate-er\n"
     ]
    },
    {
     "name": "stderr",
     "output_type": "stream",
     "text": [
      "100%|██████████| 4/4 [00:07<00:00,  1.91s/it]\n",
      "  3%|▎         | 4/131 [01:33<36:41, 17.34s/it]"
     ]
    },
    {
     "name": "stdout",
     "output_type": "stream",
     "text": [
      "https://reviews.webmd.com/drugs/drugreview-10710-nortriptyline-hcl\n"
     ]
    },
    {
     "name": "stderr",
     "output_type": "stream",
     "text": [
      "100%|██████████| 24/24 [00:52<00:00,  2.17s/it]\n",
      "  4%|▍         | 5/131 [02:29<1:05:49, 31.35s/it]"
     ]
    },
    {
     "name": "stdout",
     "output_type": "stream",
     "text": [
      "https://reviews.webmd.com/drugs/drugreview-1089-luvox-tablet\n"
     ]
    },
    {
     "name": "stderr",
     "output_type": "stream",
     "text": [
      "100%|██████████| 8/8 [00:18<00:00,  2.28s/it]\n",
      "  5%|▍         | 6/131 [02:51<58:44, 28.20s/it]  "
     ]
    },
    {
     "name": "stdout",
     "output_type": "stream",
     "text": [
      "https://reviews.webmd.com/drugs/drugreview-11034-amoxapine\n"
     ]
    },
    {
     "name": "stderr",
     "output_type": "stream",
     "text": [
      "100%|██████████| 1/1 [00:01<00:00,  1.54s/it]\n",
      "  6%|▌         | 8/131 [02:58<29:49, 14.55s/it]"
     ]
    },
    {
     "name": "stdout",
     "output_type": "stream",
     "text": [
      "skipping https://reviews.webmd.com/drugs/drugreview-11108-elavil-solution: page not found\n",
      "https://reviews.webmd.com/drugs/drugreview-12167-protriptyline-hcl\n"
     ]
    },
    {
     "name": "stderr",
     "output_type": "stream",
     "text": [
      "100%|██████████| 1/1 [00:01<00:00,  1.61s/it]\n",
      "  7%|▋         | 9/131 [03:03<23:34, 11.59s/it]"
     ]
    },
    {
     "name": "stdout",
     "output_type": "stream",
     "text": [
      "https://reviews.webmd.com/drugs/drugreview-12169-vivactil-tablet\n"
     ]
    },
    {
     "name": "stderr",
     "output_type": "stream",
     "text": [
      "100%|██████████| 1/1 [00:01<00:00,  1.68s/it]\n",
      "  8%|▊         | 10/131 [03:07<18:58,  9.41s/it]"
     ]
    },
    {
     "name": "stdout",
     "output_type": "stream",
     "text": [
      "https://reviews.webmd.com/drugs/drugreview-1305-clomipramine-hcl\n"
     ]
    },
    {
     "name": "stderr",
     "output_type": "stream",
     "text": [
      "100%|██████████| 4/4 [00:07<00:00,  1.87s/it]\n",
      "  8%|▊         | 11/131 [03:18<19:44,  9.87s/it]"
     ]
    },
    {
     "name": "stdout",
     "output_type": "stream",
     "text": [
      "https://reviews.webmd.com/drugs/drugreview-13507-bupropion-hcl\n"
     ]
    },
    {
     "name": "stderr",
     "output_type": "stream",
     "text": [
      "100%|██████████| 22/22 [00:43<00:00,  1.98s/it]\n",
      "  9%|▉         | 12/131 [04:05<41:52, 21.11s/it]"
     ]
    },
    {
     "name": "stdout",
     "output_type": "stream",
     "text": [
      "https://reviews.webmd.com/drugs/drugreview-13507-bupropion-hcl-sr\n"
     ]
    },
    {
     "name": "stderr",
     "output_type": "stream",
     "text": [
      "100%|██████████| 22/22 [00:42<00:00,  1.92s/it]\n",
      " 10%|▉         | 13/131 [04:50<55:52, 28.41s/it]"
     ]
    },
    {
     "name": "stdout",
     "output_type": "stream",
     "text": [
      "https://reviews.webmd.com/drugs/drugreview-13507-bupropion-xl\n"
     ]
    },
    {
     "name": "stderr",
     "output_type": "stream",
     "text": [
      "100%|██████████| 22/22 [00:42<00:00,  1.92s/it]\n",
      " 11%|█         | 14/131 [05:36<1:05:26, 33.56s/it]"
     ]
    },
    {
     "name": "stdout",
     "output_type": "stream",
     "text": [
      "https://reviews.webmd.com/drugs/drugreview-13509-wellbutrin-tablet\n"
     ]
    },
    {
     "name": "stderr",
     "output_type": "stream",
     "text": [
      "100%|██████████| 43/43 [01:22<00:00,  1.92s/it]\n",
      " 11%|█▏        | 15/131 [07:02<1:35:44, 49.52s/it]"
     ]
    },
    {
     "name": "stdout",
     "output_type": "stream",
     "text": [
      "https://reviews.webmd.com/drugs/drugreview-14211-wellbutrin-sr\n"
     ]
    },
    {
     "name": "stderr",
     "output_type": "stream",
     "text": [
      "100%|██████████| 15/15 [00:29<00:00,  1.97s/it]\n",
      " 12%|█▏        | 16/131 [07:35<1:25:32, 44.63s/it]"
     ]
    },
    {
     "name": "stdout",
     "output_type": "stream",
     "text": [
      "https://reviews.webmd.com/drugs/drugreview-14218-thsc-desipramine-hcl-tablet\n"
     ]
    },
    {
     "name": "stderr",
     "output_type": "stream",
     "text": [
      " 14%|█▎        | 18/131 [07:40<43:14, 22.96s/it]  "
     ]
    },
    {
     "name": "stdout",
     "output_type": "stream",
     "text": [
      "skipping https://reviews.webmd.com/drugs/drugreview-14349-amitriptyline-solution: page not found\n",
      "https://reviews.webmd.com/drugs/drugreview-146637-budeprion-xl-tablet-er-24-hr\n"
     ]
    },
    {
     "name": "stderr",
     "output_type": "stream",
     "text": [
      "100%|██████████| 5/5 [00:10<00:00,  2.03s/it]\n",
      " 15%|█▍        | 19/131 [07:54<37:31, 20.11s/it]"
     ]
    },
    {
     "name": "stdout",
     "output_type": "stream",
     "text": [
      "https://reviews.webmd.com/drugs/drugreview-14829-etrafon-forte-tablet\n"
     ]
    },
    {
     "name": "stderr",
     "output_type": "stream",
     "text": [
      " 15%|█▌        | 20/131 [07:56<27:39, 14.95s/it]"
     ]
    },
    {
     "name": "stdout",
     "output_type": "stream",
     "text": [
      "https://reviews.webmd.com/drugs/drugreview-150188-luvox-cr-capsule-24-hr-capsule-er-hr\n"
     ]
    },
    {
     "name": "stderr",
     "output_type": "stream",
     "text": [
      "100%|██████████| 4/4 [00:07<00:00,  1.86s/it]\n",
      " 16%|█▌        | 21/131 [08:07<25:06, 13.69s/it]"
     ]
    },
    {
     "name": "stdout",
     "output_type": "stream",
     "text": [
      "https://reviews.webmd.com/drugs/drugreview-150519-selfemra-capsule\n"
     ]
    },
    {
     "name": "stderr",
     "output_type": "stream",
     "text": [
      "100%|██████████| 1/1 [00:01<00:00,  1.57s/it]\n",
      " 17%|█▋        | 22/131 [08:12<19:46, 10.89s/it]"
     ]
    },
    {
     "name": "stdout",
     "output_type": "stream",
     "text": [
      "https://reviews.webmd.com/drugs/drugreview-151959-bupropion-hbr-tablet-er-24-hr\n"
     ]
    },
    {
     "name": "stderr",
     "output_type": "stream",
     "text": [
      "100%|██████████| 2/2 [00:03<00:00,  1.94s/it]\n",
      " 18%|█▊        | 23/131 [08:19<17:36,  9.78s/it]"
     ]
    },
    {
     "name": "stdout",
     "output_type": "stream",
     "text": [
      "https://reviews.webmd.com/drugs/drugreview-151973-aplenzin\n"
     ]
    },
    {
     "name": "stderr",
     "output_type": "stream",
     "text": [
      "100%|██████████| 3/3 [00:05<00:00,  1.86s/it]\n",
      " 18%|█▊        | 24/131 [08:28<16:57,  9.51s/it]"
     ]
    },
    {
     "name": "stdout",
     "output_type": "stream",
     "text": [
      "https://reviews.webmd.com/drugs/drugreview-15609-duo-vil-tablet\n"
     ]
    },
    {
     "name": "stderr",
     "output_type": "stream",
     "text": [
      "100%|██████████| 1/1 [00:01<00:00,  1.43s/it]\n",
      " 19%|█▉        | 25/131 [08:32<14:06,  7.98s/it]"
     ]
    },
    {
     "name": "stdout",
     "output_type": "stream",
     "text": [
      "https://reviews.webmd.com/drugs/drugreview-15610-duo-vil-tablet\n"
     ]
    },
    {
     "name": "stderr",
     "output_type": "stream",
     "text": [
      " 20%|█▉        | 26/131 [08:35<11:14,  6.43s/it]"
     ]
    },
    {
     "name": "stdout",
     "output_type": "stream",
     "text": [
      "https://reviews.webmd.com/drugs/drugreview-16020-limbitrol-ds-tablet\n"
     ]
    },
    {
     "name": "stderr",
     "output_type": "stream",
     "text": [
      "100%|██████████| 1/1 [00:01<00:00,  1.53s/it]\n",
      " 21%|██        | 27/131 [08:39<10:10,  5.87s/it]"
     ]
    },
    {
     "name": "stdout",
     "output_type": "stream",
     "text": [
      "https://reviews.webmd.com/drugs/drugreview-1609-zyban-tablet-er-12-hr\n"
     ]
    },
    {
     "name": "stderr",
     "output_type": "stream",
     "text": [
      "100%|██████████| 3/3 [00:05<00:00,  1.95s/it]\n",
      " 21%|██▏       | 28/131 [08:49<11:46,  6.86s/it]"
     ]
    },
    {
     "name": "stdout",
     "output_type": "stream",
     "text": [
      "https://reviews.webmd.com/drugs/drugreview-1610-bupropion-smoking-deter-tablet-er\n"
     ]
    },
    {
     "name": "stderr",
     "output_type": "stream",
     "text": [
      " 22%|██▏       | 29/131 [08:52<09:43,  5.72s/it]"
     ]
    },
    {
     "name": "stdout",
     "output_type": "stream",
     "text": [
      "https://reviews.webmd.com/drugs/drugreview-16109-etrafon-tablet\n"
     ]
    },
    {
     "name": "stderr",
     "output_type": "stream",
     "text": [
      "100%|██████████| 1/1 [00:01<00:00,  1.68s/it]\n",
      " 23%|██▎       | 30/131 [08:57<09:16,  5.51s/it]"
     ]
    },
    {
     "name": "stdout",
     "output_type": "stream",
     "text": [
      "https://reviews.webmd.com/drugs/drugreview-162178-forfivo-xl\n"
     ]
    },
    {
     "name": "stderr",
     "output_type": "stream",
     "text": [
      "100%|██████████| 1/1 [00:01<00:00,  1.84s/it]\n",
      " 24%|██▎       | 31/131 [09:02<08:59,  5.39s/it]"
     ]
    },
    {
     "name": "stdout",
     "output_type": "stream",
     "text": [
      "https://reviews.webmd.com/drugs/drugreview-168839-irenka-capsule-delayed-release-enteric-coated-capsule-delayed-e-c\n"
     ]
    },
    {
     "name": "stderr",
     "output_type": "stream",
     "text": [
      "100%|██████████| 1/1 [00:01<00:00,  1.43s/it]\n",
      " 24%|██▍       | 32/131 [09:06<08:16,  5.02s/it]"
     ]
    },
    {
     "name": "stdout",
     "output_type": "stream",
     "text": [
      "https://reviews.webmd.com/drugs/drugreview-1701-citalopram-hbr\n"
     ]
    },
    {
     "name": "stderr",
     "output_type": "stream",
     "text": [
      "100%|██████████| 81/81 [02:46<00:00,  2.05s/it]\n",
      " 25%|██▌       | 33/131 [11:56<1:29:01, 54.51s/it]"
     ]
    },
    {
     "name": "stdout",
     "output_type": "stream",
     "text": [
      "https://reviews.webmd.com/drugs/drugreview-171383-bupropion-hcl-sr\n"
     ]
    },
    {
     "name": "stderr",
     "output_type": "stream",
     "text": [
      "100%|██████████| 1/1 [00:01<00:00,  1.89s/it]\n",
      " 26%|██▌       | 34/131 [12:01<1:03:57, 39.56s/it]"
     ]
    },
    {
     "name": "stdout",
     "output_type": "stream",
     "text": [
      "https://reviews.webmd.com/drugs/drugreview-1774-fluoxetine-dr\n"
     ]
    },
    {
     "name": "stderr",
     "output_type": "stream",
     "text": [
      "100%|██████████| 22/22 [00:43<00:00,  1.99s/it]\n",
      " 27%|██▋       | 35/131 [12:48<1:07:00, 41.88s/it]"
     ]
    },
    {
     "name": "stdout",
     "output_type": "stream",
     "text": [
      "https://reviews.webmd.com/drugs/drugreview-1774-fluoxetine-hcl\n"
     ]
    },
    {
     "name": "stderr",
     "output_type": "stream",
     "text": [
      "100%|██████████| 22/22 [00:43<00:00,  1.99s/it]\n",
      " 27%|██▋       | 36/131 [13:35<1:08:46, 43.43s/it]"
     ]
    },
    {
     "name": "stdout",
     "output_type": "stream",
     "text": [
      "https://reviews.webmd.com/drugs/drugreview-1776-anafranil\n"
     ]
    },
    {
     "name": "stderr",
     "output_type": "stream",
     "text": [
      "100%|██████████| 4/4 [00:07<00:00,  1.77s/it]\n",
      " 28%|██▊       | 37/131 [13:46<52:44, 33.66s/it]  "
     ]
    },
    {
     "name": "stdout",
     "output_type": "stream",
     "text": [
      "https://reviews.webmd.com/drugs/drugreview-177632-drizalma-sprinkle\n"
     ]
    },
    {
     "name": "stderr",
     "output_type": "stream",
     "text": [
      " 29%|██▉       | 38/131 [13:48<37:46, 24.37s/it]"
     ]
    },
    {
     "name": "stdout",
     "output_type": "stream",
     "text": [
      "https://reviews.webmd.com/drugs/drugreview-1807-elavil-tablet\n"
     ]
    },
    {
     "name": "stderr",
     "output_type": "stream",
     "text": [
      "100%|██████████| 21/21 [00:38<00:00,  1.86s/it]\n",
      " 30%|██▉       | 39/131 [14:31<45:29, 29.67s/it]"
     ]
    },
    {
     "name": "stdout",
     "output_type": "stream",
     "text": [
      "https://reviews.webmd.com/drugs/drugreview-1820-pamelor\n"
     ]
    },
    {
     "name": "stderr",
     "output_type": "stream",
     "text": [
      "100%|██████████| 7/7 [00:12<00:00,  1.84s/it]\n",
      " 31%|███       | 40/131 [14:46<38:44, 25.55s/it]"
     ]
    },
    {
     "name": "stdout",
     "output_type": "stream",
     "text": [
      "https://reviews.webmd.com/drugs/drugreview-184446-venlafaxine-besylate-er\n"
     ]
    },
    {
     "name": "stderr",
     "output_type": "stream",
     "text": [
      "100%|██████████| 1/1 [00:01<00:00,  1.72s/it]\n",
      " 31%|███▏      | 41/131 [14:51<28:50, 19.23s/it]"
     ]
    },
    {
     "name": "stdout",
     "output_type": "stream",
     "text": [
      "https://reviews.webmd.com/drugs/drugreview-1919-chlordiazepoxide-amitriptyline\n"
     ]
    },
    {
     "name": "stderr",
     "output_type": "stream",
     "text": [
      "100%|██████████| 1/1 [00:01<00:00,  1.57s/it]\n",
      " 32%|███▏      | 42/131 [14:56<22:15, 15.01s/it]"
     ]
    },
    {
     "name": "stdout",
     "output_type": "stream",
     "text": [
      "https://reviews.webmd.com/drugs/drugreview-19825-sarafem-capsule\n"
     ]
    },
    {
     "name": "stderr",
     "output_type": "stream",
     "text": [
      "100%|██████████| 3/3 [00:05<00:00,  1.84s/it]\n",
      " 33%|███▎      | 43/131 [15:06<19:39, 13.41s/it]"
     ]
    },
    {
     "name": "stdout",
     "output_type": "stream",
     "text": [
      "https://reviews.webmd.com/drugs/drugreview-209-adapin-capsule\n"
     ]
    },
    {
     "name": "stderr",
     "output_type": "stream",
     "text": [
      "100%|██████████| 1/1 [00:01<00:00,  1.81s/it]\n",
      " 34%|███▎      | 44/131 [15:11<15:40, 10.80s/it]"
     ]
    },
    {
     "name": "stdout",
     "output_type": "stream",
     "text": [
      "https://reviews.webmd.com/drugs/drugreview-21670-fluoxetine-capsule\n"
     ]
    },
    {
     "name": "stderr",
     "output_type": "stream",
     "text": [
      "100%|██████████| 1/1 [00:01<00:00,  1.48s/it]\n",
      " 34%|███▍      | 45/131 [15:15<12:43,  8.88s/it]"
     ]
    },
    {
     "name": "stdout",
     "output_type": "stream",
     "text": [
      "https://reviews.webmd.com/drugs/drugreview-21672-rapiflux-tablet\n"
     ]
    },
    {
     "name": "stderr",
     "output_type": "stream",
     "text": [
      "100%|██████████| 1/1 [00:01<00:00,  1.71s/it]\n",
      " 35%|███▌      | 46/131 [15:20<10:58,  7.75s/it]"
     ]
    },
    {
     "name": "stdout",
     "output_type": "stream",
     "text": [
      "https://reviews.webmd.com/drugs/drugreview-2202-chlordiazepoxide-amitriptyline-tablet\n"
     ]
    },
    {
     "name": "stderr",
     "output_type": "stream",
     "text": [
      " 36%|███▌      | 47/131 [15:23<08:49,  6.30s/it]"
     ]
    },
    {
     "name": "stdout",
     "output_type": "stream",
     "text": [
      "https://reviews.webmd.com/drugs/drugreview-22834-paxil-cr-tablet-er-24-hr\n"
     ]
    },
    {
     "name": "stderr",
     "output_type": "stream",
     "text": [
      " 37%|███▋      | 48/131 [15:26<07:19,  5.30s/it]"
     ]
    },
    {
     "name": "stdout",
     "output_type": "stream",
     "text": [
      "https://reviews.webmd.com/drugs/drugreview-2846-perphenazine-amitriptyline\n"
     ]
    },
    {
     "name": "stderr",
     "output_type": "stream",
     "text": [
      "100%|██████████| 1/1 [00:01<00:00,  1.93s/it]\n",
      " 37%|███▋      | 49/131 [15:31<07:15,  5.31s/it]"
     ]
    },
    {
     "name": "stdout",
     "output_type": "stream",
     "text": [
      "https://reviews.webmd.com/drugs/drugreview-32900-paxil-cr\n"
     ]
    },
    {
     "name": "stderr",
     "output_type": "stream",
     "text": [
      "100%|██████████| 37/37 [01:14<00:00,  2.01s/it]\n",
      " 38%|███▊      | 50/131 [16:49<36:33, 27.08s/it]"
     ]
    },
    {
     "name": "stdout",
     "output_type": "stream",
     "text": [
      "https://reviews.webmd.com/drugs/drugreview-3335-sinequan-capsule\n"
     ]
    },
    {
     "name": "stderr",
     "output_type": "stream",
     "text": [
      "100%|██████████| 2/2 [00:03<00:00,  1.95s/it]\n",
      " 39%|███▉      | 51/131 [16:56<28:07, 21.10s/it]"
     ]
    },
    {
     "name": "stdout",
     "output_type": "stream",
     "text": [
      "https://reviews.webmd.com/drugs/drugreview-3335-sinequan-concentrate\n"
     ]
    },
    {
     "name": "stderr",
     "output_type": "stream",
     "text": [
      "100%|██████████| 2/2 [00:03<00:00,  1.92s/it]\n",
      " 40%|███▉      | 52/131 [17:03<22:13, 16.87s/it]"
     ]
    },
    {
     "name": "stdout",
     "output_type": "stream",
     "text": [
      "https://reviews.webmd.com/drugs/drugreview-35-zoloft\n"
     ]
    },
    {
     "name": "stderr",
     "output_type": "stream",
     "text": [
      "100%|██████████| 140/140 [04:56<00:00,  2.12s/it]\n",
      " 40%|████      | 53/131 [22:04<2:12:35, 101.99s/it]"
     ]
    },
    {
     "name": "stdout",
     "output_type": "stream",
     "text": [
      "https://reviews.webmd.com/drugs/drugreview-4870-venlafaxine-hcl\n"
     ]
    },
    {
     "name": "stderr",
     "output_type": "stream",
     "text": [
      "100%|██████████| 28/28 [00:57<00:00,  2.04s/it]\n",
      " 41%|████      | 54/131 [23:05<1:54:59, 89.60s/it] "
     ]
    },
    {
     "name": "stdout",
     "output_type": "stream",
     "text": [
      "https://reviews.webmd.com/drugs/drugreview-4870-venlafaxine-hcl-er\n"
     ]
    },
    {
     "name": "stderr",
     "output_type": "stream",
     "text": [
      "100%|██████████| 28/28 [00:54<00:00,  1.96s/it]\n",
      " 42%|████▏     | 55/131 [24:03<1:41:36, 80.21s/it]"
     ]
    },
    {
     "name": "stdout",
     "output_type": "stream",
     "text": [
      "https://reviews.webmd.com/drugs/drugreview-4896-effexor-xr\n"
     ]
    },
    {
     "name": "stderr",
     "output_type": "stream",
     "text": [
      "100%|██████████| 179/179 [06:42<00:00,  2.25s/it]\n",
      " 43%|████▎     | 56/131 [30:49<3:42:36, 178.09s/it]"
     ]
    },
    {
     "name": "stdout",
     "output_type": "stream",
     "text": [
      "https://reviews.webmd.com/drugs/drugreview-57075-amitid-tablet\n"
     ]
    },
    {
     "name": "stderr",
     "output_type": "stream",
     "text": [
      " 44%|████▎     | 57/131 [30:52<2:34:50, 125.55s/it]"
     ]
    },
    {
     "name": "stdout",
     "output_type": "stream",
     "text": [
      "https://reviews.webmd.com/drugs/drugreview-57076-sk-amitriptyline-tablet\n"
     ]
    },
    {
     "name": "stderr",
     "output_type": "stream",
     "text": [
      " 44%|████▍     | 58/131 [30:55<1:47:58, 88.74s/it] "
     ]
    },
    {
     "name": "stdout",
     "output_type": "stream",
     "text": [
      "https://reviews.webmd.com/drugs/drugreview-57077-q-e-l-tablet\n"
     ]
    },
    {
     "name": "stderr",
     "output_type": "stream",
     "text": [
      " 45%|████▌     | 59/131 [30:58<1:15:31, 62.94s/it]"
     ]
    },
    {
     "name": "stdout",
     "output_type": "stream",
     "text": [
      "https://reviews.webmd.com/drugs/drugreview-57078-kenvil-tablet\n"
     ]
    },
    {
     "name": "stderr",
     "output_type": "stream",
     "text": [
      " 46%|████▌     | 60/131 [31:00<53:04, 44.85s/it]  "
     ]
    },
    {
     "name": "stdout",
     "output_type": "stream",
     "text": [
      "https://reviews.webmd.com/drugs/drugreview-57079-e-vill-tablet\n"
     ]
    },
    {
     "name": "stderr",
     "output_type": "stream",
     "text": [
      " 47%|████▋     | 61/131 [31:03<37:37, 32.25s/it]"
     ]
    },
    {
     "name": "stdout",
     "output_type": "stream",
     "text": [
      "https://reviews.webmd.com/drugs/drugreview-57080-stabanil-tablet\n"
     ]
    },
    {
     "name": "stderr",
     "output_type": "stream",
     "text": [
      " 47%|████▋     | 62/131 [31:07<27:14, 23.68s/it]"
     ]
    },
    {
     "name": "stdout",
     "output_type": "stream",
     "text": [
      "https://reviews.webmd.com/drugs/drugreview-57081-e-vill-tablet\n"
     ]
    },
    {
     "name": "stderr",
     "output_type": "stream",
     "text": [
      " 48%|████▊     | 63/131 [31:10<19:44, 17.42s/it]"
     ]
    },
    {
     "name": "stdout",
     "output_type": "stream",
     "text": [
      "https://reviews.webmd.com/drugs/drugreview-57082-re-live-tablet\n"
     ]
    },
    {
     "name": "stderr",
     "output_type": "stream",
     "text": [
      " 49%|████▉     | 64/131 [31:12<14:28, 12.97s/it]"
     ]
    },
    {
     "name": "stdout",
     "output_type": "stream",
     "text": [
      "https://reviews.webmd.com/drugs/drugreview-57083-emitrip-tablet\n"
     ]
    },
    {
     "name": "stderr",
     "output_type": "stream",
     "text": [
      " 50%|████▉     | 65/131 [31:16<11:06, 10.10s/it]"
     ]
    },
    {
     "name": "stdout",
     "output_type": "stream",
     "text": [
      "https://reviews.webmd.com/drugs/drugreview-57084-e-vill-tablet\n"
     ]
    },
    {
     "name": "stderr",
     "output_type": "stream",
     "text": [
      " 50%|█████     | 66/131 [31:19<08:39,  7.99s/it]"
     ]
    },
    {
     "name": "stdout",
     "output_type": "stream",
     "text": [
      "https://reviews.webmd.com/drugs/drugreview-57085-e-vill-tablet\n"
     ]
    },
    {
     "name": "stderr",
     "output_type": "stream",
     "text": [
      " 51%|█████     | 67/131 [31:22<06:59,  6.55s/it]"
     ]
    },
    {
     "name": "stdout",
     "output_type": "stream",
     "text": [
      "https://reviews.webmd.com/drugs/drugreview-57086-e-vill-tablet\n"
     ]
    },
    {
     "name": "stderr",
     "output_type": "stream",
     "text": [
      " 53%|█████▎    | 69/131 [31:27<04:34,  4.43s/it]"
     ]
    },
    {
     "name": "stdout",
     "output_type": "stream",
     "text": [
      "skipping https://reviews.webmd.com/drugs/drugreview-57087-enovil-solution: page not found\n",
      "https://reviews.webmd.com/drugs/drugreview-57088-sk-pramine-tablet\n"
     ]
    },
    {
     "name": "stderr",
     "output_type": "stream",
     "text": [
      " 53%|█████▎    | 70/131 [31:30<04:07,  4.06s/it]"
     ]
    },
    {
     "name": "stdout",
     "output_type": "stream",
     "text": [
      "https://reviews.webmd.com/drugs/drugreview-57089-janimine-tablet\n"
     ]
    },
    {
     "name": "stderr",
     "output_type": "stream",
     "text": [
      " 54%|█████▍    | 71/131 [31:33<03:43,  3.73s/it]"
     ]
    },
    {
     "name": "stdout",
     "output_type": "stream",
     "text": [
      "https://reviews.webmd.com/drugs/drugreview-57090-etnofril-tablet\n"
     ]
    },
    {
     "name": "stderr",
     "output_type": "stream",
     "text": [
      " 55%|█████▍    | 72/131 [31:36<03:23,  3.44s/it]"
     ]
    },
    {
     "name": "stdout",
     "output_type": "stream",
     "text": [
      "https://reviews.webmd.com/drugs/drugreview-57091-imavate-tablet\n"
     ]
    },
    {
     "name": "stderr",
     "output_type": "stream",
     "text": [
      " 56%|█████▌    | 73/131 [31:39<03:09,  3.26s/it]"
     ]
    },
    {
     "name": "stdout",
     "output_type": "stream",
     "text": [
      "https://reviews.webmd.com/drugs/drugreview-57092-norfranil-tablet\n"
     ]
    },
    {
     "name": "stderr",
     "output_type": "stream",
     "text": [
      " 56%|█████▋    | 74/131 [31:43<03:13,  3.39s/it]"
     ]
    },
    {
     "name": "stdout",
     "output_type": "stream",
     "text": [
      "https://reviews.webmd.com/drugs/drugreview-57093-deconil-tablet\n"
     ]
    },
    {
     "name": "stderr",
     "output_type": "stream",
     "text": [
      " 57%|█████▋    | 75/131 [31:45<02:59,  3.20s/it]"
     ]
    },
    {
     "name": "stdout",
     "output_type": "stream",
     "text": [
      "https://reviews.webmd.com/drugs/drugreview-57094-aventyl-hcl-do-not-use-capsule\n"
     ]
    },
    {
     "name": "stderr",
     "output_type": "stream",
     "text": [
      " 58%|█████▊    | 76/131 [31:48<02:50,  3.11s/it]"
     ]
    },
    {
     "name": "stdout",
     "output_type": "stream",
     "text": [
      "https://reviews.webmd.com/drugs/drugreview-57375-amitriptyline-chlordiazepoxide-tablet\n"
     ]
    },
    {
     "name": "stderr",
     "output_type": "stream",
     "text": [
      " 59%|█████▉    | 77/131 [31:51<02:48,  3.12s/it]"
     ]
    },
    {
     "name": "stdout",
     "output_type": "stream",
     "text": [
      "https://reviews.webmd.com/drugs/drugreview-57376-amitriptyline-w-perphenazine-tablet\n"
     ]
    },
    {
     "name": "stderr",
     "output_type": "stream",
     "text": [
      " 60%|█████▉    | 78/131 [31:56<03:02,  3.44s/it]"
     ]
    },
    {
     "name": "stdout",
     "output_type": "stream",
     "text": [
      "https://reviews.webmd.com/drugs/drugreview-57377-per-trip-tablet\n"
     ]
    },
    {
     "name": "stderr",
     "output_type": "stream",
     "text": [
      " 60%|██████    | 79/131 [31:58<02:47,  3.21s/it]"
     ]
    },
    {
     "name": "stdout",
     "output_type": "stream",
     "text": [
      "https://reviews.webmd.com/drugs/drugreview-57378-triavil-tablet\n"
     ]
    },
    {
     "name": "stderr",
     "output_type": "stream",
     "text": [
      "100%|██████████| 1/1 [00:01<00:00,  1.54s/it]\n",
      " 61%|██████    | 80/131 [32:03<03:02,  3.57s/it]"
     ]
    },
    {
     "name": "stdout",
     "output_type": "stream",
     "text": [
      "https://reviews.webmd.com/drugs/drugreview-57379-etrafon-a-tablet\n"
     ]
    },
    {
     "name": "stderr",
     "output_type": "stream",
     "text": [
      " 62%|██████▏   | 81/131 [32:06<02:49,  3.39s/it]"
     ]
    },
    {
     "name": "stdout",
     "output_type": "stream",
     "text": [
      "https://reviews.webmd.com/drugs/drugreview-57380-triavil-tablet\n"
     ]
    },
    {
     "name": "stderr",
     "output_type": "stream",
     "text": [
      "100%|██████████| 1/1 [00:02<00:00,  2.87s/it]\n",
      " 63%|██████▎   | 82/131 [32:11<03:16,  4.00s/it]"
     ]
    },
    {
     "name": "stdout",
     "output_type": "stream",
     "text": [
      "https://reviews.webmd.com/drugs/drugreview-6171-asendin-tablet\n"
     ]
    },
    {
     "name": "stderr",
     "output_type": "stream",
     "text": [
      "100%|██████████| 1/1 [00:01<00:00,  1.54s/it]\n",
      " 63%|██████▎   | 83/131 [32:15<03:17,  4.12s/it]"
     ]
    },
    {
     "name": "stdout",
     "output_type": "stream",
     "text": [
      "https://reviews.webmd.com/drugs/drugreview-6172-aventyl-capsule\n"
     ]
    },
    {
     "name": "stderr",
     "output_type": "stream",
     "text": [
      "100%|██████████| 1/1 [00:01<00:00,  1.71s/it]\n",
      " 64%|██████▍   | 84/131 [32:20<03:20,  4.28s/it]"
     ]
    },
    {
     "name": "stdout",
     "output_type": "stream",
     "text": [
      "https://reviews.webmd.com/drugs/drugreview-6316-limbitrol-tablet\n"
     ]
    },
    {
     "name": "stderr",
     "output_type": "stream",
     "text": [
      "100%|██████████| 1/1 [00:01<00:00,  1.77s/it]\n",
      " 65%|██████▍   | 85/131 [32:25<03:27,  4.52s/it]"
     ]
    },
    {
     "name": "stdout",
     "output_type": "stream",
     "text": [
      "https://reviews.webmd.com/drugs/drugreview-63989-escitalopram-oxalate\n"
     ]
    },
    {
     "name": "stderr",
     "output_type": "stream",
     "text": [
      "100%|██████████| 13/13 [00:27<00:00,  2.14s/it]\n",
      " 66%|██████▌   | 86/131 [32:57<09:29, 12.65s/it]"
     ]
    },
    {
     "name": "stdout",
     "output_type": "stream",
     "text": [
      "https://reviews.webmd.com/drugs/drugreview-63990-lexapro\n"
     ]
    },
    {
     "name": "stderr",
     "output_type": "stream",
     "text": [
      "100%|██████████| 215/215 [08:18<00:00,  2.32s/it]\n",
      " 66%|██████▋   | 87/131 [41:19<1:56:58, 159.51s/it]"
     ]
    },
    {
     "name": "stdout",
     "output_type": "stream",
     "text": [
      "https://reviews.webmd.com/drugs/drugreview-6790-etrafon-tablet\n"
     ]
    },
    {
     "name": "stderr",
     "output_type": "stream",
     "text": [
      "100%|██████████| 1/1 [00:02<00:00,  2.57s/it]\n",
      " 68%|██████▊   | 89/131 [41:27<55:56, 79.93s/it]   "
     ]
    },
    {
     "name": "stdout",
     "output_type": "stream",
     "text": [
      "skipping https://reviews.webmd.com/drugs/drugreview-6886-ludiomil-tablet: page not found\n",
      "https://reviews.webmd.com/drugs/drugreview-6936-norpramin\n"
     ]
    },
    {
     "name": "stderr",
     "output_type": "stream",
     "text": [
      "100%|██████████| 2/2 [00:03<00:00,  1.86s/it]\n",
      " 69%|██████▊   | 90/131 [41:34<39:40, 58.06s/it]"
     ]
    },
    {
     "name": "stdout",
     "output_type": "stream",
     "text": [
      "https://reviews.webmd.com/drugs/drugreview-6968-paxil\n"
     ]
    },
    {
     "name": "stderr",
     "output_type": "stream",
     "text": [
      "100%|██████████| 38/38 [01:22<00:00,  2.18s/it]\n",
      " 69%|██████▉   | 91/131 [43:00<44:26, 66.67s/it]"
     ]
    },
    {
     "name": "stdout",
     "output_type": "stream",
     "text": [
      "https://reviews.webmd.com/drugs/drugreview-6968-paxil-tablet\n"
     ]
    },
    {
     "name": "stderr",
     "output_type": "stream",
     "text": [
      "100%|██████████| 38/38 [01:18<00:00,  2.06s/it]\n",
      " 70%|███████   | 92/131 [44:24<46:34, 71.66s/it]"
     ]
    },
    {
     "name": "stdout",
     "output_type": "stream",
     "text": [
      "https://reviews.webmd.com/drugs/drugreview-6969-paroxetine-er\n"
     ]
    },
    {
     "name": "stderr",
     "output_type": "stream",
     "text": [
      "100%|██████████| 16/16 [00:32<00:00,  2.01s/it]\n",
      " 71%|███████   | 93/131 [45:00<38:36, 60.97s/it]"
     ]
    },
    {
     "name": "stdout",
     "output_type": "stream",
     "text": [
      "https://reviews.webmd.com/drugs/drugreview-6969-paroxetine-hcl\n"
     ]
    },
    {
     "name": "stderr",
     "output_type": "stream",
     "text": [
      "100%|██████████| 16/16 [00:34<00:00,  2.13s/it]\n",
      " 72%|███████▏  | 94/131 [45:37<33:16, 53.97s/it]"
     ]
    },
    {
     "name": "stdout",
     "output_type": "stream",
     "text": [
      "https://reviews.webmd.com/drugs/drugreview-6969-paroxetine-hcl-suspension-final-dose-form\n"
     ]
    },
    {
     "name": "stderr",
     "output_type": "stream",
     "text": [
      "100%|██████████| 16/16 [00:33<00:00,  2.11s/it]\n",
      " 73%|███████▎  | 95/131 [46:15<29:24, 49.00s/it]"
     ]
    },
    {
     "name": "stdout",
     "output_type": "stream",
     "text": [
      "https://reviews.webmd.com/drugs/drugreview-6997-prozac\n"
     ]
    },
    {
     "name": "stderr",
     "output_type": "stream",
     "text": [
      "100%|██████████| 88/88 [03:15<00:00,  2.22s/it]\n",
      " 73%|███████▎  | 96/131 [49:35<55:02, 94.36s/it]"
     ]
    },
    {
     "name": "stdout",
     "output_type": "stream",
     "text": [
      "https://reviews.webmd.com/drugs/drugreview-6997-prozac-capsule\n"
     ]
    },
    {
     "name": "stderr",
     "output_type": "stream",
     "text": [
      "100%|██████████| 88/88 [03:26<00:00,  2.34s/it]\n",
      " 74%|███████▍  | 97/131 [53:05<1:13:07, 129.04s/it]"
     ]
    },
    {
     "name": "stdout",
     "output_type": "stream",
     "text": [
      "https://reviews.webmd.com/drugs/drugreview-7031-surmontil-capsule\n"
     ]
    },
    {
     "name": "stderr",
     "output_type": "stream",
     "text": [
      "100%|██████████| 1/1 [00:02<00:00,  2.52s/it]\n",
      " 75%|███████▍  | 98/131 [53:12<50:46, 92.32s/it]   "
     ]
    },
    {
     "name": "stdout",
     "output_type": "stream",
     "text": [
      "https://reviews.webmd.com/drugs/drugreview-7032-trimipramine-maleate\n"
     ]
    },
    {
     "name": "stderr",
     "output_type": "stream",
     "text": [
      "100%|██████████| 1/1 [00:01<00:00,  1.76s/it]\n",
      " 76%|███████▌  | 99/131 [53:16<35:13, 66.06s/it]"
     ]
    },
    {
     "name": "stdout",
     "output_type": "stream",
     "text": [
      "https://reviews.webmd.com/drugs/drugreview-7047-tofranil-tablet\n"
     ]
    },
    {
     "name": "stderr",
     "output_type": "stream",
     "text": [
      "100%|██████████| 3/3 [00:07<00:00,  2.36s/it]\n",
      " 76%|███████▋  | 100/131 [53:27<25:33, 49.48s/it]"
     ]
    },
    {
     "name": "stdout",
     "output_type": "stream",
     "text": [
      "https://reviews.webmd.com/drugs/drugreview-7048-tofranil-pm-capsule\n"
     ]
    },
    {
     "name": "stderr",
     "output_type": "stream",
     "text": [
      "100%|██████████| 2/2 [00:03<00:00,  1.88s/it]\n",
      " 77%|███████▋  | 101/131 [53:36<18:37, 37.25s/it]"
     ]
    },
    {
     "name": "stdout",
     "output_type": "stream",
     "text": [
      "https://reviews.webmd.com/drugs/drugreview-7049-imipramine-pamoate\n"
     ]
    },
    {
     "name": "stderr",
     "output_type": "stream",
     "text": [
      "100%|██████████| 1/1 [00:01<00:00,  1.75s/it]\n",
      " 78%|███████▊  | 102/131 [53:42<13:27, 27.85s/it]"
     ]
    },
    {
     "name": "stdout",
     "output_type": "stream",
     "text": [
      "https://reviews.webmd.com/drugs/drugreview-7064-triavil-tablet\n"
     ]
    },
    {
     "name": "stderr",
     "output_type": "stream",
     "text": [
      "100%|██████████| 1/1 [00:01<00:00,  1.61s/it]\n",
      " 79%|███████▊  | 103/131 [53:46<09:45, 20.91s/it]"
     ]
    },
    {
     "name": "stdout",
     "output_type": "stream",
     "text": [
      "https://reviews.webmd.com/drugs/drugreview-7065-triavil-tablet\n"
     ]
    },
    {
     "name": "stderr",
     "output_type": "stream",
     "text": [
      "100%|██████████| 1/1 [00:01<00:00,  1.94s/it]\n",
      " 79%|███████▉  | 104/131 [53:52<07:19, 16.27s/it]"
     ]
    },
    {
     "name": "stdout",
     "output_type": "stream",
     "text": [
      "https://reviews.webmd.com/drugs/drugreview-7066-triavil-tablet\n"
     ]
    },
    {
     "name": "stderr",
     "output_type": "stream",
     "text": [
      "100%|██████████| 1/1 [00:01<00:00,  1.51s/it]\n",
      " 80%|████████  | 105/131 [53:56<05:31, 12.75s/it]"
     ]
    },
    {
     "name": "stdout",
     "output_type": "stream",
     "text": [
      "https://reviews.webmd.com/drugs/drugreview-76851-wellbutrin-xl\n"
     ]
    },
    {
     "name": "stderr",
     "output_type": "stream",
     "text": [
      "100%|██████████| 86/86 [03:15<00:00,  2.28s/it]\n",
      " 81%|████████  | 106/131 [57:16<28:40, 68.82s/it]"
     ]
    },
    {
     "name": "stdout",
     "output_type": "stream",
     "text": [
      "https://reviews.webmd.com/drugs/drugreview-78093-paroxetine-mesylate-tablet\n"
     ]
    },
    {
     "name": "stderr",
     "output_type": "stream",
     "text": [
      "100%|██████████| 1/1 [00:02<00:00,  2.36s/it]\n",
      " 82%|████████▏ | 107/131 [57:22<19:55, 49.83s/it]"
     ]
    },
    {
     "name": "stdout",
     "output_type": "stream",
     "text": [
      "https://reviews.webmd.com/drugs/drugreview-78102-pexeva\n"
     ]
    },
    {
     "name": "stderr",
     "output_type": "stream",
     "text": [
      "100%|██████████| 4/4 [00:08<00:00,  2.14s/it]\n",
      " 82%|████████▏ | 108/131 [57:34<14:45, 38.50s/it]"
     ]
    },
    {
     "name": "stdout",
     "output_type": "stream",
     "text": [
      "https://reviews.webmd.com/drugs/drugreview-78613-budeprion-sr-tablet-sustained-release-12-hr\n"
     ]
    },
    {
     "name": "stderr",
     "output_type": "stream",
     "text": [
      "100%|██████████| 6/6 [00:13<00:00,  2.22s/it]\n",
      " 83%|████████▎ | 109/131 [57:51<11:46, 32.10s/it]"
     ]
    },
    {
     "name": "stdout",
     "output_type": "stream",
     "text": [
      "https://reviews.webmd.com/drugs/drugreview-8115-alprazolam-intensol\n"
     ]
    },
    {
     "name": "stderr",
     "output_type": "stream",
     "text": [
      "100%|██████████| 1/1 [00:03<00:00,  3.02s/it]\n",
      " 84%|████████▍ | 110/131 [57:57<08:32, 24.40s/it]"
     ]
    },
    {
     "name": "stdout",
     "output_type": "stream",
     "text": [
      "https://reviews.webmd.com/drugs/drugreview-8171-alprazolam\n"
     ]
    },
    {
     "name": "stderr",
     "output_type": "stream",
     "text": [
      "100%|██████████| 37/37 [01:16<00:00,  2.07s/it]\n",
      " 85%|████████▍ | 111/131 [59:17<13:41, 41.06s/it]"
     ]
    },
    {
     "name": "stdout",
     "output_type": "stream",
     "text": [
      "https://reviews.webmd.com/drugs/drugreview-8171-alprazolam-concentrate\n"
     ]
    },
    {
     "name": "stderr",
     "output_type": "stream",
     "text": [
      "100%|██████████| 37/37 [01:14<00:00,  2.02s/it]\n",
      " 85%|████████▌ | 112/131 [1:00:35<16:32, 52.22s/it]"
     ]
    },
    {
     "name": "stdout",
     "output_type": "stream",
     "text": [
      "https://reviews.webmd.com/drugs/drugreview-8171-alprazolam-er\n"
     ]
    },
    {
     "name": "stderr",
     "output_type": "stream",
     "text": [
      "100%|██████████| 37/37 [01:17<00:00,  2.10s/it]\n",
      " 86%|████████▋ | 113/131 [1:01:57<18:16, 60.92s/it]"
     ]
    },
    {
     "name": "stdout",
     "output_type": "stream",
     "text": [
      "https://reviews.webmd.com/drugs/drugreview-8171-alprazolam-odt\n"
     ]
    },
    {
     "name": "stderr",
     "output_type": "stream",
     "text": [
      "100%|██████████| 37/37 [01:21<00:00,  2.20s/it]\n",
      " 87%|████████▋ | 114/131 [1:03:22<19:18, 68.14s/it]"
     ]
    },
    {
     "name": "stdout",
     "output_type": "stream",
     "text": [
      "https://reviews.webmd.com/drugs/drugreview-8323-desipramine-hcl\n"
     ]
    },
    {
     "name": "stderr",
     "output_type": "stream",
     "text": [
      "100%|██████████| 3/3 [00:06<00:00,  2.26s/it]\n",
      " 88%|████████▊ | 115/131 [1:03:32<13:31, 50.70s/it]"
     ]
    },
    {
     "name": "stdout",
     "output_type": "stream",
     "text": [
      "https://reviews.webmd.com/drugs/drugreview-8603-celexa\n"
     ]
    },
    {
     "name": "stderr",
     "output_type": "stream",
     "text": [
      "100%|██████████| 112/112 [04:12<00:00,  2.26s/it]\n",
      " 89%|████████▊ | 116/131 [1:07:48<28:07, 112.47s/it]"
     ]
    },
    {
     "name": "stdout",
     "output_type": "stream",
     "text": [
      "https://reviews.webmd.com/drugs/drugreview-8611-amitriptyline-hcl\n"
     ]
    },
    {
     "name": "stderr",
     "output_type": "stream",
     "text": [
      "100%|██████████| 60/60 [02:12<00:00,  2.20s/it]\n",
      " 89%|████████▉ | 117/131 [1:10:04<27:50, 119.35s/it]"
     ]
    },
    {
     "name": "stdout",
     "output_type": "stream",
     "text": [
      "https://reviews.webmd.com/drugs/drugreview-8647-doxepin-hcl\n"
     ]
    },
    {
     "name": "stderr",
     "output_type": "stream",
     "text": [
      "100%|██████████| 13/13 [00:27<00:00,  2.15s/it]\n",
      " 90%|█████████ | 118/131 [1:10:36<20:10, 93.09s/it] "
     ]
    },
    {
     "name": "stdout",
     "output_type": "stream",
     "text": [
      "https://reviews.webmd.com/drugs/drugreview-8647-doxepin-hcl-capsule\n"
     ]
    },
    {
     "name": "stderr",
     "output_type": "stream",
     "text": [
      "100%|██████████| 13/13 [00:32<00:00,  2.52s/it]\n",
      " 91%|█████████ | 119/131 [1:11:12<15:11, 75.96s/it]"
     ]
    },
    {
     "name": "stdout",
     "output_type": "stream",
     "text": [
      "https://reviews.webmd.com/drugs/drugreview-8647-doxepin-hcl-concentrate\n"
     ]
    },
    {
     "name": "stderr",
     "output_type": "stream",
     "text": [
      "100%|██████████| 13/13 [00:29<00:00,  2.23s/it]\n",
      " 92%|█████████▏| 120/131 [1:11:44<11:31, 62.84s/it]"
     ]
    },
    {
     "name": "stdout",
     "output_type": "stream",
     "text": [
      "https://reviews.webmd.com/drugs/drugreview-8664-imipramine-hcl\n"
     ]
    },
    {
     "name": "stderr",
     "output_type": "stream",
     "text": [
      "100%|██████████| 6/6 [00:12<00:00,  2.14s/it]\n",
      " 93%|█████████▎| 122/131 [1:12:02<05:13, 34.82s/it]"
     ]
    },
    {
     "name": "stdout",
     "output_type": "stream",
     "text": [
      "skipping https://reviews.webmd.com/drugs/drugreview-8672-maprotiline-tablet: page not found\n",
      "https://reviews.webmd.com/drugs/drugreview-8827-phenelzine-sulfate\n"
     ]
    },
    {
     "name": "stderr",
     "output_type": "stream",
     "text": [
      "100%|██████████| 1/1 [00:01<00:00,  1.81s/it]\n",
      " 94%|█████████▍| 123/131 [1:12:07<03:26, 25.83s/it]"
     ]
    },
    {
     "name": "stdout",
     "output_type": "stream",
     "text": [
      "https://reviews.webmd.com/drugs/drugreview-89444-buproban-tablet-er-12-hr\n"
     ]
    },
    {
     "name": "stderr",
     "output_type": "stream",
     "text": [
      "100%|██████████| 1/1 [00:02<00:00,  2.35s/it]\n",
      " 95%|█████████▍| 124/131 [1:12:12<02:18, 19.75s/it]"
     ]
    },
    {
     "name": "stdout",
     "output_type": "stream",
     "text": [
      "https://reviews.webmd.com/drugs/drugreview-91490-duloxetine-capsule-delayed-release-sprinkle\n"
     ]
    },
    {
     "name": "stderr",
     "output_type": "stream",
     "text": [
      "100%|██████████| 11/11 [00:23<00:00,  2.16s/it]\n",
      " 95%|█████████▌| 125/131 [1:12:41<02:13, 22.31s/it]"
     ]
    },
    {
     "name": "stdout",
     "output_type": "stream",
     "text": [
      "https://reviews.webmd.com/drugs/drugreview-91490-duloxetine-hcl\n"
     ]
    },
    {
     "name": "stderr",
     "output_type": "stream",
     "text": [
      "100%|██████████| 11/11 [00:24<00:00,  2.18s/it]\n",
      " 96%|█████████▌| 126/131 [1:13:09<01:59, 23.94s/it]"
     ]
    },
    {
     "name": "stdout",
     "output_type": "stream",
     "text": [
      "https://reviews.webmd.com/drugs/drugreview-91491-cymbalta\n"
     ]
    },
    {
     "name": "stderr",
     "output_type": "stream",
     "text": [
      "100%|██████████| 235/235 [09:44<00:00,  2.49s/it]\n",
      " 97%|█████████▋| 127/131 [1:22:57<12:52, 193.19s/it]"
     ]
    },
    {
     "name": "stdout",
     "output_type": "stream",
     "text": [
      "https://reviews.webmd.com/drugs/drugreview-9159-endep-tablet\n"
     ]
    },
    {
     "name": "stderr",
     "output_type": "stream",
     "text": [
      "100%|██████████| 2/2 [00:04<00:00,  2.08s/it]\n",
      " 98%|█████████▊| 128/131 [1:23:04<06:52, 137.45s/it]"
     ]
    },
    {
     "name": "stdout",
     "output_type": "stream",
     "text": [
      "https://reviews.webmd.com/drugs/drugreview-92783-niravam-tablet-disintegrating\n"
     ]
    },
    {
     "name": "stderr",
     "output_type": "stream",
     "text": [
      "100%|██████████| 2/2 [00:03<00:00,  1.89s/it]\n",
      " 98%|█████████▊| 129/131 [1:23:11<03:16, 98.39s/it] "
     ]
    },
    {
     "name": "stdout",
     "output_type": "stream",
     "text": [
      "https://reviews.webmd.com/drugs/drugreview-9353-nardil\n"
     ]
    },
    {
     "name": "stderr",
     "output_type": "stream",
     "text": [
      "100%|██████████| 6/6 [00:12<00:00,  2.11s/it]\n",
      " 99%|█████████▉| 130/131 [1:23:28<01:13, 73.91s/it]"
     ]
    },
    {
     "name": "stdout",
     "output_type": "stream",
     "text": [
      "https://reviews.webmd.com/drugs/drugreview-9824-xanax\n"
     ]
    },
    {
     "name": "stderr",
     "output_type": "stream",
     "text": [
      "100%|██████████| 148/148 [05:44<00:00,  2.33s/it]\n",
      "100%|██████████| 131/131 [1:29:17<00:00, 40.90s/it] \n"
     ]
    }
   ],
   "source": [
    "#all drugs\n",
    "for review_url in tqdm(review_urls):\n",
    "    response = requests.get(review_url, headers=headers)\n",
    "    if response.url == 'https://www.webmd.com/404':\n",
    "        print(f'skipping {review_url}: page not found')\n",
    "    else:\n",
    "        print(review_url)\n",
    "        reviews_df = crawl_reviews_pages(review_url, reviews_df)\n",
    "\n",
    "\n",
    "reviews_df.to_csv('../../data/datasets/depression_reviews.csv')\n"
   ]
  }
 ],
 "metadata": {
  "kernelspec": {
   "display_name": "rioxarray_env",
   "language": "python",
   "name": "python3"
  },
  "language_info": {
   "codemirror_mode": {
    "name": "ipython",
    "version": 3
   },
   "file_extension": ".py",
   "mimetype": "text/x-python",
   "name": "python",
   "nbconvert_exporter": "python",
   "pygments_lexer": "ipython3",
   "version": "3.9.18"
  }
 },
 "nbformat": 4,
 "nbformat_minor": 2
}
